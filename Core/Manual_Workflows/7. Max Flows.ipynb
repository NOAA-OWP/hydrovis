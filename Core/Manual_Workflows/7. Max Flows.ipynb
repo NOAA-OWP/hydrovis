{
 "cells": [
  {
   "cell_type": "code",
   "execution_count": null,
   "id": "4a0d7a85",
   "metadata": {},
   "outputs": [],
   "source": [
    "!pip install xarray"
   ]
  },
  {
   "cell_type": "code",
   "execution_count": 1,
   "id": "2a127fc4",
   "metadata": {},
   "outputs": [],
   "source": [
    "import os\n",
    "\n",
    "os.environ['MAX_FLOWS_BUCKET'] = \"hydrovis-ti-fim-us-east-1\"\n",
    "os.environ['CACHE_DAYS'] = \"30\"\n",
    "os.environ['INITIALIZE_PIPELINE_FUNCTION'] = \"test\""
   ]
  },
  {
   "cell_type": "code",
   "execution_count": 8,
   "id": "87205085",
   "metadata": {},
   "outputs": [],
   "source": [
    "import json\n",
    "import os\n",
    "from datetime import datetime, timedelta\n",
    "import xarray\n",
    "import pandas as pd\n",
    "import numpy as np\n",
    "import boto3\n",
    "import botocore\n",
    "import urllib.parse\n",
    "import time\n",
    "import requests\n",
    "\n",
    "from helper_functions.old_shared_funcs import get_configuration, check_s3_file_existence\n",
    "\n",
    "MAX_FLOWS_BUCKET = os.environ['MAX_FLOWS_BUCKET']\n",
    "CACHE_DAYS = os.environ['CACHE_DAYS']\n",
    "INITIALIZE_PIPELINE_FUNCTION = os.environ['INITIALIZE_PIPELINE_FUNCTION']\n",
    "\n",
    "\n",
    "def lambda_handler(event, context):\n",
    "    \"\"\"\n",
    "        The lambda handler is the function that is kicked off with the lambda. This function will take all the\n",
    "        forecast steps in the NWM configuration, calculate the max streamflow for each feature and then save the\n",
    "        output in S3\n",
    "\n",
    "        Args:\n",
    "            event(event object): An event is a JSON-formatted document that contains data for a Lambda function to\n",
    "                                 process\n",
    "            context(object): Provides methods and properties that provide information about the invocation, function,\n",
    "                             and runtime environment\n",
    "    \"\"\"\n",
    "    # parse the event to get the bucket and file that kicked off the lambda\n",
    "    print(\"Parsing key to get configuration\")\n",
    "    if \"Records\" in event:\n",
    "        message = json.loads(event[\"Records\"][0]['Sns']['Message'])\n",
    "        data_key = urllib.parse.unquote_plus(message[\"Records\"][0]['s3']['object']['key'], encoding='utf-8')\n",
    "        data_bucket = message[\"Records\"][0]['s3']['bucket']['name']\n",
    "    else:\n",
    "        data_key = event['data_key']\n",
    "        data_bucket = event['data_bucket']\n",
    "\n",
    "    if not check_s3_file_existence(data_bucket, data_key):\n",
    "        raise Exception(f\"{data_key} does not exist within {data_bucket}\")\n",
    "\n",
    "    max_flow_calcs = []  # Store max flows in list just in case multiplens needed\n",
    "    metadata = get_configuration(data_key, mrf_timestep=3)\n",
    "    configuration = metadata.get('configuration')\n",
    "    date = metadata.get('date')\n",
    "    hour = metadata.get('hour')\n",
    "    forecast_timestep = metadata.get('forecast_timestep')\n",
    "\n",
    "    # Setup an input files dictionary with the bucket\n",
    "    input_files = metadata.get('input_files')\n",
    "    files = []\n",
    "    s3_file_sets = []\n",
    "    for s3_key in input_files:\n",
    "        files.append({'bucket': data_bucket, 's3_key': s3_key})\n",
    "    s3_file_sets.append(files)\n",
    "\n",
    "    if \"medium_range\" in configuration:\n",
    "        configuration = \"medium_range\"\n",
    "\n",
    "    short_hand_config = configuration.replace(\"analysis_assim\", \"ana\").replace(\"short_range\", \"srf\").replace(\"medium_range\", \"mrf\")  # noqa\n",
    "    short_hand_config = short_hand_config.replace(\"hawaii\", \"hi\").replace(\"puertorico\", \"prvi\")\n",
    "    subset_config = None\n",
    "\n",
    "    if configuration == 'medium_range':\n",
    "        subset_config = f\"{int(int(forecast_timestep)/24)}day\"\n",
    "        short_hand_config = f\"{short_hand_config}_{subset_config}\"\n",
    "\n",
    "    max_flow_calcs.append(short_hand_config)  # Add the current configuration to calcs list.\n",
    "\n",
    "    if configuration == 'analysis_assim':\n",
    "        # Only perform max flows computation for analysis_assim when its the 00Z timestep\n",
    "        if hour != \"00\":\n",
    "            print(f\"{data_key} is not a file for 00Z so max flows will not be calculated\")\n",
    "            return\n",
    "        else:\n",
    "            max_flow_calcs = []  # If running ana, reset the calcs list and s3_file_sets list\n",
    "            s3_file_sets = []\n",
    "            days = [14]\n",
    "            for day in days:\n",
    "                files = []\n",
    "                previous_forecasts = day*24\n",
    "                metadata = get_configuration(data_key, previous_forecasts=previous_forecasts)\n",
    "                input_files = metadata.get('input_files')\n",
    "                print(len(input_files))\n",
    "                for s3_key in input_files:\n",
    "                    files.append({'bucket': data_bucket, 's3_key': s3_key})\n",
    "                s3_file_sets.append(files)\n",
    "                reference_time = metadata.get('reference_time')\n",
    "                subset_config = f\"{int(previous_forecasts/24)}day\"\n",
    "                short_hand_config = f\"ana_{subset_config}\"\n",
    "                max_flow_calcs.append(short_hand_config)\n",
    "\n",
    "    print(f\"Creating max flows file for {configuration} for {date}T{hour}:00:00Z\")\n",
    "\n",
    "    for n, max_flow_calc in enumerate(max_flow_calcs):\n",
    "        output_netcdf = f\"max_flows/{configuration}/{date}/{max_flow_calc}_{hour}_max_flows.nc\"\n",
    "\n",
    "        # Once the files exist, calculate the max flows\n",
    "        calculate_max_flows(s3_file_sets[n], output_netcdf)\n",
    "        print(f\"Successfully created max flows file for {configuration} for {date}T{hour}:00:00Z\")\n",
    "\n",
    "        # If max calcs will run more than once, remove duplicates and\n",
    "        # update the second set of input files to include the just created max file.\n",
    "        next = n+1\n",
    "        if len(s3_file_sets) > (next):\n",
    "            s3_file_sets[next] = [file_next for file_next in s3_file_sets[next] if file_next not in s3_file_sets[n]]\n",
    "            s3_file_sets[next].append({'bucket': MAX_FLOWS_BUCKET, 's3_key': output_netcdf})\n",
    "\n",
    "    print(\"Done\")\n",
    "\n",
    "\n",
    "def calculate_max_flows(s3_files, output_netcdf):\n",
    "    \"\"\"\n",
    "        Iterates through a times series of National Water Model (NWM) channel_rt output NetCDF files, and finds the\n",
    "        maximum flow of each NWM reach during this period.  Outputs a NetCDF file containing all NWM reaches and their\n",
    "        maximum flows.\n",
    "\n",
    "        Args:\n",
    "            data_bucket (str): S3 bucket name where the NWM files are stored\n",
    "            path_to_nwm_files (str or list): Path to the directory or list of the paths to the files to caclulate\n",
    "                                             maximum flows on.\n",
    "            output_netcdf (str): Key (path) of the max flows netcdf that will be store in S3\n",
    "    \"\"\"\n",
    "    print(\"--> Calculating flows\")\n",
    "    peak_flows, feature_ids = calc_max_flows(s3_files)  # creates a max flow array for all reaches\n",
    "\n",
    "    print(f\"--> Creating {output_netcdf}\")\n",
    "    write_netcdf(feature_ids, peak_flows, output_netcdf)  # creates the output NetCDF file\n",
    "\n",
    "\n",
    "def download_file(data_bucket, file_path, download_path):\n",
    "    s3 = boto3.client('s3')\n",
    "\n",
    "    try:\n",
    "        s3.download_file(data_bucket, file_path, download_path)\n",
    "        return True\n",
    "    except Exception as e:\n",
    "        print(f\"File failed to download {file_path}: {e}\")\n",
    "        return False\n",
    "\n",
    "\n",
    "def calc_max_flows(s3_files):\n",
    "    \"\"\"\n",
    "        Iterates through a times series of National Water Model (NWM) channel_rt output NetCDF files, and finds\n",
    "        the maximum flow of each NWM reach during this period.\n",
    "\n",
    "        Args:\n",
    "            data_bucket (str): S3 bucket name where the NWM files are stored\n",
    "            active_file_paths (str or list): Path to the directory or list of the paths to the files to caclulate\n",
    "                                             maximum flows on.\n",
    "\n",
    "        Returns:\n",
    "            max_flows (numpy array): Numpy array that contains all the max flows for each feature for the forecast\n",
    "            feature_ids (numpy array): Numpy array that contains all the features ids for the forecast\n",
    "    \"\"\"\n",
    "    max_flows = None\n",
    "    feature_ids = None\n",
    "    tries = 0\n",
    "\n",
    "    for file in s3_files:\n",
    "        data_bucket = file['bucket']\n",
    "        file_path = file['s3_key']\n",
    "        download_path = f'/tmp/{os.path.basename(file_path)}'\n",
    "        \n",
    "        if check_s3_file_existence(data_bucket, file_path):\n",
    "            print(f\"--> Downloading {file_path} to {download_path}\")\n",
    "            download_file(data_bucket, file_path, download_path)\n",
    "        else:\n",
    "            file_path = file_path.replace('common/data/model/com/nwm/prod', 'https://storage.googleapis.com/national-water-model')\n",
    "            print(f\"--> Downloading {file_path} to {download_path}\")\n",
    "            open(download_path, 'wb').write(requests.get(file_path, allow_redirects=True).content)\n",
    "\n",
    "        with xarray.open_dataset(download_path) as ds:\n",
    "            temp_flows = ds['streamflow'].values  # imports the streamflow values from each file\n",
    "            if max_flows is None:\n",
    "                max_flows = temp_flows\n",
    "            if feature_ids is None:\n",
    "                feature_ids = ds['feature_id'].values\n",
    "\n",
    "        print(f\"--> Removing {download_path}\")\n",
    "        os.remove(download_path)\n",
    "\n",
    "        # compares the streamflow values in each file with those stored in the max_flows array, and keeps the\n",
    "        # maximum value for each reach\n",
    "        max_flows = np.maximum(max_flows, temp_flows)\n",
    "\n",
    "    return max_flows, feature_ids\n",
    "\n",
    "def write_netcdf(feature_ids, peak_flows, output_netcdf):\n",
    "    \"\"\"\n",
    "        Iterates through a times series of National Water Model (NWM) channel_rt output NetCDF files, and finds the\n",
    "        maximum flow of each NWM reach during this period.\n",
    "\n",
    "        Args:\n",
    "            feature_ids (numpy array): Numpy array that contains all the features ids for the forecast\n",
    "            peak_flows (numpy array): Numpy array that contains all the max flows for each feature for the forecast\n",
    "            output_netcdf (str or list): Key (path) of the max flows netcdf that will be store in S3\n",
    "    \"\"\"\n",
    "    s3 = boto3.client('s3')\n",
    "\n",
    "    tmp_netcdf = '/tmp/max_flows.nc'\n",
    "\n",
    "    # Create a dataframe from the feature ids and streamflow\n",
    "    df = pd.DataFrame(feature_ids, columns=['feature_id']).set_index('feature_id')\n",
    "    df['streamflow'] = peak_flows\n",
    "    df['streamflow'] = df['streamflow'].fillna(0)\n",
    "\n",
    "    # Save the max flows dataframe to a loacl netcdf file\n",
    "    df.to_xarray().to_netcdf(tmp_netcdf)\n",
    "\n",
    "    # Upload the local max flows file to the S3 bucket\n",
    "    s3.upload_file(tmp_netcdf, MAX_FLOWS_BUCKET, output_netcdf, ExtraArgs={'ServerSideEncryption': 'aws:kms'})\n",
    "    os.remove(tmp_netcdf)"
   ]
  },
  {
   "cell_type": "code",
   "execution_count": 9,
   "id": "8b3f025b",
   "metadata": {
    "scrolled": true
   },
   "outputs": [
    {
     "name": "stdout",
     "output_type": "stream",
     "text": [
      "Parsing key to get configuration\n",
      "337\n",
      "Creating max flows file for analysis_assim for 20221007T00:00:00Z\n",
      "--> Calculating flows\n"
     ]
    },
    {
     "name": "stderr",
     "output_type": "stream",
     "text": [
      "/home/ec2-user/anaconda3/envs/python3/lib/python3.6/site-packages/boto3/compat.py:88: PythonDeprecationWarning: Boto3 will no longer support Python 3.6 starting May 30, 2022. To continue receiving service updates, bug fixes, and security updates please upgrade to Python 3.7 or later. More information can be found here: https://aws.amazon.com/blogs/developer/python-support-policy-updates-for-aws-sdks-and-tools/\n",
      "  warnings.warn(warning, PythonDeprecationWarning)\n"
     ]
    },
    {
     "name": "stdout",
     "output_type": "stream",
     "text": [
      "--> Downloading https://storage.googleapis.com/national-water-model/nwm.20220923/analysis_assim/nwm.t00z.analysis_assim.channel_rt.tm00.conus.nc to /tmp/nwm.t00z.analysis_assim.channel_rt.tm00.conus.nc\n",
      "--> Removing /tmp/nwm.t00z.analysis_assim.channel_rt.tm00.conus.nc\n",
      "--> Downloading https://storage.googleapis.com/national-water-model/nwm.20220923/analysis_assim/nwm.t01z.analysis_assim.channel_rt.tm00.conus.nc to /tmp/nwm.t01z.analysis_assim.channel_rt.tm00.conus.nc\n"
     ]
    },
    {
     "name": "stderr",
     "output_type": "stream",
     "text": [
      "/home/ec2-user/anaconda3/envs/python3/lib/python3.6/site-packages/boto3/compat.py:88: PythonDeprecationWarning: Boto3 will no longer support Python 3.6 starting May 30, 2022. To continue receiving service updates, bug fixes, and security updates please upgrade to Python 3.7 or later. More information can be found here: https://aws.amazon.com/blogs/developer/python-support-policy-updates-for-aws-sdks-and-tools/\n",
      "  warnings.warn(warning, PythonDeprecationWarning)\n"
     ]
    },
    {
     "name": "stdout",
     "output_type": "stream",
     "text": [
      "--> Removing /tmp/nwm.t01z.analysis_assim.channel_rt.tm00.conus.nc\n",
      "--> Downloading https://storage.googleapis.com/national-water-model/nwm.20220923/analysis_assim/nwm.t02z.analysis_assim.channel_rt.tm00.conus.nc to /tmp/nwm.t02z.analysis_assim.channel_rt.tm00.conus.nc\n"
     ]
    },
    {
     "name": "stderr",
     "output_type": "stream",
     "text": [
      "/home/ec2-user/anaconda3/envs/python3/lib/python3.6/site-packages/boto3/compat.py:88: PythonDeprecationWarning: Boto3 will no longer support Python 3.6 starting May 30, 2022. To continue receiving service updates, bug fixes, and security updates please upgrade to Python 3.7 or later. More information can be found here: https://aws.amazon.com/blogs/developer/python-support-policy-updates-for-aws-sdks-and-tools/\n",
      "  warnings.warn(warning, PythonDeprecationWarning)\n"
     ]
    },
    {
     "name": "stdout",
     "output_type": "stream",
     "text": [
      "--> Removing /tmp/nwm.t02z.analysis_assim.channel_rt.tm00.conus.nc\n",
      "--> Downloading https://storage.googleapis.com/national-water-model/nwm.20220923/analysis_assim/nwm.t03z.analysis_assim.channel_rt.tm00.conus.nc to /tmp/nwm.t03z.analysis_assim.channel_rt.tm00.conus.nc\n"
     ]
    },
    {
     "name": "stderr",
     "output_type": "stream",
     "text": [
      "/home/ec2-user/anaconda3/envs/python3/lib/python3.6/site-packages/boto3/compat.py:88: PythonDeprecationWarning: Boto3 will no longer support Python 3.6 starting May 30, 2022. To continue receiving service updates, bug fixes, and security updates please upgrade to Python 3.7 or later. More information can be found here: https://aws.amazon.com/blogs/developer/python-support-policy-updates-for-aws-sdks-and-tools/\n",
      "  warnings.warn(warning, PythonDeprecationWarning)\n"
     ]
    },
    {
     "name": "stdout",
     "output_type": "stream",
     "text": [
      "--> Removing /tmp/nwm.t03z.analysis_assim.channel_rt.tm00.conus.nc\n",
      "--> Downloading https://storage.googleapis.com/national-water-model/nwm.20220923/analysis_assim/nwm.t04z.analysis_assim.channel_rt.tm00.conus.nc to /tmp/nwm.t04z.analysis_assim.channel_rt.tm00.conus.nc\n"
     ]
    },
    {
     "name": "stderr",
     "output_type": "stream",
     "text": [
      "/home/ec2-user/anaconda3/envs/python3/lib/python3.6/site-packages/boto3/compat.py:88: PythonDeprecationWarning: Boto3 will no longer support Python 3.6 starting May 30, 2022. To continue receiving service updates, bug fixes, and security updates please upgrade to Python 3.7 or later. More information can be found here: https://aws.amazon.com/blogs/developer/python-support-policy-updates-for-aws-sdks-and-tools/\n",
      "  warnings.warn(warning, PythonDeprecationWarning)\n"
     ]
    },
    {
     "name": "stdout",
     "output_type": "stream",
     "text": [
      "--> Removing /tmp/nwm.t04z.analysis_assim.channel_rt.tm00.conus.nc\n",
      "--> Downloading https://storage.googleapis.com/national-water-model/nwm.20220923/analysis_assim/nwm.t05z.analysis_assim.channel_rt.tm00.conus.nc to /tmp/nwm.t05z.analysis_assim.channel_rt.tm00.conus.nc\n"
     ]
    },
    {
     "name": "stderr",
     "output_type": "stream",
     "text": [
      "/home/ec2-user/anaconda3/envs/python3/lib/python3.6/site-packages/boto3/compat.py:88: PythonDeprecationWarning: Boto3 will no longer support Python 3.6 starting May 30, 2022. To continue receiving service updates, bug fixes, and security updates please upgrade to Python 3.7 or later. More information can be found here: https://aws.amazon.com/blogs/developer/python-support-policy-updates-for-aws-sdks-and-tools/\n",
      "  warnings.warn(warning, PythonDeprecationWarning)\n"
     ]
    },
    {
     "name": "stdout",
     "output_type": "stream",
     "text": [
      "--> Removing /tmp/nwm.t05z.analysis_assim.channel_rt.tm00.conus.nc\n",
      "--> Downloading https://storage.googleapis.com/national-water-model/nwm.20220923/analysis_assim/nwm.t06z.analysis_assim.channel_rt.tm00.conus.nc to /tmp/nwm.t06z.analysis_assim.channel_rt.tm00.conus.nc\n"
     ]
    },
    {
     "name": "stderr",
     "output_type": "stream",
     "text": [
      "/home/ec2-user/anaconda3/envs/python3/lib/python3.6/site-packages/boto3/compat.py:88: PythonDeprecationWarning: Boto3 will no longer support Python 3.6 starting May 30, 2022. To continue receiving service updates, bug fixes, and security updates please upgrade to Python 3.7 or later. More information can be found here: https://aws.amazon.com/blogs/developer/python-support-policy-updates-for-aws-sdks-and-tools/\n",
      "  warnings.warn(warning, PythonDeprecationWarning)\n"
     ]
    },
    {
     "name": "stdout",
     "output_type": "stream",
     "text": [
      "--> Removing /tmp/nwm.t06z.analysis_assim.channel_rt.tm00.conus.nc\n",
      "--> Downloading https://storage.googleapis.com/national-water-model/nwm.20220923/analysis_assim/nwm.t07z.analysis_assim.channel_rt.tm00.conus.nc to /tmp/nwm.t07z.analysis_assim.channel_rt.tm00.conus.nc\n"
     ]
    },
    {
     "name": "stderr",
     "output_type": "stream",
     "text": [
      "/home/ec2-user/anaconda3/envs/python3/lib/python3.6/site-packages/boto3/compat.py:88: PythonDeprecationWarning: Boto3 will no longer support Python 3.6 starting May 30, 2022. To continue receiving service updates, bug fixes, and security updates please upgrade to Python 3.7 or later. More information can be found here: https://aws.amazon.com/blogs/developer/python-support-policy-updates-for-aws-sdks-and-tools/\n",
      "  warnings.warn(warning, PythonDeprecationWarning)\n"
     ]
    },
    {
     "name": "stdout",
     "output_type": "stream",
     "text": [
      "--> Removing /tmp/nwm.t07z.analysis_assim.channel_rt.tm00.conus.nc\n",
      "--> Downloading https://storage.googleapis.com/national-water-model/nwm.20220923/analysis_assim/nwm.t08z.analysis_assim.channel_rt.tm00.conus.nc to /tmp/nwm.t08z.analysis_assim.channel_rt.tm00.conus.nc\n"
     ]
    },
    {
     "name": "stderr",
     "output_type": "stream",
     "text": [
      "/home/ec2-user/anaconda3/envs/python3/lib/python3.6/site-packages/boto3/compat.py:88: PythonDeprecationWarning: Boto3 will no longer support Python 3.6 starting May 30, 2022. To continue receiving service updates, bug fixes, and security updates please upgrade to Python 3.7 or later. More information can be found here: https://aws.amazon.com/blogs/developer/python-support-policy-updates-for-aws-sdks-and-tools/\n",
      "  warnings.warn(warning, PythonDeprecationWarning)\n"
     ]
    },
    {
     "name": "stdout",
     "output_type": "stream",
     "text": [
      "--> Removing /tmp/nwm.t08z.analysis_assim.channel_rt.tm00.conus.nc\n",
      "--> Downloading https://storage.googleapis.com/national-water-model/nwm.20220923/analysis_assim/nwm.t09z.analysis_assim.channel_rt.tm00.conus.nc to /tmp/nwm.t09z.analysis_assim.channel_rt.tm00.conus.nc\n"
     ]
    },
    {
     "name": "stderr",
     "output_type": "stream",
     "text": [
      "/home/ec2-user/anaconda3/envs/python3/lib/python3.6/site-packages/boto3/compat.py:88: PythonDeprecationWarning: Boto3 will no longer support Python 3.6 starting May 30, 2022. To continue receiving service updates, bug fixes, and security updates please upgrade to Python 3.7 or later. More information can be found here: https://aws.amazon.com/blogs/developer/python-support-policy-updates-for-aws-sdks-and-tools/\n",
      "  warnings.warn(warning, PythonDeprecationWarning)\n"
     ]
    },
    {
     "name": "stdout",
     "output_type": "stream",
     "text": [
      "--> Removing /tmp/nwm.t09z.analysis_assim.channel_rt.tm00.conus.nc\n",
      "--> Downloading https://storage.googleapis.com/national-water-model/nwm.20220923/analysis_assim/nwm.t10z.analysis_assim.channel_rt.tm00.conus.nc to /tmp/nwm.t10z.analysis_assim.channel_rt.tm00.conus.nc\n"
     ]
    },
    {
     "name": "stderr",
     "output_type": "stream",
     "text": [
      "/home/ec2-user/anaconda3/envs/python3/lib/python3.6/site-packages/boto3/compat.py:88: PythonDeprecationWarning: Boto3 will no longer support Python 3.6 starting May 30, 2022. To continue receiving service updates, bug fixes, and security updates please upgrade to Python 3.7 or later. More information can be found here: https://aws.amazon.com/blogs/developer/python-support-policy-updates-for-aws-sdks-and-tools/\n",
      "  warnings.warn(warning, PythonDeprecationWarning)\n"
     ]
    },
    {
     "name": "stdout",
     "output_type": "stream",
     "text": [
      "--> Removing /tmp/nwm.t10z.analysis_assim.channel_rt.tm00.conus.nc\n",
      "--> Downloading https://storage.googleapis.com/national-water-model/nwm.20220923/analysis_assim/nwm.t11z.analysis_assim.channel_rt.tm00.conus.nc to /tmp/nwm.t11z.analysis_assim.channel_rt.tm00.conus.nc\n"
     ]
    },
    {
     "name": "stderr",
     "output_type": "stream",
     "text": [
      "/home/ec2-user/anaconda3/envs/python3/lib/python3.6/site-packages/boto3/compat.py:88: PythonDeprecationWarning: Boto3 will no longer support Python 3.6 starting May 30, 2022. To continue receiving service updates, bug fixes, and security updates please upgrade to Python 3.7 or later. More information can be found here: https://aws.amazon.com/blogs/developer/python-support-policy-updates-for-aws-sdks-and-tools/\n",
      "  warnings.warn(warning, PythonDeprecationWarning)\n"
     ]
    },
    {
     "name": "stdout",
     "output_type": "stream",
     "text": [
      "--> Removing /tmp/nwm.t11z.analysis_assim.channel_rt.tm00.conus.nc\n",
      "--> Downloading https://storage.googleapis.com/national-water-model/nwm.20220923/analysis_assim/nwm.t12z.analysis_assim.channel_rt.tm00.conus.nc to /tmp/nwm.t12z.analysis_assim.channel_rt.tm00.conus.nc\n"
     ]
    },
    {
     "name": "stderr",
     "output_type": "stream",
     "text": [
      "/home/ec2-user/anaconda3/envs/python3/lib/python3.6/site-packages/boto3/compat.py:88: PythonDeprecationWarning: Boto3 will no longer support Python 3.6 starting May 30, 2022. To continue receiving service updates, bug fixes, and security updates please upgrade to Python 3.7 or later. More information can be found here: https://aws.amazon.com/blogs/developer/python-support-policy-updates-for-aws-sdks-and-tools/\n",
      "  warnings.warn(warning, PythonDeprecationWarning)\n"
     ]
    },
    {
     "name": "stdout",
     "output_type": "stream",
     "text": [
      "--> Removing /tmp/nwm.t12z.analysis_assim.channel_rt.tm00.conus.nc\n",
      "--> Downloading https://storage.googleapis.com/national-water-model/nwm.20220923/analysis_assim/nwm.t13z.analysis_assim.channel_rt.tm00.conus.nc to /tmp/nwm.t13z.analysis_assim.channel_rt.tm00.conus.nc\n"
     ]
    },
    {
     "name": "stderr",
     "output_type": "stream",
     "text": [
      "/home/ec2-user/anaconda3/envs/python3/lib/python3.6/site-packages/boto3/compat.py:88: PythonDeprecationWarning: Boto3 will no longer support Python 3.6 starting May 30, 2022. To continue receiving service updates, bug fixes, and security updates please upgrade to Python 3.7 or later. More information can be found here: https://aws.amazon.com/blogs/developer/python-support-policy-updates-for-aws-sdks-and-tools/\n",
      "  warnings.warn(warning, PythonDeprecationWarning)\n"
     ]
    },
    {
     "name": "stdout",
     "output_type": "stream",
     "text": [
      "--> Removing /tmp/nwm.t13z.analysis_assim.channel_rt.tm00.conus.nc\n",
      "--> Downloading https://storage.googleapis.com/national-water-model/nwm.20220923/analysis_assim/nwm.t14z.analysis_assim.channel_rt.tm00.conus.nc to /tmp/nwm.t14z.analysis_assim.channel_rt.tm00.conus.nc\n"
     ]
    },
    {
     "name": "stderr",
     "output_type": "stream",
     "text": [
      "/home/ec2-user/anaconda3/envs/python3/lib/python3.6/site-packages/boto3/compat.py:88: PythonDeprecationWarning: Boto3 will no longer support Python 3.6 starting May 30, 2022. To continue receiving service updates, bug fixes, and security updates please upgrade to Python 3.7 or later. More information can be found here: https://aws.amazon.com/blogs/developer/python-support-policy-updates-for-aws-sdks-and-tools/\n",
      "  warnings.warn(warning, PythonDeprecationWarning)\n"
     ]
    },
    {
     "name": "stdout",
     "output_type": "stream",
     "text": [
      "--> Removing /tmp/nwm.t14z.analysis_assim.channel_rt.tm00.conus.nc\n",
      "--> Downloading https://storage.googleapis.com/national-water-model/nwm.20220923/analysis_assim/nwm.t15z.analysis_assim.channel_rt.tm00.conus.nc to /tmp/nwm.t15z.analysis_assim.channel_rt.tm00.conus.nc\n"
     ]
    },
    {
     "name": "stderr",
     "output_type": "stream",
     "text": [
      "/home/ec2-user/anaconda3/envs/python3/lib/python3.6/site-packages/boto3/compat.py:88: PythonDeprecationWarning: Boto3 will no longer support Python 3.6 starting May 30, 2022. To continue receiving service updates, bug fixes, and security updates please upgrade to Python 3.7 or later. More information can be found here: https://aws.amazon.com/blogs/developer/python-support-policy-updates-for-aws-sdks-and-tools/\n",
      "  warnings.warn(warning, PythonDeprecationWarning)\n"
     ]
    },
    {
     "name": "stdout",
     "output_type": "stream",
     "text": [
      "--> Removing /tmp/nwm.t15z.analysis_assim.channel_rt.tm00.conus.nc\n",
      "--> Downloading https://storage.googleapis.com/national-water-model/nwm.20220923/analysis_assim/nwm.t16z.analysis_assim.channel_rt.tm00.conus.nc to /tmp/nwm.t16z.analysis_assim.channel_rt.tm00.conus.nc\n"
     ]
    },
    {
     "name": "stderr",
     "output_type": "stream",
     "text": [
      "/home/ec2-user/anaconda3/envs/python3/lib/python3.6/site-packages/boto3/compat.py:88: PythonDeprecationWarning: Boto3 will no longer support Python 3.6 starting May 30, 2022. To continue receiving service updates, bug fixes, and security updates please upgrade to Python 3.7 or later. More information can be found here: https://aws.amazon.com/blogs/developer/python-support-policy-updates-for-aws-sdks-and-tools/\n",
      "  warnings.warn(warning, PythonDeprecationWarning)\n"
     ]
    },
    {
     "name": "stdout",
     "output_type": "stream",
     "text": [
      "--> Removing /tmp/nwm.t16z.analysis_assim.channel_rt.tm00.conus.nc\n",
      "--> Downloading https://storage.googleapis.com/national-water-model/nwm.20220923/analysis_assim/nwm.t17z.analysis_assim.channel_rt.tm00.conus.nc to /tmp/nwm.t17z.analysis_assim.channel_rt.tm00.conus.nc\n"
     ]
    },
    {
     "name": "stderr",
     "output_type": "stream",
     "text": [
      "/home/ec2-user/anaconda3/envs/python3/lib/python3.6/site-packages/boto3/compat.py:88: PythonDeprecationWarning: Boto3 will no longer support Python 3.6 starting May 30, 2022. To continue receiving service updates, bug fixes, and security updates please upgrade to Python 3.7 or later. More information can be found here: https://aws.amazon.com/blogs/developer/python-support-policy-updates-for-aws-sdks-and-tools/\n",
      "  warnings.warn(warning, PythonDeprecationWarning)\n"
     ]
    },
    {
     "name": "stdout",
     "output_type": "stream",
     "text": [
      "--> Removing /tmp/nwm.t17z.analysis_assim.channel_rt.tm00.conus.nc\n",
      "--> Downloading https://storage.googleapis.com/national-water-model/nwm.20220923/analysis_assim/nwm.t18z.analysis_assim.channel_rt.tm00.conus.nc to /tmp/nwm.t18z.analysis_assim.channel_rt.tm00.conus.nc\n"
     ]
    },
    {
     "name": "stderr",
     "output_type": "stream",
     "text": [
      "/home/ec2-user/anaconda3/envs/python3/lib/python3.6/site-packages/boto3/compat.py:88: PythonDeprecationWarning: Boto3 will no longer support Python 3.6 starting May 30, 2022. To continue receiving service updates, bug fixes, and security updates please upgrade to Python 3.7 or later. More information can be found here: https://aws.amazon.com/blogs/developer/python-support-policy-updates-for-aws-sdks-and-tools/\n",
      "  warnings.warn(warning, PythonDeprecationWarning)\n"
     ]
    },
    {
     "name": "stdout",
     "output_type": "stream",
     "text": [
      "--> Removing /tmp/nwm.t18z.analysis_assim.channel_rt.tm00.conus.nc\n"
     ]
    },
    {
     "name": "stderr",
     "output_type": "stream",
     "text": [
      "/home/ec2-user/anaconda3/envs/python3/lib/python3.6/site-packages/boto3/compat.py:88: PythonDeprecationWarning: Boto3 will no longer support Python 3.6 starting May 30, 2022. To continue receiving service updates, bug fixes, and security updates please upgrade to Python 3.7 or later. More information can be found here: https://aws.amazon.com/blogs/developer/python-support-policy-updates-for-aws-sdks-and-tools/\n",
      "  warnings.warn(warning, PythonDeprecationWarning)\n"
     ]
    },
    {
     "name": "stdout",
     "output_type": "stream",
     "text": [
      "--> Downloading https://storage.googleapis.com/national-water-model/nwm.20220923/analysis_assim/nwm.t19z.analysis_assim.channel_rt.tm00.conus.nc to /tmp/nwm.t19z.analysis_assim.channel_rt.tm00.conus.nc\n",
      "--> Removing /tmp/nwm.t19z.analysis_assim.channel_rt.tm00.conus.nc\n",
      "--> Downloading https://storage.googleapis.com/national-water-model/nwm.20220923/analysis_assim/nwm.t20z.analysis_assim.channel_rt.tm00.conus.nc to /tmp/nwm.t20z.analysis_assim.channel_rt.tm00.conus.nc\n"
     ]
    },
    {
     "name": "stderr",
     "output_type": "stream",
     "text": [
      "/home/ec2-user/anaconda3/envs/python3/lib/python3.6/site-packages/boto3/compat.py:88: PythonDeprecationWarning: Boto3 will no longer support Python 3.6 starting May 30, 2022. To continue receiving service updates, bug fixes, and security updates please upgrade to Python 3.7 or later. More information can be found here: https://aws.amazon.com/blogs/developer/python-support-policy-updates-for-aws-sdks-and-tools/\n",
      "  warnings.warn(warning, PythonDeprecationWarning)\n"
     ]
    },
    {
     "name": "stdout",
     "output_type": "stream",
     "text": [
      "--> Removing /tmp/nwm.t20z.analysis_assim.channel_rt.tm00.conus.nc\n",
      "--> Downloading https://storage.googleapis.com/national-water-model/nwm.20220923/analysis_assim/nwm.t21z.analysis_assim.channel_rt.tm00.conus.nc to /tmp/nwm.t21z.analysis_assim.channel_rt.tm00.conus.nc\n"
     ]
    },
    {
     "name": "stderr",
     "output_type": "stream",
     "text": [
      "/home/ec2-user/anaconda3/envs/python3/lib/python3.6/site-packages/boto3/compat.py:88: PythonDeprecationWarning: Boto3 will no longer support Python 3.6 starting May 30, 2022. To continue receiving service updates, bug fixes, and security updates please upgrade to Python 3.7 or later. More information can be found here: https://aws.amazon.com/blogs/developer/python-support-policy-updates-for-aws-sdks-and-tools/\n",
      "  warnings.warn(warning, PythonDeprecationWarning)\n"
     ]
    },
    {
     "name": "stdout",
     "output_type": "stream",
     "text": [
      "--> Removing /tmp/nwm.t21z.analysis_assim.channel_rt.tm00.conus.nc\n",
      "--> Downloading https://storage.googleapis.com/national-water-model/nwm.20220923/analysis_assim/nwm.t22z.analysis_assim.channel_rt.tm00.conus.nc to /tmp/nwm.t22z.analysis_assim.channel_rt.tm00.conus.nc\n"
     ]
    },
    {
     "name": "stderr",
     "output_type": "stream",
     "text": [
      "/home/ec2-user/anaconda3/envs/python3/lib/python3.6/site-packages/boto3/compat.py:88: PythonDeprecationWarning: Boto3 will no longer support Python 3.6 starting May 30, 2022. To continue receiving service updates, bug fixes, and security updates please upgrade to Python 3.7 or later. More information can be found here: https://aws.amazon.com/blogs/developer/python-support-policy-updates-for-aws-sdks-and-tools/\n",
      "  warnings.warn(warning, PythonDeprecationWarning)\n"
     ]
    },
    {
     "name": "stdout",
     "output_type": "stream",
     "text": [
      "--> Removing /tmp/nwm.t22z.analysis_assim.channel_rt.tm00.conus.nc\n",
      "--> Downloading https://storage.googleapis.com/national-water-model/nwm.20220923/analysis_assim/nwm.t23z.analysis_assim.channel_rt.tm00.conus.nc to /tmp/nwm.t23z.analysis_assim.channel_rt.tm00.conus.nc\n"
     ]
    },
    {
     "name": "stderr",
     "output_type": "stream",
     "text": [
      "/home/ec2-user/anaconda3/envs/python3/lib/python3.6/site-packages/boto3/compat.py:88: PythonDeprecationWarning: Boto3 will no longer support Python 3.6 starting May 30, 2022. To continue receiving service updates, bug fixes, and security updates please upgrade to Python 3.7 or later. More information can be found here: https://aws.amazon.com/blogs/developer/python-support-policy-updates-for-aws-sdks-and-tools/\n",
      "  warnings.warn(warning, PythonDeprecationWarning)\n"
     ]
    },
    {
     "name": "stdout",
     "output_type": "stream",
     "text": [
      "--> Removing /tmp/nwm.t23z.analysis_assim.channel_rt.tm00.conus.nc\n",
      "--> Downloading https://storage.googleapis.com/national-water-model/nwm.20220924/analysis_assim/nwm.t00z.analysis_assim.channel_rt.tm00.conus.nc to /tmp/nwm.t00z.analysis_assim.channel_rt.tm00.conus.nc\n"
     ]
    },
    {
     "name": "stderr",
     "output_type": "stream",
     "text": [
      "/home/ec2-user/anaconda3/envs/python3/lib/python3.6/site-packages/boto3/compat.py:88: PythonDeprecationWarning: Boto3 will no longer support Python 3.6 starting May 30, 2022. To continue receiving service updates, bug fixes, and security updates please upgrade to Python 3.7 or later. More information can be found here: https://aws.amazon.com/blogs/developer/python-support-policy-updates-for-aws-sdks-and-tools/\n",
      "  warnings.warn(warning, PythonDeprecationWarning)\n"
     ]
    },
    {
     "name": "stdout",
     "output_type": "stream",
     "text": [
      "--> Removing /tmp/nwm.t00z.analysis_assim.channel_rt.tm00.conus.nc\n",
      "--> Downloading https://storage.googleapis.com/national-water-model/nwm.20220924/analysis_assim/nwm.t01z.analysis_assim.channel_rt.tm00.conus.nc to /tmp/nwm.t01z.analysis_assim.channel_rt.tm00.conus.nc\n"
     ]
    },
    {
     "name": "stderr",
     "output_type": "stream",
     "text": [
      "/home/ec2-user/anaconda3/envs/python3/lib/python3.6/site-packages/boto3/compat.py:88: PythonDeprecationWarning: Boto3 will no longer support Python 3.6 starting May 30, 2022. To continue receiving service updates, bug fixes, and security updates please upgrade to Python 3.7 or later. More information can be found here: https://aws.amazon.com/blogs/developer/python-support-policy-updates-for-aws-sdks-and-tools/\n",
      "  warnings.warn(warning, PythonDeprecationWarning)\n"
     ]
    },
    {
     "name": "stdout",
     "output_type": "stream",
     "text": [
      "--> Removing /tmp/nwm.t01z.analysis_assim.channel_rt.tm00.conus.nc\n",
      "--> Downloading https://storage.googleapis.com/national-water-model/nwm.20220924/analysis_assim/nwm.t02z.analysis_assim.channel_rt.tm00.conus.nc to /tmp/nwm.t02z.analysis_assim.channel_rt.tm00.conus.nc\n"
     ]
    },
    {
     "name": "stderr",
     "output_type": "stream",
     "text": [
      "/home/ec2-user/anaconda3/envs/python3/lib/python3.6/site-packages/boto3/compat.py:88: PythonDeprecationWarning: Boto3 will no longer support Python 3.6 starting May 30, 2022. To continue receiving service updates, bug fixes, and security updates please upgrade to Python 3.7 or later. More information can be found here: https://aws.amazon.com/blogs/developer/python-support-policy-updates-for-aws-sdks-and-tools/\n",
      "  warnings.warn(warning, PythonDeprecationWarning)\n"
     ]
    },
    {
     "name": "stdout",
     "output_type": "stream",
     "text": [
      "--> Removing /tmp/nwm.t02z.analysis_assim.channel_rt.tm00.conus.nc\n",
      "--> Downloading https://storage.googleapis.com/national-water-model/nwm.20220924/analysis_assim/nwm.t03z.analysis_assim.channel_rt.tm00.conus.nc to /tmp/nwm.t03z.analysis_assim.channel_rt.tm00.conus.nc\n"
     ]
    },
    {
     "name": "stderr",
     "output_type": "stream",
     "text": [
      "/home/ec2-user/anaconda3/envs/python3/lib/python3.6/site-packages/boto3/compat.py:88: PythonDeprecationWarning: Boto3 will no longer support Python 3.6 starting May 30, 2022. To continue receiving service updates, bug fixes, and security updates please upgrade to Python 3.7 or later. More information can be found here: https://aws.amazon.com/blogs/developer/python-support-policy-updates-for-aws-sdks-and-tools/\n",
      "  warnings.warn(warning, PythonDeprecationWarning)\n"
     ]
    },
    {
     "name": "stdout",
     "output_type": "stream",
     "text": [
      "--> Removing /tmp/nwm.t03z.analysis_assim.channel_rt.tm00.conus.nc\n",
      "--> Downloading https://storage.googleapis.com/national-water-model/nwm.20220924/analysis_assim/nwm.t04z.analysis_assim.channel_rt.tm00.conus.nc to /tmp/nwm.t04z.analysis_assim.channel_rt.tm00.conus.nc\n"
     ]
    },
    {
     "name": "stderr",
     "output_type": "stream",
     "text": [
      "/home/ec2-user/anaconda3/envs/python3/lib/python3.6/site-packages/boto3/compat.py:88: PythonDeprecationWarning: Boto3 will no longer support Python 3.6 starting May 30, 2022. To continue receiving service updates, bug fixes, and security updates please upgrade to Python 3.7 or later. More information can be found here: https://aws.amazon.com/blogs/developer/python-support-policy-updates-for-aws-sdks-and-tools/\n",
      "  warnings.warn(warning, PythonDeprecationWarning)\n"
     ]
    },
    {
     "name": "stdout",
     "output_type": "stream",
     "text": [
      "--> Removing /tmp/nwm.t04z.analysis_assim.channel_rt.tm00.conus.nc\n",
      "--> Downloading https://storage.googleapis.com/national-water-model/nwm.20220924/analysis_assim/nwm.t05z.analysis_assim.channel_rt.tm00.conus.nc to /tmp/nwm.t05z.analysis_assim.channel_rt.tm00.conus.nc\n"
     ]
    },
    {
     "name": "stderr",
     "output_type": "stream",
     "text": [
      "/home/ec2-user/anaconda3/envs/python3/lib/python3.6/site-packages/boto3/compat.py:88: PythonDeprecationWarning: Boto3 will no longer support Python 3.6 starting May 30, 2022. To continue receiving service updates, bug fixes, and security updates please upgrade to Python 3.7 or later. More information can be found here: https://aws.amazon.com/blogs/developer/python-support-policy-updates-for-aws-sdks-and-tools/\n",
      "  warnings.warn(warning, PythonDeprecationWarning)\n"
     ]
    },
    {
     "name": "stdout",
     "output_type": "stream",
     "text": [
      "--> Removing /tmp/nwm.t05z.analysis_assim.channel_rt.tm00.conus.nc\n",
      "--> Downloading https://storage.googleapis.com/national-water-model/nwm.20220924/analysis_assim/nwm.t06z.analysis_assim.channel_rt.tm00.conus.nc to /tmp/nwm.t06z.analysis_assim.channel_rt.tm00.conus.nc\n"
     ]
    },
    {
     "name": "stderr",
     "output_type": "stream",
     "text": [
      "/home/ec2-user/anaconda3/envs/python3/lib/python3.6/site-packages/boto3/compat.py:88: PythonDeprecationWarning: Boto3 will no longer support Python 3.6 starting May 30, 2022. To continue receiving service updates, bug fixes, and security updates please upgrade to Python 3.7 or later. More information can be found here: https://aws.amazon.com/blogs/developer/python-support-policy-updates-for-aws-sdks-and-tools/\n",
      "  warnings.warn(warning, PythonDeprecationWarning)\n"
     ]
    },
    {
     "name": "stdout",
     "output_type": "stream",
     "text": [
      "--> Removing /tmp/nwm.t06z.analysis_assim.channel_rt.tm00.conus.nc\n",
      "--> Downloading https://storage.googleapis.com/national-water-model/nwm.20220924/analysis_assim/nwm.t07z.analysis_assim.channel_rt.tm00.conus.nc to /tmp/nwm.t07z.analysis_assim.channel_rt.tm00.conus.nc\n"
     ]
    },
    {
     "name": "stderr",
     "output_type": "stream",
     "text": [
      "/home/ec2-user/anaconda3/envs/python3/lib/python3.6/site-packages/boto3/compat.py:88: PythonDeprecationWarning: Boto3 will no longer support Python 3.6 starting May 30, 2022. To continue receiving service updates, bug fixes, and security updates please upgrade to Python 3.7 or later. More information can be found here: https://aws.amazon.com/blogs/developer/python-support-policy-updates-for-aws-sdks-and-tools/\n",
      "  warnings.warn(warning, PythonDeprecationWarning)\n"
     ]
    },
    {
     "name": "stdout",
     "output_type": "stream",
     "text": [
      "--> Removing /tmp/nwm.t07z.analysis_assim.channel_rt.tm00.conus.nc\n",
      "--> Downloading https://storage.googleapis.com/national-water-model/nwm.20220924/analysis_assim/nwm.t08z.analysis_assim.channel_rt.tm00.conus.nc to /tmp/nwm.t08z.analysis_assim.channel_rt.tm00.conus.nc\n"
     ]
    },
    {
     "name": "stderr",
     "output_type": "stream",
     "text": [
      "/home/ec2-user/anaconda3/envs/python3/lib/python3.6/site-packages/boto3/compat.py:88: PythonDeprecationWarning: Boto3 will no longer support Python 3.6 starting May 30, 2022. To continue receiving service updates, bug fixes, and security updates please upgrade to Python 3.7 or later. More information can be found here: https://aws.amazon.com/blogs/developer/python-support-policy-updates-for-aws-sdks-and-tools/\n",
      "  warnings.warn(warning, PythonDeprecationWarning)\n"
     ]
    },
    {
     "name": "stdout",
     "output_type": "stream",
     "text": [
      "--> Removing /tmp/nwm.t08z.analysis_assim.channel_rt.tm00.conus.nc\n",
      "--> Downloading https://storage.googleapis.com/national-water-model/nwm.20220924/analysis_assim/nwm.t09z.analysis_assim.channel_rt.tm00.conus.nc to /tmp/nwm.t09z.analysis_assim.channel_rt.tm00.conus.nc\n"
     ]
    },
    {
     "name": "stderr",
     "output_type": "stream",
     "text": [
      "/home/ec2-user/anaconda3/envs/python3/lib/python3.6/site-packages/boto3/compat.py:88: PythonDeprecationWarning: Boto3 will no longer support Python 3.6 starting May 30, 2022. To continue receiving service updates, bug fixes, and security updates please upgrade to Python 3.7 or later. More information can be found here: https://aws.amazon.com/blogs/developer/python-support-policy-updates-for-aws-sdks-and-tools/\n",
      "  warnings.warn(warning, PythonDeprecationWarning)\n"
     ]
    },
    {
     "name": "stdout",
     "output_type": "stream",
     "text": [
      "--> Removing /tmp/nwm.t09z.analysis_assim.channel_rt.tm00.conus.nc\n",
      "--> Downloading https://storage.googleapis.com/national-water-model/nwm.20220924/analysis_assim/nwm.t10z.analysis_assim.channel_rt.tm00.conus.nc to /tmp/nwm.t10z.analysis_assim.channel_rt.tm00.conus.nc\n"
     ]
    },
    {
     "name": "stderr",
     "output_type": "stream",
     "text": [
      "/home/ec2-user/anaconda3/envs/python3/lib/python3.6/site-packages/boto3/compat.py:88: PythonDeprecationWarning: Boto3 will no longer support Python 3.6 starting May 30, 2022. To continue receiving service updates, bug fixes, and security updates please upgrade to Python 3.7 or later. More information can be found here: https://aws.amazon.com/blogs/developer/python-support-policy-updates-for-aws-sdks-and-tools/\n",
      "  warnings.warn(warning, PythonDeprecationWarning)\n"
     ]
    },
    {
     "name": "stdout",
     "output_type": "stream",
     "text": [
      "--> Removing /tmp/nwm.t10z.analysis_assim.channel_rt.tm00.conus.nc\n",
      "--> Downloading https://storage.googleapis.com/national-water-model/nwm.20220924/analysis_assim/nwm.t11z.analysis_assim.channel_rt.tm00.conus.nc to /tmp/nwm.t11z.analysis_assim.channel_rt.tm00.conus.nc\n"
     ]
    },
    {
     "name": "stderr",
     "output_type": "stream",
     "text": [
      "/home/ec2-user/anaconda3/envs/python3/lib/python3.6/site-packages/boto3/compat.py:88: PythonDeprecationWarning: Boto3 will no longer support Python 3.6 starting May 30, 2022. To continue receiving service updates, bug fixes, and security updates please upgrade to Python 3.7 or later. More information can be found here: https://aws.amazon.com/blogs/developer/python-support-policy-updates-for-aws-sdks-and-tools/\n",
      "  warnings.warn(warning, PythonDeprecationWarning)\n"
     ]
    },
    {
     "name": "stdout",
     "output_type": "stream",
     "text": [
      "--> Removing /tmp/nwm.t11z.analysis_assim.channel_rt.tm00.conus.nc\n",
      "--> Downloading https://storage.googleapis.com/national-water-model/nwm.20220924/analysis_assim/nwm.t12z.analysis_assim.channel_rt.tm00.conus.nc to /tmp/nwm.t12z.analysis_assim.channel_rt.tm00.conus.nc\n"
     ]
    },
    {
     "name": "stderr",
     "output_type": "stream",
     "text": [
      "/home/ec2-user/anaconda3/envs/python3/lib/python3.6/site-packages/boto3/compat.py:88: PythonDeprecationWarning: Boto3 will no longer support Python 3.6 starting May 30, 2022. To continue receiving service updates, bug fixes, and security updates please upgrade to Python 3.7 or later. More information can be found here: https://aws.amazon.com/blogs/developer/python-support-policy-updates-for-aws-sdks-and-tools/\n",
      "  warnings.warn(warning, PythonDeprecationWarning)\n"
     ]
    },
    {
     "name": "stdout",
     "output_type": "stream",
     "text": [
      "--> Removing /tmp/nwm.t12z.analysis_assim.channel_rt.tm00.conus.nc\n",
      "--> Downloading https://storage.googleapis.com/national-water-model/nwm.20220924/analysis_assim/nwm.t13z.analysis_assim.channel_rt.tm00.conus.nc to /tmp/nwm.t13z.analysis_assim.channel_rt.tm00.conus.nc\n"
     ]
    },
    {
     "name": "stderr",
     "output_type": "stream",
     "text": [
      "/home/ec2-user/anaconda3/envs/python3/lib/python3.6/site-packages/boto3/compat.py:88: PythonDeprecationWarning: Boto3 will no longer support Python 3.6 starting May 30, 2022. To continue receiving service updates, bug fixes, and security updates please upgrade to Python 3.7 or later. More information can be found here: https://aws.amazon.com/blogs/developer/python-support-policy-updates-for-aws-sdks-and-tools/\n",
      "  warnings.warn(warning, PythonDeprecationWarning)\n"
     ]
    },
    {
     "name": "stdout",
     "output_type": "stream",
     "text": [
      "--> Removing /tmp/nwm.t13z.analysis_assim.channel_rt.tm00.conus.nc\n",
      "--> Downloading https://storage.googleapis.com/national-water-model/nwm.20220924/analysis_assim/nwm.t14z.analysis_assim.channel_rt.tm00.conus.nc to /tmp/nwm.t14z.analysis_assim.channel_rt.tm00.conus.nc\n"
     ]
    },
    {
     "name": "stderr",
     "output_type": "stream",
     "text": [
      "/home/ec2-user/anaconda3/envs/python3/lib/python3.6/site-packages/boto3/compat.py:88: PythonDeprecationWarning: Boto3 will no longer support Python 3.6 starting May 30, 2022. To continue receiving service updates, bug fixes, and security updates please upgrade to Python 3.7 or later. More information can be found here: https://aws.amazon.com/blogs/developer/python-support-policy-updates-for-aws-sdks-and-tools/\n",
      "  warnings.warn(warning, PythonDeprecationWarning)\n"
     ]
    },
    {
     "name": "stdout",
     "output_type": "stream",
     "text": [
      "--> Removing /tmp/nwm.t14z.analysis_assim.channel_rt.tm00.conus.nc\n",
      "--> Downloading https://storage.googleapis.com/national-water-model/nwm.20220924/analysis_assim/nwm.t15z.analysis_assim.channel_rt.tm00.conus.nc to /tmp/nwm.t15z.analysis_assim.channel_rt.tm00.conus.nc\n"
     ]
    },
    {
     "name": "stderr",
     "output_type": "stream",
     "text": [
      "/home/ec2-user/anaconda3/envs/python3/lib/python3.6/site-packages/boto3/compat.py:88: PythonDeprecationWarning: Boto3 will no longer support Python 3.6 starting May 30, 2022. To continue receiving service updates, bug fixes, and security updates please upgrade to Python 3.7 or later. More information can be found here: https://aws.amazon.com/blogs/developer/python-support-policy-updates-for-aws-sdks-and-tools/\n",
      "  warnings.warn(warning, PythonDeprecationWarning)\n"
     ]
    },
    {
     "name": "stdout",
     "output_type": "stream",
     "text": [
      "--> Removing /tmp/nwm.t15z.analysis_assim.channel_rt.tm00.conus.nc\n",
      "--> Downloading https://storage.googleapis.com/national-water-model/nwm.20220924/analysis_assim/nwm.t16z.analysis_assim.channel_rt.tm00.conus.nc to /tmp/nwm.t16z.analysis_assim.channel_rt.tm00.conus.nc\n"
     ]
    },
    {
     "name": "stderr",
     "output_type": "stream",
     "text": [
      "/home/ec2-user/anaconda3/envs/python3/lib/python3.6/site-packages/boto3/compat.py:88: PythonDeprecationWarning: Boto3 will no longer support Python 3.6 starting May 30, 2022. To continue receiving service updates, bug fixes, and security updates please upgrade to Python 3.7 or later. More information can be found here: https://aws.amazon.com/blogs/developer/python-support-policy-updates-for-aws-sdks-and-tools/\n",
      "  warnings.warn(warning, PythonDeprecationWarning)\n"
     ]
    },
    {
     "name": "stdout",
     "output_type": "stream",
     "text": [
      "--> Removing /tmp/nwm.t16z.analysis_assim.channel_rt.tm00.conus.nc\n",
      "--> Downloading https://storage.googleapis.com/national-water-model/nwm.20220924/analysis_assim/nwm.t17z.analysis_assim.channel_rt.tm00.conus.nc to /tmp/nwm.t17z.analysis_assim.channel_rt.tm00.conus.nc\n"
     ]
    },
    {
     "name": "stderr",
     "output_type": "stream",
     "text": [
      "/home/ec2-user/anaconda3/envs/python3/lib/python3.6/site-packages/boto3/compat.py:88: PythonDeprecationWarning: Boto3 will no longer support Python 3.6 starting May 30, 2022. To continue receiving service updates, bug fixes, and security updates please upgrade to Python 3.7 or later. More information can be found here: https://aws.amazon.com/blogs/developer/python-support-policy-updates-for-aws-sdks-and-tools/\n",
      "  warnings.warn(warning, PythonDeprecationWarning)\n"
     ]
    },
    {
     "name": "stdout",
     "output_type": "stream",
     "text": [
      "--> Removing /tmp/nwm.t17z.analysis_assim.channel_rt.tm00.conus.nc\n",
      "--> Downloading https://storage.googleapis.com/national-water-model/nwm.20220924/analysis_assim/nwm.t18z.analysis_assim.channel_rt.tm00.conus.nc to /tmp/nwm.t18z.analysis_assim.channel_rt.tm00.conus.nc\n"
     ]
    },
    {
     "name": "stderr",
     "output_type": "stream",
     "text": [
      "/home/ec2-user/anaconda3/envs/python3/lib/python3.6/site-packages/boto3/compat.py:88: PythonDeprecationWarning: Boto3 will no longer support Python 3.6 starting May 30, 2022. To continue receiving service updates, bug fixes, and security updates please upgrade to Python 3.7 or later. More information can be found here: https://aws.amazon.com/blogs/developer/python-support-policy-updates-for-aws-sdks-and-tools/\n",
      "  warnings.warn(warning, PythonDeprecationWarning)\n"
     ]
    },
    {
     "name": "stdout",
     "output_type": "stream",
     "text": [
      "--> Removing /tmp/nwm.t18z.analysis_assim.channel_rt.tm00.conus.nc\n",
      "--> Downloading https://storage.googleapis.com/national-water-model/nwm.20220924/analysis_assim/nwm.t19z.analysis_assim.channel_rt.tm00.conus.nc to /tmp/nwm.t19z.analysis_assim.channel_rt.tm00.conus.nc\n"
     ]
    },
    {
     "name": "stderr",
     "output_type": "stream",
     "text": [
      "/home/ec2-user/anaconda3/envs/python3/lib/python3.6/site-packages/boto3/compat.py:88: PythonDeprecationWarning: Boto3 will no longer support Python 3.6 starting May 30, 2022. To continue receiving service updates, bug fixes, and security updates please upgrade to Python 3.7 or later. More information can be found here: https://aws.amazon.com/blogs/developer/python-support-policy-updates-for-aws-sdks-and-tools/\n",
      "  warnings.warn(warning, PythonDeprecationWarning)\n"
     ]
    },
    {
     "name": "stdout",
     "output_type": "stream",
     "text": [
      "--> Removing /tmp/nwm.t19z.analysis_assim.channel_rt.tm00.conus.nc\n",
      "--> Downloading https://storage.googleapis.com/national-water-model/nwm.20220924/analysis_assim/nwm.t20z.analysis_assim.channel_rt.tm00.conus.nc to /tmp/nwm.t20z.analysis_assim.channel_rt.tm00.conus.nc\n"
     ]
    },
    {
     "name": "stderr",
     "output_type": "stream",
     "text": [
      "/home/ec2-user/anaconda3/envs/python3/lib/python3.6/site-packages/boto3/compat.py:88: PythonDeprecationWarning: Boto3 will no longer support Python 3.6 starting May 30, 2022. To continue receiving service updates, bug fixes, and security updates please upgrade to Python 3.7 or later. More information can be found here: https://aws.amazon.com/blogs/developer/python-support-policy-updates-for-aws-sdks-and-tools/\n",
      "  warnings.warn(warning, PythonDeprecationWarning)\n"
     ]
    },
    {
     "name": "stdout",
     "output_type": "stream",
     "text": [
      "--> Removing /tmp/nwm.t20z.analysis_assim.channel_rt.tm00.conus.nc\n",
      "--> Downloading https://storage.googleapis.com/national-water-model/nwm.20220924/analysis_assim/nwm.t21z.analysis_assim.channel_rt.tm00.conus.nc to /tmp/nwm.t21z.analysis_assim.channel_rt.tm00.conus.nc\n"
     ]
    },
    {
     "name": "stderr",
     "output_type": "stream",
     "text": [
      "/home/ec2-user/anaconda3/envs/python3/lib/python3.6/site-packages/boto3/compat.py:88: PythonDeprecationWarning: Boto3 will no longer support Python 3.6 starting May 30, 2022. To continue receiving service updates, bug fixes, and security updates please upgrade to Python 3.7 or later. More information can be found here: https://aws.amazon.com/blogs/developer/python-support-policy-updates-for-aws-sdks-and-tools/\n",
      "  warnings.warn(warning, PythonDeprecationWarning)\n"
     ]
    },
    {
     "name": "stdout",
     "output_type": "stream",
     "text": [
      "--> Removing /tmp/nwm.t21z.analysis_assim.channel_rt.tm00.conus.nc\n",
      "--> Downloading https://storage.googleapis.com/national-water-model/nwm.20220924/analysis_assim/nwm.t22z.analysis_assim.channel_rt.tm00.conus.nc to /tmp/nwm.t22z.analysis_assim.channel_rt.tm00.conus.nc\n"
     ]
    },
    {
     "name": "stderr",
     "output_type": "stream",
     "text": [
      "/home/ec2-user/anaconda3/envs/python3/lib/python3.6/site-packages/boto3/compat.py:88: PythonDeprecationWarning: Boto3 will no longer support Python 3.6 starting May 30, 2022. To continue receiving service updates, bug fixes, and security updates please upgrade to Python 3.7 or later. More information can be found here: https://aws.amazon.com/blogs/developer/python-support-policy-updates-for-aws-sdks-and-tools/\n",
      "  warnings.warn(warning, PythonDeprecationWarning)\n"
     ]
    },
    {
     "name": "stdout",
     "output_type": "stream",
     "text": [
      "--> Removing /tmp/nwm.t22z.analysis_assim.channel_rt.tm00.conus.nc\n",
      "--> Downloading https://storage.googleapis.com/national-water-model/nwm.20220924/analysis_assim/nwm.t23z.analysis_assim.channel_rt.tm00.conus.nc to /tmp/nwm.t23z.analysis_assim.channel_rt.tm00.conus.nc\n"
     ]
    },
    {
     "name": "stderr",
     "output_type": "stream",
     "text": [
      "/home/ec2-user/anaconda3/envs/python3/lib/python3.6/site-packages/boto3/compat.py:88: PythonDeprecationWarning: Boto3 will no longer support Python 3.6 starting May 30, 2022. To continue receiving service updates, bug fixes, and security updates please upgrade to Python 3.7 or later. More information can be found here: https://aws.amazon.com/blogs/developer/python-support-policy-updates-for-aws-sdks-and-tools/\n",
      "  warnings.warn(warning, PythonDeprecationWarning)\n"
     ]
    },
    {
     "name": "stdout",
     "output_type": "stream",
     "text": [
      "--> Removing /tmp/nwm.t23z.analysis_assim.channel_rt.tm00.conus.nc\n",
      "--> Downloading common/data/model/com/nwm/prod/nwm.20220925/analysis_assim/nwm.t00z.analysis_assim.channel_rt.tm00.conus.nc to /tmp/nwm.t00z.analysis_assim.channel_rt.tm00.conus.nc\n"
     ]
    },
    {
     "name": "stderr",
     "output_type": "stream",
     "text": [
      "/home/ec2-user/anaconda3/envs/python3/lib/python3.6/site-packages/boto3/compat.py:88: PythonDeprecationWarning: Boto3 will no longer support Python 3.6 starting May 30, 2022. To continue receiving service updates, bug fixes, and security updates please upgrade to Python 3.7 or later. More information can be found here: https://aws.amazon.com/blogs/developer/python-support-policy-updates-for-aws-sdks-and-tools/\n",
      "  warnings.warn(warning, PythonDeprecationWarning)\n"
     ]
    },
    {
     "name": "stdout",
     "output_type": "stream",
     "text": [
      "--> Removing /tmp/nwm.t00z.analysis_assim.channel_rt.tm00.conus.nc\n",
      "--> Downloading common/data/model/com/nwm/prod/nwm.20220925/analysis_assim/nwm.t01z.analysis_assim.channel_rt.tm00.conus.nc to /tmp/nwm.t01z.analysis_assim.channel_rt.tm00.conus.nc\n"
     ]
    },
    {
     "name": "stderr",
     "output_type": "stream",
     "text": [
      "/home/ec2-user/anaconda3/envs/python3/lib/python3.6/site-packages/boto3/compat.py:88: PythonDeprecationWarning: Boto3 will no longer support Python 3.6 starting May 30, 2022. To continue receiving service updates, bug fixes, and security updates please upgrade to Python 3.7 or later. More information can be found here: https://aws.amazon.com/blogs/developer/python-support-policy-updates-for-aws-sdks-and-tools/\n",
      "  warnings.warn(warning, PythonDeprecationWarning)\n"
     ]
    },
    {
     "name": "stdout",
     "output_type": "stream",
     "text": [
      "--> Removing /tmp/nwm.t01z.analysis_assim.channel_rt.tm00.conus.nc\n",
      "--> Downloading common/data/model/com/nwm/prod/nwm.20220925/analysis_assim/nwm.t02z.analysis_assim.channel_rt.tm00.conus.nc to /tmp/nwm.t02z.analysis_assim.channel_rt.tm00.conus.nc\n"
     ]
    },
    {
     "name": "stderr",
     "output_type": "stream",
     "text": [
      "/home/ec2-user/anaconda3/envs/python3/lib/python3.6/site-packages/boto3/compat.py:88: PythonDeprecationWarning: Boto3 will no longer support Python 3.6 starting May 30, 2022. To continue receiving service updates, bug fixes, and security updates please upgrade to Python 3.7 or later. More information can be found here: https://aws.amazon.com/blogs/developer/python-support-policy-updates-for-aws-sdks-and-tools/\n",
      "  warnings.warn(warning, PythonDeprecationWarning)\n"
     ]
    },
    {
     "name": "stdout",
     "output_type": "stream",
     "text": [
      "--> Removing /tmp/nwm.t02z.analysis_assim.channel_rt.tm00.conus.nc\n",
      "--> Downloading common/data/model/com/nwm/prod/nwm.20220925/analysis_assim/nwm.t03z.analysis_assim.channel_rt.tm00.conus.nc to /tmp/nwm.t03z.analysis_assim.channel_rt.tm00.conus.nc\n"
     ]
    },
    {
     "name": "stderr",
     "output_type": "stream",
     "text": [
      "/home/ec2-user/anaconda3/envs/python3/lib/python3.6/site-packages/boto3/compat.py:88: PythonDeprecationWarning: Boto3 will no longer support Python 3.6 starting May 30, 2022. To continue receiving service updates, bug fixes, and security updates please upgrade to Python 3.7 or later. More information can be found here: https://aws.amazon.com/blogs/developer/python-support-policy-updates-for-aws-sdks-and-tools/\n",
      "  warnings.warn(warning, PythonDeprecationWarning)\n"
     ]
    },
    {
     "name": "stdout",
     "output_type": "stream",
     "text": [
      "--> Removing /tmp/nwm.t03z.analysis_assim.channel_rt.tm00.conus.nc\n",
      "--> Downloading common/data/model/com/nwm/prod/nwm.20220925/analysis_assim/nwm.t04z.analysis_assim.channel_rt.tm00.conus.nc to /tmp/nwm.t04z.analysis_assim.channel_rt.tm00.conus.nc\n"
     ]
    },
    {
     "name": "stderr",
     "output_type": "stream",
     "text": [
      "/home/ec2-user/anaconda3/envs/python3/lib/python3.6/site-packages/boto3/compat.py:88: PythonDeprecationWarning: Boto3 will no longer support Python 3.6 starting May 30, 2022. To continue receiving service updates, bug fixes, and security updates please upgrade to Python 3.7 or later. More information can be found here: https://aws.amazon.com/blogs/developer/python-support-policy-updates-for-aws-sdks-and-tools/\n",
      "  warnings.warn(warning, PythonDeprecationWarning)\n"
     ]
    },
    {
     "name": "stdout",
     "output_type": "stream",
     "text": [
      "--> Removing /tmp/nwm.t04z.analysis_assim.channel_rt.tm00.conus.nc\n",
      "--> Downloading common/data/model/com/nwm/prod/nwm.20220925/analysis_assim/nwm.t05z.analysis_assim.channel_rt.tm00.conus.nc to /tmp/nwm.t05z.analysis_assim.channel_rt.tm00.conus.nc\n"
     ]
    },
    {
     "name": "stderr",
     "output_type": "stream",
     "text": [
      "/home/ec2-user/anaconda3/envs/python3/lib/python3.6/site-packages/boto3/compat.py:88: PythonDeprecationWarning: Boto3 will no longer support Python 3.6 starting May 30, 2022. To continue receiving service updates, bug fixes, and security updates please upgrade to Python 3.7 or later. More information can be found here: https://aws.amazon.com/blogs/developer/python-support-policy-updates-for-aws-sdks-and-tools/\n",
      "  warnings.warn(warning, PythonDeprecationWarning)\n"
     ]
    },
    {
     "name": "stdout",
     "output_type": "stream",
     "text": [
      "--> Removing /tmp/nwm.t05z.analysis_assim.channel_rt.tm00.conus.nc\n",
      "--> Downloading common/data/model/com/nwm/prod/nwm.20220925/analysis_assim/nwm.t06z.analysis_assim.channel_rt.tm00.conus.nc to /tmp/nwm.t06z.analysis_assim.channel_rt.tm00.conus.nc\n"
     ]
    },
    {
     "name": "stderr",
     "output_type": "stream",
     "text": [
      "/home/ec2-user/anaconda3/envs/python3/lib/python3.6/site-packages/boto3/compat.py:88: PythonDeprecationWarning: Boto3 will no longer support Python 3.6 starting May 30, 2022. To continue receiving service updates, bug fixes, and security updates please upgrade to Python 3.7 or later. More information can be found here: https://aws.amazon.com/blogs/developer/python-support-policy-updates-for-aws-sdks-and-tools/\n",
      "  warnings.warn(warning, PythonDeprecationWarning)\n"
     ]
    },
    {
     "name": "stdout",
     "output_type": "stream",
     "text": [
      "--> Removing /tmp/nwm.t06z.analysis_assim.channel_rt.tm00.conus.nc\n",
      "--> Downloading common/data/model/com/nwm/prod/nwm.20220925/analysis_assim/nwm.t07z.analysis_assim.channel_rt.tm00.conus.nc to /tmp/nwm.t07z.analysis_assim.channel_rt.tm00.conus.nc\n"
     ]
    },
    {
     "name": "stderr",
     "output_type": "stream",
     "text": [
      "/home/ec2-user/anaconda3/envs/python3/lib/python3.6/site-packages/boto3/compat.py:88: PythonDeprecationWarning: Boto3 will no longer support Python 3.6 starting May 30, 2022. To continue receiving service updates, bug fixes, and security updates please upgrade to Python 3.7 or later. More information can be found here: https://aws.amazon.com/blogs/developer/python-support-policy-updates-for-aws-sdks-and-tools/\n",
      "  warnings.warn(warning, PythonDeprecationWarning)\n"
     ]
    },
    {
     "name": "stdout",
     "output_type": "stream",
     "text": [
      "--> Removing /tmp/nwm.t07z.analysis_assim.channel_rt.tm00.conus.nc\n"
     ]
    },
    {
     "name": "stderr",
     "output_type": "stream",
     "text": [
      "/home/ec2-user/anaconda3/envs/python3/lib/python3.6/site-packages/boto3/compat.py:88: PythonDeprecationWarning: Boto3 will no longer support Python 3.6 starting May 30, 2022. To continue receiving service updates, bug fixes, and security updates please upgrade to Python 3.7 or later. More information can be found here: https://aws.amazon.com/blogs/developer/python-support-policy-updates-for-aws-sdks-and-tools/\n",
      "  warnings.warn(warning, PythonDeprecationWarning)\n"
     ]
    },
    {
     "name": "stdout",
     "output_type": "stream",
     "text": [
      "--> Downloading common/data/model/com/nwm/prod/nwm.20220925/analysis_assim/nwm.t08z.analysis_assim.channel_rt.tm00.conus.nc to /tmp/nwm.t08z.analysis_assim.channel_rt.tm00.conus.nc\n",
      "--> Removing /tmp/nwm.t08z.analysis_assim.channel_rt.tm00.conus.nc\n"
     ]
    },
    {
     "name": "stderr",
     "output_type": "stream",
     "text": [
      "/home/ec2-user/anaconda3/envs/python3/lib/python3.6/site-packages/boto3/compat.py:88: PythonDeprecationWarning: Boto3 will no longer support Python 3.6 starting May 30, 2022. To continue receiving service updates, bug fixes, and security updates please upgrade to Python 3.7 or later. More information can be found here: https://aws.amazon.com/blogs/developer/python-support-policy-updates-for-aws-sdks-and-tools/\n",
      "  warnings.warn(warning, PythonDeprecationWarning)\n"
     ]
    },
    {
     "name": "stdout",
     "output_type": "stream",
     "text": [
      "--> Downloading common/data/model/com/nwm/prod/nwm.20220925/analysis_assim/nwm.t09z.analysis_assim.channel_rt.tm00.conus.nc to /tmp/nwm.t09z.analysis_assim.channel_rt.tm00.conus.nc\n",
      "--> Removing /tmp/nwm.t09z.analysis_assim.channel_rt.tm00.conus.nc\n",
      "--> Downloading common/data/model/com/nwm/prod/nwm.20220925/analysis_assim/nwm.t10z.analysis_assim.channel_rt.tm00.conus.nc to /tmp/nwm.t10z.analysis_assim.channel_rt.tm00.conus.nc\n"
     ]
    },
    {
     "name": "stderr",
     "output_type": "stream",
     "text": [
      "/home/ec2-user/anaconda3/envs/python3/lib/python3.6/site-packages/boto3/compat.py:88: PythonDeprecationWarning: Boto3 will no longer support Python 3.6 starting May 30, 2022. To continue receiving service updates, bug fixes, and security updates please upgrade to Python 3.7 or later. More information can be found here: https://aws.amazon.com/blogs/developer/python-support-policy-updates-for-aws-sdks-and-tools/\n",
      "  warnings.warn(warning, PythonDeprecationWarning)\n"
     ]
    },
    {
     "name": "stdout",
     "output_type": "stream",
     "text": [
      "--> Removing /tmp/nwm.t10z.analysis_assim.channel_rt.tm00.conus.nc\n",
      "--> Downloading common/data/model/com/nwm/prod/nwm.20220925/analysis_assim/nwm.t11z.analysis_assim.channel_rt.tm00.conus.nc to /tmp/nwm.t11z.analysis_assim.channel_rt.tm00.conus.nc\n"
     ]
    },
    {
     "name": "stderr",
     "output_type": "stream",
     "text": [
      "/home/ec2-user/anaconda3/envs/python3/lib/python3.6/site-packages/boto3/compat.py:88: PythonDeprecationWarning: Boto3 will no longer support Python 3.6 starting May 30, 2022. To continue receiving service updates, bug fixes, and security updates please upgrade to Python 3.7 or later. More information can be found here: https://aws.amazon.com/blogs/developer/python-support-policy-updates-for-aws-sdks-and-tools/\n",
      "  warnings.warn(warning, PythonDeprecationWarning)\n"
     ]
    },
    {
     "name": "stdout",
     "output_type": "stream",
     "text": [
      "--> Removing /tmp/nwm.t11z.analysis_assim.channel_rt.tm00.conus.nc\n",
      "--> Downloading common/data/model/com/nwm/prod/nwm.20220925/analysis_assim/nwm.t12z.analysis_assim.channel_rt.tm00.conus.nc to /tmp/nwm.t12z.analysis_assim.channel_rt.tm00.conus.nc\n"
     ]
    },
    {
     "name": "stderr",
     "output_type": "stream",
     "text": [
      "/home/ec2-user/anaconda3/envs/python3/lib/python3.6/site-packages/boto3/compat.py:88: PythonDeprecationWarning: Boto3 will no longer support Python 3.6 starting May 30, 2022. To continue receiving service updates, bug fixes, and security updates please upgrade to Python 3.7 or later. More information can be found here: https://aws.amazon.com/blogs/developer/python-support-policy-updates-for-aws-sdks-and-tools/\n",
      "  warnings.warn(warning, PythonDeprecationWarning)\n"
     ]
    },
    {
     "name": "stdout",
     "output_type": "stream",
     "text": [
      "--> Removing /tmp/nwm.t12z.analysis_assim.channel_rt.tm00.conus.nc\n",
      "--> Downloading common/data/model/com/nwm/prod/nwm.20220925/analysis_assim/nwm.t13z.analysis_assim.channel_rt.tm00.conus.nc to /tmp/nwm.t13z.analysis_assim.channel_rt.tm00.conus.nc\n"
     ]
    },
    {
     "name": "stderr",
     "output_type": "stream",
     "text": [
      "/home/ec2-user/anaconda3/envs/python3/lib/python3.6/site-packages/boto3/compat.py:88: PythonDeprecationWarning: Boto3 will no longer support Python 3.6 starting May 30, 2022. To continue receiving service updates, bug fixes, and security updates please upgrade to Python 3.7 or later. More information can be found here: https://aws.amazon.com/blogs/developer/python-support-policy-updates-for-aws-sdks-and-tools/\n",
      "  warnings.warn(warning, PythonDeprecationWarning)\n"
     ]
    },
    {
     "name": "stdout",
     "output_type": "stream",
     "text": [
      "--> Removing /tmp/nwm.t13z.analysis_assim.channel_rt.tm00.conus.nc\n",
      "--> Downloading common/data/model/com/nwm/prod/nwm.20220925/analysis_assim/nwm.t14z.analysis_assim.channel_rt.tm00.conus.nc to /tmp/nwm.t14z.analysis_assim.channel_rt.tm00.conus.nc\n"
     ]
    },
    {
     "name": "stderr",
     "output_type": "stream",
     "text": [
      "/home/ec2-user/anaconda3/envs/python3/lib/python3.6/site-packages/boto3/compat.py:88: PythonDeprecationWarning: Boto3 will no longer support Python 3.6 starting May 30, 2022. To continue receiving service updates, bug fixes, and security updates please upgrade to Python 3.7 or later. More information can be found here: https://aws.amazon.com/blogs/developer/python-support-policy-updates-for-aws-sdks-and-tools/\n",
      "  warnings.warn(warning, PythonDeprecationWarning)\n"
     ]
    },
    {
     "name": "stdout",
     "output_type": "stream",
     "text": [
      "--> Removing /tmp/nwm.t14z.analysis_assim.channel_rt.tm00.conus.nc\n",
      "--> Downloading common/data/model/com/nwm/prod/nwm.20220925/analysis_assim/nwm.t15z.analysis_assim.channel_rt.tm00.conus.nc to /tmp/nwm.t15z.analysis_assim.channel_rt.tm00.conus.nc\n"
     ]
    },
    {
     "name": "stderr",
     "output_type": "stream",
     "text": [
      "/home/ec2-user/anaconda3/envs/python3/lib/python3.6/site-packages/boto3/compat.py:88: PythonDeprecationWarning: Boto3 will no longer support Python 3.6 starting May 30, 2022. To continue receiving service updates, bug fixes, and security updates please upgrade to Python 3.7 or later. More information can be found here: https://aws.amazon.com/blogs/developer/python-support-policy-updates-for-aws-sdks-and-tools/\n",
      "  warnings.warn(warning, PythonDeprecationWarning)\n"
     ]
    },
    {
     "name": "stdout",
     "output_type": "stream",
     "text": [
      "--> Removing /tmp/nwm.t15z.analysis_assim.channel_rt.tm00.conus.nc\n",
      "--> Downloading common/data/model/com/nwm/prod/nwm.20220925/analysis_assim/nwm.t16z.analysis_assim.channel_rt.tm00.conus.nc to /tmp/nwm.t16z.analysis_assim.channel_rt.tm00.conus.nc\n"
     ]
    },
    {
     "name": "stderr",
     "output_type": "stream",
     "text": [
      "/home/ec2-user/anaconda3/envs/python3/lib/python3.6/site-packages/boto3/compat.py:88: PythonDeprecationWarning: Boto3 will no longer support Python 3.6 starting May 30, 2022. To continue receiving service updates, bug fixes, and security updates please upgrade to Python 3.7 or later. More information can be found here: https://aws.amazon.com/blogs/developer/python-support-policy-updates-for-aws-sdks-and-tools/\n",
      "  warnings.warn(warning, PythonDeprecationWarning)\n"
     ]
    },
    {
     "name": "stdout",
     "output_type": "stream",
     "text": [
      "--> Removing /tmp/nwm.t16z.analysis_assim.channel_rt.tm00.conus.nc\n",
      "--> Downloading common/data/model/com/nwm/prod/nwm.20220925/analysis_assim/nwm.t17z.analysis_assim.channel_rt.tm00.conus.nc to /tmp/nwm.t17z.analysis_assim.channel_rt.tm00.conus.nc\n"
     ]
    },
    {
     "name": "stderr",
     "output_type": "stream",
     "text": [
      "/home/ec2-user/anaconda3/envs/python3/lib/python3.6/site-packages/boto3/compat.py:88: PythonDeprecationWarning: Boto3 will no longer support Python 3.6 starting May 30, 2022. To continue receiving service updates, bug fixes, and security updates please upgrade to Python 3.7 or later. More information can be found here: https://aws.amazon.com/blogs/developer/python-support-policy-updates-for-aws-sdks-and-tools/\n",
      "  warnings.warn(warning, PythonDeprecationWarning)\n"
     ]
    },
    {
     "name": "stdout",
     "output_type": "stream",
     "text": [
      "--> Removing /tmp/nwm.t17z.analysis_assim.channel_rt.tm00.conus.nc\n",
      "--> Downloading common/data/model/com/nwm/prod/nwm.20220925/analysis_assim/nwm.t18z.analysis_assim.channel_rt.tm00.conus.nc to /tmp/nwm.t18z.analysis_assim.channel_rt.tm00.conus.nc\n"
     ]
    },
    {
     "name": "stderr",
     "output_type": "stream",
     "text": [
      "/home/ec2-user/anaconda3/envs/python3/lib/python3.6/site-packages/boto3/compat.py:88: PythonDeprecationWarning: Boto3 will no longer support Python 3.6 starting May 30, 2022. To continue receiving service updates, bug fixes, and security updates please upgrade to Python 3.7 or later. More information can be found here: https://aws.amazon.com/blogs/developer/python-support-policy-updates-for-aws-sdks-and-tools/\n",
      "  warnings.warn(warning, PythonDeprecationWarning)\n"
     ]
    },
    {
     "name": "stdout",
     "output_type": "stream",
     "text": [
      "--> Removing /tmp/nwm.t18z.analysis_assim.channel_rt.tm00.conus.nc\n",
      "--> Downloading common/data/model/com/nwm/prod/nwm.20220925/analysis_assim/nwm.t19z.analysis_assim.channel_rt.tm00.conus.nc to /tmp/nwm.t19z.analysis_assim.channel_rt.tm00.conus.nc\n"
     ]
    },
    {
     "name": "stderr",
     "output_type": "stream",
     "text": [
      "/home/ec2-user/anaconda3/envs/python3/lib/python3.6/site-packages/boto3/compat.py:88: PythonDeprecationWarning: Boto3 will no longer support Python 3.6 starting May 30, 2022. To continue receiving service updates, bug fixes, and security updates please upgrade to Python 3.7 or later. More information can be found here: https://aws.amazon.com/blogs/developer/python-support-policy-updates-for-aws-sdks-and-tools/\n",
      "  warnings.warn(warning, PythonDeprecationWarning)\n"
     ]
    },
    {
     "name": "stdout",
     "output_type": "stream",
     "text": [
      "--> Removing /tmp/nwm.t19z.analysis_assim.channel_rt.tm00.conus.nc\n",
      "--> Downloading common/data/model/com/nwm/prod/nwm.20220925/analysis_assim/nwm.t20z.analysis_assim.channel_rt.tm00.conus.nc to /tmp/nwm.t20z.analysis_assim.channel_rt.tm00.conus.nc\n"
     ]
    },
    {
     "name": "stderr",
     "output_type": "stream",
     "text": [
      "/home/ec2-user/anaconda3/envs/python3/lib/python3.6/site-packages/boto3/compat.py:88: PythonDeprecationWarning: Boto3 will no longer support Python 3.6 starting May 30, 2022. To continue receiving service updates, bug fixes, and security updates please upgrade to Python 3.7 or later. More information can be found here: https://aws.amazon.com/blogs/developer/python-support-policy-updates-for-aws-sdks-and-tools/\n",
      "  warnings.warn(warning, PythonDeprecationWarning)\n"
     ]
    },
    {
     "name": "stdout",
     "output_type": "stream",
     "text": [
      "--> Removing /tmp/nwm.t20z.analysis_assim.channel_rt.tm00.conus.nc\n",
      "--> Downloading common/data/model/com/nwm/prod/nwm.20220925/analysis_assim/nwm.t21z.analysis_assim.channel_rt.tm00.conus.nc to /tmp/nwm.t21z.analysis_assim.channel_rt.tm00.conus.nc\n"
     ]
    },
    {
     "name": "stderr",
     "output_type": "stream",
     "text": [
      "/home/ec2-user/anaconda3/envs/python3/lib/python3.6/site-packages/boto3/compat.py:88: PythonDeprecationWarning: Boto3 will no longer support Python 3.6 starting May 30, 2022. To continue receiving service updates, bug fixes, and security updates please upgrade to Python 3.7 or later. More information can be found here: https://aws.amazon.com/blogs/developer/python-support-policy-updates-for-aws-sdks-and-tools/\n",
      "  warnings.warn(warning, PythonDeprecationWarning)\n"
     ]
    },
    {
     "name": "stdout",
     "output_type": "stream",
     "text": [
      "--> Removing /tmp/nwm.t21z.analysis_assim.channel_rt.tm00.conus.nc\n",
      "--> Downloading common/data/model/com/nwm/prod/nwm.20220925/analysis_assim/nwm.t22z.analysis_assim.channel_rt.tm00.conus.nc to /tmp/nwm.t22z.analysis_assim.channel_rt.tm00.conus.nc\n"
     ]
    },
    {
     "name": "stderr",
     "output_type": "stream",
     "text": [
      "/home/ec2-user/anaconda3/envs/python3/lib/python3.6/site-packages/boto3/compat.py:88: PythonDeprecationWarning: Boto3 will no longer support Python 3.6 starting May 30, 2022. To continue receiving service updates, bug fixes, and security updates please upgrade to Python 3.7 or later. More information can be found here: https://aws.amazon.com/blogs/developer/python-support-policy-updates-for-aws-sdks-and-tools/\n",
      "  warnings.warn(warning, PythonDeprecationWarning)\n"
     ]
    },
    {
     "name": "stdout",
     "output_type": "stream",
     "text": [
      "--> Removing /tmp/nwm.t22z.analysis_assim.channel_rt.tm00.conus.nc\n",
      "--> Downloading common/data/model/com/nwm/prod/nwm.20220925/analysis_assim/nwm.t23z.analysis_assim.channel_rt.tm00.conus.nc to /tmp/nwm.t23z.analysis_assim.channel_rt.tm00.conus.nc\n"
     ]
    },
    {
     "name": "stderr",
     "output_type": "stream",
     "text": [
      "/home/ec2-user/anaconda3/envs/python3/lib/python3.6/site-packages/boto3/compat.py:88: PythonDeprecationWarning: Boto3 will no longer support Python 3.6 starting May 30, 2022. To continue receiving service updates, bug fixes, and security updates please upgrade to Python 3.7 or later. More information can be found here: https://aws.amazon.com/blogs/developer/python-support-policy-updates-for-aws-sdks-and-tools/\n",
      "  warnings.warn(warning, PythonDeprecationWarning)\n"
     ]
    },
    {
     "name": "stdout",
     "output_type": "stream",
     "text": [
      "--> Removing /tmp/nwm.t23z.analysis_assim.channel_rt.tm00.conus.nc\n",
      "--> Downloading common/data/model/com/nwm/prod/nwm.20220926/analysis_assim/nwm.t00z.analysis_assim.channel_rt.tm00.conus.nc to /tmp/nwm.t00z.analysis_assim.channel_rt.tm00.conus.nc\n"
     ]
    },
    {
     "name": "stderr",
     "output_type": "stream",
     "text": [
      "/home/ec2-user/anaconda3/envs/python3/lib/python3.6/site-packages/boto3/compat.py:88: PythonDeprecationWarning: Boto3 will no longer support Python 3.6 starting May 30, 2022. To continue receiving service updates, bug fixes, and security updates please upgrade to Python 3.7 or later. More information can be found here: https://aws.amazon.com/blogs/developer/python-support-policy-updates-for-aws-sdks-and-tools/\n",
      "  warnings.warn(warning, PythonDeprecationWarning)\n"
     ]
    },
    {
     "name": "stdout",
     "output_type": "stream",
     "text": [
      "--> Removing /tmp/nwm.t00z.analysis_assim.channel_rt.tm00.conus.nc\n",
      "--> Downloading common/data/model/com/nwm/prod/nwm.20220926/analysis_assim/nwm.t01z.analysis_assim.channel_rt.tm00.conus.nc to /tmp/nwm.t01z.analysis_assim.channel_rt.tm00.conus.nc\n"
     ]
    },
    {
     "name": "stderr",
     "output_type": "stream",
     "text": [
      "/home/ec2-user/anaconda3/envs/python3/lib/python3.6/site-packages/boto3/compat.py:88: PythonDeprecationWarning: Boto3 will no longer support Python 3.6 starting May 30, 2022. To continue receiving service updates, bug fixes, and security updates please upgrade to Python 3.7 or later. More information can be found here: https://aws.amazon.com/blogs/developer/python-support-policy-updates-for-aws-sdks-and-tools/\n",
      "  warnings.warn(warning, PythonDeprecationWarning)\n"
     ]
    },
    {
     "name": "stdout",
     "output_type": "stream",
     "text": [
      "--> Removing /tmp/nwm.t01z.analysis_assim.channel_rt.tm00.conus.nc\n",
      "--> Downloading common/data/model/com/nwm/prod/nwm.20220926/analysis_assim/nwm.t02z.analysis_assim.channel_rt.tm00.conus.nc to /tmp/nwm.t02z.analysis_assim.channel_rt.tm00.conus.nc\n"
     ]
    },
    {
     "name": "stderr",
     "output_type": "stream",
     "text": [
      "/home/ec2-user/anaconda3/envs/python3/lib/python3.6/site-packages/boto3/compat.py:88: PythonDeprecationWarning: Boto3 will no longer support Python 3.6 starting May 30, 2022. To continue receiving service updates, bug fixes, and security updates please upgrade to Python 3.7 or later. More information can be found here: https://aws.amazon.com/blogs/developer/python-support-policy-updates-for-aws-sdks-and-tools/\n",
      "  warnings.warn(warning, PythonDeprecationWarning)\n"
     ]
    },
    {
     "name": "stdout",
     "output_type": "stream",
     "text": [
      "--> Removing /tmp/nwm.t02z.analysis_assim.channel_rt.tm00.conus.nc\n",
      "--> Downloading common/data/model/com/nwm/prod/nwm.20220926/analysis_assim/nwm.t03z.analysis_assim.channel_rt.tm00.conus.nc to /tmp/nwm.t03z.analysis_assim.channel_rt.tm00.conus.nc\n"
     ]
    },
    {
     "name": "stderr",
     "output_type": "stream",
     "text": [
      "/home/ec2-user/anaconda3/envs/python3/lib/python3.6/site-packages/boto3/compat.py:88: PythonDeprecationWarning: Boto3 will no longer support Python 3.6 starting May 30, 2022. To continue receiving service updates, bug fixes, and security updates please upgrade to Python 3.7 or later. More information can be found here: https://aws.amazon.com/blogs/developer/python-support-policy-updates-for-aws-sdks-and-tools/\n",
      "  warnings.warn(warning, PythonDeprecationWarning)\n"
     ]
    },
    {
     "name": "stdout",
     "output_type": "stream",
     "text": [
      "--> Removing /tmp/nwm.t03z.analysis_assim.channel_rt.tm00.conus.nc\n",
      "--> Downloading common/data/model/com/nwm/prod/nwm.20220926/analysis_assim/nwm.t04z.analysis_assim.channel_rt.tm00.conus.nc to /tmp/nwm.t04z.analysis_assim.channel_rt.tm00.conus.nc\n"
     ]
    },
    {
     "name": "stderr",
     "output_type": "stream",
     "text": [
      "/home/ec2-user/anaconda3/envs/python3/lib/python3.6/site-packages/boto3/compat.py:88: PythonDeprecationWarning: Boto3 will no longer support Python 3.6 starting May 30, 2022. To continue receiving service updates, bug fixes, and security updates please upgrade to Python 3.7 or later. More information can be found here: https://aws.amazon.com/blogs/developer/python-support-policy-updates-for-aws-sdks-and-tools/\n",
      "  warnings.warn(warning, PythonDeprecationWarning)\n"
     ]
    },
    {
     "name": "stdout",
     "output_type": "stream",
     "text": [
      "--> Removing /tmp/nwm.t04z.analysis_assim.channel_rt.tm00.conus.nc\n",
      "--> Downloading common/data/model/com/nwm/prod/nwm.20220926/analysis_assim/nwm.t05z.analysis_assim.channel_rt.tm00.conus.nc to /tmp/nwm.t05z.analysis_assim.channel_rt.tm00.conus.nc\n"
     ]
    },
    {
     "name": "stderr",
     "output_type": "stream",
     "text": [
      "/home/ec2-user/anaconda3/envs/python3/lib/python3.6/site-packages/boto3/compat.py:88: PythonDeprecationWarning: Boto3 will no longer support Python 3.6 starting May 30, 2022. To continue receiving service updates, bug fixes, and security updates please upgrade to Python 3.7 or later. More information can be found here: https://aws.amazon.com/blogs/developer/python-support-policy-updates-for-aws-sdks-and-tools/\n",
      "  warnings.warn(warning, PythonDeprecationWarning)\n"
     ]
    },
    {
     "name": "stdout",
     "output_type": "stream",
     "text": [
      "--> Removing /tmp/nwm.t05z.analysis_assim.channel_rt.tm00.conus.nc\n",
      "--> Downloading common/data/model/com/nwm/prod/nwm.20220926/analysis_assim/nwm.t06z.analysis_assim.channel_rt.tm00.conus.nc to /tmp/nwm.t06z.analysis_assim.channel_rt.tm00.conus.nc\n"
     ]
    },
    {
     "name": "stderr",
     "output_type": "stream",
     "text": [
      "/home/ec2-user/anaconda3/envs/python3/lib/python3.6/site-packages/boto3/compat.py:88: PythonDeprecationWarning: Boto3 will no longer support Python 3.6 starting May 30, 2022. To continue receiving service updates, bug fixes, and security updates please upgrade to Python 3.7 or later. More information can be found here: https://aws.amazon.com/blogs/developer/python-support-policy-updates-for-aws-sdks-and-tools/\n",
      "  warnings.warn(warning, PythonDeprecationWarning)\n"
     ]
    },
    {
     "name": "stdout",
     "output_type": "stream",
     "text": [
      "--> Removing /tmp/nwm.t06z.analysis_assim.channel_rt.tm00.conus.nc\n",
      "--> Downloading common/data/model/com/nwm/prod/nwm.20220926/analysis_assim/nwm.t07z.analysis_assim.channel_rt.tm00.conus.nc to /tmp/nwm.t07z.analysis_assim.channel_rt.tm00.conus.nc\n"
     ]
    },
    {
     "name": "stderr",
     "output_type": "stream",
     "text": [
      "/home/ec2-user/anaconda3/envs/python3/lib/python3.6/site-packages/boto3/compat.py:88: PythonDeprecationWarning: Boto3 will no longer support Python 3.6 starting May 30, 2022. To continue receiving service updates, bug fixes, and security updates please upgrade to Python 3.7 or later. More information can be found here: https://aws.amazon.com/blogs/developer/python-support-policy-updates-for-aws-sdks-and-tools/\n",
      "  warnings.warn(warning, PythonDeprecationWarning)\n"
     ]
    },
    {
     "name": "stdout",
     "output_type": "stream",
     "text": [
      "--> Removing /tmp/nwm.t07z.analysis_assim.channel_rt.tm00.conus.nc\n",
      "--> Downloading common/data/model/com/nwm/prod/nwm.20220926/analysis_assim/nwm.t08z.analysis_assim.channel_rt.tm00.conus.nc to /tmp/nwm.t08z.analysis_assim.channel_rt.tm00.conus.nc\n"
     ]
    },
    {
     "name": "stderr",
     "output_type": "stream",
     "text": [
      "/home/ec2-user/anaconda3/envs/python3/lib/python3.6/site-packages/boto3/compat.py:88: PythonDeprecationWarning: Boto3 will no longer support Python 3.6 starting May 30, 2022. To continue receiving service updates, bug fixes, and security updates please upgrade to Python 3.7 or later. More information can be found here: https://aws.amazon.com/blogs/developer/python-support-policy-updates-for-aws-sdks-and-tools/\n",
      "  warnings.warn(warning, PythonDeprecationWarning)\n"
     ]
    },
    {
     "name": "stdout",
     "output_type": "stream",
     "text": [
      "--> Removing /tmp/nwm.t08z.analysis_assim.channel_rt.tm00.conus.nc\n",
      "--> Downloading common/data/model/com/nwm/prod/nwm.20220926/analysis_assim/nwm.t09z.analysis_assim.channel_rt.tm00.conus.nc to /tmp/nwm.t09z.analysis_assim.channel_rt.tm00.conus.nc\n"
     ]
    },
    {
     "name": "stderr",
     "output_type": "stream",
     "text": [
      "/home/ec2-user/anaconda3/envs/python3/lib/python3.6/site-packages/boto3/compat.py:88: PythonDeprecationWarning: Boto3 will no longer support Python 3.6 starting May 30, 2022. To continue receiving service updates, bug fixes, and security updates please upgrade to Python 3.7 or later. More information can be found here: https://aws.amazon.com/blogs/developer/python-support-policy-updates-for-aws-sdks-and-tools/\n",
      "  warnings.warn(warning, PythonDeprecationWarning)\n"
     ]
    },
    {
     "name": "stdout",
     "output_type": "stream",
     "text": [
      "--> Removing /tmp/nwm.t09z.analysis_assim.channel_rt.tm00.conus.nc\n",
      "--> Downloading common/data/model/com/nwm/prod/nwm.20220926/analysis_assim/nwm.t10z.analysis_assim.channel_rt.tm00.conus.nc to /tmp/nwm.t10z.analysis_assim.channel_rt.tm00.conus.nc\n"
     ]
    },
    {
     "name": "stderr",
     "output_type": "stream",
     "text": [
      "/home/ec2-user/anaconda3/envs/python3/lib/python3.6/site-packages/boto3/compat.py:88: PythonDeprecationWarning: Boto3 will no longer support Python 3.6 starting May 30, 2022. To continue receiving service updates, bug fixes, and security updates please upgrade to Python 3.7 or later. More information can be found here: https://aws.amazon.com/blogs/developer/python-support-policy-updates-for-aws-sdks-and-tools/\n",
      "  warnings.warn(warning, PythonDeprecationWarning)\n"
     ]
    },
    {
     "name": "stdout",
     "output_type": "stream",
     "text": [
      "--> Removing /tmp/nwm.t10z.analysis_assim.channel_rt.tm00.conus.nc\n",
      "--> Downloading common/data/model/com/nwm/prod/nwm.20220926/analysis_assim/nwm.t11z.analysis_assim.channel_rt.tm00.conus.nc to /tmp/nwm.t11z.analysis_assim.channel_rt.tm00.conus.nc\n"
     ]
    },
    {
     "name": "stderr",
     "output_type": "stream",
     "text": [
      "/home/ec2-user/anaconda3/envs/python3/lib/python3.6/site-packages/boto3/compat.py:88: PythonDeprecationWarning: Boto3 will no longer support Python 3.6 starting May 30, 2022. To continue receiving service updates, bug fixes, and security updates please upgrade to Python 3.7 or later. More information can be found here: https://aws.amazon.com/blogs/developer/python-support-policy-updates-for-aws-sdks-and-tools/\n",
      "  warnings.warn(warning, PythonDeprecationWarning)\n"
     ]
    },
    {
     "name": "stdout",
     "output_type": "stream",
     "text": [
      "--> Removing /tmp/nwm.t11z.analysis_assim.channel_rt.tm00.conus.nc\n",
      "--> Downloading common/data/model/com/nwm/prod/nwm.20220926/analysis_assim/nwm.t12z.analysis_assim.channel_rt.tm00.conus.nc to /tmp/nwm.t12z.analysis_assim.channel_rt.tm00.conus.nc\n"
     ]
    },
    {
     "name": "stderr",
     "output_type": "stream",
     "text": [
      "/home/ec2-user/anaconda3/envs/python3/lib/python3.6/site-packages/boto3/compat.py:88: PythonDeprecationWarning: Boto3 will no longer support Python 3.6 starting May 30, 2022. To continue receiving service updates, bug fixes, and security updates please upgrade to Python 3.7 or later. More information can be found here: https://aws.amazon.com/blogs/developer/python-support-policy-updates-for-aws-sdks-and-tools/\n",
      "  warnings.warn(warning, PythonDeprecationWarning)\n"
     ]
    },
    {
     "name": "stdout",
     "output_type": "stream",
     "text": [
      "--> Removing /tmp/nwm.t12z.analysis_assim.channel_rt.tm00.conus.nc\n",
      "--> Downloading common/data/model/com/nwm/prod/nwm.20220926/analysis_assim/nwm.t13z.analysis_assim.channel_rt.tm00.conus.nc to /tmp/nwm.t13z.analysis_assim.channel_rt.tm00.conus.nc\n"
     ]
    },
    {
     "name": "stderr",
     "output_type": "stream",
     "text": [
      "/home/ec2-user/anaconda3/envs/python3/lib/python3.6/site-packages/boto3/compat.py:88: PythonDeprecationWarning: Boto3 will no longer support Python 3.6 starting May 30, 2022. To continue receiving service updates, bug fixes, and security updates please upgrade to Python 3.7 or later. More information can be found here: https://aws.amazon.com/blogs/developer/python-support-policy-updates-for-aws-sdks-and-tools/\n",
      "  warnings.warn(warning, PythonDeprecationWarning)\n"
     ]
    },
    {
     "name": "stdout",
     "output_type": "stream",
     "text": [
      "--> Removing /tmp/nwm.t13z.analysis_assim.channel_rt.tm00.conus.nc\n",
      "--> Downloading common/data/model/com/nwm/prod/nwm.20220926/analysis_assim/nwm.t14z.analysis_assim.channel_rt.tm00.conus.nc to /tmp/nwm.t14z.analysis_assim.channel_rt.tm00.conus.nc\n"
     ]
    },
    {
     "name": "stderr",
     "output_type": "stream",
     "text": [
      "/home/ec2-user/anaconda3/envs/python3/lib/python3.6/site-packages/boto3/compat.py:88: PythonDeprecationWarning: Boto3 will no longer support Python 3.6 starting May 30, 2022. To continue receiving service updates, bug fixes, and security updates please upgrade to Python 3.7 or later. More information can be found here: https://aws.amazon.com/blogs/developer/python-support-policy-updates-for-aws-sdks-and-tools/\n",
      "  warnings.warn(warning, PythonDeprecationWarning)\n"
     ]
    },
    {
     "name": "stdout",
     "output_type": "stream",
     "text": [
      "--> Removing /tmp/nwm.t14z.analysis_assim.channel_rt.tm00.conus.nc\n",
      "--> Downloading common/data/model/com/nwm/prod/nwm.20220926/analysis_assim/nwm.t15z.analysis_assim.channel_rt.tm00.conus.nc to /tmp/nwm.t15z.analysis_assim.channel_rt.tm00.conus.nc\n"
     ]
    },
    {
     "name": "stderr",
     "output_type": "stream",
     "text": [
      "/home/ec2-user/anaconda3/envs/python3/lib/python3.6/site-packages/boto3/compat.py:88: PythonDeprecationWarning: Boto3 will no longer support Python 3.6 starting May 30, 2022. To continue receiving service updates, bug fixes, and security updates please upgrade to Python 3.7 or later. More information can be found here: https://aws.amazon.com/blogs/developer/python-support-policy-updates-for-aws-sdks-and-tools/\n",
      "  warnings.warn(warning, PythonDeprecationWarning)\n"
     ]
    },
    {
     "name": "stdout",
     "output_type": "stream",
     "text": [
      "--> Removing /tmp/nwm.t15z.analysis_assim.channel_rt.tm00.conus.nc\n",
      "--> Downloading common/data/model/com/nwm/prod/nwm.20220926/analysis_assim/nwm.t16z.analysis_assim.channel_rt.tm00.conus.nc to /tmp/nwm.t16z.analysis_assim.channel_rt.tm00.conus.nc\n"
     ]
    },
    {
     "name": "stderr",
     "output_type": "stream",
     "text": [
      "/home/ec2-user/anaconda3/envs/python3/lib/python3.6/site-packages/boto3/compat.py:88: PythonDeprecationWarning: Boto3 will no longer support Python 3.6 starting May 30, 2022. To continue receiving service updates, bug fixes, and security updates please upgrade to Python 3.7 or later. More information can be found here: https://aws.amazon.com/blogs/developer/python-support-policy-updates-for-aws-sdks-and-tools/\n",
      "  warnings.warn(warning, PythonDeprecationWarning)\n"
     ]
    },
    {
     "name": "stdout",
     "output_type": "stream",
     "text": [
      "--> Removing /tmp/nwm.t16z.analysis_assim.channel_rt.tm00.conus.nc\n",
      "--> Downloading common/data/model/com/nwm/prod/nwm.20220926/analysis_assim/nwm.t17z.analysis_assim.channel_rt.tm00.conus.nc to /tmp/nwm.t17z.analysis_assim.channel_rt.tm00.conus.nc\n"
     ]
    },
    {
     "name": "stderr",
     "output_type": "stream",
     "text": [
      "/home/ec2-user/anaconda3/envs/python3/lib/python3.6/site-packages/boto3/compat.py:88: PythonDeprecationWarning: Boto3 will no longer support Python 3.6 starting May 30, 2022. To continue receiving service updates, bug fixes, and security updates please upgrade to Python 3.7 or later. More information can be found here: https://aws.amazon.com/blogs/developer/python-support-policy-updates-for-aws-sdks-and-tools/\n",
      "  warnings.warn(warning, PythonDeprecationWarning)\n"
     ]
    },
    {
     "name": "stdout",
     "output_type": "stream",
     "text": [
      "--> Removing /tmp/nwm.t17z.analysis_assim.channel_rt.tm00.conus.nc\n",
      "--> Downloading common/data/model/com/nwm/prod/nwm.20220926/analysis_assim/nwm.t18z.analysis_assim.channel_rt.tm00.conus.nc to /tmp/nwm.t18z.analysis_assim.channel_rt.tm00.conus.nc\n"
     ]
    },
    {
     "name": "stderr",
     "output_type": "stream",
     "text": [
      "/home/ec2-user/anaconda3/envs/python3/lib/python3.6/site-packages/boto3/compat.py:88: PythonDeprecationWarning: Boto3 will no longer support Python 3.6 starting May 30, 2022. To continue receiving service updates, bug fixes, and security updates please upgrade to Python 3.7 or later. More information can be found here: https://aws.amazon.com/blogs/developer/python-support-policy-updates-for-aws-sdks-and-tools/\n",
      "  warnings.warn(warning, PythonDeprecationWarning)\n"
     ]
    },
    {
     "name": "stdout",
     "output_type": "stream",
     "text": [
      "--> Removing /tmp/nwm.t18z.analysis_assim.channel_rt.tm00.conus.nc\n",
      "--> Downloading common/data/model/com/nwm/prod/nwm.20220926/analysis_assim/nwm.t19z.analysis_assim.channel_rt.tm00.conus.nc to /tmp/nwm.t19z.analysis_assim.channel_rt.tm00.conus.nc\n"
     ]
    },
    {
     "name": "stderr",
     "output_type": "stream",
     "text": [
      "/home/ec2-user/anaconda3/envs/python3/lib/python3.6/site-packages/boto3/compat.py:88: PythonDeprecationWarning: Boto3 will no longer support Python 3.6 starting May 30, 2022. To continue receiving service updates, bug fixes, and security updates please upgrade to Python 3.7 or later. More information can be found here: https://aws.amazon.com/blogs/developer/python-support-policy-updates-for-aws-sdks-and-tools/\n",
      "  warnings.warn(warning, PythonDeprecationWarning)\n"
     ]
    },
    {
     "name": "stdout",
     "output_type": "stream",
     "text": [
      "--> Removing /tmp/nwm.t19z.analysis_assim.channel_rt.tm00.conus.nc\n",
      "--> Downloading common/data/model/com/nwm/prod/nwm.20220926/analysis_assim/nwm.t20z.analysis_assim.channel_rt.tm00.conus.nc to /tmp/nwm.t20z.analysis_assim.channel_rt.tm00.conus.nc\n"
     ]
    },
    {
     "name": "stderr",
     "output_type": "stream",
     "text": [
      "/home/ec2-user/anaconda3/envs/python3/lib/python3.6/site-packages/boto3/compat.py:88: PythonDeprecationWarning: Boto3 will no longer support Python 3.6 starting May 30, 2022. To continue receiving service updates, bug fixes, and security updates please upgrade to Python 3.7 or later. More information can be found here: https://aws.amazon.com/blogs/developer/python-support-policy-updates-for-aws-sdks-and-tools/\n",
      "  warnings.warn(warning, PythonDeprecationWarning)\n"
     ]
    },
    {
     "name": "stdout",
     "output_type": "stream",
     "text": [
      "--> Removing /tmp/nwm.t20z.analysis_assim.channel_rt.tm00.conus.nc\n"
     ]
    },
    {
     "name": "stderr",
     "output_type": "stream",
     "text": [
      "/home/ec2-user/anaconda3/envs/python3/lib/python3.6/site-packages/boto3/compat.py:88: PythonDeprecationWarning: Boto3 will no longer support Python 3.6 starting May 30, 2022. To continue receiving service updates, bug fixes, and security updates please upgrade to Python 3.7 or later. More information can be found here: https://aws.amazon.com/blogs/developer/python-support-policy-updates-for-aws-sdks-and-tools/\n",
      "  warnings.warn(warning, PythonDeprecationWarning)\n"
     ]
    },
    {
     "name": "stdout",
     "output_type": "stream",
     "text": [
      "--> Downloading common/data/model/com/nwm/prod/nwm.20220926/analysis_assim/nwm.t21z.analysis_assim.channel_rt.tm00.conus.nc to /tmp/nwm.t21z.analysis_assim.channel_rt.tm00.conus.nc\n",
      "--> Removing /tmp/nwm.t21z.analysis_assim.channel_rt.tm00.conus.nc\n"
     ]
    },
    {
     "name": "stderr",
     "output_type": "stream",
     "text": [
      "/home/ec2-user/anaconda3/envs/python3/lib/python3.6/site-packages/boto3/compat.py:88: PythonDeprecationWarning: Boto3 will no longer support Python 3.6 starting May 30, 2022. To continue receiving service updates, bug fixes, and security updates please upgrade to Python 3.7 or later. More information can be found here: https://aws.amazon.com/blogs/developer/python-support-policy-updates-for-aws-sdks-and-tools/\n",
      "  warnings.warn(warning, PythonDeprecationWarning)\n"
     ]
    },
    {
     "name": "stdout",
     "output_type": "stream",
     "text": [
      "--> Downloading common/data/model/com/nwm/prod/nwm.20220926/analysis_assim/nwm.t22z.analysis_assim.channel_rt.tm00.conus.nc to /tmp/nwm.t22z.analysis_assim.channel_rt.tm00.conus.nc\n",
      "--> Removing /tmp/nwm.t22z.analysis_assim.channel_rt.tm00.conus.nc\n",
      "--> Downloading common/data/model/com/nwm/prod/nwm.20220926/analysis_assim/nwm.t23z.analysis_assim.channel_rt.tm00.conus.nc to /tmp/nwm.t23z.analysis_assim.channel_rt.tm00.conus.nc\n"
     ]
    },
    {
     "name": "stderr",
     "output_type": "stream",
     "text": [
      "/home/ec2-user/anaconda3/envs/python3/lib/python3.6/site-packages/boto3/compat.py:88: PythonDeprecationWarning: Boto3 will no longer support Python 3.6 starting May 30, 2022. To continue receiving service updates, bug fixes, and security updates please upgrade to Python 3.7 or later. More information can be found here: https://aws.amazon.com/blogs/developer/python-support-policy-updates-for-aws-sdks-and-tools/\n",
      "  warnings.warn(warning, PythonDeprecationWarning)\n"
     ]
    },
    {
     "name": "stdout",
     "output_type": "stream",
     "text": [
      "--> Removing /tmp/nwm.t23z.analysis_assim.channel_rt.tm00.conus.nc\n",
      "--> Downloading common/data/model/com/nwm/prod/nwm.20220927/analysis_assim/nwm.t00z.analysis_assim.channel_rt.tm00.conus.nc to /tmp/nwm.t00z.analysis_assim.channel_rt.tm00.conus.nc\n"
     ]
    },
    {
     "name": "stderr",
     "output_type": "stream",
     "text": [
      "/home/ec2-user/anaconda3/envs/python3/lib/python3.6/site-packages/boto3/compat.py:88: PythonDeprecationWarning: Boto3 will no longer support Python 3.6 starting May 30, 2022. To continue receiving service updates, bug fixes, and security updates please upgrade to Python 3.7 or later. More information can be found here: https://aws.amazon.com/blogs/developer/python-support-policy-updates-for-aws-sdks-and-tools/\n",
      "  warnings.warn(warning, PythonDeprecationWarning)\n"
     ]
    },
    {
     "name": "stdout",
     "output_type": "stream",
     "text": [
      "--> Removing /tmp/nwm.t00z.analysis_assim.channel_rt.tm00.conus.nc\n",
      "--> Downloading common/data/model/com/nwm/prod/nwm.20220927/analysis_assim/nwm.t01z.analysis_assim.channel_rt.tm00.conus.nc to /tmp/nwm.t01z.analysis_assim.channel_rt.tm00.conus.nc\n"
     ]
    },
    {
     "name": "stderr",
     "output_type": "stream",
     "text": [
      "/home/ec2-user/anaconda3/envs/python3/lib/python3.6/site-packages/boto3/compat.py:88: PythonDeprecationWarning: Boto3 will no longer support Python 3.6 starting May 30, 2022. To continue receiving service updates, bug fixes, and security updates please upgrade to Python 3.7 or later. More information can be found here: https://aws.amazon.com/blogs/developer/python-support-policy-updates-for-aws-sdks-and-tools/\n",
      "  warnings.warn(warning, PythonDeprecationWarning)\n"
     ]
    },
    {
     "name": "stdout",
     "output_type": "stream",
     "text": [
      "--> Removing /tmp/nwm.t01z.analysis_assim.channel_rt.tm00.conus.nc\n",
      "--> Downloading common/data/model/com/nwm/prod/nwm.20220927/analysis_assim/nwm.t02z.analysis_assim.channel_rt.tm00.conus.nc to /tmp/nwm.t02z.analysis_assim.channel_rt.tm00.conus.nc\n"
     ]
    },
    {
     "name": "stderr",
     "output_type": "stream",
     "text": [
      "/home/ec2-user/anaconda3/envs/python3/lib/python3.6/site-packages/boto3/compat.py:88: PythonDeprecationWarning: Boto3 will no longer support Python 3.6 starting May 30, 2022. To continue receiving service updates, bug fixes, and security updates please upgrade to Python 3.7 or later. More information can be found here: https://aws.amazon.com/blogs/developer/python-support-policy-updates-for-aws-sdks-and-tools/\n",
      "  warnings.warn(warning, PythonDeprecationWarning)\n"
     ]
    },
    {
     "name": "stdout",
     "output_type": "stream",
     "text": [
      "--> Removing /tmp/nwm.t02z.analysis_assim.channel_rt.tm00.conus.nc\n",
      "--> Downloading common/data/model/com/nwm/prod/nwm.20220927/analysis_assim/nwm.t03z.analysis_assim.channel_rt.tm00.conus.nc to /tmp/nwm.t03z.analysis_assim.channel_rt.tm00.conus.nc\n"
     ]
    },
    {
     "name": "stderr",
     "output_type": "stream",
     "text": [
      "/home/ec2-user/anaconda3/envs/python3/lib/python3.6/site-packages/boto3/compat.py:88: PythonDeprecationWarning: Boto3 will no longer support Python 3.6 starting May 30, 2022. To continue receiving service updates, bug fixes, and security updates please upgrade to Python 3.7 or later. More information can be found here: https://aws.amazon.com/blogs/developer/python-support-policy-updates-for-aws-sdks-and-tools/\n",
      "  warnings.warn(warning, PythonDeprecationWarning)\n"
     ]
    },
    {
     "name": "stdout",
     "output_type": "stream",
     "text": [
      "--> Removing /tmp/nwm.t03z.analysis_assim.channel_rt.tm00.conus.nc\n",
      "--> Downloading common/data/model/com/nwm/prod/nwm.20220927/analysis_assim/nwm.t04z.analysis_assim.channel_rt.tm00.conus.nc to /tmp/nwm.t04z.analysis_assim.channel_rt.tm00.conus.nc\n"
     ]
    },
    {
     "name": "stderr",
     "output_type": "stream",
     "text": [
      "/home/ec2-user/anaconda3/envs/python3/lib/python3.6/site-packages/boto3/compat.py:88: PythonDeprecationWarning: Boto3 will no longer support Python 3.6 starting May 30, 2022. To continue receiving service updates, bug fixes, and security updates please upgrade to Python 3.7 or later. More information can be found here: https://aws.amazon.com/blogs/developer/python-support-policy-updates-for-aws-sdks-and-tools/\n",
      "  warnings.warn(warning, PythonDeprecationWarning)\n"
     ]
    },
    {
     "name": "stdout",
     "output_type": "stream",
     "text": [
      "--> Removing /tmp/nwm.t04z.analysis_assim.channel_rt.tm00.conus.nc\n",
      "--> Downloading common/data/model/com/nwm/prod/nwm.20220927/analysis_assim/nwm.t05z.analysis_assim.channel_rt.tm00.conus.nc to /tmp/nwm.t05z.analysis_assim.channel_rt.tm00.conus.nc\n"
     ]
    },
    {
     "name": "stderr",
     "output_type": "stream",
     "text": [
      "/home/ec2-user/anaconda3/envs/python3/lib/python3.6/site-packages/boto3/compat.py:88: PythonDeprecationWarning: Boto3 will no longer support Python 3.6 starting May 30, 2022. To continue receiving service updates, bug fixes, and security updates please upgrade to Python 3.7 or later. More information can be found here: https://aws.amazon.com/blogs/developer/python-support-policy-updates-for-aws-sdks-and-tools/\n",
      "  warnings.warn(warning, PythonDeprecationWarning)\n"
     ]
    },
    {
     "name": "stdout",
     "output_type": "stream",
     "text": [
      "--> Removing /tmp/nwm.t05z.analysis_assim.channel_rt.tm00.conus.nc\n",
      "--> Downloading common/data/model/com/nwm/prod/nwm.20220927/analysis_assim/nwm.t06z.analysis_assim.channel_rt.tm00.conus.nc to /tmp/nwm.t06z.analysis_assim.channel_rt.tm00.conus.nc\n"
     ]
    },
    {
     "name": "stderr",
     "output_type": "stream",
     "text": [
      "/home/ec2-user/anaconda3/envs/python3/lib/python3.6/site-packages/boto3/compat.py:88: PythonDeprecationWarning: Boto3 will no longer support Python 3.6 starting May 30, 2022. To continue receiving service updates, bug fixes, and security updates please upgrade to Python 3.7 or later. More information can be found here: https://aws.amazon.com/blogs/developer/python-support-policy-updates-for-aws-sdks-and-tools/\n",
      "  warnings.warn(warning, PythonDeprecationWarning)\n"
     ]
    },
    {
     "name": "stdout",
     "output_type": "stream",
     "text": [
      "--> Removing /tmp/nwm.t06z.analysis_assim.channel_rt.tm00.conus.nc\n",
      "--> Downloading common/data/model/com/nwm/prod/nwm.20220927/analysis_assim/nwm.t07z.analysis_assim.channel_rt.tm00.conus.nc to /tmp/nwm.t07z.analysis_assim.channel_rt.tm00.conus.nc\n"
     ]
    },
    {
     "name": "stderr",
     "output_type": "stream",
     "text": [
      "/home/ec2-user/anaconda3/envs/python3/lib/python3.6/site-packages/boto3/compat.py:88: PythonDeprecationWarning: Boto3 will no longer support Python 3.6 starting May 30, 2022. To continue receiving service updates, bug fixes, and security updates please upgrade to Python 3.7 or later. More information can be found here: https://aws.amazon.com/blogs/developer/python-support-policy-updates-for-aws-sdks-and-tools/\n",
      "  warnings.warn(warning, PythonDeprecationWarning)\n"
     ]
    },
    {
     "name": "stdout",
     "output_type": "stream",
     "text": [
      "--> Removing /tmp/nwm.t07z.analysis_assim.channel_rt.tm00.conus.nc\n",
      "--> Downloading common/data/model/com/nwm/prod/nwm.20220927/analysis_assim/nwm.t08z.analysis_assim.channel_rt.tm00.conus.nc to /tmp/nwm.t08z.analysis_assim.channel_rt.tm00.conus.nc\n"
     ]
    },
    {
     "name": "stderr",
     "output_type": "stream",
     "text": [
      "/home/ec2-user/anaconda3/envs/python3/lib/python3.6/site-packages/boto3/compat.py:88: PythonDeprecationWarning: Boto3 will no longer support Python 3.6 starting May 30, 2022. To continue receiving service updates, bug fixes, and security updates please upgrade to Python 3.7 or later. More information can be found here: https://aws.amazon.com/blogs/developer/python-support-policy-updates-for-aws-sdks-and-tools/\n",
      "  warnings.warn(warning, PythonDeprecationWarning)\n"
     ]
    },
    {
     "name": "stdout",
     "output_type": "stream",
     "text": [
      "--> Removing /tmp/nwm.t08z.analysis_assim.channel_rt.tm00.conus.nc\n",
      "--> Downloading common/data/model/com/nwm/prod/nwm.20220927/analysis_assim/nwm.t09z.analysis_assim.channel_rt.tm00.conus.nc to /tmp/nwm.t09z.analysis_assim.channel_rt.tm00.conus.nc\n"
     ]
    },
    {
     "name": "stderr",
     "output_type": "stream",
     "text": [
      "/home/ec2-user/anaconda3/envs/python3/lib/python3.6/site-packages/boto3/compat.py:88: PythonDeprecationWarning: Boto3 will no longer support Python 3.6 starting May 30, 2022. To continue receiving service updates, bug fixes, and security updates please upgrade to Python 3.7 or later. More information can be found here: https://aws.amazon.com/blogs/developer/python-support-policy-updates-for-aws-sdks-and-tools/\n",
      "  warnings.warn(warning, PythonDeprecationWarning)\n"
     ]
    },
    {
     "name": "stdout",
     "output_type": "stream",
     "text": [
      "--> Removing /tmp/nwm.t09z.analysis_assim.channel_rt.tm00.conus.nc\n",
      "--> Downloading common/data/model/com/nwm/prod/nwm.20220927/analysis_assim/nwm.t10z.analysis_assim.channel_rt.tm00.conus.nc to /tmp/nwm.t10z.analysis_assim.channel_rt.tm00.conus.nc\n"
     ]
    },
    {
     "name": "stderr",
     "output_type": "stream",
     "text": [
      "/home/ec2-user/anaconda3/envs/python3/lib/python3.6/site-packages/boto3/compat.py:88: PythonDeprecationWarning: Boto3 will no longer support Python 3.6 starting May 30, 2022. To continue receiving service updates, bug fixes, and security updates please upgrade to Python 3.7 or later. More information can be found here: https://aws.amazon.com/blogs/developer/python-support-policy-updates-for-aws-sdks-and-tools/\n",
      "  warnings.warn(warning, PythonDeprecationWarning)\n"
     ]
    },
    {
     "name": "stdout",
     "output_type": "stream",
     "text": [
      "--> Removing /tmp/nwm.t10z.analysis_assim.channel_rt.tm00.conus.nc\n",
      "--> Downloading common/data/model/com/nwm/prod/nwm.20220927/analysis_assim/nwm.t11z.analysis_assim.channel_rt.tm00.conus.nc to /tmp/nwm.t11z.analysis_assim.channel_rt.tm00.conus.nc\n"
     ]
    },
    {
     "name": "stderr",
     "output_type": "stream",
     "text": [
      "/home/ec2-user/anaconda3/envs/python3/lib/python3.6/site-packages/boto3/compat.py:88: PythonDeprecationWarning: Boto3 will no longer support Python 3.6 starting May 30, 2022. To continue receiving service updates, bug fixes, and security updates please upgrade to Python 3.7 or later. More information can be found here: https://aws.amazon.com/blogs/developer/python-support-policy-updates-for-aws-sdks-and-tools/\n",
      "  warnings.warn(warning, PythonDeprecationWarning)\n"
     ]
    },
    {
     "name": "stdout",
     "output_type": "stream",
     "text": [
      "--> Removing /tmp/nwm.t11z.analysis_assim.channel_rt.tm00.conus.nc\n",
      "--> Downloading common/data/model/com/nwm/prod/nwm.20220927/analysis_assim/nwm.t12z.analysis_assim.channel_rt.tm00.conus.nc to /tmp/nwm.t12z.analysis_assim.channel_rt.tm00.conus.nc\n"
     ]
    },
    {
     "name": "stderr",
     "output_type": "stream",
     "text": [
      "/home/ec2-user/anaconda3/envs/python3/lib/python3.6/site-packages/boto3/compat.py:88: PythonDeprecationWarning: Boto3 will no longer support Python 3.6 starting May 30, 2022. To continue receiving service updates, bug fixes, and security updates please upgrade to Python 3.7 or later. More information can be found here: https://aws.amazon.com/blogs/developer/python-support-policy-updates-for-aws-sdks-and-tools/\n",
      "  warnings.warn(warning, PythonDeprecationWarning)\n"
     ]
    },
    {
     "name": "stdout",
     "output_type": "stream",
     "text": [
      "--> Removing /tmp/nwm.t12z.analysis_assim.channel_rt.tm00.conus.nc\n",
      "--> Downloading common/data/model/com/nwm/prod/nwm.20220927/analysis_assim/nwm.t13z.analysis_assim.channel_rt.tm00.conus.nc to /tmp/nwm.t13z.analysis_assim.channel_rt.tm00.conus.nc\n"
     ]
    },
    {
     "name": "stderr",
     "output_type": "stream",
     "text": [
      "/home/ec2-user/anaconda3/envs/python3/lib/python3.6/site-packages/boto3/compat.py:88: PythonDeprecationWarning: Boto3 will no longer support Python 3.6 starting May 30, 2022. To continue receiving service updates, bug fixes, and security updates please upgrade to Python 3.7 or later. More information can be found here: https://aws.amazon.com/blogs/developer/python-support-policy-updates-for-aws-sdks-and-tools/\n",
      "  warnings.warn(warning, PythonDeprecationWarning)\n"
     ]
    },
    {
     "name": "stdout",
     "output_type": "stream",
     "text": [
      "--> Removing /tmp/nwm.t13z.analysis_assim.channel_rt.tm00.conus.nc\n",
      "--> Downloading common/data/model/com/nwm/prod/nwm.20220927/analysis_assim/nwm.t14z.analysis_assim.channel_rt.tm00.conus.nc to /tmp/nwm.t14z.analysis_assim.channel_rt.tm00.conus.nc\n"
     ]
    },
    {
     "name": "stderr",
     "output_type": "stream",
     "text": [
      "/home/ec2-user/anaconda3/envs/python3/lib/python3.6/site-packages/boto3/compat.py:88: PythonDeprecationWarning: Boto3 will no longer support Python 3.6 starting May 30, 2022. To continue receiving service updates, bug fixes, and security updates please upgrade to Python 3.7 or later. More information can be found here: https://aws.amazon.com/blogs/developer/python-support-policy-updates-for-aws-sdks-and-tools/\n",
      "  warnings.warn(warning, PythonDeprecationWarning)\n"
     ]
    },
    {
     "name": "stdout",
     "output_type": "stream",
     "text": [
      "--> Removing /tmp/nwm.t14z.analysis_assim.channel_rt.tm00.conus.nc\n",
      "--> Downloading common/data/model/com/nwm/prod/nwm.20220927/analysis_assim/nwm.t15z.analysis_assim.channel_rt.tm00.conus.nc to /tmp/nwm.t15z.analysis_assim.channel_rt.tm00.conus.nc\n"
     ]
    },
    {
     "name": "stderr",
     "output_type": "stream",
     "text": [
      "/home/ec2-user/anaconda3/envs/python3/lib/python3.6/site-packages/boto3/compat.py:88: PythonDeprecationWarning: Boto3 will no longer support Python 3.6 starting May 30, 2022. To continue receiving service updates, bug fixes, and security updates please upgrade to Python 3.7 or later. More information can be found here: https://aws.amazon.com/blogs/developer/python-support-policy-updates-for-aws-sdks-and-tools/\n",
      "  warnings.warn(warning, PythonDeprecationWarning)\n"
     ]
    },
    {
     "name": "stdout",
     "output_type": "stream",
     "text": [
      "--> Removing /tmp/nwm.t15z.analysis_assim.channel_rt.tm00.conus.nc\n",
      "--> Downloading common/data/model/com/nwm/prod/nwm.20220927/analysis_assim/nwm.t16z.analysis_assim.channel_rt.tm00.conus.nc to /tmp/nwm.t16z.analysis_assim.channel_rt.tm00.conus.nc\n"
     ]
    },
    {
     "name": "stderr",
     "output_type": "stream",
     "text": [
      "/home/ec2-user/anaconda3/envs/python3/lib/python3.6/site-packages/boto3/compat.py:88: PythonDeprecationWarning: Boto3 will no longer support Python 3.6 starting May 30, 2022. To continue receiving service updates, bug fixes, and security updates please upgrade to Python 3.7 or later. More information can be found here: https://aws.amazon.com/blogs/developer/python-support-policy-updates-for-aws-sdks-and-tools/\n",
      "  warnings.warn(warning, PythonDeprecationWarning)\n"
     ]
    },
    {
     "name": "stdout",
     "output_type": "stream",
     "text": [
      "--> Removing /tmp/nwm.t16z.analysis_assim.channel_rt.tm00.conus.nc\n",
      "--> Downloading common/data/model/com/nwm/prod/nwm.20220927/analysis_assim/nwm.t17z.analysis_assim.channel_rt.tm00.conus.nc to /tmp/nwm.t17z.analysis_assim.channel_rt.tm00.conus.nc\n"
     ]
    },
    {
     "name": "stderr",
     "output_type": "stream",
     "text": [
      "/home/ec2-user/anaconda3/envs/python3/lib/python3.6/site-packages/boto3/compat.py:88: PythonDeprecationWarning: Boto3 will no longer support Python 3.6 starting May 30, 2022. To continue receiving service updates, bug fixes, and security updates please upgrade to Python 3.7 or later. More information can be found here: https://aws.amazon.com/blogs/developer/python-support-policy-updates-for-aws-sdks-and-tools/\n",
      "  warnings.warn(warning, PythonDeprecationWarning)\n"
     ]
    },
    {
     "name": "stdout",
     "output_type": "stream",
     "text": [
      "--> Removing /tmp/nwm.t17z.analysis_assim.channel_rt.tm00.conus.nc\n",
      "--> Downloading common/data/model/com/nwm/prod/nwm.20220927/analysis_assim/nwm.t18z.analysis_assim.channel_rt.tm00.conus.nc to /tmp/nwm.t18z.analysis_assim.channel_rt.tm00.conus.nc\n"
     ]
    },
    {
     "name": "stderr",
     "output_type": "stream",
     "text": [
      "/home/ec2-user/anaconda3/envs/python3/lib/python3.6/site-packages/boto3/compat.py:88: PythonDeprecationWarning: Boto3 will no longer support Python 3.6 starting May 30, 2022. To continue receiving service updates, bug fixes, and security updates please upgrade to Python 3.7 or later. More information can be found here: https://aws.amazon.com/blogs/developer/python-support-policy-updates-for-aws-sdks-and-tools/\n",
      "  warnings.warn(warning, PythonDeprecationWarning)\n"
     ]
    },
    {
     "name": "stdout",
     "output_type": "stream",
     "text": [
      "--> Removing /tmp/nwm.t18z.analysis_assim.channel_rt.tm00.conus.nc\n",
      "--> Downloading common/data/model/com/nwm/prod/nwm.20220927/analysis_assim/nwm.t19z.analysis_assim.channel_rt.tm00.conus.nc to /tmp/nwm.t19z.analysis_assim.channel_rt.tm00.conus.nc\n"
     ]
    },
    {
     "name": "stderr",
     "output_type": "stream",
     "text": [
      "/home/ec2-user/anaconda3/envs/python3/lib/python3.6/site-packages/boto3/compat.py:88: PythonDeprecationWarning: Boto3 will no longer support Python 3.6 starting May 30, 2022. To continue receiving service updates, bug fixes, and security updates please upgrade to Python 3.7 or later. More information can be found here: https://aws.amazon.com/blogs/developer/python-support-policy-updates-for-aws-sdks-and-tools/\n",
      "  warnings.warn(warning, PythonDeprecationWarning)\n"
     ]
    },
    {
     "name": "stdout",
     "output_type": "stream",
     "text": [
      "--> Removing /tmp/nwm.t19z.analysis_assim.channel_rt.tm00.conus.nc\n",
      "--> Downloading common/data/model/com/nwm/prod/nwm.20220927/analysis_assim/nwm.t20z.analysis_assim.channel_rt.tm00.conus.nc to /tmp/nwm.t20z.analysis_assim.channel_rt.tm00.conus.nc\n"
     ]
    },
    {
     "name": "stderr",
     "output_type": "stream",
     "text": [
      "/home/ec2-user/anaconda3/envs/python3/lib/python3.6/site-packages/boto3/compat.py:88: PythonDeprecationWarning: Boto3 will no longer support Python 3.6 starting May 30, 2022. To continue receiving service updates, bug fixes, and security updates please upgrade to Python 3.7 or later. More information can be found here: https://aws.amazon.com/blogs/developer/python-support-policy-updates-for-aws-sdks-and-tools/\n",
      "  warnings.warn(warning, PythonDeprecationWarning)\n"
     ]
    },
    {
     "name": "stdout",
     "output_type": "stream",
     "text": [
      "--> Removing /tmp/nwm.t20z.analysis_assim.channel_rt.tm00.conus.nc\n",
      "--> Downloading common/data/model/com/nwm/prod/nwm.20220927/analysis_assim/nwm.t21z.analysis_assim.channel_rt.tm00.conus.nc to /tmp/nwm.t21z.analysis_assim.channel_rt.tm00.conus.nc\n"
     ]
    },
    {
     "name": "stderr",
     "output_type": "stream",
     "text": [
      "/home/ec2-user/anaconda3/envs/python3/lib/python3.6/site-packages/boto3/compat.py:88: PythonDeprecationWarning: Boto3 will no longer support Python 3.6 starting May 30, 2022. To continue receiving service updates, bug fixes, and security updates please upgrade to Python 3.7 or later. More information can be found here: https://aws.amazon.com/blogs/developer/python-support-policy-updates-for-aws-sdks-and-tools/\n",
      "  warnings.warn(warning, PythonDeprecationWarning)\n"
     ]
    },
    {
     "name": "stdout",
     "output_type": "stream",
     "text": [
      "--> Removing /tmp/nwm.t21z.analysis_assim.channel_rt.tm00.conus.nc\n",
      "--> Downloading common/data/model/com/nwm/prod/nwm.20220927/analysis_assim/nwm.t22z.analysis_assim.channel_rt.tm00.conus.nc to /tmp/nwm.t22z.analysis_assim.channel_rt.tm00.conus.nc\n"
     ]
    },
    {
     "name": "stderr",
     "output_type": "stream",
     "text": [
      "/home/ec2-user/anaconda3/envs/python3/lib/python3.6/site-packages/boto3/compat.py:88: PythonDeprecationWarning: Boto3 will no longer support Python 3.6 starting May 30, 2022. To continue receiving service updates, bug fixes, and security updates please upgrade to Python 3.7 or later. More information can be found here: https://aws.amazon.com/blogs/developer/python-support-policy-updates-for-aws-sdks-and-tools/\n",
      "  warnings.warn(warning, PythonDeprecationWarning)\n"
     ]
    },
    {
     "name": "stdout",
     "output_type": "stream",
     "text": [
      "--> Removing /tmp/nwm.t22z.analysis_assim.channel_rt.tm00.conus.nc\n",
      "--> Downloading common/data/model/com/nwm/prod/nwm.20220927/analysis_assim/nwm.t23z.analysis_assim.channel_rt.tm00.conus.nc to /tmp/nwm.t23z.analysis_assim.channel_rt.tm00.conus.nc\n"
     ]
    },
    {
     "name": "stderr",
     "output_type": "stream",
     "text": [
      "/home/ec2-user/anaconda3/envs/python3/lib/python3.6/site-packages/boto3/compat.py:88: PythonDeprecationWarning: Boto3 will no longer support Python 3.6 starting May 30, 2022. To continue receiving service updates, bug fixes, and security updates please upgrade to Python 3.7 or later. More information can be found here: https://aws.amazon.com/blogs/developer/python-support-policy-updates-for-aws-sdks-and-tools/\n",
      "  warnings.warn(warning, PythonDeprecationWarning)\n"
     ]
    },
    {
     "name": "stdout",
     "output_type": "stream",
     "text": [
      "--> Removing /tmp/nwm.t23z.analysis_assim.channel_rt.tm00.conus.nc\n",
      "--> Downloading common/data/model/com/nwm/prod/nwm.20220928/analysis_assim/nwm.t00z.analysis_assim.channel_rt.tm00.conus.nc to /tmp/nwm.t00z.analysis_assim.channel_rt.tm00.conus.nc\n"
     ]
    },
    {
     "name": "stderr",
     "output_type": "stream",
     "text": [
      "/home/ec2-user/anaconda3/envs/python3/lib/python3.6/site-packages/boto3/compat.py:88: PythonDeprecationWarning: Boto3 will no longer support Python 3.6 starting May 30, 2022. To continue receiving service updates, bug fixes, and security updates please upgrade to Python 3.7 or later. More information can be found here: https://aws.amazon.com/blogs/developer/python-support-policy-updates-for-aws-sdks-and-tools/\n",
      "  warnings.warn(warning, PythonDeprecationWarning)\n"
     ]
    },
    {
     "name": "stdout",
     "output_type": "stream",
     "text": [
      "--> Removing /tmp/nwm.t00z.analysis_assim.channel_rt.tm00.conus.nc\n",
      "--> Downloading common/data/model/com/nwm/prod/nwm.20220928/analysis_assim/nwm.t01z.analysis_assim.channel_rt.tm00.conus.nc to /tmp/nwm.t01z.analysis_assim.channel_rt.tm00.conus.nc\n"
     ]
    },
    {
     "name": "stderr",
     "output_type": "stream",
     "text": [
      "/home/ec2-user/anaconda3/envs/python3/lib/python3.6/site-packages/boto3/compat.py:88: PythonDeprecationWarning: Boto3 will no longer support Python 3.6 starting May 30, 2022. To continue receiving service updates, bug fixes, and security updates please upgrade to Python 3.7 or later. More information can be found here: https://aws.amazon.com/blogs/developer/python-support-policy-updates-for-aws-sdks-and-tools/\n",
      "  warnings.warn(warning, PythonDeprecationWarning)\n"
     ]
    },
    {
     "name": "stdout",
     "output_type": "stream",
     "text": [
      "--> Removing /tmp/nwm.t01z.analysis_assim.channel_rt.tm00.conus.nc\n",
      "--> Downloading common/data/model/com/nwm/prod/nwm.20220928/analysis_assim/nwm.t02z.analysis_assim.channel_rt.tm00.conus.nc to /tmp/nwm.t02z.analysis_assim.channel_rt.tm00.conus.nc\n"
     ]
    },
    {
     "name": "stderr",
     "output_type": "stream",
     "text": [
      "/home/ec2-user/anaconda3/envs/python3/lib/python3.6/site-packages/boto3/compat.py:88: PythonDeprecationWarning: Boto3 will no longer support Python 3.6 starting May 30, 2022. To continue receiving service updates, bug fixes, and security updates please upgrade to Python 3.7 or later. More information can be found here: https://aws.amazon.com/blogs/developer/python-support-policy-updates-for-aws-sdks-and-tools/\n",
      "  warnings.warn(warning, PythonDeprecationWarning)\n"
     ]
    },
    {
     "name": "stdout",
     "output_type": "stream",
     "text": [
      "--> Removing /tmp/nwm.t02z.analysis_assim.channel_rt.tm00.conus.nc\n",
      "--> Downloading common/data/model/com/nwm/prod/nwm.20220928/analysis_assim/nwm.t03z.analysis_assim.channel_rt.tm00.conus.nc to /tmp/nwm.t03z.analysis_assim.channel_rt.tm00.conus.nc\n"
     ]
    },
    {
     "name": "stderr",
     "output_type": "stream",
     "text": [
      "/home/ec2-user/anaconda3/envs/python3/lib/python3.6/site-packages/boto3/compat.py:88: PythonDeprecationWarning: Boto3 will no longer support Python 3.6 starting May 30, 2022. To continue receiving service updates, bug fixes, and security updates please upgrade to Python 3.7 or later. More information can be found here: https://aws.amazon.com/blogs/developer/python-support-policy-updates-for-aws-sdks-and-tools/\n",
      "  warnings.warn(warning, PythonDeprecationWarning)\n"
     ]
    },
    {
     "name": "stdout",
     "output_type": "stream",
     "text": [
      "--> Removing /tmp/nwm.t03z.analysis_assim.channel_rt.tm00.conus.nc\n",
      "--> Downloading common/data/model/com/nwm/prod/nwm.20220928/analysis_assim/nwm.t04z.analysis_assim.channel_rt.tm00.conus.nc to /tmp/nwm.t04z.analysis_assim.channel_rt.tm00.conus.nc\n"
     ]
    },
    {
     "name": "stderr",
     "output_type": "stream",
     "text": [
      "/home/ec2-user/anaconda3/envs/python3/lib/python3.6/site-packages/boto3/compat.py:88: PythonDeprecationWarning: Boto3 will no longer support Python 3.6 starting May 30, 2022. To continue receiving service updates, bug fixes, and security updates please upgrade to Python 3.7 or later. More information can be found here: https://aws.amazon.com/blogs/developer/python-support-policy-updates-for-aws-sdks-and-tools/\n",
      "  warnings.warn(warning, PythonDeprecationWarning)\n"
     ]
    },
    {
     "name": "stdout",
     "output_type": "stream",
     "text": [
      "--> Removing /tmp/nwm.t04z.analysis_assim.channel_rt.tm00.conus.nc\n",
      "--> Downloading common/data/model/com/nwm/prod/nwm.20220928/analysis_assim/nwm.t05z.analysis_assim.channel_rt.tm00.conus.nc to /tmp/nwm.t05z.analysis_assim.channel_rt.tm00.conus.nc\n"
     ]
    },
    {
     "name": "stderr",
     "output_type": "stream",
     "text": [
      "/home/ec2-user/anaconda3/envs/python3/lib/python3.6/site-packages/boto3/compat.py:88: PythonDeprecationWarning: Boto3 will no longer support Python 3.6 starting May 30, 2022. To continue receiving service updates, bug fixes, and security updates please upgrade to Python 3.7 or later. More information can be found here: https://aws.amazon.com/blogs/developer/python-support-policy-updates-for-aws-sdks-and-tools/\n",
      "  warnings.warn(warning, PythonDeprecationWarning)\n"
     ]
    },
    {
     "name": "stdout",
     "output_type": "stream",
     "text": [
      "--> Removing /tmp/nwm.t05z.analysis_assim.channel_rt.tm00.conus.nc\n",
      "--> Downloading common/data/model/com/nwm/prod/nwm.20220928/analysis_assim/nwm.t06z.analysis_assim.channel_rt.tm00.conus.nc to /tmp/nwm.t06z.analysis_assim.channel_rt.tm00.conus.nc\n"
     ]
    },
    {
     "name": "stderr",
     "output_type": "stream",
     "text": [
      "/home/ec2-user/anaconda3/envs/python3/lib/python3.6/site-packages/boto3/compat.py:88: PythonDeprecationWarning: Boto3 will no longer support Python 3.6 starting May 30, 2022. To continue receiving service updates, bug fixes, and security updates please upgrade to Python 3.7 or later. More information can be found here: https://aws.amazon.com/blogs/developer/python-support-policy-updates-for-aws-sdks-and-tools/\n",
      "  warnings.warn(warning, PythonDeprecationWarning)\n"
     ]
    },
    {
     "name": "stdout",
     "output_type": "stream",
     "text": [
      "--> Removing /tmp/nwm.t06z.analysis_assim.channel_rt.tm00.conus.nc\n",
      "--> Downloading common/data/model/com/nwm/prod/nwm.20220928/analysis_assim/nwm.t07z.analysis_assim.channel_rt.tm00.conus.nc to /tmp/nwm.t07z.analysis_assim.channel_rt.tm00.conus.nc\n"
     ]
    },
    {
     "name": "stderr",
     "output_type": "stream",
     "text": [
      "/home/ec2-user/anaconda3/envs/python3/lib/python3.6/site-packages/boto3/compat.py:88: PythonDeprecationWarning: Boto3 will no longer support Python 3.6 starting May 30, 2022. To continue receiving service updates, bug fixes, and security updates please upgrade to Python 3.7 or later. More information can be found here: https://aws.amazon.com/blogs/developer/python-support-policy-updates-for-aws-sdks-and-tools/\n",
      "  warnings.warn(warning, PythonDeprecationWarning)\n"
     ]
    },
    {
     "name": "stdout",
     "output_type": "stream",
     "text": [
      "--> Removing /tmp/nwm.t07z.analysis_assim.channel_rt.tm00.conus.nc\n",
      "--> Downloading common/data/model/com/nwm/prod/nwm.20220928/analysis_assim/nwm.t08z.analysis_assim.channel_rt.tm00.conus.nc to /tmp/nwm.t08z.analysis_assim.channel_rt.tm00.conus.nc\n"
     ]
    },
    {
     "name": "stderr",
     "output_type": "stream",
     "text": [
      "/home/ec2-user/anaconda3/envs/python3/lib/python3.6/site-packages/boto3/compat.py:88: PythonDeprecationWarning: Boto3 will no longer support Python 3.6 starting May 30, 2022. To continue receiving service updates, bug fixes, and security updates please upgrade to Python 3.7 or later. More information can be found here: https://aws.amazon.com/blogs/developer/python-support-policy-updates-for-aws-sdks-and-tools/\n",
      "  warnings.warn(warning, PythonDeprecationWarning)\n"
     ]
    },
    {
     "name": "stdout",
     "output_type": "stream",
     "text": [
      "--> Removing /tmp/nwm.t08z.analysis_assim.channel_rt.tm00.conus.nc\n",
      "--> Downloading common/data/model/com/nwm/prod/nwm.20220928/analysis_assim/nwm.t09z.analysis_assim.channel_rt.tm00.conus.nc to /tmp/nwm.t09z.analysis_assim.channel_rt.tm00.conus.nc\n"
     ]
    },
    {
     "name": "stderr",
     "output_type": "stream",
     "text": [
      "/home/ec2-user/anaconda3/envs/python3/lib/python3.6/site-packages/boto3/compat.py:88: PythonDeprecationWarning: Boto3 will no longer support Python 3.6 starting May 30, 2022. To continue receiving service updates, bug fixes, and security updates please upgrade to Python 3.7 or later. More information can be found here: https://aws.amazon.com/blogs/developer/python-support-policy-updates-for-aws-sdks-and-tools/\n",
      "  warnings.warn(warning, PythonDeprecationWarning)\n"
     ]
    },
    {
     "name": "stdout",
     "output_type": "stream",
     "text": [
      "--> Removing /tmp/nwm.t09z.analysis_assim.channel_rt.tm00.conus.nc\n",
      "--> Downloading common/data/model/com/nwm/prod/nwm.20220928/analysis_assim/nwm.t10z.analysis_assim.channel_rt.tm00.conus.nc to /tmp/nwm.t10z.analysis_assim.channel_rt.tm00.conus.nc\n"
     ]
    },
    {
     "name": "stderr",
     "output_type": "stream",
     "text": [
      "/home/ec2-user/anaconda3/envs/python3/lib/python3.6/site-packages/boto3/compat.py:88: PythonDeprecationWarning: Boto3 will no longer support Python 3.6 starting May 30, 2022. To continue receiving service updates, bug fixes, and security updates please upgrade to Python 3.7 or later. More information can be found here: https://aws.amazon.com/blogs/developer/python-support-policy-updates-for-aws-sdks-and-tools/\n",
      "  warnings.warn(warning, PythonDeprecationWarning)\n"
     ]
    },
    {
     "name": "stdout",
     "output_type": "stream",
     "text": [
      "--> Removing /tmp/nwm.t10z.analysis_assim.channel_rt.tm00.conus.nc\n",
      "--> Downloading common/data/model/com/nwm/prod/nwm.20220928/analysis_assim/nwm.t11z.analysis_assim.channel_rt.tm00.conus.nc to /tmp/nwm.t11z.analysis_assim.channel_rt.tm00.conus.nc\n"
     ]
    },
    {
     "name": "stderr",
     "output_type": "stream",
     "text": [
      "/home/ec2-user/anaconda3/envs/python3/lib/python3.6/site-packages/boto3/compat.py:88: PythonDeprecationWarning: Boto3 will no longer support Python 3.6 starting May 30, 2022. To continue receiving service updates, bug fixes, and security updates please upgrade to Python 3.7 or later. More information can be found here: https://aws.amazon.com/blogs/developer/python-support-policy-updates-for-aws-sdks-and-tools/\n",
      "  warnings.warn(warning, PythonDeprecationWarning)\n"
     ]
    },
    {
     "name": "stdout",
     "output_type": "stream",
     "text": [
      "--> Removing /tmp/nwm.t11z.analysis_assim.channel_rt.tm00.conus.nc\n",
      "--> Downloading common/data/model/com/nwm/prod/nwm.20220928/analysis_assim/nwm.t12z.analysis_assim.channel_rt.tm00.conus.nc to /tmp/nwm.t12z.analysis_assim.channel_rt.tm00.conus.nc\n"
     ]
    },
    {
     "name": "stderr",
     "output_type": "stream",
     "text": [
      "/home/ec2-user/anaconda3/envs/python3/lib/python3.6/site-packages/boto3/compat.py:88: PythonDeprecationWarning: Boto3 will no longer support Python 3.6 starting May 30, 2022. To continue receiving service updates, bug fixes, and security updates please upgrade to Python 3.7 or later. More information can be found here: https://aws.amazon.com/blogs/developer/python-support-policy-updates-for-aws-sdks-and-tools/\n",
      "  warnings.warn(warning, PythonDeprecationWarning)\n"
     ]
    },
    {
     "name": "stdout",
     "output_type": "stream",
     "text": [
      "--> Removing /tmp/nwm.t12z.analysis_assim.channel_rt.tm00.conus.nc\n",
      "--> Downloading common/data/model/com/nwm/prod/nwm.20220928/analysis_assim/nwm.t13z.analysis_assim.channel_rt.tm00.conus.nc to /tmp/nwm.t13z.analysis_assim.channel_rt.tm00.conus.nc\n"
     ]
    },
    {
     "name": "stderr",
     "output_type": "stream",
     "text": [
      "/home/ec2-user/anaconda3/envs/python3/lib/python3.6/site-packages/boto3/compat.py:88: PythonDeprecationWarning: Boto3 will no longer support Python 3.6 starting May 30, 2022. To continue receiving service updates, bug fixes, and security updates please upgrade to Python 3.7 or later. More information can be found here: https://aws.amazon.com/blogs/developer/python-support-policy-updates-for-aws-sdks-and-tools/\n",
      "  warnings.warn(warning, PythonDeprecationWarning)\n"
     ]
    },
    {
     "name": "stdout",
     "output_type": "stream",
     "text": [
      "--> Removing /tmp/nwm.t13z.analysis_assim.channel_rt.tm00.conus.nc\n",
      "--> Downloading common/data/model/com/nwm/prod/nwm.20220928/analysis_assim/nwm.t14z.analysis_assim.channel_rt.tm00.conus.nc to /tmp/nwm.t14z.analysis_assim.channel_rt.tm00.conus.nc\n"
     ]
    },
    {
     "name": "stderr",
     "output_type": "stream",
     "text": [
      "/home/ec2-user/anaconda3/envs/python3/lib/python3.6/site-packages/boto3/compat.py:88: PythonDeprecationWarning: Boto3 will no longer support Python 3.6 starting May 30, 2022. To continue receiving service updates, bug fixes, and security updates please upgrade to Python 3.7 or later. More information can be found here: https://aws.amazon.com/blogs/developer/python-support-policy-updates-for-aws-sdks-and-tools/\n",
      "  warnings.warn(warning, PythonDeprecationWarning)\n"
     ]
    },
    {
     "name": "stdout",
     "output_type": "stream",
     "text": [
      "--> Removing /tmp/nwm.t14z.analysis_assim.channel_rt.tm00.conus.nc\n",
      "--> Downloading common/data/model/com/nwm/prod/nwm.20220928/analysis_assim/nwm.t15z.analysis_assim.channel_rt.tm00.conus.nc to /tmp/nwm.t15z.analysis_assim.channel_rt.tm00.conus.nc\n"
     ]
    },
    {
     "name": "stderr",
     "output_type": "stream",
     "text": [
      "/home/ec2-user/anaconda3/envs/python3/lib/python3.6/site-packages/boto3/compat.py:88: PythonDeprecationWarning: Boto3 will no longer support Python 3.6 starting May 30, 2022. To continue receiving service updates, bug fixes, and security updates please upgrade to Python 3.7 or later. More information can be found here: https://aws.amazon.com/blogs/developer/python-support-policy-updates-for-aws-sdks-and-tools/\n",
      "  warnings.warn(warning, PythonDeprecationWarning)\n"
     ]
    },
    {
     "name": "stdout",
     "output_type": "stream",
     "text": [
      "--> Removing /tmp/nwm.t15z.analysis_assim.channel_rt.tm00.conus.nc\n",
      "--> Downloading common/data/model/com/nwm/prod/nwm.20220928/analysis_assim/nwm.t16z.analysis_assim.channel_rt.tm00.conus.nc to /tmp/nwm.t16z.analysis_assim.channel_rt.tm00.conus.nc\n"
     ]
    },
    {
     "name": "stderr",
     "output_type": "stream",
     "text": [
      "/home/ec2-user/anaconda3/envs/python3/lib/python3.6/site-packages/boto3/compat.py:88: PythonDeprecationWarning: Boto3 will no longer support Python 3.6 starting May 30, 2022. To continue receiving service updates, bug fixes, and security updates please upgrade to Python 3.7 or later. More information can be found here: https://aws.amazon.com/blogs/developer/python-support-policy-updates-for-aws-sdks-and-tools/\n",
      "  warnings.warn(warning, PythonDeprecationWarning)\n"
     ]
    },
    {
     "name": "stdout",
     "output_type": "stream",
     "text": [
      "--> Removing /tmp/nwm.t16z.analysis_assim.channel_rt.tm00.conus.nc\n",
      "--> Downloading common/data/model/com/nwm/prod/nwm.20220928/analysis_assim/nwm.t17z.analysis_assim.channel_rt.tm00.conus.nc to /tmp/nwm.t17z.analysis_assim.channel_rt.tm00.conus.nc\n"
     ]
    },
    {
     "name": "stderr",
     "output_type": "stream",
     "text": [
      "/home/ec2-user/anaconda3/envs/python3/lib/python3.6/site-packages/boto3/compat.py:88: PythonDeprecationWarning: Boto3 will no longer support Python 3.6 starting May 30, 2022. To continue receiving service updates, bug fixes, and security updates please upgrade to Python 3.7 or later. More information can be found here: https://aws.amazon.com/blogs/developer/python-support-policy-updates-for-aws-sdks-and-tools/\n",
      "  warnings.warn(warning, PythonDeprecationWarning)\n"
     ]
    },
    {
     "name": "stdout",
     "output_type": "stream",
     "text": [
      "--> Removing /tmp/nwm.t17z.analysis_assim.channel_rt.tm00.conus.nc\n",
      "--> Downloading common/data/model/com/nwm/prod/nwm.20220928/analysis_assim/nwm.t18z.analysis_assim.channel_rt.tm00.conus.nc to /tmp/nwm.t18z.analysis_assim.channel_rt.tm00.conus.nc\n"
     ]
    },
    {
     "name": "stderr",
     "output_type": "stream",
     "text": [
      "/home/ec2-user/anaconda3/envs/python3/lib/python3.6/site-packages/boto3/compat.py:88: PythonDeprecationWarning: Boto3 will no longer support Python 3.6 starting May 30, 2022. To continue receiving service updates, bug fixes, and security updates please upgrade to Python 3.7 or later. More information can be found here: https://aws.amazon.com/blogs/developer/python-support-policy-updates-for-aws-sdks-and-tools/\n",
      "  warnings.warn(warning, PythonDeprecationWarning)\n"
     ]
    },
    {
     "name": "stdout",
     "output_type": "stream",
     "text": [
      "--> Removing /tmp/nwm.t18z.analysis_assim.channel_rt.tm00.conus.nc\n",
      "--> Downloading common/data/model/com/nwm/prod/nwm.20220928/analysis_assim/nwm.t19z.analysis_assim.channel_rt.tm00.conus.nc to /tmp/nwm.t19z.analysis_assim.channel_rt.tm00.conus.nc\n"
     ]
    },
    {
     "name": "stderr",
     "output_type": "stream",
     "text": [
      "/home/ec2-user/anaconda3/envs/python3/lib/python3.6/site-packages/boto3/compat.py:88: PythonDeprecationWarning: Boto3 will no longer support Python 3.6 starting May 30, 2022. To continue receiving service updates, bug fixes, and security updates please upgrade to Python 3.7 or later. More information can be found here: https://aws.amazon.com/blogs/developer/python-support-policy-updates-for-aws-sdks-and-tools/\n",
      "  warnings.warn(warning, PythonDeprecationWarning)\n"
     ]
    },
    {
     "name": "stdout",
     "output_type": "stream",
     "text": [
      "--> Removing /tmp/nwm.t19z.analysis_assim.channel_rt.tm00.conus.nc\n",
      "--> Downloading common/data/model/com/nwm/prod/nwm.20220928/analysis_assim/nwm.t20z.analysis_assim.channel_rt.tm00.conus.nc to /tmp/nwm.t20z.analysis_assim.channel_rt.tm00.conus.nc\n"
     ]
    },
    {
     "name": "stderr",
     "output_type": "stream",
     "text": [
      "/home/ec2-user/anaconda3/envs/python3/lib/python3.6/site-packages/boto3/compat.py:88: PythonDeprecationWarning: Boto3 will no longer support Python 3.6 starting May 30, 2022. To continue receiving service updates, bug fixes, and security updates please upgrade to Python 3.7 or later. More information can be found here: https://aws.amazon.com/blogs/developer/python-support-policy-updates-for-aws-sdks-and-tools/\n",
      "  warnings.warn(warning, PythonDeprecationWarning)\n"
     ]
    },
    {
     "name": "stdout",
     "output_type": "stream",
     "text": [
      "--> Removing /tmp/nwm.t20z.analysis_assim.channel_rt.tm00.conus.nc\n",
      "--> Downloading common/data/model/com/nwm/prod/nwm.20220928/analysis_assim/nwm.t21z.analysis_assim.channel_rt.tm00.conus.nc to /tmp/nwm.t21z.analysis_assim.channel_rt.tm00.conus.nc\n"
     ]
    },
    {
     "name": "stderr",
     "output_type": "stream",
     "text": [
      "/home/ec2-user/anaconda3/envs/python3/lib/python3.6/site-packages/boto3/compat.py:88: PythonDeprecationWarning: Boto3 will no longer support Python 3.6 starting May 30, 2022. To continue receiving service updates, bug fixes, and security updates please upgrade to Python 3.7 or later. More information can be found here: https://aws.amazon.com/blogs/developer/python-support-policy-updates-for-aws-sdks-and-tools/\n",
      "  warnings.warn(warning, PythonDeprecationWarning)\n"
     ]
    },
    {
     "name": "stdout",
     "output_type": "stream",
     "text": [
      "--> Removing /tmp/nwm.t21z.analysis_assim.channel_rt.tm00.conus.nc\n",
      "--> Downloading common/data/model/com/nwm/prod/nwm.20220928/analysis_assim/nwm.t22z.analysis_assim.channel_rt.tm00.conus.nc to /tmp/nwm.t22z.analysis_assim.channel_rt.tm00.conus.nc\n"
     ]
    },
    {
     "name": "stderr",
     "output_type": "stream",
     "text": [
      "/home/ec2-user/anaconda3/envs/python3/lib/python3.6/site-packages/boto3/compat.py:88: PythonDeprecationWarning: Boto3 will no longer support Python 3.6 starting May 30, 2022. To continue receiving service updates, bug fixes, and security updates please upgrade to Python 3.7 or later. More information can be found here: https://aws.amazon.com/blogs/developer/python-support-policy-updates-for-aws-sdks-and-tools/\n",
      "  warnings.warn(warning, PythonDeprecationWarning)\n"
     ]
    },
    {
     "name": "stdout",
     "output_type": "stream",
     "text": [
      "--> Removing /tmp/nwm.t22z.analysis_assim.channel_rt.tm00.conus.nc\n",
      "--> Downloading common/data/model/com/nwm/prod/nwm.20220928/analysis_assim/nwm.t23z.analysis_assim.channel_rt.tm00.conus.nc to /tmp/nwm.t23z.analysis_assim.channel_rt.tm00.conus.nc\n"
     ]
    },
    {
     "name": "stderr",
     "output_type": "stream",
     "text": [
      "/home/ec2-user/anaconda3/envs/python3/lib/python3.6/site-packages/boto3/compat.py:88: PythonDeprecationWarning: Boto3 will no longer support Python 3.6 starting May 30, 2022. To continue receiving service updates, bug fixes, and security updates please upgrade to Python 3.7 or later. More information can be found here: https://aws.amazon.com/blogs/developer/python-support-policy-updates-for-aws-sdks-and-tools/\n",
      "  warnings.warn(warning, PythonDeprecationWarning)\n"
     ]
    },
    {
     "name": "stdout",
     "output_type": "stream",
     "text": [
      "--> Removing /tmp/nwm.t23z.analysis_assim.channel_rt.tm00.conus.nc\n",
      "--> Downloading common/data/model/com/nwm/prod/nwm.20220929/analysis_assim/nwm.t00z.analysis_assim.channel_rt.tm00.conus.nc to /tmp/nwm.t00z.analysis_assim.channel_rt.tm00.conus.nc\n"
     ]
    },
    {
     "name": "stderr",
     "output_type": "stream",
     "text": [
      "/home/ec2-user/anaconda3/envs/python3/lib/python3.6/site-packages/boto3/compat.py:88: PythonDeprecationWarning: Boto3 will no longer support Python 3.6 starting May 30, 2022. To continue receiving service updates, bug fixes, and security updates please upgrade to Python 3.7 or later. More information can be found here: https://aws.amazon.com/blogs/developer/python-support-policy-updates-for-aws-sdks-and-tools/\n",
      "  warnings.warn(warning, PythonDeprecationWarning)\n"
     ]
    },
    {
     "name": "stdout",
     "output_type": "stream",
     "text": [
      "--> Removing /tmp/nwm.t00z.analysis_assim.channel_rt.tm00.conus.nc\n",
      "--> Downloading common/data/model/com/nwm/prod/nwm.20220929/analysis_assim/nwm.t01z.analysis_assim.channel_rt.tm00.conus.nc to /tmp/nwm.t01z.analysis_assim.channel_rt.tm00.conus.nc\n"
     ]
    },
    {
     "name": "stderr",
     "output_type": "stream",
     "text": [
      "/home/ec2-user/anaconda3/envs/python3/lib/python3.6/site-packages/boto3/compat.py:88: PythonDeprecationWarning: Boto3 will no longer support Python 3.6 starting May 30, 2022. To continue receiving service updates, bug fixes, and security updates please upgrade to Python 3.7 or later. More information can be found here: https://aws.amazon.com/blogs/developer/python-support-policy-updates-for-aws-sdks-and-tools/\n",
      "  warnings.warn(warning, PythonDeprecationWarning)\n"
     ]
    },
    {
     "name": "stdout",
     "output_type": "stream",
     "text": [
      "--> Removing /tmp/nwm.t01z.analysis_assim.channel_rt.tm00.conus.nc\n",
      "--> Downloading common/data/model/com/nwm/prod/nwm.20220929/analysis_assim/nwm.t02z.analysis_assim.channel_rt.tm00.conus.nc to /tmp/nwm.t02z.analysis_assim.channel_rt.tm00.conus.nc\n"
     ]
    },
    {
     "name": "stderr",
     "output_type": "stream",
     "text": [
      "/home/ec2-user/anaconda3/envs/python3/lib/python3.6/site-packages/boto3/compat.py:88: PythonDeprecationWarning: Boto3 will no longer support Python 3.6 starting May 30, 2022. To continue receiving service updates, bug fixes, and security updates please upgrade to Python 3.7 or later. More information can be found here: https://aws.amazon.com/blogs/developer/python-support-policy-updates-for-aws-sdks-and-tools/\n",
      "  warnings.warn(warning, PythonDeprecationWarning)\n"
     ]
    },
    {
     "name": "stdout",
     "output_type": "stream",
     "text": [
      "--> Removing /tmp/nwm.t02z.analysis_assim.channel_rt.tm00.conus.nc\n",
      "--> Downloading common/data/model/com/nwm/prod/nwm.20220929/analysis_assim/nwm.t03z.analysis_assim.channel_rt.tm00.conus.nc to /tmp/nwm.t03z.analysis_assim.channel_rt.tm00.conus.nc\n"
     ]
    },
    {
     "name": "stderr",
     "output_type": "stream",
     "text": [
      "/home/ec2-user/anaconda3/envs/python3/lib/python3.6/site-packages/boto3/compat.py:88: PythonDeprecationWarning: Boto3 will no longer support Python 3.6 starting May 30, 2022. To continue receiving service updates, bug fixes, and security updates please upgrade to Python 3.7 or later. More information can be found here: https://aws.amazon.com/blogs/developer/python-support-policy-updates-for-aws-sdks-and-tools/\n",
      "  warnings.warn(warning, PythonDeprecationWarning)\n"
     ]
    },
    {
     "name": "stdout",
     "output_type": "stream",
     "text": [
      "--> Removing /tmp/nwm.t03z.analysis_assim.channel_rt.tm00.conus.nc\n",
      "--> Downloading common/data/model/com/nwm/prod/nwm.20220929/analysis_assim/nwm.t04z.analysis_assim.channel_rt.tm00.conus.nc to /tmp/nwm.t04z.analysis_assim.channel_rt.tm00.conus.nc\n"
     ]
    },
    {
     "name": "stderr",
     "output_type": "stream",
     "text": [
      "/home/ec2-user/anaconda3/envs/python3/lib/python3.6/site-packages/boto3/compat.py:88: PythonDeprecationWarning: Boto3 will no longer support Python 3.6 starting May 30, 2022. To continue receiving service updates, bug fixes, and security updates please upgrade to Python 3.7 or later. More information can be found here: https://aws.amazon.com/blogs/developer/python-support-policy-updates-for-aws-sdks-and-tools/\n",
      "  warnings.warn(warning, PythonDeprecationWarning)\n"
     ]
    },
    {
     "name": "stdout",
     "output_type": "stream",
     "text": [
      "--> Removing /tmp/nwm.t04z.analysis_assim.channel_rt.tm00.conus.nc\n",
      "--> Downloading common/data/model/com/nwm/prod/nwm.20220929/analysis_assim/nwm.t05z.analysis_assim.channel_rt.tm00.conus.nc to /tmp/nwm.t05z.analysis_assim.channel_rt.tm00.conus.nc\n"
     ]
    },
    {
     "name": "stderr",
     "output_type": "stream",
     "text": [
      "/home/ec2-user/anaconda3/envs/python3/lib/python3.6/site-packages/boto3/compat.py:88: PythonDeprecationWarning: Boto3 will no longer support Python 3.6 starting May 30, 2022. To continue receiving service updates, bug fixes, and security updates please upgrade to Python 3.7 or later. More information can be found here: https://aws.amazon.com/blogs/developer/python-support-policy-updates-for-aws-sdks-and-tools/\n",
      "  warnings.warn(warning, PythonDeprecationWarning)\n"
     ]
    },
    {
     "name": "stdout",
     "output_type": "stream",
     "text": [
      "--> Removing /tmp/nwm.t05z.analysis_assim.channel_rt.tm00.conus.nc\n",
      "--> Downloading common/data/model/com/nwm/prod/nwm.20220929/analysis_assim/nwm.t06z.analysis_assim.channel_rt.tm00.conus.nc to /tmp/nwm.t06z.analysis_assim.channel_rt.tm00.conus.nc\n"
     ]
    },
    {
     "name": "stderr",
     "output_type": "stream",
     "text": [
      "/home/ec2-user/anaconda3/envs/python3/lib/python3.6/site-packages/boto3/compat.py:88: PythonDeprecationWarning: Boto3 will no longer support Python 3.6 starting May 30, 2022. To continue receiving service updates, bug fixes, and security updates please upgrade to Python 3.7 or later. More information can be found here: https://aws.amazon.com/blogs/developer/python-support-policy-updates-for-aws-sdks-and-tools/\n",
      "  warnings.warn(warning, PythonDeprecationWarning)\n"
     ]
    },
    {
     "name": "stdout",
     "output_type": "stream",
     "text": [
      "--> Removing /tmp/nwm.t06z.analysis_assim.channel_rt.tm00.conus.nc\n",
      "--> Downloading common/data/model/com/nwm/prod/nwm.20220929/analysis_assim/nwm.t07z.analysis_assim.channel_rt.tm00.conus.nc to /tmp/nwm.t07z.analysis_assim.channel_rt.tm00.conus.nc\n"
     ]
    },
    {
     "name": "stderr",
     "output_type": "stream",
     "text": [
      "/home/ec2-user/anaconda3/envs/python3/lib/python3.6/site-packages/boto3/compat.py:88: PythonDeprecationWarning: Boto3 will no longer support Python 3.6 starting May 30, 2022. To continue receiving service updates, bug fixes, and security updates please upgrade to Python 3.7 or later. More information can be found here: https://aws.amazon.com/blogs/developer/python-support-policy-updates-for-aws-sdks-and-tools/\n",
      "  warnings.warn(warning, PythonDeprecationWarning)\n"
     ]
    },
    {
     "name": "stdout",
     "output_type": "stream",
     "text": [
      "--> Removing /tmp/nwm.t07z.analysis_assim.channel_rt.tm00.conus.nc\n",
      "--> Downloading common/data/model/com/nwm/prod/nwm.20220929/analysis_assim/nwm.t08z.analysis_assim.channel_rt.tm00.conus.nc to /tmp/nwm.t08z.analysis_assim.channel_rt.tm00.conus.nc\n"
     ]
    },
    {
     "name": "stderr",
     "output_type": "stream",
     "text": [
      "/home/ec2-user/anaconda3/envs/python3/lib/python3.6/site-packages/boto3/compat.py:88: PythonDeprecationWarning: Boto3 will no longer support Python 3.6 starting May 30, 2022. To continue receiving service updates, bug fixes, and security updates please upgrade to Python 3.7 or later. More information can be found here: https://aws.amazon.com/blogs/developer/python-support-policy-updates-for-aws-sdks-and-tools/\n",
      "  warnings.warn(warning, PythonDeprecationWarning)\n"
     ]
    },
    {
     "name": "stdout",
     "output_type": "stream",
     "text": [
      "--> Removing /tmp/nwm.t08z.analysis_assim.channel_rt.tm00.conus.nc\n",
      "--> Downloading common/data/model/com/nwm/prod/nwm.20220929/analysis_assim/nwm.t09z.analysis_assim.channel_rt.tm00.conus.nc to /tmp/nwm.t09z.analysis_assim.channel_rt.tm00.conus.nc\n"
     ]
    },
    {
     "name": "stderr",
     "output_type": "stream",
     "text": [
      "/home/ec2-user/anaconda3/envs/python3/lib/python3.6/site-packages/boto3/compat.py:88: PythonDeprecationWarning: Boto3 will no longer support Python 3.6 starting May 30, 2022. To continue receiving service updates, bug fixes, and security updates please upgrade to Python 3.7 or later. More information can be found here: https://aws.amazon.com/blogs/developer/python-support-policy-updates-for-aws-sdks-and-tools/\n",
      "  warnings.warn(warning, PythonDeprecationWarning)\n"
     ]
    },
    {
     "name": "stdout",
     "output_type": "stream",
     "text": [
      "--> Removing /tmp/nwm.t09z.analysis_assim.channel_rt.tm00.conus.nc\n",
      "--> Downloading common/data/model/com/nwm/prod/nwm.20220929/analysis_assim/nwm.t10z.analysis_assim.channel_rt.tm00.conus.nc to /tmp/nwm.t10z.analysis_assim.channel_rt.tm00.conus.nc\n"
     ]
    },
    {
     "name": "stderr",
     "output_type": "stream",
     "text": [
      "/home/ec2-user/anaconda3/envs/python3/lib/python3.6/site-packages/boto3/compat.py:88: PythonDeprecationWarning: Boto3 will no longer support Python 3.6 starting May 30, 2022. To continue receiving service updates, bug fixes, and security updates please upgrade to Python 3.7 or later. More information can be found here: https://aws.amazon.com/blogs/developer/python-support-policy-updates-for-aws-sdks-and-tools/\n",
      "  warnings.warn(warning, PythonDeprecationWarning)\n"
     ]
    },
    {
     "name": "stdout",
     "output_type": "stream",
     "text": [
      "--> Removing /tmp/nwm.t10z.analysis_assim.channel_rt.tm00.conus.nc\n",
      "--> Downloading common/data/model/com/nwm/prod/nwm.20220929/analysis_assim/nwm.t11z.analysis_assim.channel_rt.tm00.conus.nc to /tmp/nwm.t11z.analysis_assim.channel_rt.tm00.conus.nc\n"
     ]
    },
    {
     "name": "stderr",
     "output_type": "stream",
     "text": [
      "/home/ec2-user/anaconda3/envs/python3/lib/python3.6/site-packages/boto3/compat.py:88: PythonDeprecationWarning: Boto3 will no longer support Python 3.6 starting May 30, 2022. To continue receiving service updates, bug fixes, and security updates please upgrade to Python 3.7 or later. More information can be found here: https://aws.amazon.com/blogs/developer/python-support-policy-updates-for-aws-sdks-and-tools/\n",
      "  warnings.warn(warning, PythonDeprecationWarning)\n"
     ]
    },
    {
     "name": "stdout",
     "output_type": "stream",
     "text": [
      "--> Removing /tmp/nwm.t11z.analysis_assim.channel_rt.tm00.conus.nc\n",
      "--> Downloading common/data/model/com/nwm/prod/nwm.20220929/analysis_assim/nwm.t12z.analysis_assim.channel_rt.tm00.conus.nc to /tmp/nwm.t12z.analysis_assim.channel_rt.tm00.conus.nc\n"
     ]
    },
    {
     "name": "stderr",
     "output_type": "stream",
     "text": [
      "/home/ec2-user/anaconda3/envs/python3/lib/python3.6/site-packages/boto3/compat.py:88: PythonDeprecationWarning: Boto3 will no longer support Python 3.6 starting May 30, 2022. To continue receiving service updates, bug fixes, and security updates please upgrade to Python 3.7 or later. More information can be found here: https://aws.amazon.com/blogs/developer/python-support-policy-updates-for-aws-sdks-and-tools/\n",
      "  warnings.warn(warning, PythonDeprecationWarning)\n"
     ]
    },
    {
     "name": "stdout",
     "output_type": "stream",
     "text": [
      "--> Removing /tmp/nwm.t12z.analysis_assim.channel_rt.tm00.conus.nc\n",
      "--> Downloading common/data/model/com/nwm/prod/nwm.20220929/analysis_assim/nwm.t13z.analysis_assim.channel_rt.tm00.conus.nc to /tmp/nwm.t13z.analysis_assim.channel_rt.tm00.conus.nc\n"
     ]
    },
    {
     "name": "stderr",
     "output_type": "stream",
     "text": [
      "/home/ec2-user/anaconda3/envs/python3/lib/python3.6/site-packages/boto3/compat.py:88: PythonDeprecationWarning: Boto3 will no longer support Python 3.6 starting May 30, 2022. To continue receiving service updates, bug fixes, and security updates please upgrade to Python 3.7 or later. More information can be found here: https://aws.amazon.com/blogs/developer/python-support-policy-updates-for-aws-sdks-and-tools/\n",
      "  warnings.warn(warning, PythonDeprecationWarning)\n"
     ]
    },
    {
     "name": "stdout",
     "output_type": "stream",
     "text": [
      "--> Removing /tmp/nwm.t13z.analysis_assim.channel_rt.tm00.conus.nc\n",
      "--> Downloading common/data/model/com/nwm/prod/nwm.20220929/analysis_assim/nwm.t14z.analysis_assim.channel_rt.tm00.conus.nc to /tmp/nwm.t14z.analysis_assim.channel_rt.tm00.conus.nc\n"
     ]
    },
    {
     "name": "stderr",
     "output_type": "stream",
     "text": [
      "/home/ec2-user/anaconda3/envs/python3/lib/python3.6/site-packages/boto3/compat.py:88: PythonDeprecationWarning: Boto3 will no longer support Python 3.6 starting May 30, 2022. To continue receiving service updates, bug fixes, and security updates please upgrade to Python 3.7 or later. More information can be found here: https://aws.amazon.com/blogs/developer/python-support-policy-updates-for-aws-sdks-and-tools/\n",
      "  warnings.warn(warning, PythonDeprecationWarning)\n"
     ]
    },
    {
     "name": "stdout",
     "output_type": "stream",
     "text": [
      "--> Removing /tmp/nwm.t14z.analysis_assim.channel_rt.tm00.conus.nc\n",
      "--> Downloading common/data/model/com/nwm/prod/nwm.20220929/analysis_assim/nwm.t15z.analysis_assim.channel_rt.tm00.conus.nc to /tmp/nwm.t15z.analysis_assim.channel_rt.tm00.conus.nc\n"
     ]
    },
    {
     "name": "stderr",
     "output_type": "stream",
     "text": [
      "/home/ec2-user/anaconda3/envs/python3/lib/python3.6/site-packages/boto3/compat.py:88: PythonDeprecationWarning: Boto3 will no longer support Python 3.6 starting May 30, 2022. To continue receiving service updates, bug fixes, and security updates please upgrade to Python 3.7 or later. More information can be found here: https://aws.amazon.com/blogs/developer/python-support-policy-updates-for-aws-sdks-and-tools/\n",
      "  warnings.warn(warning, PythonDeprecationWarning)\n"
     ]
    },
    {
     "name": "stdout",
     "output_type": "stream",
     "text": [
      "--> Removing /tmp/nwm.t15z.analysis_assim.channel_rt.tm00.conus.nc\n",
      "--> Downloading common/data/model/com/nwm/prod/nwm.20220929/analysis_assim/nwm.t16z.analysis_assim.channel_rt.tm00.conus.nc to /tmp/nwm.t16z.analysis_assim.channel_rt.tm00.conus.nc\n"
     ]
    },
    {
     "name": "stderr",
     "output_type": "stream",
     "text": [
      "/home/ec2-user/anaconda3/envs/python3/lib/python3.6/site-packages/boto3/compat.py:88: PythonDeprecationWarning: Boto3 will no longer support Python 3.6 starting May 30, 2022. To continue receiving service updates, bug fixes, and security updates please upgrade to Python 3.7 or later. More information can be found here: https://aws.amazon.com/blogs/developer/python-support-policy-updates-for-aws-sdks-and-tools/\n",
      "  warnings.warn(warning, PythonDeprecationWarning)\n"
     ]
    },
    {
     "name": "stdout",
     "output_type": "stream",
     "text": [
      "--> Removing /tmp/nwm.t16z.analysis_assim.channel_rt.tm00.conus.nc\n",
      "--> Downloading common/data/model/com/nwm/prod/nwm.20220929/analysis_assim/nwm.t17z.analysis_assim.channel_rt.tm00.conus.nc to /tmp/nwm.t17z.analysis_assim.channel_rt.tm00.conus.nc\n"
     ]
    },
    {
     "name": "stderr",
     "output_type": "stream",
     "text": [
      "/home/ec2-user/anaconda3/envs/python3/lib/python3.6/site-packages/boto3/compat.py:88: PythonDeprecationWarning: Boto3 will no longer support Python 3.6 starting May 30, 2022. To continue receiving service updates, bug fixes, and security updates please upgrade to Python 3.7 or later. More information can be found here: https://aws.amazon.com/blogs/developer/python-support-policy-updates-for-aws-sdks-and-tools/\n",
      "  warnings.warn(warning, PythonDeprecationWarning)\n"
     ]
    },
    {
     "name": "stdout",
     "output_type": "stream",
     "text": [
      "--> Removing /tmp/nwm.t17z.analysis_assim.channel_rt.tm00.conus.nc\n",
      "--> Downloading common/data/model/com/nwm/prod/nwm.20220929/analysis_assim/nwm.t18z.analysis_assim.channel_rt.tm00.conus.nc to /tmp/nwm.t18z.analysis_assim.channel_rt.tm00.conus.nc\n"
     ]
    },
    {
     "name": "stderr",
     "output_type": "stream",
     "text": [
      "/home/ec2-user/anaconda3/envs/python3/lib/python3.6/site-packages/boto3/compat.py:88: PythonDeprecationWarning: Boto3 will no longer support Python 3.6 starting May 30, 2022. To continue receiving service updates, bug fixes, and security updates please upgrade to Python 3.7 or later. More information can be found here: https://aws.amazon.com/blogs/developer/python-support-policy-updates-for-aws-sdks-and-tools/\n",
      "  warnings.warn(warning, PythonDeprecationWarning)\n"
     ]
    },
    {
     "name": "stdout",
     "output_type": "stream",
     "text": [
      "--> Removing /tmp/nwm.t18z.analysis_assim.channel_rt.tm00.conus.nc\n",
      "--> Downloading common/data/model/com/nwm/prod/nwm.20220929/analysis_assim/nwm.t19z.analysis_assim.channel_rt.tm00.conus.nc to /tmp/nwm.t19z.analysis_assim.channel_rt.tm00.conus.nc\n"
     ]
    },
    {
     "name": "stderr",
     "output_type": "stream",
     "text": [
      "/home/ec2-user/anaconda3/envs/python3/lib/python3.6/site-packages/boto3/compat.py:88: PythonDeprecationWarning: Boto3 will no longer support Python 3.6 starting May 30, 2022. To continue receiving service updates, bug fixes, and security updates please upgrade to Python 3.7 or later. More information can be found here: https://aws.amazon.com/blogs/developer/python-support-policy-updates-for-aws-sdks-and-tools/\n",
      "  warnings.warn(warning, PythonDeprecationWarning)\n"
     ]
    },
    {
     "name": "stdout",
     "output_type": "stream",
     "text": [
      "--> Removing /tmp/nwm.t19z.analysis_assim.channel_rt.tm00.conus.nc\n",
      "--> Downloading common/data/model/com/nwm/prod/nwm.20220929/analysis_assim/nwm.t20z.analysis_assim.channel_rt.tm00.conus.nc to /tmp/nwm.t20z.analysis_assim.channel_rt.tm00.conus.nc\n"
     ]
    },
    {
     "name": "stderr",
     "output_type": "stream",
     "text": [
      "/home/ec2-user/anaconda3/envs/python3/lib/python3.6/site-packages/boto3/compat.py:88: PythonDeprecationWarning: Boto3 will no longer support Python 3.6 starting May 30, 2022. To continue receiving service updates, bug fixes, and security updates please upgrade to Python 3.7 or later. More information can be found here: https://aws.amazon.com/blogs/developer/python-support-policy-updates-for-aws-sdks-and-tools/\n",
      "  warnings.warn(warning, PythonDeprecationWarning)\n"
     ]
    },
    {
     "name": "stdout",
     "output_type": "stream",
     "text": [
      "--> Removing /tmp/nwm.t20z.analysis_assim.channel_rt.tm00.conus.nc\n",
      "--> Downloading common/data/model/com/nwm/prod/nwm.20220929/analysis_assim/nwm.t21z.analysis_assim.channel_rt.tm00.conus.nc to /tmp/nwm.t21z.analysis_assim.channel_rt.tm00.conus.nc\n"
     ]
    },
    {
     "name": "stderr",
     "output_type": "stream",
     "text": [
      "/home/ec2-user/anaconda3/envs/python3/lib/python3.6/site-packages/boto3/compat.py:88: PythonDeprecationWarning: Boto3 will no longer support Python 3.6 starting May 30, 2022. To continue receiving service updates, bug fixes, and security updates please upgrade to Python 3.7 or later. More information can be found here: https://aws.amazon.com/blogs/developer/python-support-policy-updates-for-aws-sdks-and-tools/\n",
      "  warnings.warn(warning, PythonDeprecationWarning)\n"
     ]
    },
    {
     "name": "stdout",
     "output_type": "stream",
     "text": [
      "--> Removing /tmp/nwm.t21z.analysis_assim.channel_rt.tm00.conus.nc\n",
      "--> Downloading common/data/model/com/nwm/prod/nwm.20220929/analysis_assim/nwm.t22z.analysis_assim.channel_rt.tm00.conus.nc to /tmp/nwm.t22z.analysis_assim.channel_rt.tm00.conus.nc\n"
     ]
    },
    {
     "name": "stderr",
     "output_type": "stream",
     "text": [
      "/home/ec2-user/anaconda3/envs/python3/lib/python3.6/site-packages/boto3/compat.py:88: PythonDeprecationWarning: Boto3 will no longer support Python 3.6 starting May 30, 2022. To continue receiving service updates, bug fixes, and security updates please upgrade to Python 3.7 or later. More information can be found here: https://aws.amazon.com/blogs/developer/python-support-policy-updates-for-aws-sdks-and-tools/\n",
      "  warnings.warn(warning, PythonDeprecationWarning)\n"
     ]
    },
    {
     "name": "stdout",
     "output_type": "stream",
     "text": [
      "--> Removing /tmp/nwm.t22z.analysis_assim.channel_rt.tm00.conus.nc\n",
      "--> Downloading common/data/model/com/nwm/prod/nwm.20220929/analysis_assim/nwm.t23z.analysis_assim.channel_rt.tm00.conus.nc to /tmp/nwm.t23z.analysis_assim.channel_rt.tm00.conus.nc\n"
     ]
    },
    {
     "name": "stderr",
     "output_type": "stream",
     "text": [
      "/home/ec2-user/anaconda3/envs/python3/lib/python3.6/site-packages/boto3/compat.py:88: PythonDeprecationWarning: Boto3 will no longer support Python 3.6 starting May 30, 2022. To continue receiving service updates, bug fixes, and security updates please upgrade to Python 3.7 or later. More information can be found here: https://aws.amazon.com/blogs/developer/python-support-policy-updates-for-aws-sdks-and-tools/\n",
      "  warnings.warn(warning, PythonDeprecationWarning)\n"
     ]
    },
    {
     "name": "stdout",
     "output_type": "stream",
     "text": [
      "--> Removing /tmp/nwm.t23z.analysis_assim.channel_rt.tm00.conus.nc\n",
      "--> Downloading common/data/model/com/nwm/prod/nwm.20220930/analysis_assim/nwm.t00z.analysis_assim.channel_rt.tm00.conus.nc to /tmp/nwm.t00z.analysis_assim.channel_rt.tm00.conus.nc\n"
     ]
    },
    {
     "name": "stderr",
     "output_type": "stream",
     "text": [
      "/home/ec2-user/anaconda3/envs/python3/lib/python3.6/site-packages/boto3/compat.py:88: PythonDeprecationWarning: Boto3 will no longer support Python 3.6 starting May 30, 2022. To continue receiving service updates, bug fixes, and security updates please upgrade to Python 3.7 or later. More information can be found here: https://aws.amazon.com/blogs/developer/python-support-policy-updates-for-aws-sdks-and-tools/\n",
      "  warnings.warn(warning, PythonDeprecationWarning)\n"
     ]
    },
    {
     "name": "stdout",
     "output_type": "stream",
     "text": [
      "--> Removing /tmp/nwm.t00z.analysis_assim.channel_rt.tm00.conus.nc\n",
      "--> Downloading common/data/model/com/nwm/prod/nwm.20220930/analysis_assim/nwm.t01z.analysis_assim.channel_rt.tm00.conus.nc to /tmp/nwm.t01z.analysis_assim.channel_rt.tm00.conus.nc\n"
     ]
    },
    {
     "name": "stderr",
     "output_type": "stream",
     "text": [
      "/home/ec2-user/anaconda3/envs/python3/lib/python3.6/site-packages/boto3/compat.py:88: PythonDeprecationWarning: Boto3 will no longer support Python 3.6 starting May 30, 2022. To continue receiving service updates, bug fixes, and security updates please upgrade to Python 3.7 or later. More information can be found here: https://aws.amazon.com/blogs/developer/python-support-policy-updates-for-aws-sdks-and-tools/\n",
      "  warnings.warn(warning, PythonDeprecationWarning)\n"
     ]
    },
    {
     "name": "stdout",
     "output_type": "stream",
     "text": [
      "--> Removing /tmp/nwm.t01z.analysis_assim.channel_rt.tm00.conus.nc\n",
      "--> Downloading common/data/model/com/nwm/prod/nwm.20220930/analysis_assim/nwm.t02z.analysis_assim.channel_rt.tm00.conus.nc to /tmp/nwm.t02z.analysis_assim.channel_rt.tm00.conus.nc\n"
     ]
    },
    {
     "name": "stderr",
     "output_type": "stream",
     "text": [
      "/home/ec2-user/anaconda3/envs/python3/lib/python3.6/site-packages/boto3/compat.py:88: PythonDeprecationWarning: Boto3 will no longer support Python 3.6 starting May 30, 2022. To continue receiving service updates, bug fixes, and security updates please upgrade to Python 3.7 or later. More information can be found here: https://aws.amazon.com/blogs/developer/python-support-policy-updates-for-aws-sdks-and-tools/\n",
      "  warnings.warn(warning, PythonDeprecationWarning)\n"
     ]
    },
    {
     "name": "stdout",
     "output_type": "stream",
     "text": [
      "--> Removing /tmp/nwm.t02z.analysis_assim.channel_rt.tm00.conus.nc\n",
      "--> Downloading common/data/model/com/nwm/prod/nwm.20220930/analysis_assim/nwm.t03z.analysis_assim.channel_rt.tm00.conus.nc to /tmp/nwm.t03z.analysis_assim.channel_rt.tm00.conus.nc\n"
     ]
    },
    {
     "name": "stderr",
     "output_type": "stream",
     "text": [
      "/home/ec2-user/anaconda3/envs/python3/lib/python3.6/site-packages/boto3/compat.py:88: PythonDeprecationWarning: Boto3 will no longer support Python 3.6 starting May 30, 2022. To continue receiving service updates, bug fixes, and security updates please upgrade to Python 3.7 or later. More information can be found here: https://aws.amazon.com/blogs/developer/python-support-policy-updates-for-aws-sdks-and-tools/\n",
      "  warnings.warn(warning, PythonDeprecationWarning)\n"
     ]
    },
    {
     "name": "stdout",
     "output_type": "stream",
     "text": [
      "--> Removing /tmp/nwm.t03z.analysis_assim.channel_rt.tm00.conus.nc\n",
      "--> Downloading common/data/model/com/nwm/prod/nwm.20220930/analysis_assim/nwm.t04z.analysis_assim.channel_rt.tm00.conus.nc to /tmp/nwm.t04z.analysis_assim.channel_rt.tm00.conus.nc\n"
     ]
    },
    {
     "name": "stderr",
     "output_type": "stream",
     "text": [
      "/home/ec2-user/anaconda3/envs/python3/lib/python3.6/site-packages/boto3/compat.py:88: PythonDeprecationWarning: Boto3 will no longer support Python 3.6 starting May 30, 2022. To continue receiving service updates, bug fixes, and security updates please upgrade to Python 3.7 or later. More information can be found here: https://aws.amazon.com/blogs/developer/python-support-policy-updates-for-aws-sdks-and-tools/\n",
      "  warnings.warn(warning, PythonDeprecationWarning)\n"
     ]
    },
    {
     "name": "stdout",
     "output_type": "stream",
     "text": [
      "--> Removing /tmp/nwm.t04z.analysis_assim.channel_rt.tm00.conus.nc\n",
      "--> Downloading common/data/model/com/nwm/prod/nwm.20220930/analysis_assim/nwm.t05z.analysis_assim.channel_rt.tm00.conus.nc to /tmp/nwm.t05z.analysis_assim.channel_rt.tm00.conus.nc\n"
     ]
    },
    {
     "name": "stderr",
     "output_type": "stream",
     "text": [
      "/home/ec2-user/anaconda3/envs/python3/lib/python3.6/site-packages/boto3/compat.py:88: PythonDeprecationWarning: Boto3 will no longer support Python 3.6 starting May 30, 2022. To continue receiving service updates, bug fixes, and security updates please upgrade to Python 3.7 or later. More information can be found here: https://aws.amazon.com/blogs/developer/python-support-policy-updates-for-aws-sdks-and-tools/\n",
      "  warnings.warn(warning, PythonDeprecationWarning)\n"
     ]
    },
    {
     "name": "stdout",
     "output_type": "stream",
     "text": [
      "--> Removing /tmp/nwm.t05z.analysis_assim.channel_rt.tm00.conus.nc\n",
      "--> Downloading common/data/model/com/nwm/prod/nwm.20220930/analysis_assim/nwm.t06z.analysis_assim.channel_rt.tm00.conus.nc to /tmp/nwm.t06z.analysis_assim.channel_rt.tm00.conus.nc\n"
     ]
    },
    {
     "name": "stderr",
     "output_type": "stream",
     "text": [
      "/home/ec2-user/anaconda3/envs/python3/lib/python3.6/site-packages/boto3/compat.py:88: PythonDeprecationWarning: Boto3 will no longer support Python 3.6 starting May 30, 2022. To continue receiving service updates, bug fixes, and security updates please upgrade to Python 3.7 or later. More information can be found here: https://aws.amazon.com/blogs/developer/python-support-policy-updates-for-aws-sdks-and-tools/\n",
      "  warnings.warn(warning, PythonDeprecationWarning)\n"
     ]
    },
    {
     "name": "stdout",
     "output_type": "stream",
     "text": [
      "--> Removing /tmp/nwm.t06z.analysis_assim.channel_rt.tm00.conus.nc\n",
      "--> Downloading common/data/model/com/nwm/prod/nwm.20220930/analysis_assim/nwm.t07z.analysis_assim.channel_rt.tm00.conus.nc to /tmp/nwm.t07z.analysis_assim.channel_rt.tm00.conus.nc\n"
     ]
    },
    {
     "name": "stderr",
     "output_type": "stream",
     "text": [
      "/home/ec2-user/anaconda3/envs/python3/lib/python3.6/site-packages/boto3/compat.py:88: PythonDeprecationWarning: Boto3 will no longer support Python 3.6 starting May 30, 2022. To continue receiving service updates, bug fixes, and security updates please upgrade to Python 3.7 or later. More information can be found here: https://aws.amazon.com/blogs/developer/python-support-policy-updates-for-aws-sdks-and-tools/\n",
      "  warnings.warn(warning, PythonDeprecationWarning)\n"
     ]
    },
    {
     "name": "stdout",
     "output_type": "stream",
     "text": [
      "--> Removing /tmp/nwm.t07z.analysis_assim.channel_rt.tm00.conus.nc\n",
      "--> Downloading common/data/model/com/nwm/prod/nwm.20220930/analysis_assim/nwm.t08z.analysis_assim.channel_rt.tm00.conus.nc to /tmp/nwm.t08z.analysis_assim.channel_rt.tm00.conus.nc\n"
     ]
    },
    {
     "name": "stderr",
     "output_type": "stream",
     "text": [
      "/home/ec2-user/anaconda3/envs/python3/lib/python3.6/site-packages/boto3/compat.py:88: PythonDeprecationWarning: Boto3 will no longer support Python 3.6 starting May 30, 2022. To continue receiving service updates, bug fixes, and security updates please upgrade to Python 3.7 or later. More information can be found here: https://aws.amazon.com/blogs/developer/python-support-policy-updates-for-aws-sdks-and-tools/\n",
      "  warnings.warn(warning, PythonDeprecationWarning)\n"
     ]
    },
    {
     "name": "stdout",
     "output_type": "stream",
     "text": [
      "--> Removing /tmp/nwm.t08z.analysis_assim.channel_rt.tm00.conus.nc\n",
      "--> Downloading common/data/model/com/nwm/prod/nwm.20220930/analysis_assim/nwm.t09z.analysis_assim.channel_rt.tm00.conus.nc to /tmp/nwm.t09z.analysis_assim.channel_rt.tm00.conus.nc\n"
     ]
    },
    {
     "name": "stderr",
     "output_type": "stream",
     "text": [
      "/home/ec2-user/anaconda3/envs/python3/lib/python3.6/site-packages/boto3/compat.py:88: PythonDeprecationWarning: Boto3 will no longer support Python 3.6 starting May 30, 2022. To continue receiving service updates, bug fixes, and security updates please upgrade to Python 3.7 or later. More information can be found here: https://aws.amazon.com/blogs/developer/python-support-policy-updates-for-aws-sdks-and-tools/\n",
      "  warnings.warn(warning, PythonDeprecationWarning)\n"
     ]
    },
    {
     "name": "stdout",
     "output_type": "stream",
     "text": [
      "--> Removing /tmp/nwm.t09z.analysis_assim.channel_rt.tm00.conus.nc\n",
      "--> Downloading common/data/model/com/nwm/prod/nwm.20220930/analysis_assim/nwm.t10z.analysis_assim.channel_rt.tm00.conus.nc to /tmp/nwm.t10z.analysis_assim.channel_rt.tm00.conus.nc\n"
     ]
    },
    {
     "name": "stderr",
     "output_type": "stream",
     "text": [
      "/home/ec2-user/anaconda3/envs/python3/lib/python3.6/site-packages/boto3/compat.py:88: PythonDeprecationWarning: Boto3 will no longer support Python 3.6 starting May 30, 2022. To continue receiving service updates, bug fixes, and security updates please upgrade to Python 3.7 or later. More information can be found here: https://aws.amazon.com/blogs/developer/python-support-policy-updates-for-aws-sdks-and-tools/\n",
      "  warnings.warn(warning, PythonDeprecationWarning)\n"
     ]
    },
    {
     "name": "stdout",
     "output_type": "stream",
     "text": [
      "--> Removing /tmp/nwm.t10z.analysis_assim.channel_rt.tm00.conus.nc\n",
      "--> Downloading common/data/model/com/nwm/prod/nwm.20220930/analysis_assim/nwm.t11z.analysis_assim.channel_rt.tm00.conus.nc to /tmp/nwm.t11z.analysis_assim.channel_rt.tm00.conus.nc\n"
     ]
    },
    {
     "name": "stderr",
     "output_type": "stream",
     "text": [
      "/home/ec2-user/anaconda3/envs/python3/lib/python3.6/site-packages/boto3/compat.py:88: PythonDeprecationWarning: Boto3 will no longer support Python 3.6 starting May 30, 2022. To continue receiving service updates, bug fixes, and security updates please upgrade to Python 3.7 or later. More information can be found here: https://aws.amazon.com/blogs/developer/python-support-policy-updates-for-aws-sdks-and-tools/\n",
      "  warnings.warn(warning, PythonDeprecationWarning)\n"
     ]
    },
    {
     "name": "stdout",
     "output_type": "stream",
     "text": [
      "--> Removing /tmp/nwm.t11z.analysis_assim.channel_rt.tm00.conus.nc\n",
      "--> Downloading common/data/model/com/nwm/prod/nwm.20220930/analysis_assim/nwm.t12z.analysis_assim.channel_rt.tm00.conus.nc to /tmp/nwm.t12z.analysis_assim.channel_rt.tm00.conus.nc\n"
     ]
    },
    {
     "name": "stderr",
     "output_type": "stream",
     "text": [
      "/home/ec2-user/anaconda3/envs/python3/lib/python3.6/site-packages/boto3/compat.py:88: PythonDeprecationWarning: Boto3 will no longer support Python 3.6 starting May 30, 2022. To continue receiving service updates, bug fixes, and security updates please upgrade to Python 3.7 or later. More information can be found here: https://aws.amazon.com/blogs/developer/python-support-policy-updates-for-aws-sdks-and-tools/\n",
      "  warnings.warn(warning, PythonDeprecationWarning)\n"
     ]
    },
    {
     "name": "stdout",
     "output_type": "stream",
     "text": [
      "--> Removing /tmp/nwm.t12z.analysis_assim.channel_rt.tm00.conus.nc\n",
      "--> Downloading common/data/model/com/nwm/prod/nwm.20220930/analysis_assim/nwm.t13z.analysis_assim.channel_rt.tm00.conus.nc to /tmp/nwm.t13z.analysis_assim.channel_rt.tm00.conus.nc\n"
     ]
    },
    {
     "name": "stderr",
     "output_type": "stream",
     "text": [
      "/home/ec2-user/anaconda3/envs/python3/lib/python3.6/site-packages/boto3/compat.py:88: PythonDeprecationWarning: Boto3 will no longer support Python 3.6 starting May 30, 2022. To continue receiving service updates, bug fixes, and security updates please upgrade to Python 3.7 or later. More information can be found here: https://aws.amazon.com/blogs/developer/python-support-policy-updates-for-aws-sdks-and-tools/\n",
      "  warnings.warn(warning, PythonDeprecationWarning)\n"
     ]
    },
    {
     "name": "stdout",
     "output_type": "stream",
     "text": [
      "--> Removing /tmp/nwm.t13z.analysis_assim.channel_rt.tm00.conus.nc\n",
      "--> Downloading common/data/model/com/nwm/prod/nwm.20220930/analysis_assim/nwm.t14z.analysis_assim.channel_rt.tm00.conus.nc to /tmp/nwm.t14z.analysis_assim.channel_rt.tm00.conus.nc\n"
     ]
    },
    {
     "name": "stderr",
     "output_type": "stream",
     "text": [
      "/home/ec2-user/anaconda3/envs/python3/lib/python3.6/site-packages/boto3/compat.py:88: PythonDeprecationWarning: Boto3 will no longer support Python 3.6 starting May 30, 2022. To continue receiving service updates, bug fixes, and security updates please upgrade to Python 3.7 or later. More information can be found here: https://aws.amazon.com/blogs/developer/python-support-policy-updates-for-aws-sdks-and-tools/\n",
      "  warnings.warn(warning, PythonDeprecationWarning)\n"
     ]
    },
    {
     "name": "stdout",
     "output_type": "stream",
     "text": [
      "--> Removing /tmp/nwm.t14z.analysis_assim.channel_rt.tm00.conus.nc\n",
      "--> Downloading common/data/model/com/nwm/prod/nwm.20220930/analysis_assim/nwm.t15z.analysis_assim.channel_rt.tm00.conus.nc to /tmp/nwm.t15z.analysis_assim.channel_rt.tm00.conus.nc\n"
     ]
    },
    {
     "name": "stderr",
     "output_type": "stream",
     "text": [
      "/home/ec2-user/anaconda3/envs/python3/lib/python3.6/site-packages/boto3/compat.py:88: PythonDeprecationWarning: Boto3 will no longer support Python 3.6 starting May 30, 2022. To continue receiving service updates, bug fixes, and security updates please upgrade to Python 3.7 or later. More information can be found here: https://aws.amazon.com/blogs/developer/python-support-policy-updates-for-aws-sdks-and-tools/\n",
      "  warnings.warn(warning, PythonDeprecationWarning)\n"
     ]
    },
    {
     "name": "stdout",
     "output_type": "stream",
     "text": [
      "--> Removing /tmp/nwm.t15z.analysis_assim.channel_rt.tm00.conus.nc\n",
      "--> Downloading common/data/model/com/nwm/prod/nwm.20220930/analysis_assim/nwm.t16z.analysis_assim.channel_rt.tm00.conus.nc to /tmp/nwm.t16z.analysis_assim.channel_rt.tm00.conus.nc\n"
     ]
    },
    {
     "name": "stderr",
     "output_type": "stream",
     "text": [
      "/home/ec2-user/anaconda3/envs/python3/lib/python3.6/site-packages/boto3/compat.py:88: PythonDeprecationWarning: Boto3 will no longer support Python 3.6 starting May 30, 2022. To continue receiving service updates, bug fixes, and security updates please upgrade to Python 3.7 or later. More information can be found here: https://aws.amazon.com/blogs/developer/python-support-policy-updates-for-aws-sdks-and-tools/\n",
      "  warnings.warn(warning, PythonDeprecationWarning)\n"
     ]
    },
    {
     "name": "stdout",
     "output_type": "stream",
     "text": [
      "--> Removing /tmp/nwm.t16z.analysis_assim.channel_rt.tm00.conus.nc\n",
      "--> Downloading common/data/model/com/nwm/prod/nwm.20220930/analysis_assim/nwm.t17z.analysis_assim.channel_rt.tm00.conus.nc to /tmp/nwm.t17z.analysis_assim.channel_rt.tm00.conus.nc\n"
     ]
    },
    {
     "name": "stderr",
     "output_type": "stream",
     "text": [
      "/home/ec2-user/anaconda3/envs/python3/lib/python3.6/site-packages/boto3/compat.py:88: PythonDeprecationWarning: Boto3 will no longer support Python 3.6 starting May 30, 2022. To continue receiving service updates, bug fixes, and security updates please upgrade to Python 3.7 or later. More information can be found here: https://aws.amazon.com/blogs/developer/python-support-policy-updates-for-aws-sdks-and-tools/\n",
      "  warnings.warn(warning, PythonDeprecationWarning)\n"
     ]
    },
    {
     "name": "stdout",
     "output_type": "stream",
     "text": [
      "--> Removing /tmp/nwm.t17z.analysis_assim.channel_rt.tm00.conus.nc\n",
      "--> Downloading common/data/model/com/nwm/prod/nwm.20220930/analysis_assim/nwm.t18z.analysis_assim.channel_rt.tm00.conus.nc to /tmp/nwm.t18z.analysis_assim.channel_rt.tm00.conus.nc\n"
     ]
    },
    {
     "name": "stderr",
     "output_type": "stream",
     "text": [
      "/home/ec2-user/anaconda3/envs/python3/lib/python3.6/site-packages/boto3/compat.py:88: PythonDeprecationWarning: Boto3 will no longer support Python 3.6 starting May 30, 2022. To continue receiving service updates, bug fixes, and security updates please upgrade to Python 3.7 or later. More information can be found here: https://aws.amazon.com/blogs/developer/python-support-policy-updates-for-aws-sdks-and-tools/\n",
      "  warnings.warn(warning, PythonDeprecationWarning)\n"
     ]
    },
    {
     "name": "stdout",
     "output_type": "stream",
     "text": [
      "--> Removing /tmp/nwm.t18z.analysis_assim.channel_rt.tm00.conus.nc\n",
      "--> Downloading common/data/model/com/nwm/prod/nwm.20220930/analysis_assim/nwm.t19z.analysis_assim.channel_rt.tm00.conus.nc to /tmp/nwm.t19z.analysis_assim.channel_rt.tm00.conus.nc\n"
     ]
    },
    {
     "name": "stderr",
     "output_type": "stream",
     "text": [
      "/home/ec2-user/anaconda3/envs/python3/lib/python3.6/site-packages/boto3/compat.py:88: PythonDeprecationWarning: Boto3 will no longer support Python 3.6 starting May 30, 2022. To continue receiving service updates, bug fixes, and security updates please upgrade to Python 3.7 or later. More information can be found here: https://aws.amazon.com/blogs/developer/python-support-policy-updates-for-aws-sdks-and-tools/\n",
      "  warnings.warn(warning, PythonDeprecationWarning)\n"
     ]
    },
    {
     "name": "stdout",
     "output_type": "stream",
     "text": [
      "--> Removing /tmp/nwm.t19z.analysis_assim.channel_rt.tm00.conus.nc\n",
      "--> Downloading common/data/model/com/nwm/prod/nwm.20220930/analysis_assim/nwm.t20z.analysis_assim.channel_rt.tm00.conus.nc to /tmp/nwm.t20z.analysis_assim.channel_rt.tm00.conus.nc\n"
     ]
    },
    {
     "name": "stderr",
     "output_type": "stream",
     "text": [
      "/home/ec2-user/anaconda3/envs/python3/lib/python3.6/site-packages/boto3/compat.py:88: PythonDeprecationWarning: Boto3 will no longer support Python 3.6 starting May 30, 2022. To continue receiving service updates, bug fixes, and security updates please upgrade to Python 3.7 or later. More information can be found here: https://aws.amazon.com/blogs/developer/python-support-policy-updates-for-aws-sdks-and-tools/\n",
      "  warnings.warn(warning, PythonDeprecationWarning)\n"
     ]
    },
    {
     "name": "stdout",
     "output_type": "stream",
     "text": [
      "--> Removing /tmp/nwm.t20z.analysis_assim.channel_rt.tm00.conus.nc\n",
      "--> Downloading common/data/model/com/nwm/prod/nwm.20220930/analysis_assim/nwm.t21z.analysis_assim.channel_rt.tm00.conus.nc to /tmp/nwm.t21z.analysis_assim.channel_rt.tm00.conus.nc\n"
     ]
    },
    {
     "name": "stderr",
     "output_type": "stream",
     "text": [
      "/home/ec2-user/anaconda3/envs/python3/lib/python3.6/site-packages/boto3/compat.py:88: PythonDeprecationWarning: Boto3 will no longer support Python 3.6 starting May 30, 2022. To continue receiving service updates, bug fixes, and security updates please upgrade to Python 3.7 or later. More information can be found here: https://aws.amazon.com/blogs/developer/python-support-policy-updates-for-aws-sdks-and-tools/\n",
      "  warnings.warn(warning, PythonDeprecationWarning)\n"
     ]
    },
    {
     "name": "stdout",
     "output_type": "stream",
     "text": [
      "--> Removing /tmp/nwm.t21z.analysis_assim.channel_rt.tm00.conus.nc\n",
      "--> Downloading common/data/model/com/nwm/prod/nwm.20220930/analysis_assim/nwm.t22z.analysis_assim.channel_rt.tm00.conus.nc to /tmp/nwm.t22z.analysis_assim.channel_rt.tm00.conus.nc\n"
     ]
    },
    {
     "name": "stderr",
     "output_type": "stream",
     "text": [
      "/home/ec2-user/anaconda3/envs/python3/lib/python3.6/site-packages/boto3/compat.py:88: PythonDeprecationWarning: Boto3 will no longer support Python 3.6 starting May 30, 2022. To continue receiving service updates, bug fixes, and security updates please upgrade to Python 3.7 or later. More information can be found here: https://aws.amazon.com/blogs/developer/python-support-policy-updates-for-aws-sdks-and-tools/\n",
      "  warnings.warn(warning, PythonDeprecationWarning)\n"
     ]
    },
    {
     "name": "stdout",
     "output_type": "stream",
     "text": [
      "--> Removing /tmp/nwm.t22z.analysis_assim.channel_rt.tm00.conus.nc\n",
      "--> Downloading common/data/model/com/nwm/prod/nwm.20220930/analysis_assim/nwm.t23z.analysis_assim.channel_rt.tm00.conus.nc to /tmp/nwm.t23z.analysis_assim.channel_rt.tm00.conus.nc\n"
     ]
    },
    {
     "name": "stderr",
     "output_type": "stream",
     "text": [
      "/home/ec2-user/anaconda3/envs/python3/lib/python3.6/site-packages/boto3/compat.py:88: PythonDeprecationWarning: Boto3 will no longer support Python 3.6 starting May 30, 2022. To continue receiving service updates, bug fixes, and security updates please upgrade to Python 3.7 or later. More information can be found here: https://aws.amazon.com/blogs/developer/python-support-policy-updates-for-aws-sdks-and-tools/\n",
      "  warnings.warn(warning, PythonDeprecationWarning)\n"
     ]
    },
    {
     "name": "stdout",
     "output_type": "stream",
     "text": [
      "--> Removing /tmp/nwm.t23z.analysis_assim.channel_rt.tm00.conus.nc\n",
      "--> Downloading common/data/model/com/nwm/prod/nwm.20221001/analysis_assim/nwm.t00z.analysis_assim.channel_rt.tm00.conus.nc to /tmp/nwm.t00z.analysis_assim.channel_rt.tm00.conus.nc\n"
     ]
    },
    {
     "name": "stderr",
     "output_type": "stream",
     "text": [
      "/home/ec2-user/anaconda3/envs/python3/lib/python3.6/site-packages/boto3/compat.py:88: PythonDeprecationWarning: Boto3 will no longer support Python 3.6 starting May 30, 2022. To continue receiving service updates, bug fixes, and security updates please upgrade to Python 3.7 or later. More information can be found here: https://aws.amazon.com/blogs/developer/python-support-policy-updates-for-aws-sdks-and-tools/\n",
      "  warnings.warn(warning, PythonDeprecationWarning)\n"
     ]
    },
    {
     "name": "stdout",
     "output_type": "stream",
     "text": [
      "--> Removing /tmp/nwm.t00z.analysis_assim.channel_rt.tm00.conus.nc\n",
      "--> Downloading common/data/model/com/nwm/prod/nwm.20221001/analysis_assim/nwm.t01z.analysis_assim.channel_rt.tm00.conus.nc to /tmp/nwm.t01z.analysis_assim.channel_rt.tm00.conus.nc\n"
     ]
    },
    {
     "name": "stderr",
     "output_type": "stream",
     "text": [
      "/home/ec2-user/anaconda3/envs/python3/lib/python3.6/site-packages/boto3/compat.py:88: PythonDeprecationWarning: Boto3 will no longer support Python 3.6 starting May 30, 2022. To continue receiving service updates, bug fixes, and security updates please upgrade to Python 3.7 or later. More information can be found here: https://aws.amazon.com/blogs/developer/python-support-policy-updates-for-aws-sdks-and-tools/\n",
      "  warnings.warn(warning, PythonDeprecationWarning)\n"
     ]
    },
    {
     "name": "stdout",
     "output_type": "stream",
     "text": [
      "--> Removing /tmp/nwm.t01z.analysis_assim.channel_rt.tm00.conus.nc\n",
      "--> Downloading common/data/model/com/nwm/prod/nwm.20221001/analysis_assim/nwm.t02z.analysis_assim.channel_rt.tm00.conus.nc to /tmp/nwm.t02z.analysis_assim.channel_rt.tm00.conus.nc\n"
     ]
    },
    {
     "name": "stderr",
     "output_type": "stream",
     "text": [
      "/home/ec2-user/anaconda3/envs/python3/lib/python3.6/site-packages/boto3/compat.py:88: PythonDeprecationWarning: Boto3 will no longer support Python 3.6 starting May 30, 2022. To continue receiving service updates, bug fixes, and security updates please upgrade to Python 3.7 or later. More information can be found here: https://aws.amazon.com/blogs/developer/python-support-policy-updates-for-aws-sdks-and-tools/\n",
      "  warnings.warn(warning, PythonDeprecationWarning)\n"
     ]
    },
    {
     "name": "stdout",
     "output_type": "stream",
     "text": [
      "--> Removing /tmp/nwm.t02z.analysis_assim.channel_rt.tm00.conus.nc\n",
      "--> Downloading common/data/model/com/nwm/prod/nwm.20221001/analysis_assim/nwm.t03z.analysis_assim.channel_rt.tm00.conus.nc to /tmp/nwm.t03z.analysis_assim.channel_rt.tm00.conus.nc\n"
     ]
    },
    {
     "name": "stderr",
     "output_type": "stream",
     "text": [
      "/home/ec2-user/anaconda3/envs/python3/lib/python3.6/site-packages/boto3/compat.py:88: PythonDeprecationWarning: Boto3 will no longer support Python 3.6 starting May 30, 2022. To continue receiving service updates, bug fixes, and security updates please upgrade to Python 3.7 or later. More information can be found here: https://aws.amazon.com/blogs/developer/python-support-policy-updates-for-aws-sdks-and-tools/\n",
      "  warnings.warn(warning, PythonDeprecationWarning)\n"
     ]
    },
    {
     "name": "stdout",
     "output_type": "stream",
     "text": [
      "--> Removing /tmp/nwm.t03z.analysis_assim.channel_rt.tm00.conus.nc\n",
      "--> Downloading common/data/model/com/nwm/prod/nwm.20221001/analysis_assim/nwm.t04z.analysis_assim.channel_rt.tm00.conus.nc to /tmp/nwm.t04z.analysis_assim.channel_rt.tm00.conus.nc\n"
     ]
    },
    {
     "name": "stderr",
     "output_type": "stream",
     "text": [
      "/home/ec2-user/anaconda3/envs/python3/lib/python3.6/site-packages/boto3/compat.py:88: PythonDeprecationWarning: Boto3 will no longer support Python 3.6 starting May 30, 2022. To continue receiving service updates, bug fixes, and security updates please upgrade to Python 3.7 or later. More information can be found here: https://aws.amazon.com/blogs/developer/python-support-policy-updates-for-aws-sdks-and-tools/\n",
      "  warnings.warn(warning, PythonDeprecationWarning)\n"
     ]
    },
    {
     "name": "stdout",
     "output_type": "stream",
     "text": [
      "--> Removing /tmp/nwm.t04z.analysis_assim.channel_rt.tm00.conus.nc\n",
      "--> Downloading common/data/model/com/nwm/prod/nwm.20221001/analysis_assim/nwm.t05z.analysis_assim.channel_rt.tm00.conus.nc to /tmp/nwm.t05z.analysis_assim.channel_rt.tm00.conus.nc\n"
     ]
    },
    {
     "name": "stderr",
     "output_type": "stream",
     "text": [
      "/home/ec2-user/anaconda3/envs/python3/lib/python3.6/site-packages/boto3/compat.py:88: PythonDeprecationWarning: Boto3 will no longer support Python 3.6 starting May 30, 2022. To continue receiving service updates, bug fixes, and security updates please upgrade to Python 3.7 or later. More information can be found here: https://aws.amazon.com/blogs/developer/python-support-policy-updates-for-aws-sdks-and-tools/\n",
      "  warnings.warn(warning, PythonDeprecationWarning)\n"
     ]
    },
    {
     "name": "stdout",
     "output_type": "stream",
     "text": [
      "--> Removing /tmp/nwm.t05z.analysis_assim.channel_rt.tm00.conus.nc\n",
      "--> Downloading common/data/model/com/nwm/prod/nwm.20221001/analysis_assim/nwm.t06z.analysis_assim.channel_rt.tm00.conus.nc to /tmp/nwm.t06z.analysis_assim.channel_rt.tm00.conus.nc\n"
     ]
    },
    {
     "name": "stderr",
     "output_type": "stream",
     "text": [
      "/home/ec2-user/anaconda3/envs/python3/lib/python3.6/site-packages/boto3/compat.py:88: PythonDeprecationWarning: Boto3 will no longer support Python 3.6 starting May 30, 2022. To continue receiving service updates, bug fixes, and security updates please upgrade to Python 3.7 or later. More information can be found here: https://aws.amazon.com/blogs/developer/python-support-policy-updates-for-aws-sdks-and-tools/\n",
      "  warnings.warn(warning, PythonDeprecationWarning)\n"
     ]
    },
    {
     "name": "stdout",
     "output_type": "stream",
     "text": [
      "--> Removing /tmp/nwm.t06z.analysis_assim.channel_rt.tm00.conus.nc\n",
      "--> Downloading common/data/model/com/nwm/prod/nwm.20221001/analysis_assim/nwm.t07z.analysis_assim.channel_rt.tm00.conus.nc to /tmp/nwm.t07z.analysis_assim.channel_rt.tm00.conus.nc\n"
     ]
    },
    {
     "name": "stderr",
     "output_type": "stream",
     "text": [
      "/home/ec2-user/anaconda3/envs/python3/lib/python3.6/site-packages/boto3/compat.py:88: PythonDeprecationWarning: Boto3 will no longer support Python 3.6 starting May 30, 2022. To continue receiving service updates, bug fixes, and security updates please upgrade to Python 3.7 or later. More information can be found here: https://aws.amazon.com/blogs/developer/python-support-policy-updates-for-aws-sdks-and-tools/\n",
      "  warnings.warn(warning, PythonDeprecationWarning)\n"
     ]
    },
    {
     "name": "stdout",
     "output_type": "stream",
     "text": [
      "--> Removing /tmp/nwm.t07z.analysis_assim.channel_rt.tm00.conus.nc\n",
      "--> Downloading common/data/model/com/nwm/prod/nwm.20221001/analysis_assim/nwm.t08z.analysis_assim.channel_rt.tm00.conus.nc to /tmp/nwm.t08z.analysis_assim.channel_rt.tm00.conus.nc\n"
     ]
    },
    {
     "name": "stderr",
     "output_type": "stream",
     "text": [
      "/home/ec2-user/anaconda3/envs/python3/lib/python3.6/site-packages/boto3/compat.py:88: PythonDeprecationWarning: Boto3 will no longer support Python 3.6 starting May 30, 2022. To continue receiving service updates, bug fixes, and security updates please upgrade to Python 3.7 or later. More information can be found here: https://aws.amazon.com/blogs/developer/python-support-policy-updates-for-aws-sdks-and-tools/\n",
      "  warnings.warn(warning, PythonDeprecationWarning)\n"
     ]
    },
    {
     "name": "stdout",
     "output_type": "stream",
     "text": [
      "--> Removing /tmp/nwm.t08z.analysis_assim.channel_rt.tm00.conus.nc\n",
      "--> Downloading common/data/model/com/nwm/prod/nwm.20221001/analysis_assim/nwm.t09z.analysis_assim.channel_rt.tm00.conus.nc to /tmp/nwm.t09z.analysis_assim.channel_rt.tm00.conus.nc\n"
     ]
    },
    {
     "name": "stderr",
     "output_type": "stream",
     "text": [
      "/home/ec2-user/anaconda3/envs/python3/lib/python3.6/site-packages/boto3/compat.py:88: PythonDeprecationWarning: Boto3 will no longer support Python 3.6 starting May 30, 2022. To continue receiving service updates, bug fixes, and security updates please upgrade to Python 3.7 or later. More information can be found here: https://aws.amazon.com/blogs/developer/python-support-policy-updates-for-aws-sdks-and-tools/\n",
      "  warnings.warn(warning, PythonDeprecationWarning)\n"
     ]
    },
    {
     "name": "stdout",
     "output_type": "stream",
     "text": [
      "--> Removing /tmp/nwm.t09z.analysis_assim.channel_rt.tm00.conus.nc\n",
      "--> Downloading common/data/model/com/nwm/prod/nwm.20221001/analysis_assim/nwm.t10z.analysis_assim.channel_rt.tm00.conus.nc to /tmp/nwm.t10z.analysis_assim.channel_rt.tm00.conus.nc\n"
     ]
    },
    {
     "name": "stderr",
     "output_type": "stream",
     "text": [
      "/home/ec2-user/anaconda3/envs/python3/lib/python3.6/site-packages/boto3/compat.py:88: PythonDeprecationWarning: Boto3 will no longer support Python 3.6 starting May 30, 2022. To continue receiving service updates, bug fixes, and security updates please upgrade to Python 3.7 or later. More information can be found here: https://aws.amazon.com/blogs/developer/python-support-policy-updates-for-aws-sdks-and-tools/\n",
      "  warnings.warn(warning, PythonDeprecationWarning)\n"
     ]
    },
    {
     "name": "stdout",
     "output_type": "stream",
     "text": [
      "--> Removing /tmp/nwm.t10z.analysis_assim.channel_rt.tm00.conus.nc\n",
      "--> Downloading common/data/model/com/nwm/prod/nwm.20221001/analysis_assim/nwm.t11z.analysis_assim.channel_rt.tm00.conus.nc to /tmp/nwm.t11z.analysis_assim.channel_rt.tm00.conus.nc\n"
     ]
    },
    {
     "name": "stderr",
     "output_type": "stream",
     "text": [
      "/home/ec2-user/anaconda3/envs/python3/lib/python3.6/site-packages/boto3/compat.py:88: PythonDeprecationWarning: Boto3 will no longer support Python 3.6 starting May 30, 2022. To continue receiving service updates, bug fixes, and security updates please upgrade to Python 3.7 or later. More information can be found here: https://aws.amazon.com/blogs/developer/python-support-policy-updates-for-aws-sdks-and-tools/\n",
      "  warnings.warn(warning, PythonDeprecationWarning)\n"
     ]
    },
    {
     "name": "stdout",
     "output_type": "stream",
     "text": [
      "--> Removing /tmp/nwm.t11z.analysis_assim.channel_rt.tm00.conus.nc\n",
      "--> Downloading common/data/model/com/nwm/prod/nwm.20221001/analysis_assim/nwm.t12z.analysis_assim.channel_rt.tm00.conus.nc to /tmp/nwm.t12z.analysis_assim.channel_rt.tm00.conus.nc\n"
     ]
    },
    {
     "name": "stderr",
     "output_type": "stream",
     "text": [
      "/home/ec2-user/anaconda3/envs/python3/lib/python3.6/site-packages/boto3/compat.py:88: PythonDeprecationWarning: Boto3 will no longer support Python 3.6 starting May 30, 2022. To continue receiving service updates, bug fixes, and security updates please upgrade to Python 3.7 or later. More information can be found here: https://aws.amazon.com/blogs/developer/python-support-policy-updates-for-aws-sdks-and-tools/\n",
      "  warnings.warn(warning, PythonDeprecationWarning)\n"
     ]
    },
    {
     "name": "stdout",
     "output_type": "stream",
     "text": [
      "--> Removing /tmp/nwm.t12z.analysis_assim.channel_rt.tm00.conus.nc\n",
      "--> Downloading common/data/model/com/nwm/prod/nwm.20221001/analysis_assim/nwm.t13z.analysis_assim.channel_rt.tm00.conus.nc to /tmp/nwm.t13z.analysis_assim.channel_rt.tm00.conus.nc\n"
     ]
    },
    {
     "name": "stderr",
     "output_type": "stream",
     "text": [
      "/home/ec2-user/anaconda3/envs/python3/lib/python3.6/site-packages/boto3/compat.py:88: PythonDeprecationWarning: Boto3 will no longer support Python 3.6 starting May 30, 2022. To continue receiving service updates, bug fixes, and security updates please upgrade to Python 3.7 or later. More information can be found here: https://aws.amazon.com/blogs/developer/python-support-policy-updates-for-aws-sdks-and-tools/\n",
      "  warnings.warn(warning, PythonDeprecationWarning)\n"
     ]
    },
    {
     "name": "stdout",
     "output_type": "stream",
     "text": [
      "--> Removing /tmp/nwm.t13z.analysis_assim.channel_rt.tm00.conus.nc\n",
      "--> Downloading common/data/model/com/nwm/prod/nwm.20221001/analysis_assim/nwm.t14z.analysis_assim.channel_rt.tm00.conus.nc to /tmp/nwm.t14z.analysis_assim.channel_rt.tm00.conus.nc\n"
     ]
    },
    {
     "name": "stderr",
     "output_type": "stream",
     "text": [
      "/home/ec2-user/anaconda3/envs/python3/lib/python3.6/site-packages/boto3/compat.py:88: PythonDeprecationWarning: Boto3 will no longer support Python 3.6 starting May 30, 2022. To continue receiving service updates, bug fixes, and security updates please upgrade to Python 3.7 or later. More information can be found here: https://aws.amazon.com/blogs/developer/python-support-policy-updates-for-aws-sdks-and-tools/\n",
      "  warnings.warn(warning, PythonDeprecationWarning)\n"
     ]
    },
    {
     "name": "stdout",
     "output_type": "stream",
     "text": [
      "--> Removing /tmp/nwm.t14z.analysis_assim.channel_rt.tm00.conus.nc\n",
      "--> Downloading common/data/model/com/nwm/prod/nwm.20221001/analysis_assim/nwm.t15z.analysis_assim.channel_rt.tm00.conus.nc to /tmp/nwm.t15z.analysis_assim.channel_rt.tm00.conus.nc\n"
     ]
    },
    {
     "name": "stderr",
     "output_type": "stream",
     "text": [
      "/home/ec2-user/anaconda3/envs/python3/lib/python3.6/site-packages/boto3/compat.py:88: PythonDeprecationWarning: Boto3 will no longer support Python 3.6 starting May 30, 2022. To continue receiving service updates, bug fixes, and security updates please upgrade to Python 3.7 or later. More information can be found here: https://aws.amazon.com/blogs/developer/python-support-policy-updates-for-aws-sdks-and-tools/\n",
      "  warnings.warn(warning, PythonDeprecationWarning)\n"
     ]
    },
    {
     "name": "stdout",
     "output_type": "stream",
     "text": [
      "--> Removing /tmp/nwm.t15z.analysis_assim.channel_rt.tm00.conus.nc\n",
      "--> Downloading common/data/model/com/nwm/prod/nwm.20221001/analysis_assim/nwm.t16z.analysis_assim.channel_rt.tm00.conus.nc to /tmp/nwm.t16z.analysis_assim.channel_rt.tm00.conus.nc\n"
     ]
    },
    {
     "name": "stderr",
     "output_type": "stream",
     "text": [
      "/home/ec2-user/anaconda3/envs/python3/lib/python3.6/site-packages/boto3/compat.py:88: PythonDeprecationWarning: Boto3 will no longer support Python 3.6 starting May 30, 2022. To continue receiving service updates, bug fixes, and security updates please upgrade to Python 3.7 or later. More information can be found here: https://aws.amazon.com/blogs/developer/python-support-policy-updates-for-aws-sdks-and-tools/\n",
      "  warnings.warn(warning, PythonDeprecationWarning)\n"
     ]
    },
    {
     "name": "stdout",
     "output_type": "stream",
     "text": [
      "--> Removing /tmp/nwm.t16z.analysis_assim.channel_rt.tm00.conus.nc\n",
      "--> Downloading common/data/model/com/nwm/prod/nwm.20221001/analysis_assim/nwm.t17z.analysis_assim.channel_rt.tm00.conus.nc to /tmp/nwm.t17z.analysis_assim.channel_rt.tm00.conus.nc\n"
     ]
    },
    {
     "name": "stderr",
     "output_type": "stream",
     "text": [
      "/home/ec2-user/anaconda3/envs/python3/lib/python3.6/site-packages/boto3/compat.py:88: PythonDeprecationWarning: Boto3 will no longer support Python 3.6 starting May 30, 2022. To continue receiving service updates, bug fixes, and security updates please upgrade to Python 3.7 or later. More information can be found here: https://aws.amazon.com/blogs/developer/python-support-policy-updates-for-aws-sdks-and-tools/\n",
      "  warnings.warn(warning, PythonDeprecationWarning)\n"
     ]
    },
    {
     "name": "stdout",
     "output_type": "stream",
     "text": [
      "--> Removing /tmp/nwm.t17z.analysis_assim.channel_rt.tm00.conus.nc\n",
      "--> Downloading common/data/model/com/nwm/prod/nwm.20221001/analysis_assim/nwm.t18z.analysis_assim.channel_rt.tm00.conus.nc to /tmp/nwm.t18z.analysis_assim.channel_rt.tm00.conus.nc\n"
     ]
    },
    {
     "name": "stderr",
     "output_type": "stream",
     "text": [
      "/home/ec2-user/anaconda3/envs/python3/lib/python3.6/site-packages/boto3/compat.py:88: PythonDeprecationWarning: Boto3 will no longer support Python 3.6 starting May 30, 2022. To continue receiving service updates, bug fixes, and security updates please upgrade to Python 3.7 or later. More information can be found here: https://aws.amazon.com/blogs/developer/python-support-policy-updates-for-aws-sdks-and-tools/\n",
      "  warnings.warn(warning, PythonDeprecationWarning)\n"
     ]
    },
    {
     "name": "stdout",
     "output_type": "stream",
     "text": [
      "--> Removing /tmp/nwm.t18z.analysis_assim.channel_rt.tm00.conus.nc\n",
      "--> Downloading common/data/model/com/nwm/prod/nwm.20221001/analysis_assim/nwm.t19z.analysis_assim.channel_rt.tm00.conus.nc to /tmp/nwm.t19z.analysis_assim.channel_rt.tm00.conus.nc\n"
     ]
    },
    {
     "name": "stderr",
     "output_type": "stream",
     "text": [
      "/home/ec2-user/anaconda3/envs/python3/lib/python3.6/site-packages/boto3/compat.py:88: PythonDeprecationWarning: Boto3 will no longer support Python 3.6 starting May 30, 2022. To continue receiving service updates, bug fixes, and security updates please upgrade to Python 3.7 or later. More information can be found here: https://aws.amazon.com/blogs/developer/python-support-policy-updates-for-aws-sdks-and-tools/\n",
      "  warnings.warn(warning, PythonDeprecationWarning)\n"
     ]
    },
    {
     "name": "stdout",
     "output_type": "stream",
     "text": [
      "--> Removing /tmp/nwm.t19z.analysis_assim.channel_rt.tm00.conus.nc\n",
      "--> Downloading common/data/model/com/nwm/prod/nwm.20221001/analysis_assim/nwm.t20z.analysis_assim.channel_rt.tm00.conus.nc to /tmp/nwm.t20z.analysis_assim.channel_rt.tm00.conus.nc\n"
     ]
    },
    {
     "name": "stderr",
     "output_type": "stream",
     "text": [
      "/home/ec2-user/anaconda3/envs/python3/lib/python3.6/site-packages/boto3/compat.py:88: PythonDeprecationWarning: Boto3 will no longer support Python 3.6 starting May 30, 2022. To continue receiving service updates, bug fixes, and security updates please upgrade to Python 3.7 or later. More information can be found here: https://aws.amazon.com/blogs/developer/python-support-policy-updates-for-aws-sdks-and-tools/\n",
      "  warnings.warn(warning, PythonDeprecationWarning)\n"
     ]
    },
    {
     "name": "stdout",
     "output_type": "stream",
     "text": [
      "--> Removing /tmp/nwm.t20z.analysis_assim.channel_rt.tm00.conus.nc\n",
      "--> Downloading common/data/model/com/nwm/prod/nwm.20221001/analysis_assim/nwm.t21z.analysis_assim.channel_rt.tm00.conus.nc to /tmp/nwm.t21z.analysis_assim.channel_rt.tm00.conus.nc\n"
     ]
    },
    {
     "name": "stderr",
     "output_type": "stream",
     "text": [
      "/home/ec2-user/anaconda3/envs/python3/lib/python3.6/site-packages/boto3/compat.py:88: PythonDeprecationWarning: Boto3 will no longer support Python 3.6 starting May 30, 2022. To continue receiving service updates, bug fixes, and security updates please upgrade to Python 3.7 or later. More information can be found here: https://aws.amazon.com/blogs/developer/python-support-policy-updates-for-aws-sdks-and-tools/\n",
      "  warnings.warn(warning, PythonDeprecationWarning)\n"
     ]
    },
    {
     "name": "stdout",
     "output_type": "stream",
     "text": [
      "--> Removing /tmp/nwm.t21z.analysis_assim.channel_rt.tm00.conus.nc\n",
      "--> Downloading common/data/model/com/nwm/prod/nwm.20221001/analysis_assim/nwm.t22z.analysis_assim.channel_rt.tm00.conus.nc to /tmp/nwm.t22z.analysis_assim.channel_rt.tm00.conus.nc\n"
     ]
    },
    {
     "name": "stderr",
     "output_type": "stream",
     "text": [
      "/home/ec2-user/anaconda3/envs/python3/lib/python3.6/site-packages/boto3/compat.py:88: PythonDeprecationWarning: Boto3 will no longer support Python 3.6 starting May 30, 2022. To continue receiving service updates, bug fixes, and security updates please upgrade to Python 3.7 or later. More information can be found here: https://aws.amazon.com/blogs/developer/python-support-policy-updates-for-aws-sdks-and-tools/\n",
      "  warnings.warn(warning, PythonDeprecationWarning)\n"
     ]
    },
    {
     "name": "stdout",
     "output_type": "stream",
     "text": [
      "--> Removing /tmp/nwm.t22z.analysis_assim.channel_rt.tm00.conus.nc\n",
      "--> Downloading common/data/model/com/nwm/prod/nwm.20221001/analysis_assim/nwm.t23z.analysis_assim.channel_rt.tm00.conus.nc to /tmp/nwm.t23z.analysis_assim.channel_rt.tm00.conus.nc\n"
     ]
    },
    {
     "name": "stderr",
     "output_type": "stream",
     "text": [
      "/home/ec2-user/anaconda3/envs/python3/lib/python3.6/site-packages/boto3/compat.py:88: PythonDeprecationWarning: Boto3 will no longer support Python 3.6 starting May 30, 2022. To continue receiving service updates, bug fixes, and security updates please upgrade to Python 3.7 or later. More information can be found here: https://aws.amazon.com/blogs/developer/python-support-policy-updates-for-aws-sdks-and-tools/\n",
      "  warnings.warn(warning, PythonDeprecationWarning)\n"
     ]
    },
    {
     "name": "stdout",
     "output_type": "stream",
     "text": [
      "--> Removing /tmp/nwm.t23z.analysis_assim.channel_rt.tm00.conus.nc\n",
      "--> Downloading common/data/model/com/nwm/prod/nwm.20221002/analysis_assim/nwm.t00z.analysis_assim.channel_rt.tm00.conus.nc to /tmp/nwm.t00z.analysis_assim.channel_rt.tm00.conus.nc\n"
     ]
    },
    {
     "name": "stderr",
     "output_type": "stream",
     "text": [
      "/home/ec2-user/anaconda3/envs/python3/lib/python3.6/site-packages/boto3/compat.py:88: PythonDeprecationWarning: Boto3 will no longer support Python 3.6 starting May 30, 2022. To continue receiving service updates, bug fixes, and security updates please upgrade to Python 3.7 or later. More information can be found here: https://aws.amazon.com/blogs/developer/python-support-policy-updates-for-aws-sdks-and-tools/\n",
      "  warnings.warn(warning, PythonDeprecationWarning)\n"
     ]
    },
    {
     "name": "stdout",
     "output_type": "stream",
     "text": [
      "--> Removing /tmp/nwm.t00z.analysis_assim.channel_rt.tm00.conus.nc\n",
      "--> Downloading common/data/model/com/nwm/prod/nwm.20221002/analysis_assim/nwm.t01z.analysis_assim.channel_rt.tm00.conus.nc to /tmp/nwm.t01z.analysis_assim.channel_rt.tm00.conus.nc\n"
     ]
    },
    {
     "name": "stderr",
     "output_type": "stream",
     "text": [
      "/home/ec2-user/anaconda3/envs/python3/lib/python3.6/site-packages/boto3/compat.py:88: PythonDeprecationWarning: Boto3 will no longer support Python 3.6 starting May 30, 2022. To continue receiving service updates, bug fixes, and security updates please upgrade to Python 3.7 or later. More information can be found here: https://aws.amazon.com/blogs/developer/python-support-policy-updates-for-aws-sdks-and-tools/\n",
      "  warnings.warn(warning, PythonDeprecationWarning)\n"
     ]
    },
    {
     "name": "stdout",
     "output_type": "stream",
     "text": [
      "--> Removing /tmp/nwm.t01z.analysis_assim.channel_rt.tm00.conus.nc\n",
      "--> Downloading common/data/model/com/nwm/prod/nwm.20221002/analysis_assim/nwm.t02z.analysis_assim.channel_rt.tm00.conus.nc to /tmp/nwm.t02z.analysis_assim.channel_rt.tm00.conus.nc\n"
     ]
    },
    {
     "name": "stderr",
     "output_type": "stream",
     "text": [
      "/home/ec2-user/anaconda3/envs/python3/lib/python3.6/site-packages/boto3/compat.py:88: PythonDeprecationWarning: Boto3 will no longer support Python 3.6 starting May 30, 2022. To continue receiving service updates, bug fixes, and security updates please upgrade to Python 3.7 or later. More information can be found here: https://aws.amazon.com/blogs/developer/python-support-policy-updates-for-aws-sdks-and-tools/\n",
      "  warnings.warn(warning, PythonDeprecationWarning)\n"
     ]
    },
    {
     "name": "stdout",
     "output_type": "stream",
     "text": [
      "--> Removing /tmp/nwm.t02z.analysis_assim.channel_rt.tm00.conus.nc\n",
      "--> Downloading common/data/model/com/nwm/prod/nwm.20221002/analysis_assim/nwm.t03z.analysis_assim.channel_rt.tm00.conus.nc to /tmp/nwm.t03z.analysis_assim.channel_rt.tm00.conus.nc\n"
     ]
    },
    {
     "name": "stderr",
     "output_type": "stream",
     "text": [
      "/home/ec2-user/anaconda3/envs/python3/lib/python3.6/site-packages/boto3/compat.py:88: PythonDeprecationWarning: Boto3 will no longer support Python 3.6 starting May 30, 2022. To continue receiving service updates, bug fixes, and security updates please upgrade to Python 3.7 or later. More information can be found here: https://aws.amazon.com/blogs/developer/python-support-policy-updates-for-aws-sdks-and-tools/\n",
      "  warnings.warn(warning, PythonDeprecationWarning)\n"
     ]
    },
    {
     "name": "stdout",
     "output_type": "stream",
     "text": [
      "--> Removing /tmp/nwm.t03z.analysis_assim.channel_rt.tm00.conus.nc\n",
      "--> Downloading common/data/model/com/nwm/prod/nwm.20221002/analysis_assim/nwm.t04z.analysis_assim.channel_rt.tm00.conus.nc to /tmp/nwm.t04z.analysis_assim.channel_rt.tm00.conus.nc\n"
     ]
    },
    {
     "name": "stderr",
     "output_type": "stream",
     "text": [
      "/home/ec2-user/anaconda3/envs/python3/lib/python3.6/site-packages/boto3/compat.py:88: PythonDeprecationWarning: Boto3 will no longer support Python 3.6 starting May 30, 2022. To continue receiving service updates, bug fixes, and security updates please upgrade to Python 3.7 or later. More information can be found here: https://aws.amazon.com/blogs/developer/python-support-policy-updates-for-aws-sdks-and-tools/\n",
      "  warnings.warn(warning, PythonDeprecationWarning)\n"
     ]
    },
    {
     "name": "stdout",
     "output_type": "stream",
     "text": [
      "--> Removing /tmp/nwm.t04z.analysis_assim.channel_rt.tm00.conus.nc\n",
      "--> Downloading common/data/model/com/nwm/prod/nwm.20221002/analysis_assim/nwm.t05z.analysis_assim.channel_rt.tm00.conus.nc to /tmp/nwm.t05z.analysis_assim.channel_rt.tm00.conus.nc\n"
     ]
    },
    {
     "name": "stderr",
     "output_type": "stream",
     "text": [
      "/home/ec2-user/anaconda3/envs/python3/lib/python3.6/site-packages/boto3/compat.py:88: PythonDeprecationWarning: Boto3 will no longer support Python 3.6 starting May 30, 2022. To continue receiving service updates, bug fixes, and security updates please upgrade to Python 3.7 or later. More information can be found here: https://aws.amazon.com/blogs/developer/python-support-policy-updates-for-aws-sdks-and-tools/\n",
      "  warnings.warn(warning, PythonDeprecationWarning)\n"
     ]
    },
    {
     "name": "stdout",
     "output_type": "stream",
     "text": [
      "--> Removing /tmp/nwm.t05z.analysis_assim.channel_rt.tm00.conus.nc\n",
      "--> Downloading common/data/model/com/nwm/prod/nwm.20221002/analysis_assim/nwm.t06z.analysis_assim.channel_rt.tm00.conus.nc to /tmp/nwm.t06z.analysis_assim.channel_rt.tm00.conus.nc\n"
     ]
    },
    {
     "name": "stderr",
     "output_type": "stream",
     "text": [
      "/home/ec2-user/anaconda3/envs/python3/lib/python3.6/site-packages/boto3/compat.py:88: PythonDeprecationWarning: Boto3 will no longer support Python 3.6 starting May 30, 2022. To continue receiving service updates, bug fixes, and security updates please upgrade to Python 3.7 or later. More information can be found here: https://aws.amazon.com/blogs/developer/python-support-policy-updates-for-aws-sdks-and-tools/\n",
      "  warnings.warn(warning, PythonDeprecationWarning)\n"
     ]
    },
    {
     "name": "stdout",
     "output_type": "stream",
     "text": [
      "--> Removing /tmp/nwm.t06z.analysis_assim.channel_rt.tm00.conus.nc\n",
      "--> Downloading common/data/model/com/nwm/prod/nwm.20221002/analysis_assim/nwm.t07z.analysis_assim.channel_rt.tm00.conus.nc to /tmp/nwm.t07z.analysis_assim.channel_rt.tm00.conus.nc\n"
     ]
    },
    {
     "name": "stderr",
     "output_type": "stream",
     "text": [
      "/home/ec2-user/anaconda3/envs/python3/lib/python3.6/site-packages/boto3/compat.py:88: PythonDeprecationWarning: Boto3 will no longer support Python 3.6 starting May 30, 2022. To continue receiving service updates, bug fixes, and security updates please upgrade to Python 3.7 or later. More information can be found here: https://aws.amazon.com/blogs/developer/python-support-policy-updates-for-aws-sdks-and-tools/\n",
      "  warnings.warn(warning, PythonDeprecationWarning)\n"
     ]
    },
    {
     "name": "stdout",
     "output_type": "stream",
     "text": [
      "--> Removing /tmp/nwm.t07z.analysis_assim.channel_rt.tm00.conus.nc\n",
      "--> Downloading common/data/model/com/nwm/prod/nwm.20221002/analysis_assim/nwm.t08z.analysis_assim.channel_rt.tm00.conus.nc to /tmp/nwm.t08z.analysis_assim.channel_rt.tm00.conus.nc\n"
     ]
    },
    {
     "name": "stderr",
     "output_type": "stream",
     "text": [
      "/home/ec2-user/anaconda3/envs/python3/lib/python3.6/site-packages/boto3/compat.py:88: PythonDeprecationWarning: Boto3 will no longer support Python 3.6 starting May 30, 2022. To continue receiving service updates, bug fixes, and security updates please upgrade to Python 3.7 or later. More information can be found here: https://aws.amazon.com/blogs/developer/python-support-policy-updates-for-aws-sdks-and-tools/\n",
      "  warnings.warn(warning, PythonDeprecationWarning)\n"
     ]
    },
    {
     "name": "stdout",
     "output_type": "stream",
     "text": [
      "--> Removing /tmp/nwm.t08z.analysis_assim.channel_rt.tm00.conus.nc\n",
      "--> Downloading common/data/model/com/nwm/prod/nwm.20221002/analysis_assim/nwm.t09z.analysis_assim.channel_rt.tm00.conus.nc to /tmp/nwm.t09z.analysis_assim.channel_rt.tm00.conus.nc\n"
     ]
    },
    {
     "name": "stderr",
     "output_type": "stream",
     "text": [
      "/home/ec2-user/anaconda3/envs/python3/lib/python3.6/site-packages/boto3/compat.py:88: PythonDeprecationWarning: Boto3 will no longer support Python 3.6 starting May 30, 2022. To continue receiving service updates, bug fixes, and security updates please upgrade to Python 3.7 or later. More information can be found here: https://aws.amazon.com/blogs/developer/python-support-policy-updates-for-aws-sdks-and-tools/\n",
      "  warnings.warn(warning, PythonDeprecationWarning)\n"
     ]
    },
    {
     "name": "stdout",
     "output_type": "stream",
     "text": [
      "--> Removing /tmp/nwm.t09z.analysis_assim.channel_rt.tm00.conus.nc\n",
      "--> Downloading common/data/model/com/nwm/prod/nwm.20221002/analysis_assim/nwm.t10z.analysis_assim.channel_rt.tm00.conus.nc to /tmp/nwm.t10z.analysis_assim.channel_rt.tm00.conus.nc\n"
     ]
    },
    {
     "name": "stderr",
     "output_type": "stream",
     "text": [
      "/home/ec2-user/anaconda3/envs/python3/lib/python3.6/site-packages/boto3/compat.py:88: PythonDeprecationWarning: Boto3 will no longer support Python 3.6 starting May 30, 2022. To continue receiving service updates, bug fixes, and security updates please upgrade to Python 3.7 or later. More information can be found here: https://aws.amazon.com/blogs/developer/python-support-policy-updates-for-aws-sdks-and-tools/\n",
      "  warnings.warn(warning, PythonDeprecationWarning)\n"
     ]
    },
    {
     "name": "stdout",
     "output_type": "stream",
     "text": [
      "--> Removing /tmp/nwm.t10z.analysis_assim.channel_rt.tm00.conus.nc\n",
      "--> Downloading common/data/model/com/nwm/prod/nwm.20221002/analysis_assim/nwm.t11z.analysis_assim.channel_rt.tm00.conus.nc to /tmp/nwm.t11z.analysis_assim.channel_rt.tm00.conus.nc\n"
     ]
    },
    {
     "name": "stderr",
     "output_type": "stream",
     "text": [
      "/home/ec2-user/anaconda3/envs/python3/lib/python3.6/site-packages/boto3/compat.py:88: PythonDeprecationWarning: Boto3 will no longer support Python 3.6 starting May 30, 2022. To continue receiving service updates, bug fixes, and security updates please upgrade to Python 3.7 or later. More information can be found here: https://aws.amazon.com/blogs/developer/python-support-policy-updates-for-aws-sdks-and-tools/\n",
      "  warnings.warn(warning, PythonDeprecationWarning)\n"
     ]
    },
    {
     "name": "stdout",
     "output_type": "stream",
     "text": [
      "--> Removing /tmp/nwm.t11z.analysis_assim.channel_rt.tm00.conus.nc\n",
      "--> Downloading common/data/model/com/nwm/prod/nwm.20221002/analysis_assim/nwm.t12z.analysis_assim.channel_rt.tm00.conus.nc to /tmp/nwm.t12z.analysis_assim.channel_rt.tm00.conus.nc\n"
     ]
    },
    {
     "name": "stderr",
     "output_type": "stream",
     "text": [
      "/home/ec2-user/anaconda3/envs/python3/lib/python3.6/site-packages/boto3/compat.py:88: PythonDeprecationWarning: Boto3 will no longer support Python 3.6 starting May 30, 2022. To continue receiving service updates, bug fixes, and security updates please upgrade to Python 3.7 or later. More information can be found here: https://aws.amazon.com/blogs/developer/python-support-policy-updates-for-aws-sdks-and-tools/\n",
      "  warnings.warn(warning, PythonDeprecationWarning)\n"
     ]
    },
    {
     "name": "stdout",
     "output_type": "stream",
     "text": [
      "--> Removing /tmp/nwm.t12z.analysis_assim.channel_rt.tm00.conus.nc\n",
      "--> Downloading common/data/model/com/nwm/prod/nwm.20221002/analysis_assim/nwm.t13z.analysis_assim.channel_rt.tm00.conus.nc to /tmp/nwm.t13z.analysis_assim.channel_rt.tm00.conus.nc\n"
     ]
    },
    {
     "name": "stderr",
     "output_type": "stream",
     "text": [
      "/home/ec2-user/anaconda3/envs/python3/lib/python3.6/site-packages/boto3/compat.py:88: PythonDeprecationWarning: Boto3 will no longer support Python 3.6 starting May 30, 2022. To continue receiving service updates, bug fixes, and security updates please upgrade to Python 3.7 or later. More information can be found here: https://aws.amazon.com/blogs/developer/python-support-policy-updates-for-aws-sdks-and-tools/\n",
      "  warnings.warn(warning, PythonDeprecationWarning)\n"
     ]
    },
    {
     "name": "stdout",
     "output_type": "stream",
     "text": [
      "--> Removing /tmp/nwm.t13z.analysis_assim.channel_rt.tm00.conus.nc\n",
      "--> Downloading common/data/model/com/nwm/prod/nwm.20221002/analysis_assim/nwm.t14z.analysis_assim.channel_rt.tm00.conus.nc to /tmp/nwm.t14z.analysis_assim.channel_rt.tm00.conus.nc\n"
     ]
    },
    {
     "name": "stderr",
     "output_type": "stream",
     "text": [
      "/home/ec2-user/anaconda3/envs/python3/lib/python3.6/site-packages/boto3/compat.py:88: PythonDeprecationWarning: Boto3 will no longer support Python 3.6 starting May 30, 2022. To continue receiving service updates, bug fixes, and security updates please upgrade to Python 3.7 or later. More information can be found here: https://aws.amazon.com/blogs/developer/python-support-policy-updates-for-aws-sdks-and-tools/\n",
      "  warnings.warn(warning, PythonDeprecationWarning)\n"
     ]
    },
    {
     "name": "stdout",
     "output_type": "stream",
     "text": [
      "--> Removing /tmp/nwm.t14z.analysis_assim.channel_rt.tm00.conus.nc\n",
      "--> Downloading common/data/model/com/nwm/prod/nwm.20221002/analysis_assim/nwm.t15z.analysis_assim.channel_rt.tm00.conus.nc to /tmp/nwm.t15z.analysis_assim.channel_rt.tm00.conus.nc\n"
     ]
    },
    {
     "name": "stderr",
     "output_type": "stream",
     "text": [
      "/home/ec2-user/anaconda3/envs/python3/lib/python3.6/site-packages/boto3/compat.py:88: PythonDeprecationWarning: Boto3 will no longer support Python 3.6 starting May 30, 2022. To continue receiving service updates, bug fixes, and security updates please upgrade to Python 3.7 or later. More information can be found here: https://aws.amazon.com/blogs/developer/python-support-policy-updates-for-aws-sdks-and-tools/\n",
      "  warnings.warn(warning, PythonDeprecationWarning)\n"
     ]
    },
    {
     "name": "stdout",
     "output_type": "stream",
     "text": [
      "--> Removing /tmp/nwm.t15z.analysis_assim.channel_rt.tm00.conus.nc\n",
      "--> Downloading common/data/model/com/nwm/prod/nwm.20221002/analysis_assim/nwm.t16z.analysis_assim.channel_rt.tm00.conus.nc to /tmp/nwm.t16z.analysis_assim.channel_rt.tm00.conus.nc\n"
     ]
    },
    {
     "name": "stderr",
     "output_type": "stream",
     "text": [
      "/home/ec2-user/anaconda3/envs/python3/lib/python3.6/site-packages/boto3/compat.py:88: PythonDeprecationWarning: Boto3 will no longer support Python 3.6 starting May 30, 2022. To continue receiving service updates, bug fixes, and security updates please upgrade to Python 3.7 or later. More information can be found here: https://aws.amazon.com/blogs/developer/python-support-policy-updates-for-aws-sdks-and-tools/\n",
      "  warnings.warn(warning, PythonDeprecationWarning)\n"
     ]
    },
    {
     "name": "stdout",
     "output_type": "stream",
     "text": [
      "--> Removing /tmp/nwm.t16z.analysis_assim.channel_rt.tm00.conus.nc\n",
      "--> Downloading common/data/model/com/nwm/prod/nwm.20221002/analysis_assim/nwm.t17z.analysis_assim.channel_rt.tm00.conus.nc to /tmp/nwm.t17z.analysis_assim.channel_rt.tm00.conus.nc\n"
     ]
    },
    {
     "name": "stderr",
     "output_type": "stream",
     "text": [
      "/home/ec2-user/anaconda3/envs/python3/lib/python3.6/site-packages/boto3/compat.py:88: PythonDeprecationWarning: Boto3 will no longer support Python 3.6 starting May 30, 2022. To continue receiving service updates, bug fixes, and security updates please upgrade to Python 3.7 or later. More information can be found here: https://aws.amazon.com/blogs/developer/python-support-policy-updates-for-aws-sdks-and-tools/\n",
      "  warnings.warn(warning, PythonDeprecationWarning)\n"
     ]
    },
    {
     "name": "stdout",
     "output_type": "stream",
     "text": [
      "--> Removing /tmp/nwm.t17z.analysis_assim.channel_rt.tm00.conus.nc\n",
      "--> Downloading common/data/model/com/nwm/prod/nwm.20221002/analysis_assim/nwm.t18z.analysis_assim.channel_rt.tm00.conus.nc to /tmp/nwm.t18z.analysis_assim.channel_rt.tm00.conus.nc\n"
     ]
    },
    {
     "name": "stderr",
     "output_type": "stream",
     "text": [
      "/home/ec2-user/anaconda3/envs/python3/lib/python3.6/site-packages/boto3/compat.py:88: PythonDeprecationWarning: Boto3 will no longer support Python 3.6 starting May 30, 2022. To continue receiving service updates, bug fixes, and security updates please upgrade to Python 3.7 or later. More information can be found here: https://aws.amazon.com/blogs/developer/python-support-policy-updates-for-aws-sdks-and-tools/\n",
      "  warnings.warn(warning, PythonDeprecationWarning)\n"
     ]
    },
    {
     "name": "stdout",
     "output_type": "stream",
     "text": [
      "--> Removing /tmp/nwm.t18z.analysis_assim.channel_rt.tm00.conus.nc\n",
      "--> Downloading common/data/model/com/nwm/prod/nwm.20221002/analysis_assim/nwm.t19z.analysis_assim.channel_rt.tm00.conus.nc to /tmp/nwm.t19z.analysis_assim.channel_rt.tm00.conus.nc\n"
     ]
    },
    {
     "name": "stderr",
     "output_type": "stream",
     "text": [
      "/home/ec2-user/anaconda3/envs/python3/lib/python3.6/site-packages/boto3/compat.py:88: PythonDeprecationWarning: Boto3 will no longer support Python 3.6 starting May 30, 2022. To continue receiving service updates, bug fixes, and security updates please upgrade to Python 3.7 or later. More information can be found here: https://aws.amazon.com/blogs/developer/python-support-policy-updates-for-aws-sdks-and-tools/\n",
      "  warnings.warn(warning, PythonDeprecationWarning)\n"
     ]
    },
    {
     "name": "stdout",
     "output_type": "stream",
     "text": [
      "--> Removing /tmp/nwm.t19z.analysis_assim.channel_rt.tm00.conus.nc\n",
      "--> Downloading common/data/model/com/nwm/prod/nwm.20221002/analysis_assim/nwm.t20z.analysis_assim.channel_rt.tm00.conus.nc to /tmp/nwm.t20z.analysis_assim.channel_rt.tm00.conus.nc\n"
     ]
    },
    {
     "name": "stderr",
     "output_type": "stream",
     "text": [
      "/home/ec2-user/anaconda3/envs/python3/lib/python3.6/site-packages/boto3/compat.py:88: PythonDeprecationWarning: Boto3 will no longer support Python 3.6 starting May 30, 2022. To continue receiving service updates, bug fixes, and security updates please upgrade to Python 3.7 or later. More information can be found here: https://aws.amazon.com/blogs/developer/python-support-policy-updates-for-aws-sdks-and-tools/\n",
      "  warnings.warn(warning, PythonDeprecationWarning)\n"
     ]
    },
    {
     "name": "stdout",
     "output_type": "stream",
     "text": [
      "--> Removing /tmp/nwm.t20z.analysis_assim.channel_rt.tm00.conus.nc\n",
      "--> Downloading common/data/model/com/nwm/prod/nwm.20221002/analysis_assim/nwm.t21z.analysis_assim.channel_rt.tm00.conus.nc to /tmp/nwm.t21z.analysis_assim.channel_rt.tm00.conus.nc\n"
     ]
    },
    {
     "name": "stderr",
     "output_type": "stream",
     "text": [
      "/home/ec2-user/anaconda3/envs/python3/lib/python3.6/site-packages/boto3/compat.py:88: PythonDeprecationWarning: Boto3 will no longer support Python 3.6 starting May 30, 2022. To continue receiving service updates, bug fixes, and security updates please upgrade to Python 3.7 or later. More information can be found here: https://aws.amazon.com/blogs/developer/python-support-policy-updates-for-aws-sdks-and-tools/\n",
      "  warnings.warn(warning, PythonDeprecationWarning)\n"
     ]
    },
    {
     "name": "stdout",
     "output_type": "stream",
     "text": [
      "--> Removing /tmp/nwm.t21z.analysis_assim.channel_rt.tm00.conus.nc\n",
      "--> Downloading common/data/model/com/nwm/prod/nwm.20221002/analysis_assim/nwm.t22z.analysis_assim.channel_rt.tm00.conus.nc to /tmp/nwm.t22z.analysis_assim.channel_rt.tm00.conus.nc\n"
     ]
    },
    {
     "name": "stderr",
     "output_type": "stream",
     "text": [
      "/home/ec2-user/anaconda3/envs/python3/lib/python3.6/site-packages/boto3/compat.py:88: PythonDeprecationWarning: Boto3 will no longer support Python 3.6 starting May 30, 2022. To continue receiving service updates, bug fixes, and security updates please upgrade to Python 3.7 or later. More information can be found here: https://aws.amazon.com/blogs/developer/python-support-policy-updates-for-aws-sdks-and-tools/\n",
      "  warnings.warn(warning, PythonDeprecationWarning)\n"
     ]
    },
    {
     "name": "stdout",
     "output_type": "stream",
     "text": [
      "--> Removing /tmp/nwm.t22z.analysis_assim.channel_rt.tm00.conus.nc\n",
      "--> Downloading common/data/model/com/nwm/prod/nwm.20221002/analysis_assim/nwm.t23z.analysis_assim.channel_rt.tm00.conus.nc to /tmp/nwm.t23z.analysis_assim.channel_rt.tm00.conus.nc\n"
     ]
    },
    {
     "name": "stderr",
     "output_type": "stream",
     "text": [
      "/home/ec2-user/anaconda3/envs/python3/lib/python3.6/site-packages/boto3/compat.py:88: PythonDeprecationWarning: Boto3 will no longer support Python 3.6 starting May 30, 2022. To continue receiving service updates, bug fixes, and security updates please upgrade to Python 3.7 or later. More information can be found here: https://aws.amazon.com/blogs/developer/python-support-policy-updates-for-aws-sdks-and-tools/\n",
      "  warnings.warn(warning, PythonDeprecationWarning)\n"
     ]
    },
    {
     "name": "stdout",
     "output_type": "stream",
     "text": [
      "--> Removing /tmp/nwm.t23z.analysis_assim.channel_rt.tm00.conus.nc\n",
      "--> Downloading common/data/model/com/nwm/prod/nwm.20221003/analysis_assim/nwm.t00z.analysis_assim.channel_rt.tm00.conus.nc to /tmp/nwm.t00z.analysis_assim.channel_rt.tm00.conus.nc\n"
     ]
    },
    {
     "name": "stderr",
     "output_type": "stream",
     "text": [
      "/home/ec2-user/anaconda3/envs/python3/lib/python3.6/site-packages/boto3/compat.py:88: PythonDeprecationWarning: Boto3 will no longer support Python 3.6 starting May 30, 2022. To continue receiving service updates, bug fixes, and security updates please upgrade to Python 3.7 or later. More information can be found here: https://aws.amazon.com/blogs/developer/python-support-policy-updates-for-aws-sdks-and-tools/\n",
      "  warnings.warn(warning, PythonDeprecationWarning)\n"
     ]
    },
    {
     "name": "stdout",
     "output_type": "stream",
     "text": [
      "--> Removing /tmp/nwm.t00z.analysis_assim.channel_rt.tm00.conus.nc\n",
      "--> Downloading common/data/model/com/nwm/prod/nwm.20221003/analysis_assim/nwm.t01z.analysis_assim.channel_rt.tm00.conus.nc to /tmp/nwm.t01z.analysis_assim.channel_rt.tm00.conus.nc\n"
     ]
    },
    {
     "name": "stderr",
     "output_type": "stream",
     "text": [
      "/home/ec2-user/anaconda3/envs/python3/lib/python3.6/site-packages/boto3/compat.py:88: PythonDeprecationWarning: Boto3 will no longer support Python 3.6 starting May 30, 2022. To continue receiving service updates, bug fixes, and security updates please upgrade to Python 3.7 or later. More information can be found here: https://aws.amazon.com/blogs/developer/python-support-policy-updates-for-aws-sdks-and-tools/\n",
      "  warnings.warn(warning, PythonDeprecationWarning)\n"
     ]
    },
    {
     "name": "stdout",
     "output_type": "stream",
     "text": [
      "--> Removing /tmp/nwm.t01z.analysis_assim.channel_rt.tm00.conus.nc\n",
      "--> Downloading common/data/model/com/nwm/prod/nwm.20221003/analysis_assim/nwm.t02z.analysis_assim.channel_rt.tm00.conus.nc to /tmp/nwm.t02z.analysis_assim.channel_rt.tm00.conus.nc\n"
     ]
    },
    {
     "name": "stderr",
     "output_type": "stream",
     "text": [
      "/home/ec2-user/anaconda3/envs/python3/lib/python3.6/site-packages/boto3/compat.py:88: PythonDeprecationWarning: Boto3 will no longer support Python 3.6 starting May 30, 2022. To continue receiving service updates, bug fixes, and security updates please upgrade to Python 3.7 or later. More information can be found here: https://aws.amazon.com/blogs/developer/python-support-policy-updates-for-aws-sdks-and-tools/\n",
      "  warnings.warn(warning, PythonDeprecationWarning)\n"
     ]
    },
    {
     "name": "stdout",
     "output_type": "stream",
     "text": [
      "--> Removing /tmp/nwm.t02z.analysis_assim.channel_rt.tm00.conus.nc\n",
      "--> Downloading common/data/model/com/nwm/prod/nwm.20221003/analysis_assim/nwm.t03z.analysis_assim.channel_rt.tm00.conus.nc to /tmp/nwm.t03z.analysis_assim.channel_rt.tm00.conus.nc\n"
     ]
    },
    {
     "name": "stderr",
     "output_type": "stream",
     "text": [
      "/home/ec2-user/anaconda3/envs/python3/lib/python3.6/site-packages/boto3/compat.py:88: PythonDeprecationWarning: Boto3 will no longer support Python 3.6 starting May 30, 2022. To continue receiving service updates, bug fixes, and security updates please upgrade to Python 3.7 or later. More information can be found here: https://aws.amazon.com/blogs/developer/python-support-policy-updates-for-aws-sdks-and-tools/\n",
      "  warnings.warn(warning, PythonDeprecationWarning)\n"
     ]
    },
    {
     "name": "stdout",
     "output_type": "stream",
     "text": [
      "--> Removing /tmp/nwm.t03z.analysis_assim.channel_rt.tm00.conus.nc\n",
      "--> Downloading common/data/model/com/nwm/prod/nwm.20221003/analysis_assim/nwm.t04z.analysis_assim.channel_rt.tm00.conus.nc to /tmp/nwm.t04z.analysis_assim.channel_rt.tm00.conus.nc\n"
     ]
    },
    {
     "name": "stderr",
     "output_type": "stream",
     "text": [
      "/home/ec2-user/anaconda3/envs/python3/lib/python3.6/site-packages/boto3/compat.py:88: PythonDeprecationWarning: Boto3 will no longer support Python 3.6 starting May 30, 2022. To continue receiving service updates, bug fixes, and security updates please upgrade to Python 3.7 or later. More information can be found here: https://aws.amazon.com/blogs/developer/python-support-policy-updates-for-aws-sdks-and-tools/\n",
      "  warnings.warn(warning, PythonDeprecationWarning)\n"
     ]
    },
    {
     "name": "stdout",
     "output_type": "stream",
     "text": [
      "--> Removing /tmp/nwm.t04z.analysis_assim.channel_rt.tm00.conus.nc\n",
      "--> Downloading common/data/model/com/nwm/prod/nwm.20221003/analysis_assim/nwm.t05z.analysis_assim.channel_rt.tm00.conus.nc to /tmp/nwm.t05z.analysis_assim.channel_rt.tm00.conus.nc\n"
     ]
    },
    {
     "name": "stderr",
     "output_type": "stream",
     "text": [
      "/home/ec2-user/anaconda3/envs/python3/lib/python3.6/site-packages/boto3/compat.py:88: PythonDeprecationWarning: Boto3 will no longer support Python 3.6 starting May 30, 2022. To continue receiving service updates, bug fixes, and security updates please upgrade to Python 3.7 or later. More information can be found here: https://aws.amazon.com/blogs/developer/python-support-policy-updates-for-aws-sdks-and-tools/\n",
      "  warnings.warn(warning, PythonDeprecationWarning)\n"
     ]
    },
    {
     "name": "stdout",
     "output_type": "stream",
     "text": [
      "--> Removing /tmp/nwm.t05z.analysis_assim.channel_rt.tm00.conus.nc\n",
      "--> Downloading common/data/model/com/nwm/prod/nwm.20221003/analysis_assim/nwm.t06z.analysis_assim.channel_rt.tm00.conus.nc to /tmp/nwm.t06z.analysis_assim.channel_rt.tm00.conus.nc\n"
     ]
    },
    {
     "name": "stderr",
     "output_type": "stream",
     "text": [
      "/home/ec2-user/anaconda3/envs/python3/lib/python3.6/site-packages/boto3/compat.py:88: PythonDeprecationWarning: Boto3 will no longer support Python 3.6 starting May 30, 2022. To continue receiving service updates, bug fixes, and security updates please upgrade to Python 3.7 or later. More information can be found here: https://aws.amazon.com/blogs/developer/python-support-policy-updates-for-aws-sdks-and-tools/\n",
      "  warnings.warn(warning, PythonDeprecationWarning)\n"
     ]
    },
    {
     "name": "stdout",
     "output_type": "stream",
     "text": [
      "--> Removing /tmp/nwm.t06z.analysis_assim.channel_rt.tm00.conus.nc\n",
      "--> Downloading common/data/model/com/nwm/prod/nwm.20221003/analysis_assim/nwm.t07z.analysis_assim.channel_rt.tm00.conus.nc to /tmp/nwm.t07z.analysis_assim.channel_rt.tm00.conus.nc\n"
     ]
    },
    {
     "name": "stderr",
     "output_type": "stream",
     "text": [
      "/home/ec2-user/anaconda3/envs/python3/lib/python3.6/site-packages/boto3/compat.py:88: PythonDeprecationWarning: Boto3 will no longer support Python 3.6 starting May 30, 2022. To continue receiving service updates, bug fixes, and security updates please upgrade to Python 3.7 or later. More information can be found here: https://aws.amazon.com/blogs/developer/python-support-policy-updates-for-aws-sdks-and-tools/\n",
      "  warnings.warn(warning, PythonDeprecationWarning)\n"
     ]
    },
    {
     "name": "stdout",
     "output_type": "stream",
     "text": [
      "--> Removing /tmp/nwm.t07z.analysis_assim.channel_rt.tm00.conus.nc\n",
      "--> Downloading common/data/model/com/nwm/prod/nwm.20221003/analysis_assim/nwm.t08z.analysis_assim.channel_rt.tm00.conus.nc to /tmp/nwm.t08z.analysis_assim.channel_rt.tm00.conus.nc\n"
     ]
    },
    {
     "name": "stderr",
     "output_type": "stream",
     "text": [
      "/home/ec2-user/anaconda3/envs/python3/lib/python3.6/site-packages/boto3/compat.py:88: PythonDeprecationWarning: Boto3 will no longer support Python 3.6 starting May 30, 2022. To continue receiving service updates, bug fixes, and security updates please upgrade to Python 3.7 or later. More information can be found here: https://aws.amazon.com/blogs/developer/python-support-policy-updates-for-aws-sdks-and-tools/\n",
      "  warnings.warn(warning, PythonDeprecationWarning)\n"
     ]
    },
    {
     "name": "stdout",
     "output_type": "stream",
     "text": [
      "--> Removing /tmp/nwm.t08z.analysis_assim.channel_rt.tm00.conus.nc\n",
      "--> Downloading common/data/model/com/nwm/prod/nwm.20221003/analysis_assim/nwm.t09z.analysis_assim.channel_rt.tm00.conus.nc to /tmp/nwm.t09z.analysis_assim.channel_rt.tm00.conus.nc\n"
     ]
    },
    {
     "name": "stderr",
     "output_type": "stream",
     "text": [
      "/home/ec2-user/anaconda3/envs/python3/lib/python3.6/site-packages/boto3/compat.py:88: PythonDeprecationWarning: Boto3 will no longer support Python 3.6 starting May 30, 2022. To continue receiving service updates, bug fixes, and security updates please upgrade to Python 3.7 or later. More information can be found here: https://aws.amazon.com/blogs/developer/python-support-policy-updates-for-aws-sdks-and-tools/\n",
      "  warnings.warn(warning, PythonDeprecationWarning)\n"
     ]
    },
    {
     "name": "stdout",
     "output_type": "stream",
     "text": [
      "--> Removing /tmp/nwm.t09z.analysis_assim.channel_rt.tm00.conus.nc\n",
      "--> Downloading common/data/model/com/nwm/prod/nwm.20221003/analysis_assim/nwm.t10z.analysis_assim.channel_rt.tm00.conus.nc to /tmp/nwm.t10z.analysis_assim.channel_rt.tm00.conus.nc\n"
     ]
    },
    {
     "name": "stderr",
     "output_type": "stream",
     "text": [
      "/home/ec2-user/anaconda3/envs/python3/lib/python3.6/site-packages/boto3/compat.py:88: PythonDeprecationWarning: Boto3 will no longer support Python 3.6 starting May 30, 2022. To continue receiving service updates, bug fixes, and security updates please upgrade to Python 3.7 or later. More information can be found here: https://aws.amazon.com/blogs/developer/python-support-policy-updates-for-aws-sdks-and-tools/\n",
      "  warnings.warn(warning, PythonDeprecationWarning)\n"
     ]
    },
    {
     "name": "stdout",
     "output_type": "stream",
     "text": [
      "--> Removing /tmp/nwm.t10z.analysis_assim.channel_rt.tm00.conus.nc\n",
      "--> Downloading common/data/model/com/nwm/prod/nwm.20221003/analysis_assim/nwm.t11z.analysis_assim.channel_rt.tm00.conus.nc to /tmp/nwm.t11z.analysis_assim.channel_rt.tm00.conus.nc\n"
     ]
    },
    {
     "name": "stderr",
     "output_type": "stream",
     "text": [
      "/home/ec2-user/anaconda3/envs/python3/lib/python3.6/site-packages/boto3/compat.py:88: PythonDeprecationWarning: Boto3 will no longer support Python 3.6 starting May 30, 2022. To continue receiving service updates, bug fixes, and security updates please upgrade to Python 3.7 or later. More information can be found here: https://aws.amazon.com/blogs/developer/python-support-policy-updates-for-aws-sdks-and-tools/\n",
      "  warnings.warn(warning, PythonDeprecationWarning)\n"
     ]
    },
    {
     "name": "stdout",
     "output_type": "stream",
     "text": [
      "--> Removing /tmp/nwm.t11z.analysis_assim.channel_rt.tm00.conus.nc\n",
      "--> Downloading common/data/model/com/nwm/prod/nwm.20221003/analysis_assim/nwm.t12z.analysis_assim.channel_rt.tm00.conus.nc to /tmp/nwm.t12z.analysis_assim.channel_rt.tm00.conus.nc\n"
     ]
    },
    {
     "name": "stderr",
     "output_type": "stream",
     "text": [
      "/home/ec2-user/anaconda3/envs/python3/lib/python3.6/site-packages/boto3/compat.py:88: PythonDeprecationWarning: Boto3 will no longer support Python 3.6 starting May 30, 2022. To continue receiving service updates, bug fixes, and security updates please upgrade to Python 3.7 or later. More information can be found here: https://aws.amazon.com/blogs/developer/python-support-policy-updates-for-aws-sdks-and-tools/\n",
      "  warnings.warn(warning, PythonDeprecationWarning)\n"
     ]
    },
    {
     "name": "stdout",
     "output_type": "stream",
     "text": [
      "--> Removing /tmp/nwm.t12z.analysis_assim.channel_rt.tm00.conus.nc\n",
      "--> Downloading common/data/model/com/nwm/prod/nwm.20221003/analysis_assim/nwm.t13z.analysis_assim.channel_rt.tm00.conus.nc to /tmp/nwm.t13z.analysis_assim.channel_rt.tm00.conus.nc\n"
     ]
    },
    {
     "name": "stderr",
     "output_type": "stream",
     "text": [
      "/home/ec2-user/anaconda3/envs/python3/lib/python3.6/site-packages/boto3/compat.py:88: PythonDeprecationWarning: Boto3 will no longer support Python 3.6 starting May 30, 2022. To continue receiving service updates, bug fixes, and security updates please upgrade to Python 3.7 or later. More information can be found here: https://aws.amazon.com/blogs/developer/python-support-policy-updates-for-aws-sdks-and-tools/\n",
      "  warnings.warn(warning, PythonDeprecationWarning)\n"
     ]
    },
    {
     "name": "stdout",
     "output_type": "stream",
     "text": [
      "--> Removing /tmp/nwm.t13z.analysis_assim.channel_rt.tm00.conus.nc\n",
      "--> Downloading common/data/model/com/nwm/prod/nwm.20221003/analysis_assim/nwm.t14z.analysis_assim.channel_rt.tm00.conus.nc to /tmp/nwm.t14z.analysis_assim.channel_rt.tm00.conus.nc\n"
     ]
    },
    {
     "name": "stderr",
     "output_type": "stream",
     "text": [
      "/home/ec2-user/anaconda3/envs/python3/lib/python3.6/site-packages/boto3/compat.py:88: PythonDeprecationWarning: Boto3 will no longer support Python 3.6 starting May 30, 2022. To continue receiving service updates, bug fixes, and security updates please upgrade to Python 3.7 or later. More information can be found here: https://aws.amazon.com/blogs/developer/python-support-policy-updates-for-aws-sdks-and-tools/\n",
      "  warnings.warn(warning, PythonDeprecationWarning)\n"
     ]
    },
    {
     "name": "stdout",
     "output_type": "stream",
     "text": [
      "--> Removing /tmp/nwm.t14z.analysis_assim.channel_rt.tm00.conus.nc\n",
      "--> Downloading common/data/model/com/nwm/prod/nwm.20221003/analysis_assim/nwm.t15z.analysis_assim.channel_rt.tm00.conus.nc to /tmp/nwm.t15z.analysis_assim.channel_rt.tm00.conus.nc\n"
     ]
    },
    {
     "name": "stderr",
     "output_type": "stream",
     "text": [
      "/home/ec2-user/anaconda3/envs/python3/lib/python3.6/site-packages/boto3/compat.py:88: PythonDeprecationWarning: Boto3 will no longer support Python 3.6 starting May 30, 2022. To continue receiving service updates, bug fixes, and security updates please upgrade to Python 3.7 or later. More information can be found here: https://aws.amazon.com/blogs/developer/python-support-policy-updates-for-aws-sdks-and-tools/\n",
      "  warnings.warn(warning, PythonDeprecationWarning)\n"
     ]
    },
    {
     "name": "stdout",
     "output_type": "stream",
     "text": [
      "--> Removing /tmp/nwm.t15z.analysis_assim.channel_rt.tm00.conus.nc\n",
      "--> Downloading common/data/model/com/nwm/prod/nwm.20221003/analysis_assim/nwm.t16z.analysis_assim.channel_rt.tm00.conus.nc to /tmp/nwm.t16z.analysis_assim.channel_rt.tm00.conus.nc\n"
     ]
    },
    {
     "name": "stderr",
     "output_type": "stream",
     "text": [
      "/home/ec2-user/anaconda3/envs/python3/lib/python3.6/site-packages/boto3/compat.py:88: PythonDeprecationWarning: Boto3 will no longer support Python 3.6 starting May 30, 2022. To continue receiving service updates, bug fixes, and security updates please upgrade to Python 3.7 or later. More information can be found here: https://aws.amazon.com/blogs/developer/python-support-policy-updates-for-aws-sdks-and-tools/\n",
      "  warnings.warn(warning, PythonDeprecationWarning)\n"
     ]
    },
    {
     "name": "stdout",
     "output_type": "stream",
     "text": [
      "--> Removing /tmp/nwm.t16z.analysis_assim.channel_rt.tm00.conus.nc\n",
      "--> Downloading common/data/model/com/nwm/prod/nwm.20221003/analysis_assim/nwm.t17z.analysis_assim.channel_rt.tm00.conus.nc to /tmp/nwm.t17z.analysis_assim.channel_rt.tm00.conus.nc\n"
     ]
    },
    {
     "name": "stderr",
     "output_type": "stream",
     "text": [
      "/home/ec2-user/anaconda3/envs/python3/lib/python3.6/site-packages/boto3/compat.py:88: PythonDeprecationWarning: Boto3 will no longer support Python 3.6 starting May 30, 2022. To continue receiving service updates, bug fixes, and security updates please upgrade to Python 3.7 or later. More information can be found here: https://aws.amazon.com/blogs/developer/python-support-policy-updates-for-aws-sdks-and-tools/\n",
      "  warnings.warn(warning, PythonDeprecationWarning)\n"
     ]
    },
    {
     "name": "stdout",
     "output_type": "stream",
     "text": [
      "--> Removing /tmp/nwm.t17z.analysis_assim.channel_rt.tm00.conus.nc\n",
      "--> Downloading common/data/model/com/nwm/prod/nwm.20221003/analysis_assim/nwm.t18z.analysis_assim.channel_rt.tm00.conus.nc to /tmp/nwm.t18z.analysis_assim.channel_rt.tm00.conus.nc\n"
     ]
    },
    {
     "name": "stderr",
     "output_type": "stream",
     "text": [
      "/home/ec2-user/anaconda3/envs/python3/lib/python3.6/site-packages/boto3/compat.py:88: PythonDeprecationWarning: Boto3 will no longer support Python 3.6 starting May 30, 2022. To continue receiving service updates, bug fixes, and security updates please upgrade to Python 3.7 or later. More information can be found here: https://aws.amazon.com/blogs/developer/python-support-policy-updates-for-aws-sdks-and-tools/\n",
      "  warnings.warn(warning, PythonDeprecationWarning)\n"
     ]
    },
    {
     "name": "stdout",
     "output_type": "stream",
     "text": [
      "--> Removing /tmp/nwm.t18z.analysis_assim.channel_rt.tm00.conus.nc\n",
      "--> Downloading common/data/model/com/nwm/prod/nwm.20221003/analysis_assim/nwm.t19z.analysis_assim.channel_rt.tm00.conus.nc to /tmp/nwm.t19z.analysis_assim.channel_rt.tm00.conus.nc\n"
     ]
    },
    {
     "name": "stderr",
     "output_type": "stream",
     "text": [
      "/home/ec2-user/anaconda3/envs/python3/lib/python3.6/site-packages/boto3/compat.py:88: PythonDeprecationWarning: Boto3 will no longer support Python 3.6 starting May 30, 2022. To continue receiving service updates, bug fixes, and security updates please upgrade to Python 3.7 or later. More information can be found here: https://aws.amazon.com/blogs/developer/python-support-policy-updates-for-aws-sdks-and-tools/\n",
      "  warnings.warn(warning, PythonDeprecationWarning)\n"
     ]
    },
    {
     "name": "stdout",
     "output_type": "stream",
     "text": [
      "--> Removing /tmp/nwm.t19z.analysis_assim.channel_rt.tm00.conus.nc\n",
      "--> Downloading common/data/model/com/nwm/prod/nwm.20221003/analysis_assim/nwm.t20z.analysis_assim.channel_rt.tm00.conus.nc to /tmp/nwm.t20z.analysis_assim.channel_rt.tm00.conus.nc\n"
     ]
    },
    {
     "name": "stderr",
     "output_type": "stream",
     "text": [
      "/home/ec2-user/anaconda3/envs/python3/lib/python3.6/site-packages/boto3/compat.py:88: PythonDeprecationWarning: Boto3 will no longer support Python 3.6 starting May 30, 2022. To continue receiving service updates, bug fixes, and security updates please upgrade to Python 3.7 or later. More information can be found here: https://aws.amazon.com/blogs/developer/python-support-policy-updates-for-aws-sdks-and-tools/\n",
      "  warnings.warn(warning, PythonDeprecationWarning)\n"
     ]
    },
    {
     "name": "stdout",
     "output_type": "stream",
     "text": [
      "--> Removing /tmp/nwm.t20z.analysis_assim.channel_rt.tm00.conus.nc\n",
      "--> Downloading common/data/model/com/nwm/prod/nwm.20221003/analysis_assim/nwm.t21z.analysis_assim.channel_rt.tm00.conus.nc to /tmp/nwm.t21z.analysis_assim.channel_rt.tm00.conus.nc\n"
     ]
    },
    {
     "name": "stderr",
     "output_type": "stream",
     "text": [
      "/home/ec2-user/anaconda3/envs/python3/lib/python3.6/site-packages/boto3/compat.py:88: PythonDeprecationWarning: Boto3 will no longer support Python 3.6 starting May 30, 2022. To continue receiving service updates, bug fixes, and security updates please upgrade to Python 3.7 or later. More information can be found here: https://aws.amazon.com/blogs/developer/python-support-policy-updates-for-aws-sdks-and-tools/\n",
      "  warnings.warn(warning, PythonDeprecationWarning)\n"
     ]
    },
    {
     "name": "stdout",
     "output_type": "stream",
     "text": [
      "--> Removing /tmp/nwm.t21z.analysis_assim.channel_rt.tm00.conus.nc\n",
      "--> Downloading common/data/model/com/nwm/prod/nwm.20221003/analysis_assim/nwm.t22z.analysis_assim.channel_rt.tm00.conus.nc to /tmp/nwm.t22z.analysis_assim.channel_rt.tm00.conus.nc\n"
     ]
    },
    {
     "name": "stderr",
     "output_type": "stream",
     "text": [
      "/home/ec2-user/anaconda3/envs/python3/lib/python3.6/site-packages/boto3/compat.py:88: PythonDeprecationWarning: Boto3 will no longer support Python 3.6 starting May 30, 2022. To continue receiving service updates, bug fixes, and security updates please upgrade to Python 3.7 or later. More information can be found here: https://aws.amazon.com/blogs/developer/python-support-policy-updates-for-aws-sdks-and-tools/\n",
      "  warnings.warn(warning, PythonDeprecationWarning)\n"
     ]
    },
    {
     "name": "stdout",
     "output_type": "stream",
     "text": [
      "--> Removing /tmp/nwm.t22z.analysis_assim.channel_rt.tm00.conus.nc\n",
      "--> Downloading common/data/model/com/nwm/prod/nwm.20221003/analysis_assim/nwm.t23z.analysis_assim.channel_rt.tm00.conus.nc to /tmp/nwm.t23z.analysis_assim.channel_rt.tm00.conus.nc\n"
     ]
    },
    {
     "name": "stderr",
     "output_type": "stream",
     "text": [
      "/home/ec2-user/anaconda3/envs/python3/lib/python3.6/site-packages/boto3/compat.py:88: PythonDeprecationWarning: Boto3 will no longer support Python 3.6 starting May 30, 2022. To continue receiving service updates, bug fixes, and security updates please upgrade to Python 3.7 or later. More information can be found here: https://aws.amazon.com/blogs/developer/python-support-policy-updates-for-aws-sdks-and-tools/\n",
      "  warnings.warn(warning, PythonDeprecationWarning)\n"
     ]
    },
    {
     "name": "stdout",
     "output_type": "stream",
     "text": [
      "--> Removing /tmp/nwm.t23z.analysis_assim.channel_rt.tm00.conus.nc\n",
      "--> Downloading common/data/model/com/nwm/prod/nwm.20221004/analysis_assim/nwm.t00z.analysis_assim.channel_rt.tm00.conus.nc to /tmp/nwm.t00z.analysis_assim.channel_rt.tm00.conus.nc\n"
     ]
    },
    {
     "name": "stderr",
     "output_type": "stream",
     "text": [
      "/home/ec2-user/anaconda3/envs/python3/lib/python3.6/site-packages/boto3/compat.py:88: PythonDeprecationWarning: Boto3 will no longer support Python 3.6 starting May 30, 2022. To continue receiving service updates, bug fixes, and security updates please upgrade to Python 3.7 or later. More information can be found here: https://aws.amazon.com/blogs/developer/python-support-policy-updates-for-aws-sdks-and-tools/\n",
      "  warnings.warn(warning, PythonDeprecationWarning)\n"
     ]
    },
    {
     "name": "stdout",
     "output_type": "stream",
     "text": [
      "--> Removing /tmp/nwm.t00z.analysis_assim.channel_rt.tm00.conus.nc\n",
      "--> Downloading common/data/model/com/nwm/prod/nwm.20221004/analysis_assim/nwm.t01z.analysis_assim.channel_rt.tm00.conus.nc to /tmp/nwm.t01z.analysis_assim.channel_rt.tm00.conus.nc\n"
     ]
    },
    {
     "name": "stderr",
     "output_type": "stream",
     "text": [
      "/home/ec2-user/anaconda3/envs/python3/lib/python3.6/site-packages/boto3/compat.py:88: PythonDeprecationWarning: Boto3 will no longer support Python 3.6 starting May 30, 2022. To continue receiving service updates, bug fixes, and security updates please upgrade to Python 3.7 or later. More information can be found here: https://aws.amazon.com/blogs/developer/python-support-policy-updates-for-aws-sdks-and-tools/\n",
      "  warnings.warn(warning, PythonDeprecationWarning)\n"
     ]
    },
    {
     "name": "stdout",
     "output_type": "stream",
     "text": [
      "--> Removing /tmp/nwm.t01z.analysis_assim.channel_rt.tm00.conus.nc\n",
      "--> Downloading common/data/model/com/nwm/prod/nwm.20221004/analysis_assim/nwm.t02z.analysis_assim.channel_rt.tm00.conus.nc to /tmp/nwm.t02z.analysis_assim.channel_rt.tm00.conus.nc\n"
     ]
    },
    {
     "name": "stderr",
     "output_type": "stream",
     "text": [
      "/home/ec2-user/anaconda3/envs/python3/lib/python3.6/site-packages/boto3/compat.py:88: PythonDeprecationWarning: Boto3 will no longer support Python 3.6 starting May 30, 2022. To continue receiving service updates, bug fixes, and security updates please upgrade to Python 3.7 or later. More information can be found here: https://aws.amazon.com/blogs/developer/python-support-policy-updates-for-aws-sdks-and-tools/\n",
      "  warnings.warn(warning, PythonDeprecationWarning)\n"
     ]
    },
    {
     "name": "stdout",
     "output_type": "stream",
     "text": [
      "--> Removing /tmp/nwm.t02z.analysis_assim.channel_rt.tm00.conus.nc\n",
      "--> Downloading common/data/model/com/nwm/prod/nwm.20221004/analysis_assim/nwm.t03z.analysis_assim.channel_rt.tm00.conus.nc to /tmp/nwm.t03z.analysis_assim.channel_rt.tm00.conus.nc\n"
     ]
    },
    {
     "name": "stderr",
     "output_type": "stream",
     "text": [
      "/home/ec2-user/anaconda3/envs/python3/lib/python3.6/site-packages/boto3/compat.py:88: PythonDeprecationWarning: Boto3 will no longer support Python 3.6 starting May 30, 2022. To continue receiving service updates, bug fixes, and security updates please upgrade to Python 3.7 or later. More information can be found here: https://aws.amazon.com/blogs/developer/python-support-policy-updates-for-aws-sdks-and-tools/\n",
      "  warnings.warn(warning, PythonDeprecationWarning)\n"
     ]
    },
    {
     "name": "stdout",
     "output_type": "stream",
     "text": [
      "--> Removing /tmp/nwm.t03z.analysis_assim.channel_rt.tm00.conus.nc\n",
      "--> Downloading common/data/model/com/nwm/prod/nwm.20221004/analysis_assim/nwm.t04z.analysis_assim.channel_rt.tm00.conus.nc to /tmp/nwm.t04z.analysis_assim.channel_rt.tm00.conus.nc\n"
     ]
    },
    {
     "name": "stderr",
     "output_type": "stream",
     "text": [
      "/home/ec2-user/anaconda3/envs/python3/lib/python3.6/site-packages/boto3/compat.py:88: PythonDeprecationWarning: Boto3 will no longer support Python 3.6 starting May 30, 2022. To continue receiving service updates, bug fixes, and security updates please upgrade to Python 3.7 or later. More information can be found here: https://aws.amazon.com/blogs/developer/python-support-policy-updates-for-aws-sdks-and-tools/\n",
      "  warnings.warn(warning, PythonDeprecationWarning)\n"
     ]
    },
    {
     "name": "stdout",
     "output_type": "stream",
     "text": [
      "--> Removing /tmp/nwm.t04z.analysis_assim.channel_rt.tm00.conus.nc\n",
      "--> Downloading common/data/model/com/nwm/prod/nwm.20221004/analysis_assim/nwm.t05z.analysis_assim.channel_rt.tm00.conus.nc to /tmp/nwm.t05z.analysis_assim.channel_rt.tm00.conus.nc\n"
     ]
    },
    {
     "name": "stderr",
     "output_type": "stream",
     "text": [
      "/home/ec2-user/anaconda3/envs/python3/lib/python3.6/site-packages/boto3/compat.py:88: PythonDeprecationWarning: Boto3 will no longer support Python 3.6 starting May 30, 2022. To continue receiving service updates, bug fixes, and security updates please upgrade to Python 3.7 or later. More information can be found here: https://aws.amazon.com/blogs/developer/python-support-policy-updates-for-aws-sdks-and-tools/\n",
      "  warnings.warn(warning, PythonDeprecationWarning)\n"
     ]
    },
    {
     "name": "stdout",
     "output_type": "stream",
     "text": [
      "--> Removing /tmp/nwm.t05z.analysis_assim.channel_rt.tm00.conus.nc\n",
      "--> Downloading common/data/model/com/nwm/prod/nwm.20221004/analysis_assim/nwm.t06z.analysis_assim.channel_rt.tm00.conus.nc to /tmp/nwm.t06z.analysis_assim.channel_rt.tm00.conus.nc\n"
     ]
    },
    {
     "name": "stderr",
     "output_type": "stream",
     "text": [
      "/home/ec2-user/anaconda3/envs/python3/lib/python3.6/site-packages/boto3/compat.py:88: PythonDeprecationWarning: Boto3 will no longer support Python 3.6 starting May 30, 2022. To continue receiving service updates, bug fixes, and security updates please upgrade to Python 3.7 or later. More information can be found here: https://aws.amazon.com/blogs/developer/python-support-policy-updates-for-aws-sdks-and-tools/\n",
      "  warnings.warn(warning, PythonDeprecationWarning)\n"
     ]
    },
    {
     "name": "stdout",
     "output_type": "stream",
     "text": [
      "--> Removing /tmp/nwm.t06z.analysis_assim.channel_rt.tm00.conus.nc\n",
      "--> Downloading common/data/model/com/nwm/prod/nwm.20221004/analysis_assim/nwm.t07z.analysis_assim.channel_rt.tm00.conus.nc to /tmp/nwm.t07z.analysis_assim.channel_rt.tm00.conus.nc\n"
     ]
    },
    {
     "name": "stderr",
     "output_type": "stream",
     "text": [
      "/home/ec2-user/anaconda3/envs/python3/lib/python3.6/site-packages/boto3/compat.py:88: PythonDeprecationWarning: Boto3 will no longer support Python 3.6 starting May 30, 2022. To continue receiving service updates, bug fixes, and security updates please upgrade to Python 3.7 or later. More information can be found here: https://aws.amazon.com/blogs/developer/python-support-policy-updates-for-aws-sdks-and-tools/\n",
      "  warnings.warn(warning, PythonDeprecationWarning)\n"
     ]
    },
    {
     "name": "stdout",
     "output_type": "stream",
     "text": [
      "--> Removing /tmp/nwm.t07z.analysis_assim.channel_rt.tm00.conus.nc\n",
      "--> Downloading common/data/model/com/nwm/prod/nwm.20221004/analysis_assim/nwm.t08z.analysis_assim.channel_rt.tm00.conus.nc to /tmp/nwm.t08z.analysis_assim.channel_rt.tm00.conus.nc\n"
     ]
    },
    {
     "name": "stderr",
     "output_type": "stream",
     "text": [
      "/home/ec2-user/anaconda3/envs/python3/lib/python3.6/site-packages/boto3/compat.py:88: PythonDeprecationWarning: Boto3 will no longer support Python 3.6 starting May 30, 2022. To continue receiving service updates, bug fixes, and security updates please upgrade to Python 3.7 or later. More information can be found here: https://aws.amazon.com/blogs/developer/python-support-policy-updates-for-aws-sdks-and-tools/\n",
      "  warnings.warn(warning, PythonDeprecationWarning)\n"
     ]
    },
    {
     "name": "stdout",
     "output_type": "stream",
     "text": [
      "--> Removing /tmp/nwm.t08z.analysis_assim.channel_rt.tm00.conus.nc\n",
      "--> Downloading common/data/model/com/nwm/prod/nwm.20221004/analysis_assim/nwm.t09z.analysis_assim.channel_rt.tm00.conus.nc to /tmp/nwm.t09z.analysis_assim.channel_rt.tm00.conus.nc\n"
     ]
    },
    {
     "name": "stderr",
     "output_type": "stream",
     "text": [
      "/home/ec2-user/anaconda3/envs/python3/lib/python3.6/site-packages/boto3/compat.py:88: PythonDeprecationWarning: Boto3 will no longer support Python 3.6 starting May 30, 2022. To continue receiving service updates, bug fixes, and security updates please upgrade to Python 3.7 or later. More information can be found here: https://aws.amazon.com/blogs/developer/python-support-policy-updates-for-aws-sdks-and-tools/\n",
      "  warnings.warn(warning, PythonDeprecationWarning)\n"
     ]
    },
    {
     "name": "stdout",
     "output_type": "stream",
     "text": [
      "--> Removing /tmp/nwm.t09z.analysis_assim.channel_rt.tm00.conus.nc\n",
      "--> Downloading common/data/model/com/nwm/prod/nwm.20221004/analysis_assim/nwm.t10z.analysis_assim.channel_rt.tm00.conus.nc to /tmp/nwm.t10z.analysis_assim.channel_rt.tm00.conus.nc\n"
     ]
    },
    {
     "name": "stderr",
     "output_type": "stream",
     "text": [
      "/home/ec2-user/anaconda3/envs/python3/lib/python3.6/site-packages/boto3/compat.py:88: PythonDeprecationWarning: Boto3 will no longer support Python 3.6 starting May 30, 2022. To continue receiving service updates, bug fixes, and security updates please upgrade to Python 3.7 or later. More information can be found here: https://aws.amazon.com/blogs/developer/python-support-policy-updates-for-aws-sdks-and-tools/\n",
      "  warnings.warn(warning, PythonDeprecationWarning)\n"
     ]
    },
    {
     "name": "stdout",
     "output_type": "stream",
     "text": [
      "--> Removing /tmp/nwm.t10z.analysis_assim.channel_rt.tm00.conus.nc\n",
      "--> Downloading common/data/model/com/nwm/prod/nwm.20221004/analysis_assim/nwm.t11z.analysis_assim.channel_rt.tm00.conus.nc to /tmp/nwm.t11z.analysis_assim.channel_rt.tm00.conus.nc\n"
     ]
    },
    {
     "name": "stderr",
     "output_type": "stream",
     "text": [
      "/home/ec2-user/anaconda3/envs/python3/lib/python3.6/site-packages/boto3/compat.py:88: PythonDeprecationWarning: Boto3 will no longer support Python 3.6 starting May 30, 2022. To continue receiving service updates, bug fixes, and security updates please upgrade to Python 3.7 or later. More information can be found here: https://aws.amazon.com/blogs/developer/python-support-policy-updates-for-aws-sdks-and-tools/\n",
      "  warnings.warn(warning, PythonDeprecationWarning)\n"
     ]
    },
    {
     "name": "stdout",
     "output_type": "stream",
     "text": [
      "--> Removing /tmp/nwm.t11z.analysis_assim.channel_rt.tm00.conus.nc\n",
      "--> Downloading common/data/model/com/nwm/prod/nwm.20221004/analysis_assim/nwm.t12z.analysis_assim.channel_rt.tm00.conus.nc to /tmp/nwm.t12z.analysis_assim.channel_rt.tm00.conus.nc\n"
     ]
    },
    {
     "name": "stderr",
     "output_type": "stream",
     "text": [
      "/home/ec2-user/anaconda3/envs/python3/lib/python3.6/site-packages/boto3/compat.py:88: PythonDeprecationWarning: Boto3 will no longer support Python 3.6 starting May 30, 2022. To continue receiving service updates, bug fixes, and security updates please upgrade to Python 3.7 or later. More information can be found here: https://aws.amazon.com/blogs/developer/python-support-policy-updates-for-aws-sdks-and-tools/\n",
      "  warnings.warn(warning, PythonDeprecationWarning)\n"
     ]
    },
    {
     "name": "stdout",
     "output_type": "stream",
     "text": [
      "--> Removing /tmp/nwm.t12z.analysis_assim.channel_rt.tm00.conus.nc\n",
      "--> Downloading common/data/model/com/nwm/prod/nwm.20221004/analysis_assim/nwm.t13z.analysis_assim.channel_rt.tm00.conus.nc to /tmp/nwm.t13z.analysis_assim.channel_rt.tm00.conus.nc\n"
     ]
    },
    {
     "name": "stderr",
     "output_type": "stream",
     "text": [
      "/home/ec2-user/anaconda3/envs/python3/lib/python3.6/site-packages/boto3/compat.py:88: PythonDeprecationWarning: Boto3 will no longer support Python 3.6 starting May 30, 2022. To continue receiving service updates, bug fixes, and security updates please upgrade to Python 3.7 or later. More information can be found here: https://aws.amazon.com/blogs/developer/python-support-policy-updates-for-aws-sdks-and-tools/\n",
      "  warnings.warn(warning, PythonDeprecationWarning)\n"
     ]
    },
    {
     "name": "stdout",
     "output_type": "stream",
     "text": [
      "--> Removing /tmp/nwm.t13z.analysis_assim.channel_rt.tm00.conus.nc\n",
      "--> Downloading common/data/model/com/nwm/prod/nwm.20221004/analysis_assim/nwm.t14z.analysis_assim.channel_rt.tm00.conus.nc to /tmp/nwm.t14z.analysis_assim.channel_rt.tm00.conus.nc\n"
     ]
    },
    {
     "name": "stderr",
     "output_type": "stream",
     "text": [
      "/home/ec2-user/anaconda3/envs/python3/lib/python3.6/site-packages/boto3/compat.py:88: PythonDeprecationWarning: Boto3 will no longer support Python 3.6 starting May 30, 2022. To continue receiving service updates, bug fixes, and security updates please upgrade to Python 3.7 or later. More information can be found here: https://aws.amazon.com/blogs/developer/python-support-policy-updates-for-aws-sdks-and-tools/\n",
      "  warnings.warn(warning, PythonDeprecationWarning)\n"
     ]
    },
    {
     "name": "stdout",
     "output_type": "stream",
     "text": [
      "--> Removing /tmp/nwm.t14z.analysis_assim.channel_rt.tm00.conus.nc\n",
      "--> Downloading common/data/model/com/nwm/prod/nwm.20221004/analysis_assim/nwm.t15z.analysis_assim.channel_rt.tm00.conus.nc to /tmp/nwm.t15z.analysis_assim.channel_rt.tm00.conus.nc\n"
     ]
    },
    {
     "name": "stderr",
     "output_type": "stream",
     "text": [
      "/home/ec2-user/anaconda3/envs/python3/lib/python3.6/site-packages/boto3/compat.py:88: PythonDeprecationWarning: Boto3 will no longer support Python 3.6 starting May 30, 2022. To continue receiving service updates, bug fixes, and security updates please upgrade to Python 3.7 or later. More information can be found here: https://aws.amazon.com/blogs/developer/python-support-policy-updates-for-aws-sdks-and-tools/\n",
      "  warnings.warn(warning, PythonDeprecationWarning)\n"
     ]
    },
    {
     "name": "stdout",
     "output_type": "stream",
     "text": [
      "--> Removing /tmp/nwm.t15z.analysis_assim.channel_rt.tm00.conus.nc\n",
      "--> Downloading common/data/model/com/nwm/prod/nwm.20221004/analysis_assim/nwm.t16z.analysis_assim.channel_rt.tm00.conus.nc to /tmp/nwm.t16z.analysis_assim.channel_rt.tm00.conus.nc\n"
     ]
    },
    {
     "name": "stderr",
     "output_type": "stream",
     "text": [
      "/home/ec2-user/anaconda3/envs/python3/lib/python3.6/site-packages/boto3/compat.py:88: PythonDeprecationWarning: Boto3 will no longer support Python 3.6 starting May 30, 2022. To continue receiving service updates, bug fixes, and security updates please upgrade to Python 3.7 or later. More information can be found here: https://aws.amazon.com/blogs/developer/python-support-policy-updates-for-aws-sdks-and-tools/\n",
      "  warnings.warn(warning, PythonDeprecationWarning)\n"
     ]
    },
    {
     "name": "stdout",
     "output_type": "stream",
     "text": [
      "--> Removing /tmp/nwm.t16z.analysis_assim.channel_rt.tm00.conus.nc\n",
      "--> Downloading common/data/model/com/nwm/prod/nwm.20221004/analysis_assim/nwm.t17z.analysis_assim.channel_rt.tm00.conus.nc to /tmp/nwm.t17z.analysis_assim.channel_rt.tm00.conus.nc\n"
     ]
    },
    {
     "name": "stderr",
     "output_type": "stream",
     "text": [
      "/home/ec2-user/anaconda3/envs/python3/lib/python3.6/site-packages/boto3/compat.py:88: PythonDeprecationWarning: Boto3 will no longer support Python 3.6 starting May 30, 2022. To continue receiving service updates, bug fixes, and security updates please upgrade to Python 3.7 or later. More information can be found here: https://aws.amazon.com/blogs/developer/python-support-policy-updates-for-aws-sdks-and-tools/\n",
      "  warnings.warn(warning, PythonDeprecationWarning)\n"
     ]
    },
    {
     "name": "stdout",
     "output_type": "stream",
     "text": [
      "--> Removing /tmp/nwm.t17z.analysis_assim.channel_rt.tm00.conus.nc\n",
      "--> Downloading common/data/model/com/nwm/prod/nwm.20221004/analysis_assim/nwm.t18z.analysis_assim.channel_rt.tm00.conus.nc to /tmp/nwm.t18z.analysis_assim.channel_rt.tm00.conus.nc\n"
     ]
    },
    {
     "name": "stderr",
     "output_type": "stream",
     "text": [
      "/home/ec2-user/anaconda3/envs/python3/lib/python3.6/site-packages/boto3/compat.py:88: PythonDeprecationWarning: Boto3 will no longer support Python 3.6 starting May 30, 2022. To continue receiving service updates, bug fixes, and security updates please upgrade to Python 3.7 or later. More information can be found here: https://aws.amazon.com/blogs/developer/python-support-policy-updates-for-aws-sdks-and-tools/\n",
      "  warnings.warn(warning, PythonDeprecationWarning)\n"
     ]
    },
    {
     "name": "stdout",
     "output_type": "stream",
     "text": [
      "--> Removing /tmp/nwm.t18z.analysis_assim.channel_rt.tm00.conus.nc\n",
      "--> Downloading common/data/model/com/nwm/prod/nwm.20221004/analysis_assim/nwm.t19z.analysis_assim.channel_rt.tm00.conus.nc to /tmp/nwm.t19z.analysis_assim.channel_rt.tm00.conus.nc\n"
     ]
    },
    {
     "name": "stderr",
     "output_type": "stream",
     "text": [
      "/home/ec2-user/anaconda3/envs/python3/lib/python3.6/site-packages/boto3/compat.py:88: PythonDeprecationWarning: Boto3 will no longer support Python 3.6 starting May 30, 2022. To continue receiving service updates, bug fixes, and security updates please upgrade to Python 3.7 or later. More information can be found here: https://aws.amazon.com/blogs/developer/python-support-policy-updates-for-aws-sdks-and-tools/\n",
      "  warnings.warn(warning, PythonDeprecationWarning)\n"
     ]
    },
    {
     "name": "stdout",
     "output_type": "stream",
     "text": [
      "--> Removing /tmp/nwm.t19z.analysis_assim.channel_rt.tm00.conus.nc\n",
      "--> Downloading common/data/model/com/nwm/prod/nwm.20221004/analysis_assim/nwm.t20z.analysis_assim.channel_rt.tm00.conus.nc to /tmp/nwm.t20z.analysis_assim.channel_rt.tm00.conus.nc\n"
     ]
    },
    {
     "name": "stderr",
     "output_type": "stream",
     "text": [
      "/home/ec2-user/anaconda3/envs/python3/lib/python3.6/site-packages/boto3/compat.py:88: PythonDeprecationWarning: Boto3 will no longer support Python 3.6 starting May 30, 2022. To continue receiving service updates, bug fixes, and security updates please upgrade to Python 3.7 or later. More information can be found here: https://aws.amazon.com/blogs/developer/python-support-policy-updates-for-aws-sdks-and-tools/\n",
      "  warnings.warn(warning, PythonDeprecationWarning)\n"
     ]
    },
    {
     "name": "stdout",
     "output_type": "stream",
     "text": [
      "--> Removing /tmp/nwm.t20z.analysis_assim.channel_rt.tm00.conus.nc\n",
      "--> Downloading common/data/model/com/nwm/prod/nwm.20221004/analysis_assim/nwm.t21z.analysis_assim.channel_rt.tm00.conus.nc to /tmp/nwm.t21z.analysis_assim.channel_rt.tm00.conus.nc\n"
     ]
    },
    {
     "name": "stderr",
     "output_type": "stream",
     "text": [
      "/home/ec2-user/anaconda3/envs/python3/lib/python3.6/site-packages/boto3/compat.py:88: PythonDeprecationWarning: Boto3 will no longer support Python 3.6 starting May 30, 2022. To continue receiving service updates, bug fixes, and security updates please upgrade to Python 3.7 or later. More information can be found here: https://aws.amazon.com/blogs/developer/python-support-policy-updates-for-aws-sdks-and-tools/\n",
      "  warnings.warn(warning, PythonDeprecationWarning)\n"
     ]
    },
    {
     "name": "stdout",
     "output_type": "stream",
     "text": [
      "--> Removing /tmp/nwm.t21z.analysis_assim.channel_rt.tm00.conus.nc\n",
      "--> Downloading common/data/model/com/nwm/prod/nwm.20221004/analysis_assim/nwm.t22z.analysis_assim.channel_rt.tm00.conus.nc to /tmp/nwm.t22z.analysis_assim.channel_rt.tm00.conus.nc\n"
     ]
    },
    {
     "name": "stderr",
     "output_type": "stream",
     "text": [
      "/home/ec2-user/anaconda3/envs/python3/lib/python3.6/site-packages/boto3/compat.py:88: PythonDeprecationWarning: Boto3 will no longer support Python 3.6 starting May 30, 2022. To continue receiving service updates, bug fixes, and security updates please upgrade to Python 3.7 or later. More information can be found here: https://aws.amazon.com/blogs/developer/python-support-policy-updates-for-aws-sdks-and-tools/\n",
      "  warnings.warn(warning, PythonDeprecationWarning)\n"
     ]
    },
    {
     "name": "stdout",
     "output_type": "stream",
     "text": [
      "--> Removing /tmp/nwm.t22z.analysis_assim.channel_rt.tm00.conus.nc\n",
      "--> Downloading common/data/model/com/nwm/prod/nwm.20221004/analysis_assim/nwm.t23z.analysis_assim.channel_rt.tm00.conus.nc to /tmp/nwm.t23z.analysis_assim.channel_rt.tm00.conus.nc\n"
     ]
    },
    {
     "name": "stderr",
     "output_type": "stream",
     "text": [
      "/home/ec2-user/anaconda3/envs/python3/lib/python3.6/site-packages/boto3/compat.py:88: PythonDeprecationWarning: Boto3 will no longer support Python 3.6 starting May 30, 2022. To continue receiving service updates, bug fixes, and security updates please upgrade to Python 3.7 or later. More information can be found here: https://aws.amazon.com/blogs/developer/python-support-policy-updates-for-aws-sdks-and-tools/\n",
      "  warnings.warn(warning, PythonDeprecationWarning)\n"
     ]
    },
    {
     "name": "stdout",
     "output_type": "stream",
     "text": [
      "--> Removing /tmp/nwm.t23z.analysis_assim.channel_rt.tm00.conus.nc\n",
      "--> Downloading common/data/model/com/nwm/prod/nwm.20221005/analysis_assim/nwm.t00z.analysis_assim.channel_rt.tm00.conus.nc to /tmp/nwm.t00z.analysis_assim.channel_rt.tm00.conus.nc\n"
     ]
    },
    {
     "name": "stderr",
     "output_type": "stream",
     "text": [
      "/home/ec2-user/anaconda3/envs/python3/lib/python3.6/site-packages/boto3/compat.py:88: PythonDeprecationWarning: Boto3 will no longer support Python 3.6 starting May 30, 2022. To continue receiving service updates, bug fixes, and security updates please upgrade to Python 3.7 or later. More information can be found here: https://aws.amazon.com/blogs/developer/python-support-policy-updates-for-aws-sdks-and-tools/\n",
      "  warnings.warn(warning, PythonDeprecationWarning)\n"
     ]
    },
    {
     "name": "stdout",
     "output_type": "stream",
     "text": [
      "--> Removing /tmp/nwm.t00z.analysis_assim.channel_rt.tm00.conus.nc\n",
      "--> Downloading common/data/model/com/nwm/prod/nwm.20221005/analysis_assim/nwm.t01z.analysis_assim.channel_rt.tm00.conus.nc to /tmp/nwm.t01z.analysis_assim.channel_rt.tm00.conus.nc\n"
     ]
    },
    {
     "name": "stderr",
     "output_type": "stream",
     "text": [
      "/home/ec2-user/anaconda3/envs/python3/lib/python3.6/site-packages/boto3/compat.py:88: PythonDeprecationWarning: Boto3 will no longer support Python 3.6 starting May 30, 2022. To continue receiving service updates, bug fixes, and security updates please upgrade to Python 3.7 or later. More information can be found here: https://aws.amazon.com/blogs/developer/python-support-policy-updates-for-aws-sdks-and-tools/\n",
      "  warnings.warn(warning, PythonDeprecationWarning)\n"
     ]
    },
    {
     "name": "stdout",
     "output_type": "stream",
     "text": [
      "--> Removing /tmp/nwm.t01z.analysis_assim.channel_rt.tm00.conus.nc\n",
      "--> Downloading common/data/model/com/nwm/prod/nwm.20221005/analysis_assim/nwm.t02z.analysis_assim.channel_rt.tm00.conus.nc to /tmp/nwm.t02z.analysis_assim.channel_rt.tm00.conus.nc\n"
     ]
    },
    {
     "name": "stderr",
     "output_type": "stream",
     "text": [
      "/home/ec2-user/anaconda3/envs/python3/lib/python3.6/site-packages/boto3/compat.py:88: PythonDeprecationWarning: Boto3 will no longer support Python 3.6 starting May 30, 2022. To continue receiving service updates, bug fixes, and security updates please upgrade to Python 3.7 or later. More information can be found here: https://aws.amazon.com/blogs/developer/python-support-policy-updates-for-aws-sdks-and-tools/\n",
      "  warnings.warn(warning, PythonDeprecationWarning)\n"
     ]
    },
    {
     "name": "stdout",
     "output_type": "stream",
     "text": [
      "--> Removing /tmp/nwm.t02z.analysis_assim.channel_rt.tm00.conus.nc\n",
      "--> Downloading common/data/model/com/nwm/prod/nwm.20221005/analysis_assim/nwm.t03z.analysis_assim.channel_rt.tm00.conus.nc to /tmp/nwm.t03z.analysis_assim.channel_rt.tm00.conus.nc\n"
     ]
    },
    {
     "name": "stderr",
     "output_type": "stream",
     "text": [
      "/home/ec2-user/anaconda3/envs/python3/lib/python3.6/site-packages/boto3/compat.py:88: PythonDeprecationWarning: Boto3 will no longer support Python 3.6 starting May 30, 2022. To continue receiving service updates, bug fixes, and security updates please upgrade to Python 3.7 or later. More information can be found here: https://aws.amazon.com/blogs/developer/python-support-policy-updates-for-aws-sdks-and-tools/\n",
      "  warnings.warn(warning, PythonDeprecationWarning)\n"
     ]
    },
    {
     "name": "stdout",
     "output_type": "stream",
     "text": [
      "--> Removing /tmp/nwm.t03z.analysis_assim.channel_rt.tm00.conus.nc\n",
      "--> Downloading common/data/model/com/nwm/prod/nwm.20221005/analysis_assim/nwm.t04z.analysis_assim.channel_rt.tm00.conus.nc to /tmp/nwm.t04z.analysis_assim.channel_rt.tm00.conus.nc\n"
     ]
    },
    {
     "name": "stderr",
     "output_type": "stream",
     "text": [
      "/home/ec2-user/anaconda3/envs/python3/lib/python3.6/site-packages/boto3/compat.py:88: PythonDeprecationWarning: Boto3 will no longer support Python 3.6 starting May 30, 2022. To continue receiving service updates, bug fixes, and security updates please upgrade to Python 3.7 or later. More information can be found here: https://aws.amazon.com/blogs/developer/python-support-policy-updates-for-aws-sdks-and-tools/\n",
      "  warnings.warn(warning, PythonDeprecationWarning)\n"
     ]
    },
    {
     "name": "stdout",
     "output_type": "stream",
     "text": [
      "--> Removing /tmp/nwm.t04z.analysis_assim.channel_rt.tm00.conus.nc\n",
      "--> Downloading common/data/model/com/nwm/prod/nwm.20221005/analysis_assim/nwm.t05z.analysis_assim.channel_rt.tm00.conus.nc to /tmp/nwm.t05z.analysis_assim.channel_rt.tm00.conus.nc\n"
     ]
    },
    {
     "name": "stderr",
     "output_type": "stream",
     "text": [
      "/home/ec2-user/anaconda3/envs/python3/lib/python3.6/site-packages/boto3/compat.py:88: PythonDeprecationWarning: Boto3 will no longer support Python 3.6 starting May 30, 2022. To continue receiving service updates, bug fixes, and security updates please upgrade to Python 3.7 or later. More information can be found here: https://aws.amazon.com/blogs/developer/python-support-policy-updates-for-aws-sdks-and-tools/\n",
      "  warnings.warn(warning, PythonDeprecationWarning)\n"
     ]
    },
    {
     "name": "stdout",
     "output_type": "stream",
     "text": [
      "--> Removing /tmp/nwm.t05z.analysis_assim.channel_rt.tm00.conus.nc\n"
     ]
    },
    {
     "name": "stderr",
     "output_type": "stream",
     "text": [
      "/home/ec2-user/anaconda3/envs/python3/lib/python3.6/site-packages/boto3/compat.py:88: PythonDeprecationWarning: Boto3 will no longer support Python 3.6 starting May 30, 2022. To continue receiving service updates, bug fixes, and security updates please upgrade to Python 3.7 or later. More information can be found here: https://aws.amazon.com/blogs/developer/python-support-policy-updates-for-aws-sdks-and-tools/\n",
      "  warnings.warn(warning, PythonDeprecationWarning)\n"
     ]
    },
    {
     "name": "stdout",
     "output_type": "stream",
     "text": [
      "--> Downloading common/data/model/com/nwm/prod/nwm.20221005/analysis_assim/nwm.t06z.analysis_assim.channel_rt.tm00.conus.nc to /tmp/nwm.t06z.analysis_assim.channel_rt.tm00.conus.nc\n",
      "--> Removing /tmp/nwm.t06z.analysis_assim.channel_rt.tm00.conus.nc\n",
      "--> Downloading common/data/model/com/nwm/prod/nwm.20221005/analysis_assim/nwm.t07z.analysis_assim.channel_rt.tm00.conus.nc to /tmp/nwm.t07z.analysis_assim.channel_rt.tm00.conus.nc\n"
     ]
    },
    {
     "name": "stderr",
     "output_type": "stream",
     "text": [
      "/home/ec2-user/anaconda3/envs/python3/lib/python3.6/site-packages/boto3/compat.py:88: PythonDeprecationWarning: Boto3 will no longer support Python 3.6 starting May 30, 2022. To continue receiving service updates, bug fixes, and security updates please upgrade to Python 3.7 or later. More information can be found here: https://aws.amazon.com/blogs/developer/python-support-policy-updates-for-aws-sdks-and-tools/\n",
      "  warnings.warn(warning, PythonDeprecationWarning)\n"
     ]
    },
    {
     "name": "stdout",
     "output_type": "stream",
     "text": [
      "--> Removing /tmp/nwm.t07z.analysis_assim.channel_rt.tm00.conus.nc\n",
      "--> Downloading common/data/model/com/nwm/prod/nwm.20221005/analysis_assim/nwm.t08z.analysis_assim.channel_rt.tm00.conus.nc to /tmp/nwm.t08z.analysis_assim.channel_rt.tm00.conus.nc\n"
     ]
    },
    {
     "name": "stderr",
     "output_type": "stream",
     "text": [
      "/home/ec2-user/anaconda3/envs/python3/lib/python3.6/site-packages/boto3/compat.py:88: PythonDeprecationWarning: Boto3 will no longer support Python 3.6 starting May 30, 2022. To continue receiving service updates, bug fixes, and security updates please upgrade to Python 3.7 or later. More information can be found here: https://aws.amazon.com/blogs/developer/python-support-policy-updates-for-aws-sdks-and-tools/\n",
      "  warnings.warn(warning, PythonDeprecationWarning)\n"
     ]
    },
    {
     "name": "stdout",
     "output_type": "stream",
     "text": [
      "--> Removing /tmp/nwm.t08z.analysis_assim.channel_rt.tm00.conus.nc\n",
      "--> Downloading common/data/model/com/nwm/prod/nwm.20221005/analysis_assim/nwm.t09z.analysis_assim.channel_rt.tm00.conus.nc to /tmp/nwm.t09z.analysis_assim.channel_rt.tm00.conus.nc\n"
     ]
    },
    {
     "name": "stderr",
     "output_type": "stream",
     "text": [
      "/home/ec2-user/anaconda3/envs/python3/lib/python3.6/site-packages/boto3/compat.py:88: PythonDeprecationWarning: Boto3 will no longer support Python 3.6 starting May 30, 2022. To continue receiving service updates, bug fixes, and security updates please upgrade to Python 3.7 or later. More information can be found here: https://aws.amazon.com/blogs/developer/python-support-policy-updates-for-aws-sdks-and-tools/\n",
      "  warnings.warn(warning, PythonDeprecationWarning)\n"
     ]
    },
    {
     "name": "stdout",
     "output_type": "stream",
     "text": [
      "--> Removing /tmp/nwm.t09z.analysis_assim.channel_rt.tm00.conus.nc\n",
      "--> Downloading common/data/model/com/nwm/prod/nwm.20221005/analysis_assim/nwm.t10z.analysis_assim.channel_rt.tm00.conus.nc to /tmp/nwm.t10z.analysis_assim.channel_rt.tm00.conus.nc\n"
     ]
    },
    {
     "name": "stderr",
     "output_type": "stream",
     "text": [
      "/home/ec2-user/anaconda3/envs/python3/lib/python3.6/site-packages/boto3/compat.py:88: PythonDeprecationWarning: Boto3 will no longer support Python 3.6 starting May 30, 2022. To continue receiving service updates, bug fixes, and security updates please upgrade to Python 3.7 or later. More information can be found here: https://aws.amazon.com/blogs/developer/python-support-policy-updates-for-aws-sdks-and-tools/\n",
      "  warnings.warn(warning, PythonDeprecationWarning)\n"
     ]
    },
    {
     "name": "stdout",
     "output_type": "stream",
     "text": [
      "--> Removing /tmp/nwm.t10z.analysis_assim.channel_rt.tm00.conus.nc\n",
      "--> Downloading common/data/model/com/nwm/prod/nwm.20221005/analysis_assim/nwm.t11z.analysis_assim.channel_rt.tm00.conus.nc to /tmp/nwm.t11z.analysis_assim.channel_rt.tm00.conus.nc\n"
     ]
    },
    {
     "name": "stderr",
     "output_type": "stream",
     "text": [
      "/home/ec2-user/anaconda3/envs/python3/lib/python3.6/site-packages/boto3/compat.py:88: PythonDeprecationWarning: Boto3 will no longer support Python 3.6 starting May 30, 2022. To continue receiving service updates, bug fixes, and security updates please upgrade to Python 3.7 or later. More information can be found here: https://aws.amazon.com/blogs/developer/python-support-policy-updates-for-aws-sdks-and-tools/\n",
      "  warnings.warn(warning, PythonDeprecationWarning)\n"
     ]
    },
    {
     "name": "stdout",
     "output_type": "stream",
     "text": [
      "--> Removing /tmp/nwm.t11z.analysis_assim.channel_rt.tm00.conus.nc\n",
      "--> Downloading common/data/model/com/nwm/prod/nwm.20221005/analysis_assim/nwm.t12z.analysis_assim.channel_rt.tm00.conus.nc to /tmp/nwm.t12z.analysis_assim.channel_rt.tm00.conus.nc\n"
     ]
    },
    {
     "name": "stderr",
     "output_type": "stream",
     "text": [
      "/home/ec2-user/anaconda3/envs/python3/lib/python3.6/site-packages/boto3/compat.py:88: PythonDeprecationWarning: Boto3 will no longer support Python 3.6 starting May 30, 2022. To continue receiving service updates, bug fixes, and security updates please upgrade to Python 3.7 or later. More information can be found here: https://aws.amazon.com/blogs/developer/python-support-policy-updates-for-aws-sdks-and-tools/\n",
      "  warnings.warn(warning, PythonDeprecationWarning)\n"
     ]
    },
    {
     "name": "stdout",
     "output_type": "stream",
     "text": [
      "--> Removing /tmp/nwm.t12z.analysis_assim.channel_rt.tm00.conus.nc\n",
      "--> Downloading common/data/model/com/nwm/prod/nwm.20221005/analysis_assim/nwm.t13z.analysis_assim.channel_rt.tm00.conus.nc to /tmp/nwm.t13z.analysis_assim.channel_rt.tm00.conus.nc\n"
     ]
    },
    {
     "name": "stderr",
     "output_type": "stream",
     "text": [
      "/home/ec2-user/anaconda3/envs/python3/lib/python3.6/site-packages/boto3/compat.py:88: PythonDeprecationWarning: Boto3 will no longer support Python 3.6 starting May 30, 2022. To continue receiving service updates, bug fixes, and security updates please upgrade to Python 3.7 or later. More information can be found here: https://aws.amazon.com/blogs/developer/python-support-policy-updates-for-aws-sdks-and-tools/\n",
      "  warnings.warn(warning, PythonDeprecationWarning)\n"
     ]
    },
    {
     "name": "stdout",
     "output_type": "stream",
     "text": [
      "--> Removing /tmp/nwm.t13z.analysis_assim.channel_rt.tm00.conus.nc\n"
     ]
    },
    {
     "name": "stderr",
     "output_type": "stream",
     "text": [
      "/home/ec2-user/anaconda3/envs/python3/lib/python3.6/site-packages/boto3/compat.py:88: PythonDeprecationWarning: Boto3 will no longer support Python 3.6 starting May 30, 2022. To continue receiving service updates, bug fixes, and security updates please upgrade to Python 3.7 or later. More information can be found here: https://aws.amazon.com/blogs/developer/python-support-policy-updates-for-aws-sdks-and-tools/\n",
      "  warnings.warn(warning, PythonDeprecationWarning)\n"
     ]
    },
    {
     "name": "stdout",
     "output_type": "stream",
     "text": [
      "--> Downloading common/data/model/com/nwm/prod/nwm.20221005/analysis_assim/nwm.t14z.analysis_assim.channel_rt.tm00.conus.nc to /tmp/nwm.t14z.analysis_assim.channel_rt.tm00.conus.nc\n",
      "--> Removing /tmp/nwm.t14z.analysis_assim.channel_rt.tm00.conus.nc\n",
      "--> Downloading common/data/model/com/nwm/prod/nwm.20221005/analysis_assim/nwm.t15z.analysis_assim.channel_rt.tm00.conus.nc to /tmp/nwm.t15z.analysis_assim.channel_rt.tm00.conus.nc\n"
     ]
    },
    {
     "name": "stderr",
     "output_type": "stream",
     "text": [
      "/home/ec2-user/anaconda3/envs/python3/lib/python3.6/site-packages/boto3/compat.py:88: PythonDeprecationWarning: Boto3 will no longer support Python 3.6 starting May 30, 2022. To continue receiving service updates, bug fixes, and security updates please upgrade to Python 3.7 or later. More information can be found here: https://aws.amazon.com/blogs/developer/python-support-policy-updates-for-aws-sdks-and-tools/\n",
      "  warnings.warn(warning, PythonDeprecationWarning)\n"
     ]
    },
    {
     "name": "stdout",
     "output_type": "stream",
     "text": [
      "--> Removing /tmp/nwm.t15z.analysis_assim.channel_rt.tm00.conus.nc\n"
     ]
    },
    {
     "name": "stderr",
     "output_type": "stream",
     "text": [
      "/home/ec2-user/anaconda3/envs/python3/lib/python3.6/site-packages/boto3/compat.py:88: PythonDeprecationWarning: Boto3 will no longer support Python 3.6 starting May 30, 2022. To continue receiving service updates, bug fixes, and security updates please upgrade to Python 3.7 or later. More information can be found here: https://aws.amazon.com/blogs/developer/python-support-policy-updates-for-aws-sdks-and-tools/\n",
      "  warnings.warn(warning, PythonDeprecationWarning)\n"
     ]
    },
    {
     "name": "stdout",
     "output_type": "stream",
     "text": [
      "--> Downloading common/data/model/com/nwm/prod/nwm.20221005/analysis_assim/nwm.t16z.analysis_assim.channel_rt.tm00.conus.nc to /tmp/nwm.t16z.analysis_assim.channel_rt.tm00.conus.nc\n",
      "--> Removing /tmp/nwm.t16z.analysis_assim.channel_rt.tm00.conus.nc\n",
      "--> Downloading common/data/model/com/nwm/prod/nwm.20221005/analysis_assim/nwm.t17z.analysis_assim.channel_rt.tm00.conus.nc to /tmp/nwm.t17z.analysis_assim.channel_rt.tm00.conus.nc\n"
     ]
    },
    {
     "name": "stderr",
     "output_type": "stream",
     "text": [
      "/home/ec2-user/anaconda3/envs/python3/lib/python3.6/site-packages/boto3/compat.py:88: PythonDeprecationWarning: Boto3 will no longer support Python 3.6 starting May 30, 2022. To continue receiving service updates, bug fixes, and security updates please upgrade to Python 3.7 or later. More information can be found here: https://aws.amazon.com/blogs/developer/python-support-policy-updates-for-aws-sdks-and-tools/\n",
      "  warnings.warn(warning, PythonDeprecationWarning)\n"
     ]
    },
    {
     "name": "stdout",
     "output_type": "stream",
     "text": [
      "--> Removing /tmp/nwm.t17z.analysis_assim.channel_rt.tm00.conus.nc\n",
      "--> Downloading common/data/model/com/nwm/prod/nwm.20221005/analysis_assim/nwm.t18z.analysis_assim.channel_rt.tm00.conus.nc to /tmp/nwm.t18z.analysis_assim.channel_rt.tm00.conus.nc\n"
     ]
    },
    {
     "name": "stderr",
     "output_type": "stream",
     "text": [
      "/home/ec2-user/anaconda3/envs/python3/lib/python3.6/site-packages/boto3/compat.py:88: PythonDeprecationWarning: Boto3 will no longer support Python 3.6 starting May 30, 2022. To continue receiving service updates, bug fixes, and security updates please upgrade to Python 3.7 or later. More information can be found here: https://aws.amazon.com/blogs/developer/python-support-policy-updates-for-aws-sdks-and-tools/\n",
      "  warnings.warn(warning, PythonDeprecationWarning)\n"
     ]
    },
    {
     "name": "stdout",
     "output_type": "stream",
     "text": [
      "--> Removing /tmp/nwm.t18z.analysis_assim.channel_rt.tm00.conus.nc\n",
      "--> Downloading common/data/model/com/nwm/prod/nwm.20221005/analysis_assim/nwm.t19z.analysis_assim.channel_rt.tm00.conus.nc to /tmp/nwm.t19z.analysis_assim.channel_rt.tm00.conus.nc\n"
     ]
    },
    {
     "name": "stderr",
     "output_type": "stream",
     "text": [
      "/home/ec2-user/anaconda3/envs/python3/lib/python3.6/site-packages/boto3/compat.py:88: PythonDeprecationWarning: Boto3 will no longer support Python 3.6 starting May 30, 2022. To continue receiving service updates, bug fixes, and security updates please upgrade to Python 3.7 or later. More information can be found here: https://aws.amazon.com/blogs/developer/python-support-policy-updates-for-aws-sdks-and-tools/\n",
      "  warnings.warn(warning, PythonDeprecationWarning)\n"
     ]
    },
    {
     "name": "stdout",
     "output_type": "stream",
     "text": [
      "--> Removing /tmp/nwm.t19z.analysis_assim.channel_rt.tm00.conus.nc\n",
      "--> Downloading common/data/model/com/nwm/prod/nwm.20221005/analysis_assim/nwm.t20z.analysis_assim.channel_rt.tm00.conus.nc to /tmp/nwm.t20z.analysis_assim.channel_rt.tm00.conus.nc\n"
     ]
    },
    {
     "name": "stderr",
     "output_type": "stream",
     "text": [
      "/home/ec2-user/anaconda3/envs/python3/lib/python3.6/site-packages/boto3/compat.py:88: PythonDeprecationWarning: Boto3 will no longer support Python 3.6 starting May 30, 2022. To continue receiving service updates, bug fixes, and security updates please upgrade to Python 3.7 or later. More information can be found here: https://aws.amazon.com/blogs/developer/python-support-policy-updates-for-aws-sdks-and-tools/\n",
      "  warnings.warn(warning, PythonDeprecationWarning)\n"
     ]
    },
    {
     "name": "stdout",
     "output_type": "stream",
     "text": [
      "--> Removing /tmp/nwm.t20z.analysis_assim.channel_rt.tm00.conus.nc\n",
      "--> Downloading common/data/model/com/nwm/prod/nwm.20221005/analysis_assim/nwm.t21z.analysis_assim.channel_rt.tm00.conus.nc to /tmp/nwm.t21z.analysis_assim.channel_rt.tm00.conus.nc\n"
     ]
    },
    {
     "name": "stderr",
     "output_type": "stream",
     "text": [
      "/home/ec2-user/anaconda3/envs/python3/lib/python3.6/site-packages/boto3/compat.py:88: PythonDeprecationWarning: Boto3 will no longer support Python 3.6 starting May 30, 2022. To continue receiving service updates, bug fixes, and security updates please upgrade to Python 3.7 or later. More information can be found here: https://aws.amazon.com/blogs/developer/python-support-policy-updates-for-aws-sdks-and-tools/\n",
      "  warnings.warn(warning, PythonDeprecationWarning)\n"
     ]
    },
    {
     "name": "stdout",
     "output_type": "stream",
     "text": [
      "--> Removing /tmp/nwm.t21z.analysis_assim.channel_rt.tm00.conus.nc\n",
      "--> Downloading common/data/model/com/nwm/prod/nwm.20221005/analysis_assim/nwm.t22z.analysis_assim.channel_rt.tm00.conus.nc to /tmp/nwm.t22z.analysis_assim.channel_rt.tm00.conus.nc\n"
     ]
    },
    {
     "name": "stderr",
     "output_type": "stream",
     "text": [
      "/home/ec2-user/anaconda3/envs/python3/lib/python3.6/site-packages/boto3/compat.py:88: PythonDeprecationWarning: Boto3 will no longer support Python 3.6 starting May 30, 2022. To continue receiving service updates, bug fixes, and security updates please upgrade to Python 3.7 or later. More information can be found here: https://aws.amazon.com/blogs/developer/python-support-policy-updates-for-aws-sdks-and-tools/\n",
      "  warnings.warn(warning, PythonDeprecationWarning)\n"
     ]
    },
    {
     "name": "stdout",
     "output_type": "stream",
     "text": [
      "--> Removing /tmp/nwm.t22z.analysis_assim.channel_rt.tm00.conus.nc\n",
      "--> Downloading common/data/model/com/nwm/prod/nwm.20221005/analysis_assim/nwm.t23z.analysis_assim.channel_rt.tm00.conus.nc to /tmp/nwm.t23z.analysis_assim.channel_rt.tm00.conus.nc\n"
     ]
    },
    {
     "name": "stderr",
     "output_type": "stream",
     "text": [
      "/home/ec2-user/anaconda3/envs/python3/lib/python3.6/site-packages/boto3/compat.py:88: PythonDeprecationWarning: Boto3 will no longer support Python 3.6 starting May 30, 2022. To continue receiving service updates, bug fixes, and security updates please upgrade to Python 3.7 or later. More information can be found here: https://aws.amazon.com/blogs/developer/python-support-policy-updates-for-aws-sdks-and-tools/\n",
      "  warnings.warn(warning, PythonDeprecationWarning)\n"
     ]
    },
    {
     "name": "stdout",
     "output_type": "stream",
     "text": [
      "--> Removing /tmp/nwm.t23z.analysis_assim.channel_rt.tm00.conus.nc\n",
      "--> Downloading common/data/model/com/nwm/prod/nwm.20221006/analysis_assim/nwm.t00z.analysis_assim.channel_rt.tm00.conus.nc to /tmp/nwm.t00z.analysis_assim.channel_rt.tm00.conus.nc\n"
     ]
    },
    {
     "name": "stderr",
     "output_type": "stream",
     "text": [
      "/home/ec2-user/anaconda3/envs/python3/lib/python3.6/site-packages/boto3/compat.py:88: PythonDeprecationWarning: Boto3 will no longer support Python 3.6 starting May 30, 2022. To continue receiving service updates, bug fixes, and security updates please upgrade to Python 3.7 or later. More information can be found here: https://aws.amazon.com/blogs/developer/python-support-policy-updates-for-aws-sdks-and-tools/\n",
      "  warnings.warn(warning, PythonDeprecationWarning)\n"
     ]
    },
    {
     "name": "stdout",
     "output_type": "stream",
     "text": [
      "--> Removing /tmp/nwm.t00z.analysis_assim.channel_rt.tm00.conus.nc\n",
      "--> Downloading common/data/model/com/nwm/prod/nwm.20221006/analysis_assim/nwm.t01z.analysis_assim.channel_rt.tm00.conus.nc to /tmp/nwm.t01z.analysis_assim.channel_rt.tm00.conus.nc\n"
     ]
    },
    {
     "name": "stderr",
     "output_type": "stream",
     "text": [
      "/home/ec2-user/anaconda3/envs/python3/lib/python3.6/site-packages/boto3/compat.py:88: PythonDeprecationWarning: Boto3 will no longer support Python 3.6 starting May 30, 2022. To continue receiving service updates, bug fixes, and security updates please upgrade to Python 3.7 or later. More information can be found here: https://aws.amazon.com/blogs/developer/python-support-policy-updates-for-aws-sdks-and-tools/\n",
      "  warnings.warn(warning, PythonDeprecationWarning)\n"
     ]
    },
    {
     "name": "stdout",
     "output_type": "stream",
     "text": [
      "--> Removing /tmp/nwm.t01z.analysis_assim.channel_rt.tm00.conus.nc\n",
      "--> Downloading common/data/model/com/nwm/prod/nwm.20221006/analysis_assim/nwm.t02z.analysis_assim.channel_rt.tm00.conus.nc to /tmp/nwm.t02z.analysis_assim.channel_rt.tm00.conus.nc\n"
     ]
    },
    {
     "name": "stderr",
     "output_type": "stream",
     "text": [
      "/home/ec2-user/anaconda3/envs/python3/lib/python3.6/site-packages/boto3/compat.py:88: PythonDeprecationWarning: Boto3 will no longer support Python 3.6 starting May 30, 2022. To continue receiving service updates, bug fixes, and security updates please upgrade to Python 3.7 or later. More information can be found here: https://aws.amazon.com/blogs/developer/python-support-policy-updates-for-aws-sdks-and-tools/\n",
      "  warnings.warn(warning, PythonDeprecationWarning)\n"
     ]
    },
    {
     "name": "stdout",
     "output_type": "stream",
     "text": [
      "--> Removing /tmp/nwm.t02z.analysis_assim.channel_rt.tm00.conus.nc\n",
      "--> Downloading common/data/model/com/nwm/prod/nwm.20221006/analysis_assim/nwm.t03z.analysis_assim.channel_rt.tm00.conus.nc to /tmp/nwm.t03z.analysis_assim.channel_rt.tm00.conus.nc\n"
     ]
    },
    {
     "name": "stderr",
     "output_type": "stream",
     "text": [
      "/home/ec2-user/anaconda3/envs/python3/lib/python3.6/site-packages/boto3/compat.py:88: PythonDeprecationWarning: Boto3 will no longer support Python 3.6 starting May 30, 2022. To continue receiving service updates, bug fixes, and security updates please upgrade to Python 3.7 or later. More information can be found here: https://aws.amazon.com/blogs/developer/python-support-policy-updates-for-aws-sdks-and-tools/\n",
      "  warnings.warn(warning, PythonDeprecationWarning)\n"
     ]
    },
    {
     "name": "stdout",
     "output_type": "stream",
     "text": [
      "--> Removing /tmp/nwm.t03z.analysis_assim.channel_rt.tm00.conus.nc\n",
      "--> Downloading common/data/model/com/nwm/prod/nwm.20221006/analysis_assim/nwm.t04z.analysis_assim.channel_rt.tm00.conus.nc to /tmp/nwm.t04z.analysis_assim.channel_rt.tm00.conus.nc\n"
     ]
    },
    {
     "name": "stderr",
     "output_type": "stream",
     "text": [
      "/home/ec2-user/anaconda3/envs/python3/lib/python3.6/site-packages/boto3/compat.py:88: PythonDeprecationWarning: Boto3 will no longer support Python 3.6 starting May 30, 2022. To continue receiving service updates, bug fixes, and security updates please upgrade to Python 3.7 or later. More information can be found here: https://aws.amazon.com/blogs/developer/python-support-policy-updates-for-aws-sdks-and-tools/\n",
      "  warnings.warn(warning, PythonDeprecationWarning)\n"
     ]
    },
    {
     "name": "stdout",
     "output_type": "stream",
     "text": [
      "--> Removing /tmp/nwm.t04z.analysis_assim.channel_rt.tm00.conus.nc\n",
      "--> Downloading common/data/model/com/nwm/prod/nwm.20221006/analysis_assim/nwm.t05z.analysis_assim.channel_rt.tm00.conus.nc to /tmp/nwm.t05z.analysis_assim.channel_rt.tm00.conus.nc\n"
     ]
    },
    {
     "name": "stderr",
     "output_type": "stream",
     "text": [
      "/home/ec2-user/anaconda3/envs/python3/lib/python3.6/site-packages/boto3/compat.py:88: PythonDeprecationWarning: Boto3 will no longer support Python 3.6 starting May 30, 2022. To continue receiving service updates, bug fixes, and security updates please upgrade to Python 3.7 or later. More information can be found here: https://aws.amazon.com/blogs/developer/python-support-policy-updates-for-aws-sdks-and-tools/\n",
      "  warnings.warn(warning, PythonDeprecationWarning)\n"
     ]
    },
    {
     "name": "stdout",
     "output_type": "stream",
     "text": [
      "--> Removing /tmp/nwm.t05z.analysis_assim.channel_rt.tm00.conus.nc\n",
      "--> Downloading common/data/model/com/nwm/prod/nwm.20221006/analysis_assim/nwm.t06z.analysis_assim.channel_rt.tm00.conus.nc to /tmp/nwm.t06z.analysis_assim.channel_rt.tm00.conus.nc\n"
     ]
    },
    {
     "name": "stderr",
     "output_type": "stream",
     "text": [
      "/home/ec2-user/anaconda3/envs/python3/lib/python3.6/site-packages/boto3/compat.py:88: PythonDeprecationWarning: Boto3 will no longer support Python 3.6 starting May 30, 2022. To continue receiving service updates, bug fixes, and security updates please upgrade to Python 3.7 or later. More information can be found here: https://aws.amazon.com/blogs/developer/python-support-policy-updates-for-aws-sdks-and-tools/\n",
      "  warnings.warn(warning, PythonDeprecationWarning)\n"
     ]
    },
    {
     "name": "stdout",
     "output_type": "stream",
     "text": [
      "--> Removing /tmp/nwm.t06z.analysis_assim.channel_rt.tm00.conus.nc\n",
      "--> Downloading common/data/model/com/nwm/prod/nwm.20221006/analysis_assim/nwm.t07z.analysis_assim.channel_rt.tm00.conus.nc to /tmp/nwm.t07z.analysis_assim.channel_rt.tm00.conus.nc\n"
     ]
    },
    {
     "name": "stderr",
     "output_type": "stream",
     "text": [
      "/home/ec2-user/anaconda3/envs/python3/lib/python3.6/site-packages/boto3/compat.py:88: PythonDeprecationWarning: Boto3 will no longer support Python 3.6 starting May 30, 2022. To continue receiving service updates, bug fixes, and security updates please upgrade to Python 3.7 or later. More information can be found here: https://aws.amazon.com/blogs/developer/python-support-policy-updates-for-aws-sdks-and-tools/\n",
      "  warnings.warn(warning, PythonDeprecationWarning)\n"
     ]
    },
    {
     "name": "stdout",
     "output_type": "stream",
     "text": [
      "--> Removing /tmp/nwm.t07z.analysis_assim.channel_rt.tm00.conus.nc\n",
      "--> Downloading common/data/model/com/nwm/prod/nwm.20221006/analysis_assim/nwm.t08z.analysis_assim.channel_rt.tm00.conus.nc to /tmp/nwm.t08z.analysis_assim.channel_rt.tm00.conus.nc\n"
     ]
    },
    {
     "name": "stderr",
     "output_type": "stream",
     "text": [
      "/home/ec2-user/anaconda3/envs/python3/lib/python3.6/site-packages/boto3/compat.py:88: PythonDeprecationWarning: Boto3 will no longer support Python 3.6 starting May 30, 2022. To continue receiving service updates, bug fixes, and security updates please upgrade to Python 3.7 or later. More information can be found here: https://aws.amazon.com/blogs/developer/python-support-policy-updates-for-aws-sdks-and-tools/\n",
      "  warnings.warn(warning, PythonDeprecationWarning)\n"
     ]
    },
    {
     "name": "stdout",
     "output_type": "stream",
     "text": [
      "--> Removing /tmp/nwm.t08z.analysis_assim.channel_rt.tm00.conus.nc\n",
      "--> Downloading common/data/model/com/nwm/prod/nwm.20221006/analysis_assim/nwm.t09z.analysis_assim.channel_rt.tm00.conus.nc to /tmp/nwm.t09z.analysis_assim.channel_rt.tm00.conus.nc\n"
     ]
    },
    {
     "name": "stderr",
     "output_type": "stream",
     "text": [
      "/home/ec2-user/anaconda3/envs/python3/lib/python3.6/site-packages/boto3/compat.py:88: PythonDeprecationWarning: Boto3 will no longer support Python 3.6 starting May 30, 2022. To continue receiving service updates, bug fixes, and security updates please upgrade to Python 3.7 or later. More information can be found here: https://aws.amazon.com/blogs/developer/python-support-policy-updates-for-aws-sdks-and-tools/\n",
      "  warnings.warn(warning, PythonDeprecationWarning)\n"
     ]
    },
    {
     "name": "stdout",
     "output_type": "stream",
     "text": [
      "--> Removing /tmp/nwm.t09z.analysis_assim.channel_rt.tm00.conus.nc\n",
      "--> Downloading common/data/model/com/nwm/prod/nwm.20221006/analysis_assim/nwm.t10z.analysis_assim.channel_rt.tm00.conus.nc to /tmp/nwm.t10z.analysis_assim.channel_rt.tm00.conus.nc\n"
     ]
    },
    {
     "name": "stderr",
     "output_type": "stream",
     "text": [
      "/home/ec2-user/anaconda3/envs/python3/lib/python3.6/site-packages/boto3/compat.py:88: PythonDeprecationWarning: Boto3 will no longer support Python 3.6 starting May 30, 2022. To continue receiving service updates, bug fixes, and security updates please upgrade to Python 3.7 or later. More information can be found here: https://aws.amazon.com/blogs/developer/python-support-policy-updates-for-aws-sdks-and-tools/\n",
      "  warnings.warn(warning, PythonDeprecationWarning)\n"
     ]
    },
    {
     "name": "stdout",
     "output_type": "stream",
     "text": [
      "--> Removing /tmp/nwm.t10z.analysis_assim.channel_rt.tm00.conus.nc\n",
      "--> Downloading common/data/model/com/nwm/prod/nwm.20221006/analysis_assim/nwm.t11z.analysis_assim.channel_rt.tm00.conus.nc to /tmp/nwm.t11z.analysis_assim.channel_rt.tm00.conus.nc\n"
     ]
    },
    {
     "name": "stderr",
     "output_type": "stream",
     "text": [
      "/home/ec2-user/anaconda3/envs/python3/lib/python3.6/site-packages/boto3/compat.py:88: PythonDeprecationWarning: Boto3 will no longer support Python 3.6 starting May 30, 2022. To continue receiving service updates, bug fixes, and security updates please upgrade to Python 3.7 or later. More information can be found here: https://aws.amazon.com/blogs/developer/python-support-policy-updates-for-aws-sdks-and-tools/\n",
      "  warnings.warn(warning, PythonDeprecationWarning)\n"
     ]
    },
    {
     "name": "stdout",
     "output_type": "stream",
     "text": [
      "--> Removing /tmp/nwm.t11z.analysis_assim.channel_rt.tm00.conus.nc\n",
      "--> Downloading common/data/model/com/nwm/prod/nwm.20221006/analysis_assim/nwm.t12z.analysis_assim.channel_rt.tm00.conus.nc to /tmp/nwm.t12z.analysis_assim.channel_rt.tm00.conus.nc\n"
     ]
    },
    {
     "name": "stderr",
     "output_type": "stream",
     "text": [
      "/home/ec2-user/anaconda3/envs/python3/lib/python3.6/site-packages/boto3/compat.py:88: PythonDeprecationWarning: Boto3 will no longer support Python 3.6 starting May 30, 2022. To continue receiving service updates, bug fixes, and security updates please upgrade to Python 3.7 or later. More information can be found here: https://aws.amazon.com/blogs/developer/python-support-policy-updates-for-aws-sdks-and-tools/\n",
      "  warnings.warn(warning, PythonDeprecationWarning)\n"
     ]
    },
    {
     "name": "stdout",
     "output_type": "stream",
     "text": [
      "--> Removing /tmp/nwm.t12z.analysis_assim.channel_rt.tm00.conus.nc\n",
      "--> Downloading common/data/model/com/nwm/prod/nwm.20221006/analysis_assim/nwm.t13z.analysis_assim.channel_rt.tm00.conus.nc to /tmp/nwm.t13z.analysis_assim.channel_rt.tm00.conus.nc\n"
     ]
    },
    {
     "name": "stderr",
     "output_type": "stream",
     "text": [
      "/home/ec2-user/anaconda3/envs/python3/lib/python3.6/site-packages/boto3/compat.py:88: PythonDeprecationWarning: Boto3 will no longer support Python 3.6 starting May 30, 2022. To continue receiving service updates, bug fixes, and security updates please upgrade to Python 3.7 or later. More information can be found here: https://aws.amazon.com/blogs/developer/python-support-policy-updates-for-aws-sdks-and-tools/\n",
      "  warnings.warn(warning, PythonDeprecationWarning)\n"
     ]
    },
    {
     "name": "stdout",
     "output_type": "stream",
     "text": [
      "--> Removing /tmp/nwm.t13z.analysis_assim.channel_rt.tm00.conus.nc\n",
      "--> Downloading common/data/model/com/nwm/prod/nwm.20221006/analysis_assim/nwm.t14z.analysis_assim.channel_rt.tm00.conus.nc to /tmp/nwm.t14z.analysis_assim.channel_rt.tm00.conus.nc\n"
     ]
    },
    {
     "name": "stderr",
     "output_type": "stream",
     "text": [
      "/home/ec2-user/anaconda3/envs/python3/lib/python3.6/site-packages/boto3/compat.py:88: PythonDeprecationWarning: Boto3 will no longer support Python 3.6 starting May 30, 2022. To continue receiving service updates, bug fixes, and security updates please upgrade to Python 3.7 or later. More information can be found here: https://aws.amazon.com/blogs/developer/python-support-policy-updates-for-aws-sdks-and-tools/\n",
      "  warnings.warn(warning, PythonDeprecationWarning)\n"
     ]
    },
    {
     "name": "stdout",
     "output_type": "stream",
     "text": [
      "--> Removing /tmp/nwm.t14z.analysis_assim.channel_rt.tm00.conus.nc\n",
      "--> Downloading common/data/model/com/nwm/prod/nwm.20221006/analysis_assim/nwm.t15z.analysis_assim.channel_rt.tm00.conus.nc to /tmp/nwm.t15z.analysis_assim.channel_rt.tm00.conus.nc\n"
     ]
    },
    {
     "name": "stderr",
     "output_type": "stream",
     "text": [
      "/home/ec2-user/anaconda3/envs/python3/lib/python3.6/site-packages/boto3/compat.py:88: PythonDeprecationWarning: Boto3 will no longer support Python 3.6 starting May 30, 2022. To continue receiving service updates, bug fixes, and security updates please upgrade to Python 3.7 or later. More information can be found here: https://aws.amazon.com/blogs/developer/python-support-policy-updates-for-aws-sdks-and-tools/\n",
      "  warnings.warn(warning, PythonDeprecationWarning)\n"
     ]
    },
    {
     "name": "stdout",
     "output_type": "stream",
     "text": [
      "--> Removing /tmp/nwm.t15z.analysis_assim.channel_rt.tm00.conus.nc\n",
      "--> Downloading common/data/model/com/nwm/prod/nwm.20221006/analysis_assim/nwm.t16z.analysis_assim.channel_rt.tm00.conus.nc to /tmp/nwm.t16z.analysis_assim.channel_rt.tm00.conus.nc\n"
     ]
    },
    {
     "name": "stderr",
     "output_type": "stream",
     "text": [
      "/home/ec2-user/anaconda3/envs/python3/lib/python3.6/site-packages/boto3/compat.py:88: PythonDeprecationWarning: Boto3 will no longer support Python 3.6 starting May 30, 2022. To continue receiving service updates, bug fixes, and security updates please upgrade to Python 3.7 or later. More information can be found here: https://aws.amazon.com/blogs/developer/python-support-policy-updates-for-aws-sdks-and-tools/\n",
      "  warnings.warn(warning, PythonDeprecationWarning)\n"
     ]
    },
    {
     "name": "stdout",
     "output_type": "stream",
     "text": [
      "--> Removing /tmp/nwm.t16z.analysis_assim.channel_rt.tm00.conus.nc\n",
      "--> Downloading common/data/model/com/nwm/prod/nwm.20221006/analysis_assim/nwm.t17z.analysis_assim.channel_rt.tm00.conus.nc to /tmp/nwm.t17z.analysis_assim.channel_rt.tm00.conus.nc\n"
     ]
    },
    {
     "name": "stderr",
     "output_type": "stream",
     "text": [
      "/home/ec2-user/anaconda3/envs/python3/lib/python3.6/site-packages/boto3/compat.py:88: PythonDeprecationWarning: Boto3 will no longer support Python 3.6 starting May 30, 2022. To continue receiving service updates, bug fixes, and security updates please upgrade to Python 3.7 or later. More information can be found here: https://aws.amazon.com/blogs/developer/python-support-policy-updates-for-aws-sdks-and-tools/\n",
      "  warnings.warn(warning, PythonDeprecationWarning)\n"
     ]
    },
    {
     "name": "stdout",
     "output_type": "stream",
     "text": [
      "--> Removing /tmp/nwm.t17z.analysis_assim.channel_rt.tm00.conus.nc\n",
      "--> Downloading common/data/model/com/nwm/prod/nwm.20221006/analysis_assim/nwm.t18z.analysis_assim.channel_rt.tm00.conus.nc to /tmp/nwm.t18z.analysis_assim.channel_rt.tm00.conus.nc\n"
     ]
    },
    {
     "name": "stderr",
     "output_type": "stream",
     "text": [
      "/home/ec2-user/anaconda3/envs/python3/lib/python3.6/site-packages/boto3/compat.py:88: PythonDeprecationWarning: Boto3 will no longer support Python 3.6 starting May 30, 2022. To continue receiving service updates, bug fixes, and security updates please upgrade to Python 3.7 or later. More information can be found here: https://aws.amazon.com/blogs/developer/python-support-policy-updates-for-aws-sdks-and-tools/\n",
      "  warnings.warn(warning, PythonDeprecationWarning)\n"
     ]
    },
    {
     "name": "stdout",
     "output_type": "stream",
     "text": [
      "--> Removing /tmp/nwm.t18z.analysis_assim.channel_rt.tm00.conus.nc\n",
      "--> Downloading common/data/model/com/nwm/prod/nwm.20221006/analysis_assim/nwm.t19z.analysis_assim.channel_rt.tm00.conus.nc to /tmp/nwm.t19z.analysis_assim.channel_rt.tm00.conus.nc\n"
     ]
    },
    {
     "name": "stderr",
     "output_type": "stream",
     "text": [
      "/home/ec2-user/anaconda3/envs/python3/lib/python3.6/site-packages/boto3/compat.py:88: PythonDeprecationWarning: Boto3 will no longer support Python 3.6 starting May 30, 2022. To continue receiving service updates, bug fixes, and security updates please upgrade to Python 3.7 or later. More information can be found here: https://aws.amazon.com/blogs/developer/python-support-policy-updates-for-aws-sdks-and-tools/\n",
      "  warnings.warn(warning, PythonDeprecationWarning)\n"
     ]
    },
    {
     "name": "stdout",
     "output_type": "stream",
     "text": [
      "--> Removing /tmp/nwm.t19z.analysis_assim.channel_rt.tm00.conus.nc\n",
      "--> Downloading common/data/model/com/nwm/prod/nwm.20221006/analysis_assim/nwm.t20z.analysis_assim.channel_rt.tm00.conus.nc to /tmp/nwm.t20z.analysis_assim.channel_rt.tm00.conus.nc\n"
     ]
    },
    {
     "name": "stderr",
     "output_type": "stream",
     "text": [
      "/home/ec2-user/anaconda3/envs/python3/lib/python3.6/site-packages/boto3/compat.py:88: PythonDeprecationWarning: Boto3 will no longer support Python 3.6 starting May 30, 2022. To continue receiving service updates, bug fixes, and security updates please upgrade to Python 3.7 or later. More information can be found here: https://aws.amazon.com/blogs/developer/python-support-policy-updates-for-aws-sdks-and-tools/\n",
      "  warnings.warn(warning, PythonDeprecationWarning)\n"
     ]
    },
    {
     "name": "stdout",
     "output_type": "stream",
     "text": [
      "--> Removing /tmp/nwm.t20z.analysis_assim.channel_rt.tm00.conus.nc\n",
      "--> Downloading common/data/model/com/nwm/prod/nwm.20221006/analysis_assim/nwm.t21z.analysis_assim.channel_rt.tm00.conus.nc to /tmp/nwm.t21z.analysis_assim.channel_rt.tm00.conus.nc\n"
     ]
    },
    {
     "name": "stderr",
     "output_type": "stream",
     "text": [
      "/home/ec2-user/anaconda3/envs/python3/lib/python3.6/site-packages/boto3/compat.py:88: PythonDeprecationWarning: Boto3 will no longer support Python 3.6 starting May 30, 2022. To continue receiving service updates, bug fixes, and security updates please upgrade to Python 3.7 or later. More information can be found here: https://aws.amazon.com/blogs/developer/python-support-policy-updates-for-aws-sdks-and-tools/\n",
      "  warnings.warn(warning, PythonDeprecationWarning)\n"
     ]
    },
    {
     "name": "stdout",
     "output_type": "stream",
     "text": [
      "--> Removing /tmp/nwm.t21z.analysis_assim.channel_rt.tm00.conus.nc\n",
      "--> Downloading common/data/model/com/nwm/prod/nwm.20221006/analysis_assim/nwm.t22z.analysis_assim.channel_rt.tm00.conus.nc to /tmp/nwm.t22z.analysis_assim.channel_rt.tm00.conus.nc\n"
     ]
    },
    {
     "name": "stderr",
     "output_type": "stream",
     "text": [
      "/home/ec2-user/anaconda3/envs/python3/lib/python3.6/site-packages/boto3/compat.py:88: PythonDeprecationWarning: Boto3 will no longer support Python 3.6 starting May 30, 2022. To continue receiving service updates, bug fixes, and security updates please upgrade to Python 3.7 or later. More information can be found here: https://aws.amazon.com/blogs/developer/python-support-policy-updates-for-aws-sdks-and-tools/\n",
      "  warnings.warn(warning, PythonDeprecationWarning)\n"
     ]
    },
    {
     "name": "stdout",
     "output_type": "stream",
     "text": [
      "--> Removing /tmp/nwm.t22z.analysis_assim.channel_rt.tm00.conus.nc\n",
      "--> Downloading common/data/model/com/nwm/prod/nwm.20221006/analysis_assim/nwm.t23z.analysis_assim.channel_rt.tm00.conus.nc to /tmp/nwm.t23z.analysis_assim.channel_rt.tm00.conus.nc\n"
     ]
    },
    {
     "name": "stderr",
     "output_type": "stream",
     "text": [
      "/home/ec2-user/anaconda3/envs/python3/lib/python3.6/site-packages/boto3/compat.py:88: PythonDeprecationWarning: Boto3 will no longer support Python 3.6 starting May 30, 2022. To continue receiving service updates, bug fixes, and security updates please upgrade to Python 3.7 or later. More information can be found here: https://aws.amazon.com/blogs/developer/python-support-policy-updates-for-aws-sdks-and-tools/\n",
      "  warnings.warn(warning, PythonDeprecationWarning)\n"
     ]
    },
    {
     "name": "stdout",
     "output_type": "stream",
     "text": [
      "--> Removing /tmp/nwm.t23z.analysis_assim.channel_rt.tm00.conus.nc\n",
      "--> Downloading common/data/model/com/nwm/prod/nwm.20221007/analysis_assim/nwm.t00z.analysis_assim.channel_rt.tm00.conus.nc to /tmp/nwm.t00z.analysis_assim.channel_rt.tm00.conus.nc\n"
     ]
    },
    {
     "name": "stderr",
     "output_type": "stream",
     "text": [
      "/home/ec2-user/anaconda3/envs/python3/lib/python3.6/site-packages/boto3/compat.py:88: PythonDeprecationWarning: Boto3 will no longer support Python 3.6 starting May 30, 2022. To continue receiving service updates, bug fixes, and security updates please upgrade to Python 3.7 or later. More information can be found here: https://aws.amazon.com/blogs/developer/python-support-policy-updates-for-aws-sdks-and-tools/\n",
      "  warnings.warn(warning, PythonDeprecationWarning)\n"
     ]
    },
    {
     "name": "stdout",
     "output_type": "stream",
     "text": [
      "--> Removing /tmp/nwm.t00z.analysis_assim.channel_rt.tm00.conus.nc\n",
      "--> Creating max_flows/analysis_assim/20221007/ana_14day_00_max_flows.nc\n"
     ]
    },
    {
     "name": "stderr",
     "output_type": "stream",
     "text": [
      "/home/ec2-user/anaconda3/envs/python3/lib/python3.6/site-packages/boto3/compat.py:88: PythonDeprecationWarning: Boto3 will no longer support Python 3.6 starting May 30, 2022. To continue receiving service updates, bug fixes, and security updates please upgrade to Python 3.7 or later. More information can be found here: https://aws.amazon.com/blogs/developer/python-support-policy-updates-for-aws-sdks-and-tools/\n",
      "  warnings.warn(warning, PythonDeprecationWarning)\n"
     ]
    },
    {
     "name": "stdout",
     "output_type": "stream",
     "text": [
      "Successfully created max flows file for analysis_assim for 20221007T00:00:00Z\n",
      "Done\n"
     ]
    }
   ],
   "source": [
    "event = {\n",
    "  \"data_bucket\": \"hydrovis-ti-nwm-us-east-1\",\n",
    "  \"data_key\": \"common/data/model/com/nwm/prod/nwm.20221007/analysis_assim/nwm.t00z.analysis_assim.channel_rt.tm00.conus.nc\"\n",
    "}\n",
    "\n",
    "lambda_handler(event, {})"
   ]
  },
  {
   "cell_type": "code",
   "execution_count": null,
   "id": "c63f573f",
   "metadata": {},
   "outputs": [],
   "source": []
  }
 ],
 "metadata": {
  "kernelspec": {
   "display_name": "conda_python3",
   "language": "python",
   "name": "conda_python3"
  },
  "language_info": {
   "codemirror_mode": {
    "name": "ipython",
    "version": 3
   },
   "file_extension": ".py",
   "mimetype": "text/x-python",
   "name": "python",
   "nbconvert_exporter": "python",
   "pygments_lexer": "ipython3",
   "version": "3.10.12"
  }
 },
 "nbformat": 4,
 "nbformat_minor": 5
}
