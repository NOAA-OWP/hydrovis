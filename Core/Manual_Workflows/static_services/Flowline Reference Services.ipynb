{
 "cells": [
  {
   "cell_type": "markdown",
   "id": "7b243f1c-31a9-4278-af9a-0bc0e6c217a6",
   "metadata": {},
   "source": [
    "### Create the tables for the Flowline Services - located in the reference schema / EGIS database "
   ]
  },
  {
   "cell_type": "code",
   "execution_count": null,
   "id": "8925ab42-79f4-4153-8388-d6529d7f8c09",
   "metadata": {},
   "outputs": [],
   "source": [
    "from helper_functions.shared_functions import execute_sql, move_data_from_viz_to_egis"
   ]
  },
  {
   "cell_type": "markdown",
   "id": "6798fb7c-a2df-4394-b68b-d55a44a07f01",
   "metadata": {
    "tags": []
   },
   "source": [
    "#### SQL statement that creates the CONUS Channels and Thresholds reference table for the Flowlines Service"
   ]
  },
  {
   "cell_type": "code",
   "execution_count": null,
   "id": "8cda26f4-0a6b-44ff-b8d9-d23920ab9d8a",
   "metadata": {},
   "outputs": [],
   "source": [
    "## NOTE: some columns had the datatype cast to match those in the current reference table so that the mapx would not need to be adjusted\n",
    "sql = f'''\n",
    "DROP TABLE IF EXISTS dev.flowlines_conus;\n",
    "SELECT channels.feature_id, \n",
    "    channels.strm_order::BIGINT, \n",
    "\tchannels.name::TEXT, \n",
    "\tchannels.huc6, \n",
    "\tCAST('3.0' AS double precision) as nwm_vers, \n",
    "\tchannels.geom, \n",
    "\tthresholds.high_water_threshold, \n",
    "\tthresholds.rf_2_0_17c, \n",
    "\tthresholds.rf_5_0_17c, \n",
    "\tthresholds.rf_10_0_17c, \n",
    "\tthresholds.rf_25_0_17c, \n",
    "\tthresholds.rf_50_0_17c, \n",
    "\trow_number() over() as oid,\n",
    "\tchannels.feature_id::TEXT AS feature_id_str\n",
    "INTO dev.flowlines_conus\n",
    "FROM derived.channels_conus AS channels\n",
    "JOIN derived.recurrence_flows_conus AS thresholds ON channels.feature_id = thresholds.feature_id\n",
    "'''\n",
    "execute_sql(sql)"
   ]
  },
  {
   "cell_type": "markdown",
   "id": "89a81c7a-64c9-4a22-a0b9-0df9c545f30f",
   "metadata": {},
   "source": [
    "#### Move the CONUS dev table from viz to an \"on deck\" version in the egis database"
   ]
  },
  {
   "cell_type": "code",
   "execution_count": null,
   "id": "09a00731-753a-46f7-b99c-f1f9aab84d72",
   "metadata": {},
   "outputs": [],
   "source": [
    "move_data_from_viz_to_egis('dev.flowlines_conus', 'reference.channels_conus_ondeck')"
   ]
  },
  {
   "cell_type": "markdown",
   "id": "e6950833-cb1b-4408-9941-d17c130b96c2",
   "metadata": {
    "tags": []
   },
   "source": [
    "#### Create a \"retired\" CONUS reference table and rename the \"on deck\" table to the live version"
   ]
  },
  {
   "cell_type": "code",
   "execution_count": null,
   "id": "15ede287-d437-401e-9558-c255c8fde251",
   "metadata": {},
   "outputs": [],
   "source": [
    "execute_sql('''\n",
    "    DROP TABLE IF EXISTS reference.channels_conus_retired;\n",
    "    ALTER TABLE reference.channels_conus RENAME TO channels_conus_retired;\n",
    "    ALTER TABLE reference.channels_conus_ondeck RENAME TO channels_conus;\n",
    "''', 'egis')"
   ]
  },
  {
   "cell_type": "markdown",
   "id": "79bff0e9-902d-4509-a1ce-1e3a5f514d44",
   "metadata": {},
   "source": [
    "#### SQL statement that creates the ALASKA Channels and Thresholds reference table for the Flowlines Service"
   ]
  },
  {
   "cell_type": "code",
   "execution_count": null,
   "id": "ea6341fa-6d16-4164-95e6-25118331b64d",
   "metadata": {},
   "outputs": [],
   "source": [
    "sql = f'''\n",
    "DROP TABLE IF EXISTS dev.flowlines_ak;\n",
    "SELECT channels.feature_id, \n",
    "    channels.strm_order, \n",
    "\tchannels.name::TEXT, \n",
    "\tchannels.huc6, \n",
    "\tCAST('3.0' AS double precision) as nwm_vers, \n",
    "\tchannels.geom, \n",
    "\tthresholds.high_water_threshold, \n",
    "\tthresholds.rf_2_0_17c, \n",
    "\tthresholds.rf_5_0_17c, \n",
    "\tthresholds.rf_10_0_17c, \n",
    "\tthresholds.rf_25_0_17c, \n",
    "\tthresholds.rf_50_0_17c, \n",
    "\trow_number() over() as oid,\n",
    "\tchannels.feature_id::TEXT AS feature_id_str\n",
    "INTO dev.flowlines_ak\n",
    "FROM derived.channels_alaska AS channels\n",
    "JOIN derived.recurrence_flows_ak AS thresholds ON channels.feature_id = thresholds.feature_id\n",
    "'''\n",
    "execute_sql(sql)"
   ]
  },
  {
   "cell_type": "markdown",
   "id": "755e103c-40bf-4b5d-bb09-6893f6422288",
   "metadata": {},
   "source": [
    "#### Move the Alaska dev table from viz to \"on deck\" version in the egis database"
   ]
  },
  {
   "cell_type": "code",
   "execution_count": null,
   "id": "ed265bdb-0b08-463b-8e85-323c3d7f2e98",
   "metadata": {},
   "outputs": [],
   "source": [
    "move_data_from_viz_to_egis('dev.flowlines_ak', 'reference.channels_ak_ondeck')"
   ]
  },
  {
   "cell_type": "markdown",
   "id": "0d9fa03e-4f5d-41ea-864c-5054bcd49477",
   "metadata": {},
   "source": [
    "#### Create a \"retired\" Alaska reference table and rename the \"on deck\" table to the live version"
   ]
  },
  {
   "cell_type": "code",
   "execution_count": null,
   "id": "54cbea12-bcba-476b-931d-d5b5aeb1f0dc",
   "metadata": {},
   "outputs": [],
   "source": [
    "execute_sql('''\n",
    "    DROP TABLE IF EXISTS reference.channels_ak_retired;\n",
    "    ALTER TABLE reference.channels_ak RENAME TO channels_ak_retired;\n",
    "    ALTER TABLE reference.channels_ak_ondeck RENAME TO channels_ak;\n",
    "''', 'egis')"
   ]
  }
 ],
 "metadata": {
  "kernelspec": {
   "display_name": "conda_python3",
   "language": "python",
   "name": "conda_python3"
  },
  "language_info": {
   "codemirror_mode": {
    "name": "ipython",
    "version": 3
   },
   "file_extension": ".py",
   "mimetype": "text/x-python",
   "name": "python",
   "nbconvert_exporter": "python",
   "pygments_lexer": "ipython3",
   "version": "3.10.14"
  }
 },
 "nbformat": 4,
 "nbformat_minor": 5
}
