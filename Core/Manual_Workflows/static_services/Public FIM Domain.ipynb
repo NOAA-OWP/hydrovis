{
 "cells": [
  {
   "cell_type": "code",
   "execution_count": 1,
   "id": "850b3abf-a9f1-4e19-86cf-facfd80f7910",
   "metadata": {
    "tags": []
   },
   "outputs": [],
   "source": [
    "OLD_PUBLIC_FIM_PERCENT = 10\n",
    "NEW_PUBLIC_FIM_PERCENT = 30\n",
    "NOAA_GEOPLATFORM_SUBLAYER_INDEX = 9"
   ]
  },
  {
   "cell_type": "code",
   "execution_count": null,
   "id": "edaea545-4504-4f71-9d83-2576d59c3f34",
   "metadata": {},
   "outputs": [],
   "source": [
    "import requests\n",
    "\n",
    "# place full requests.get URL below\n",
    "r = requests.get('https://services2.arcgis.com/C8EMgrsFcRFL6LrL/arcgis/rest/services/Updated_FIM_Implementation/FeatureServer'\n",
    "                 f'/{NOAA_GEOPLATFORM_SUBLAYER_INDEX}/query?.....'\n",
    "geojson = r.json()"
   ]
  },
  {
   "cell_type": "code",
   "execution_count": null,
   "id": "c62f2d71-e12c-44d4-8774-061e8dee79e9",
   "metadata": {},
   "outputs": [],
   "source": [
    "import geopandas as gpd\n",
    "from shapely.geometry import shape\n",
    "features = [f for f in geojson['features']]\n",
    "geom = [shape(f['geometry']) for f in features]\n",
    "df = gpd.GeoDataFrame({'geom': geom})\n",
    "df = df.set_geometry('geom')\n",
    "df = df.set_crs('EPSG:3857')"
   ]
  },
  {
   "cell_type": "code",
   "execution_count": null,
   "id": "57b0734e-d48a-4441-aa56-9d5eb023af5f",
   "metadata": {},
   "outputs": [],
   "source": [
    "df.to_postgis(f'public_fim{NEW_PUBLIC_FIM_PERCENT}_new_only_domain', get_db_engine('viz'), schema='derived', if_exists='append')"
   ]
  },
  {
   "cell_type": "code",
   "execution_count": 3,
   "id": "052af1b7-3fec-464d-b062-1183590715a4",
   "metadata": {
    "tags": []
   },
   "outputs": [],
   "source": [
    "import sys\n",
    "import os\n",
    "sys.path.append(os.path.dirname(os.path.abspath('')))\n",
    "from helper_functions.shared_functions import execute_sql, sql_to_dataframe"
   ]
  },
  {
   "cell_type": "code",
   "execution_count": 36,
   "id": "ce4fc53e-1501-489c-9efd-0e9e19ba5727",
   "metadata": {
    "tags": []
   },
   "outputs": [],
   "source": [
    "sql = f'''\n",
    "DROP TABLE IF EXISTS derived.public_fim{NEW_PUBLIC_FIM_PERCENT}_domain;\n",
    "\n",
    "WITH unioned AS (\n",
    "    SELECT geom FROM derived.public_fim{NEW_PUBLIC_FIM_PERCENT}_new_only_domain\n",
    "    UNION\n",
    "    SELECT geom FROM derived.public_fim{OLD_PUBLIC_FIM_PERCENT}_domain\n",
    ")\n",
    "\n",
    "SELECT\n",
    "1 as oid,\n",
    "ST_Buffer(ST_Union(ST_Buffer(geom, 1)), -1) as geom\n",
    "INTO derived.public_fim{NEW_PUBLIC_FIM_PERCENT}_domain\n",
    "FROM unioned\n",
    "GROUP BY oid;\n",
    "'''\n",
    "execute_sql(sql)"
   ]
  },
  {
   "cell_type": "code",
   "execution_count": 37,
   "id": "5f008b27-5499-4adf-8cd5-844bda366387",
   "metadata": {
    "tags": []
   },
   "outputs": [
    {
     "data": {
      "text/html": [
       "<div>\n",
       "<style scoped>\n",
       "    .dataframe tbody tr th:only-of-type {\n",
       "        vertical-align: middle;\n",
       "    }\n",
       "\n",
       "    .dataframe tbody tr th {\n",
       "        vertical-align: top;\n",
       "    }\n",
       "\n",
       "    .dataframe thead th {\n",
       "        text-align: right;\n",
       "    }\n",
       "</style>\n",
       "<table border=\"1\" class=\"dataframe\">\n",
       "  <thead>\n",
       "    <tr style=\"text-align: right;\">\n",
       "      <th></th>\n",
       "      <th>st_npoints</th>\n",
       "    </tr>\n",
       "  </thead>\n",
       "  <tbody>\n",
       "    <tr>\n",
       "      <th>0</th>\n",
       "      <td>1371585</td>\n",
       "    </tr>\n",
       "  </tbody>\n",
       "</table>\n",
       "</div>"
      ],
      "text/plain": [
       "   st_npoints\n",
       "0     1371585"
      ]
     },
     "execution_count": 37,
     "metadata": {},
     "output_type": "execute_result"
    }
   ],
   "source": [
    "sql_to_dataframe(f\"SELECT ST_NPoints(geom) FROM derived.public_fim{NEW_PUBLIC_FIM_PERCENT}_domain;\")"
   ]
  },
  {
   "cell_type": "code",
   "execution_count": 38,
   "id": "f35cad99-0174-460e-873d-6a30cc38a8a5",
   "metadata": {
    "tags": []
   },
   "outputs": [],
   "source": [
    "sql = f'''\n",
    "DROP TABLE IF EXISTS derived.public_fim_domain_ondeck;\n",
    "SELECT *\n",
    "INTO derived.public_fim_domain_ondeck\n",
    "FROM derived.public_fim{NEW_PUBLIC_FIM_PERCENT}_domain;\n",
    "\n",
    "DROP TABLE IF EXISTS derived.public_fim_domain_retired;\n",
    "ALTER TABLE derived.public_fim_domain RENAME TO public_fim_domain_retired;\n",
    "ALTER TABLE derived.public_fim_domain_ondeck RENAME TO public_fim_domain;\n",
    "'''\n",
    "execute_sql(sql)"
   ]
  },
  {
   "cell_type": "code",
   "execution_count": 39,
   "id": "bb797856-e530-410e-9b83-ceb182b99ab9",
   "metadata": {
    "tags": []
   },
   "outputs": [],
   "source": [
    "from helper_functions.shared_functions import execute_sql, move_data_from_viz_to_egis, sql_to_dataframe"
   ]
  },
  {
   "cell_type": "code",
   "execution_count": 40,
   "id": "17b174ce-c4ea-4703-9d80-d3946f5a2eac",
   "metadata": {
    "tags": []
   },
   "outputs": [
    {
     "name": "stdout",
     "output_type": "stream",
     "text": [
      "Successfully copied derived.public_fim_domain from the VIZ DB to reference.public_fim_domain_ondeck in the EGIS DB!\n"
     ]
    }
   ],
   "source": [
    "move_data_from_viz_to_egis('derived.public_fim_domain', 'reference.public_fim_domain_ondeck')"
   ]
  },
  {
   "cell_type": "code",
   "execution_count": 41,
   "id": "7b288760-01c8-47ed-8524-bae3e746994d",
   "metadata": {
    "tags": []
   },
   "outputs": [],
   "source": [
    "execute_sql('''\n",
    "    DROP TABLE IF EXISTS reference.public_fim_domain_retired;\n",
    "    ALTER TABLE reference.public_fim_domain RENAME TO public_fim_domain_retired;\n",
    "    ALTER TABLE reference.public_fim_domain_ondeck RENAME TO public_fim_domain;\n",
    "''', 'egis')"
   ]
  },
  {
   "cell_type": "code",
   "execution_count": null,
   "id": "f909d2ea-7c64-4ee3-a4af-c8c4fef24a41",
   "metadata": {},
   "outputs": [],
   "source": []
  }
 ],
 "metadata": {
  "kernelspec": {
   "display_name": "conda_python3",
   "language": "python",
   "name": "conda_python3"
  },
  "language_info": {
   "codemirror_mode": {
    "name": "ipython",
    "version": 3
   },
   "file_extension": ".py",
   "mimetype": "text/x-python",
   "name": "python",
   "nbconvert_exporter": "python",
   "pygments_lexer": "ipython3",
   "version": "3.10.14"
  }
 },
 "nbformat": 4,
 "nbformat_minor": 5
}
