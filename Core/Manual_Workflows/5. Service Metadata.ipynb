{
 "cells": [
  {
   "cell_type": "markdown",
   "id": "e8425f56",
   "metadata": {},
   "source": [
    "<h1><b>This notebook is to track and edit service metadata, including service data flows. For each service, create a markdown cell and write what service the following code will edit</b></h1>"
   ]
  },
  {
   "cell_type": "markdown",
   "id": "03aca48b",
   "metadata": {},
   "source": [
    "#### IF YOU MAKE CHANGES TO THIS NOTEBOOK, YOU ARE RESPONSIBLE TO COMITTING THOSE CHANGES TO THE REPO IN THE HYDROVIS-VISUALIZATION REPO ####"
   ]
  },
  {
   "cell_type": "code",
   "execution_count": null,
   "id": "ea193c96",
   "metadata": {},
   "outputs": [],
   "source": [
    "!pip install geopandas contextily"
   ]
  },
  {
   "cell_type": "code",
   "execution_count": 7,
   "id": "d0683edd",
   "metadata": {},
   "outputs": [
    {
     "data": {
      "text/html": [
       "<style>.container { width:90% !important; }</style>"
      ],
      "text/plain": [
       "<IPython.core.display.HTML object>"
      ]
     },
     "metadata": {},
     "output_type": "display_data"
    }
   ],
   "source": [
    "from helper_functions.shared_functions import *"
   ]
  },
  {
   "cell_type": "code",
   "execution_count": 91,
   "id": "d66b3de8",
   "metadata": {},
   "outputs": [
    {
     "data": {
      "text/html": [
       "<div>\n",
       "<style scoped>\n",
       "    .dataframe tbody tr th:only-of-type {\n",
       "        vertical-align: middle;\n",
       "    }\n",
       "\n",
       "    .dataframe tbody tr th {\n",
       "        vertical-align: top;\n",
       "    }\n",
       "\n",
       "    .dataframe thead th {\n",
       "        text-align: right;\n",
       "    }\n",
       "</style>\n",
       "<table border=\"1\" class=\"dataframe\">\n",
       "  <thead>\n",
       "    <tr style=\"text-align: right;\">\n",
       "      <th></th>\n",
       "      <th>service</th>\n",
       "      <th>configuration</th>\n",
       "      <th>postprocess_max_flows</th>\n",
       "      <th>postprocess_service</th>\n",
       "      <th>postprocess_summary</th>\n",
       "      <th>summary</th>\n",
       "      <th>description</th>\n",
       "      <th>tags</th>\n",
       "      <th>credits</th>\n",
       "      <th>egis_server</th>\n",
       "      <th>egis_folder</th>\n",
       "      <th>fim_service</th>\n",
       "      <th>feature_service</th>\n",
       "      <th>run</th>\n",
       "      <th>fim_configs</th>\n",
       "    </tr>\n",
       "  </thead>\n",
       "  <tbody>\n",
       "    <tr>\n",
       "      <th>0</th>\n",
       "      <td>srf_accum_precip</td>\n",
       "      <td>forcing_short_range</td>\n",
       "      <td>None</td>\n",
       "      <td>raster_metadata</td>\n",
       "      <td>None</td>\n",
       "      <td>test</td>\n",
       "      <td>test</td>\n",
       "      <td>streamflow,national,water,model,nwm</td>\n",
       "      <td>National Water Model, NOAA/NWS National Water ...</td>\n",
       "      <td>image</td>\n",
       "      <td>nwm</td>\n",
       "      <td>False</td>\n",
       "      <td>False</td>\n",
       "      <td>True</td>\n",
       "      <td>[]</td>\n",
       "    </tr>\n",
       "  </tbody>\n",
       "</table>\n",
       "</div>"
      ],
      "text/plain": [
       "            service        configuration postprocess_max_flows  \\\n",
       "0  srf_accum_precip  forcing_short_range                  None   \n",
       "\n",
       "  postprocess_service postprocess_summary summary description  \\\n",
       "0     raster_metadata                None    test        test   \n",
       "\n",
       "                                  tags  \\\n",
       "0  streamflow,national,water,model,nwm   \n",
       "\n",
       "                                             credits egis_server egis_folder  \\\n",
       "0  National Water Model, NOAA/NWS National Water ...       image         nwm   \n",
       "\n",
       "   fim_service  feature_service   run fim_configs  \n",
       "0        False            False  True          []  "
      ]
     },
     "execution_count": 91,
     "metadata": {},
     "output_type": "execute_result"
    }
   ],
   "source": [
    "sql = \"Select * FROM admin.services WHERE service = 'srf_accum_precip'\"\n",
    "run_sql_in_db(sql)"
   ]
  },
  {
   "cell_type": "markdown",
   "id": "3efcec85",
   "metadata": {},
   "source": [
    "<h2><b>Non FIM Vector Services</b></h2>"
   ]
  },
  {
   "cell_type": "markdown",
   "id": "b8016f51",
   "metadata": {},
   "source": [
    "<h3>AnA Anomaly</h3>"
   ]
  },
  {
   "cell_type": "code",
   "execution_count": 7,
   "id": "6f7e1110",
   "metadata": {},
   "outputs": [
    {
     "name": "stdout",
     "output_type": "stream",
     "text": [
      "This result object does not return rows. It has been closed automatically.\n",
      "This result object does not return rows. It has been closed automatically.\n",
      "This result object does not return rows. It has been closed automatically.\n",
      "This result object does not return rows. It has been closed automatically.\n"
     ]
    }
   ],
   "source": [
    "service = 'ana_anomaly'\n",
    "configuration = 'analysis_assim'\n",
    "postprocess_max_flows = None\n",
    "postprocess_service = None\n",
    "postprocess_summary = None\n",
    "summary = 'Streamflow Anomaly'\n",
    "description = 'Depicts seasonal streamflow anomalies derived from the analysis and assimilation configuration of the National Water Model (NWM) over the contiguous U.S. Anomalies are based on 7-day and 14-day moving average streamflow percentiles for each reach and the current calendar day.'\n",
    "tags = 'streamflow,anomaly,national,water,model,nwm'\n",
    "credits = 'National Water Model, NOAA/NWS National Water Center'\n",
    "egis_server = 'server'\n",
    "egis_folder = 'nwm'\n",
    "fim_service = False\n",
    "feature_service = False\n",
    "run = False\n",
    "fim_configs = None\n",
    "public_service = True\n",
    "\n",
    "update_service_metadata(service, configuration, summary, description, tags, credits, egis_server, egis_folder, max_flows_sql_name=postprocess_max_flows, service_sql_name=postprocess_service, summary_sql_name=postprocess_summary, fim_service=fim_service, feature_service=feature_service, run=run, fim_configs=fim_configs, public_service=public_service)\n",
    "\n",
    "flow_id = '1'\n",
    "step = 'ingest'\n",
    "file_format = 'common/data/model/com/nwm/prod/nwm.{{datetime:%Y%m%d}}/analysis_assim/nwm.t{{datetime:%H}}z.analysis_assim.channel_rt.tm00.conus.nc'\n",
    "source_table = None\n",
    "target_table = None\n",
    "target_keys = None\n",
    "file_step = '1H'\n",
    "file_window = 'P14D'\n",
    "\n",
    "update_service_data_flows(service, flow_id, step, source_table, target_table, target_keys, file_step=file_step, file_window=file_window, file_format=file_format)"
   ]
  },
  {
   "cell_type": "markdown",
   "id": "90439600",
   "metadata": {},
   "source": [
    "<h3>AnA High Flow Magnitude</h3>"
   ]
  },
  {
   "cell_type": "code",
   "execution_count": 8,
   "id": "5d84a41f",
   "metadata": {},
   "outputs": [
    {
     "name": "stdout",
     "output_type": "stream",
     "text": [
      "This result object does not return rows. It has been closed automatically.\n",
      "This result object does not return rows. It has been closed automatically.\n",
      "This result object does not return rows. It has been closed automatically.\n",
      "This result object does not return rows. It has been closed automatically.\n",
      "This result object does not return rows. It has been closed automatically.\n",
      "This result object does not return rows. It has been closed automatically.\n"
     ]
    }
   ],
   "source": [
    "service = 'ana_high_flow_magnitude'\n",
    "configuration = 'analysis_assim'\n",
    "postprocess_max_flows = 'ana_max_flows'\n",
    "postprocess_service = 'ana_high_flow_magnitude'\n",
    "postprocess_summary = None\n",
    "summary = 'High Flow Magnitude'\n",
    "description = 'Depicts the magnitude of the National Water Model (NWM) streamflow forecast where the NWM is signaling high water. This service is derived from the analysis and assimilation configuration of the NWM over the contiguous U.S. Shown are reaches with flow at or above high water thresholds. Reaches are colored by the annual exceedance probability (AEP) of their current flow. High water thresholds (regionally varied) and AEPs were derived using the 40-year NWM v2.1 reanalysis simulation.'\n",
    "tags = 'high flow, magnitude, national water model, nwm'\n",
    "credits = 'National Water Model, NOAA/NWS National Water Center'\n",
    "egis_server = 'server'\n",
    "egis_folder = 'nwm'\n",
    "fim_service = False\n",
    "feature_service = False\n",
    "run = True\n",
    "fim_configs = None\n",
    "public_service = True\n",
    "\n",
    "update_service_metadata(service, configuration, summary, description, tags, credits, egis_server, egis_folder, max_flows_sql_name=postprocess_max_flows, service_sql_name=postprocess_service, summary_sql_name=postprocess_summary, fim_service=fim_service, feature_service=feature_service, run=run, fim_configs=fim_configs, public_service=public_service)\n",
    "\n",
    "flow_id = '1'\n",
    "step = 'ingest'\n",
    "file_format = 'common/data/model/com/nwm/prod/nwm.{{datetime:%Y%m%d}}/analysis_assim/nwm.t{{datetime:%H}}z.analysis_assim.channel_rt.tm00.conus.nc'\n",
    "source_table = None\n",
    "target_table = 'ingest.nwm_channel_rt_ana'\n",
    "target_keys = '(feature_id, streamflow)'\n",
    "file_step = None\n",
    "file_window = None\n",
    "\n",
    "update_service_data_flows(service, flow_id, step, source_table, target_table, target_keys, file_step=file_step, file_window=file_window, file_format=file_format)\n",
    "\n",
    "flow_id = '2'\n",
    "step = 'max_flows'\n",
    "file_format = None\n",
    "source_table = 'ingest.nwm_channel_rt_ana'\n",
    "target_table = 'cache.max_flows_ana'\n",
    "target_keys = '(feature_id, streamflow)'\n",
    "file_step = None\n",
    "file_window = None\n",
    "\n",
    "update_service_data_flows(service, flow_id, step, source_table, target_table, target_keys, file_step=file_step, file_window=file_window, file_format=file_format)"
   ]
  },
  {
   "cell_type": "markdown",
   "id": "004ff078",
   "metadata": {},
   "source": [
    "<h3>AnA High Flow Magnitude Hawaii</h3>"
   ]
  },
  {
   "cell_type": "code",
   "execution_count": 9,
   "id": "2e96bb31",
   "metadata": {},
   "outputs": [
    {
     "name": "stdout",
     "output_type": "stream",
     "text": [
      "This result object does not return rows. It has been closed automatically.\n",
      "This result object does not return rows. It has been closed automatically.\n",
      "This result object does not return rows. It has been closed automatically.\n",
      "This result object does not return rows. It has been closed automatically.\n",
      "This result object does not return rows. It has been closed automatically.\n",
      "This result object does not return rows. It has been closed automatically.\n"
     ]
    }
   ],
   "source": [
    "service = 'ana_high_flow_magnitude_hi'\n",
    "configuration = 'analysis_assim_hawaii'\n",
    "postprocess_max_flows = 'ana_max_flows_hi'\n",
    "postprocess_service = 'ana_high_flow_magnitude_hi'\n",
    "postprocess_summary = None\n",
    "summary = 'High Flow Magnitude Hawaii'\n",
    "description = 'Depicts the magnitude of the National Water Model (NWM) streamflow forecast where the NWM is signaling high water. This service is derived from the analysis and assimilation configuration of the NWM over Hawaii. Shown are reaches with flow at or above high water thresholds. Reaches are colored by the annual exceedance probability (AEP) of their current flow. High water thresholds and AEPs were derived from USGS regression equations found at https://pubs.usgs.gov/sir/2010/5035/sir2010-5035_text.pdf.'\n",
    "tags = 'high,flow,magnitude,national,water,model,nwm,hawaii,hi'\n",
    "credits = 'National Water Model, NOAA/NWS National Water Center'\n",
    "egis_server = 'server'\n",
    "egis_folder = 'nwm'\n",
    "fim_service = False\n",
    "feature_service = False\n",
    "run = True\n",
    "fim_configs = None\n",
    "public_service = True\n",
    "\n",
    "update_service_metadata(service, configuration, summary, description, tags, credits, egis_server, egis_folder, max_flows_sql_name=postprocess_max_flows, service_sql_name=postprocess_service, summary_sql_name=postprocess_summary, fim_service=fim_service, feature_service=feature_service, run=run, fim_configs=fim_configs, public_service=public_service)\n",
    "\n",
    "flow_id = '1'\n",
    "step = 'ingest'\n",
    "file_format = 'common/data/model/com/nwm/prod/nwm.{{datetime:%Y%m%d}}/analysis_assim_hawaii/nwm.t{{datetime:%H}}z.analysis_assim.channel_rt.tm0000.hawaii.nc'\n",
    "source_table = None\n",
    "target_table = 'ingest.nwm_channel_rt_ana_hi'\n",
    "target_keys = '(feature_id, streamflow)'\n",
    "file_step = None\n",
    "file_window = None\n",
    "\n",
    "update_service_data_flows(service, flow_id, step, source_table, target_table, target_keys, file_step=file_step, file_window=file_window, file_format=file_format)\n",
    "\n",
    "flow_id = '2'\n",
    "step = 'max_flows'\n",
    "file_format = None\n",
    "source_table = 'ingest.nwm_channel_rt_ana_hi'\n",
    "target_table = 'cache.max_flows_ana_hi'\n",
    "target_keys = '(feature_id, streamflow)'\n",
    "file_step = None\n",
    "file_window = None\n",
    "\n",
    "update_service_data_flows(service, flow_id, step, source_table, target_table, target_keys, file_step=file_step, file_window=file_window, file_format=file_format)"
   ]
  },
  {
   "cell_type": "markdown",
   "id": "afbce706",
   "metadata": {},
   "source": [
    "<h3>AnA High Flow Magnitude Puerto Rico</h3>"
   ]
  },
  {
   "cell_type": "code",
   "execution_count": 10,
   "id": "5502b0f2",
   "metadata": {},
   "outputs": [
    {
     "name": "stdout",
     "output_type": "stream",
     "text": [
      "This result object does not return rows. It has been closed automatically.\n",
      "This result object does not return rows. It has been closed automatically.\n",
      "This result object does not return rows. It has been closed automatically.\n",
      "This result object does not return rows. It has been closed automatically.\n",
      "This result object does not return rows. It has been closed automatically.\n",
      "This result object does not return rows. It has been closed automatically.\n"
     ]
    }
   ],
   "source": [
    "service = 'ana_high_flow_magnitude_prvi'\n",
    "configuration = 'analysis_assim_puertorico'\n",
    "postprocess_max_flows = 'ana_max_flows_prvi'\n",
    "postprocess_service = 'ana_high_flow_magnitude_prvi'\n",
    "postprocess_summary = None\n",
    "summary = 'High Flow Magnitude Puerto Rico/Virgin Islands'\n",
    "description = 'Depicts the magnitude of the National Water Model (NWM) streamflow forecast where the NWM is signaling high water. This service is derived from the analysis and assimilation configuration of the NWM over Puerto Rico and the U.S. Virgin Islands. Shown are reaches with flow at or above high water thresholds. Reaches are colored by the annual exceedance probability (AEP) of their current flow. High water thresholds and AEPs were derived from USGS regression equations found at https://pubs.usgs.gov/wri/wri994142/pdf/wri99-4142.pdf.'\n",
    "tags = 'high,flow,magnitude,national,water,model,nwm,puerto,rico,virgin,islands,prvi'\n",
    "credits = 'National Water Model, NOAA/NWS National Water Center'\n",
    "egis_server = 'server'\n",
    "egis_folder = 'nwm'\n",
    "fim_service = False\n",
    "feature_service = False\n",
    "run = True\n",
    "fim_configs = None\n",
    "public_service = True\n",
    "\n",
    "update_service_metadata(service, configuration, summary, description, tags, credits, egis_server, egis_folder, max_flows_sql_name=postprocess_max_flows, service_sql_name=postprocess_service, summary_sql_name=postprocess_summary, fim_service=fim_service, feature_service=feature_service, run=run, fim_configs=fim_configs, public_service=public_service)\n",
    "\n",
    "flow_id = '1'\n",
    "step = 'ingest'\n",
    "file_format = 'common/data/model/com/nwm/prod/nwm.{{datetime:%Y%m%d}}/analysis_assim_puertorico/nwm.t{{datetime:%H}}z.analysis_assim.channel_rt.tm00.puertorico.nc'\n",
    "source_table = None\n",
    "target_table = 'ingest.nwm_channel_rt_ana_prvi'\n",
    "target_keys = '(feature_id, streamflow)'\n",
    "file_step = None\n",
    "file_window = None\n",
    "\n",
    "update_service_data_flows(service, flow_id, step, source_table, target_table, target_keys, file_step=file_step, file_window=file_window, file_format=file_format)\n",
    "\n",
    "flow_id = '2'\n",
    "step = 'max_flows'\n",
    "file_format = None\n",
    "source_table = 'ingest.nwm_channel_rt_ana_prvi'\n",
    "target_table = 'cache.max_flows_ana_prvi'\n",
    "target_keys = '(feature_id, streamflow)'\n",
    "file_step = None\n",
    "file_window = None\n",
    "\n",
    "update_service_data_flows(service, flow_id, step, source_table, target_table, target_keys, file_step=file_step, file_window=file_window, file_format=file_format)"
   ]
  },
  {
   "cell_type": "markdown",
   "id": "1c9f8781",
   "metadata": {},
   "source": [
    "<h3>AnA Past 14-Day High Flow Magnitude Analysis</h3>"
   ]
  },
  {
   "cell_type": "code",
   "execution_count": 3,
   "id": "bf515022",
   "metadata": {},
   "outputs": [
    {
     "name": "stdout",
     "output_type": "stream",
     "text": [
      "This result object does not return rows. It has been closed automatically.\n",
      "This result object does not return rows. It has been closed automatically.\n",
      "This result object does not return rows. It has been closed automatically.\n",
      "This result object does not return rows. It has been closed automatically.\n",
      "This result object does not return rows. It has been closed automatically.\n",
      "This result object does not return rows. It has been closed automatically.\n"
     ]
    }
   ],
   "source": [
    "service = 'ana_past_14day_max_high_flow_magnitude'\n",
    "configuration = 'analysis_assim_14day'\n",
    "postprocess_max_flows = 'ana_14day_max_flows'\n",
    "postprocess_service = 'ana_past_14day_max_high_flow_magnitude'\n",
    "postprocess_summary = None\n",
    "summary = 'Past 14-Day High Flow Magnitude Analysis'\n",
    "description = 'Depicts the magnitude of the peak NWM streamflow analysis over the past 14 days where the National Water Model (NWM) signaled high water. This service is derived from the analysis and assimilation configuration of the NWM over the contiguous U.S. Shown are reaches with flow at or above high water thresholds. Reaches are colored by the annual exceedance probability (AEP) of their maximum flow over the past 14 days. High water thresholds (regionally varied) and AEPs were derived using the 40-year NWM v2.1 reanalysis simulation.'\n",
    "tags = 'high,flow,magnitude,national,water,model,nwm,14day'\n",
    "credits = 'National Water Model, NOAA/NWS National Water Center'\n",
    "egis_server = 'server'\n",
    "egis_folder = 'nwm'\n",
    "fim_service = False\n",
    "feature_service = False\n",
    "run = True\n",
    "fim_configs = None\n",
    "public_service = True\n",
    "\n",
    "update_service_metadata(service, configuration, summary, description, tags, credits, egis_server, egis_folder, max_flows_sql_name=postprocess_max_flows, service_sql_name=postprocess_service, summary_sql_name=postprocess_summary, fim_service=fim_service, feature_service=feature_service, run=run, fim_configs=fim_configs, public_service=public_service)\n",
    "\n",
    "flow_id = '1'\n",
    "step = 'ingest'\n",
    "file_format = 'max_flows/analysis_assim/{{datetime:%Y%m%d}}/ana_14day_00_max_flows.nc'\n",
    "source_table = None\n",
    "target_table = 'ingest.nwm_channel_rt_ana_14day_max'\n",
    "target_keys = '(feature_id, streamflow)'\n",
    "file_step = None\n",
    "file_window = None\n",
    "\n",
    "update_service_data_flows(service, flow_id, step, source_table, target_table, target_keys, file_step=file_step, file_window=file_window, file_format=file_format)\n",
    "\n",
    "flow_id = '2'\n",
    "step = 'ingest'\n",
    "file_format = 'max_flows/analysis_assim/{{datetime:%Y%m%d}}/ana_7day_00_max_flows.nc'\n",
    "source_table = None\n",
    "target_table = 'ingest.nwm_channel_rt_ana_7day_max'\n",
    "target_keys = '(feature_id, streamflow)'\n",
    "file_step = None\n",
    "file_window = None\n",
    "\n",
    "update_service_data_flows(service, flow_id, step, source_table, target_table, target_keys, file_step=file_step, file_window=file_window, file_format=file_format)"
   ]
  },
  {
   "cell_type": "markdown",
   "id": "6ae47b80",
   "metadata": {},
   "source": [
    "<h3>AnA Streamflow</h3>"
   ]
  },
  {
   "cell_type": "code",
   "execution_count": 13,
   "id": "bc99f1b4",
   "metadata": {},
   "outputs": [
    {
     "name": "stdout",
     "output_type": "stream",
     "text": [
      "This result object does not return rows. It has been closed automatically.\n",
      "This result object does not return rows. It has been closed automatically.\n",
      "This result object does not return rows. It has been closed automatically.\n",
      "This result object does not return rows. It has been closed automatically.\n",
      "This result object does not return rows. It has been closed automatically.\n",
      "This result object does not return rows. It has been closed automatically.\n"
     ]
    }
   ],
   "source": [
    "service = 'ana_streamflow'\n",
    "configuration = 'analysis_assim'\n",
    "postprocess_max_flows = 'ana_max_flows'\n",
    "postprocess_service = 'ana_streamflow'\n",
    "postprocess_summary = None\n",
    "summary = 'Streamflow Analysis'\n",
    "description = 'Depicts the streamflow output from the operational National Water Model (v2.1) analysis and assimilation for the continental United States. Updated hourly.'\n",
    "tags = 'streamflow,national,water,model,nwm'\n",
    "credits = 'National Water Model, NOAA/NWS National Water Center'\n",
    "egis_server = 'server'\n",
    "egis_folder = 'nwm'\n",
    "fim_service = False\n",
    "feature_service = False\n",
    "run = False\n",
    "fim_configs = None\n",
    "public_service = False\n",
    "\n",
    "update_service_metadata(service, configuration, summary, description, tags, credits, egis_server, egis_folder, max_flows_sql_name=postprocess_max_flows, service_sql_name=postprocess_service, summary_sql_name=postprocess_summary, fim_service=fim_service, feature_service=feature_service, run=run, fim_configs=fim_configs, public_service=public_service)\n",
    "\n",
    "flow_id = '1'\n",
    "step = 'ingest'\n",
    "file_format = 'common/data/model/com/nwm/prod/nwm.{{datetime:%Y%m%d}}/analysis_assim/nwm.t{{datetime:%H}}z.analysis_assim.channel_rt.tm00.conus.nc'\n",
    "source_table = None\n",
    "target_table = 'ingest.nwm_channel_rt_ana'\n",
    "target_keys = '(feature_id, streamflow)'\n",
    "file_step = None\n",
    "file_window = None\n",
    "\n",
    "update_service_data_flows(service, flow_id, step, source_table, target_table, target_keys, file_step=file_step, file_window=file_window, file_format=file_format)\n",
    "\n",
    "flow_id = '2'\n",
    "step = 'max_flows'\n",
    "file_format = None\n",
    "source_table = 'ingest.nwm_channel_rt_ana'\n",
    "target_table = 'cache.max_flows_ana'\n",
    "target_keys = '(feature_id, streamflow)'\n",
    "file_step = None\n",
    "file_window = None\n",
    "\n",
    "update_service_data_flows(service, flow_id, step, source_table, target_table, target_keys, file_step=file_step, file_window=file_window, file_format=file_format)"
   ]
  },
  {
   "cell_type": "markdown",
   "id": "289863ea",
   "metadata": {},
   "source": [
    "<h3>AnA Streamflow Hawaii</h3>"
   ]
  },
  {
   "cell_type": "code",
   "execution_count": 72,
   "id": "5d3378cf",
   "metadata": {},
   "outputs": [
    {
     "name": "stdout",
     "output_type": "stream",
     "text": [
      "This result object does not return rows. It has been closed automatically.\n",
      "This result object does not return rows. It has been closed automatically.\n",
      "This result object does not return rows. It has been closed automatically.\n",
      "This result object does not return rows. It has been closed automatically.\n",
      "This result object does not return rows. It has been closed automatically.\n",
      "This result object does not return rows. It has been closed automatically.\n"
     ]
    }
   ],
   "source": [
    "service = 'ana_streamflow_hi'\n",
    "configuration = 'analysis_assim_hawaii'\n",
    "postprocess_max_flows = 'ana_max_flows_hi'\n",
    "postprocess_service = 'ana_streamflow_hi'\n",
    "postprocess_summary = None\n",
    "summary = 'Streamflow Analysis for Hawaii'\n",
    "description = 'Depicts the streamflow output from the operational National Water Model (v2.2) analysis and assimilation for the state of Hawaii. Updated hourly.'\n",
    "tags = 'national water model, nwm, hawaii'\n",
    "credits = 'National Water Model, NOAA/NWS National Water Center'\n",
    "egis_server = 'server'\n",
    "egis_folder = 'nwm'\n",
    "fim_service = False\n",
    "feature_service = False\n",
    "public_service = False\n",
    "run = False\n",
    "fim_configs = None\n",
    "\n",
    "update_service_metadata(service, configuration, summary, description, tags, credits, egis_server, egis_folder, max_flows_sql_name=postprocess_max_flows, service_sql_name=postprocess_service, summary_sql_name=postprocess_summary, fim_service=fim_service, feature_service=feature_service, run=run, fim_configs=fim_configs, public_service=public_service)\n",
    "\n",
    "flow_id = '1'\n",
    "step = 'ingest'\n",
    "file_format = 'common/data/model/com/nwm/prod/nwm.{{datetime:%Y%m%d}}/analysis_assim_hawaii/nwm.t{{datetime:%H}}z.analysis_assim.channel_rt.tm0000.hawaii.nc'\n",
    "source_table = None\n",
    "target_table = 'ingest.nwm_channel_rt_ana_hi'\n",
    "target_keys = '(feature_id, streamflow)'\n",
    "file_step = None\n",
    "file_window = None\n",
    "\n",
    "update_service_data_flows(service, flow_id, step, source_table, target_table, target_keys, file_step=file_step, file_window=file_window, file_format=file_format)\n",
    "\n",
    "flow_id = '2'\n",
    "step = 'max_flows'\n",
    "file_format = None\n",
    "source_table = 'ingest.nwm_channel_rt_ana_hi'\n",
    "target_table = 'cache.max_flows_ana_hi'\n",
    "target_keys = '(feature_id, streamflow)'\n",
    "file_step = None\n",
    "file_window = None\n",
    "\n",
    "update_service_data_flows(service, flow_id, step, source_table, target_table, target_keys, file_step=file_step, file_window=file_window, file_format=file_format)"
   ]
  },
  {
   "cell_type": "markdown",
   "id": "205f2d34",
   "metadata": {},
   "source": [
    "<h3>AnA Streamflow Puerto Rico</h3>"
   ]
  },
  {
   "cell_type": "code",
   "execution_count": 73,
   "id": "5f27935f",
   "metadata": {},
   "outputs": [
    {
     "name": "stdout",
     "output_type": "stream",
     "text": [
      "This result object does not return rows. It has been closed automatically.\n",
      "This result object does not return rows. It has been closed automatically.\n",
      "This result object does not return rows. It has been closed automatically.\n",
      "This result object does not return rows. It has been closed automatically.\n",
      "This result object does not return rows. It has been closed automatically.\n",
      "This result object does not return rows. It has been closed automatically.\n"
     ]
    }
   ],
   "source": [
    "service = 'ana_streamflow_prvi'\n",
    "configuration = 'analysis_assim_puertorico'\n",
    "postprocess_max_flows = 'ana_max_flows_prvi'\n",
    "postprocess_service = 'ana_streamflow_prvi'\n",
    "postprocess_summary = None\n",
    "summary = 'Streamflow Analysis for Puerto Rico and Virgin Islands'\n",
    "description = 'Depicts the streamflow output from the operational National Water Model (v2.2) analysis and assimilation for Puerto Rico and the U.S. Virgin Islands. Updated hourly.'\n",
    "tags = 'streamflow,national,water,model,nwm,puerto,rico,virgin,islands,prvi'\n",
    "credits = 'National Water Model, NOAA/NWS National Water Center'\n",
    "egis_server = 'server'\n",
    "egis_folder = 'nwm'\n",
    "fim_service = False\n",
    "feature_service = False\n",
    "public_service = False\n",
    "run = False\n",
    "fim_configs = None\n",
    "\n",
    "update_service_metadata(service, configuration, summary, description, tags, credits, egis_server, egis_folder, max_flows_sql_name=postprocess_max_flows, service_sql_name=postprocess_service, summary_sql_name=postprocess_summary, fim_service=fim_service, feature_service=feature_service, run=run, fim_configs=fim_configs, public_service=public_service)\n",
    "\n",
    "flow_id = '1'\n",
    "step = 'ingest'\n",
    "file_format = 'common/data/model/com/nwm/prod/nwm.{{datetime:%Y%m%d}}/analysis_assim_puertorico/nwm.t{{datetime:%H}}z.analysis_assim.channel_rt.tm00.puertorico.nc'\n",
    "source_table = None\n",
    "target_table = 'ingest.nwm_channel_rt_ana_prvi'\n",
    "target_keys = '(feature_id, streamflow)'\n",
    "file_step = None\n",
    "file_window = None\n",
    "\n",
    "update_service_data_flows(service, flow_id, step, source_table, target_table, target_keys, file_step=file_step, file_window=file_window, file_format=file_format)\n",
    "\n",
    "flow_id = '2'\n",
    "step = 'max_flows'\n",
    "file_format = None\n",
    "source_table = 'ingest.nwm_channel_rt_ana_prvi'\n",
    "target_table = 'cache.max_flows_ana_prvi'\n",
    "target_keys = '(feature_id, streamflow)'\n",
    "file_step = None\n",
    "file_window = None\n",
    "\n",
    "update_service_data_flows(service, flow_id, step, source_table, target_table, target_keys, file_step=file_step, file_window=file_window, file_format=file_format)"
   ]
  },
  {
   "cell_type": "markdown",
   "id": "73b70347",
   "metadata": {},
   "source": [
    "<h3>Medium-Range High Water Arrival Time Forecast</h3>"
   ]
  },
  {
   "cell_type": "code",
   "execution_count": 13,
   "id": "1feba880",
   "metadata": {},
   "outputs": [
    {
     "name": "stdout",
     "output_type": "stream",
     "text": [
      "This result object does not return rows. It has been closed automatically.\n",
      "This result object does not return rows. It has been closed automatically.\n",
      "This result object does not return rows. It has been closed automatically.\n",
      "This result object does not return rows. It has been closed automatically.\n"
     ]
    }
   ],
   "source": [
    "service = 'mrf_high_water_arrival_time'\n",
    "configuration = 'medium_range_mem1'\n",
    "postprocess_max_flows = None\n",
    "postprocess_service = 'mrf_high_water_arrival_time'\n",
    "postprocess_summary = None\n",
    "summary = 'Medium-Range High Water Arrival Time Forecast'\n",
    "description = 'Depicts the forecast arrival time of high water over the next 10 days. This service is derived from the medium-range configuration of the National Water Model (NWM) over the contiguous U.S. Shown are reaches that are expected to have flow at or above the high water threshold over the next 10 days. Reaches are colored by the time at which they are forecast to reach high water (calculated in 3 hour increments). High water thresholds (regionally varied) were derived using the 40-year NWM v2.1 reanalysis simulation.'\n",
    "tags = 'medium range forecast, high water, arrival time, national water model, nwm'\n",
    "credits = 'National Water Model, NOAA/NWS National Water Center'\n",
    "egis_server = 'server'\n",
    "egis_folder = 'nwm'\n",
    "fim_service = False\n",
    "feature_service = True\n",
    "run = True\n",
    "fim_configs = None\n",
    "public_service = True\n",
    "\n",
    "update_service_metadata(service, configuration, summary, description, tags, credits, egis_server, egis_folder, max_flows_sql_name=postprocess_max_flows, service_sql_name=postprocess_service, summary_sql_name=postprocess_summary, fim_service=fim_service, feature_service=feature_service, run=run, fim_configs=fim_configs, public_service=public_service)\n",
    "\n",
    "flow_id = '1'\n",
    "step = 'ingest'\n",
    "file_format = \"common/data/model/com/nwm/prod/nwm.{{datetime:%Y%m%d}}/medium_range_mem1/nwm.t{{datetime:%H}}z.medium_range.channel_rt_1.f{{range:3,241,3,%03d}}.conus.nc\"\n",
    "source_table = None\n",
    "target_table = 'ingest.nwm_channel_rt_mrf_mem1'\n",
    "target_keys = '(feature_id, streamflow)'\n",
    "file_step = None\n",
    "file_window = None\n",
    "\n",
    "update_service_data_flows(service, flow_id, step, source_table, target_table, target_keys, file_step=file_step, file_window=file_window, file_format=file_format)"
   ]
  },
  {
   "cell_type": "markdown",
   "id": "2cc68d4c",
   "metadata": {},
   "source": [
    "<h3>Medium-Range High Water Probability Forecast</h3>"
   ]
  },
  {
   "cell_type": "code",
   "execution_count": 14,
   "id": "4a576091",
   "metadata": {},
   "outputs": [
    {
     "name": "stdout",
     "output_type": "stream",
     "text": [
      "This result object does not return rows. It has been closed automatically.\n",
      "This result object does not return rows. It has been closed automatically.\n",
      "This result object does not return rows. It has been closed automatically.\n",
      "This result object does not return rows. It has been closed automatically.\n",
      "This result object does not return rows. It has been closed automatically.\n",
      "This result object does not return rows. It has been closed automatically.\n",
      "This result object does not return rows. It has been closed automatically.\n",
      "This result object does not return rows. It has been closed automatically.\n",
      "This result object does not return rows. It has been closed automatically.\n",
      "This result object does not return rows. It has been closed automatically.\n",
      "This result object does not return rows. It has been closed automatically.\n",
      "This result object does not return rows. It has been closed automatically.\n",
      "This result object does not return rows. It has been closed automatically.\n",
      "This result object does not return rows. It has been closed automatically.\n",
      "This result object does not return rows. It has been closed automatically.\n",
      "This result object does not return rows. It has been closed automatically.\n"
     ]
    }
   ],
   "source": [
    "service = 'mrf_high_water_probability'\n",
    "configuration = 'medium_range_mem1'\n",
    "postprocess_max_flows = None\n",
    "postprocess_service = None\n",
    "postprocess_summary = None\n",
    "summary = 'Medium-Range High Water Probability Forecast'\n",
    "description = 'Depicts the probability of forecast high water over the next 5 days using ensembles from the medium-range configuration of the National Water Model (NWM) over the contiguous U.S. Shown are reaches that are expected to have flow at or above high water on Day 1, Day 2, Day 3, and Days 4-5, using the 7 ensemble members of the medium-range forecast. Reaches are colored by the probability that they will meet or exceed the high water threshold on Day 1, Day 2, Day 3, and Days 4-5. Probabilities are computed as the % agreement across the 7 ensemble members, equally weighted. Also shown are USGS HUC8 polygons for basins with greater than 50% of NWM features with flow expected to be at or above high water over the next 5 days, symbolized by the average probability. High water thresholds (regionally varied) were derived using the 40-year NWM v2.1 reanalysis simulation.'\n",
    "tags = 'medium,range,forecast,high,water,ensemble,national,water,model,nwm,probability'\n",
    "credits = 'National Water Model, NOAA/NWS National Water Center'\n",
    "egis_server = 'server'\n",
    "egis_folder = 'nwm'\n",
    "fim_service = False\n",
    "feature_service = False\n",
    "run = False\n",
    "fim_configs = None\n",
    "public_service = True\n",
    "\n",
    "update_service_metadata(service, configuration, summary, description, tags, credits, egis_server, egis_folder, max_flows_sql_name=postprocess_max_flows, service_sql_name=postprocess_service, summary_sql_name=postprocess_summary, fim_service=fim_service, feature_service=feature_service, run=run, fim_configs=fim_configs, public_service=public_service)\n",
    "\n",
    "flow_id = '1'\n",
    "step = 'ingest'\n",
    "file_format = \"common/data/model/com/nwm/prod/nwm.{{datetime:%Y%m%d}}/medium_range_mem1/nwm.t{{datetime:%H}}z.medium_range.channel_rt_1.f{{range:3,121,3,%03d}}.conus.nc\"\n",
    "source_table = None\n",
    "target_table = 'ingest.nwm_channel_rt_mrf_mem1'\n",
    "target_keys = '(feature_id, streamflow)'\n",
    "file_step = None\n",
    "file_window = None\n",
    "\n",
    "update_service_data_flows(service, flow_id, step, source_table, target_table, target_keys, file_step=file_step, file_window=file_window, file_format=file_format)\n",
    "\n",
    "flow_id = '2'\n",
    "step = 'ingest'\n",
    "file_format = \"common/data/model/com/nwm/prod/nwm.{{datetime:%Y%m%d}}/medium_range_mem2/nwm.t{{datetime:%H}}z.medium_range.channel_rt_2.f{{range:3,121,3,%03d}}.conus.nc\"\n",
    "source_table = None\n",
    "target_table = 'ingest.nwm_channel_rt_mrf_mem2'\n",
    "target_keys = '(feature_id, streamflow)'\n",
    "file_step = None\n",
    "file_window = None\n",
    "\n",
    "update_service_data_flows(service, flow_id, step, source_table, target_table, target_keys, file_step=file_step, file_window=file_window, file_format=file_format)\n",
    "\n",
    "flow_id = '3'\n",
    "step = 'ingest'\n",
    "file_format = \"common/data/model/com/nwm/prod/nwm.{{datetime:%Y%m%d}}/medium_range_mem3/nwm.t{{datetime:%H}}z.medium_range.channel_rt_3.f{{range:3,121,3,%03d}}.conus.nc\"\n",
    "source_table = None\n",
    "target_table = 'ingest.nwm_channel_rt_mrf_mem3'\n",
    "target_keys = '(feature_id, streamflow)'\n",
    "file_step = None\n",
    "file_window = None\n",
    "\n",
    "update_service_data_flows(service, flow_id, step, source_table, target_table, target_keys, file_step=file_step, file_window=file_window, file_format=file_format)\n",
    "\n",
    "flow_id = '4'\n",
    "step = 'ingest'\n",
    "file_format = \"common/data/model/com/nwm/prod/nwm.{{datetime:%Y%m%d}}/medium_range_mem4/nwm.t{{datetime:%H}}z.medium_range.channel_rt_4.f{{range:3,121,3,%03d}}.conus.nc\"\n",
    "source_table = None\n",
    "target_table = 'ingest.nwm_channel_rt_mrf_mem4'\n",
    "target_keys = '(feature_id, streamflow)'\n",
    "file_step = None\n",
    "file_window = None\n",
    "\n",
    "update_service_data_flows(service, flow_id, step, source_table, target_table, target_keys, file_step=file_step, file_window=file_window, file_format=file_format)\n",
    "\n",
    "flow_id = '5'\n",
    "step = 'ingest'\n",
    "file_format = \"common/data/model/com/nwm/prod/nwm.{{datetime:%Y%m%d}}/medium_range_mem5/nwm.t{{datetime:%H}}z.medium_range.channel_rt_5.f{{range:3,121,3,%03d}}.conus.nc\"\n",
    "source_table = None\n",
    "target_table = 'ingest.nwm_channel_rt_mrf_mem5'\n",
    "target_keys = '(feature_id, streamflow)'\n",
    "file_step = None\n",
    "file_window = None\n",
    "\n",
    "update_service_data_flows(service, flow_id, step, source_table, target_table, target_keys, file_step=file_step, file_window=file_window, file_format=file_format)\n",
    "\n",
    "flow_id = '6'\n",
    "step = 'ingest'\n",
    "file_format = \"common/data/model/com/nwm/prod/nwm.{{datetime:%Y%m%d}}/medium_range_mem6/nwm.t{{datetime:%H}}z.medium_range.channel_rt_6.f{{range:3,121,3,%03d}}.conus.nc\"\n",
    "source_table = None\n",
    "target_table = 'ingest.nwm_channel_rt_mrf_mem6'\n",
    "target_keys = '(feature_id, streamflow)'\n",
    "file_step = None\n",
    "file_window = None\n",
    "\n",
    "update_service_data_flows(service, flow_id, step, source_table, target_table, target_keys, file_step=file_step, file_window=file_window, file_format=file_format)\n",
    "\n",
    "flow_id = '7'\n",
    "step = 'ingest'\n",
    "file_format = \"common/data/model/com/nwm/prod/nwm.{{datetime:%Y%m%d}}/medium_range_mem7/nwm.t{{datetime:%H}}z.medium_range.channel_rt_7.f{{range:3,121,3,%03d}}.conus.nc\"\n",
    "source_table = None\n",
    "target_table = 'ingest.nwm_channel_rt_mrf_mem7'\n",
    "target_keys = '(feature_id, streamflow)'\n",
    "file_step = None\n",
    "file_window = None\n",
    "\n",
    "update_service_data_flows(service, flow_id, step, source_table, target_table, target_keys, file_step=file_step, file_window=file_window, file_format=file_format)"
   ]
  },
  {
   "cell_type": "markdown",
   "id": "9b0b7820",
   "metadata": {},
   "source": [
    "<h3>Medium-Range Maximum High Flow Magnitude Forecast</h3>"
   ]
  },
  {
   "cell_type": "code",
   "execution_count": 15,
   "id": "ba20e1c0",
   "metadata": {},
   "outputs": [
    {
     "name": "stdout",
     "output_type": "stream",
     "text": [
      "This result object does not return rows. It has been closed automatically.\n",
      "This result object does not return rows. It has been closed automatically.\n",
      "This result object does not return rows. It has been closed automatically.\n",
      "This result object does not return rows. It has been closed automatically.\n",
      "This result object does not return rows. It has been closed automatically.\n",
      "This result object does not return rows. It has been closed automatically.\n"
     ]
    }
   ],
   "source": [
    "service = 'mrf_max_high_flow_magnitude'\n",
    "configuration = 'medium_range_mem1'\n",
    "postprocess_max_flows = 'mrf_max_flows'\n",
    "postprocess_service = 'mrf_max_high_flow_magnitude'\n",
    "postprocess_summary = None\n",
    "summary = 'Medium-Range Maximum High Flow Magnitude Forecast'\n",
    "description = 'Depicts the magnitude of the peak National Water Model (NWM) streamflow forecast over the next 3, 5 and 10 days where the NWM is signaling high water. This service is derived from the medium-range configuration of the NWM over the contiguous U.S. Shown are reaches with peak flow at or above high water thresholds. Reaches are colored by the annual exceedance probability (AEP) of their forecast peak flow. High water thresholds (regionally varied) and AEPs were derived using the 40-year NWM v2.1 reanalysis simulation.'\n",
    "tags = 'medium range forecast, maximum, high flow, magnitude, national water model, nwm'\n",
    "credits = 'National Water Model, NOAA/NWS National Water Center'\n",
    "egis_server = 'server'\n",
    "egis_folder = 'nwm'\n",
    "fim_service = False\n",
    "feature_service = False\n",
    "run = True\n",
    "fim_configs = None\n",
    "public_service = True\n",
    "\n",
    "update_service_metadata(service, configuration, summary, description, tags, credits, egis_server, egis_folder, max_flows_sql_name=postprocess_max_flows, service_sql_name=postprocess_service, summary_sql_name=postprocess_summary, fim_service=fim_service, feature_service=feature_service, run=run, fim_configs=fim_configs, public_service=public_service)\n",
    "\n",
    "flow_id = '1'\n",
    "step = 'ingest'\n",
    "file_format = 'common/data/model/com/nwm/prod/nwm.{{datetime:%Y%m%d}}/medium_range_mem1/nwm.t{{datetime:%H}}z.medium_range.channel_rt_1.f{{range:3,243,3,%03d}}.conus.nc'\n",
    "source_table = None\n",
    "target_table = 'ingest.nwm_channel_rt_mrf_mem1'\n",
    "target_keys = '(feature_id, streamflow)'\n",
    "file_step = None\n",
    "file_window = None\n",
    "\n",
    "update_service_data_flows(service, flow_id, step, source_table, target_table, target_keys, file_step=file_step, file_window=file_window, file_format=file_format)\n",
    "\n",
    "flow_id = '2'\n",
    "step = 'max_flows'\n",
    "file_format = None\n",
    "source_table = 'ingest.nwm_channel_rt_mrf_mem1'\n",
    "target_table = 'cache.max_flows_mrf'\n",
    "target_keys = '(feature_id, streamflow)'\n",
    "file_step = None\n",
    "file_window = None\n",
    "\n",
    "update_service_data_flows(service, flow_id, step, source_table, target_table, target_keys, file_step=file_step, file_window=file_window, file_format=file_format)"
   ]
  },
  {
   "cell_type": "markdown",
   "id": "04a0dae6",
   "metadata": {},
   "source": [
    "<h3>Medium-Range Peak Flow Arrival Time Forecast</h3>"
   ]
  },
  {
   "cell_type": "code",
   "execution_count": 14,
   "id": "c2df6424",
   "metadata": {},
   "outputs": [
    {
     "name": "stdout",
     "output_type": "stream",
     "text": [
      "This result object does not return rows. It has been closed automatically.\n",
      "This result object does not return rows. It has been closed automatically.\n",
      "This result object does not return rows. It has been closed automatically.\n",
      "This result object does not return rows. It has been closed automatically.\n"
     ]
    }
   ],
   "source": [
    "service = 'mrf_peak_flow_arrival_time'\n",
    "configuration = 'medium_range_mem1'\n",
    "postprocess_max_flows = None\n",
    "postprocess_service = 'mrf_peak_flow_arrival_time'\n",
    "postprocess_summary = None\n",
    "summary = 'Medium-Range Peak Flow Arrival Time Forecast'\n",
    "description = 'Depicts expected peak flow arrival times derived from the operational National Water Model (NWM) (v2.2) medium-range forecast. Shown are reaches that are expected to have flow at or above the high water threshold over the next 3 and 10 days.. Reaches are colored by the time at which they are expected to be at their maximum flow within the forecast period. High water flows were derived using a 40-year retrospective analysis of the NWM (v2.1). Updated hourly.'\n",
    "tags = 'medium range forecast, peak flow, arrival time, national water model, nwm, conus'\n",
    "credits = 'National Water Model, NOAA/NWS National Water Center'\n",
    "egis_server = 'server'\n",
    "egis_folder = 'nwm'\n",
    "fim_service = False\n",
    "feature_service = False\n",
    "run = False\n",
    "fim_configs = None\n",
    "public_service = False\n",
    "\n",
    "update_service_metadata(service, configuration, summary, description, tags, credits, egis_server, egis_folder, max_flows_sql_name=postprocess_max_flows, service_sql_name=postprocess_service, summary_sql_name=postprocess_summary, fim_service=fim_service, feature_service=feature_service, run=run, fim_configs=fim_configs, public_service=public_service)\n",
    "\n",
    "flow_id = '1'\n",
    "step = 'ingest'\n",
    "file_format = 'common/data/model/com/nwm/prod/nwm.{{datetime:%Y%m%d}}/medium_range_mem1/nwm.t{{datetime:%H}}z.medium_range.channel_rt_1.f{{range:3,243,3,%03d}}.conus.nc'\n",
    "source_table = None\n",
    "target_table = 'ingest.nwm_channel_rt_mrf_mem1'\n",
    "target_keys = '(feature_id, streamflow)'\n",
    "file_step = None\n",
    "file_window = None\n",
    "\n",
    "update_service_data_flows(service, flow_id, step, source_table, target_table, target_keys, file_step=file_step, file_window=file_window, file_format=file_format)"
   ]
  },
  {
   "cell_type": "markdown",
   "id": "35a00e3c",
   "metadata": {},
   "source": [
    "<h3>Medium-Range Rapid Onset Flooding Forecast</h3>"
   ]
  },
  {
   "cell_type": "code",
   "execution_count": 16,
   "id": "c8bb17a1",
   "metadata": {},
   "outputs": [
    {
     "name": "stdout",
     "output_type": "stream",
     "text": [
      "This result object does not return rows. It has been closed automatically.\n",
      "This result object does not return rows. It has been closed automatically.\n",
      "This result object does not return rows. It has been closed automatically.\n",
      "This result object does not return rows. It has been closed automatically.\n"
     ]
    }
   ],
   "source": [
    "service = 'mrf_rapid_onset_flooding'\n",
    "configuration = 'medium_range_mem1'\n",
    "postprocess_max_flows = None\n",
    "postprocess_service = 'mrf_rapid_onset_flooding'\n",
    "postprocess_summary = 'mrf_rapid_onset_flooding_hucs'\n",
    "summary = 'Medium-Range Rapid Onset Flooding Forecast'\n",
    "description = 'Depicts forecast rapid onset flooding using the medium-range configuration of the National Water Model (NWM) over the contiguous U.S. Shown are reaches (stream order 4 and below) with a forecast flow increase of 100% or greater within 3 hours, and which are expected to be at or above the high water threshold within 6 hours of that increase (all calculated in 3 hour increments). Also shown are USGS HUC08 polygons symbolized by the percentage of NWM waterway length (within each HUC08) that is expected to meet the previously mentioned criteria. High water thresholds (regionally varied) were derived using the 40-year NWM v2.1 reanalysis simulation.'\n",
    "tags = 'medium, range, forecast, streamflow, rapid, onset, flood, national, water, model, nwm'\n",
    "credits = 'National Water Model, NOAA/NWS National Water Center'\n",
    "egis_server = 'server'\n",
    "egis_folder = 'nwm'\n",
    "fim_service = False\n",
    "feature_service = False\n",
    "run = True\n",
    "fim_configs = None\n",
    "public_service = True\n",
    "\n",
    "update_service_metadata(service, configuration, summary, description, tags, credits, egis_server, egis_folder, max_flows_sql_name=postprocess_max_flows, service_sql_name=postprocess_service, summary_sql_name=postprocess_summary, fim_service=fim_service, feature_service=feature_service, run=run, fim_configs=fim_configs, public_service=public_service)\n",
    "\n",
    "flow_id = '1'\n",
    "step = 'ingest'\n",
    "file_format = 'common/data/model/com/nwm/prod/nwm.{{datetime:%Y%m%d}}/medium_range_mem1/nwm.t{{datetime:%H}}z.medium_range.channel_rt_1.f{{range:3,243,3,%03d}}.conus.nc'\n",
    "source_table = None\n",
    "target_table = 'ingest.nwm_channel_rt_mrf_mem1'\n",
    "target_keys = '(feature_id, streamflow)'\n",
    "file_step = None\n",
    "file_window = None\n",
    "\n",
    "update_service_data_flows(service, flow_id, step, source_table, target_table, target_keys, file_step=file_step, file_window=file_window, file_format=file_format)"
   ]
  },
  {
   "cell_type": "markdown",
   "id": "278ddf2c",
   "metadata": {
    "tags": []
   },
   "source": [
    "<h3>Medium-Range Rapid Onset Flooding Probability Forecast</h3>"
   ]
  },
  {
   "cell_type": "code",
   "execution_count": 17,
   "id": "90fd3b64",
   "metadata": {},
   "outputs": [
    {
     "name": "stdout",
     "output_type": "stream",
     "text": [
      "This result object does not return rows. It has been closed automatically.\n",
      "This result object does not return rows. It has been closed automatically.\n",
      "This result object does not return rows. It has been closed automatically.\n",
      "This result object does not return rows. It has been closed automatically.\n",
      "This result object does not return rows. It has been closed automatically.\n",
      "This result object does not return rows. It has been closed automatically.\n",
      "This result object does not return rows. It has been closed automatically.\n",
      "This result object does not return rows. It has been closed automatically.\n",
      "This result object does not return rows. It has been closed automatically.\n",
      "This result object does not return rows. It has been closed automatically.\n",
      "This result object does not return rows. It has been closed automatically.\n",
      "This result object does not return rows. It has been closed automatically.\n",
      "This result object does not return rows. It has been closed automatically.\n",
      "This result object does not return rows. It has been closed automatically.\n",
      "This result object does not return rows. It has been closed automatically.\n",
      "This result object does not return rows. It has been closed automatically.\n"
     ]
    }
   ],
   "source": [
    "service = 'mrf_rapid_onset_flooding_probability'\n",
    "configuration = 'medium_range_mem1'\n",
    "postprocess_max_flows = None\n",
    "postprocess_service = None\n",
    "postprocess_summary = None\n",
    "summary = 'Medium-Range Rapid Onset Flooding Probability Forecast'\n",
    "description = 'Depicts the probability of forecast rapid onset flooding over the next 10 days using ensembles from the medium-range configuration of the National Water Model (NWM) over the contiguous U.S. Shown are reaches that are expected to have flow at or above high water thresholds on Day 1, Day 2, Day 3, Days 4-5, and Days 1-5 using the 7 ensemble members of the medium-range forecast. Reaches are colored by the probability that they will meet or exceed rapid onset conditions on Day 1, Day 2, Day 3, Days 4-5, and Days 1-5. Probabilities are computed as the % agreement across the 7 ensemble members, equally weighted. Hotspots show average 1-5 day rapid onset flooding probability, weighted by reach length, for USGS HUC8 basins with greater than 10% of NWM feature length meeting rapid onset criteria in the next 5 days. High water thresholds (regionally varied) were derived using the 40-year NWM v2.1 reanalysis simulation.'\n",
    "tags = 'medium,range,forecast,streamflow,rapid,onset,flood,probability,national,water,model,nwm'\n",
    "credits = 'National Water Model, NOAA/NWS National Water Center'\n",
    "egis_server = 'server'\n",
    "egis_folder = 'nwm'\n",
    "fim_service = False\n",
    "feature_service = True\n",
    "run = False\n",
    "fim_configs = None\n",
    "public_service = True\n",
    "\n",
    "update_service_metadata(service, configuration, summary, description, tags, credits, egis_server, egis_folder, max_flows_sql_name=postprocess_max_flows, service_sql_name=postprocess_service, summary_sql_name=postprocess_summary, fim_service=fim_service, feature_service=feature_service, run=run, fim_configs=fim_configs, public_service=public_service)\n",
    "\n",
    "flow_id = '1'\n",
    "step = 'ingest'\n",
    "file_format = \"common/data/model/com/nwm/prod/nwm.{{datetime:%Y%m%d}}/medium_range_mem1/nwm.t{{datetime:%H}}z.medium_range.channel_rt_1.f{{range:3,121,3,%03d}}.conus.nc\"\n",
    "source_table = None\n",
    "target_table = 'ingest.nwm_channel_rt_mrf_mem1'\n",
    "target_keys = '(feature_id, streamflow)'\n",
    "file_step = None\n",
    "file_window = None\n",
    "\n",
    "update_service_data_flows(service, flow_id, step, source_table, target_table, target_keys, file_step=file_step, file_window=file_window, file_format=file_format)\n",
    "\n",
    "flow_id = '2'\n",
    "step = 'ingest'\n",
    "file_format = \"common/data/model/com/nwm/prod/nwm.{{datetime:%Y%m%d}}/medium_range_mem2/nwm.t{{datetime:%H}}z.medium_range.channel_rt_2.f{{range:3,121,3,%03d}}.conus.nc\"\n",
    "source_table = None\n",
    "target_table = 'ingest.nwm_channel_rt_mrf_mem2'\n",
    "target_keys = '(feature_id, streamflow)'\n",
    "file_step = None\n",
    "file_window = None\n",
    "\n",
    "update_service_data_flows(service, flow_id, step, source_table, target_table, target_keys, file_step=file_step, file_window=file_window, file_format=file_format)\n",
    "\n",
    "flow_id = '3'\n",
    "step = 'ingest'\n",
    "file_format = \"common/data/model/com/nwm/prod/nwm.{{datetime:%Y%m%d}}/medium_range_mem3/nwm.t{{datetime:%H}}z.medium_range.channel_rt_3.f{{range:3,121,3,%03d}}.conus.nc\"\n",
    "source_table = None\n",
    "target_table = 'ingest.nwm_channel_rt_mrf_mem3'\n",
    "target_keys = '(feature_id, streamflow)'\n",
    "file_step = None\n",
    "file_window = None\n",
    "\n",
    "update_service_data_flows(service, flow_id, step, source_table, target_table, target_keys, file_step=file_step, file_window=file_window, file_format=file_format)\n",
    "\n",
    "flow_id = '4'\n",
    "step = 'ingest'\n",
    "file_format = \"common/data/model/com/nwm/prod/nwm.{{datetime:%Y%m%d}}/medium_range_mem4/nwm.t{{datetime:%H}}z.medium_range.channel_rt_4.f{{range:3,121,3,%03d}}.conus.nc\"\n",
    "source_table = None\n",
    "target_table = 'ingest.nwm_channel_rt_mrf_mem4'\n",
    "target_keys = '(feature_id, streamflow)'\n",
    "file_step = None\n",
    "file_window = None\n",
    "\n",
    "update_service_data_flows(service, flow_id, step, source_table, target_table, target_keys, file_step=file_step, file_window=file_window, file_format=file_format)\n",
    "\n",
    "flow_id = '5'\n",
    "step = 'ingest'\n",
    "file_format = \"common/data/model/com/nwm/prod/nwm.{{datetime:%Y%m%d}}/medium_range_mem5/nwm.t{{datetime:%H}}z.medium_range.channel_rt_5.f{{range:3,121,3,%03d}}.conus.nc\"\n",
    "source_table = None\n",
    "target_table = 'ingest.nwm_channel_rt_mrf_mem5'\n",
    "target_keys = '(feature_id, streamflow)'\n",
    "file_step = None\n",
    "file_window = None\n",
    "\n",
    "update_service_data_flows(service, flow_id, step, source_table, target_table, target_keys, file_step=file_step, file_window=file_window, file_format=file_format)\n",
    "\n",
    "flow_id = '6'\n",
    "step = 'ingest'\n",
    "file_format = \"common/data/model/com/nwm/prod/nwm.{{datetime:%Y%m%d}}/medium_range_mem6/nwm.t{{datetime:%H}}z.medium_range.channel_rt_6.f{{range:3,121,3,%03d}}.conus.nc\"\n",
    "source_table = None\n",
    "target_table = 'ingest.nwm_channel_rt_mrf_mem6'\n",
    "target_keys = '(feature_id, streamflow)'\n",
    "file_step = None\n",
    "file_window = None\n",
    "\n",
    "update_service_data_flows(service, flow_id, step, source_table, target_table, target_keys, file_step=file_step, file_window=file_window, file_format=file_format)\n",
    "\n",
    "flow_id = '7'\n",
    "step = 'ingest'\n",
    "file_format = \"common/data/model/com/nwm/prod/nwm.{{datetime:%Y%m%d}}/medium_range_mem7/nwm.t{{datetime:%H}}z.medium_range.channel_rt_7.f{{range:3,121,3,%03d}}.conus.nc\"\n",
    "source_table = None\n",
    "target_table = 'ingest.nwm_channel_rt_mrf_mem7'\n",
    "target_keys = '(feature_id, streamflow)'\n",
    "file_step = None\n",
    "file_window = None\n",
    "\n",
    "update_service_data_flows(service, flow_id, step, source_table, target_table, target_keys, file_step=file_step, file_window=file_window, file_format=file_format)"
   ]
  },
  {
   "cell_type": "markdown",
   "id": "aeb4dfea",
   "metadata": {},
   "source": [
    "<h3>RFC 5-Day Maximum Streamflow</h3>"
   ]
  },
  {
   "cell_type": "code",
   "execution_count": 18,
   "id": "294f9687",
   "metadata": {},
   "outputs": [
    {
     "name": "stdout",
     "output_type": "stream",
     "text": [
      "This result object does not return rows. It has been closed automatically.\n",
      "This result object does not return rows. It has been closed automatically.\n",
      "This result object does not return rows. It has been closed automatically.\n",
      "This result object does not return rows. It has been closed automatically.\n"
     ]
    }
   ],
   "source": [
    "service = 'rfc_5day_max_downstream_streamflow'\n",
    "configuration = 'replace_route'\n",
    "postprocess_max_flows = None\n",
    "postprocess_service = 'rfc_5day_max_downstream_streamflow'\n",
    "postprocess_summary = 'rfc_5day_max_downstream_streamflow_rfc_points'\n",
    "summary = 'RFC 5-Day Maximum Streamflow'\n",
    "description = 'Depicts maximum forecast streamflow over the next 5 days derived from the official River Forecast Center (RFC) forecast routed downstream through the National Water Model (NWM) stream network. Maximum streamflows are available downstream of RFC forecast points whose forecast reaches action status or greater.'\n",
    "tags = 'streamflow, replace and route, rfc'\n",
    "credits = 'NOAA/NWS National Water Center'\n",
    "egis_server = 'server'\n",
    "egis_folder = 'rfc'\n",
    "fim_service = False\n",
    "feature_service = True\n",
    "run = True\n",
    "fim_configs = None\n",
    "public_service = True\n",
    "\n",
    "update_service_metadata(service, configuration, summary, description, tags, credits, egis_server, egis_folder, max_flows_sql_name=postprocess_max_flows, service_sql_name=postprocess_service, summary_sql_name=postprocess_summary, fim_service=fim_service, feature_service=feature_service, run=run, fim_configs=fim_configs, public_service=public_service)\n",
    "\n",
    "flow_id = '1'\n",
    "step = 'ingest'\n",
    "file_format = 'max_flows/replace_route/{{datetime:%Y%m%d}}/rnr_{{datetime:%H}}_max_flows.csv'\n",
    "source_table = None\n",
    "target_table = 'ingest.rnr_max_flows'\n",
    "target_keys = '(feature_id)'\n",
    "file_step = None\n",
    "file_window = None\n",
    "\n",
    "update_service_data_flows(service, flow_id, step, source_table, target_table, target_keys, file_step=file_step, file_window=file_window, file_format=file_format)"
   ]
  },
  {
   "cell_type": "markdown",
   "id": "52e9d942",
   "metadata": {},
   "source": [
    "<h3>RFC Maximum Stage Forecast</h3>"
   ]
  },
  {
   "cell_type": "code",
   "execution_count": 19,
   "id": "5bb0b000",
   "metadata": {},
   "outputs": [
    {
     "name": "stdout",
     "output_type": "stream",
     "text": [
      "This result object does not return rows. It has been closed automatically.\n",
      "This result object does not return rows. It has been closed automatically.\n",
      "This result object does not return rows. It has been closed automatically.\n",
      "This result object does not return rows. It has been closed automatically.\n",
      "This result object does not return rows. It has been closed automatically.\n",
      "This result object does not return rows. It has been closed automatically.\n"
     ]
    }
   ],
   "source": [
    "service = 'rfc_max_stage'\n",
    "configuration = 'ahps'\n",
    "postprocess_max_flows = None\n",
    "postprocess_service = 'rfc_max_stage'\n",
    "postprocess_summary = None\n",
    "summary = 'RFC Maximum Stage Forecast'\n",
    "description = 'Depicts Advanced Hydrologic Prediction Service (AHPS) River Forecast Center (RFC) forecast points with forecasts at or above action stage. Circles represent forecast points where stages are changing by less than +/- 5% over the entire forecast period. Upward-pointing triangles represent forecast points where a greater than 5% increase in stage is expected sometime during the forecast. If stage increases greater than 5% are not expected, downward-pointing triangles represent forecast points where a greater than 5% decrease in stage is expected sometime during the forecast. Forecast points are colored by their maximum forecast flood category.'\n",
    "tags = 'rfc,ahps,forecast,maximum,stage'\n",
    "credits = 'NOAA/NWS National Water Center'\n",
    "egis_server = 'server'\n",
    "egis_folder = 'rfc'\n",
    "fim_service = False\n",
    "feature_service = True\n",
    "run = True\n",
    "fim_configs = None\n",
    "public_service = True\n",
    "\n",
    "update_service_metadata(service, configuration, summary, description, tags, credits, egis_server, egis_folder, max_flows_sql_name=postprocess_max_flows, service_sql_name=postprocess_service, summary_sql_name=postprocess_summary, fim_service=fim_service, feature_service=feature_service, run=run, fim_configs=fim_configs, public_service=public_service)\n",
    "\n",
    "flow_id = '1'\n",
    "step = 'ingest'\n",
    "file_format = 'max_stage/ahps/{{datetime:%Y%m%d}}/{{datetime:%H_%M}}_ahps_forecasts.csv'\n",
    "source_table = None\n",
    "target_table = 'ingest.ahps_forecasts'\n",
    "target_keys = '(nws_lid)'\n",
    "file_step = None\n",
    "file_window = None\n",
    "\n",
    "update_service_data_flows(service, flow_id, step, source_table, target_table, target_keys, file_step=file_step, file_window=file_window, file_format=file_format)\n",
    "\n",
    "flow_id = '2'\n",
    "step = 'ingest'\n",
    "file_format = 'max_stage/ahps/{{datetime:%Y%m%d}}/{{datetime:%H_%M}}_ahps_metadata.csv'\n",
    "source_table = None\n",
    "target_table = 'ingest.ahps_metadata'\n",
    "target_keys = '(nws_lid)'\n",
    "file_step = None\n",
    "file_window = None\n",
    "\n",
    "update_service_data_flows(service, flow_id, step, source_table, target_table, target_keys, file_step=file_step, file_window=file_window, file_format=file_format)"
   ]
  },
  {
   "cell_type": "markdown",
   "id": "fe59bf78",
   "metadata": {},
   "source": [
    "<h3>Short-Range High Water Arrival Time Forecast</h3>"
   ]
  },
  {
   "cell_type": "code",
   "execution_count": 20,
   "id": "5afc0360",
   "metadata": {},
   "outputs": [
    {
     "name": "stdout",
     "output_type": "stream",
     "text": [
      "This result object does not return rows. It has been closed automatically.\n",
      "This result object does not return rows. It has been closed automatically.\n",
      "This result object does not return rows. It has been closed automatically.\n",
      "This result object does not return rows. It has been closed automatically.\n"
     ]
    }
   ],
   "source": [
    "service = 'srf_high_water_arrival_time'\n",
    "configuration = 'short_range'\n",
    "postprocess_max_flows = None\n",
    "postprocess_service = 'srf_high_water_arrival_time'\n",
    "postprocess_summary = None\n",
    "summary = 'Short-Range High Water Arrival Time Forecast'\n",
    "description = 'Depicts the forecast arrival time of high water over the next 18 hours. This service is derived from the short-range configuration of the National Water Model (NWM) over the contiguous U.S. Shown are reaches that are expected to have flow at or above the high water threshold over the next 18 hours. Reaches are colored by the time at which they are forecast to reach high water. High water thresholds (regionally varied) were derived using the 40-year NWM v2.1 reanalysis simulation.'\n",
    "tags = 'short range forecast, high water, arrival time, national water model, nwm'\n",
    "credits = 'National Water Model, NOAA/NWS National Water Center'\n",
    "egis_server = 'server'\n",
    "egis_folder = 'nwm'\n",
    "fim_service = False\n",
    "feature_service = False\n",
    "run = True\n",
    "fim_configs = None\n",
    "public_service = True\n",
    "\n",
    "update_service_metadata(service, configuration, summary, description, tags, credits, egis_server, egis_folder, max_flows_sql_name=postprocess_max_flows, service_sql_name=postprocess_service, summary_sql_name=postprocess_summary, fim_service=fim_service, feature_service=feature_service, run=run, fim_configs=fim_configs, public_service=public_service)\n",
    "\n",
    "flow_id = '1'\n",
    "step = 'ingest'\n",
    "file_format = \"common/data/model/com/nwm/prod/nwm.{{datetime:%Y%m%d}}/short_range/nwm.t{{datetime:%H}}z.short_range.channel_rt.f{{range:1,19,1,%03d}}.conus.nc\"\n",
    "source_table = None\n",
    "target_table = 'ingest.nwm_channel_rt_srf'\n",
    "target_keys = '(feature_id, streamflow)'\n",
    "file_step = None\n",
    "file_window = None\n",
    "\n",
    "update_service_data_flows(service, flow_id, step, source_table, target_table, target_keys, file_step=file_step, file_window=file_window, file_format=file_format)"
   ]
  },
  {
   "cell_type": "markdown",
   "id": "81f03ea2",
   "metadata": {},
   "source": [
    "<h3>Short-Range High Water Arrival Time Forecast - Hawaii</h3>"
   ]
  },
  {
   "cell_type": "code",
   "execution_count": 21,
   "id": "99060bc2",
   "metadata": {},
   "outputs": [
    {
     "name": "stdout",
     "output_type": "stream",
     "text": [
      "This result object does not return rows. It has been closed automatically.\n",
      "This result object does not return rows. It has been closed automatically.\n",
      "This result object does not return rows. It has been closed automatically.\n",
      "This result object does not return rows. It has been closed automatically.\n"
     ]
    }
   ],
   "source": [
    "service = 'srf_high_water_arrival_time_hi'\n",
    "configuration = 'short_range_hawaii'\n",
    "postprocess_max_flows = None\n",
    "postprocess_service = 'srf_high_water_arrival_time_hi'\n",
    "postprocess_summary = None\n",
    "summary = 'Short-Range High Water Arrival Time Forecast - Hawaii'\n",
    "description = 'Depicts the forecast arrival time of high water over the next 48 hours. This service is derived from the short-range configuration of the National Water Model (NWM) over Hawaii. Shown are reaches that are expected to have flow at or above the high water threshold over the next 48 hours. Reaches are colored by the time at which they are forecast to reach high water. High water flows were derived from USGS regression equations found at https://pubs.usgs.gov/sir/2010/5035/sir2010-5035_text.pdf.'\n",
    "tags = 'short range forecast, high water, arrival time, national water model, nwm, hawaii'\n",
    "credits = 'National Water Model, NOAA/NWS National Water Center'\n",
    "egis_server = 'server'\n",
    "egis_folder = 'nwm'\n",
    "fim_service = False\n",
    "feature_service = False\n",
    "run = True\n",
    "fim_configs = None\n",
    "public_service = True\n",
    "\n",
    "update_service_metadata(service, configuration, summary, description, tags, credits, egis_server, egis_folder, max_flows_sql_name=postprocess_max_flows, service_sql_name=postprocess_service, summary_sql_name=postprocess_summary, fim_service=fim_service, feature_service=feature_service, run=run, fim_configs=fim_configs, public_service=public_service)\n",
    "\n",
    "flow_id = '1'\n",
    "step = 'ingest'\n",
    "file_format = \"common/data/model/com/nwm/prod/nwm.{{datetime:%Y%m%d}}/short_range_hawaii/nwm.t{{datetime:%H}}z.short_range.channel_rt.f{{range:100,4900,100,%05d}}.hawaii.nc\"\n",
    "source_table = None\n",
    "target_table = 'ingest.nwm_channel_rt_srf_hi'\n",
    "target_keys = '(feature_id, streamflow)'\n",
    "file_step = None\n",
    "file_window = None\n",
    "\n",
    "update_service_data_flows(service, flow_id, step, source_table, target_table, target_keys, file_step=file_step, file_window=file_window, file_format=file_format)"
   ]
  },
  {
   "cell_type": "markdown",
   "id": "e36e4c5a",
   "metadata": {},
   "source": [
    "<h3>Short-Range High Water Arrival Time - Puerto Rico/Virgin Islands</h3>"
   ]
  },
  {
   "cell_type": "code",
   "execution_count": 22,
   "id": "f5c2b55a",
   "metadata": {},
   "outputs": [
    {
     "name": "stdout",
     "output_type": "stream",
     "text": [
      "This result object does not return rows. It has been closed automatically.\n",
      "This result object does not return rows. It has been closed automatically.\n",
      "This result object does not return rows. It has been closed automatically.\n",
      "This result object does not return rows. It has been closed automatically.\n"
     ]
    }
   ],
   "source": [
    "service = 'srf_high_water_arrival_time_prvi'\n",
    "configuration = 'short_range_puertorico'\n",
    "postprocess_max_flows = None\n",
    "postprocess_service = 'srf_high_water_arrival_time_prvi'\n",
    "postprocess_summary = None\n",
    "summary = 'Short-Range High Water Arrival Time - Puerto Rico/Virgin Islands'\n",
    "description = 'Depicts the forecast arrival time of high water over the next 48 hours. This service is derived from the short-range configuration of the National Water Model (NWM) over Puerto Rico and the U.S. Virgin Islands. Shown are reaches that are expected to have flow at or above the high water threshold over the next 48 hours. Reaches are colored by the time at which they are forecast to reach high water. High water flows were derived from USGS regression equations found at https://pubs.usgs.gov/wri/wri994142/pdf/wri99-4142.pdf.'\n",
    "tags = 'short range forecast, high water, arrival time, national water model, nwm, puerto rico, virgin islands'\n",
    "credits = 'National Water Model, NOAA/NWS National Water Center'\n",
    "egis_server = 'server'\n",
    "egis_folder = 'nwm'\n",
    "fim_service = False\n",
    "feature_service = False\n",
    "run = True\n",
    "fim_configs = None\n",
    "public_service = True\n",
    "\n",
    "update_service_metadata(service, configuration, summary, description, tags, credits, egis_server, egis_folder, max_flows_sql_name=postprocess_max_flows, service_sql_name=postprocess_service, summary_sql_name=postprocess_summary, fim_service=fim_service, feature_service=feature_service, run=run, fim_configs=fim_configs, public_service=public_service)\n",
    "\n",
    "flow_id = '1'\n",
    "step = 'ingest'\n",
    "file_format = \"common/data/model/com/nwm/prod/nwm.{{datetime:%Y%m%d}}/short_range_puertorico/nwm.t{{datetime:%H}}z.short_range.channel_rt.f{{range:1,49,1,%03d}}.puertorico.nc\"\n",
    "source_table = None\n",
    "target_table = 'ingest.nwm_channel_rt_srf_prvi'\n",
    "target_keys = '(feature_id, streamflow)'\n",
    "file_step = None\n",
    "file_window = None\n",
    "\n",
    "update_service_data_flows(service, flow_id, step, source_table, target_table, target_keys, file_step=file_step, file_window=file_window, file_format=file_format)"
   ]
  },
  {
   "cell_type": "markdown",
   "id": "2efb925f",
   "metadata": {},
   "source": [
    "<h3>Short-Range Peak Flow Arrival Time Forecast</h3>"
   ]
  },
  {
   "cell_type": "code",
   "execution_count": 15,
   "id": "adb59f27",
   "metadata": {},
   "outputs": [
    {
     "name": "stdout",
     "output_type": "stream",
     "text": [
      "This result object does not return rows. It has been closed automatically.\n",
      "This result object does not return rows. It has been closed automatically.\n",
      "This result object does not return rows. It has been closed automatically.\n",
      "This result object does not return rows. It has been closed automatically.\n"
     ]
    }
   ],
   "source": [
    "service = 'srf_peak_flow_arrival_time'\n",
    "configuration = 'short_range'\n",
    "postprocess_max_flows = None\n",
    "postprocess_service = 'srf_peak_flow_arrival_time'\n",
    "postprocess_summary = None\n",
    "summary = 'Short-Range Peak Flow Arrival Time Forecast'\n",
    "description = 'Depicts expected peak flow arrival times derived from the operational National Water Model (NWM) (v2.2) short-range forecast. Shown are reaches that are expected to have flow at or above the high water threshold over the next 18 hours. Reaches are colored by the time at which they are expected to be at their maximum flow within the forecast period. High water flows were derived using a 40-year retrospective analysis of the NWM (v2.1). Updated hourly.'\n",
    "tags = 'short range forecast, peak flow, arrival time, national water model, nwm, conus'\n",
    "credits = 'National Water Model, NOAA/NWS National Water Center'\n",
    "egis_server = 'server'\n",
    "egis_folder = 'nwm'\n",
    "fim_service = False\n",
    "feature_service = False\n",
    "run = False\n",
    "fim_configs = None\n",
    "public_service = False\n",
    "\n",
    "update_service_metadata(service, configuration, summary, description, tags, credits, egis_server, egis_folder, max_flows_sql_name=postprocess_max_flows, service_sql_name=postprocess_service, summary_sql_name=postprocess_summary, fim_service=fim_service, feature_service=feature_service, run=run, fim_configs=fim_configs, public_service=public_service)\n",
    "\n",
    "flow_id = '1'\n",
    "step = 'ingest'\n",
    "file_format = \"common/data/model/com/nwm/prod/nwm.{{datetime:%Y%m%d}}/short_range/nwm.t{{datetime:%H}}z.short_range.channel_rt.f{{range:1,19,1,%03d}}.conus.nc\"\n",
    "source_table = None\n",
    "target_table = 'ingest.nwm_channel_rt_srf'\n",
    "target_keys = '(feature_id, streamflow)'\n",
    "file_step = None\n",
    "file_window = None\n",
    "\n",
    "update_service_data_flows(service, flow_id, step, source_table, target_table, target_keys, file_step=file_step, file_window=file_window, file_format=file_format)"
   ]
  },
  {
   "cell_type": "markdown",
   "id": "6d694282",
   "metadata": {},
   "source": [
    "<h3>Short-Range Peak Flow Arrival Time Forecast - Hawaii</h3>"
   ]
  },
  {
   "cell_type": "code",
   "execution_count": 16,
   "id": "4fb14f8b",
   "metadata": {},
   "outputs": [
    {
     "name": "stdout",
     "output_type": "stream",
     "text": [
      "This result object does not return rows. It has been closed automatically.\n",
      "This result object does not return rows. It has been closed automatically.\n",
      "This result object does not return rows. It has been closed automatically.\n",
      "This result object does not return rows. It has been closed automatically.\n"
     ]
    }
   ],
   "source": [
    "service = 'srf_peak_flow_arrival_time_hi'\n",
    "configuration = 'short_range_hawaii'\n",
    "postprocess_max_flows = None\n",
    "postprocess_service = 'srf_peak_flow_arrival_time_hi'\n",
    "postprocess_summary = None\n",
    "summary = 'Short-Range Peak Flow Arrival Time Forecast - Hawaii'\n",
    "description = 'Depicts expected peak flow arrival times derived from the operational National Water Model (NWM) (v2.2) short-range forecast for the state of Hawaii. Shown are reaches that are expected to have flow at or above high water threshold flow over the next 48 hours. Reaches are colored by the time at which they are expected to be at their maximum flow within the forecast period. High water threshold flows and annual exceedance probabilities were derived from USGS regression equations found at https://pubs.usgs.gov/sir/2010/5035/sir2010-5035_text.pdf. Updated every 12 hours.'\n",
    "tags = 'short range forecast, peak flow, arrival time, national water model, nwm, hawaii'\n",
    "credits = 'National Water Model, NOAA/NWS National Water Center'\n",
    "egis_server = 'server'\n",
    "egis_folder = 'nwm'\n",
    "fim_service = False\n",
    "feature_service = False\n",
    "run = False\n",
    "fim_configs = None\n",
    "public_service = False\n",
    "\n",
    "update_service_metadata(service, configuration, summary, description, tags, credits, egis_server, egis_folder, max_flows_sql_name=postprocess_max_flows, service_sql_name=postprocess_service, summary_sql_name=postprocess_summary, fim_service=fim_service, feature_service=feature_service, run=run, fim_configs=fim_configs, public_service=public_service)\n",
    "\n",
    "flow_id = '1'\n",
    "step = 'ingest'\n",
    "file_format = \"common/data/model/com/nwm/prod/nwm.{{datetime:%Y%m%d}}/short_range_hawaii/nwm.t{{datetime:%H}}z.short_range.channel_rt.f{{range:100,4900,100,%05d}}.hawaii.nc\"\n",
    "source_table = None\n",
    "target_table = 'ingest.nwm_channel_rt_srf_hi'\n",
    "target_keys = '(feature_id, streamflow)'\n",
    "file_step = None\n",
    "file_window = None\n",
    "\n",
    "update_service_data_flows(service, flow_id, step, source_table, target_table, target_keys, file_step=file_step, file_window=file_window, file_format=file_format)"
   ]
  },
  {
   "cell_type": "markdown",
   "id": "69cf6275",
   "metadata": {},
   "source": [
    "<h3>Short-Range Peak Flow Arrival Time - Puerto Rico/Virgin Islands</h3>"
   ]
  },
  {
   "cell_type": "code",
   "execution_count": 17,
   "id": "b7de97dc",
   "metadata": {},
   "outputs": [
    {
     "name": "stdout",
     "output_type": "stream",
     "text": [
      "This result object does not return rows. It has been closed automatically.\n",
      "This result object does not return rows. It has been closed automatically.\n",
      "This result object does not return rows. It has been closed automatically.\n",
      "This result object does not return rows. It has been closed automatically.\n"
     ]
    }
   ],
   "source": [
    "service = 'srf_peak_flow_arrival_time_prvi'\n",
    "configuration = 'short_range_puertorico'\n",
    "postprocess_max_flows = None\n",
    "postprocess_service = 'srf_peak_flow_arrival_time_prvi'\n",
    "postprocess_summary = None\n",
    "summary = 'Short-Range Peak Flow Arrival Time - Puerto Rico/Virgin Islands'\n",
    "description = 'Depicts expected peak flow arrival times derived from the operational National Water Model (NWM) (v2.2) short-range forecast for Puerto Rico and the U.S. Virgin Islands. Shown are reaches that are expected to have flow at or above high water threshold flow over the next 48 hours. Reaches are colored by the time at which they are expected to be at their maximum flow within the forecast period. High water threshold flows and annual exceedance probabilities were derived from USGS regression equations found at https://pubs.usgs.gov/wri/wri994142/pdf/wri99-4142.pdf. Updated every 12 hours.'\n",
    "tags = 'short range forecast, peak flow, arrival time, national water model, nwm, prvi'\n",
    "credits = 'National Water Model, NOAA/NWS National Water Center'\n",
    "egis_server = 'server'\n",
    "egis_folder = 'nwm'\n",
    "fim_service = False\n",
    "feature_service = False\n",
    "run = False\n",
    "fim_configs = None\n",
    "public_service = False\n",
    "\n",
    "update_service_metadata(service, configuration, summary, description, tags, credits, egis_server, egis_folder, max_flows_sql_name=postprocess_max_flows, service_sql_name=postprocess_service, summary_sql_name=postprocess_summary, fim_service=fim_service, feature_service=feature_service, run=run, fim_configs=fim_configs, public_service=public_service)\n",
    "\n",
    "flow_id = '1'\n",
    "step = 'ingest'\n",
    "file_format = \"common/data/model/com/nwm/prod/nwm.{{datetime:%Y%m%d}}/short_range_puertorico/nwm.t{{datetime:%H}}z.short_range.channel_rt.f{{range:1,49,1,%03d}}.puertorico.nc\"\n",
    "source_table = None\n",
    "target_table = 'ingest.nwm_channel_rt_srf_prvi'\n",
    "target_keys = '(feature_id, streamflow)'\n",
    "file_step = None\n",
    "file_window = None\n",
    "\n",
    "update_service_data_flows(service, flow_id, step, source_table, target_table, target_keys, file_step=file_step, file_window=file_window, file_format=file_format)"
   ]
  },
  {
   "cell_type": "markdown",
   "id": "00570e84",
   "metadata": {},
   "source": [
    "<h3>Short-Range High Water Probability Forecast</h3>"
   ]
  },
  {
   "cell_type": "code",
   "execution_count": 26,
   "id": "8b7f4661",
   "metadata": {},
   "outputs": [
    {
     "name": "stdout",
     "output_type": "stream",
     "text": [
      "This result object does not return rows. It has been closed automatically.\n",
      "This result object does not return rows. It has been closed automatically.\n",
      "This result object does not return rows. It has been closed automatically.\n",
      "This result object does not return rows. It has been closed automatically.\n",
      "This result object does not return rows. It has been closed automatically.\n",
      "This result object does not return rows. It has been closed automatically.\n",
      "This result object does not return rows. It has been closed automatically.\n",
      "This result object does not return rows. It has been closed automatically.\n",
      "This result object does not return rows. It has been closed automatically.\n",
      "This result object does not return rows. It has been closed automatically.\n",
      "This result object does not return rows. It has been closed automatically.\n",
      "This result object does not return rows. It has been closed automatically.\n",
      "This result object does not return rows. It has been closed automatically.\n",
      "This result object does not return rows. It has been closed automatically.\n",
      "This result object does not return rows. It has been closed automatically.\n",
      "This result object does not return rows. It has been closed automatically.\n"
     ]
    }
   ],
   "source": [
    "service = 'srf_high_water_probability'\n",
    "configuration = 'short_range'\n",
    "postprocess_max_flows = None\n",
    "postprocess_service = None\n",
    "postprocess_summary = None\n",
    "summary = 'Short-Range High Water Probability Forecast'\n",
    "description = 'Depicts the probability of forecast high water over the next 12 hours using a time-lagged ensemble from the short-range forecast of the National Water Model (NWM) over the contiguous U.S. Shown are reaches that are forecast to have flow at or above high water within the next 12 hours of at least one of the last 7 forecasts. Reaches are colored by the probability that they will meet or exceed the high water threshold across the last 7 forecasts. Probabilities are derived by counting the number of forecasts that meet the high water condition within the next 12 hours, equally weighted. Also shown are USGS HUC10 polygons for basins with greater than 50% of NWM features with flow expected to be at or above high water over the next 12 hours, symbolized by the average probability. High water thresholds (regionally varied) were derived using the 40-year NWM v2.1 reanalysis simulation.'\n",
    "tags = 'short,range,forecast,high,water,national,water,model,nwm,probability'\n",
    "credits = 'National Water Model, NOAA/NWS National Water Center'\n",
    "egis_server = 'server'\n",
    "egis_folder = 'nwm'\n",
    "fim_service = False\n",
    "feature_service = False\n",
    "run = False\n",
    "fim_configs = None\n",
    "public_service = True\n",
    "\n",
    "update_service_metadata(service, configuration, summary, description, tags, credits, egis_server, egis_folder, max_flows_sql_name=postprocess_max_flows, service_sql_name=postprocess_service, summary_sql_name=postprocess_summary, fim_service=fim_service, feature_service=feature_service, run=run, fim_configs=fim_configs, public_service=public_service)\n",
    "\n",
    "flow_id = '1'\n",
    "step = 'ingest'\n",
    "file_format = \"common/data/model/com/nwm/prod/nwm.{{datetime:%Y%m%d}}/short_range/nwm.t{{datetime:%H}}z.short_range.channel_rt.f{{range:1,19,1,%03d}}.conus.nc\"\n",
    "source_table = None\n",
    "target_table = 'ingest.nwm_channel_rt_srf'\n",
    "target_keys = '(feature_id, streamflow)'\n",
    "file_step = None\n",
    "file_window = None\n",
    "\n",
    "update_service_data_flows(service, flow_id, step, source_table, target_table, target_keys, file_step=file_step, file_window=file_window, file_format=file_format)\n",
    "\n",
    "flow_id = '2'\n",
    "step = 'ingest'\n",
    "file_format = \"common/data/model/com/nwm/prod/nwm.{{datetime:reftime-1H, %Y%m%d}}/short_range/nwm.t{{datetime:reftime-1H, %H}}z.short_range.channel_rt.f{{range:1,19,1,%03d}}.conus.nc\"\n",
    "source_table = None\n",
    "target_table = 'ingest.nwm_channel_rt_srf_past_1h'\n",
    "target_keys = '(feature_id, streamflow)'\n",
    "file_step = None\n",
    "file_window = None\n",
    "\n",
    "update_service_data_flows(service, flow_id, step, source_table, target_table, target_keys, file_step=file_step, file_window=file_window, file_format=file_format)\n",
    "\n",
    "flow_id = '3'\n",
    "step = 'ingest'\n",
    "file_format = \"common/data/model/com/nwm/prod/nwm.{{datetime:reftime-2H, %Y%m%d}}/short_range/nwm.t{{datetime:reftime-2H, %H}}z.short_range.channel_rt.f{{range:1,19,1,%03d}}.conus.nc\"\n",
    "source_table = None\n",
    "target_table = 'ingest.nwm_channel_rt_srf_past_2h'\n",
    "target_keys = '(feature_id, streamflow)'\n",
    "file_step = None\n",
    "file_window = None\n",
    "\n",
    "update_service_data_flows(service, flow_id, step, source_table, target_table, target_keys, file_step=file_step, file_window=file_window, file_format=file_format)\n",
    "\n",
    "flow_id = '4'\n",
    "step = 'ingest'\n",
    "file_format = \"common/data/model/com/nwm/prod/nwm.{{datetime:reftime-3H, %Y%m%d}}/short_range/nwm.t{{datetime:reftime-3H, %H}}z.short_range.channel_rt.f{{range:1,19,1,%03d}}.conus.nc\"\n",
    "source_table = None\n",
    "target_table = 'ingest.nwm_channel_rt_srf_past_3h'\n",
    "target_keys = '(feature_id, streamflow)'\n",
    "file_step = None\n",
    "file_window = None\n",
    "\n",
    "update_service_data_flows(service, flow_id, step, source_table, target_table, target_keys, file_step=file_step, file_window=file_window, file_format=file_format)\n",
    "\n",
    "flow_id = '5'\n",
    "step = 'ingest'\n",
    "file_format = \"common/data/model/com/nwm/prod/nwm.{{datetime:reftime-4H, %Y%m%d}}/short_range/nwm.t{{datetime:reftime-4H, %H}}z.short_range.channel_rt.f{{range:1,19,1,%03d}}.conus.nc\"\n",
    "source_table = None\n",
    "target_table = 'ingest.nwm_channel_rt_srf_past_4h'\n",
    "target_keys = '(feature_id, streamflow)'\n",
    "file_step = None\n",
    "file_window = None\n",
    "\n",
    "update_service_data_flows(service, flow_id, step, source_table, target_table, target_keys, file_step=file_step, file_window=file_window, file_format=file_format)\n",
    "\n",
    "flow_id = '6'\n",
    "step = 'ingest'\n",
    "file_format = \"common/data/model/com/nwm/prod/nwm.{{datetime:reftime-5H, %Y%m%d}}/short_range/nwm.t{{datetime:reftime-5H, %H}}z.short_range.channel_rt.f{{range:1,19,1,%03d}}.conus.nc\"\n",
    "source_table = None\n",
    "target_table = 'ingest.nwm_channel_rt_srf_past_5h'\n",
    "target_keys = '(feature_id, streamflow)'\n",
    "file_step = None\n",
    "file_window = None\n",
    "\n",
    "update_service_data_flows(service, flow_id, step, source_table, target_table, target_keys, file_step=file_step, file_window=file_window, file_format=file_format)\n",
    "\n",
    "flow_id = '7'\n",
    "step = 'ingest'\n",
    "file_format = \"common/data/model/com/nwm/prod/nwm.{{datetime:reftime-6H, %Y%m%d}}/short_range/nwm.t{{datetime:reftime-6H, %H}}z.short_range.channel_rt.f{{range:1,19,1,%03d}}.conus.nc\"\n",
    "source_table = None\n",
    "target_table = 'ingest.nwm_channel_rt_srf_past_6h'\n",
    "target_keys = '(feature_id, streamflow)'\n",
    "file_step = None\n",
    "file_window = None\n",
    "\n",
    "update_service_data_flows(service, flow_id, step, source_table, target_table, target_keys, file_step=file_step, file_window=file_window, file_format=file_format)"
   ]
  },
  {
   "cell_type": "markdown",
   "id": "4c183cbf",
   "metadata": {},
   "source": [
    "<h3>Short-Range Maximum High Flow Magnitude Forecast</h3>"
   ]
  },
  {
   "cell_type": "code",
   "execution_count": 27,
   "id": "0049b269",
   "metadata": {},
   "outputs": [
    {
     "name": "stdout",
     "output_type": "stream",
     "text": [
      "This result object does not return rows. It has been closed automatically.\n",
      "This result object does not return rows. It has been closed automatically.\n",
      "This result object does not return rows. It has been closed automatically.\n",
      "This result object does not return rows. It has been closed automatically.\n",
      "This result object does not return rows. It has been closed automatically.\n",
      "This result object does not return rows. It has been closed automatically.\n"
     ]
    }
   ],
   "source": [
    "service = 'srf_max_high_flow_magnitude'\n",
    "configuration = 'short_range'\n",
    "postprocess_max_flows = 'srf_max_flows'\n",
    "postprocess_service = 'srf_max_high_flow_magnitude'\n",
    "postprocess_summary = None\n",
    "summary = 'Short-Range Maximum High Flow Magnitude Forecast'\n",
    "description = 'Depicts the magnitude of the peak National Water Model (NWM) streamflow forecast over the next 18 hours where the NWM is signaling high water. This service is derived from the short-range configuration of the NWM over the contiguous U.S. Shown are reaches with peak flow at or above high water thresholds. Reaches are colored by the annual exceedance probability (AEP) of their forecast peak flow. High water thresholds (regionally varied) and AEPs were derived using the 40-year NWM v2.1 reanalysis simulation.'\n",
    "tags = 'short range forecast, maximum, high flow, magnitude, national water model, nwm'\n",
    "credits = 'National Water Model, NOAA/NWS National Water Center'\n",
    "egis_server = 'server'\n",
    "egis_folder = 'nwm'\n",
    "fim_service = False\n",
    "feature_service = False\n",
    "run = True\n",
    "fim_configs = None\n",
    "public_service = True\n",
    "\n",
    "update_service_metadata(service, configuration, summary, description, tags, credits, egis_server, egis_folder, max_flows_sql_name=postprocess_max_flows, service_sql_name=postprocess_service, summary_sql_name=postprocess_summary, fim_service=fim_service, feature_service=feature_service, run=run, fim_configs=fim_configs, public_service=public_service)\n",
    "\n",
    "flow_id = '1'\n",
    "step = 'ingest'\n",
    "file_format = \"common/data/model/com/nwm/prod/nwm.{{datetime:%Y%m%d}}/short_range/nwm.t{{datetime:%H}}z.short_range.channel_rt.f{{range:1,19,1,%03d}}.conus.nc\"\n",
    "source_table = None\n",
    "target_table = 'ingest.nwm_channel_rt_srf'\n",
    "target_keys = '(feature_id, streamflow)'\n",
    "file_step = None\n",
    "file_window = None\n",
    "\n",
    "update_service_data_flows(service, flow_id, step, source_table, target_table, target_keys, file_step=file_step, file_window=file_window, file_format=file_format)\n",
    "\n",
    "flow_id = '2'\n",
    "step = 'max_flows'\n",
    "file_format = None\n",
    "source_table = 'ingest.nwm_channel_rt_srf'\n",
    "target_table = 'cache.max_flows_srf'\n",
    "target_keys = '(feature_id, streamflow)'\n",
    "file_step = None\n",
    "file_window = None\n",
    "\n",
    "update_service_data_flows(service, flow_id, step, source_table, target_table, target_keys, file_step=file_step, file_window=file_window, file_format=file_format)"
   ]
  },
  {
   "cell_type": "markdown",
   "id": "3ae97c12",
   "metadata": {},
   "source": [
    "<h3>Short-Range Maximum High Flow Magnitude Hawaii</h3>"
   ]
  },
  {
   "cell_type": "code",
   "execution_count": 28,
   "id": "58bf7f26",
   "metadata": {},
   "outputs": [
    {
     "name": "stdout",
     "output_type": "stream",
     "text": [
      "This result object does not return rows. It has been closed automatically.\n",
      "This result object does not return rows. It has been closed automatically.\n",
      "This result object does not return rows. It has been closed automatically.\n",
      "This result object does not return rows. It has been closed automatically.\n",
      "This result object does not return rows. It has been closed automatically.\n",
      "This result object does not return rows. It has been closed automatically.\n"
     ]
    }
   ],
   "source": [
    "service = 'srf_max_high_flow_magnitude_hi'\n",
    "configuration = 'short_range_hawaii'\n",
    "postprocess_max_flows = 'srf_max_flows_hi'\n",
    "postprocess_service = 'srf_max_high_flow_magnitude_hi'\n",
    "postprocess_summary = None\n",
    "summary = 'Short-Range Maximum High Flow Magnitude Hawaii'\n",
    "description = 'Depicts the magnitude of the peak National Water Model (NWM) streamflow forecast over the next 48 hours where the NWM is signaling high water. This service is derived from the short-range configuration of the NWM over Hawaii. Shown are reaches with peak flow at or above high water thresholds. Reaches are colored by the annual exceedance probability (AEP) of their peak flow. High water thresholds and AEPs were derived from USGS regression equations found at https://pubs.usgs.gov/sir/2010/5035/sir2010-5035_text.pdf.'\n",
    "tags = 'high,flow,magnitude,national,water,model,nwm,hawaii,srf,hi'\n",
    "credits = 'National Water Model, NOAA/NWS National Water Center'\n",
    "egis_server = 'server'\n",
    "egis_folder = 'nwm'\n",
    "fim_service = False\n",
    "feature_service = False\n",
    "run = True\n",
    "fim_configs = None\n",
    "public_service = True\n",
    "\n",
    "update_service_metadata(service, configuration, summary, description, tags, credits, egis_server, egis_folder, max_flows_sql_name=postprocess_max_flows, service_sql_name=postprocess_service, summary_sql_name=postprocess_summary, fim_service=fim_service, feature_service=feature_service, run=run, fim_configs=fim_configs, public_service=public_service)\n",
    "\n",
    "flow_id = '1'\n",
    "step = 'ingest'\n",
    "file_format = \"common/data/model/com/nwm/prod/nwm.{{datetime:%Y%m%d}}/short_range_hawaii/nwm.t{{datetime:%H}}z.short_range.channel_rt.f{{range:100,4900,100,%05d}}.hawaii.nc\"\n",
    "source_table = None\n",
    "target_table = 'ingest.nwm_channel_rt_srf_hi'\n",
    "target_keys = '(feature_id, streamflow)'\n",
    "file_step = None\n",
    "file_window = None\n",
    "\n",
    "update_service_data_flows(service, flow_id, step, source_table, target_table, target_keys, file_step=file_step, file_window=file_window, file_format=file_format)\n",
    "\n",
    "flow_id = '2'\n",
    "step = 'max_flows'\n",
    "file_format = None\n",
    "source_table = 'ingest.nwm_channel_rt_srf_hi'\n",
    "target_table = 'cache.max_flows_srf_hi'\n",
    "target_keys = '(feature_id, streamflow)'\n",
    "file_step = None\n",
    "file_window = None\n",
    "\n",
    "update_service_data_flows(service, flow_id, step, source_table, target_table, target_keys, file_step=file_step, file_window=file_window, file_format=file_format)"
   ]
  },
  {
   "cell_type": "markdown",
   "id": "2e999ceb",
   "metadata": {},
   "source": [
    "<h3>Short-Range Maximum High Flow Magnitude Puerto Rico/Virgin Islands</h3>"
   ]
  },
  {
   "cell_type": "code",
   "execution_count": 29,
   "id": "e40bf8c7",
   "metadata": {},
   "outputs": [
    {
     "name": "stdout",
     "output_type": "stream",
     "text": [
      "This result object does not return rows. It has been closed automatically.\n",
      "This result object does not return rows. It has been closed automatically.\n",
      "This result object does not return rows. It has been closed automatically.\n",
      "This result object does not return rows. It has been closed automatically.\n",
      "This result object does not return rows. It has been closed automatically.\n",
      "This result object does not return rows. It has been closed automatically.\n"
     ]
    }
   ],
   "source": [
    "service = 'srf_max_high_flow_magnitude_prvi'\n",
    "configuration = 'short_range_puertorico'\n",
    "postprocess_max_flows = 'srf_max_flows_prvi'\n",
    "postprocess_service = 'srf_max_high_flow_magnitude_prvi'\n",
    "postprocess_summary = None\n",
    "summary = 'Short-Range Maximum High Flow Magnitude Puerto Rico/Virgin Islands'\n",
    "description = 'Depicts the magnitude of the peak National Water Model (NWM) streamflow forecast over the next 48 hours where the NWM is signaling high water. This service is derived from the short-range configuration of the NWM over Puerto Rico and the U.S. Virgin Islands. Shown are reaches with peak flow at or above high water thresholds. Reaches are colored by the annual exceedance probability (AEP) of their peak flow. High water thresholds and AEPs were derived from USGS regression equations found at https://pubs.usgs.gov/wri/wri994142/pdf/wri99-4142.pdf.'\n",
    "tags = 'high flow, magnitude, national water model, nwm, puerto rico, virgin islands, srf'\n",
    "credits = 'National Water Model, NOAA/NWS National Water Center'\n",
    "egis_server = 'server'\n",
    "egis_folder = 'nwm'\n",
    "fim_service = False\n",
    "feature_service = False\n",
    "run = True\n",
    "fim_configs = None\n",
    "public_service = True\n",
    "\n",
    "update_service_metadata(service, configuration, summary, description, tags, credits, egis_server, egis_folder, max_flows_sql_name=postprocess_max_flows, service_sql_name=postprocess_service, summary_sql_name=postprocess_summary, fim_service=fim_service, feature_service=feature_service, run=run, fim_configs=fim_configs, public_service=public_service)\n",
    "\n",
    "flow_id = '1'\n",
    "step = 'ingest'\n",
    "file_format = \"common/data/model/com/nwm/prod/nwm.{{datetime:%Y%m%d}}/short_range_puertorico/nwm.t{{datetime:%H}}z.short_range.channel_rt.f{{range:1,49,1,%03d}}.puertorico.nc\"\n",
    "source_table = None\n",
    "target_table = 'ingest.nwm_channel_rt_srf_prvi'\n",
    "target_keys = '(feature_id, streamflow)'\n",
    "file_step = None\n",
    "file_window = None\n",
    "\n",
    "update_service_data_flows(service, flow_id, step, source_table, target_table, target_keys, file_step=file_step, file_window=file_window, file_format=file_format)\n",
    "\n",
    "flow_id = '2'\n",
    "step = 'max_flows'\n",
    "file_format = None\n",
    "source_table = 'ingest.nwm_channel_rt_srf_prvi'\n",
    "target_table = 'cache.max_flows_srf_prvi'\n",
    "target_keys = '(feature_id, streamflow)'\n",
    "file_step = None\n",
    "file_window = None\n",
    "\n",
    "update_service_data_flows(service, flow_id, step, source_table, target_table, target_keys, file_step=file_step, file_window=file_window, file_format=file_format)"
   ]
  },
  {
   "cell_type": "markdown",
   "id": "7f6934b2",
   "metadata": {},
   "source": [
    "<h3>Short-Range Rapid Onset Flooding</h3>"
   ]
  },
  {
   "cell_type": "code",
   "execution_count": 30,
   "id": "1ffdf1df",
   "metadata": {},
   "outputs": [
    {
     "name": "stdout",
     "output_type": "stream",
     "text": [
      "This result object does not return rows. It has been closed automatically.\n",
      "This result object does not return rows. It has been closed automatically.\n",
      "This result object does not return rows. It has been closed automatically.\n",
      "This result object does not return rows. It has been closed automatically.\n"
     ]
    }
   ],
   "source": [
    "service = 'srf_rapid_onset_flooding'\n",
    "configuration = 'short_range'\n",
    "postprocess_max_flows = None\n",
    "postprocess_service = 'srf_rapid_onset_flooding'\n",
    "postprocess_summary = 'srf_rapid_onset_flooding_hucs'\n",
    "summary = 'Short-Range Rapid Onset Flooding'\n",
    "description = 'Depicts forecast rapid onset flooding using the short-range configuration of the National Water Model (NWM) over the contiguous U.S. Shown are reaches (stream order 4 and below) with a forecast flow increase of 100% or greater within an hour, and which are expected to be at or above the high water threshold within 6 hours of that increase. Also shown are USGS HUC10 polygons symbolized by the percentage of NWM waterway length (within each HUC10) that is expected to meet the previously mentioned criteria. High water thresholds (regionally varied) were derived using the 40-year NWM v2.1 reanalysis simulation.'\n",
    "tags = 'short, range, forecast, streamflow, rapid, onset, flood, national, water, model, nwm'\n",
    "credits = 'National Water Model, NOAA/NWS National Water Center'\n",
    "egis_server = 'server'\n",
    "egis_folder = 'nwm'\n",
    "fim_service = False\n",
    "feature_service = False\n",
    "run = True\n",
    "fim_configs = None\n",
    "public_service = True\n",
    "\n",
    "update_service_metadata(service, configuration, summary, description, tags, credits, egis_server, egis_folder, max_flows_sql_name=postprocess_max_flows, service_sql_name=postprocess_service, summary_sql_name=postprocess_summary, fim_service=fim_service, feature_service=feature_service, run=run, fim_configs=fim_configs, public_service=public_service)\n",
    "\n",
    "flow_id = '1'\n",
    "step = 'ingest'\n",
    "file_format = \"common/data/model/com/nwm/prod/nwm.{{datetime:%Y%m%d}}/short_range/nwm.t{{datetime:%H}}z.short_range.channel_rt.f{{range:1,19,1,%03d}}.conus.nc\"\n",
    "source_table = None\n",
    "target_table = 'ingest.nwm_channel_rt_srf'\n",
    "target_keys = '(feature_id, streamflow)'\n",
    "file_step = None\n",
    "file_window = None\n",
    "\n",
    "update_service_data_flows(service, flow_id, step, source_table, target_table, target_keys, file_step=file_step, file_window=file_window, file_format=file_format)"
   ]
  },
  {
   "cell_type": "markdown",
   "id": "c00c4f4f",
   "metadata": {},
   "source": [
    "<h3>Short-Range Rapid Onset Flooding Probability Forecast</h3>"
   ]
  },
  {
   "cell_type": "code",
   "execution_count": 31,
   "id": "a057a4d3",
   "metadata": {},
   "outputs": [
    {
     "name": "stdout",
     "output_type": "stream",
     "text": [
      "This result object does not return rows. It has been closed automatically.\n",
      "This result object does not return rows. It has been closed automatically.\n",
      "This result object does not return rows. It has been closed automatically.\n",
      "This result object does not return rows. It has been closed automatically.\n",
      "This result object does not return rows. It has been closed automatically.\n",
      "This result object does not return rows. It has been closed automatically.\n",
      "This result object does not return rows. It has been closed automatically.\n",
      "This result object does not return rows. It has been closed automatically.\n",
      "This result object does not return rows. It has been closed automatically.\n",
      "This result object does not return rows. It has been closed automatically.\n",
      "This result object does not return rows. It has been closed automatically.\n",
      "This result object does not return rows. It has been closed automatically.\n",
      "This result object does not return rows. It has been closed automatically.\n",
      "This result object does not return rows. It has been closed automatically.\n",
      "This result object does not return rows. It has been closed automatically.\n",
      "This result object does not return rows. It has been closed automatically.\n"
     ]
    }
   ],
   "source": [
    "service = 'srf_rapid_onset_flooding_probability'\n",
    "configuration = 'short_range'\n",
    "postprocess_max_flows = None\n",
    "postprocess_service = None\n",
    "postprocess_summary = None\n",
    "summary = 'Short-Range Rapid Onset Flooding Probability Forecast'\n",
    "description = 'Depicts the probability of forecast rapid onset flooding over the next 18 hours using a time-lagged ensemble from the short-range configuration of the National Water Model (NWM) over the contiguous U.S. Shown are reaches (stream order 4 and below) that are expected to meet rapid onset flooding criteria (flow increase of 100% or greater within one hour and high water threshold conditions within 6 hours) using the most recent 7 forecasts. Reaches are colored by the probability that they will meet or exceed rapid onset conditions within hours 1-6, 7-12, and 1-12. Probabilities are computed as the % agreement across the 7 ensemble members that a given reach will meet rapid onset criteria at some point during the time period of interest. Hotspots show the average 1-12 hour rapid onset flooding probability, weighted by reach length, for USGS HUC10 basins with greater than 10% of NWM feature length meeting rapid onset criteria in the next 12 hours. High water thresholds (regionally varied) were derived using the 40-year NWM v2.1 reanalysis simulation.'\n",
    "tags = 'short,range,forecast,streamflow,rapid,onset,flood,probability,national,water,model,nwm'\n",
    "credits = 'National Water Model, NOAA/NWS National Water Center'\n",
    "egis_server = 'server'\n",
    "egis_folder = 'nwm'\n",
    "fim_service = False\n",
    "feature_service = True\n",
    "run = False\n",
    "fim_configs = None\n",
    "public_service = True\n",
    "\n",
    "update_service_metadata(service, configuration, summary, description, tags, credits, egis_server, egis_folder, max_flows_sql_name=postprocess_max_flows, service_sql_name=postprocess_service, summary_sql_name=postprocess_summary, fim_service=fim_service, feature_service=feature_service, run=run, fim_configs=fim_configs, public_service=public_service)\n",
    "\n",
    "flow_id = '1'\n",
    "step = 'ingest'\n",
    "file_format = \"common/data/model/com/nwm/prod/nwm.{{datetime:%Y%m%d}}/short_range/nwm.t{{datetime:%H}}z.short_range.channel_rt.f{{range:1,19,1,%03d}}.conus.nc\"\n",
    "source_table = None\n",
    "target_table = 'ingest.nwm_channel_rt_srf'\n",
    "target_keys = '(feature_id, streamflow)'\n",
    "file_step = None\n",
    "file_window = None\n",
    "\n",
    "update_service_data_flows(service, flow_id, step, source_table, target_table, target_keys, file_step=file_step, file_window=file_window, file_format=file_format)\n",
    "\n",
    "flow_id = '2'\n",
    "step = 'ingest'\n",
    "file_format = \"common/data/model/com/nwm/prod/nwm.{{datetime:reftime-1H, %Y%m%d}}/short_range/nwm.t{{datetime:reftime-1H, %H}}z.short_range.channel_rt.f{{range:1,19,1,%03d}}.conus.nc\"\n",
    "source_table = None\n",
    "target_table = 'ingest.nwm_channel_rt_srf_past_1h'\n",
    "target_keys = '(feature_id, streamflow)'\n",
    "file_step = None\n",
    "file_window = None\n",
    "\n",
    "update_service_data_flows(service, flow_id, step, source_table, target_table, target_keys, file_step=file_step, file_window=file_window, file_format=file_format)\n",
    "\n",
    "flow_id = '3'\n",
    "step = 'ingest'\n",
    "file_format = \"common/data/model/com/nwm/prod/nwm.{{datetime:reftime-2H, %Y%m%d}}/short_range/nwm.t{{datetime:reftime-2H, %H}}z.short_range.channel_rt.f{{range:1,19,1,%03d}}.conus.nc\"\n",
    "source_table = None\n",
    "target_table = 'ingest.nwm_channel_rt_srf_past_2h'\n",
    "target_keys = '(feature_id, streamflow)'\n",
    "file_step = None\n",
    "file_window = None\n",
    "\n",
    "update_service_data_flows(service, flow_id, step, source_table, target_table, target_keys, file_step=file_step, file_window=file_window, file_format=file_format)\n",
    "\n",
    "flow_id = '4'\n",
    "step = 'ingest'\n",
    "file_format = \"common/data/model/com/nwm/prod/nwm.{{datetime:reftime-3H, %Y%m%d}}/short_range/nwm.t{{datetime:reftime-3H, %H}}z.short_range.channel_rt.f{{range:1,19,1,%03d}}.conus.nc\"\n",
    "source_table = None\n",
    "target_table = 'ingest.nwm_channel_rt_srf_past_3h'\n",
    "target_keys = '(feature_id, streamflow)'\n",
    "file_step = None\n",
    "file_window = None\n",
    "\n",
    "update_service_data_flows(service, flow_id, step, source_table, target_table, target_keys, file_step=file_step, file_window=file_window, file_format=file_format)\n",
    "\n",
    "flow_id = '5'\n",
    "step = 'ingest'\n",
    "file_format = \"common/data/model/com/nwm/prod/nwm.{{datetime:reftime-4H, %Y%m%d}}/short_range/nwm.t{{datetime:reftime-4H, %H}}z.short_range.channel_rt.f{{range:1,19,1,%03d}}.conus.nc\"\n",
    "source_table = None\n",
    "target_table = 'ingest.nwm_channel_rt_srf_past_4h'\n",
    "target_keys = '(feature_id, streamflow)'\n",
    "file_step = None\n",
    "file_window = None\n",
    "\n",
    "update_service_data_flows(service, flow_id, step, source_table, target_table, target_keys, file_step=file_step, file_window=file_window, file_format=file_format)\n",
    "\n",
    "flow_id = '6'\n",
    "step = 'ingest'\n",
    "file_format = \"common/data/model/com/nwm/prod/nwm.{{datetime:reftime-5H, %Y%m%d}}/short_range/nwm.t{{datetime:reftime-5H, %H}}z.short_range.channel_rt.f{{range:1,19,1,%03d}}.conus.nc\"\n",
    "source_table = None\n",
    "target_table = 'ingest.nwm_channel_rt_srf_past_5h'\n",
    "target_keys = '(feature_id, streamflow)'\n",
    "file_step = None\n",
    "file_window = None\n",
    "\n",
    "update_service_data_flows(service, flow_id, step, source_table, target_table, target_keys, file_step=file_step, file_window=file_window, file_format=file_format)\n",
    "\n",
    "flow_id = '7'\n",
    "step = 'ingest'\n",
    "file_format = \"common/data/model/com/nwm/prod/nwm.{{datetime:reftime-6H, %Y%m%d}}/short_range/nwm.t{{datetime:reftime-6H, %H}}z.short_range.channel_rt.f{{range:1,19,1,%03d}}.conus.nc\"\n",
    "source_table = None\n",
    "target_table = 'ingest.nwm_channel_rt_srf_past_6h'\n",
    "target_keys = '(feature_id, streamflow)'\n",
    "file_step = None\n",
    "file_window = None\n",
    "\n",
    "update_service_data_flows(service, flow_id, step, source_table, target_table, target_keys, file_step=file_step, file_window=file_window, file_format=file_format)"
   ]
  },
  {
   "cell_type": "markdown",
   "id": "75e6b414",
   "metadata": {},
   "source": [
    "<h3>Short-Range Rate of Change</h3>"
   ]
  },
  {
   "cell_type": "code",
   "execution_count": 18,
   "id": "eff11341",
   "metadata": {},
   "outputs": [
    {
     "name": "stdout",
     "output_type": "stream",
     "text": [
      "This result object does not return rows. It has been closed automatically.\n",
      "This result object does not return rows. It has been closed automatically.\n",
      "This result object does not return rows. It has been closed automatically.\n",
      "This result object does not return rows. It has been closed automatically.\n"
     ]
    }
   ],
   "source": [
    "service = 'srf_rate_of_change'\n",
    "configuration = 'short_range'\n",
    "postprocess_max_flows = None\n",
    "postprocess_service = 'srf_rate_of_change'\n",
    "postprocess_summary = None\n",
    "summary = 'NWM 18-Hr Streamflow Rate of Change Forecast'\n",
    "description = 'Depicts expected change in discharge derived from the operational National Water Model (NWM) (v2.1) short-range forecast. Change is computed between the current streamflow and that expected over the next 18 hours at 3-hour intervals, and is only displayed for reaches that are expected to have flow at or above their high water threshold. High water thresholds (regionally varied) and AEPs were derived using the 40-year NWM v2.1 reanalysis simulation.'\n",
    "tags = 'short,range,forecast,streamflow,rate,change,national,water,model,nwm'\n",
    "credits = 'National Water Model, NOAA/NWS National Water Center'\n",
    "egis_server = 'server'\n",
    "egis_folder = 'nwm'\n",
    "fim_service = False\n",
    "feature_service = False\n",
    "run = False\n",
    "fim_configs = None\n",
    "public_service = False\n",
    "\n",
    "update_service_metadata(service, configuration, summary, description, tags, credits, egis_server, egis_folder, max_flows_sql_name=postprocess_max_flows, service_sql_name=postprocess_service, summary_sql_name=postprocess_summary, fim_service=fim_service, feature_service=feature_service, run=run, fim_configs=fim_configs, public_service=public_service)\n",
    "\n",
    "flow_id = '1'\n",
    "step = 'ingest'\n",
    "file_format = \"common/data/model/com/nwm/prod/nwm.{{datetime:%Y%m%d}}/short_range/nwm.t{{datetime:%H}}z.short_range.channel_rt.f{{range:1,19,1,%03d}}.conus.nc\"\n",
    "source_table = None\n",
    "target_table = 'ingest.nwm_channel_rt_srf'\n",
    "target_keys = '(feature_id, streamflow)'\n",
    "file_step = None\n",
    "file_window = None\n",
    "\n",
    "update_service_data_flows(service, flow_id, step, source_table, target_table, target_keys, file_step=file_step, file_window=file_window, file_format=file_format)"
   ]
  },
  {
   "cell_type": "markdown",
   "id": "0263828c",
   "metadata": {},
   "source": [
    "<h2><b>Raster Services</b></h2>"
   ]
  },
  {
   "cell_type": "markdown",
   "id": "95eaf1c8",
   "metadata": {},
   "source": [
    "<h3>Past 72-Hour Accumulated Precipitation</h3>"
   ]
  },
  {
   "cell_type": "code",
   "execution_count": 19,
   "id": "61c42eb8",
   "metadata": {},
   "outputs": [
    {
     "name": "stdout",
     "output_type": "stream",
     "text": [
      "This result object does not return rows. It has been closed automatically.\n",
      "This result object does not return rows. It has been closed automatically.\n",
      "This result object does not return rows. It has been closed automatically.\n",
      "This result object does not return rows. It has been closed automatically.\n"
     ]
    }
   ],
   "source": [
    "service = 'ana_72hr_accum_precip'\n",
    "configuration = 'forcing_analysis_assim'\n",
    "postprocess_max_flows = None\n",
    "postprocess_service = 'raster_metadata'\n",
    "postprocess_summary = None\n",
    "summary = 'MRMS Past 72-Hour Accumulated Precipitation'\n",
    "description = 'Depicts accumulated precipitation totals over the past 72 hours derived from the MRMS forcing for the operational National Water Model (v2.1) analysis and assimilation.'\n",
    "tags = 'mrms,accumulated,precipitation,national,water,model,nwm'\n",
    "credits = 'National Water Model, NOAA/NWS National Water Center'\n",
    "egis_server = 'image'\n",
    "egis_folder = 'nwm'\n",
    "fim_service = False\n",
    "feature_service = False\n",
    "run = False\n",
    "fim_configs = None\n",
    "public_service = False\n",
    "\n",
    "update_service_metadata(service, configuration, summary, description, tags, credits, egis_server, egis_folder, max_flows_sql_name=postprocess_max_flows, service_sql_name=postprocess_service, summary_sql_name=postprocess_summary, fim_service=fim_service, feature_service=feature_service, run=run, fim_configs=fim_configs, public_service=public_service)\n",
    "\n",
    "flow_id = '1'\n",
    "step = 'ingest'\n",
    "file_format = 'common/data/model/com/nwm/prod/nwm.{{datetime:%Y%m%d}}/forcing_analysis_assim/nwm.t{{datetime:%H}}z.analysis_assim.forcing.tm00.conus.nc'\n",
    "source_table = None\n",
    "target_table = None\n",
    "target_keys = None\n",
    "file_step = '1H'\n",
    "file_window = 'P3D'\n",
    "\n",
    "update_service_data_flows(service, flow_id, step, source_table, target_table, target_keys, file_step=file_step, file_window=file_window, file_format=file_format)"
   ]
  },
  {
   "cell_type": "markdown",
   "id": "18407e2a",
   "metadata": {},
   "source": [
    "<h3>Past 72-Hour Accumulated Precipitation - Hawaii</h3>"
   ]
  },
  {
   "cell_type": "code",
   "execution_count": 20,
   "id": "1b4998b0",
   "metadata": {},
   "outputs": [
    {
     "name": "stdout",
     "output_type": "stream",
     "text": [
      "This result object does not return rows. It has been closed automatically.\n",
      "This result object does not return rows. It has been closed automatically.\n",
      "This result object does not return rows. It has been closed automatically.\n",
      "This result object does not return rows. It has been closed automatically.\n"
     ]
    }
   ],
   "source": [
    "service = 'ana_72hr_accum_precip_hi'\n",
    "configuration = 'forcing_analysis_assim_hawaii'\n",
    "postprocess_max_flows = None\n",
    "postprocess_service = 'raster_metadata'\n",
    "postprocess_summary = None\n",
    "summary = 'MRMS Past 72-Hour Accumulated Precipitation - Hawaii'\n",
    "description = ''\n",
    "tags = 'mrms,accumulated,precipitation,national,water,model,nwm,hawaii,hi'\n",
    "credits = 'National Water Model, NOAA/NWS National Water Center'\n",
    "egis_server = 'image'\n",
    "egis_folder = 'nwm'\n",
    "fim_service = False\n",
    "feature_service = False\n",
    "run = False\n",
    "fim_configs = None\n",
    "public_service = False\n",
    "\n",
    "update_service_metadata(service, configuration, summary, description, tags, credits, egis_server, egis_folder, max_flows_sql_name=postprocess_max_flows, service_sql_name=postprocess_service, summary_sql_name=postprocess_summary, fim_service=fim_service, feature_service=feature_service, run=run, fim_configs=fim_configs, public_service=public_service)\n",
    "\n",
    "flow_id = '1'\n",
    "step = 'ingest'\n",
    "file_format = 'common/data/model/com/nwm/prod/nwm.{{datetime:%Y%m%d}}/forcing_analysis_assim_hawaii/nwm.t{{datetime:%H}}z.analysis_assim.forcing.tm00.hawaii.nc'\n",
    "source_table = None\n",
    "target_table = None\n",
    "target_keys = None\n",
    "file_step = '1H'\n",
    "file_window = 'P3D'\n",
    "\n",
    "update_service_data_flows(service, flow_id, step, source_table, target_table, target_keys, file_step=file_step, file_window=file_window, file_format=file_format)"
   ]
  },
  {
   "cell_type": "markdown",
   "id": "b3f7ec08",
   "metadata": {},
   "source": [
    "<h3>Past 72-Hour Accumulated Precipitation - PR/VI</h3>"
   ]
  },
  {
   "cell_type": "code",
   "execution_count": 22,
   "id": "8c8df78a",
   "metadata": {},
   "outputs": [
    {
     "name": "stdout",
     "output_type": "stream",
     "text": [
      "This result object does not return rows. It has been closed automatically.\n",
      "This result object does not return rows. It has been closed automatically.\n",
      "This result object does not return rows. It has been closed automatically.\n",
      "This result object does not return rows. It has been closed automatically.\n"
     ]
    }
   ],
   "source": [
    "service = 'ana_72hr_accum_precip_prvi'\n",
    "configuration = 'forcing_analysis_assim_puertorico'\n",
    "postprocess_max_flows = None\n",
    "postprocess_service = 'raster_metadata'\n",
    "postprocess_summary = None\n",
    "summary = 'MRMS Past 72-Hour Accumulated Precipitation - PR & VI'\n",
    "description = ''\n",
    "tags = 'mrms,accumulated,precipitation,national,water,model,nwm,puerto,rico,virgin,islands,prvi'\n",
    "credits = 'National Water Model, NOAA/NWS National Water Center'\n",
    "egis_server = 'image'\n",
    "egis_folder = 'nwm'\n",
    "fim_service = False\n",
    "feature_service = False\n",
    "run = False\n",
    "fim_configs = None\n",
    "public_service = False\n",
    "\n",
    "update_service_metadata(service, configuration, summary, description, tags, credits, egis_server, egis_folder, max_flows_sql_name=postprocess_max_flows, service_sql_name=postprocess_service, summary_sql_name=postprocess_summary, fim_service=fim_service, feature_service=feature_service, run=run, fim_configs=fim_configs, public_service=public_service)\n",
    "\n",
    "flow_id = '1'\n",
    "step = 'ingest'\n",
    "file_format = 'common/data/model/com/nwm/prod/nwm.{{datetime:%Y%m%d}}/forcing_analysis_assim_puertorico/nwm.t{{datetime:%H}}z.analysis_assim.forcing.tm00.puertorico.nc'\n",
    "source_table = None\n",
    "target_table = None\n",
    "target_keys = None\n",
    "file_step = '1H'\n",
    "file_window = 'P3D'\n",
    "\n",
    "update_service_data_flows(service, flow_id, step, source_table, target_table, target_keys, file_step=file_step, file_window=file_window, file_format=file_format)"
   ]
  },
  {
   "cell_type": "markdown",
   "id": "d293c72c",
   "metadata": {},
   "source": [
    "<h3>Medium-Range Accumulated Precipitation</h3>"
   ]
  },
  {
   "cell_type": "code",
   "execution_count": 23,
   "id": "e14b4597",
   "metadata": {},
   "outputs": [
    {
     "name": "stdout",
     "output_type": "stream",
     "text": [
      "This result object does not return rows. It has been closed automatically.\n",
      "This result object does not return rows. It has been closed automatically.\n",
      "This result object does not return rows. It has been closed automatically.\n",
      "This result object does not return rows. It has been closed automatically.\n"
     ]
    }
   ],
   "source": [
    "service = 'mrf_accum_precip'\n",
    "configuration = 'forcing_medium_range'\n",
    "postprocess_max_flows = None\n",
    "postprocess_service = 'raster_metadata'\n",
    "postprocess_summary = None\n",
    "summary = 'Medium-Range Accumulated Precipitation Forecast'\n",
    "description = 'Depicts expected accumulated precipitation totals over the next 10 days derived from the GFS forcing for the operational National Water Model (v2.2) medium-range forecast. Data for each interval can be seen by using a filter to select the name of the desired layer. Updated every 6 hours.'\n",
    "tags = 'streamflow,national,water,model,nwm'\n",
    "credits = 'National Water Model, NOAA/NWS National Water Center'\n",
    "egis_server = 'image'\n",
    "egis_folder = 'nwm'\n",
    "fim_service = False\n",
    "feature_service = False\n",
    "run = False\n",
    "fim_configs = None\n",
    "public_service = False\n",
    "\n",
    "update_service_metadata(service, configuration, summary, description, tags, credits, egis_server, egis_folder, max_flows_sql_name=postprocess_max_flows, service_sql_name=postprocess_service, summary_sql_name=postprocess_summary, fim_service=fim_service, feature_service=feature_service, run=run, fim_configs=fim_configs, public_service=public_service)\n",
    "\n",
    "flow_id = '1'\n",
    "step = 'ingest'\n",
    "file_format = 'common/data/model/com/nwm/prod/nwm.{{datetime:%Y%m%d}}/forcing_medium_range/nwm.t{{datetime:%H}}z.medium_range.forcing.f{{range:1,241,1,%03d}}.conus.nc'\n",
    "source_table = None\n",
    "target_table = None\n",
    "target_keys = None\n",
    "file_step = None\n",
    "file_window = None\n",
    "\n",
    "update_service_data_flows(service, flow_id, step, source_table, target_table, target_keys, file_step=file_step, file_window=file_window, file_format=file_format)"
   ]
  },
  {
   "cell_type": "markdown",
   "id": "9ffb4ede",
   "metadata": {},
   "source": [
    "<h3>Short-Range Accumulated Precipitation</h3>"
   ]
  },
  {
   "cell_type": "code",
   "execution_count": 24,
   "id": "2b6bea3e",
   "metadata": {},
   "outputs": [
    {
     "name": "stdout",
     "output_type": "stream",
     "text": [
      "This result object does not return rows. It has been closed automatically.\n",
      "This result object does not return rows. It has been closed automatically.\n",
      "This result object does not return rows. It has been closed automatically.\n",
      "This result object does not return rows. It has been closed automatically.\n"
     ]
    }
   ],
   "source": [
    "service = 'srf_accum_precip'\n",
    "configuration = 'forcing_short_range'\n",
    "postprocess_max_flows = None\n",
    "postprocess_service = 'raster_metadata'\n",
    "postprocess_summary = None\n",
    "summary = 'Short-Range Accumulated Precipitation Forecast'\n",
    "description = 'Depicts expected accumulated precipitation totals over the next 18 hours derived from the HRRR forcing for the operational National Water Model (v2.1) short-range forecast. Data for each interval can be seen by using a filter to select the name of the desired layer. Updated hourly.'\n",
    "tags = 'streamflow,national,water,model,nwm'\n",
    "credits = 'National Water Model, NOAA/NWS National Water Center'\n",
    "egis_server = 'image'\n",
    "egis_folder = 'nwm'\n",
    "fim_service = False\n",
    "feature_service = False\n",
    "run = False\n",
    "fim_configs = None\n",
    "public_service = False\n",
    "\n",
    "update_service_metadata(service, configuration, summary, description, tags, credits, egis_server, egis_folder, max_flows_sql_name=postprocess_max_flows, service_sql_name=postprocess_service, summary_sql_name=postprocess_summary, fim_service=fim_service, feature_service=feature_service, run=run, fim_configs=fim_configs, public_service=public_service)\n",
    "\n",
    "flow_id = '1'\n",
    "step = 'ingest'\n",
    "file_format = 'common/data/model/com/nwm/prod/nwm.{{datetime:%Y%m%d}}/forcing_short_range/nwm.t{{datetime:%H}}z.short_range.forcing.f{{range:1,19,1,%03d}}.conus.nc'\n",
    "source_table = None\n",
    "target_table = None\n",
    "target_keys = None\n",
    "file_step = None\n",
    "file_window = None\n",
    "\n",
    "update_service_data_flows(service, flow_id, step, source_table, target_table, target_keys, file_step=file_step, file_window=file_window, file_format=file_format)"
   ]
  },
  {
   "cell_type": "markdown",
   "id": "14fdd198",
   "metadata": {},
   "source": [
    "<h3>Short-Range Accumulated Precipitation Hawaii</h3>"
   ]
  },
  {
   "cell_type": "code",
   "execution_count": 25,
   "id": "c7e57e47",
   "metadata": {},
   "outputs": [
    {
     "name": "stdout",
     "output_type": "stream",
     "text": [
      "This result object does not return rows. It has been closed automatically.\n",
      "This result object does not return rows. It has been closed automatically.\n",
      "This result object does not return rows. It has been closed automatically.\n",
      "This result object does not return rows. It has been closed automatically.\n"
     ]
    }
   ],
   "source": [
    "service = 'srf_accum_precip_hi'\n",
    "configuration = 'forcing_short_range_hawaii'\n",
    "postprocess_max_flows = None\n",
    "postprocess_service = 'raster_metadata'\n",
    "postprocess_summary = None\n",
    "summary = 'Short-Range Accumulated Precipitation Forecast Hawaii'\n",
    "description = 'Depicts expected accumulated precipitation totals over the next 48 hours derived from the NAM-Nest with HIRESW WRF-ARW forcing for the operational National Water Model (v2.1) short-range forecast for the state of Hawaii. Data for each interval can be seen by using a filter to select the name of the desired layer. Updated every 12 hours.'\n",
    "tags = 'streamflow,national,water,model,nwm'\n",
    "credits = 'National Water Model, NOAA/NWS National Water Center'\n",
    "egis_server = 'image'\n",
    "egis_folder = 'nwm'\n",
    "fim_service = False\n",
    "feature_service = False\n",
    "run = False\n",
    "fim_configs = None\n",
    "public_service = False\n",
    "\n",
    "update_service_metadata(service, configuration, summary, description, tags, credits, egis_server, egis_folder, max_flows_sql_name=postprocess_max_flows, service_sql_name=postprocess_service, summary_sql_name=postprocess_summary, fim_service=fim_service, feature_service=feature_service, run=run, fim_configs=fim_configs, public_service=public_service)\n",
    "\n",
    "flow_id = '1'\n",
    "step = 'ingest'\n",
    "file_format = 'common/data/model/com/nwm/prod/nwm.{{datetime:%Y%m%d}}/forcing_short_range_hawaii/nwm.t{{datetime:%H}}z.short_range.forcing.f{{range:1,49,1,%03d}}.hawaii.nc'\n",
    "source_table = None\n",
    "target_table = None\n",
    "target_keys = None\n",
    "file_step = None\n",
    "file_window = None\n",
    "\n",
    "update_service_data_flows(service, flow_id, step, source_table, target_table, target_keys, file_step=file_step, file_window=file_window, file_format=file_format)"
   ]
  },
  {
   "cell_type": "markdown",
   "id": "0f3889c4",
   "metadata": {},
   "source": [
    "<h3>Short-Range Accumulated Precipitation Puerto Rico</h3>"
   ]
  },
  {
   "cell_type": "code",
   "execution_count": 26,
   "id": "dd7b884f",
   "metadata": {},
   "outputs": [
    {
     "name": "stdout",
     "output_type": "stream",
     "text": [
      "This result object does not return rows. It has been closed automatically.\n",
      "This result object does not return rows. It has been closed automatically.\n",
      "This result object does not return rows. It has been closed automatically.\n",
      "This result object does not return rows. It has been closed automatically.\n"
     ]
    }
   ],
   "source": [
    "service = 'srf_accum_precip_prvi'\n",
    "configuration = 'forcing_short_range_puertorico'\n",
    "postprocess_max_flows = None\n",
    "postprocess_service = 'raster_metadata'\n",
    "postprocess_summary = None\n",
    "summary = 'Short-Range Accumulated Precipitation Forecast Puerto Rico and Virgin Islands'\n",
    "description = 'Depicts expected accumulated precipitation totals over the next 48 hours derived from the NAM-Nest with HIRESW WRF-ARW forcing for the operational National Water Model (v2.1) short-range forecast for Puerto Rico and the U.S. Virgin Islands. Data for each interval can be seen by using a filter to select the name of the desired layer. Updated every 12 hours.'\n",
    "tags = 'streamflow,national,water,model,nwm'\n",
    "credits = 'National Water Model, NOAA/NWS National Water Center'\n",
    "egis_server = 'image'\n",
    "egis_folder = 'nwm'\n",
    "fim_service = False\n",
    "feature_service = False\n",
    "run = False\n",
    "fim_configs = None\n",
    "public_service = False\n",
    "\n",
    "update_service_metadata(service, configuration, summary, description, tags, credits, egis_server, egis_folder, max_flows_sql_name=postprocess_max_flows, service_sql_name=postprocess_service, summary_sql_name=postprocess_summary, fim_service=fim_service, feature_service=feature_service, run=run, fim_configs=fim_configs, public_service=public_service)\n",
    "\n",
    "service = 'srf_accum_precip_prvi'\n",
    "flow_id = '1'\n",
    "step = 'ingest'\n",
    "file_format = 'common/data/model/com/nwm/prod/nwm.{{datetime:%Y%m%d}}/forcing_short_range_puertorico/nwm.t{{datetime:%H}}z.short_range.forcing.f{{range:1,49,1,%03d}}.puertorico.nc'\n",
    "source_table = None\n",
    "target_table = None\n",
    "target_keys = None\n",
    "file_step = None\n",
    "file_window = None\n",
    "\n",
    "update_service_data_flows(service, flow_id, step, source_table, target_table, target_keys, file_step=file_step, file_window=file_window, file_format=file_format)"
   ]
  },
  {
   "cell_type": "markdown",
   "id": "ee509074",
   "metadata": {},
   "source": [
    "<h2><b>Forecast FIM Services</b></h2>"
   ]
  },
  {
   "cell_type": "markdown",
   "id": "5407c311",
   "metadata": {},
   "source": [
    "<h3>AnA Inundation</h3>"
   ]
  },
  {
   "cell_type": "code",
   "execution_count": 6,
   "id": "4ae0e84b",
   "metadata": {},
   "outputs": [
    {
     "name": "stdout",
     "output_type": "stream",
     "text": [
      "This result object does not return rows. It has been closed automatically.\n",
      "This result object does not return rows. It has been closed automatically.\n",
      "This result object does not return rows. It has been closed automatically.\n",
      "This result object does not return rows. It has been closed automatically.\n",
      "This result object does not return rows. It has been closed automatically.\n",
      "This result object does not return rows. It has been closed automatically.\n",
      "This result object does not return rows. It has been closed automatically.\n",
      "This result object does not return rows. It has been closed automatically.\n"
     ]
    }
   ],
   "source": [
    "service = 'ana_inundation'\n",
    "configuration = 'analysis_assim'\n",
    "postprocess_max_flows = 'ana_max_flows'\n",
    "postprocess_service = 'ana_inundation'\n",
    "postprocess_summary = None\n",
    "summary = 'Analysis and Assimilation Inundation'\n",
    "description = 'Depicts the inundation extent of the National Water Model (NWM) streamflow forecast where the NWM is signaling high water. This service is derived from the analysis and assimilation configuration of the NWM over the contiguous U.S. Shown are reaches with flow at or above high water thresholds. High water thresholds (regionally varied) and AEPs were derived using the 40-year NWM v2.1 reanalysis simulation.'\n",
    "tags = 'national,water,model,nwm,hand,height,above,nearest,drainage,analysis,assimilation,ana'\n",
    "credits = 'National Water Model, NOAA/NWS National Water Center'\n",
    "egis_server = 'server'\n",
    "egis_folder = 'nwm'\n",
    "fim_service = True\n",
    "feature_service = True\n",
    "run = True\n",
    "fim_configs = ['ana_inundation']\n",
    "public_service = False\n",
    "\n",
    "update_service_metadata(service, configuration, summary, description, tags, credits, egis_server, egis_folder, max_flows_sql_name=postprocess_max_flows, service_sql_name=postprocess_service, summary_sql_name=postprocess_summary, fim_service=fim_service, feature_service=feature_service, run=run, fim_configs=fim_configs, public_service=public_service)\n",
    "\n",
    "flow_id = '1'\n",
    "step = 'ingest'\n",
    "file_format = 'common/data/model/com/nwm/prod/nwm.{{datetime:%Y%m%d}}/analysis_assim/nwm.t{{datetime:%H}}z.analysis_assim.channel_rt.tm00.conus.nc'\n",
    "source_table = None\n",
    "target_table = 'ingest.nwm_channel_rt_ana'\n",
    "target_keys = '(feature_id, streamflow)'\n",
    "file_step = None\n",
    "file_window = None\n",
    "\n",
    "update_service_data_flows(service, flow_id, step, source_table, target_table, target_keys, file_step=file_step, file_window=file_window, file_format=file_format)\n",
    "\n",
    "flow_id = '2'\n",
    "step = 'max_flows'\n",
    "file_format = None\n",
    "source_table = 'ingest.nwm_channel_rt_ana'\n",
    "target_table = 'cache.max_flows_ana'\n",
    "target_keys = '(feature_id, streamflow)'\n",
    "file_step = None\n",
    "file_window = None\n",
    "\n",
    "update_service_data_flows(service, flow_id, step, source_table, target_table, target_keys, file_step=file_step, file_window=file_window, file_format=file_format)\n",
    "\n",
    "flow_id = '3'\n",
    "step = 'fim_prep'\n",
    "file_format = None\n",
    "source_table = 'cache.max_flows_ana'\n",
    "target_table = 'ingest.ana_inundation'\n",
    "target_keys = '(feature_id)'\n",
    "file_step = None\n",
    "file_window = None\n",
    "\n",
    "update_service_data_flows(service, flow_id, step, source_table, target_table, target_keys, file_step=file_step, file_window=file_window, file_format=file_format)"
   ]
  },
  {
   "cell_type": "markdown",
   "id": "cc79b1be",
   "metadata": {},
   "source": [
    "<h3>AnA Inundation Hawaii</h3>"
   ]
  },
  {
   "cell_type": "code",
   "execution_count": 7,
   "id": "40d13750",
   "metadata": {},
   "outputs": [
    {
     "name": "stdout",
     "output_type": "stream",
     "text": [
      "This result object does not return rows. It has been closed automatically.\n",
      "This result object does not return rows. It has been closed automatically.\n",
      "This result object does not return rows. It has been closed automatically.\n",
      "This result object does not return rows. It has been closed automatically.\n",
      "This result object does not return rows. It has been closed automatically.\n",
      "This result object does not return rows. It has been closed automatically.\n",
      "This result object does not return rows. It has been closed automatically.\n",
      "This result object does not return rows. It has been closed automatically.\n"
     ]
    }
   ],
   "source": [
    "service = 'ana_inundation_hi'\n",
    "configuration = 'analysis_assim_hawaii'\n",
    "postprocess_max_flows = 'ana_max_flows_hi'\n",
    "postprocess_service = 'ana_inundation_hi'\n",
    "postprocess_summary = None\n",
    "summary = 'Analysis and Assimilation Inundation Hawaii'\n",
    "description = 'Depicts the inundation extent of the National Water Model (NWM) streamflow forecast where the NWM is signaling high water. This service is derived from the analysis and assimilation configuration of the NWM over Hawaii. Shown are reaches with flow at or above high water thresholds. High water thresholds and AEPs were derived from USGS regression equations found at https://pubs.usgs.gov/sir/2010/5035/sir2010-5035_text.pdf.'\n",
    "tags = 'national,water,model,nwm,hand,height,above,nearest,drainage,analysis,assimilation,ana,hawaii,hi'\n",
    "credits = 'National Water Model, NOAA/NWS National Water Center'\n",
    "egis_server = 'server'\n",
    "egis_folder = 'nwm'\n",
    "fim_service = True\n",
    "feature_service = True\n",
    "run = True\n",
    "fim_configs = ['ana_inundation_hi']\n",
    "public_service = False\n",
    "\n",
    "update_service_metadata(service, configuration, summary, description, tags, credits, egis_server, egis_folder, max_flows_sql_name=postprocess_max_flows, service_sql_name=postprocess_service, summary_sql_name=postprocess_summary, fim_service=fim_service, feature_service=feature_service, run=run, fim_configs=fim_configs, public_service=public_service)\n",
    "\n",
    "flow_id = '1'\n",
    "step = 'ingest'\n",
    "file_format = 'common/data/model/com/nwm/prod/nwm.{{datetime:%Y%m%d}}/analysis_assim_hawaii/nwm.t{{datetime:%H}}z.analysis_assim.channel_rt.tm0000.hawaii.nc'\n",
    "source_table = None\n",
    "target_table = 'ingest.nwm_channel_rt_ana_hi'\n",
    "target_keys = '(feature_id, streamflow)'\n",
    "file_step = None\n",
    "file_window = None\n",
    "\n",
    "update_service_data_flows(service, flow_id, step, source_table, target_table, target_keys, file_step=file_step, file_window=file_window, file_format=file_format)\n",
    "\n",
    "flow_id = '2'\n",
    "step = 'max_flows'\n",
    "file_format = None\n",
    "source_table = 'ingest.nwm_channel_rt_ana_hi'\n",
    "target_table = 'cache.max_flows_ana_hi'\n",
    "target_keys = '(feature_id, streamflow)'\n",
    "file_step = None\n",
    "file_window = None\n",
    "\n",
    "update_service_data_flows(service, flow_id, step, source_table, target_table, target_keys, file_step=file_step, file_window=file_window, file_format=file_format)\n",
    "\n",
    "flow_id = '3'\n",
    "step = 'fim_prep'\n",
    "file_format = None\n",
    "source_table = 'cache.max_flows_ana_hi'\n",
    "target_table = 'ingest.ana_inundation_hi'\n",
    "target_keys = '(feature_id)'\n",
    "file_step = None\n",
    "file_window = None\n",
    "\n",
    "update_service_data_flows(service, flow_id, step, source_table, target_table, target_keys, file_step=file_step, file_window=file_window, file_format=file_format)"
   ]
  },
  {
   "cell_type": "markdown",
   "id": "5a32087c",
   "metadata": {},
   "source": [
    "<h3>AnA Inundation Puerto Rico</h3>"
   ]
  },
  {
   "cell_type": "code",
   "execution_count": 8,
   "id": "0786f0da",
   "metadata": {},
   "outputs": [
    {
     "name": "stdout",
     "output_type": "stream",
     "text": [
      "This result object does not return rows. It has been closed automatically.\n",
      "This result object does not return rows. It has been closed automatically.\n",
      "This result object does not return rows. It has been closed automatically.\n",
      "This result object does not return rows. It has been closed automatically.\n",
      "This result object does not return rows. It has been closed automatically.\n",
      "This result object does not return rows. It has been closed automatically.\n",
      "This result object does not return rows. It has been closed automatically.\n",
      "This result object does not return rows. It has been closed automatically.\n"
     ]
    }
   ],
   "source": [
    "service = 'ana_inundation_prvi'\n",
    "configuration = 'analysis_assim_puertorico'\n",
    "postprocess_max_flows = 'ana_max_flows_prvi'\n",
    "postprocess_service = 'ana_inundation_prvi'\n",
    "postprocess_summary = None\n",
    "summary = 'Analysis and Assimilation Inundation Puerto Rico'\n",
    "description = 'Depicts the inundation extent of the National Water Model (NWM) streamflow forecast where the NWM is signaling high water. This service is derived from the analysis and assimilation configuration of the NWM over Puerto Rico and the U.S. Virgin Islands. Shown are reaches with flow at or above high water thresholds. High water thresholds and AEPs were derived from USGS regression equations found at https://pubs.usgs.gov/wri/wri994142/pdf/wri99-4142.pdf.'\n",
    "tags = 'national,water,model,nwm,hand,height,above,nearest,drainage,analysis,assimilation,ana,puerto,rico,prvi'\n",
    "credits = 'National Water Model, NOAA/NWS National Water Center'\n",
    "egis_server = 'server'\n",
    "egis_folder = 'nwm'\n",
    "fim_service = True\n",
    "feature_service = True\n",
    "run = True\n",
    "fim_configs = ['ana_inundation_prvi']\n",
    "public_service = False\n",
    "\n",
    "update_service_metadata(service, configuration, summary, description, tags, credits, egis_server, egis_folder, max_flows_sql_name=postprocess_max_flows, service_sql_name=postprocess_service, summary_sql_name=postprocess_summary, fim_service=fim_service, feature_service=feature_service, run=run, fim_configs=fim_configs, public_service=public_service)\n",
    "\n",
    "flow_id = '1'\n",
    "step = 'ingest'\n",
    "file_format = 'common/data/model/com/nwm/prod/nwm.{{datetime:%Y%m%d}}/analysis_assim_puertorico/nwm.t{{datetime:%H}}z.analysis_assim.channel_rt.tm00.puertorico.nc'\n",
    "source_table = None\n",
    "target_table = 'ingest.nwm_channel_rt_ana_prvi'\n",
    "target_keys = '(feature_id, streamflow)'\n",
    "file_step = None\n",
    "file_window = None\n",
    "\n",
    "update_service_data_flows(service, flow_id, step, source_table, target_table, target_keys, file_step=file_step, file_window=file_window, file_format=file_format)\n",
    "\n",
    "flow_id = '2'\n",
    "step = 'max_flows'\n",
    "file_format = None\n",
    "source_table = 'ingest.nwm_channel_rt_ana_prvi'\n",
    "target_table = 'cache.max_flows_ana_prvi'\n",
    "target_keys = '(feature_id, streamflow)'\n",
    "file_step = None\n",
    "file_window = None\n",
    "\n",
    "update_service_data_flows(service, flow_id, step, source_table, target_table, target_keys, file_step=file_step, file_window=file_window, file_format=file_format)\n",
    "\n",
    "flow_id = '3'\n",
    "step = 'fim_prep'\n",
    "file_format = None\n",
    "source_table = 'cache.max_flows_ana_prvi'\n",
    "target_table = 'ingest.ana_inundation_prvi'\n",
    "target_keys = '(feature_id)'\n",
    "file_step = None\n",
    "file_window = None\n",
    "\n",
    "update_service_data_flows(service, flow_id, step, source_table, target_table, target_keys, file_step=file_step, file_window=file_window, file_format=file_format)"
   ]
  },
  {
   "cell_type": "markdown",
   "id": "e6cf2b43",
   "metadata": {},
   "source": [
    "<h3>AnA Past 14-Day Inundation</h3>"
   ]
  },
  {
   "cell_type": "code",
   "execution_count": 8,
   "id": "1035d863",
   "metadata": {},
   "outputs": [
    {
     "name": "stdout",
     "output_type": "stream",
     "text": [
      "This result object does not return rows. It has been closed automatically.\n",
      "This result object does not return rows. It has been closed automatically.\n",
      "This result object does not return rows. It has been closed automatically.\n",
      "This result object does not return rows. It has been closed automatically.\n",
      "This result object does not return rows. It has been closed automatically.\n",
      "This result object does not return rows. It has been closed automatically.\n",
      "This result object does not return rows. It has been closed automatically.\n",
      "This result object does not return rows. It has been closed automatically.\n",
      "This result object does not return rows. It has been closed automatically.\n",
      "This result object does not return rows. It has been closed automatically.\n",
      "This result object does not return rows. It has been closed automatically.\n",
      "This result object does not return rows. It has been closed automatically.\n",
      "This result object does not return rows. It has been closed automatically.\n",
      "This result object does not return rows. It has been closed automatically.\n"
     ]
    }
   ],
   "source": [
    "service = 'ana_past_14day_max_inundation'\n",
    "configuration = 'analysis_assim_14day'\n",
    "postprocess_max_flows = \"ana_14day_max_flows\"\n",
    "postprocess_service = \"ana_past_14day_max_inundation\"\n",
    "postprocess_summary = None\n",
    "summary = 'Analysis and Assimilation Past 14 Day Inundation'\n",
    "description = 'Depicts the inundation extent of the peak NWM streamflow analysis over the past 14 days where the National Water Model (NWM) signaled high water. This service is derived from the analysis and assimilation configuration of the NWM over the contiguous U.S. Shown are reaches with flow at or above high water thresholds. High water thresholds (regionally varied) and AEPs were derived using the 40-year NWM v2.1 reanalysis simulation.'\n",
    "tags = 'national,water,model,nwm,hand,height,above,nearest,drainage,analysis,assimilation,ana,14day'\n",
    "credits = 'National Water Model, NOAA/NWS National Water Center'\n",
    "egis_server = 'server'\n",
    "egis_folder = 'nwm'\n",
    "fim_service = True\n",
    "feature_service = True\n",
    "run = True\n",
    "fim_configs = ['ana_past_14day_max_inundation_7d', 'ana_past_14day_max_inundation_14d']\n",
    "public_service = False\n",
    "\n",
    "update_service_metadata(service, configuration, summary, description, tags, credits, egis_server, egis_folder, max_flows_sql_name=postprocess_max_flows, service_sql_name=postprocess_service, summary_sql_name=postprocess_summary, fim_service=fim_service, feature_service=feature_service, run=run, fim_configs=fim_configs, public_service=public_service)\n",
    "\n",
    "flow_id = '1'\n",
    "step = 'ingest'\n",
    "file_format = 'max_flows/analysis_assim/{{datetime:%Y%m%d}}/ana_14day_00_max_flows.nc'\n",
    "source_table = None\n",
    "target_table = 'ingest.nwm_channel_rt_ana_14day_max'\n",
    "target_keys = '(feature_id, streamflow)'\n",
    "file_step = None\n",
    "file_window = None\n",
    "\n",
    "update_service_data_flows(service, flow_id, step, source_table, target_table, target_keys, file_step=file_step, file_window=file_window, file_format=file_format)\n",
    "\n",
    "flow_id = '2'\n",
    "step = 'ingest'\n",
    "file_format = 'max_flows/analysis_assim/{{datetime:%Y%m%d}}/ana_7day_00_max_flows.nc'\n",
    "source_table = None\n",
    "target_table = 'ingest.nwm_channel_rt_ana_7day_max'\n",
    "target_keys = '(feature_id, streamflow)'\n",
    "file_step = None\n",
    "file_window = None\n",
    "\n",
    "update_service_data_flows(service, flow_id, step, source_table, target_table, target_keys, file_step=file_step, file_window=file_window, file_format=file_format)\n",
    "\n",
    "flow_id = '3'\n",
    "step = 'max_flows'\n",
    "file_format = None\n",
    "source_table = 'ingest.nwm_channel_rt_ana_7day_max'\n",
    "target_table = 'cache.max_flows_ana_14day'\n",
    "target_keys = '(feature_id, max_flow_7day_cfs)'\n",
    "file_step = None\n",
    "file_window = None\n",
    "\n",
    "update_service_data_flows(service, flow_id, step, source_table, target_table, target_keys, file_step=file_step, file_window=file_window, file_format=file_format)\n",
    "\n",
    "flow_id = '4'\n",
    "step = 'max_flows'\n",
    "file_format = None\n",
    "source_table = 'ingest.nwm_channel_rt_ana_14day_max'\n",
    "target_table = 'cache.max_flows_ana_14day'\n",
    "target_keys = '(feature_id, max_flow_14day_cfs)'\n",
    "file_step = None\n",
    "file_window = None\n",
    "\n",
    "update_service_data_flows(service, flow_id, step, source_table, target_table, target_keys, file_step=file_step, file_window=file_window, file_format=file_format)\n",
    "\n",
    "flow_id = '5'\n",
    "step = 'fim_prep'\n",
    "file_format = None\n",
    "source_table = 'cache.max_flows_ana_14day'\n",
    "target_table = 'ingest.ana_past_14day_max_inundation_7d'\n",
    "target_keys = '(feature_id)'\n",
    "file_step = None\n",
    "file_window = None\n",
    "\n",
    "update_service_data_flows(service, flow_id, step, source_table, target_table, target_keys, file_step=file_step, file_window=file_window, file_format=file_format)\n",
    "\n",
    "flow_id = '6'\n",
    "step = 'fim_prep'\n",
    "file_format = None\n",
    "source_table = 'cache.max_flows_ana_14day'\n",
    "target_table = 'ingest.ana_past_14day_max_inundation_14d'\n",
    "target_keys = '(feature_id)'\n",
    "file_step = None\n",
    "file_window = None\n",
    "\n",
    "update_service_data_flows(service, flow_id, step, source_table, target_table, target_keys, file_step=file_step, file_window=file_window, file_format=file_format)"
   ]
  },
  {
   "cell_type": "markdown",
   "id": "4c7404e4",
   "metadata": {},
   "source": [
    "<h3>Medium-Range Inundation</h3>"
   ]
  },
  {
   "cell_type": "code",
   "execution_count": 44,
   "id": "26d96c88",
   "metadata": {},
   "outputs": [
    {
     "name": "stdout",
     "output_type": "stream",
     "text": [
      "This result object does not return rows. It has been closed automatically.\n",
      "This result object does not return rows. It has been closed automatically.\n",
      "This result object does not return rows. It has been closed automatically.\n",
      "This result object does not return rows. It has been closed automatically.\n",
      "This result object does not return rows. It has been closed automatically.\n",
      "This result object does not return rows. It has been closed automatically.\n",
      "This result object does not return rows. It has been closed automatically.\n",
      "This result object does not return rows. It has been closed automatically.\n",
      "This result object does not return rows. It has been closed automatically.\n",
      "This result object does not return rows. It has been closed automatically.\n",
      "This result object does not return rows. It has been closed automatically.\n",
      "This result object does not return rows. It has been closed automatically.\n"
     ]
    }
   ],
   "source": [
    "service = 'mrf_max_inundation'\n",
    "configuration = 'medium_range_mem1'\n",
    "postprocess_max_flows = 'mrf_max_flows'\n",
    "postprocess_service = 'mrf_max_inundation'\n",
    "postprocess_summary = None\n",
    "summary = 'Medium-Range Inundation'\n",
    "description = 'Depicts the inundation extent of the peak National Water Model (NWM) streamflow forecast over the next 3, 5, and 10 days where the NWM is signaling high water. This service is derived from the medium-range configuration of the NWM over the contiguous U.S. Shown are reaches with peak flow at or above high water thresholds. High water thresholds (regionally varied) and AEPs were derived using the 40-year NWM v2.1 reanalysis simulation.'\n",
    "tags = 'national,water,model,nwm,hand,height,above,nearest,drainage,medium,range,10day'\n",
    "credits = 'National Water Model, NOAA/NWS National Water Center'\n",
    "egis_server = 'server'\n",
    "egis_folder = 'nwm'\n",
    "fim_service = True\n",
    "feature_service = True\n",
    "run = True\n",
    "fim_configs = ['mrf_max_inundation_3day', 'mrf_max_inundation_5day', 'mrf_max_inundation_10day']\n",
    "public_service = False\n",
    "\n",
    "update_service_metadata(service, configuration, summary, description, tags, credits, egis_server, egis_folder, max_flows_sql_name=postprocess_max_flows, service_sql_name=postprocess_service, summary_sql_name=postprocess_summary, fim_service=fim_service, feature_service=feature_service, run=run, fim_configs=fim_configs, public_service=public_service)\n",
    "\n",
    "flow_id = '1'\n",
    "step = 'ingest'\n",
    "file_format = 'common/data/model/com/nwm/prod/nwm.{{datetime:%Y%m%d}}/medium_range_mem1/nwm.t{{datetime:%H}}z.medium_range.channel_rt_1.f{{range:3,243,3,%03d}}.conus.nc'\n",
    "source_table = None\n",
    "target_table = 'ingest.nwm_channel_rt_mrf_mem1'\n",
    "target_keys = '(feature_id, streamflow)'\n",
    "file_step = None\n",
    "file_window = None\n",
    "\n",
    "update_service_data_flows(service, flow_id, step, source_table, target_table, target_keys, file_step=file_step, file_window=file_window, file_format=file_format)\n",
    "\n",
    "flow_id = '2'\n",
    "step = 'max_flows'\n",
    "file_format = None\n",
    "source_table = 'ingest.nwm_channel_rt_mrf_mem1'\n",
    "target_table = 'cache.max_flows_mrf'\n",
    "target_keys = '(feature_id, streamflow)'\n",
    "file_step = None\n",
    "file_window = None\n",
    "\n",
    "update_service_data_flows(service, flow_id, step, source_table, target_table, target_keys, file_step=file_step, file_window=file_window, file_format=file_format)\n",
    "\n",
    "flow_id = '3'\n",
    "step = 'fim_prep'\n",
    "file_format = None\n",
    "source_table = 'cache.max_flows_mrf'\n",
    "target_table = 'ingest.mrf_max_inundation_3day'\n",
    "target_keys = '(feature_id)'\n",
    "file_step = None\n",
    "file_window = None\n",
    "\n",
    "update_service_data_flows(service, flow_id, step, source_table, target_table, target_keys, file_step=file_step, file_window=file_window, file_format=file_format)\n",
    "\n",
    "flow_id = '4'\n",
    "step = 'fim_prep'\n",
    "file_format = None\n",
    "source_table = 'cache.max_flows_mrf'\n",
    "target_table = 'ingest.mrf_max_inundation_5day'\n",
    "target_keys = '(feature_id)'\n",
    "file_step = None\n",
    "file_window = None\n",
    "\n",
    "update_service_data_flows(service, flow_id, step, source_table, target_table, target_keys, file_step=file_step, file_window=file_window, file_format=file_format)\n",
    "\n",
    "flow_id = '5'\n",
    "step = 'fim_prep'\n",
    "file_format = None\n",
    "source_table = 'cache.max_flows_mrf'\n",
    "target_table = 'ingest.mrf_max_inundation_10day'\n",
    "target_keys = '(feature_id)'\n",
    "file_step = None\n",
    "file_window = None\n",
    "\n",
    "update_service_data_flows(service, flow_id, step, source_table, target_table, target_keys, file_step=file_step, file_window=file_window, file_format=file_format)"
   ]
  },
  {
   "cell_type": "markdown",
   "id": "b6e599eb",
   "metadata": {},
   "source": [
    "<h3>RFC 5-Day Maximum Inundation</h3>"
   ]
  },
  {
   "cell_type": "code",
   "execution_count": 45,
   "id": "1124147b",
   "metadata": {},
   "outputs": [
    {
     "name": "stdout",
     "output_type": "stream",
     "text": [
      "This result object does not return rows. It has been closed automatically.\n",
      "This result object does not return rows. It has been closed automatically.\n",
      "This result object does not return rows. It has been closed automatically.\n",
      "This result object does not return rows. It has been closed automatically.\n",
      "This result object does not return rows. It has been closed automatically.\n",
      "This result object does not return rows. It has been closed automatically.\n"
     ]
    }
   ],
   "source": [
    "service = 'rfc_5day_max_downstream_inundation'\n",
    "configuration = 'replace_route'\n",
    "postprocess_max_flows = None\n",
    "postprocess_service = 'rfc_5day_max_downstream_inundation'\n",
    "postprocess_summary = None\n",
    "summary = 'RFC 5-Day Maximum Inundation'\n",
    "description = 'Depicts maximum inundation extent over the next 5 days derived from the official River Forecast Center (RFC) forecast routed downstream through the National Water Model (NWM) stream network. Maximum streamflows are available downstream of RFC forecast points whose forecast reaches action status or greater.'\n",
    "tags = 'inundation, replace and route, rfc'\n",
    "credits = 'NOAA/NWS National Water Center'\n",
    "egis_server = 'server'\n",
    "egis_folder = 'rfc'\n",
    "fim_service = True\n",
    "feature_service = True\n",
    "run = True\n",
    "fim_configs = ['rfc_5day_max_downstream_inundation']\n",
    "public_service = False\n",
    "\n",
    "update_service_metadata(service, configuration, summary, description, tags, credits, egis_server, egis_folder, max_flows_sql_name=postprocess_max_flows, service_sql_name=postprocess_service, summary_sql_name=postprocess_summary, fim_service=fim_service, feature_service=feature_service, run=run, fim_configs=fim_configs, public_service=public_service)\n",
    "\n",
    "flow_id = '1'\n",
    "step = 'ingest'\n",
    "file_format = 'max_flows/replace_route/{{datetime:%Y%m%d}}/rnr_{{datetime:%H}}_max_flows.csv'\n",
    "source_table = None\n",
    "target_table = 'ingest.rnr_max_flows'\n",
    "target_keys = '(feature_id)'\n",
    "file_step = None\n",
    "file_window = None\n",
    "\n",
    "update_service_data_flows(service, flow_id, step, source_table, target_table, target_keys, file_step=file_step, file_window=file_window, file_format=file_format)\n",
    "\n",
    "flow_id = '2'\n",
    "step = 'fim_prep'\n",
    "file_format = None\n",
    "source_table = 'ingest.rnr_max_flows'\n",
    "target_table = 'ingest.rfc_5day_max_downstream_inundation'\n",
    "target_keys = '(feature_id)'\n",
    "file_step = None\n",
    "file_window = None\n",
    "\n",
    "update_service_data_flows(service, flow_id, step, source_table, target_table, target_keys, file_step=file_step, file_window=file_window, file_format=file_format)"
   ]
  },
  {
   "cell_type": "markdown",
   "id": "b730fb15",
   "metadata": {},
   "source": [
    "<h3>Short-Range Inundation</h3>"
   ]
  },
  {
   "cell_type": "code",
   "execution_count": 46,
   "id": "f7dc53e3",
   "metadata": {},
   "outputs": [
    {
     "name": "stdout",
     "output_type": "stream",
     "text": [
      "This result object does not return rows. It has been closed automatically.\n",
      "This result object does not return rows. It has been closed automatically.\n",
      "This result object does not return rows. It has been closed automatically.\n",
      "This result object does not return rows. It has been closed automatically.\n",
      "This result object does not return rows. It has been closed automatically.\n",
      "This result object does not return rows. It has been closed automatically.\n",
      "This result object does not return rows. It has been closed automatically.\n",
      "This result object does not return rows. It has been closed automatically.\n"
     ]
    }
   ],
   "source": [
    "service = 'srf_max_inundation'\n",
    "configuration = 'short_range'\n",
    "postprocess_max_flows = 'srf_max_flows'\n",
    "postprocess_service = 'srf_max_inundation'\n",
    "postprocess_summary = None\n",
    "summary = 'Short-Range Inundation'\n",
    "description = 'Depicts the inundation extent of the peak National Water Model (NWM) streamflow forecast over the next 18 hours where the NWM is signaling high water. This service is derived from the short-range configuration of the NWM over the contiguous U.S. Shown are reaches with peak flow at or above high water thresholds. High water thresholds (regionally varied) and AEPs were derived using the 40-year NWM v2.1 reanalysis simulation.'\n",
    "tags = 'national,water,model,nwm,hand,height,above,nearest,drainage,short,range,srf'\n",
    "credits = 'National Water Model, NOAA/NWS National Water Center'\n",
    "egis_server = 'server'\n",
    "egis_folder = 'nwm'\n",
    "fim_service = True\n",
    "feature_service = True\n",
    "run = True\n",
    "fim_configs = ['srf_max_inundation']\n",
    "public_service = False\n",
    "\n",
    "update_service_metadata(service, configuration, summary, description, tags, credits, egis_server, egis_folder, max_flows_sql_name=postprocess_max_flows, service_sql_name=postprocess_service, summary_sql_name=postprocess_summary, fim_service=fim_service, feature_service=feature_service, run=run, fim_configs=fim_configs, public_service=public_service)\n",
    "\n",
    "flow_id = '1'\n",
    "step = 'ingest'\n",
    "file_format = \"common/data/model/com/nwm/prod/nwm.{{datetime:%Y%m%d}}/short_range/nwm.t{{datetime:%H}}z.short_range.channel_rt.f{{range:1,19,1,%03d}}.conus.nc\"\n",
    "source_table = None\n",
    "target_table = 'ingest.nwm_channel_rt_srf'\n",
    "target_keys = '(feature_id, streamflow)'\n",
    "file_step = None\n",
    "file_window = None\n",
    "\n",
    "update_service_data_flows(service, flow_id, step, source_table, target_table, target_keys, file_step=file_step, file_window=file_window, file_format=file_format)\n",
    "\n",
    "flow_id = '2'\n",
    "step = 'max_flows'\n",
    "file_format = None\n",
    "source_table = 'ingest.nwm_channel_rt_srf'\n",
    "target_table = 'cache.max_flows_srf'\n",
    "target_keys = '(feature_id, streamflow)'\n",
    "file_step = None\n",
    "file_window = None\n",
    "\n",
    "update_service_data_flows(service, flow_id, step, source_table, target_table, target_keys, file_step=file_step, file_window=file_window, file_format=file_format)\n",
    "\n",
    "flow_id = '3'\n",
    "step = 'fim_prep'\n",
    "file_format = None\n",
    "source_table = 'cache.max_flows_srf'\n",
    "target_table = 'ingest.srf_max_inundation'\n",
    "target_keys = '(feature_id)'\n",
    "file_step = None\n",
    "file_window = None\n",
    "\n",
    "update_service_data_flows(service, flow_id, step, source_table, target_table, target_keys, file_step=file_step, file_window=file_window, file_format=file_format)"
   ]
  },
  {
   "cell_type": "markdown",
   "id": "9bd13e9f",
   "metadata": {},
   "source": [
    "<h3>Short-Range Inundation Hawaii</h3>"
   ]
  },
  {
   "cell_type": "code",
   "execution_count": 47,
   "id": "d674880c",
   "metadata": {},
   "outputs": [
    {
     "name": "stdout",
     "output_type": "stream",
     "text": [
      "This result object does not return rows. It has been closed automatically.\n",
      "This result object does not return rows. It has been closed automatically.\n",
      "This result object does not return rows. It has been closed automatically.\n",
      "This result object does not return rows. It has been closed automatically.\n",
      "This result object does not return rows. It has been closed automatically.\n",
      "This result object does not return rows. It has been closed automatically.\n",
      "This result object does not return rows. It has been closed automatically.\n",
      "This result object does not return rows. It has been closed automatically.\n"
     ]
    }
   ],
   "source": [
    "service = 'srf_max_inundation_hi'\n",
    "configuration = 'short_range_hawaii'\n",
    "postprocess_max_flows = 'srf_max_flows_hi'\n",
    "postprocess_service = 'srf_max_inundation_hi'\n",
    "postprocess_summary = None\n",
    "summary = 'Short-Range Inundation Hawaii'\n",
    "description = 'Depicts the inundation extent of the peak National Water Model (NWM) streamflow forecast over the next 48 hours where the NWM is signaling high water. This service is derived from the short-range configuration of the NWM over Hawaii. Shown are reaches with peak flow at or above high water thresholds. High water thresholds and AEPs were derived from USGS regression equations found at https://pubs.usgs.gov/sir/2010/5035/sir2010-5035_text.pdf.'\n",
    "tags = 'national,water,model,nwm,hand,height,above,nearest,drainage,short,range,srf,hawaii,hi'\n",
    "credits = 'National Water Model, NOAA/NWS National Water Center'\n",
    "egis_server = 'server'\n",
    "egis_folder = 'nwm'\n",
    "fim_service = True\n",
    "feature_service = True\n",
    "run = True\n",
    "fim_configs = ['srf_max_inundation_hi']\n",
    "public_service = False\n",
    "\n",
    "update_service_metadata(service, configuration, summary, description, tags, credits, egis_server, egis_folder, max_flows_sql_name=postprocess_max_flows, service_sql_name=postprocess_service, summary_sql_name=postprocess_summary, fim_service=fim_service, feature_service=feature_service, run=run, fim_configs=fim_configs, public_service=public_service)\n",
    "\n",
    "flow_id = '1'\n",
    "step = 'ingest'\n",
    "file_format = \"common/data/model/com/nwm/prod/nwm.{{datetime:%Y%m%d}}/short_range_hawaii/nwm.t{{datetime:%H}}z.short_range.channel_rt.f{{range:100,4900,100,%05d}}.hawaii.nc\"\n",
    "source_table = None\n",
    "target_table = 'ingest.nwm_channel_rt_srf_hi'\n",
    "target_keys = '(feature_id, streamflow)'\n",
    "file_step = None\n",
    "file_window = None\n",
    "\n",
    "update_service_data_flows(service, flow_id, step, source_table, target_table, target_keys, file_step=file_step, file_window=file_window, file_format=file_format)\n",
    "\n",
    "flow_id = '2'\n",
    "step = 'max_flows'\n",
    "file_format = None\n",
    "source_table = 'ingest.nwm_channel_rt_srf_hi'\n",
    "target_table = 'cache.max_flows_srf_hi'\n",
    "target_keys = '(feature_id, streamflow)'\n",
    "file_step = None\n",
    "file_window = None\n",
    "\n",
    "update_service_data_flows(service, flow_id, step, source_table, target_table, target_keys, file_step=file_step, file_window=file_window, file_format=file_format)\n",
    "\n",
    "flow_id = '3'\n",
    "step = 'fim_prep'\n",
    "file_format = None\n",
    "source_table = 'cache.max_flows_srf_hi'\n",
    "target_table = 'ingest.srf_max_inundation_hi'\n",
    "target_keys = '(feature_id)'\n",
    "file_step = None\n",
    "file_window = None\n",
    "\n",
    "update_service_data_flows(service, flow_id, step, source_table, target_table, target_keys, file_step=file_step, file_window=file_window, file_format=file_format)"
   ]
  },
  {
   "cell_type": "markdown",
   "id": "508d20a2",
   "metadata": {},
   "source": [
    "<h3>Short-Range Inundation Puerto Rico</h3>"
   ]
  },
  {
   "cell_type": "code",
   "execution_count": 48,
   "id": "d95e129b",
   "metadata": {},
   "outputs": [
    {
     "name": "stdout",
     "output_type": "stream",
     "text": [
      "This result object does not return rows. It has been closed automatically.\n",
      "This result object does not return rows. It has been closed automatically.\n",
      "This result object does not return rows. It has been closed automatically.\n",
      "This result object does not return rows. It has been closed automatically.\n",
      "This result object does not return rows. It has been closed automatically.\n",
      "This result object does not return rows. It has been closed automatically.\n",
      "This result object does not return rows. It has been closed automatically.\n",
      "This result object does not return rows. It has been closed automatically.\n"
     ]
    }
   ],
   "source": [
    "service = 'srf_max_inundation_prvi'\n",
    "configuration = 'short_range_puertorico'\n",
    "postprocess_max_flows = 'srf_max_flows_prvi'\n",
    "postprocess_service = 'srf_max_inundation_prvi'\n",
    "postprocess_summary = None\n",
    "summary = 'Short-Range Inundation Puerto Rico'\n",
    "description = 'Depicts the inundation extent of the peak National Water Model (NWM) streamflow forecast over the next 48 hours where the NWM is signaling high water. This service is derived from the short-range configuration of the NWM over Puerto Rico and the U.S. Virgin Islands. Shown are reaches with peak flow at or above high water thresholds. High water thresholds and AEPs were derived from USGS regression equations found at https://pubs.usgs.gov/wri/wri994142/pdf/wri99-4142.pdf.'\n",
    "tags = 'national,water,model,nwm,hand,height,above,nearest,drainage,short,range,srf,puerto,rico,prvi'\n",
    "credits = 'National Water Model, NOAA/NWS National Water Center'\n",
    "egis_server = 'server'\n",
    "egis_folder = 'nwm'\n",
    "fim_service = True\n",
    "feature_service = True\n",
    "run = True\n",
    "fim_configs = ['srf_max_inundation_prvi']\n",
    "public_service = False\n",
    "\n",
    "update_service_metadata(service, configuration, summary, description, tags, credits, egis_server, egis_folder, max_flows_sql_name=postprocess_max_flows, service_sql_name=postprocess_service, summary_sql_name=postprocess_summary, fim_service=fim_service, feature_service=feature_service, run=run, fim_configs=fim_configs, public_service=public_service)\n",
    "\n",
    "flow_id = '1'\n",
    "step = 'ingest'\n",
    "file_format = \"common/data/model/com/nwm/prod/nwm.{{datetime:%Y%m%d}}/short_range_puertorico/nwm.t{{datetime:%H}}z.short_range.channel_rt.f{{range:1,49,1,%03d}}.puertorico.nc\"\n",
    "source_table = None\n",
    "target_table = 'ingest.nwm_channel_rt_srf_prvi'\n",
    "target_keys = '(feature_id, streamflow)'\n",
    "file_step = None\n",
    "file_window = None\n",
    "\n",
    "update_service_data_flows(service, flow_id, step, source_table, target_table, target_keys, file_step=file_step, file_window=file_window, file_format=file_format)\n",
    "\n",
    "flow_id = '2'\n",
    "step = 'max_flows'\n",
    "file_format = None\n",
    "source_table = 'ingest.nwm_channel_rt_srf_prvi'\n",
    "target_table = 'cache.max_flows_srf_prvi'\n",
    "target_keys = '(feature_id, streamflow)'\n",
    "file_step = None\n",
    "file_window = None\n",
    "\n",
    "update_service_data_flows(service, flow_id, step, source_table, target_table, target_keys, file_step=file_step, file_window=file_window, file_format=file_format)\n",
    "\n",
    "flow_id = '3'\n",
    "step = 'fim_prep'\n",
    "file_format = None\n",
    "source_table = 'cache.max_flows_srf_prvi'\n",
    "target_table = 'ingest.srf_max_inundation_prvi'\n",
    "target_keys = '(feature_id)'\n",
    "file_step = None\n",
    "file_window = None\n",
    "\n",
    "update_service_data_flows(service, flow_id, step, source_table, target_table, target_keys, file_step=file_step, file_window=file_window, file_format=file_format)"
   ]
  },
  {
   "cell_type": "markdown",
   "id": "e037ddf8",
   "metadata": {},
   "source": [
    "<h2><b>QC FIM Services</b></h2>"
   ]
  },
  {
   "cell_type": "markdown",
   "id": "0ebf072c",
   "metadata": {},
   "source": [
    "<h3>FIM Performance</h3>"
   ]
  },
  {
   "cell_type": "code",
   "execution_count": 27,
   "id": "e264cddb",
   "metadata": {},
   "outputs": [
    {
     "name": "stdout",
     "output_type": "stream",
     "text": [
      "This result object does not return rows. It has been closed automatically.\n",
      "This result object does not return rows. It has been closed automatically.\n"
     ]
    }
   ],
   "source": [
    "service = 'fim_performance'\n",
    "configuration = 'reference'\n",
    "postprocess_max_flows = None\n",
    "postprocess_service = None\n",
    "postprocess_summary = None\n",
    "summary = 'Height Above Nearest Drainage (HAND) Flood Inundation Mapping (FIM) Performance at HUC8s and AHPS locations.'\n",
    "description = 'Depicts the HAND FIM method skill metrics at HUC8s (polygons) and AHPS locations (points). Metrics are computed through static comparison of benchmark maps to HAND maps at specific flow magnitudes (e.g. 100yr, 500yr, Action, Minor, Moderate, Major). Metrics reported are Critical Success Index (CSI), True Positive Rate (TPR) also known as Probability of Detection (POD), False Alarm Ratio (FAR), and Probability Not Detected (PND). Polygons and sites are symbolized by CSI by default; however, the other metrics (TPR, FAR, and PND) are available in the attributes for each location. For a description of how metrics are computed, see https://github.com/NOAA-OWP/inundation-mapping/wiki/Evaluating-HAND-Performance. Benchmark sources for HUC8 vary between FEMA Base Level Engineering, Iowa Flood Center, and RAS2FIM while benchmark sources for AHPS locations vary between USGS and AHPS FIM based on data availability at each HUC8 or AHPS location. Also, flow magnitudes used vary depending on the benchmark sources. Each feature represents the HAND FIM method skill metrics of unique benchmark data source and flow magnitude. This is a static service; it does not provide estimates of FIM skills in real-time. This service only shows the HAND FIM method skill as compared to benchmark maps produced for scenarios of specific magnitudes.'\n",
    "tags = 'performance, skill, csi, flood, hand, fim, inundation, height, above, nearest, drainage, ahps, usgs'\n",
    "credits = 'National Water Model, NOAA/NWS National Water Center, Advanced Hydrologic Prediction Service, USGS, Iowa Flood Center, RAS2FIM'\n",
    "egis_server = 'server'\n",
    "egis_folder = 'fim_libs'\n",
    "fim_service = False\n",
    "feature_service = False\n",
    "run = True\n",
    "fim_configs = None\n",
    "public_service = False\n",
    "\n",
    "update_service_metadata(service, configuration, summary, description, tags, credits, egis_server, egis_folder, max_flows_sql_name=postprocess_max_flows, service_sql_name=postprocess_service, summary_sql_name=postprocess_summary, fim_service=fim_service, feature_service=feature_service, run=run, fim_configs=fim_configs, public_service=public_service)\n"
   ]
  },
  {
   "cell_type": "markdown",
   "id": "6f31c0e5",
   "metadata": {},
   "source": [
    "<h3>Flow Based CatFIM</h3>"
   ]
  },
  {
   "cell_type": "code",
   "execution_count": 28,
   "id": "4d9e76e2",
   "metadata": {},
   "outputs": [
    {
     "name": "stdout",
     "output_type": "stream",
     "text": [
      "This result object does not return rows. It has been closed automatically.\n",
      "This result object does not return rows. It has been closed automatically.\n"
     ]
    }
   ],
   "source": [
    "service = 'flow_based_catfim'\n",
    "configuration = 'reference'\n",
    "postprocess_max_flows = None\n",
    "postprocess_service = None\n",
    "postprocess_summary = None\n",
    "summary = 'Depicts flood inundation extents derived from official NWS category thresholds and the Height Above Nearest Drainage (HAND) technique. Official threshold discharges are used.'\n",
    "description = 'Depicts flood inundation extents derived from official NWS category thresholds and the Height Above Nearest Drainage (HAND) technique. Official threshold discharges are used. Flood inundation maps are colored according to their category. Mapping extends 5 miles upstream and downstream of AHPS gage locations. This is a static service and not a forecast service.'\n",
    "credits = 'National Water Model, NOAA/NWS National Water Center, Advanced Hydrologic Prediction Service, National River Layer Database'\n",
    "egis_server = 'server'\n",
    "egis_folder = 'fim_libs'\n",
    "fim_service = False\n",
    "feature_service = False\n",
    "run = True\n",
    "fim_configs = None\n",
    "public_service = False\n",
    "\n",
    "update_service_metadata(service, configuration, summary, description, tags, credits, egis_server, egis_folder, max_flows_sql_name=postprocess_max_flows, service_sql_name=postprocess_service, summary_sql_name=postprocess_summary, fim_service=fim_service, feature_service=feature_service, run=run, fim_configs=fim_configs, public_service=public_service)\n"
   ]
  },
  {
   "cell_type": "markdown",
   "id": "c5a7d71d",
   "metadata": {},
   "source": [
    "<h3>CONUS Full Resolution FIM Catchment Boundaries</h3>"
   ]
  },
  {
   "cell_type": "code",
   "execution_count": 51,
   "id": "50f5ee62",
   "metadata": {},
   "outputs": [
    {
     "name": "stdout",
     "output_type": "stream",
     "text": [
      "This result object does not return rows. It has been closed automatically.\n",
      "This result object does not return rows. It has been closed automatically.\n"
     ]
    }
   ],
   "source": [
    "service = 'full_resolution_fim_catchments'\n",
    "configuration = 'reference'\n",
    "postprocess_max_flows = None\n",
    "postprocess_service = None\n",
    "postprocess_summary = None\n",
    "summary = 'CONUS Full Resolution FIM Catchment Boundaries'\n",
    "description = 'Depicts the catchment boundaries for the full resolution FIM HAND dataset for CONUS'\n",
    "tags = 'fim, inundation, national water model, nwm, reference'\n",
    "credits = 'National Water Model, NOAA/NWS National Water Center'\n",
    "egis_server = 'server'\n",
    "egis_folder = 'reference'\n",
    "fim_service = False\n",
    "feature_service = False\n",
    "run = True\n",
    "fim_configs = None\n",
    "public_service = False\n",
    "\n",
    "update_service_metadata(service, configuration, summary, description, tags, credits, egis_server, egis_folder, max_flows_sql_name=postprocess_max_flows, service_sql_name=postprocess_service, summary_sql_name=postprocess_summary, fim_service=fim_service, feature_service=feature_service, run=run, fim_configs=fim_configs, public_service=public_service)\n"
   ]
  },
  {
   "cell_type": "markdown",
   "id": "25ed1b5b",
   "metadata": {},
   "source": [
    "<h3>Hawaii Full Resolution FIM Catchment Boundaries</h3>"
   ]
  },
  {
   "cell_type": "code",
   "execution_count": 52,
   "id": "2abc4cc6",
   "metadata": {},
   "outputs": [
    {
     "name": "stdout",
     "output_type": "stream",
     "text": [
      "This result object does not return rows. It has been closed automatically.\n",
      "This result object does not return rows. It has been closed automatically.\n"
     ]
    }
   ],
   "source": [
    "service = 'full_resolution_fim_catchments_hi'\n",
    "configuration = 'reference'\n",
    "postprocess_max_flows = None\n",
    "postprocess_service = None\n",
    "postprocess_summary = None\n",
    "summary = 'Hawaii Full Resolution FIM Catchment Boundaries'\n",
    "description = 'Depicts the catchment boundaries for the full resolution FIM HAND dataset for Hawaii'\n",
    "tags = 'fim, inundation, national water model, nwm, reference, hawaii, hi'\n",
    "credits = 'National Water Model, NOAA/NWS National Water Center'\n",
    "egis_server = 'server'\n",
    "egis_folder = 'reference'\n",
    "fim_service = False\n",
    "feature_service = False\n",
    "run = True\n",
    "fim_configs = None\n",
    "public_service = False\n",
    "\n",
    "update_service_metadata(service, configuration, summary, description, tags, credits, egis_server, egis_folder, max_flows_sql_name=postprocess_max_flows, service_sql_name=postprocess_service, summary_sql_name=postprocess_summary, fim_service=fim_service, feature_service=feature_service, run=run, fim_configs=fim_configs, public_service=public_service)\n"
   ]
  },
  {
   "cell_type": "markdown",
   "id": "ad28e86e",
   "metadata": {},
   "source": [
    "<h3>Puerto Rico Full Resolution FIM Catchment Boundaries</h3>"
   ]
  },
  {
   "cell_type": "code",
   "execution_count": 53,
   "id": "4bb621af",
   "metadata": {},
   "outputs": [
    {
     "name": "stdout",
     "output_type": "stream",
     "text": [
      "This result object does not return rows. It has been closed automatically.\n",
      "This result object does not return rows. It has been closed automatically.\n"
     ]
    }
   ],
   "source": [
    "service = 'full_resolution_fim_catchments_prvi'\n",
    "configuration = 'reference'\n",
    "postprocess_max_flows = None\n",
    "postprocess_service = None\n",
    "postprocess_summary = None\n",
    "summary = 'Puerto Rico Full Resolution FIM Catchment Boundaries'\n",
    "description = 'Depicts the catchment boundaries for the full resolution FIM HAND dataset for Puerto Rico and Virgin Islands'\n",
    "tags = 'fim, inundation, national water model, nwm, reference, puertorico, prvi'\n",
    "credits = 'National Water Model, NOAA/NWS National Water Center'\n",
    "egis_server = 'server'\n",
    "egis_folder = 'reference'\n",
    "fim_service = False\n",
    "feature_service = False\n",
    "run = True\n",
    "fim_configs = None\n",
    "public_service = False\n",
    "\n",
    "update_service_metadata(service, configuration, summary, description, tags, credits, egis_server, egis_folder, max_flows_sql_name=postprocess_max_flows, service_sql_name=postprocess_service, summary_sql_name=postprocess_summary, fim_service=fim_service, feature_service=feature_service, run=run, fim_configs=fim_configs, public_service=public_service)\n"
   ]
  },
  {
   "cell_type": "markdown",
   "id": "c0408ac1",
   "metadata": {},
   "source": [
    "<h3>CONUS Main Stem FIM Catchment Boundaries</h3>"
   ]
  },
  {
   "cell_type": "code",
   "execution_count": 54,
   "id": "57b754ae",
   "metadata": {},
   "outputs": [
    {
     "name": "stdout",
     "output_type": "stream",
     "text": [
      "This result object does not return rows. It has been closed automatically.\n",
      "This result object does not return rows. It has been closed automatically.\n"
     ]
    }
   ],
   "source": [
    "service = 'main_stem_fim_catchments'\n",
    "configuration = 'reference'\n",
    "postprocess_max_flows = None\n",
    "postprocess_service = None\n",
    "postprocess_summary = None\n",
    "summary = 'CONUS Main Stem FIM Catchment Boundaries'\n",
    "description = 'Depicts the catchment boundaries for the main stem FIM HAND dataset for CONUS'\n",
    "tags = 'fim, inundation, national water model, nwm, reference'\n",
    "credits = 'National Water Model, NOAA/NWS National Water Center'\n",
    "egis_server = 'server'\n",
    "egis_folder = 'reference'\n",
    "fim_service = False\n",
    "feature_service = False\n",
    "run = True\n",
    "fim_configs = None\n",
    "public_service = False\n",
    "\n",
    "update_service_metadata(service, configuration, summary, description, tags, credits, egis_server, egis_folder, max_flows_sql_name=postprocess_max_flows, service_sql_name=postprocess_service, summary_sql_name=postprocess_summary, fim_service=fim_service, feature_service=feature_service, run=run, fim_configs=fim_configs, public_service=public_service)\n"
   ]
  },
  {
   "cell_type": "markdown",
   "id": "b0cbe0ec",
   "metadata": {},
   "source": [
    "<h3>Hawaii Main Stem FIM Catchment Boundaries</h3>"
   ]
  },
  {
   "cell_type": "code",
   "execution_count": 55,
   "id": "b81c63ec",
   "metadata": {},
   "outputs": [
    {
     "name": "stdout",
     "output_type": "stream",
     "text": [
      "This result object does not return rows. It has been closed automatically.\n",
      "This result object does not return rows. It has been closed automatically.\n"
     ]
    }
   ],
   "source": [
    "service = 'main_stem_fim_catchments_hi'\n",
    "configuration = 'reference'\n",
    "postprocess_max_flows = None\n",
    "postprocess_service = None\n",
    "postprocess_summary = None\n",
    "summary = 'Hawaii Main Stem FIM Catchment Boundaries'\n",
    "description = 'Depicts the catchment boundaries for the main stem FIM HAND dataset for Hawaii'\n",
    "tags = 'fim, inundation, national water model, nwm, reference, hawaii, hi'\n",
    "credits = 'National Water Model, NOAA/NWS National Water Center'\n",
    "egis_server = 'server'\n",
    "egis_folder = 'reference'\n",
    "fim_service = False\n",
    "feature_service = False\n",
    "run = True\n",
    "fim_configs = None\n",
    "public_service = False\n",
    "\n",
    "update_service_metadata(service, configuration, summary, description, tags, credits, egis_server, egis_folder, max_flows_sql_name=postprocess_max_flows, service_sql_name=postprocess_service, summary_sql_name=postprocess_summary, fim_service=fim_service, feature_service=feature_service, run=run, fim_configs=fim_configs, public_service=public_service)\n"
   ]
  },
  {
   "cell_type": "markdown",
   "id": "e8a7d15c",
   "metadata": {},
   "source": [
    "<h3>Puerto Rico Main Stem FIM Catchment Boundaries</h3>"
   ]
  },
  {
   "cell_type": "code",
   "execution_count": 56,
   "id": "9667f251",
   "metadata": {},
   "outputs": [
    {
     "name": "stdout",
     "output_type": "stream",
     "text": [
      "This result object does not return rows. It has been closed automatically.\n",
      "This result object does not return rows. It has been closed automatically.\n"
     ]
    }
   ],
   "source": [
    "service = 'main_stem_fim_catchments_prvi'\n",
    "configuration = 'reference'\n",
    "postprocess_max_flows = None\n",
    "postprocess_service = None\n",
    "postprocess_summary = None\n",
    "summary = 'Puerto Rico Main Stem FIM Catchment Boundaries'\n",
    "description = 'Depicts the catchment boundaries for the main stem FIM HAND dataset for Puerto Rico and Virgin Islands'\n",
    "tags = 'fim, inundation, national water model, nwm, reference, puertorico, prvi'\n",
    "credits = 'National Water Model, NOAA/NWS National Water Center'\n",
    "egis_server = 'server'\n",
    "egis_folder = 'reference'\n",
    "fim_service = False\n",
    "feature_service = False\n",
    "run = True\n",
    "fim_configs = None\n",
    "public_service = False\n",
    "\n",
    "update_service_metadata(service, configuration, summary, description, tags, credits, egis_server, egis_folder, max_flows_sql_name=postprocess_max_flows, service_sql_name=postprocess_service, summary_sql_name=postprocess_summary, fim_service=fim_service, feature_service=feature_service, run=run, fim_configs=fim_configs, public_service=public_service)\n"
   ]
  },
  {
   "cell_type": "markdown",
   "id": "3cc51c49",
   "metadata": {},
   "source": [
    "<h3>NWM Annual Exceedance Probability FIM</h3>"
   ]
  },
  {
   "cell_type": "code",
   "execution_count": 29,
   "id": "5a48a5ca",
   "metadata": {},
   "outputs": [
    {
     "name": "stdout",
     "output_type": "stream",
     "text": [
      "This result object does not return rows. It has been closed automatically.\n",
      "This result object does not return rows. It has been closed automatically.\n"
     ]
    }
   ],
   "source": [
    "service = 'nwm_aep_fim'\n",
    "configuration = 'reference'\n",
    "postprocess_max_flows = None\n",
    "postprocess_service = None\n",
    "postprocess_summary = None\n",
    "summary = 'Depicts flood inundation extents derived from NWM high water threshold, annual exceedance probabilities and the Height Above Nearest Drainage (HAND) technique.'\n",
    "description = 'Depicts the inundation extent of the National Water Model (NWM) high water threshold and annual exceedance probabilities. High water thresholds (regionally varied) and AEPs were derived using the 40-year NWM v2.1 reanalysis simulation. This is a static service and not a forecast service.'\n",
    "tags = 'nws, flood, categorical, hand, fim, inundation, height, above, nearest, drainage, aep, recurrence'\n",
    "credits = 'National Water Model, NOAA/NWS National Water Center'\n",
    "egis_server = 'server'\n",
    "egis_folder = 'fim_libs'\n",
    "fim_service = False\n",
    "feature_service = False\n",
    "run = True\n",
    "fim_configs = None\n",
    "public_service = False\n",
    "\n",
    "update_service_metadata(service, configuration, summary, description, tags, credits, egis_server, egis_folder, max_flows_sql_name=postprocess_max_flows, service_sql_name=postprocess_service, summary_sql_name=postprocess_summary, fim_service=fim_service, feature_service=feature_service, run=run, fim_configs=fim_configs, public_service=public_service)\n"
   ]
  },
  {
   "cell_type": "markdown",
   "id": "bfe006ae",
   "metadata": {},
   "source": [
    "<h3>NWM Waterbodies</h3>"
   ]
  },
  {
   "cell_type": "code",
   "execution_count": 58,
   "id": "d5b20f7d",
   "metadata": {},
   "outputs": [
    {
     "name": "stdout",
     "output_type": "stream",
     "text": [
      "This result object does not return rows. It has been closed automatically.\n",
      "This result object does not return rows. It has been closed automatically.\n"
     ]
    }
   ],
   "source": [
    "service = 'nwm_waterbodies'\n",
    "configuration = 'reference'\n",
    "postprocess_max_flows = None\n",
    "postprocess_service = None\n",
    "postprocess_summary = None\n",
    "summary = 'NWM Waterbodies'\n",
    "description = 'Depicts the waterbodies for the National Water Model'\n",
    "tags = 'nws, fim, reference, waterbodies'\n",
    "credits = 'National Water Model, NOAA/NWS National Water Center'\n",
    "egis_server = 'server'\n",
    "egis_folder = 'reference'\n",
    "fim_service = False\n",
    "feature_service = False\n",
    "run = True\n",
    "fim_configs = None\n",
    "public_service = False\n",
    "\n",
    "update_service_metadata(service, configuration, summary, description, tags, credits, egis_server, egis_folder, max_flows_sql_name=postprocess_max_flows, service_sql_name=postprocess_service, summary_sql_name=postprocess_summary, fim_service=fim_service, feature_service=feature_service, run=run, fim_configs=fim_configs, public_service=public_service)\n"
   ]
  },
  {
   "cell_type": "markdown",
   "id": "06b5bd44",
   "metadata": {},
   "source": [
    "<h3>NWS Flood Categorical HAND FIM</h3>"
   ]
  },
  {
   "cell_type": "code",
   "execution_count": 30,
   "id": "873d3714",
   "metadata": {},
   "outputs": [
    {
     "name": "stdout",
     "output_type": "stream",
     "text": [
      "This result object does not return rows. It has been closed automatically.\n",
      "This result object does not return rows. It has been closed automatically.\n"
     ]
    }
   ],
   "source": [
    "service = 'nws_flood_categorical_hand_fim'\n",
    "configuration = 'reference'\n",
    "postprocess_max_flows = None\n",
    "postprocess_service = None\n",
    "postprocess_summary = None\n",
    "summary = 'National Weather Service Flood Categorical Height Above Nearest Drainage Flood Inundation Maps'\n",
    "description = 'Depicts flood inundation extents derived from official NWS category thresholds and the Height Above Nearest Drainage (HAND) technique. Flood inundation maps are colored according to their category. Mapping extends 5 miles upstream and downstream of AHPS gage locations. This is not a forecast service. Service also known as CatFIM.'\n",
    "tags = 'nws, flood, categorical, hand, fim, catfim, inundation, library, rfc, height, above, nearest, drainage, ahps, usgs'\n",
    "credits = 'National Water Model, NOAA/NWS National Water Center, Advanced Hydrologic Prediction Service, National River Layer Database'\n",
    "egis_server = 'server'\n",
    "egis_folder = 'fim_libs'\n",
    "fim_service = False\n",
    "feature_service = False\n",
    "run = True\n",
    "fim_configs = None\n",
    "public_service = False\n",
    "\n",
    "update_service_metadata(service, configuration, summary, description, tags, credits, egis_server, egis_folder, max_flows_sql_name=postprocess_max_flows, service_sql_name=postprocess_service, summary_sql_name=postprocess_summary, fim_service=fim_service, feature_service=feature_service, run=run, fim_configs=fim_configs, public_service=public_service)\n"
   ]
  },
  {
   "cell_type": "markdown",
   "id": "59f20326",
   "metadata": {},
   "source": [
    "<h3>Possible Coastal Omission for FIM</h3>"
   ]
  },
  {
   "cell_type": "code",
   "execution_count": 60,
   "id": "a8058768",
   "metadata": {},
   "outputs": [
    {
     "name": "stdout",
     "output_type": "stream",
     "text": [
      "This result object does not return rows. It has been closed automatically.\n",
      "This result object does not return rows. It has been closed automatically.\n"
     ]
    }
   ],
   "source": [
    "service = 'possible_coastal_omission'\n",
    "configuration = 'reference'\n",
    "postprocess_max_flows = None\n",
    "postprocess_service = None\n",
    "postprocess_summary = None\n",
    "summary = 'Coastal Regions where coastal flooding processes are not being considered in the visualization FIM output.'\n",
    "description = 'Depicts areas along the coast where coastal flooding processes are not being considered in the visualization FIM output.'\n",
    "tags = 'national water model, nwm, reference'\n",
    "credits = 'National Water Model, NOAA/NWS National Water Center'\n",
    "egis_server = 'server'\n",
    "egis_folder = 'reference'\n",
    "fim_service = False\n",
    "feature_service = False\n",
    "run = True\n",
    "fim_configs = None\n",
    "public_service = False\n",
    "\n",
    "update_service_metadata(service, configuration, summary, description, tags, credits, egis_server, egis_folder, max_flows_sql_name=postprocess_max_flows, service_sql_name=postprocess_service, summary_sql_name=postprocess_summary, fim_service=fim_service, feature_service=feature_service, run=run, fim_configs=fim_configs, public_service=public_service)\n"
   ]
  },
  {
   "cell_type": "markdown",
   "id": "b79a049c",
   "metadata": {},
   "source": [
    "<h3>Stage Based CatFIM</h3>"
   ]
  },
  {
   "cell_type": "code",
   "execution_count": 31,
   "id": "06700b37",
   "metadata": {},
   "outputs": [
    {
     "name": "stdout",
     "output_type": "stream",
     "text": [
      "This result object does not return rows. It has been closed automatically.\n",
      "This result object does not return rows. It has been closed automatically.\n"
     ]
    }
   ],
   "source": [
    "service = 'stage_based_catfim'\n",
    "configuration = 'reference'\n",
    "postprocess_max_flows = None\n",
    "postprocess_service = None\n",
    "postprocess_summary = None\n",
    "summary = 'Depicts flood inundation extents derived from official NWS category thresholds and the Height Above Nearest Drainage (HAND) technique. Official stage thresholds are used.'\n",
    "description = 'Depicts flood inundation extents derived from official NWS category thresholds and the Height Above Nearest Drainage (HAND) technique. Official stage thresholds (converted to water surface elevation) are used. Flood inundation maps are colored according to their category. Mapping extends 5 miles upstream and downstream of AHPS gage locations. This is a static service and not a forecast service.'\n",
    "tags = 'nws, flood, categorical, hand, fim, catfim, inundation, library, rfc, height, above, nearest, drainage, ahps, usgs'\n",
    "credits = 'National Water Model, NOAA/NWS National Water Center, Advanced Hydrologic Prediction Service, National River Layer Database'\n",
    "egis_server = 'server'\n",
    "egis_folder = 'fim_libs'\n",
    "fim_service = False\n",
    "feature_service = False\n",
    "run = True\n",
    "fim_configs = None\n",
    "public_service = False\n",
    "\n",
    "update_service_metadata(service, configuration, summary, description, tags, credits, egis_server, egis_folder, max_flows_sql_name=postprocess_max_flows, service_sql_name=postprocess_service, summary_sql_name=postprocess_summary, fim_service=fim_service, feature_service=feature_service, run=run, fim_configs=fim_configs, public_service=public_service)\n"
   ]
  },
  {
   "cell_type": "markdown",
   "id": "c3ea30fe",
   "metadata": {},
   "source": [
    "<h2><b>Reference Services</b></h2>"
   ]
  },
  {
   "cell_type": "markdown",
   "id": "68cb44d8",
   "metadata": {},
   "source": [
    "<h3>CONUS NWM Flowlines</h3>"
   ]
  },
  {
   "cell_type": "code",
   "execution_count": 62,
   "id": "c1d467e9",
   "metadata": {},
   "outputs": [
    {
     "name": "stdout",
     "output_type": "stream",
     "text": [
      "This result object does not return rows. It has been closed automatically.\n",
      "This result object does not return rows. It has been closed automatically.\n"
     ]
    }
   ],
   "source": [
    "service = 'nwm_flowlines'\n",
    "configuration = 'reference'\n",
    "postprocess_max_flows = None\n",
    "postprocess_service = None\n",
    "postprocess_summary = None\n",
    "summary = 'NWM Flowlines for CONUS '\n",
    "description = 'Depicts the NWM flowlines within the contiguous U.S.'\n",
    "tags = 'national water model, nwm, reference, flowlines'\n",
    "credits = 'National Water Model, NOAA/NWS National Water Center'\n",
    "egis_server = 'server'\n",
    "egis_folder = 'reference'\n",
    "fim_service = False\n",
    "feature_service = True\n",
    "run = True\n",
    "fim_configs = None\n",
    "public_service = True\n",
    "\n",
    "update_service_metadata(service, configuration, summary, description, tags, credits, egis_server, egis_folder, max_flows_sql_name=postprocess_max_flows, service_sql_name=postprocess_service, summary_sql_name=postprocess_summary, fim_service=fim_service, feature_service=feature_service, run=run, fim_configs=fim_configs, public_service=public_service)\n"
   ]
  },
  {
   "cell_type": "markdown",
   "id": "287fd2eb",
   "metadata": {},
   "source": [
    "<h3>Hawaii NWM Flowines</h3>"
   ]
  },
  {
   "cell_type": "code",
   "execution_count": 63,
   "id": "ad82bf9c",
   "metadata": {},
   "outputs": [
    {
     "name": "stdout",
     "output_type": "stream",
     "text": [
      "This result object does not return rows. It has been closed automatically.\n",
      "This result object does not return rows. It has been closed automatically.\n"
     ]
    }
   ],
   "source": [
    "service = 'nwm_flowlines_hi'\n",
    "configuration = 'reference'\n",
    "postprocess_max_flows = None\n",
    "postprocess_service = None\n",
    "postprocess_summary = None\n",
    "summary = 'NWM Flowines for Hawaii '\n",
    "description = 'Depicts the NWM flowlines in Hawaii.'\n",
    "tags = 'national water model, nwm, reference, hawaii, hi'\n",
    "credits = 'National Water Model, NOAA/NWS National Water Center'\n",
    "egis_server = 'server'\n",
    "egis_folder = 'reference'\n",
    "fim_service = False\n",
    "feature_service = True\n",
    "run = True\n",
    "fim_configs = None\n",
    "public_service = True\n",
    "\n",
    "update_service_metadata(service, configuration, summary, description, tags, credits, egis_server, egis_folder, max_flows_sql_name=postprocess_max_flows, service_sql_name=postprocess_service, summary_sql_name=postprocess_summary, fim_service=fim_service, feature_service=feature_service, run=run, fim_configs=fim_configs, public_service=public_service)\n"
   ]
  },
  {
   "cell_type": "markdown",
   "id": "7547b3c0",
   "metadata": {},
   "source": [
    "<h3>Puerto Rico NWM Flowines</h3>"
   ]
  },
  {
   "cell_type": "code",
   "execution_count": 64,
   "id": "2dd6a998",
   "metadata": {},
   "outputs": [
    {
     "name": "stdout",
     "output_type": "stream",
     "text": [
      "This result object does not return rows. It has been closed automatically.\n",
      "This result object does not return rows. It has been closed automatically.\n"
     ]
    }
   ],
   "source": [
    "service = 'nwm_flowlines_prvi'\n",
    "configuration = 'reference'\n",
    "postprocess_max_flows = None\n",
    "postprocess_service = None\n",
    "postprocess_summary = None\n",
    "summary = 'NWM Flowines for Puerto Rico and the U.S. Virgin Islands'\n",
    "description = 'Depicts the NWM flowlines in Puerto Rico and the U.S. Virgin Islands.'\n",
    "tags = 'national water model, nwm, reference, puerto rico, puertorico, prvi'\n",
    "credits = 'National Water Model, NOAA/NWS National Water Center'\n",
    "egis_server = 'server'\n",
    "egis_folder = 'reference'\n",
    "fim_service = False\n",
    "feature_service = True\n",
    "run = True\n",
    "fim_configs = None\n",
    "public_service = True\n",
    "\n",
    "update_service_metadata(service, configuration, summary, description, tags, credits, egis_server, egis_folder, max_flows_sql_name=postprocess_max_flows, service_sql_name=postprocess_service, summary_sql_name=postprocess_summary, fim_service=fim_service, feature_service=feature_service, run=run, fim_configs=fim_configs, public_service=public_service)\n"
   ]
  },
  {
   "cell_type": "code",
   "execution_count": null,
   "id": "14a9fbf6",
   "metadata": {},
   "outputs": [],
   "source": []
  }
 ],
 "metadata": {
  "kernelspec": {
   "display_name": "conda_python3",
   "language": "python",
   "name": "conda_python3"
  },
  "language_info": {
   "codemirror_mode": {
    "name": "ipython",
    "version": 3
   },
   "file_extension": ".py",
   "mimetype": "text/x-python",
   "name": "python",
   "nbconvert_exporter": "python",
   "pygments_lexer": "ipython3",
   "version": "3.10.14"
  }
 },
 "nbformat": 4,
 "nbformat_minor": 5
}
