{
 "cells": [
  {
   "cell_type": "markdown",
   "id": "b892f6f0-8601-4e1f-94de-36435bf62e7c",
   "metadata": {
    "tags": []
   },
   "source": [
    "# Use this notebook to update the recurrence flows tables in the viz database"
   ]
  },
  {
   "cell_type": "markdown",
   "id": "df2432e7-52d4-4012-9234-d3d14407ca55",
   "metadata": {},
   "source": [
    "## RUN THIS FIRST FOR ALL RECURRENCE CODE SECTIONS BELOW"
   ]
  },
  {
   "cell_type": "code",
   "execution_count": 9,
   "id": "a3c3b900-a89c-42aa-a325-ca3ce905afb4",
   "metadata": {
    "tags": []
   },
   "outputs": [],
   "source": [
    "# Change the sys path to pull from the parent folder for imports\n",
    "import sys\n",
    "sys.path.append('../')\n",
    "from helper_functions.shared_functions import *\n",
    "\n",
    "# Set the database user to the user with write access - get password from Secrets Manager if this doesn't work.\n",
    "# Oct 2024, Moved the two enviro db user and password to the AWS_keys.py file. Not yet tested.\n",
    "\n",
    "# Get a db_engine for writing back to the database.\n",
    "viz_db = get_db_engine(\"viz\")"
   ]
  },
  {
   "cell_type": "markdown",
   "id": "6b77ba4e-5f3d-41e1-9934-59a8f4315edd",
   "metadata": {},
   "source": [
    "### May 2 2024 - Phase 1 changes to the Recurrence Thresholds for CONUS - adjust HWT:\n",
    "#### Reset Cluster 7 from 3.2 to 2.5  AND  Cluster 9 from 1.1 to 1.0\n",
    "#### Set all HWT that are zero to minimum NWM v3 streamflow of 0.35 (cfs)"
   ]
  },
  {
   "cell_type": "code",
   "execution_count": null,
   "id": "a886606d-6742-474c-bd91-f387a1a59087",
   "metadata": {},
   "outputs": [],
   "source": [
    "# STEP 1: change the derived.huc8_rf_threshold table for clusters 7 & 9:\n",
    "\n",
    "UPDATE derived.huc8_rf_thresholds\n",
    "SET bankfull_rf = 'rf_2_5'\n",
    "WHERE huc8_rf_thresholds.cluster = 7\n",
    "\n",
    "UPDATE derived.huc8_rf_thresholds\n",
    "SET bankfull_rf = 'rf_1_0'\n",
    "WHERE huc8_rf_thresholds.cluster = 9\n",
    "\n",
    "# STEP 2: make a backup copy of the derived.recurrence_flows_conus table\n",
    "\n",
    "SELECT *\n",
    "INTO derived.recurrence_flows_conus_backup\n",
    "FROM derived.recurrence_flows_conus\n",
    "\n",
    "# STEP 3: Add the runnoff cluster field into a new \"dev\" copy of the table\n",
    "\n",
    "SELECT thresholds.*,\n",
    "    clusters.cluster\n",
    "INTO dev.recurrence_flows_conus\n",
    "FROM derived.recurrence_flows_conus as thresholds\n",
    "LEFT JOIN derived.featureid_huc_crosswalk as huc_xwalk ON huc_xwalk.feature_id = thresholds.feature_id\n",
    "LEFT JOIN derived.huc8_rf_thresholds as clusters ON clusters.huc8 = huc_xwalk.huc8\n",
    "\n",
    "# STEP 4: change the high_water_threshold values for all reaches of cluster 7 (from 3.2 to 2.5)\n",
    "\n",
    "UPDATE dev.recurrence_flows_conus\n",
    "SET high_water_threshold = rf_2_5\n",
    "WHERE cluster = 7\n",
    "\n",
    "# STEP 5: change the high_water_threshold values for all reaches of cluster 9 (from 1.1 to 1.0)\n",
    "\n",
    "UPDATE dev.recurrence_flows_conus\n",
    "SET high_water_threshold = rf_1_0\n",
    "WHERE cluster = 9\n",
    "\n",
    "# STEP 6: change all remaining zero high_water_threshold values to 0.35\n",
    "\n",
    "UPDATE dev.recurrence_flows_conus\n",
    "SET high_water_threshold = 0.35\n",
    "WHERE high_water_threshold = 0\n",
    "\n",
    "# STEP 7: copy the dev version of the recurrence_flows_conus table to the derived schema\n",
    "\n",
    "DROP table derived.recurrence_flows_conus;\n",
    "SELECT * \n",
    "INTO derived.recurrence_flows_conus\n",
    "FROM dev.recurrence_flows_conus"
   ]
  },
  {
   "cell_type": "markdown",
   "id": "4d69a244-5a4a-44de-a380-13cb7566936f",
   "metadata": {},
   "source": [
    "## CONUS recurrence table"
   ]
  },
  {
   "cell_type": "code",
   "execution_count": 2,
   "id": "a3c7de6e-1231-4c39-a590-e58d1406a04e",
   "metadata": {
    "tags": []
   },
   "outputs": [],
   "source": [
    "# Import the accompanying csv file to a dataframe - UPDATE THIS TO NEW CSV\n",
    "new_recurrence_flows_df = pd.read_csv(\"recurrence_flows_conus_3.csv\")\n",
    "\n",
    "# Round all columns to two decimals\n",
    "new_recurrence_flows_df = new_recurrence_flows_df.round(2)"
   ]
  },
  {
   "cell_type": "code",
   "execution_count": 7,
   "id": "f7d99b0f-349c-4271-892c-3562ac028932",
   "metadata": {
    "tags": []
   },
   "outputs": [
    {
     "data": {
      "text/plain": [
       "27734"
      ]
     },
     "execution_count": 7,
     "metadata": {},
     "output_type": "execute_result"
    }
   ],
   "source": [
    "# Define the database table you want to overwrite and upload the data - This can take 5-10 minutes due to the chunking required.\n",
    "schema_name = \"derived\"\n",
    "table_name = \"recurrence_flows_conus\"\n",
    "new_recurrence_flows_df.to_sql(table_name, con=viz_db, schema=schema_name, if_exists='replace', index=False, chunksize=100000)"
   ]
  },
  {
   "cell_type": "code",
   "execution_count": 8,
   "id": "f52e8cd1-e1fc-44b1-8183-1b85d0d1f985",
   "metadata": {
    "tags": []
   },
   "outputs": [
    {
     "name": "stdout",
     "output_type": "stream",
     "text": [
      "This result object does not return rows. It has been closed automatically.\n",
      "This result object does not return rows. It has been closed automatically.\n"
     ]
    }
   ],
   "source": [
    "# Change the feature_id column to integer type, and set the primary key to feature_id\n",
    "run_sql_in_db(f\"ALTER TABLE {schema_name}.{table_name} ALTER COLUMN feature_id TYPE integer;\")\n",
    "run_sql_in_db(f\"ALTER TABLE {schema_name}.{table_name} ADD PRIMARY KEY (feature_id);\")"
   ]
  },
  {
   "cell_type": "markdown",
   "id": "562fa7f2-af05-4af4-976e-131b4a085324",
   "metadata": {},
   "source": [
    "## OTHER domain recurrence tables"
   ]
  },
  {
   "cell_type": "code",
   "execution_count": 3,
   "id": "ce69f099-20c8-458a-a7e5-47a6ab9fe7fc",
   "metadata": {
    "tags": []
   },
   "outputs": [
    {
     "data": {
      "text/html": [
       "<div>\n",
       "<style scoped>\n",
       "    .dataframe tbody tr th:only-of-type {\n",
       "        vertical-align: middle;\n",
       "    }\n",
       "\n",
       "    .dataframe tbody tr th {\n",
       "        vertical-align: top;\n",
       "    }\n",
       "\n",
       "    .dataframe thead th {\n",
       "        text-align: right;\n",
       "    }\n",
       "</style>\n",
       "<table border=\"1\" class=\"dataframe\">\n",
       "  <thead>\n",
       "    <tr style=\"text-align: right;\">\n",
       "      <th></th>\n",
       "      <th>feature_id</th>\n",
       "      <th>rf_1_5</th>\n",
       "      <th>rf_2_0</th>\n",
       "      <th>rf_3_0</th>\n",
       "      <th>rf_4_0</th>\n",
       "      <th>rf_5_0</th>\n",
       "      <th>rf_10_0</th>\n",
       "      <th>rf_2_0_17c</th>\n",
       "      <th>rf_5_0_17c</th>\n",
       "      <th>rf_10_0_17c</th>\n",
       "      <th>rf_25_0_17c</th>\n",
       "      <th>rf_50_0_17c</th>\n",
       "      <th>high_water_threshold</th>\n",
       "    </tr>\n",
       "  </thead>\n",
       "  <tbody>\n",
       "    <tr>\n",
       "      <th>0</th>\n",
       "      <td>19020190000001</td>\n",
       "      <td>0.00</td>\n",
       "      <td>0.00</td>\n",
       "      <td>0.35</td>\n",
       "      <td>0.35</td>\n",
       "      <td>0.35</td>\n",
       "      <td>0.35</td>\n",
       "      <td>0.00</td>\n",
       "      <td>0.00</td>\n",
       "      <td>0.00</td>\n",
       "      <td>0.00</td>\n",
       "      <td>0.00</td>\n",
       "      <td>0.00</td>\n",
       "    </tr>\n",
       "    <tr>\n",
       "      <th>1</th>\n",
       "      <td>19020190000002</td>\n",
       "      <td>0.35</td>\n",
       "      <td>0.35</td>\n",
       "      <td>0.35</td>\n",
       "      <td>0.35</td>\n",
       "      <td>0.35</td>\n",
       "      <td>0.71</td>\n",
       "      <td>0.36</td>\n",
       "      <td>0.47</td>\n",
       "      <td>0.58</td>\n",
       "      <td>0.76</td>\n",
       "      <td>0.94</td>\n",
       "      <td>0.36</td>\n",
       "    </tr>\n",
       "    <tr>\n",
       "      <th>2</th>\n",
       "      <td>19020190000003</td>\n",
       "      <td>0.35</td>\n",
       "      <td>0.35</td>\n",
       "      <td>4.59</td>\n",
       "      <td>4.94</td>\n",
       "      <td>5.30</td>\n",
       "      <td>6.11</td>\n",
       "      <td>1.65</td>\n",
       "      <td>5.14</td>\n",
       "      <td>9.05</td>\n",
       "      <td>16.26</td>\n",
       "      <td>23.49</td>\n",
       "      <td>1.65</td>\n",
       "    </tr>\n",
       "    <tr>\n",
       "      <th>3</th>\n",
       "      <td>19020190000004</td>\n",
       "      <td>0.00</td>\n",
       "      <td>0.35</td>\n",
       "      <td>0.35</td>\n",
       "      <td>0.35</td>\n",
       "      <td>0.35</td>\n",
       "      <td>0.35</td>\n",
       "      <td>0.00</td>\n",
       "      <td>0.00</td>\n",
       "      <td>0.00</td>\n",
       "      <td>0.00</td>\n",
       "      <td>0.00</td>\n",
       "      <td>0.00</td>\n",
       "    </tr>\n",
       "    <tr>\n",
       "      <th>4</th>\n",
       "      <td>19020190000005</td>\n",
       "      <td>8.83</td>\n",
       "      <td>9.53</td>\n",
       "      <td>11.30</td>\n",
       "      <td>12.01</td>\n",
       "      <td>12.78</td>\n",
       "      <td>15.01</td>\n",
       "      <td>9.82</td>\n",
       "      <td>13.03</td>\n",
       "      <td>15.69</td>\n",
       "      <td>19.71</td>\n",
       "      <td>23.24</td>\n",
       "      <td>9.82</td>\n",
       "    </tr>\n",
       "    <tr>\n",
       "      <th>...</th>\n",
       "      <td>...</td>\n",
       "      <td>...</td>\n",
       "      <td>...</td>\n",
       "      <td>...</td>\n",
       "      <td>...</td>\n",
       "      <td>...</td>\n",
       "      <td>...</td>\n",
       "      <td>...</td>\n",
       "      <td>...</td>\n",
       "      <td>...</td>\n",
       "      <td>...</td>\n",
       "      <td>...</td>\n",
       "      <td>...</td>\n",
       "    </tr>\n",
       "    <tr>\n",
       "      <th>391517</th>\n",
       "      <td>75005400047360</td>\n",
       "      <td>0.00</td>\n",
       "      <td>0.00</td>\n",
       "      <td>0.35</td>\n",
       "      <td>0.35</td>\n",
       "      <td>0.35</td>\n",
       "      <td>0.35</td>\n",
       "      <td>0.35</td>\n",
       "      <td>0.35</td>\n",
       "      <td>0.35</td>\n",
       "      <td>0.35</td>\n",
       "      <td>0.35</td>\n",
       "      <td>0.35</td>\n",
       "    </tr>\n",
       "    <tr>\n",
       "      <th>391518</th>\n",
       "      <td>75005400047361</td>\n",
       "      <td>0.00</td>\n",
       "      <td>0.00</td>\n",
       "      <td>0.00</td>\n",
       "      <td>0.35</td>\n",
       "      <td>0.35</td>\n",
       "      <td>0.35</td>\n",
       "      <td>0.35</td>\n",
       "      <td>0.35</td>\n",
       "      <td>0.35</td>\n",
       "      <td>0.35</td>\n",
       "      <td>0.35</td>\n",
       "      <td>0.35</td>\n",
       "    </tr>\n",
       "    <tr>\n",
       "      <th>391519</th>\n",
       "      <td>75005400047362</td>\n",
       "      <td>0.00</td>\n",
       "      <td>0.00</td>\n",
       "      <td>0.00</td>\n",
       "      <td>0.00</td>\n",
       "      <td>0.00</td>\n",
       "      <td>0.00</td>\n",
       "      <td>0.00</td>\n",
       "      <td>0.00</td>\n",
       "      <td>0.00</td>\n",
       "      <td>0.00</td>\n",
       "      <td>0.00</td>\n",
       "      <td>0.00</td>\n",
       "    </tr>\n",
       "    <tr>\n",
       "      <th>391520</th>\n",
       "      <td>75005400047363</td>\n",
       "      <td>0.00</td>\n",
       "      <td>0.00</td>\n",
       "      <td>0.35</td>\n",
       "      <td>0.35</td>\n",
       "      <td>0.35</td>\n",
       "      <td>0.35</td>\n",
       "      <td>0.35</td>\n",
       "      <td>0.35</td>\n",
       "      <td>0.35</td>\n",
       "      <td>0.35</td>\n",
       "      <td>0.35</td>\n",
       "      <td>0.35</td>\n",
       "    </tr>\n",
       "    <tr>\n",
       "      <th>391521</th>\n",
       "      <td>75005400047364</td>\n",
       "      <td>0.00</td>\n",
       "      <td>0.00</td>\n",
       "      <td>0.00</td>\n",
       "      <td>0.00</td>\n",
       "      <td>0.00</td>\n",
       "      <td>0.35</td>\n",
       "      <td>0.00</td>\n",
       "      <td>0.00</td>\n",
       "      <td>0.00</td>\n",
       "      <td>0.00</td>\n",
       "      <td>0.00</td>\n",
       "      <td>0.00</td>\n",
       "    </tr>\n",
       "  </tbody>\n",
       "</table>\n",
       "<p>391522 rows × 13 columns</p>\n",
       "</div>"
      ],
      "text/plain": [
       "            feature_id  rf_1_5  rf_2_0  rf_3_0  rf_4_0  rf_5_0  rf_10_0  \\\n",
       "0       19020190000001    0.00    0.00    0.35    0.35    0.35     0.35   \n",
       "1       19020190000002    0.35    0.35    0.35    0.35    0.35     0.71   \n",
       "2       19020190000003    0.35    0.35    4.59    4.94    5.30     6.11   \n",
       "3       19020190000004    0.00    0.35    0.35    0.35    0.35     0.35   \n",
       "4       19020190000005    8.83    9.53   11.30   12.01   12.78    15.01   \n",
       "...                ...     ...     ...     ...     ...     ...      ...   \n",
       "391517  75005400047360    0.00    0.00    0.35    0.35    0.35     0.35   \n",
       "391518  75005400047361    0.00    0.00    0.00    0.35    0.35     0.35   \n",
       "391519  75005400047362    0.00    0.00    0.00    0.00    0.00     0.00   \n",
       "391520  75005400047363    0.00    0.00    0.35    0.35    0.35     0.35   \n",
       "391521  75005400047364    0.00    0.00    0.00    0.00    0.00     0.35   \n",
       "\n",
       "        rf_2_0_17c  rf_5_0_17c  rf_10_0_17c  rf_25_0_17c  rf_50_0_17c  \\\n",
       "0             0.00        0.00         0.00         0.00         0.00   \n",
       "1             0.36        0.47         0.58         0.76         0.94   \n",
       "2             1.65        5.14         9.05        16.26        23.49   \n",
       "3             0.00        0.00         0.00         0.00         0.00   \n",
       "4             9.82       13.03        15.69        19.71        23.24   \n",
       "...            ...         ...          ...          ...          ...   \n",
       "391517        0.35        0.35         0.35         0.35         0.35   \n",
       "391518        0.35        0.35         0.35         0.35         0.35   \n",
       "391519        0.00        0.00         0.00         0.00         0.00   \n",
       "391520        0.35        0.35         0.35         0.35         0.35   \n",
       "391521        0.00        0.00         0.00         0.00         0.00   \n",
       "\n",
       "        high_water_threshold  \n",
       "0                       0.00  \n",
       "1                       0.36  \n",
       "2                       1.65  \n",
       "3                       0.00  \n",
       "4                       9.82  \n",
       "...                      ...  \n",
       "391517                  0.35  \n",
       "391518                  0.35  \n",
       "391519                  0.00  \n",
       "391520                  0.35  \n",
       "391521                  0.00  \n",
       "\n",
       "[391522 rows x 13 columns]"
      ]
     },
     "execution_count": 3,
     "metadata": {},
     "output_type": "execute_result"
    }
   ],
   "source": [
    "# Import the accompanying csv file to a dataframe - UPDATE THIS TO NEW CSV\n",
    "new_recurrence_flows_df = pd.read_csv(\"recurrence_flows_nwm_v3_AK.csv\")\n",
    "\n",
    "# Round all columns to two decimals\n",
    "new_recurrence_flows_df = new_recurrence_flows_df.round(2)\n",
    "new_recurrence_flows_df"
   ]
  },
  {
   "cell_type": "code",
   "execution_count": 4,
   "id": "39f8bcc9-a050-4b28-86d4-2ac20396c9f7",
   "metadata": {
    "tags": []
   },
   "outputs": [
    {
     "data": {
      "text/plain": [
       "3522"
      ]
     },
     "execution_count": 4,
     "metadata": {},
     "output_type": "execute_result"
    }
   ],
   "source": [
    "# Define the database table you want to overwrite and upload the data - This can take 5-10 minutes due to the chunking required.\n",
    "schema_name = \"derived\"\n",
    "table_name = \"recurrence_flows_ak\"\n",
    "new_recurrence_flows_df.to_sql(table_name, con=viz_db, schema=schema_name, if_exists='replace', index=False, chunksize=100000)"
   ]
  },
  {
   "cell_type": "code",
   "execution_count": 7,
   "id": "f409c996-f405-4ecb-ba2e-c4247e7eb1f1",
   "metadata": {
    "tags": []
   },
   "outputs": [
    {
     "name": "stdout",
     "output_type": "stream",
     "text": [
      "This result object does not return rows. It has been closed automatically.\n"
     ]
    }
   ],
   "source": [
    "# Change the feature_id column to integer type, and set the primary key to feature_id\n",
    "run_sql_in_db(f\"ALTER TABLE {schema_name}.{table_name} ALTER COLUMN feature_id TYPE integer;\")\n",
    "run_sql_in_db(f\"ALTER TABLE {schema_name}.{table_name} ADD PRIMARY KEY (feature_id);\")"
   ]
  },
  {
   "cell_type": "markdown",
   "id": "13171a68-12ed-43e2-885f-f2e08ea045ed",
   "metadata": {},
   "source": [
    "### Extra Stuff"
   ]
  },
  {
   "cell_type": "code",
   "execution_count": null,
   "id": "930e6d51-118c-4a8b-b946-4001a05b7158",
   "metadata": {
    "tags": []
   },
   "outputs": [],
   "source": [
    "# This is how you save a local csv from an existing table - how I created the recurrence_flows_conus_2_1 csv.\n",
    "import pandas as pd\n",
    "df = pd.read_sql(\"SELECT * FROM derived.recurrence_flows_conus\", con=viz_db, index_col=\"feature_id\")\n",
    "df.to_csv(\"recurrence_flows_conus_2_1.csv\")"
   ]
  },
  {
   "cell_type": "code",
   "execution_count": null,
   "id": "6eb689bd-e912-4c96-a9bd-9ab136d0ce9d",
   "metadata": {},
   "outputs": [],
   "source": [
    "# If you get a permissions error that you're not the owner of the table, a db admin like Shawn or Nick\n",
    "# Can change the owner of the target table by running this SQL as postgres:\n",
    "ALTER TABLE IF EXISTS derived.recurrence_flows_conus_test\n",
    "    OWNER to viz_proc_admin_rw_user;"
   ]
  },
  {
   "cell_type": "markdown",
   "id": "69ab5ffa-111d-4eee-b0fd-0ca1bf35c0d2",
   "metadata": {},
   "source": [
    "## SQL that creates a new table with HW threshold differences - to be used for a WPOD evaluation static service"
   ]
  },
  {
   "cell_type": "code",
   "execution_count": null,
   "id": "9e521e97-74ae-4703-984e-b0ccf292bfe5",
   "metadata": {},
   "outputs": [],
   "source": [
    "DROP TABLE IF EXISTS publish.streamflow_aep_high_water_comparison;\n",
    "SELECT \n",
    "    row_number() over () as oid,\n",
    "    current.feature_id,\n",
    "    current.high_water_threshold as current_high_water_threshold,\n",
    "    '3.0' as current_version,\n",
    "    previous.high_water_threshold as previous_high_water_threshold,\n",
    "    '2.1' as previous_version,\n",
    "    ROUND((current.high_water_threshold - previous.high_water_threshold)::numeric, 2) as difference,\n",
    "    CASE\n",
    "        WHEN previous.high_water_threshold = 0\n",
    "        THEN 0\n",
    "        WHEN previous.high_water_threshold = -21474836.48\n",
    "        THEN 0\n",
    "        #ELSE ROUND(100 * ((current.high_water_threshold - previous.high_water_threshold) / current.high_water_threshold)::numeric, 0)\n",
    "        # v1 = v21 or previous, and  v2 = v3 or current   ((v2 - v1)/v1)*100\n",
    "        ELSE ROUND(100 * ((current.high_water_threshold - previous.high_water_threshold) / previous.high_water_threshold)::numeric, 0)\n",
    "    END as percent_difference,\n",
    "    strm_order,\n",
    "    geom\n",
    "INTO publish.streamflow_aep_high_water_comparison\n",
    "FROM derived.recurrence_flows_conus AS current\n",
    "LEFT JOIN derived.recurrence_flows_conus_2_1 AS previous\n",
    "    ON previous.feature_id = current.feature_id\n",
    "LEFT JOIN derived.channels_conus channel\n",
    "    ON channel.feature_id = current.feature_id"
   ]
  }
 ],
 "metadata": {
  "kernelspec": {
   "display_name": "conda_python3",
   "language": "python",
   "name": "conda_python3"
  },
  "language_info": {
   "codemirror_mode": {
    "name": "ipython",
    "version": 3
   },
   "file_extension": ".py",
   "mimetype": "text/x-python",
   "name": "python",
   "nbconvert_exporter": "python",
   "pygments_lexer": "ipython3",
   "version": "3.10.14"
  }
 },
 "nbformat": 4,
 "nbformat_minor": 5
}
