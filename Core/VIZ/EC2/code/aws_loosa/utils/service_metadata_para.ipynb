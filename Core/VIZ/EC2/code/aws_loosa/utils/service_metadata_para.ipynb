{
 "cells": [
  {
   "cell_type": "markdown",
   "id": "e236f9e4",
   "metadata": {},
   "source": [
    "<h1><b>This notebook is to track and edit service metadata, including service data flows. For each service, create a markdown cell and write what service the following code will edit</b></h1>"
   ]
  },
  {
   "cell_type": "markdown",
   "id": "76c77f5e",
   "metadata": {},
   "source": [
    "#### IF YOU MAKE CHANGES TO THIS NOTEBOOK, YOU ARE RESPONSIBLE TO COMITTING THOSE CHANGES TO THE REPO IN THE HYDROVIS-VISUALIZATION REPO ####"
   ]
  },
  {
   "cell_type": "code",
   "execution_count": 42,
   "id": "3ac7926b",
   "metadata": {},
   "outputs": [
    {
     "name": "stdout",
     "output_type": "stream",
     "text": [
      "Requirement already satisfied: geopandas in /home/ec2-user/anaconda3/envs/python3/lib/python3.6/site-packages (0.9.0)\n",
      "Requirement already satisfied: contextily in /home/ec2-user/anaconda3/envs/python3/lib/python3.6/site-packages (1.1.0)\n",
      "Requirement already satisfied: pyproj>=2.2.0 in /home/ec2-user/anaconda3/envs/python3/lib/python3.6/site-packages (from geopandas) (3.0.1)\n",
      "Requirement already satisfied: pandas>=0.24.0 in /home/ec2-user/anaconda3/envs/python3/lib/python3.6/site-packages (from geopandas) (1.1.5)\n",
      "Requirement already satisfied: fiona>=1.8 in /home/ec2-user/anaconda3/envs/python3/lib/python3.6/site-packages (from geopandas) (1.8.22)\n",
      "Requirement already satisfied: shapely>=1.6 in /home/ec2-user/anaconda3/envs/python3/lib/python3.6/site-packages (from geopandas) (1.8.5.post1)\n",
      "Requirement already satisfied: mercantile in /home/ec2-user/anaconda3/envs/python3/lib/python3.6/site-packages (from contextily) (1.2.1)\n",
      "Requirement already satisfied: rasterio in /home/ec2-user/anaconda3/envs/python3/lib/python3.6/site-packages (from contextily) (1.2.10)\n",
      "Requirement already satisfied: geopy in /home/ec2-user/anaconda3/envs/python3/lib/python3.6/site-packages (from contextily) (2.2.0)\n",
      "Requirement already satisfied: matplotlib in /home/ec2-user/anaconda3/envs/python3/lib/python3.6/site-packages (from contextily) (3.3.4)\n",
      "Requirement already satisfied: pillow in /home/ec2-user/anaconda3/envs/python3/lib/python3.6/site-packages (from contextily) (8.4.0)\n",
      "Requirement already satisfied: joblib in /home/ec2-user/anaconda3/envs/python3/lib/python3.6/site-packages (from contextily) (1.0.1)\n",
      "Requirement already satisfied: requests in /home/ec2-user/anaconda3/envs/python3/lib/python3.6/site-packages (from contextily) (2.26.0)\n",
      "Requirement already satisfied: munch in /home/ec2-user/anaconda3/envs/python3/lib/python3.6/site-packages (from fiona>=1.8->geopandas) (2.5.0)\n",
      "Requirement already satisfied: setuptools in /home/ec2-user/anaconda3/envs/python3/lib/python3.6/site-packages (from fiona>=1.8->geopandas) (49.6.0.post20210108)\n",
      "Requirement already satisfied: certifi in /home/ec2-user/anaconda3/envs/python3/lib/python3.6/site-packages (from fiona>=1.8->geopandas) (2021.5.30)\n",
      "Requirement already satisfied: click-plugins>=1.0 in /home/ec2-user/anaconda3/envs/python3/lib/python3.6/site-packages (from fiona>=1.8->geopandas) (1.1.1)\n",
      "Requirement already satisfied: cligj>=0.5 in /home/ec2-user/anaconda3/envs/python3/lib/python3.6/site-packages (from fiona>=1.8->geopandas) (0.7.2)\n",
      "Requirement already satisfied: six>=1.7 in /home/ec2-user/anaconda3/envs/python3/lib/python3.6/site-packages (from fiona>=1.8->geopandas) (1.15.0)\n",
      "Requirement already satisfied: click>=4.0 in /home/ec2-user/anaconda3/envs/python3/lib/python3.6/site-packages (from fiona>=1.8->geopandas) (7.1.2)\n",
      "Requirement already satisfied: attrs>=17 in /home/ec2-user/anaconda3/envs/python3/lib/python3.6/site-packages (from fiona>=1.8->geopandas) (20.3.0)\n",
      "Requirement already satisfied: python-dateutil>=2.7.3 in /home/ec2-user/anaconda3/envs/python3/lib/python3.6/site-packages (from pandas>=0.24.0->geopandas) (2.8.1)\n",
      "Requirement already satisfied: pytz>=2017.2 in /home/ec2-user/anaconda3/envs/python3/lib/python3.6/site-packages (from pandas>=0.24.0->geopandas) (2021.1)\n",
      "Requirement already satisfied: numpy>=1.15.4 in /home/ec2-user/anaconda3/envs/python3/lib/python3.6/site-packages (from pandas>=0.24.0->geopandas) (1.19.5)\n",
      "Requirement already satisfied: geographiclib<2,>=1.49 in /home/ec2-user/anaconda3/envs/python3/lib/python3.6/site-packages (from geopy->contextily) (1.52)\n",
      "Requirement already satisfied: pyparsing!=2.0.4,!=2.1.2,!=2.1.6,>=2.0.3 in /home/ec2-user/anaconda3/envs/python3/lib/python3.6/site-packages (from matplotlib->contextily) (2.4.7)\n",
      "Requirement already satisfied: cycler>=0.10 in /home/ec2-user/anaconda3/envs/python3/lib/python3.6/site-packages (from matplotlib->contextily) (0.10.0)\n",
      "Requirement already satisfied: kiwisolver>=1.0.1 in /home/ec2-user/anaconda3/envs/python3/lib/python3.6/site-packages (from matplotlib->contextily) (1.3.1)\n",
      "Requirement already satisfied: affine in /home/ec2-user/anaconda3/envs/python3/lib/python3.6/site-packages (from rasterio->contextily) (2.3.1)\n",
      "Requirement already satisfied: snuggs>=1.4.1 in /home/ec2-user/anaconda3/envs/python3/lib/python3.6/site-packages (from rasterio->contextily) (1.4.7)\n",
      "Requirement already satisfied: charset-normalizer~=2.0.0 in /home/ec2-user/anaconda3/envs/python3/lib/python3.6/site-packages (from requests->contextily) (2.0.9)\n",
      "Requirement already satisfied: idna<4,>=2.5 in /home/ec2-user/anaconda3/envs/python3/lib/python3.6/site-packages (from requests->contextily) (3.1)\n",
      "Requirement already satisfied: urllib3<1.27,>=1.21.1 in /home/ec2-user/anaconda3/envs/python3/lib/python3.6/site-packages (from requests->contextily) (1.26.8)\n"
     ]
    }
   ],
   "source": [
    "!pip install geopandas contextily"
   ]
  },
  {
   "cell_type": "code",
   "execution_count": 43,
   "id": "4b43344b",
   "metadata": {},
   "outputs": [],
   "source": [
    "from helper_functions.shared_functions import *"
   ]
  },
  {
   "cell_type": "markdown",
   "id": "10335c0b",
   "metadata": {},
   "source": [
    "<h2><b>Max Flows</b></h2>"
   ]
  },
  {
   "cell_type": "markdown",
   "id": "92ae8b2c",
   "metadata": {},
   "source": [
    "<h3>AnA Past 14-Day</h3>"
   ]
  },
  {
   "cell_type": "code",
   "execution_count": 44,
   "id": "2ee2bc92",
   "metadata": {},
   "outputs": [
    {
     "name": "stdout",
     "output_type": "stream",
     "text": [
      "This result object does not return rows. It has been closed automatically.\n",
      "This result object does not return rows. It has been closed automatically.\n",
      "This result object does not return rows. It has been closed automatically.\n",
      "This result object does not return rows. It has been closed automatically.\n",
      "This result object does not return rows. It has been closed automatically.\n",
      "This result object does not return rows. It has been closed automatically.\n"
     ]
    }
   ],
   "source": [
    "service = 'ana_past_14day_max_flows'\n",
    "configuration = 'analysis_assim'\n",
    "postprocess_max_flows = None\n",
    "postprocess_service = None\n",
    "postprocess_summary = None\n",
    "summary = 'Service for creating the AnA 14 day and 7 day max flows files'\n",
    "description = 'Service for creating the AnA 14 day and 7 day max flows files'\n",
    "tags = None\n",
    "credits = None\n",
    "egis_server = None\n",
    "egis_folder = None\n",
    "fim_service = False\n",
    "feature_service = False\n",
    "run = True\n",
    "fim_configs = None\n",
    "public_service = False\n",
    "max_flow_method = \"lambda\"\n",
    "\n",
    "update_service_metadata(service, configuration, summary, description, tags, credits, egis_server, egis_folder, max_flows_sql_name=postprocess_max_flows, service_sql_name=postprocess_service, summary_sql_name=postprocess_summary, fim_service=fim_service, feature_service=feature_service, run=run, fim_configs=fim_configs, public_service=public_service, max_flow_method=max_flow_method)\n",
    "\n",
    "flow_id = '1'\n",
    "step = 'max_flows'\n",
    "file_format = 'common/data/model/com/nwm/prod/nwm.{{datetime:%Y%m%d}}/analysis_assim/nwm.t{{datetime:%H}}z.analysis_assim.channel_rt.tm00.conus.nc'\n",
    "source_table = None\n",
    "target_table = 'analysis_assim_14day'\n",
    "target_keys = None\n",
    "file_step = '1H'\n",
    "file_window = 'P7D'\n",
    "\n",
    "update_service_data_flows(service, flow_id, step, source_table, target_table, target_keys, file_step=file_step, file_window=file_window, file_format=file_format)\n",
    "\n",
    "flow_id = '2'\n",
    "step = 'max_flows'\n",
    "file_format = 'common/data/model/com/nwm/prod/nwm.{{datetime:%Y%m%d}}/analysis_assim/nwm.t{{datetime:%H}}z.analysis_assim.channel_rt.tm00.conus.nc'\n",
    "source_table = None\n",
    "target_table = 'analysis_assim_14day'\n",
    "target_keys = None\n",
    "file_step = '1H'\n",
    "file_window = 'P14D'\n",
    "\n",
    "update_service_data_flows(service, flow_id, step, source_table, target_table, target_keys, file_step=file_step, file_window=file_window, file_format=file_format)"
   ]
  },
  {
   "cell_type": "markdown",
   "id": "dedfe8cd",
   "metadata": {},
   "source": [
    "<h3>AnA Past 14-Day - Para</h3>"
   ]
  },
  {
   "cell_type": "code",
   "execution_count": 45,
   "id": "5b4f480d",
   "metadata": {},
   "outputs": [
    {
     "name": "stdout",
     "output_type": "stream",
     "text": [
      "This result object does not return rows. It has been closed automatically.\n",
      "This result object does not return rows. It has been closed automatically.\n",
      "This result object does not return rows. It has been closed automatically.\n",
      "This result object does not return rows. It has been closed automatically.\n",
      "This result object does not return rows. It has been closed automatically.\n",
      "This result object does not return rows. It has been closed automatically.\n"
     ]
    }
   ],
   "source": [
    "service = 'ana_past_14day_para_max_flows'\n",
    "configuration = 'analysis_assim_para'\n",
    "postprocess_max_flows = None\n",
    "postprocess_service = None\n",
    "postprocess_summary = None\n",
    "summary = 'Service for creating the AnA 14 day and 7 day max flows files'\n",
    "description = 'Service for creating the AnA 14 day and 7 day max flows files'\n",
    "tags = None\n",
    "credits = None\n",
    "egis_server = None\n",
    "egis_folder = None\n",
    "fim_service = False\n",
    "feature_service = False\n",
    "run = True\n",
    "fim_configs = None\n",
    "public_service = False\n",
    "max_flow_method = \"lambda\"\n",
    "\n",
    "update_service_metadata(service, configuration, summary, description, tags, credits, egis_server, egis_folder, max_flows_sql_name=postprocess_max_flows, service_sql_name=postprocess_service, summary_sql_name=postprocess_summary, fim_service=fim_service, feature_service=feature_service, run=run, fim_configs=fim_configs, public_service=public_service, max_flow_method=max_flow_method)\n",
    "\n",
    "flow_id = '1'\n",
    "step = 'max_flows'\n",
    "file_format = 'common/data/model/com/nwm/para/nwm.{{datetime:%Y%m%d}}/analysis_assim/nwm.t{{datetime:%H}}z.analysis_assim.channel_rt.tm00.conus.nc'\n",
    "source_table = None\n",
    "target_table = 'analysis_assim_14day_para'\n",
    "target_keys = None\n",
    "file_step = '1H'\n",
    "file_window = 'P7D'\n",
    "\n",
    "update_service_data_flows(service, flow_id, step, source_table, target_table, target_keys, file_step=file_step, file_window=file_window, file_format=file_format)\n",
    "\n",
    "flow_id = '2'\n",
    "step = 'max_flows'\n",
    "file_format = 'common/data/model/com/nwm/para/nwm.{{datetime:%Y%m%d}}/analysis_assim/nwm.t{{datetime:%H}}z.analysis_assim.channel_rt.tm00.conus.nc'\n",
    "source_table = None\n",
    "target_table = 'analysis_assim_14day_para'\n",
    "target_keys = None\n",
    "file_step = '1H'\n",
    "file_window = 'P14D'\n",
    "\n",
    "update_service_data_flows(service, flow_id, step, source_table, target_table, target_keys, file_step=file_step, file_window=file_window, file_format=file_format)"
   ]
  },
  {
   "cell_type": "markdown",
   "id": "07b1f5f8",
   "metadata": {},
   "source": [
    "<h2><b>Non FIM Vector Services</b></h2>"
   ]
  },
  {
   "cell_type": "markdown",
   "id": "ed32205c",
   "metadata": {},
   "source": [
    "<h3>AnA Anomaly</h3>"
   ]
  },
  {
   "cell_type": "code",
   "execution_count": 46,
   "id": "270cf8fc",
   "metadata": {},
   "outputs": [
    {
     "name": "stdout",
     "output_type": "stream",
     "text": [
      "This result object does not return rows. It has been closed automatically.\n",
      "This result object does not return rows. It has been closed automatically.\n",
      "This result object does not return rows. It has been closed automatically.\n",
      "This result object does not return rows. It has been closed automatically.\n"
     ]
    }
   ],
   "source": [
    "service = 'ana_anomaly'\n",
    "configuration = 'analysis_assim'\n",
    "postprocess_max_flows = None\n",
    "postprocess_service = None\n",
    "postprocess_summary = None\n",
    "summary = 'Streamflow Anomaly'\n",
    "description = 'Depicts seasonal streamflow anomalies derived from the analysis and assimilation configuration of the National Water Model (NWM) over the contiguous U.S. Anomalies are based on 7-day and 14-day moving average streamflow percentiles for each reach and the current calendar day. Updated daily.'\n",
    "tags = 'streamflow,anomaly,national,water,model,nwm'\n",
    "credits = 'National Water Model, NOAA/NWS National Water Center'\n",
    "egis_server = 'server'\n",
    "egis_folder = 'nwm'\n",
    "fim_service = False\n",
    "feature_service = False\n",
    "run = False\n",
    "fim_configs = None\n",
    "public_service = True\n",
    "max_flow_method = \"pipeline\"\n",
    "\n",
    "update_service_metadata(service, configuration, summary, description, tags, credits, egis_server, egis_folder, max_flows_sql_name=postprocess_max_flows, service_sql_name=postprocess_service, summary_sql_name=postprocess_summary, fim_service=fim_service, feature_service=feature_service, run=run, fim_configs=fim_configs, public_service=public_service, max_flow_method=max_flow_method)\n",
    "\n",
    "flow_id = '1'\n",
    "step = 'ingest'\n",
    "file_format = 'common/data/model/com/nwm/prod/nwm.{{datetime:%Y%m%d}}/analysis_assim/nwm.t{{datetime:%H}}z.analysis_assim.channel_rt.tm00.conus.nc'\n",
    "source_table = None\n",
    "target_table = None\n",
    "target_keys = None\n",
    "file_step = '1H'\n",
    "file_window = 'P14D'\n",
    "\n",
    "update_service_data_flows(service, flow_id, step, source_table, target_table, target_keys, file_step=file_step, file_window=file_window, file_format=file_format)"
   ]
  },
  {
   "cell_type": "markdown",
   "id": "e38e9a32",
   "metadata": {},
   "source": [
    "<h3>AnA Anomaly - Para</h3>"
   ]
  },
  {
   "cell_type": "code",
   "execution_count": 47,
   "id": "79ac3a1b",
   "metadata": {},
   "outputs": [
    {
     "name": "stdout",
     "output_type": "stream",
     "text": [
      "This result object does not return rows. It has been closed automatically.\n",
      "This result object does not return rows. It has been closed automatically.\n",
      "This result object does not return rows. It has been closed automatically.\n",
      "This result object does not return rows. It has been closed automatically.\n"
     ]
    }
   ],
   "source": [
    "service = 'ana_anomaly_para'\n",
    "configuration = 'analysis_assim_para'\n",
    "postprocess_max_flows = None\n",
    "postprocess_service = None\n",
    "postprocess_summary = None\n",
    "summary = 'Streamflow Anomaly'\n",
    "description = 'Depicts seasonal streamflow anomalies derived from the analysis and assimilation configuration of the National Water Model (NWM) over the contiguous U.S. Anomalies are based on 7-day and 14-day moving average streamflow percentiles for each reach and the current calendar day. Updated daily.'\n",
    "tags = 'streamflow,anomaly,national,water,model,nwm'\n",
    "credits = 'National Water Model, NOAA/NWS National Water Center'\n",
    "egis_server = 'server'\n",
    "egis_folder = 'para'\n",
    "fim_service = False\n",
    "feature_service = False\n",
    "run = False\n",
    "fim_configs = None\n",
    "public_service = True\n",
    "max_flow_method = \"pipeline\"\n",
    "\n",
    "update_service_metadata(service, configuration, summary, description, tags, credits, egis_server, egis_folder, max_flows_sql_name=postprocess_max_flows, service_sql_name=postprocess_service, summary_sql_name=postprocess_summary, fim_service=fim_service, feature_service=feature_service, run=run, fim_configs=fim_configs, public_service=public_service, max_flow_method=max_flow_method)\n",
    "\n",
    "flow_id = '1'\n",
    "step = 'ingest'\n",
    "file_format = 'common/data/model/com/nwm/para/nwm.{{datetime:%Y%m%d}}/analysis_assim/nwm.t{{datetime:%H}}z.analysis_assim.channel_rt.tm00.conus.nc'\n",
    "source_table = None\n",
    "target_table = None\n",
    "target_keys = None\n",
    "file_step = '1H'\n",
    "file_window = 'P14D'\n",
    "\n",
    "update_service_data_flows(service, flow_id, step, source_table, target_table, target_keys, file_step=file_step, file_window=file_window, file_format=file_format)"
   ]
  },
  {
   "cell_type": "markdown",
   "id": "2e1c9be6",
   "metadata": {},
   "source": [
    "<h3>AnA High Flow Magnitude</h3>"
   ]
  },
  {
   "cell_type": "code",
   "execution_count": 48,
   "id": "284d4c77",
   "metadata": {},
   "outputs": [
    {
     "name": "stdout",
     "output_type": "stream",
     "text": [
      "This result object does not return rows. It has been closed automatically.\n",
      "This result object does not return rows. It has been closed automatically.\n",
      "This result object does not return rows. It has been closed automatically.\n",
      "This result object does not return rows. It has been closed automatically.\n",
      "This result object does not return rows. It has been closed automatically.\n",
      "This result object does not return rows. It has been closed automatically.\n"
     ]
    }
   ],
   "source": [
    "service = 'ana_high_flow_magnitude'\n",
    "configuration = 'analysis_assim'\n",
    "postprocess_max_flows = ['ana_max_flows']\n",
    "postprocess_service = 'ana_high_flow_magnitude'\n",
    "postprocess_summary = None\n",
    "summary = 'High Flow Magnitude'\n",
    "description = 'Depicts the magnitude of the National Water Model (NWM) streamflow forecast where the NWM is signaling high water. This service is derived from the analysis and assimilation configuration of the NWM over the contiguous U.S. Shown are reaches with flow at or above high water thresholds. Reaches are colored by the annual exceedance probability (AEP) of their current flow. High water thresholds (regionally varied) and AEPs were derived using the 40-year NWM v2.1 reanalysis simulation. Updated hourly'\n",
    "tags = 'high flow, magnitude, national water model, nwm'\n",
    "credits = 'National Water Model, NOAA/NWS National Water Center'\n",
    "egis_server = 'server'\n",
    "egis_folder = 'nwm'\n",
    "fim_service = False\n",
    "feature_service = False\n",
    "run = False\n",
    "fim_configs = None\n",
    "public_service = True\n",
    "max_flow_method = \"pipeline\"\n",
    "\n",
    "update_service_metadata(service, configuration, summary, description, tags, credits, egis_server, egis_folder, max_flows_sql_name=postprocess_max_flows, service_sql_name=postprocess_service, summary_sql_name=postprocess_summary, fim_service=fim_service, feature_service=feature_service, run=run, fim_configs=fim_configs, public_service=public_service, max_flow_method=max_flow_method)\n",
    "\n",
    "flow_id = '1'\n",
    "step = 'ingest'\n",
    "file_format = 'common/data/model/com/nwm/prod/nwm.{{datetime:%Y%m%d}}/analysis_assim/nwm.t{{datetime:%H}}z.analysis_assim.channel_rt.tm00.conus.nc'\n",
    "source_table = None\n",
    "target_table = 'ingest.nwm_channel_rt_ana'\n",
    "target_keys = '(feature_id, streamflow)'\n",
    "file_step = None\n",
    "file_window = None\n",
    "\n",
    "update_service_data_flows(service, flow_id, step, source_table, target_table, target_keys, file_step=file_step, file_window=file_window, file_format=file_format)\n",
    "\n",
    "flow_id = '2'\n",
    "step = 'max_flows'\n",
    "file_format = None\n",
    "source_table = 'ingest.nwm_channel_rt_ana'\n",
    "target_table = 'cache.max_flows_ana'\n",
    "target_keys = '(feature_id, streamflow)'\n",
    "file_step = None\n",
    "file_window = None\n",
    "\n",
    "update_service_data_flows(service, flow_id, step, source_table, target_table, target_keys, file_step=file_step, file_window=file_window, file_format=file_format)"
   ]
  },
  {
   "cell_type": "markdown",
   "id": "5a2b4e92",
   "metadata": {},
   "source": [
    "<h3>AnA High Flow Magnitude - Para</h3>"
   ]
  },
  {
   "cell_type": "code",
   "execution_count": 49,
   "id": "dd9c3742",
   "metadata": {},
   "outputs": [
    {
     "name": "stdout",
     "output_type": "stream",
     "text": [
      "This result object does not return rows. It has been closed automatically.\n",
      "This result object does not return rows. It has been closed automatically.\n",
      "This result object does not return rows. It has been closed automatically.\n",
      "This result object does not return rows. It has been closed automatically.\n",
      "This result object does not return rows. It has been closed automatically.\n",
      "This result object does not return rows. It has been closed automatically.\n"
     ]
    }
   ],
   "source": [
    "service = 'ana_high_flow_magnitude_para'\n",
    "configuration = 'analysis_assim_para'\n",
    "postprocess_max_flows = ['ana_max_flows_para']\n",
    "postprocess_service = 'ana_high_flow_magnitude_para'\n",
    "postprocess_summary = None\n",
    "summary = 'High Flow Magnitude'\n",
    "description = 'Depicts the magnitude of the National Water Model (NWM) streamflow forecast where the NWM is signaling high water. This service is derived from the analysis and assimilation configuration of the NWM over the contiguous U.S. Shown are reaches with flow at or above high water thresholds. Reaches are colored by the annual exceedance probability (AEP) of their current flow. High water thresholds (regionally varied) and AEPs were derived using the 40-year NWM v2.1 reanalysis simulation. Updated hourly'\n",
    "tags = 'high flow, magnitude, national water model, nwm'\n",
    "credits = 'National Water Model, NOAA/NWS National Water Center'\n",
    "egis_server = 'server'\n",
    "egis_folder = 'nwm'\n",
    "fim_service = False\n",
    "feature_service = False\n",
    "run = True\n",
    "fim_configs = None\n",
    "public_service = True\n",
    "max_flow_method = \"pipeline\"\n",
    "\n",
    "update_service_metadata(service, configuration, summary, description, tags, credits, egis_server, egis_folder, max_flows_sql_name=postprocess_max_flows, service_sql_name=postprocess_service, summary_sql_name=postprocess_summary, fim_service=fim_service, feature_service=feature_service, run=run, fim_configs=fim_configs, public_service=public_service, max_flow_method=max_flow_method)\n",
    "\n",
    "flow_id = '1'\n",
    "step = 'ingest'\n",
    "file_format = 'common/data/model/com/nwm/para/nwm.{{datetime:%Y%m%d}}/analysis_assim/nwm.t{{datetime:%H}}z.analysis_assim.channel_rt.tm00.conus.nc'\n",
    "source_table = None\n",
    "target_table = 'ingest.nwm_channel_rt_ana_para'\n",
    "target_keys = '(feature_id, streamflow)'\n",
    "file_step = None\n",
    "file_window = None\n",
    "\n",
    "update_service_data_flows(service, flow_id, step, source_table, target_table, target_keys, file_step=file_step, file_window=file_window, file_format=file_format)\n",
    "\n",
    "flow_id = '2'\n",
    "step = 'max_flows'\n",
    "file_format = None\n",
    "source_table = 'ingest.nwm_channel_rt_ana_para'\n",
    "target_table = 'cache.max_flows_ana_para'\n",
    "target_keys = '(feature_id, streamflow)'\n",
    "file_step = None\n",
    "file_window = None\n",
    "\n",
    "update_service_data_flows(service, flow_id, step, source_table, target_table, target_keys, file_step=file_step, file_window=file_window, file_format=file_format)"
   ]
  },
  {
   "cell_type": "markdown",
   "id": "7aac0946",
   "metadata": {},
   "source": [
    "<h3>AnA High Flow Magnitude Hawaii</h3>"
   ]
  },
  {
   "cell_type": "code",
   "execution_count": 50,
   "id": "dca52be8",
   "metadata": {},
   "outputs": [
    {
     "name": "stdout",
     "output_type": "stream",
     "text": [
      "This result object does not return rows. It has been closed automatically.\n",
      "This result object does not return rows. It has been closed automatically.\n",
      "This result object does not return rows. It has been closed automatically.\n",
      "This result object does not return rows. It has been closed automatically.\n",
      "This result object does not return rows. It has been closed automatically.\n",
      "This result object does not return rows. It has been closed automatically.\n"
     ]
    }
   ],
   "source": [
    "service = 'ana_high_flow_magnitude_hi'\n",
    "configuration = 'analysis_assim_hawaii'\n",
    "postprocess_max_flows = ['ana_max_flows_hi']\n",
    "postprocess_service = 'ana_high_flow_magnitude_hi'\n",
    "postprocess_summary = None\n",
    "summary = 'High Flow Magnitude Hawaii'\n",
    "description = 'Depicts the magnitude of the National Water Model (NWM) streamflow forecast where the NWM is signaling high water. This service is derived from the analysis and assimilation configuration of the NWM over Hawaii. Shown are reaches with flow at or above high water thresholds. Reaches are colored by the annual exceedance probability (AEP) of their current flow. High water thresholds and AEPs were derived from USGS regression equations found at https://pubs.usgs.gov/sir/2010/5035/sir2010-5035_text.pdf. Updated hourly.'\n",
    "tags = 'high,flow,magnitude,national,water,model,nwm,hawaii,hi'\n",
    "credits = 'National Water Model, NOAA/NWS National Water Center'\n",
    "egis_server = 'server'\n",
    "egis_folder = 'nwm'\n",
    "fim_service = False\n",
    "feature_service = False\n",
    "run = False\n",
    "fim_configs = None\n",
    "public_service = True\n",
    "max_flow_method = \"pipeline\"\n",
    "\n",
    "update_service_metadata(service, configuration, summary, description, tags, credits, egis_server, egis_folder, max_flows_sql_name=postprocess_max_flows, service_sql_name=postprocess_service, summary_sql_name=postprocess_summary, fim_service=fim_service, feature_service=feature_service, run=run, fim_configs=fim_configs, public_service=public_service, max_flow_method=max_flow_method)\n",
    "\n",
    "flow_id = '1'\n",
    "step = 'ingest'\n",
    "file_format = 'common/data/model/com/nwm/prod/nwm.{{datetime:%Y%m%d}}/analysis_assim_hawaii/nwm.t{{datetime:%H}}z.analysis_assim.channel_rt.tm0000.hawaii.nc'\n",
    "source_table = None\n",
    "target_table = 'ingest.nwm_channel_rt_ana_hi'\n",
    "target_keys = '(feature_id, streamflow)'\n",
    "file_step = None\n",
    "file_window = None\n",
    "\n",
    "update_service_data_flows(service, flow_id, step, source_table, target_table, target_keys, file_step=file_step, file_window=file_window, file_format=file_format)\n",
    "\n",
    "flow_id = '2'\n",
    "step = 'max_flows'\n",
    "file_format = None\n",
    "source_table = 'ingest.nwm_channel_rt_ana_hi'\n",
    "target_table = 'cache.max_flows_ana_hi'\n",
    "target_keys = '(feature_id, streamflow)'\n",
    "file_step = None\n",
    "file_window = None\n",
    "\n",
    "update_service_data_flows(service, flow_id, step, source_table, target_table, target_keys, file_step=file_step, file_window=file_window, file_format=file_format)"
   ]
  },
  {
   "cell_type": "markdown",
   "id": "3988008d",
   "metadata": {},
   "source": [
    "<h3>AnA High Flow Magnitude Hawaii - Para</h3>"
   ]
  },
  {
   "cell_type": "code",
   "execution_count": 51,
   "id": "c5629eec",
   "metadata": {},
   "outputs": [
    {
     "name": "stdout",
     "output_type": "stream",
     "text": [
      "This result object does not return rows. It has been closed automatically.\n",
      "This result object does not return rows. It has been closed automatically.\n",
      "This result object does not return rows. It has been closed automatically.\n",
      "This result object does not return rows. It has been closed automatically.\n",
      "This result object does not return rows. It has been closed automatically.\n",
      "This result object does not return rows. It has been closed automatically.\n"
     ]
    }
   ],
   "source": [
    "service = 'ana_high_flow_magnitude_hi_para'\n",
    "configuration = 'analysis_assim_hawaii_para'\n",
    "postprocess_max_flows = ['ana_max_flows_hi_para']\n",
    "postprocess_service = 'ana_high_flow_magnitude_hi_para'\n",
    "postprocess_summary = None\n",
    "summary = 'High Flow Magnitude Hawaii'\n",
    "description = 'Depicts the magnitude of the National Water Model (NWM) streamflow forecast where the NWM is signaling high water. This service is derived from the analysis and assimilation configuration of the NWM over Hawaii. Shown are reaches with flow at or above high water thresholds. Reaches are colored by the annual exceedance probability (AEP) of their current flow. High water thresholds and AEPs were derived from USGS regression equations found at https://pubs.usgs.gov/sir/2010/5035/sir2010-5035_text.pdf. Updated hourly.'\n",
    "tags = 'high,flow,magnitude,national,water,model,nwm,hawaii,hi'\n",
    "credits = 'National Water Model, NOAA/NWS National Water Center'\n",
    "egis_server = 'server'\n",
    "egis_folder = 'nwm'\n",
    "fim_service = False\n",
    "feature_service = False\n",
    "run = True\n",
    "fim_configs = None\n",
    "public_service = True\n",
    "max_flow_method = \"pipeline\"\n",
    "\n",
    "update_service_metadata(service, configuration, summary, description, tags, credits, egis_server, egis_folder, max_flows_sql_name=postprocess_max_flows, service_sql_name=postprocess_service, summary_sql_name=postprocess_summary, fim_service=fim_service, feature_service=feature_service, run=run, fim_configs=fim_configs, public_service=public_service, max_flow_method=max_flow_method)\n",
    "\n",
    "flow_id = '1'\n",
    "step = 'ingest'\n",
    "file_format = 'common/data/model/com/nwm/para/nwm.{{datetime:%Y%m%d}}/analysis_assim_hawaii/nwm.t{{datetime:%H}}z.analysis_assim.channel_rt.tm0000.hawaii.nc'\n",
    "source_table = None\n",
    "target_table = 'ingest.nwm_channel_rt_ana_hi'\n",
    "target_keys = '(feature_id, streamflow)'\n",
    "file_step = None\n",
    "file_window = None\n",
    "\n",
    "update_service_data_flows(service, flow_id, step, source_table, target_table, target_keys, file_step=file_step, file_window=file_window, file_format=file_format)\n",
    "\n",
    "flow_id = '2'\n",
    "step = 'max_flows'\n",
    "file_format = None\n",
    "source_table = 'ingest.nwm_channel_rt_ana_hi'\n",
    "target_table = 'cache.max_flows_ana_hi'\n",
    "target_keys = '(feature_id, streamflow)'\n",
    "file_step = None\n",
    "file_window = None\n",
    "\n",
    "update_service_data_flows(service, flow_id, step, source_table, target_table, target_keys, file_step=file_step, file_window=file_window, file_format=file_format)"
   ]
  },
  {
   "cell_type": "markdown",
   "id": "2adad240",
   "metadata": {},
   "source": [
    "<h3>AnA High Flow Magnitude Puerto Rico</h3>"
   ]
  },
  {
   "cell_type": "code",
   "execution_count": 52,
   "id": "5bbb16ea",
   "metadata": {},
   "outputs": [
    {
     "name": "stdout",
     "output_type": "stream",
     "text": [
      "This result object does not return rows. It has been closed automatically.\n",
      "This result object does not return rows. It has been closed automatically.\n",
      "This result object does not return rows. It has been closed automatically.\n",
      "This result object does not return rows. It has been closed automatically.\n",
      "This result object does not return rows. It has been closed automatically.\n",
      "This result object does not return rows. It has been closed automatically.\n"
     ]
    }
   ],
   "source": [
    "service = 'ana_high_flow_magnitude_prvi'\n",
    "configuration = 'analysis_assim_puertorico'\n",
    "postprocess_max_flows = ['ana_max_flows_prvi']\n",
    "postprocess_service = 'ana_high_flow_magnitude_prvi'\n",
    "postprocess_summary = None\n",
    "summary = 'High Flow Magnitude Puerto Rico/Virgin Islands'\n",
    "description = 'Depicts the magnitude of the National Water Model (NWM) streamflow forecast where the NWM is signaling high water. This service is derived from the analysis and assimilation configuration of the NWM over Puerto Rico and the U.S. Virgin Islands. Shown are reaches with flow at or above high water thresholds. Reaches are colored by the annual exceedance probability (AEP) of their current flow. High water thresholds and AEPs were derived from USGS regression equations found at https://pubs.usgs.gov/wri/wri994142/pdf/wri99-4142.pdf. Updated hourly.'\n",
    "tags = 'high,flow,magnitude,national,water,model,nwm,puerto,rico,virgin,islands,prvi'\n",
    "credits = 'National Water Model, NOAA/NWS National Water Center'\n",
    "egis_server = 'server'\n",
    "egis_folder = 'nwm'\n",
    "fim_service = False\n",
    "feature_service = False\n",
    "run = False\n",
    "fim_configs = None\n",
    "public_service = True\n",
    "max_flow_method = \"pipeline\"\n",
    "\n",
    "update_service_metadata(service, configuration, summary, description, tags, credits, egis_server, egis_folder, max_flows_sql_name=postprocess_max_flows, service_sql_name=postprocess_service, summary_sql_name=postprocess_summary, fim_service=fim_service, feature_service=feature_service, run=run, fim_configs=fim_configs, public_service=public_service, max_flow_method=max_flow_method)\n",
    "\n",
    "flow_id = '1'\n",
    "step = 'ingest'\n",
    "file_format = 'common/data/model/com/nwm/prod/nwm.{{datetime:%Y%m%d}}/analysis_assim_puertorico/nwm.t{{datetime:%H}}z.analysis_assim.channel_rt.tm00.puertorico.nc'\n",
    "source_table = None\n",
    "target_table = 'ingest.nwm_channel_rt_ana_prvi'\n",
    "target_keys = '(feature_id, streamflow)'\n",
    "file_step = None\n",
    "file_window = None\n",
    "\n",
    "update_service_data_flows(service, flow_id, step, source_table, target_table, target_keys, file_step=file_step, file_window=file_window, file_format=file_format)\n",
    "\n",
    "flow_id = '2'\n",
    "step = 'max_flows'\n",
    "file_format = None\n",
    "source_table = 'ingest.nwm_channel_rt_ana_prvi'\n",
    "target_table = 'cache.max_flows_ana_prvi'\n",
    "target_keys = '(feature_id, streamflow)'\n",
    "file_step = None\n",
    "file_window = None\n",
    "\n",
    "update_service_data_flows(service, flow_id, step, source_table, target_table, target_keys, file_step=file_step, file_window=file_window, file_format=file_format)"
   ]
  },
  {
   "cell_type": "markdown",
   "id": "9aab37d1",
   "metadata": {},
   "source": [
    "<h3>AnA High Flow Magnitude Puerto Rico - Para</h3>"
   ]
  },
  {
   "cell_type": "code",
   "execution_count": 53,
   "id": "2db3e437",
   "metadata": {},
   "outputs": [
    {
     "name": "stdout",
     "output_type": "stream",
     "text": [
      "This result object does not return rows. It has been closed automatically.\n",
      "This result object does not return rows. It has been closed automatically.\n",
      "This result object does not return rows. It has been closed automatically.\n",
      "This result object does not return rows. It has been closed automatically.\n",
      "This result object does not return rows. It has been closed automatically.\n",
      "This result object does not return rows. It has been closed automatically.\n"
     ]
    }
   ],
   "source": [
    "service = 'ana_high_flow_magnitude_prvi_para'\n",
    "configuration = 'analysis_assim_puertorico_para'\n",
    "postprocess_max_flows = ['ana_max_flows_prvi_para']\n",
    "postprocess_service = 'ana_high_flow_magnitude_prvi_para'\n",
    "postprocess_summary = None\n",
    "summary = 'High Flow Magnitude Puerto Rico/Virgin Islands'\n",
    "description = 'Depicts the magnitude of the National Water Model (NWM) streamflow forecast where the NWM is signaling high water. This service is derived from the analysis and assimilation configuration of the NWM over Puerto Rico and the U.S. Virgin Islands. Shown are reaches with flow at or above high water thresholds. Reaches are colored by the annual exceedance probability (AEP) of their current flow. High water thresholds and AEPs were derived from USGS regression equations found at https://pubs.usgs.gov/wri/wri994142/pdf/wri99-4142.pdf. Updated hourly.'\n",
    "tags = 'high,flow,magnitude,national,water,model,nwm,puerto,rico,virgin,islands,prvi'\n",
    "credits = 'National Water Model, NOAA/NWS National Water Center'\n",
    "egis_server = 'server'\n",
    "egis_folder = 'nwm'\n",
    "fim_service = False\n",
    "feature_service = False\n",
    "run = True\n",
    "fim_configs = None\n",
    "public_service = True\n",
    "max_flow_method = \"pipeline\"\n",
    "\n",
    "update_service_metadata(service, configuration, summary, description, tags, credits, egis_server, egis_folder, max_flows_sql_name=postprocess_max_flows, service_sql_name=postprocess_service, summary_sql_name=postprocess_summary, fim_service=fim_service, feature_service=feature_service, run=run, fim_configs=fim_configs, public_service=public_service, max_flow_method=max_flow_method)\n",
    "\n",
    "flow_id = '1'\n",
    "step = 'ingest'\n",
    "file_format = 'common/data/model/com/nwm/para/nwm.{{datetime:%Y%m%d}}/analysis_assim_puertorico/nwm.t{{datetime:%H}}z.analysis_assim.channel_rt.tm00.puertorico.nc'\n",
    "source_table = None\n",
    "target_table = 'ingest.nwm_channel_rt_ana_prvi'\n",
    "target_keys = '(feature_id, streamflow)'\n",
    "file_step = None\n",
    "file_window = None\n",
    "\n",
    "update_service_data_flows(service, flow_id, step, source_table, target_table, target_keys, file_step=file_step, file_window=file_window, file_format=file_format)\n",
    "\n",
    "flow_id = '2'\n",
    "step = 'max_flows'\n",
    "file_format = None\n",
    "source_table = 'ingest.nwm_channel_rt_ana_prvi'\n",
    "target_table = 'cache.max_flows_ana_prvi'\n",
    "target_keys = '(feature_id, streamflow)'\n",
    "file_step = None\n",
    "file_window = None\n",
    "\n",
    "update_service_data_flows(service, flow_id, step, source_table, target_table, target_keys, file_step=file_step, file_window=file_window, file_format=file_format)"
   ]
  },
  {
   "cell_type": "markdown",
   "id": "cd7b554b",
   "metadata": {},
   "source": [
    "<h3>AnA Past 14-Day High Flow Magnitude Analysis</h3>"
   ]
  },
  {
   "cell_type": "code",
   "execution_count": 54,
   "id": "c6158c50",
   "metadata": {},
   "outputs": [
    {
     "name": "stdout",
     "output_type": "stream",
     "text": [
      "This result object does not return rows. It has been closed automatically.\n",
      "This result object does not return rows. It has been closed automatically.\n",
      "This result object does not return rows. It has been closed automatically.\n",
      "This result object does not return rows. It has been closed automatically.\n",
      "This result object does not return rows. It has been closed automatically.\n",
      "This result object does not return rows. It has been closed automatically.\n"
     ]
    }
   ],
   "source": [
    "service = 'ana_past_14day_max_high_flow_magnitude'\n",
    "configuration = 'analysis_assim_14day'\n",
    "postprocess_max_flows = ['ana_14day_max_flows']\n",
    "postprocess_service = 'ana_past_14day_max_high_flow_magnitude'\n",
    "postprocess_summary = None\n",
    "summary = 'Past 14-Day High Flow Magnitude Analysis'\n",
    "description = 'Depicts the magnitude of the peak NWM streamflow analysis over the past 14 days where the National Water Model (NWM) signaled high water. This service is derived from the analysis and assimilation configuration of the NWM over the contiguous U.S. Shown are reaches with flow at or above high water thresholds. Reaches are colored by the annual exceedance probability (AEP) of their maximum flow over the past 14 days. High water thresholds (regionally varied) and AEPs were derived using the 40-year NWM v2.1 reanalysis simulation. Updated daily.'\n",
    "tags = 'high,flow,magnitude,national,water,model,nwm,14day'\n",
    "credits = 'National Water Model, NOAA/NWS National Water Center'\n",
    "egis_server = 'server'\n",
    "egis_folder = 'nwm'\n",
    "fim_service = False\n",
    "feature_service = False\n",
    "run = False\n",
    "fim_configs = None\n",
    "public_service = True\n",
    "max_flow_method = \"pipeline\"\n",
    "\n",
    "update_service_metadata(service, configuration, summary, description, tags, credits, egis_server, egis_folder, max_flows_sql_name=postprocess_max_flows, service_sql_name=postprocess_service, summary_sql_name=postprocess_summary, fim_service=fim_service, feature_service=feature_service, run=run, fim_configs=fim_configs, public_service=public_service, max_flow_method=max_flow_method)\n",
    "\n",
    "flow_id = '1'\n",
    "step = 'ingest'\n",
    "file_format = 'max_flows/analysis_assim_14day/{{datetime:%Y%m%d}}/ana_14day_00_max_flows.nc'\n",
    "source_table = None\n",
    "target_table = 'ingest.nwm_channel_rt_ana_14day_max'\n",
    "target_keys = '(feature_id, streamflow)'\n",
    "file_step = None\n",
    "file_window = None\n",
    "\n",
    "update_service_data_flows(service, flow_id, step, source_table, target_table, target_keys, file_step=file_step, file_window=file_window, file_format=file_format)\n",
    "\n",
    "flow_id = '2'\n",
    "step = 'ingest'\n",
    "file_format = 'max_flows/analysis_assim_14day/{{datetime:%Y%m%d}}/ana_7day_00_max_flows.nc'\n",
    "source_table = None\n",
    "target_table = 'ingest.nwm_channel_rt_ana_7day_max'\n",
    "target_keys = '(feature_id, streamflow)'\n",
    "file_step = None\n",
    "file_window = None\n",
    "\n",
    "update_service_data_flows(service, flow_id, step, source_table, target_table, target_keys, file_step=file_step, file_window=file_window, file_format=file_format)"
   ]
  },
  {
   "cell_type": "markdown",
   "id": "96b7a039",
   "metadata": {},
   "source": [
    "<h3>AnA Past 14-Day High Flow Magnitude Analysis - Para</h3>"
   ]
  },
  {
   "cell_type": "code",
   "execution_count": 55,
   "id": "e5906e2a",
   "metadata": {},
   "outputs": [
    {
     "name": "stdout",
     "output_type": "stream",
     "text": [
      "This result object does not return rows. It has been closed automatically.\n",
      "This result object does not return rows. It has been closed automatically.\n",
      "This result object does not return rows. It has been closed automatically.\n",
      "This result object does not return rows. It has been closed automatically.\n",
      "This result object does not return rows. It has been closed automatically.\n",
      "This result object does not return rows. It has been closed automatically.\n"
     ]
    }
   ],
   "source": [
    "service = 'ana_past_14day_max_high_flow_magnitude_para'\n",
    "configuration = 'analysis_assim_14day_para'\n",
    "postprocess_max_flows = ['ana_14day_max_flows_para']\n",
    "postprocess_service = 'ana_past_14day_max_high_flow_magnitude_para'\n",
    "postprocess_summary = None\n",
    "summary = 'Past 14-Day High Flow Magnitude Analysis'\n",
    "description = 'Depicts the magnitude of the peak NWM streamflow analysis over the past 14 days where the National Water Model (NWM) signaled high water. This service is derived from the analysis and assimilation configuration of the NWM over the contiguous U.S. Shown are reaches with flow at or above high water thresholds. Reaches are colored by the annual exceedance probability (AEP) of their maximum flow over the past 14 days. High water thresholds (regionally varied) and AEPs were derived using the 40-year NWM v2.1 reanalysis simulation. Updated daily.'\n",
    "tags = 'high,flow,magnitude,national,water,model,nwm,14day'\n",
    "credits = 'National Water Model, NOAA/NWS National Water Center'\n",
    "egis_server = 'server'\n",
    "egis_folder = 'nwm'\n",
    "fim_service = False\n",
    "feature_service = False\n",
    "run = True\n",
    "fim_configs = None\n",
    "public_service = True\n",
    "max_flow_method = \"pipeline\"\n",
    "\n",
    "update_service_metadata(service, configuration, summary, description, tags, credits, egis_server, egis_folder, max_flows_sql_name=postprocess_max_flows, service_sql_name=postprocess_service, summary_sql_name=postprocess_summary, fim_service=fim_service, feature_service=feature_service, run=run, fim_configs=fim_configs, public_service=public_service, max_flow_method=max_flow_method)\n",
    "\n",
    "flow_id = '1'\n",
    "step = 'ingest'\n",
    "file_format = 'max_flows/analysis_assim_14day_para/{{datetime:%Y%m%d}}/ana_14day_para_00_max_flows.nc'\n",
    "source_table = None\n",
    "target_table = 'ingest.nwm_channel_rt_ana_14day_max_para'\n",
    "target_keys = '(feature_id, streamflow)'\n",
    "file_step = None\n",
    "file_window = None\n",
    "\n",
    "update_service_data_flows(service, flow_id, step, source_table, target_table, target_keys, file_step=file_step, file_window=file_window, file_format=file_format)\n",
    "\n",
    "flow_id = '2'\n",
    "step = 'ingest'\n",
    "file_format = 'max_flows/analysis_assim_14day_para/{{datetime:%Y%m%d}}/ana_7day_para_00_max_flows.nc'\n",
    "source_table = None\n",
    "target_table = 'ingest.nwm_channel_rt_ana_7day_max_para'\n",
    "target_keys = '(feature_id, streamflow)'\n",
    "file_step = None\n",
    "file_window = None\n",
    "\n",
    "update_service_data_flows(service, flow_id, step, source_table, target_table, target_keys, file_step=file_step, file_window=file_window, file_format=file_format)"
   ]
  },
  {
   "cell_type": "markdown",
   "id": "6f74b7ba",
   "metadata": {},
   "source": [
    "<h3>AnA Streamflow</h3>"
   ]
  },
  {
   "cell_type": "code",
   "execution_count": 56,
   "id": "d80a76ec",
   "metadata": {},
   "outputs": [
    {
     "name": "stdout",
     "output_type": "stream",
     "text": [
      "This result object does not return rows. It has been closed automatically.\n",
      "This result object does not return rows. It has been closed automatically.\n",
      "This result object does not return rows. It has been closed automatically.\n",
      "This result object does not return rows. It has been closed automatically.\n",
      "This result object does not return rows. It has been closed automatically.\n",
      "This result object does not return rows. It has been closed automatically.\n"
     ]
    }
   ],
   "source": [
    "service = 'ana_streamflow'\n",
    "configuration = 'analysis_assim'\n",
    "postprocess_max_flows = ['ana_max_flows']\n",
    "postprocess_service = 'ana_streamflow'\n",
    "postprocess_summary = None\n",
    "summary = 'Streamflow Analysis'\n",
    "description = 'Depicts the streamflow output from the operational National Water Model (NWM) analysis and assimilation for the continental United States. Updated hourly.'\n",
    "tags = 'streamflow,national,water,model,nwm'\n",
    "credits = 'National Water Model, NOAA/NWS National Water Center'\n",
    "egis_server = 'server'\n",
    "egis_folder = 'nwm'\n",
    "fim_service = False\n",
    "feature_service = False\n",
    "run = False\n",
    "fim_configs = None\n",
    "public_service = False\n",
    "max_flow_method = \"pipeline\"\n",
    "\n",
    "update_service_metadata(service, configuration, summary, description, tags, credits, egis_server, egis_folder, max_flows_sql_name=postprocess_max_flows, service_sql_name=postprocess_service, summary_sql_name=postprocess_summary, fim_service=fim_service, feature_service=feature_service, run=run, fim_configs=fim_configs, public_service=public_service, max_flow_method=max_flow_method)\n",
    "\n",
    "flow_id = '1'\n",
    "step = 'ingest'\n",
    "file_format = 'common/data/model/com/nwm/prod/nwm.{{datetime:%Y%m%d}}/analysis_assim/nwm.t{{datetime:%H}}z.analysis_assim.channel_rt.tm00.conus.nc'\n",
    "source_table = None\n",
    "target_table = 'ingest.nwm_channel_rt_ana'\n",
    "target_keys = '(feature_id, streamflow)'\n",
    "file_step = None\n",
    "file_window = None\n",
    "\n",
    "update_service_data_flows(service, flow_id, step, source_table, target_table, target_keys, file_step=file_step, file_window=file_window, file_format=file_format)\n",
    "\n",
    "flow_id = '2'\n",
    "step = 'max_flows'\n",
    "file_format = None\n",
    "source_table = 'ingest.nwm_channel_rt_ana'\n",
    "target_table = 'cache.max_flows_ana'\n",
    "target_keys = '(feature_id, streamflow)'\n",
    "file_step = None\n",
    "file_window = None\n",
    "\n",
    "update_service_data_flows(service, flow_id, step, source_table, target_table, target_keys, file_step=file_step, file_window=file_window, file_format=file_format)"
   ]
  },
  {
   "cell_type": "markdown",
   "id": "6b159e39",
   "metadata": {},
   "source": [
    "<h3>AnA Streamflow - Para</h3>"
   ]
  },
  {
   "cell_type": "code",
   "execution_count": 57,
   "id": "b864c92a",
   "metadata": {},
   "outputs": [
    {
     "name": "stdout",
     "output_type": "stream",
     "text": [
      "This result object does not return rows. It has been closed automatically.\n",
      "This result object does not return rows. It has been closed automatically.\n",
      "This result object does not return rows. It has been closed automatically.\n",
      "This result object does not return rows. It has been closed automatically.\n",
      "This result object does not return rows. It has been closed automatically.\n",
      "This result object does not return rows. It has been closed automatically.\n"
     ]
    }
   ],
   "source": [
    "service = 'ana_streamflow_para'\n",
    "configuration = 'analysis_assim_para'\n",
    "postprocess_max_flows = ['ana_max_flows_para']\n",
    "postprocess_service = 'ana_streamflow_para'\n",
    "postprocess_summary = None\n",
    "summary = 'Streamflow Analysis'\n",
    "description = 'Depicts the streamflow output from the operational National Water Model (NWM) analysis and assimilation for the continental United States. Updated hourly.'\n",
    "tags = 'streamflow,national,water,model,nwm'\n",
    "credits = 'National Water Model, NOAA/NWS National Water Center'\n",
    "egis_server = 'server'\n",
    "egis_folder = 'nwm'\n",
    "fim_service = False\n",
    "feature_service = False\n",
    "run = True\n",
    "fim_configs = None\n",
    "public_service = False\n",
    "max_flow_method = \"pipeline\"\n",
    "\n",
    "update_service_metadata(service, configuration, summary, description, tags, credits, egis_server, egis_folder, max_flows_sql_name=postprocess_max_flows, service_sql_name=postprocess_service, summary_sql_name=postprocess_summary, fim_service=fim_service, feature_service=feature_service, run=run, fim_configs=fim_configs, public_service=public_service, max_flow_method=max_flow_method)\n",
    "\n",
    "flow_id = '1'\n",
    "step = 'ingest'\n",
    "file_format = 'common/data/model/com/nwm/para/nwm.{{datetime:%Y%m%d}}/analysis_assim/nwm.t{{datetime:%H}}z.analysis_assim.channel_rt.tm00.conus.nc'\n",
    "source_table = None\n",
    "target_table = 'ingest.nwm_channel_rt_ana_para'\n",
    "target_keys = '(feature_id, streamflow)'\n",
    "file_step = None\n",
    "file_window = None\n",
    "\n",
    "update_service_data_flows(service, flow_id, step, source_table, target_table, target_keys, file_step=file_step, file_window=file_window, file_format=file_format)\n",
    "\n",
    "flow_id = '2'\n",
    "step = 'max_flows'\n",
    "file_format = None\n",
    "source_table = 'ingest.nwm_channel_rt_ana_para'\n",
    "target_table = 'cache.max_flows_ana_para'\n",
    "target_keys = '(feature_id, streamflow)'\n",
    "file_step = None\n",
    "file_window = None\n",
    "\n",
    "update_service_data_flows(service, flow_id, step, source_table, target_table, target_keys, file_step=file_step, file_window=file_window, file_format=file_format)"
   ]
  },
  {
   "cell_type": "markdown",
   "id": "f82d03f0",
   "metadata": {},
   "source": [
    "<h3>AnA Streamflow Hawaii</h3>"
   ]
  },
  {
   "cell_type": "code",
   "execution_count": 58,
   "id": "6c9ae2db",
   "metadata": {},
   "outputs": [
    {
     "name": "stdout",
     "output_type": "stream",
     "text": [
      "This result object does not return rows. It has been closed automatically.\n",
      "This result object does not return rows. It has been closed automatically.\n",
      "This result object does not return rows. It has been closed automatically.\n",
      "This result object does not return rows. It has been closed automatically.\n",
      "This result object does not return rows. It has been closed automatically.\n",
      "This result object does not return rows. It has been closed automatically.\n"
     ]
    }
   ],
   "source": [
    "service = 'ana_streamflow_hi'\n",
    "configuration = 'analysis_assim_hawaii'\n",
    "postprocess_max_flows = ['ana_max_flows_hi']\n",
    "postprocess_service = 'ana_streamflow_hi'\n",
    "postprocess_summary = None\n",
    "summary = 'Streamflow Analysis for Hawaii'\n",
    "description = 'Depicts the streamflow output from the operational National Water Model (NWM) analysis and assimilation for the state of Hawaii. Updated hourly.'\n",
    "tags = 'national water model, nwm, hawaii'\n",
    "credits = 'National Water Model, NOAA/NWS National Water Center'\n",
    "egis_server = 'server'\n",
    "egis_folder = 'nwm'\n",
    "fim_service = False\n",
    "feature_service = False\n",
    "public_service = False\n",
    "run = False\n",
    "fim_configs = None\n",
    "max_flow_method = \"pipeline\"\n",
    "\n",
    "update_service_metadata(service, configuration, summary, description, tags, credits, egis_server, egis_folder, max_flows_sql_name=postprocess_max_flows, service_sql_name=postprocess_service, summary_sql_name=postprocess_summary, fim_service=fim_service, feature_service=feature_service, run=run, fim_configs=fim_configs, public_service=public_service, max_flow_method=max_flow_method)\n",
    "\n",
    "flow_id = '1'\n",
    "step = 'ingest'\n",
    "file_format = 'common/data/model/com/nwm/prod/nwm.{{datetime:%Y%m%d}}/analysis_assim_hawaii/nwm.t{{datetime:%H}}z.analysis_assim.channel_rt.tm0000.hawaii.nc'\n",
    "source_table = None\n",
    "target_table = 'ingest.nwm_channel_rt_ana_hi'\n",
    "target_keys = '(feature_id, streamflow)'\n",
    "file_step = None\n",
    "file_window = None\n",
    "\n",
    "update_service_data_flows(service, flow_id, step, source_table, target_table, target_keys, file_step=file_step, file_window=file_window, file_format=file_format)\n",
    "\n",
    "flow_id = '2'\n",
    "step = 'max_flows'\n",
    "file_format = None\n",
    "source_table = 'ingest.nwm_channel_rt_ana_hi'\n",
    "target_table = 'cache.max_flows_ana_hi'\n",
    "target_keys = '(feature_id, streamflow)'\n",
    "file_step = None\n",
    "file_window = None\n",
    "\n",
    "update_service_data_flows(service, flow_id, step, source_table, target_table, target_keys, file_step=file_step, file_window=file_window, file_format=file_format)"
   ]
  },
  {
   "cell_type": "markdown",
   "id": "52ebd0ae",
   "metadata": {},
   "source": [
    "<h3>AnA Streamflow Hawaii - Para</h3>"
   ]
  },
  {
   "cell_type": "code",
   "execution_count": 59,
   "id": "208743e8",
   "metadata": {},
   "outputs": [
    {
     "name": "stdout",
     "output_type": "stream",
     "text": [
      "This result object does not return rows. It has been closed automatically.\n",
      "This result object does not return rows. It has been closed automatically.\n",
      "This result object does not return rows. It has been closed automatically.\n",
      "This result object does not return rows. It has been closed automatically.\n",
      "This result object does not return rows. It has been closed automatically.\n",
      "This result object does not return rows. It has been closed automatically.\n"
     ]
    }
   ],
   "source": [
    "service = 'ana_streamflow_hi_para'\n",
    "configuration = 'analysis_assim_hawaii_para'\n",
    "postprocess_max_flows = ['ana_max_flows_hi_para']\n",
    "postprocess_service = 'ana_streamflow_hi_para'\n",
    "postprocess_summary = None\n",
    "summary = 'Streamflow Analysis for Hawaii'\n",
    "description = 'Depicts the streamflow output from the operational National Water Model (NWM) analysis and assimilation for the state of Hawaii. Updated hourly.'\n",
    "tags = 'national water model, nwm, hawaii'\n",
    "credits = 'National Water Model, NOAA/NWS National Water Center'\n",
    "egis_server = 'server'\n",
    "egis_folder = 'nwm'\n",
    "fim_service = False\n",
    "feature_service = False\n",
    "public_service = False\n",
    "run = True\n",
    "fim_configs = None\n",
    "max_flow_method = \"pipeline\"\n",
    "\n",
    "update_service_metadata(service, configuration, summary, description, tags, credits, egis_server, egis_folder, max_flows_sql_name=postprocess_max_flows, service_sql_name=postprocess_service, summary_sql_name=postprocess_summary, fim_service=fim_service, feature_service=feature_service, run=run, fim_configs=fim_configs, public_service=public_service, max_flow_method=max_flow_method)\n",
    "\n",
    "flow_id = '1'\n",
    "step = 'ingest'\n",
    "file_format = 'common/data/model/com/nwm/para/nwm.{{datetime:%Y%m%d}}/analysis_assim_hawaii/nwm.t{{datetime:%H}}z.analysis_assim.channel_rt.tm0000.hawaii.nc'\n",
    "source_table = None\n",
    "target_table = 'ingest.nwm_channel_rt_ana_hi_para'\n",
    "target_keys = '(feature_id, streamflow)'\n",
    "file_step = None\n",
    "file_window = None\n",
    "\n",
    "update_service_data_flows(service, flow_id, step, source_table, target_table, target_keys, file_step=file_step, file_window=file_window, file_format=file_format)\n",
    "\n",
    "flow_id = '2'\n",
    "step = 'max_flows'\n",
    "file_format = None\n",
    "source_table = 'ingest.nwm_channel_rt_ana_hi_para'\n",
    "target_table = 'cache.max_flows_ana_hi_para'\n",
    "target_keys = '(feature_id, streamflow)'\n",
    "file_step = None\n",
    "file_window = None\n",
    "\n",
    "update_service_data_flows(service, flow_id, step, source_table, target_table, target_keys, file_step=file_step, file_window=file_window, file_format=file_format)"
   ]
  },
  {
   "cell_type": "markdown",
   "id": "bd57f632",
   "metadata": {},
   "source": [
    "<h3>AnA Streamflow Puerto Rico</h3>"
   ]
  },
  {
   "cell_type": "code",
   "execution_count": 60,
   "id": "0a46a5ab",
   "metadata": {},
   "outputs": [
    {
     "name": "stdout",
     "output_type": "stream",
     "text": [
      "This result object does not return rows. It has been closed automatically.\n",
      "This result object does not return rows. It has been closed automatically.\n",
      "This result object does not return rows. It has been closed automatically.\n",
      "This result object does not return rows. It has been closed automatically.\n",
      "This result object does not return rows. It has been closed automatically.\n",
      "This result object does not return rows. It has been closed automatically.\n"
     ]
    }
   ],
   "source": [
    "service = 'ana_streamflow_prvi'\n",
    "configuration = 'analysis_assim_puertorico'\n",
    "postprocess_max_flows = ['ana_max_flows_prvi']\n",
    "postprocess_service = 'ana_streamflow_prvi'\n",
    "postprocess_summary = None\n",
    "summary = 'Streamflow Analysis for Puerto Rico and Virgin Islands'\n",
    "description = 'Depicts the streamflow output from the operational National Water Model (NWM) analysis and assimilation for Puerto Rico and the U.S. Virgin Islands. Updated hourly.'\n",
    "tags = 'streamflow,national,water,model,nwm,puerto,rico,virgin,islands,prvi'\n",
    "credits = 'National Water Model, NOAA/NWS National Water Center'\n",
    "egis_server = 'server'\n",
    "egis_folder = 'nwm'\n",
    "fim_service = False\n",
    "feature_service = False\n",
    "public_service = False\n",
    "run = False\n",
    "fim_configs = None\n",
    "max_flow_method = \"pipeline\"\n",
    "\n",
    "update_service_metadata(service, configuration, summary, description, tags, credits, egis_server, egis_folder, max_flows_sql_name=postprocess_max_flows, service_sql_name=postprocess_service, summary_sql_name=postprocess_summary, fim_service=fim_service, feature_service=feature_service, run=run, fim_configs=fim_configs, public_service=public_service, max_flow_method=max_flow_method)\n",
    "\n",
    "flow_id = '1'\n",
    "step = 'ingest'\n",
    "file_format = 'common/data/model/com/nwm/prod/nwm.{{datetime:%Y%m%d}}/analysis_assim_puertorico/nwm.t{{datetime:%H}}z.analysis_assim.channel_rt.tm00.puertorico.nc'\n",
    "source_table = None\n",
    "target_table = 'ingest.nwm_channel_rt_ana_prvi'\n",
    "target_keys = '(feature_id, streamflow)'\n",
    "file_step = None\n",
    "file_window = None\n",
    "\n",
    "update_service_data_flows(service, flow_id, step, source_table, target_table, target_keys, file_step=file_step, file_window=file_window, file_format=file_format)\n",
    "\n",
    "flow_id = '2'\n",
    "step = 'max_flows'\n",
    "file_format = None\n",
    "source_table = 'ingest.nwm_channel_rt_ana_prvi'\n",
    "target_table = 'cache.max_flows_ana_prvi'\n",
    "target_keys = '(feature_id, streamflow)'\n",
    "file_step = None\n",
    "file_window = None\n",
    "\n",
    "update_service_data_flows(service, flow_id, step, source_table, target_table, target_keys, file_step=file_step, file_window=file_window, file_format=file_format)"
   ]
  },
  {
   "cell_type": "markdown",
   "id": "65ec7bc4",
   "metadata": {},
   "source": [
    "<h3>AnA Streamflow Puerto Rico - Para</h3>"
   ]
  },
  {
   "cell_type": "code",
   "execution_count": 61,
   "id": "1df82f5b",
   "metadata": {},
   "outputs": [
    {
     "name": "stdout",
     "output_type": "stream",
     "text": [
      "This result object does not return rows. It has been closed automatically.\n",
      "This result object does not return rows. It has been closed automatically.\n",
      "This result object does not return rows. It has been closed automatically.\n",
      "This result object does not return rows. It has been closed automatically.\n",
      "This result object does not return rows. It has been closed automatically.\n",
      "This result object does not return rows. It has been closed automatically.\n"
     ]
    }
   ],
   "source": [
    "service = 'ana_streamflow_prvi_para'\n",
    "configuration = 'analysis_assim_puertorico_para'\n",
    "postprocess_max_flows = ['ana_max_flows_prvi_para']\n",
    "postprocess_service = 'ana_streamflow_prvi_para'\n",
    "postprocess_summary = None\n",
    "summary = 'Streamflow Analysis for Puerto Rico and Virgin Islands'\n",
    "description = 'Depicts the streamflow output from the operational National Water Model (NWM) analysis and assimilation for Puerto Rico and the U.S. Virgin Islands. Updated hourly.'\n",
    "tags = 'streamflow,national,water,model,nwm,puerto,rico,virgin,islands,prvi'\n",
    "credits = 'National Water Model, NOAA/NWS National Water Center'\n",
    "egis_server = 'server'\n",
    "egis_folder = 'nwm'\n",
    "fim_service = False\n",
    "feature_service = False\n",
    "public_service = False\n",
    "run = True\n",
    "fim_configs = None\n",
    "max_flow_method = \"pipeline\"\n",
    "\n",
    "update_service_metadata(service, configuration, summary, description, tags, credits, egis_server, egis_folder, max_flows_sql_name=postprocess_max_flows, service_sql_name=postprocess_service, summary_sql_name=postprocess_summary, fim_service=fim_service, feature_service=feature_service, run=run, fim_configs=fim_configs, public_service=public_service, max_flow_method=max_flow_method)\n",
    "\n",
    "flow_id = '1'\n",
    "step = 'ingest'\n",
    "file_format = 'common/data/model/com/nwm/para/nwm.{{datetime:%Y%m%d}}/analysis_assim_puertorico/nwm.t{{datetime:%H}}z.analysis_assim.channel_rt.tm00.puertorico.nc'\n",
    "source_table = None\n",
    "target_table = 'ingest.nwm_channel_rt_ana_prvi_para'\n",
    "target_keys = '(feature_id, streamflow)'\n",
    "file_step = None\n",
    "file_window = None\n",
    "\n",
    "update_service_data_flows(service, flow_id, step, source_table, target_table, target_keys, file_step=file_step, file_window=file_window, file_format=file_format)\n",
    "\n",
    "flow_id = '2'\n",
    "step = 'max_flows'\n",
    "file_format = None\n",
    "source_table = 'ingest.nwm_channel_rt_ana_prvi_para'\n",
    "target_table = 'cache.max_flows_ana_prvi_para'\n",
    "target_keys = '(feature_id, streamflow)'\n",
    "file_step = None\n",
    "file_window = None\n",
    "\n",
    "update_service_data_flows(service, flow_id, step, source_table, target_table, target_keys, file_step=file_step, file_window=file_window, file_format=file_format)"
   ]
  },
  {
   "cell_type": "markdown",
   "id": "efbf640b",
   "metadata": {},
   "source": [
    "<h3>Medium-Range High Water Arrival Time Forecast</h3>"
   ]
  },
  {
   "cell_type": "code",
   "execution_count": 62,
   "id": "9e7140c4",
   "metadata": {},
   "outputs": [
    {
     "name": "stdout",
     "output_type": "stream",
     "text": [
      "This result object does not return rows. It has been closed automatically.\n",
      "This result object does not return rows. It has been closed automatically.\n",
      "This result object does not return rows. It has been closed automatically.\n",
      "This result object does not return rows. It has been closed automatically.\n"
     ]
    }
   ],
   "source": [
    "service = 'mrf_high_water_arrival_time'\n",
    "configuration = 'medium_range_mem1'\n",
    "postprocess_max_flows = None\n",
    "postprocess_service = 'mrf_high_water_arrival_time'\n",
    "postprocess_summary = None\n",
    "summary = 'Medium-Range High Water Arrival Time Forecast'\n",
    "description = 'Depicts the forecast arrival time of high water over the next 10 days. This service is derived from the medium-range configuration of the National Water Model (NWM) over the contiguous U.S. Shown are reaches that are expected to have flow at or above the high water threshold over the next 10 days. Reaches are colored by the time at which they are forecast to reach high water (calculated in 3 hour increments). High water thresholds (regionally varied) were derived using the 40-year NWM v2.1 reanalysis simulation. Updated every 6 hours.'\n",
    "tags = 'medium range forecast, high water, arrival time, national water model, nwm'\n",
    "credits = 'National Water Model, NOAA/NWS National Water Center'\n",
    "egis_server = 'server'\n",
    "egis_folder = 'nwm'\n",
    "fim_service = False\n",
    "feature_service = True\n",
    "run = False\n",
    "fim_configs = None\n",
    "public_service = True\n",
    "max_flow_method = \"pipeline\"\n",
    "\n",
    "update_service_metadata(service, configuration, summary, description, tags, credits, egis_server, egis_folder, max_flows_sql_name=postprocess_max_flows, service_sql_name=postprocess_service, summary_sql_name=postprocess_summary, fim_service=fim_service, feature_service=feature_service, run=run, fim_configs=fim_configs, public_service=public_service, max_flow_method=max_flow_method)\n",
    "\n",
    "flow_id = '1'\n",
    "step = 'ingest'\n",
    "file_format = \"common/data/model/com/nwm/prod/nwm.{{datetime:%Y%m%d}}/medium_range_mem1/nwm.t{{datetime:%H}}z.medium_range.channel_rt_1.f{{range:3,241,3,%03d}}.conus.nc\"\n",
    "source_table = None\n",
    "target_table = 'ingest.nwm_channel_rt_mrf_mem1'\n",
    "target_keys = '(feature_id, streamflow)'\n",
    "file_step = None\n",
    "file_window = None\n",
    "\n",
    "update_service_data_flows(service, flow_id, step, source_table, target_table, target_keys, file_step=file_step, file_window=file_window, file_format=file_format)"
   ]
  },
  {
   "cell_type": "markdown",
   "id": "f9911acf",
   "metadata": {},
   "source": [
    "<h3>Medium-Range GFS High Water Arrival Time Forecast</h3>"
   ]
  },
  {
   "cell_type": "code",
   "execution_count": 63,
   "id": "1ddfb9a6",
   "metadata": {},
   "outputs": [
    {
     "name": "stdout",
     "output_type": "stream",
     "text": [
      "This result object does not return rows. It has been closed automatically.\n",
      "This result object does not return rows. It has been closed automatically.\n",
      "This result object does not return rows. It has been closed automatically.\n",
      "This result object does not return rows. It has been closed automatically.\n"
     ]
    }
   ],
   "source": [
    "service = 'mrf_gfs_high_water_arrival_time_para'\n",
    "configuration = 'medium_range_gfs_para'\n",
    "postprocess_max_flows = None\n",
    "postprocess_service = 'mrf_gfs_high_water_arrival_time_para'\n",
    "postprocess_summary = None\n",
    "summary = 'Medium-Range GFS High Water Arrival Time Forecast'\n",
    "description = 'Depicts the forecast arrival time of high water over the next 10 days. This service is derived from the medium-range GFS configuration of the National Water Model (NWM) over the contiguous U.S. Shown are reaches that are expected to have flow at or above the high water threshold over the next 10 days. Reaches are colored by the time at which they are forecast to reach high water (calculated in 3 hour increments). High water thresholds (regionally varied) were derived using the 40-year NWM v2.1 reanalysis simulation. Updated every 6 hours.'\n",
    "tags = 'medium range forecast, high water, arrival time, national water model, nwm, gfs'\n",
    "credits = 'National Water Model, NOAA/NWS National Water Center'\n",
    "egis_server = 'server'\n",
    "egis_folder = 'nwm'\n",
    "fim_service = False\n",
    "feature_service = True\n",
    "run = True\n",
    "fim_configs = None\n",
    "public_service = True\n",
    "max_flow_method = \"pipeline\"\n",
    "\n",
    "update_service_metadata(service, configuration, summary, description, tags, credits, egis_server, egis_folder, max_flows_sql_name=postprocess_max_flows, service_sql_name=postprocess_service, summary_sql_name=postprocess_summary, fim_service=fim_service, feature_service=feature_service, run=run, fim_configs=fim_configs, public_service=public_service, max_flow_method=max_flow_method)\n",
    "\n",
    "flow_id = '1'\n",
    "step = 'ingest'\n",
    "file_format = \"common/data/model/com/nwm/para/nwm.{{datetime:%Y%m%d}}/medium_range_mem1/nwm.t{{datetime:%H}}z.medium_range.channel_rt_1.f{{range:3,241,3,%03d}}.conus.nc\"\n",
    "source_table = None\n",
    "target_table = 'ingest.nwm_channel_rt_mrf_gfs_para'\n",
    "target_keys = '(feature_id, streamflow)'\n",
    "file_step = None\n",
    "file_window = None\n",
    "\n",
    "update_service_data_flows(service, flow_id, step, source_table, target_table, target_keys, file_step=file_step, file_window=file_window, file_format=file_format)"
   ]
  },
  {
   "cell_type": "markdown",
   "id": "0bc77b52",
   "metadata": {},
   "source": [
    "<h3>Medium-Range NBM High Water Arrival Time Forecast</h3>"
   ]
  },
  {
   "cell_type": "code",
   "execution_count": 64,
   "id": "997d0889",
   "metadata": {},
   "outputs": [
    {
     "name": "stdout",
     "output_type": "stream",
     "text": [
      "This result object does not return rows. It has been closed automatically.\n",
      "This result object does not return rows. It has been closed automatically.\n",
      "This result object does not return rows. It has been closed automatically.\n",
      "This result object does not return rows. It has been closed automatically.\n"
     ]
    }
   ],
   "source": [
    "service = 'mrf_nbm_high_water_arrival_time_para'\n",
    "configuration = 'medium_range_nbm_para'\n",
    "postprocess_max_flows = None\n",
    "postprocess_service = 'mrf_nbm_high_water_arrival_time_para'\n",
    "postprocess_summary = None\n",
    "summary = 'Medium-Range NBM High Water Arrival Time Forecast'\n",
    "description = 'Depicts the forecast arrival time of high water over the next 10 days. This service is derived from the medium-range NBM configuration of the National Water Model (NWM) over the contiguous U.S. Shown are reaches that are expected to have flow at or above the high water threshold over the next 10 days. Reaches are colored by the time at which they are forecast to reach high water (calculated in 3 hour increments). High water thresholds (regionally varied) were derived using the 40-year NWM v2.1 reanalysis simulation. Updated every 6 hours.'\n",
    "tags = 'medium range forecast, high water, arrival time, national water model, nwm, nbm'\n",
    "credits = 'National Water Model, NOAA/NWS National Water Center'\n",
    "egis_server = 'server'\n",
    "egis_folder = 'nwm'\n",
    "fim_service = False\n",
    "feature_service = True\n",
    "run = True\n",
    "fim_configs = None\n",
    "public_service = True\n",
    "max_flow_method = \"pipeline\"\n",
    "\n",
    "update_service_metadata(service, configuration, summary, description, tags, credits, egis_server, egis_folder, max_flows_sql_name=postprocess_max_flows, service_sql_name=postprocess_service, summary_sql_name=postprocess_summary, fim_service=fim_service, feature_service=feature_service, run=run, fim_configs=fim_configs, public_service=public_service, max_flow_method=max_flow_method)\n",
    "\n",
    "flow_id = '1'\n",
    "step = 'ingest'\n",
    "file_format = \"common/data/model/com/nwm/para/nwm.{{datetime:%Y%m%d}}/medium_range_blend/nwm.t{{datetime:%H}}z.medium_range_blend.channel_rt.f{{range:3,241,3,%03d}}.conus.nc\"\n",
    "source_table = None\n",
    "target_table = 'ingest.nwm_channel_rt_mrf_nbm_para'\n",
    "target_keys = '(feature_id, streamflow)'\n",
    "file_step = None\n",
    "file_window = None\n",
    "\n",
    "update_service_data_flows(service, flow_id, step, source_table, target_table, target_keys, file_step=file_step, file_window=file_window, file_format=file_format)"
   ]
  },
  {
   "cell_type": "markdown",
   "id": "f4c31789",
   "metadata": {},
   "source": [
    "<h3>Medium-Range High Water Probability Forecast</h3>"
   ]
  },
  {
   "cell_type": "code",
   "execution_count": 65,
   "id": "c34b3f98",
   "metadata": {},
   "outputs": [
    {
     "name": "stdout",
     "output_type": "stream",
     "text": [
      "This result object does not return rows. It has been closed automatically.\n",
      "This result object does not return rows. It has been closed automatically.\n",
      "This result object does not return rows. It has been closed automatically.\n",
      "This result object does not return rows. It has been closed automatically.\n",
      "This result object does not return rows. It has been closed automatically.\n",
      "This result object does not return rows. It has been closed automatically.\n",
      "This result object does not return rows. It has been closed automatically.\n",
      "This result object does not return rows. It has been closed automatically.\n",
      "This result object does not return rows. It has been closed automatically.\n",
      "This result object does not return rows. It has been closed automatically.\n",
      "This result object does not return rows. It has been closed automatically.\n",
      "This result object does not return rows. It has been closed automatically.\n",
      "This result object does not return rows. It has been closed automatically.\n",
      "This result object does not return rows. It has been closed automatically.\n",
      "This result object does not return rows. It has been closed automatically.\n",
      "This result object does not return rows. It has been closed automatically.\n"
     ]
    }
   ],
   "source": [
    "service = 'mrf_high_water_probability'\n",
    "configuration = 'medium_range_mem1'\n",
    "postprocess_max_flows = None\n",
    "postprocess_service = None\n",
    "postprocess_summary = None\n",
    "summary = 'Medium-Range High Water Probability Forecast'\n",
    "description = 'Depicts the probability of forecast high water over the next 5 days using ensembles from the medium-range configuration of the National Water Model (NWM) over the contiguous U.S. Shown are reaches that are expected to have flow at or above high water on Day 1, Day 2, Day 3, and Days 4-5, using the 7 ensemble members of the medium-range forecast. Reaches are colored by the probability that they will meet or exceed the high water threshold on Day 1, Day 2, Day 3, and Days 4-5. Probabilities are computed as the % agreement across the 7 ensemble members, equally weighted. Also shown are USGS HUC8 polygons for basins with greater than 50% of NWM features with flow expected to be at or above high water over the next 5 days, symbolized by the average probability. High water thresholds (regionally varied) were derived using the 40-year NWM v2.1 reanalysis simulation. Updated every 6 hours.'\n",
    "tags = 'medium,range,forecast,high,water,ensemble,national,water,model,nwm,probability'\n",
    "credits = 'National Water Model, NOAA/NWS National Water Center'\n",
    "egis_server = 'server'\n",
    "egis_folder = 'nwm'\n",
    "fim_service = False\n",
    "feature_service = False\n",
    "run = False\n",
    "fim_configs = None\n",
    "public_service = True\n",
    "max_flow_method = \"pipeline\"\n",
    "\n",
    "update_service_metadata(service, configuration, summary, description, tags, credits, egis_server, egis_folder, max_flows_sql_name=postprocess_max_flows, service_sql_name=postprocess_service, summary_sql_name=postprocess_summary, fim_service=fim_service, feature_service=feature_service, run=run, fim_configs=fim_configs, public_service=public_service, max_flow_method=max_flow_method)\n",
    "\n",
    "flow_id = '1'\n",
    "step = 'ingest'\n",
    "file_format = \"common/data/model/com/nwm/prod/nwm.{{datetime:%Y%m%d}}/medium_range_mem1/nwm.t{{datetime:%H}}z.medium_range.channel_rt_1.f{{range:3,121,3,%03d}}.conus.nc\"\n",
    "source_table = None\n",
    "target_table = 'ingest.nwm_channel_rt_mrf_mem1'\n",
    "target_keys = '(feature_id, streamflow)'\n",
    "file_step = None\n",
    "file_window = None\n",
    "\n",
    "update_service_data_flows(service, flow_id, step, source_table, target_table, target_keys, file_step=file_step, file_window=file_window, file_format=file_format)\n",
    "\n",
    "flow_id = '2'\n",
    "step = 'ingest'\n",
    "file_format = \"common/data/model/com/nwm/prod/nwm.{{datetime:%Y%m%d}}/medium_range_mem2/nwm.t{{datetime:%H}}z.medium_range.channel_rt_2.f{{range:3,121,3,%03d}}.conus.nc\"\n",
    "source_table = None\n",
    "target_table = 'ingest.nwm_channel_rt_mrf_mem2'\n",
    "target_keys = '(feature_id, streamflow)'\n",
    "file_step = None\n",
    "file_window = None\n",
    "\n",
    "update_service_data_flows(service, flow_id, step, source_table, target_table, target_keys, file_step=file_step, file_window=file_window, file_format=file_format)\n",
    "\n",
    "flow_id = '3'\n",
    "step = 'ingest'\n",
    "file_format = \"common/data/model/com/nwm/prod/nwm.{{datetime:%Y%m%d}}/medium_range_mem3/nwm.t{{datetime:%H}}z.medium_range.channel_rt_3.f{{range:3,121,3,%03d}}.conus.nc\"\n",
    "source_table = None\n",
    "target_table = 'ingest.nwm_channel_rt_mrf_mem3'\n",
    "target_keys = '(feature_id, streamflow)'\n",
    "file_step = None\n",
    "file_window = None\n",
    "\n",
    "update_service_data_flows(service, flow_id, step, source_table, target_table, target_keys, file_step=file_step, file_window=file_window, file_format=file_format)\n",
    "\n",
    "flow_id = '4'\n",
    "step = 'ingest'\n",
    "file_format = \"common/data/model/com/nwm/prod/nwm.{{datetime:%Y%m%d}}/medium_range_mem4/nwm.t{{datetime:%H}}z.medium_range.channel_rt_4.f{{range:3,121,3,%03d}}.conus.nc\"\n",
    "source_table = None\n",
    "target_table = 'ingest.nwm_channel_rt_mrf_mem4'\n",
    "target_keys = '(feature_id, streamflow)'\n",
    "file_step = None\n",
    "file_window = None\n",
    "\n",
    "update_service_data_flows(service, flow_id, step, source_table, target_table, target_keys, file_step=file_step, file_window=file_window, file_format=file_format)\n",
    "\n",
    "flow_id = '5'\n",
    "step = 'ingest'\n",
    "file_format = \"common/data/model/com/nwm/prod/nwm.{{datetime:%Y%m%d}}/medium_range_mem5/nwm.t{{datetime:%H}}z.medium_range.channel_rt_5.f{{range:3,121,3,%03d}}.conus.nc\"\n",
    "source_table = None\n",
    "target_table = 'ingest.nwm_channel_rt_mrf_mem5'\n",
    "target_keys = '(feature_id, streamflow)'\n",
    "file_step = None\n",
    "file_window = None\n",
    "\n",
    "update_service_data_flows(service, flow_id, step, source_table, target_table, target_keys, file_step=file_step, file_window=file_window, file_format=file_format)\n",
    "\n",
    "flow_id = '6'\n",
    "step = 'ingest'\n",
    "file_format = \"common/data/model/com/nwm/prod/nwm.{{datetime:%Y%m%d}}/medium_range_mem6/nwm.t{{datetime:%H}}z.medium_range.channel_rt_6.f{{range:3,121,3,%03d}}.conus.nc\"\n",
    "source_table = None\n",
    "target_table = 'ingest.nwm_channel_rt_mrf_mem6'\n",
    "target_keys = '(feature_id, streamflow)'\n",
    "file_step = None\n",
    "file_window = None\n",
    "\n",
    "update_service_data_flows(service, flow_id, step, source_table, target_table, target_keys, file_step=file_step, file_window=file_window, file_format=file_format)\n",
    "\n",
    "flow_id = '7'\n",
    "step = 'ingest'\n",
    "file_format = \"common/data/model/com/nwm/prod/nwm.{{datetime:%Y%m%d}}/medium_range_mem7/nwm.t{{datetime:%H}}z.medium_range.channel_rt_7.f{{range:3,121,3,%03d}}.conus.nc\"\n",
    "source_table = None\n",
    "target_table = 'ingest.nwm_channel_rt_mrf_mem7'\n",
    "target_keys = '(feature_id, streamflow)'\n",
    "file_step = None\n",
    "file_window = None\n",
    "\n",
    "update_service_data_flows(service, flow_id, step, source_table, target_table, target_keys, file_step=file_step, file_window=file_window, file_format=file_format)"
   ]
  },
  {
   "cell_type": "markdown",
   "id": "1a8dd45f",
   "metadata": {},
   "source": [
    "<h3>Medium-Range GFS High Water Probability Forecast</h3>"
   ]
  },
  {
   "cell_type": "code",
   "execution_count": 66,
   "id": "a2bf46c9",
   "metadata": {},
   "outputs": [
    {
     "name": "stdout",
     "output_type": "stream",
     "text": [
      "This result object does not return rows. It has been closed automatically.\n",
      "This result object does not return rows. It has been closed automatically.\n",
      "This result object does not return rows. It has been closed automatically.\n",
      "This result object does not return rows. It has been closed automatically.\n",
      "This result object does not return rows. It has been closed automatically.\n",
      "This result object does not return rows. It has been closed automatically.\n",
      "This result object does not return rows. It has been closed automatically.\n",
      "This result object does not return rows. It has been closed automatically.\n",
      "This result object does not return rows. It has been closed automatically.\n",
      "This result object does not return rows. It has been closed automatically.\n",
      "This result object does not return rows. It has been closed automatically.\n",
      "This result object does not return rows. It has been closed automatically.\n",
      "This result object does not return rows. It has been closed automatically.\n",
      "This result object does not return rows. It has been closed automatically.\n"
     ]
    }
   ],
   "source": [
    "service = 'mrf_gfs_high_water_probability'\n",
    "configuration = 'medium_range_gfs'\n",
    "postprocess_max_flows = None\n",
    "postprocess_service = None\n",
    "postprocess_summary = None\n",
    "summary = 'Medium-Range GFS High Water Probability Forecast'\n",
    "description = 'Depicts the probability of forecast high water over the next 5 days using ensembles from the medium-range configuration of the National Water Model (NWM) over the contiguous U.S. Shown are reaches that are expected to have flow at or above high water on Day 1, Day 2, Day 3, and Days 4-5, using the 7 ensemble members of the medium-range forecast. Reaches are colored by the probability that they will meet or exceed the high water threshold on Day 1, Day 2, Day 3, and Days 4-5. Probabilities are computed as the % agreement across the 7 ensemble members, equally weighted. Also shown are USGS HUC8 polygons for basins with greater than 50% of NWM features with flow expected to be at or above high water over the next 5 days, symbolized by the average probability. High water thresholds (regionally varied) were derived using the 40-year NWM v2.1 reanalysis simulation. Updated every 6 hours.'\n",
    "tags = 'medium,range,forecast,high,water,ensemble,national,water,model,nwm,probability, gfs'\n",
    "credits = 'National Water Model, NOAA/NWS National Water Center'\n",
    "egis_server = 'server'\n",
    "egis_folder = 'nwm'\n",
    "fim_service = False\n",
    "feature_service = False\n",
    "run = False\n",
    "fim_configs = None\n",
    "public_service = True\n",
    "max_flow_method = \"pipeline\"\n",
    "\n",
    "update_service_metadata(service, configuration, summary, description, tags, credits, egis_server, egis_folder, max_flows_sql_name=postprocess_max_flows, service_sql_name=postprocess_service, summary_sql_name=postprocess_summary, fim_service=fim_service, feature_service=feature_service, run=run, fim_configs=fim_configs, public_service=public_service, max_flow_method=max_flow_method)\n",
    "\n",
    "flow_id = '1'\n",
    "step = 'ingest'\n",
    "file_format = \"common/data/model/com/nwm/prod/nwm.{{datetime:%Y%m%d}}/medium_range_mem1/nwm.t{{datetime:%H}}z.medium_range.channel_rt_1.f{{range:3,121,3,%03d}}.conus.nc\"\n",
    "source_table = None\n",
    "target_table = 'ingest.nwm_channel_rt_mrf_gfs_mem1'\n",
    "target_keys = '(feature_id, streamflow)'\n",
    "file_step = None\n",
    "file_window = None\n",
    "\n",
    "update_service_data_flows(service, flow_id, step, source_table, target_table, target_keys, file_step=file_step, file_window=file_window, file_format=file_format)\n",
    "\n",
    "flow_id = '2'\n",
    "step = 'ingest'\n",
    "file_format = \"common/data/model/com/nwm/prod/nwm.{{datetime:%Y%m%d}}/medium_range_mem2/nwm.t{{datetime:%H}}z.medium_range.channel_rt_2.f{{range:3,121,3,%03d}}.conus.nc\"\n",
    "source_table = None\n",
    "target_table = 'ingest.nwm_channel_rt_mrf_gfs_mem2'\n",
    "target_keys = '(feature_id, streamflow)'\n",
    "file_step = None\n",
    "file_window = None\n",
    "\n",
    "update_service_data_flows(service, flow_id, step, source_table, target_table, target_keys, file_step=file_step, file_window=file_window, file_format=file_format)\n",
    "\n",
    "flow_id = '3'\n",
    "step = 'ingest'\n",
    "file_format = \"common/data/model/com/nwm/prod/nwm.{{datetime:%Y%m%d}}/medium_range_mem3/nwm.t{{datetime:%H}}z.medium_range.channel_rt_3.f{{range:3,121,3,%03d}}.conus.nc\"\n",
    "source_table = None\n",
    "target_table = 'ingest.nwm_channel_rt_mrf_gfs_mem3'\n",
    "target_keys = '(feature_id, streamflow)'\n",
    "file_step = None\n",
    "file_window = None\n",
    "\n",
    "update_service_data_flows(service, flow_id, step, source_table, target_table, target_keys, file_step=file_step, file_window=file_window, file_format=file_format)\n",
    "\n",
    "flow_id = '4'\n",
    "step = 'ingest'\n",
    "file_format = \"common/data/model/com/nwm/prod/nwm.{{datetime:%Y%m%d}}/medium_range_mem4/nwm.t{{datetime:%H}}z.medium_range.channel_rt_4.f{{range:3,121,3,%03d}}.conus.nc\"\n",
    "source_table = None\n",
    "target_table = 'ingest.nwm_channel_rt_mrf_gfs_mem4'\n",
    "target_keys = '(feature_id, streamflow)'\n",
    "file_step = None\n",
    "file_window = None\n",
    "\n",
    "update_service_data_flows(service, flow_id, step, source_table, target_table, target_keys, file_step=file_step, file_window=file_window, file_format=file_format)\n",
    "\n",
    "flow_id = '5'\n",
    "step = 'ingest'\n",
    "file_format = \"common/data/model/com/nwm/prod/nwm.{{datetime:%Y%m%d}}/medium_range_mem5/nwm.t{{datetime:%H}}z.medium_range.channel_rt_5.f{{range:3,121,3,%03d}}.conus.nc\"\n",
    "source_table = None\n",
    "target_table = 'ingest.nwm_channel_rt_mrf_gfs_mem5'\n",
    "target_keys = '(feature_id, streamflow)'\n",
    "file_step = None\n",
    "file_window = None\n",
    "\n",
    "update_service_data_flows(service, flow_id, step, source_table, target_table, target_keys, file_step=file_step, file_window=file_window, file_format=file_format)\n",
    "\n",
    "flow_id = '6'\n",
    "step = 'ingest'\n",
    "file_format = \"common/data/model/com/nwm/prod/nwm.{{datetime:%Y%m%d}}/medium_range_mem6/nwm.t{{datetime:%H}}z.medium_range.channel_rt_6.f{{range:3,121,3,%03d}}.conus.nc\"\n",
    "source_table = None\n",
    "target_table = 'ingest.nwm_channel_rt_mrf_gfs_mem6'\n",
    "target_keys = '(feature_id, streamflow)'\n",
    "file_step = None\n",
    "file_window = None\n",
    "\n",
    "update_service_data_flows(service, flow_id, step, source_table, target_table, target_keys, file_step=file_step, file_window=file_window, file_format=file_format)"
   ]
  },
  {
   "cell_type": "markdown",
   "id": "3c863628",
   "metadata": {},
   "source": [
    "<h3>Medium-Range GFS High Water Probability Forecast - Para</h3>"
   ]
  },
  {
   "cell_type": "code",
   "execution_count": 67,
   "id": "21515961",
   "metadata": {},
   "outputs": [
    {
     "name": "stdout",
     "output_type": "stream",
     "text": [
      "This result object does not return rows. It has been closed automatically.\n",
      "This result object does not return rows. It has been closed automatically.\n",
      "This result object does not return rows. It has been closed automatically.\n",
      "This result object does not return rows. It has been closed automatically.\n",
      "This result object does not return rows. It has been closed automatically.\n",
      "This result object does not return rows. It has been closed automatically.\n",
      "This result object does not return rows. It has been closed automatically.\n",
      "This result object does not return rows. It has been closed automatically.\n",
      "This result object does not return rows. It has been closed automatically.\n",
      "This result object does not return rows. It has been closed automatically.\n",
      "This result object does not return rows. It has been closed automatically.\n",
      "This result object does not return rows. It has been closed automatically.\n",
      "This result object does not return rows. It has been closed automatically.\n",
      "This result object does not return rows. It has been closed automatically.\n"
     ]
    }
   ],
   "source": [
    "service = 'mrf_gfs_high_water_probability_para'\n",
    "configuration = 'medium_range_gfs_para'\n",
    "postprocess_max_flows = None\n",
    "postprocess_service = None\n",
    "postprocess_summary = None\n",
    "summary = 'Medium-Range GFS High Water Probability Forecast'\n",
    "description = 'Depicts the probability of forecast high water over the next 5 days using ensembles from the medium-range configuration of the National Water Model (NWM) over the contiguous U.S. Shown are reaches that are expected to have flow at or above high water on Day 1, Day 2, Day 3, and Days 4-5, using the 7 ensemble members of the medium-range forecast. Reaches are colored by the probability that they will meet or exceed the high water threshold on Day 1, Day 2, Day 3, and Days 4-5. Probabilities are computed as the % agreement across the 7 ensemble members, equally weighted. Also shown are USGS HUC8 polygons for basins with greater than 50% of NWM features with flow expected to be at or above high water over the next 5 days, symbolized by the average probability. High water thresholds (regionally varied) were derived using the 40-year NWM v2.1 reanalysis simulation. Updated every 6 hours.'\n",
    "tags = 'medium,range,forecast,high,water,ensemble,national,water,model,nwm,probability, gfs'\n",
    "credits = 'National Water Model, NOAA/NWS National Water Center'\n",
    "egis_server = 'server'\n",
    "egis_folder = 'para'\n",
    "fim_service = False\n",
    "feature_service = False\n",
    "run = False\n",
    "fim_configs = None\n",
    "public_service = True\n",
    "max_flow_method = \"pipeline\"\n",
    "\n",
    "update_service_metadata(service, configuration, summary, description, tags, credits, egis_server, egis_folder, max_flows_sql_name=postprocess_max_flows, service_sql_name=postprocess_service, summary_sql_name=postprocess_summary, fim_service=fim_service, feature_service=feature_service, run=run, fim_configs=fim_configs, public_service=public_service, max_flow_method=max_flow_method)\n",
    "\n",
    "flow_id = '1'\n",
    "step = 'ingest'\n",
    "file_format = \"common/data/model/com/nwm/para/nwm.{{datetime:%Y%m%d}}/medium_range_mem1/nwm.t{{datetime:%H}}z.medium_range.channel_rt_1.f{{range:3,121,3,%03d}}.conus.nc\"\n",
    "source_table = None\n",
    "target_table = 'ingest.nwm_channel_rt_mrf_gfs_mem1_para'\n",
    "target_keys = '(feature_id, streamflow)'\n",
    "file_step = None\n",
    "file_window = None\n",
    "\n",
    "update_service_data_flows(service, flow_id, step, source_table, target_table, target_keys, file_step=file_step, file_window=file_window, file_format=file_format)\n",
    "\n",
    "flow_id = '2'\n",
    "step = 'ingest'\n",
    "file_format = \"common/data/model/com/nwm/para/nwm.{{datetime:%Y%m%d}}/medium_range_mem2/nwm.t{{datetime:%H}}z.medium_range.channel_rt_2.f{{range:3,121,3,%03d}}.conus.nc\"\n",
    "source_table = None\n",
    "target_table = 'ingest.nwm_channel_rt_mrf_gfs_mem2_para'\n",
    "target_keys = '(feature_id, streamflow)'\n",
    "file_step = None\n",
    "file_window = None\n",
    "\n",
    "update_service_data_flows(service, flow_id, step, source_table, target_table, target_keys, file_step=file_step, file_window=file_window, file_format=file_format)\n",
    "\n",
    "flow_id = '3'\n",
    "step = 'ingest'\n",
    "file_format = \"common/data/model/com/nwm/para/nwm.{{datetime:%Y%m%d}}/medium_range_mem3/nwm.t{{datetime:%H}}z.medium_range.channel_rt_3.f{{range:3,121,3,%03d}}.conus.nc\"\n",
    "source_table = None\n",
    "target_table = 'ingest.nwm_channel_rt_mrf_gfs_mem3_para'\n",
    "target_keys = '(feature_id, streamflow)'\n",
    "file_step = None\n",
    "file_window = None\n",
    "\n",
    "update_service_data_flows(service, flow_id, step, source_table, target_table, target_keys, file_step=file_step, file_window=file_window, file_format=file_format)\n",
    "\n",
    "flow_id = '4'\n",
    "step = 'ingest'\n",
    "file_format = \"common/data/model/com/nwm/para/nwm.{{datetime:%Y%m%d}}/medium_range_mem4/nwm.t{{datetime:%H}}z.medium_range.channel_rt_4.f{{range:3,121,3,%03d}}.conus.nc\"\n",
    "source_table = None\n",
    "target_table = 'ingest.nwm_channel_rt_mrf_gfs_mem4_para'\n",
    "target_keys = '(feature_id, streamflow)'\n",
    "file_step = None\n",
    "file_window = None\n",
    "\n",
    "update_service_data_flows(service, flow_id, step, source_table, target_table, target_keys, file_step=file_step, file_window=file_window, file_format=file_format)\n",
    "\n",
    "flow_id = '5'\n",
    "step = 'ingest'\n",
    "file_format = \"common/data/model/com/nwm/para/nwm.{{datetime:%Y%m%d}}/medium_range_mem5/nwm.t{{datetime:%H}}z.medium_range.channel_rt_5.f{{range:3,121,3,%03d}}.conus.nc\"\n",
    "source_table = None\n",
    "target_table = 'ingest.nwm_channel_rt_mrf_gfs_mem5_para'\n",
    "target_keys = '(feature_id, streamflow)'\n",
    "file_step = None\n",
    "file_window = None\n",
    "\n",
    "update_service_data_flows(service, flow_id, step, source_table, target_table, target_keys, file_step=file_step, file_window=file_window, file_format=file_format)\n",
    "\n",
    "flow_id = '6'\n",
    "step = 'ingest'\n",
    "file_format = \"common/data/model/com/nwm/para/nwm.{{datetime:%Y%m%d}}/medium_range_mem6/nwm.t{{datetime:%H}}z.medium_range.channel_rt_6.f{{range:3,121,3,%03d}}.conus.nc\"\n",
    "source_table = None\n",
    "target_table = 'ingest.nwm_channel_rt_mrf_gfs_mem6_para'\n",
    "target_keys = '(feature_id, streamflow)'\n",
    "file_step = None\n",
    "file_window = None\n",
    "\n",
    "update_service_data_flows(service, flow_id, step, source_table, target_table, target_keys, file_step=file_step, file_window=file_window, file_format=file_format)"
   ]
  },
  {
   "cell_type": "markdown",
   "id": "09becb31",
   "metadata": {},
   "source": [
    "<h3>Medium-Range Maximum High Flow Magnitude Forecast</h3>"
   ]
  },
  {
   "cell_type": "code",
   "execution_count": 68,
   "id": "d38688e9",
   "metadata": {},
   "outputs": [
    {
     "name": "stdout",
     "output_type": "stream",
     "text": [
      "This result object does not return rows. It has been closed automatically.\n",
      "This result object does not return rows. It has been closed automatically.\n",
      "This result object does not return rows. It has been closed automatically.\n",
      "This result object does not return rows. It has been closed automatically.\n",
      "This result object does not return rows. It has been closed automatically.\n",
      "This result object does not return rows. It has been closed automatically.\n"
     ]
    }
   ],
   "source": [
    "service = 'mrf_max_high_flow_magnitude'\n",
    "configuration = 'medium_range_mem1'\n",
    "postprocess_max_flows = ['mrf_max_flows']\n",
    "postprocess_service = 'mrf_max_high_flow_magnitude'\n",
    "postprocess_summary = None\n",
    "summary = 'Medium-Range Maximum High Flow Magnitude Forecast'\n",
    "description = 'Depicts the magnitude of the peak National Water Model (NWM) streamflow forecast over the next 3, 5 and 10 days where the NWM is signaling high water. This service is derived from the medium-range configuration of the NWM over the contiguous U.S. Shown are reaches with peak flow at or above high water thresholds. Reaches are colored by the annual exceedance probability (AEP) of their forecast peak flow. High water thresholds (regionally varied) and AEPs were derived using the 40-year NWM v2.1 reanalysis simulation. Updated every 6 hours.'\n",
    "tags = 'medium range forecast, maximum, high flow, magnitude, national water model, nwm'\n",
    "credits = 'National Water Model, NOAA/NWS National Water Center'\n",
    "egis_server = 'server'\n",
    "egis_folder = 'nwm'\n",
    "fim_service = False\n",
    "feature_service = False\n",
    "run = False\n",
    "fim_configs = None\n",
    "public_service = True\n",
    "max_flow_method = \"pipeline\"\n",
    "\n",
    "update_service_metadata(service, configuration, summary, description, tags, credits, egis_server, egis_folder, max_flows_sql_name=postprocess_max_flows, service_sql_name=postprocess_service, summary_sql_name=postprocess_summary, fim_service=fim_service, feature_service=feature_service, run=run, fim_configs=fim_configs, public_service=public_service, max_flow_method=max_flow_method)\n",
    "\n",
    "flow_id = '1'\n",
    "step = 'ingest'\n",
    "file_format = 'common/data/model/com/nwm/prod/nwm.{{datetime:%Y%m%d}}/medium_range_mem1/nwm.t{{datetime:%H}}z.medium_range.channel_rt_1.f{{range:3,243,3,%03d}}.conus.nc'\n",
    "source_table = None\n",
    "target_table = 'ingest.nwm_channel_rt_mrf_mem1'\n",
    "target_keys = '(feature_id, streamflow)'\n",
    "file_step = None\n",
    "file_window = None\n",
    "\n",
    "update_service_data_flows(service, flow_id, step, source_table, target_table, target_keys, file_step=file_step, file_window=file_window, file_format=file_format)\n",
    "\n",
    "flow_id = '2'\n",
    "step = 'max_flows'\n",
    "file_format = None\n",
    "source_table = 'ingest.nwm_channel_rt_mrf_mem1'\n",
    "target_table = 'cache.max_flows_mrf'\n",
    "target_keys = '(feature_id, streamflow)'\n",
    "file_step = None\n",
    "file_window = None\n",
    "\n",
    "update_service_data_flows(service, flow_id, step, source_table, target_table, target_keys, file_step=file_step, file_window=file_window, file_format=file_format)"
   ]
  },
  {
   "cell_type": "markdown",
   "id": "7cba9f82",
   "metadata": {},
   "source": [
    "<h3>Medium-Range GFS Maximum High Flow Magnitude Forecast</h3>"
   ]
  },
  {
   "cell_type": "code",
   "execution_count": 69,
   "id": "69a56dff",
   "metadata": {},
   "outputs": [
    {
     "name": "stdout",
     "output_type": "stream",
     "text": [
      "This result object does not return rows. It has been closed automatically.\n",
      "This result object does not return rows. It has been closed automatically.\n",
      "This result object does not return rows. It has been closed automatically.\n",
      "This result object does not return rows. It has been closed automatically.\n",
      "This result object does not return rows. It has been closed automatically.\n",
      "This result object does not return rows. It has been closed automatically.\n"
     ]
    }
   ],
   "source": [
    "service = 'mrf_gfs_max_high_flow_magnitude_para'\n",
    "configuration = 'medium_range_gfs_para'\n",
    "postprocess_max_flows = ['mrf_gfs_max_flows_para']\n",
    "postprocess_service = 'mrf_gfs_max_high_flow_magnitude_para'\n",
    "postprocess_summary = None\n",
    "summary = 'Medium-Range GFS Maximum High Flow Magnitude Forecast'\n",
    "description = 'Depicts the magnitude of the peak National Water Model (NWM) streamflow forecast over the next 3, 5 and 10 days where the NWM is signaling high water. This service is derived from the medium-range configuration of the NWM over the contiguous U.S. Shown are reaches with peak flow at or above high water thresholds. Reaches are colored by the annual exceedance probability (AEP) of their forecast peak flow. High water thresholds (regionally varied) and AEPs were derived using the 40-year NWM v2.1 reanalysis simulation. Updated every 6 hours.'\n",
    "tags = 'medium range forecast, maximum, high flow, magnitude, national water model, nwm, gfs'\n",
    "credits = 'National Water Model, NOAA/NWS National Water Center'\n",
    "egis_server = 'server'\n",
    "egis_folder = 'nwm'\n",
    "fim_service = False\n",
    "feature_service = False\n",
    "run = True\n",
    "fim_configs = None\n",
    "public_service = True\n",
    "max_flow_method = \"pipeline\"\n",
    "\n",
    "update_service_metadata(service, configuration, summary, description, tags, credits, egis_server, egis_folder, max_flows_sql_name=postprocess_max_flows, service_sql_name=postprocess_service, summary_sql_name=postprocess_summary, fim_service=fim_service, feature_service=feature_service, run=run, fim_configs=fim_configs, public_service=public_service, max_flow_method=max_flow_method)\n",
    "\n",
    "flow_id = '1'\n",
    "step = 'ingest'\n",
    "file_format = \"common/data/model/com/nwm/para/nwm.{{datetime:%Y%m%d}}/medium_range_mem1/nwm.t{{datetime:%H}}z.medium_range.channel_rt_1.f{{range:3,241,3,%03d}}.conus.nc\"\n",
    "source_table = None\n",
    "target_table = 'ingest.nwm_channel_rt_mrf_gfs_para'\n",
    "target_keys = '(feature_id, streamflow)'\n",
    "file_step = None\n",
    "file_window = None\n",
    "\n",
    "update_service_data_flows(service, flow_id, step, source_table, target_table, target_keys, file_step=file_step, file_window=file_window, file_format=file_format)\n",
    "\n",
    "flow_id = '2'\n",
    "step = 'max_flows'\n",
    "file_format = None\n",
    "source_table = 'ingest.nwm_channel_rt_mrf_gfs_para'\n",
    "target_table = 'cache.max_flows_mrf_gfs_para'\n",
    "target_keys = '(feature_id, streamflow)'\n",
    "file_step = None\n",
    "file_window = None\n",
    "\n",
    "update_service_data_flows(service, flow_id, step, source_table, target_table, target_keys, file_step=file_step, file_window=file_window, file_format=file_format)"
   ]
  },
  {
   "cell_type": "markdown",
   "id": "6674bc83",
   "metadata": {},
   "source": [
    "<h3>Medium-Range NBM Maximum High Flow Magnitude Forecast</h3>"
   ]
  },
  {
   "cell_type": "code",
   "execution_count": 70,
   "id": "413b4a0f",
   "metadata": {},
   "outputs": [
    {
     "name": "stdout",
     "output_type": "stream",
     "text": [
      "This result object does not return rows. It has been closed automatically.\n",
      "This result object does not return rows. It has been closed automatically.\n",
      "This result object does not return rows. It has been closed automatically.\n",
      "This result object does not return rows. It has been closed automatically.\n",
      "This result object does not return rows. It has been closed automatically.\n",
      "This result object does not return rows. It has been closed automatically.\n"
     ]
    }
   ],
   "source": [
    "service = 'mrf_nbm_max_high_flow_magnitude_para'\n",
    "configuration = 'medium_range_nbm_para'\n",
    "postprocess_max_flows = ['mrf_nbm_max_flows_para']\n",
    "postprocess_service = 'mrf_nbm_max_high_flow_magnitude_para'\n",
    "postprocess_summary = None\n",
    "summary = 'Medium-Range NBM Maximum High Flow Magnitude Forecast'\n",
    "description = 'Depicts the magnitude of the peak National Water Model (NWM) streamflow forecast over the next 3, 5 and 10 days where the NWM is signaling high water. This service is derived from the medium-range configuration of the NWM over the contiguous U.S. Shown are reaches with peak flow at or above high water thresholds. Reaches are colored by the annual exceedance probability (AEP) of their forecast peak flow. High water thresholds (regionally varied) and AEPs were derived using the 40-year NWM v2.1 reanalysis simulation. Updated every 6 hours.'\n",
    "tags = 'medium range forecast, maximum, high flow, magnitude, national water model, nwm, nbm'\n",
    "credits = 'National Water Model, NOAA/NWS National Water Center'\n",
    "egis_server = 'server'\n",
    "egis_folder = 'nwm'\n",
    "fim_service = False\n",
    "feature_service = False\n",
    "run = True\n",
    "fim_configs = None\n",
    "public_service = True\n",
    "max_flow_method = \"pipeline\"\n",
    "\n",
    "update_service_metadata(service, configuration, summary, description, tags, credits, egis_server, egis_folder, max_flows_sql_name=postprocess_max_flows, service_sql_name=postprocess_service, summary_sql_name=postprocess_summary, fim_service=fim_service, feature_service=feature_service, run=run, fim_configs=fim_configs, public_service=public_service, max_flow_method=max_flow_method)\n",
    "\n",
    "flow_id = '1'\n",
    "step = 'ingest'\n",
    "file_format = \"common/data/model/com/nwm/para/nwm.{{datetime:%Y%m%d}}/medium_range_blend/nwm.t{{datetime:%H}}z.medium_range_blend.channel_rt.f{{range:3,241,3,%03d}}.conus.nc\"\n",
    "source_table = None\n",
    "target_table = 'ingest.nwm_channel_rt_mrf_nbm_para'\n",
    "target_keys = '(feature_id, streamflow)'\n",
    "file_step = None\n",
    "file_window = None\n",
    "\n",
    "update_service_data_flows(service, flow_id, step, source_table, target_table, target_keys, file_step=file_step, file_window=file_window, file_format=file_format)\n",
    "\n",
    "flow_id = '2'\n",
    "step = 'max_flows'\n",
    "file_format = None\n",
    "source_table = 'ingest.nwm_channel_rt_mrf_nbm_para'\n",
    "target_table = 'cache.max_flows_mrf_nbm_para'\n",
    "target_keys = '(feature_id, streamflow)'\n",
    "file_step = None\n",
    "file_window = None\n",
    "\n",
    "update_service_data_flows(service, flow_id, step, source_table, target_table, target_keys, file_step=file_step, file_window=file_window, file_format=file_format)"
   ]
  },
  {
   "cell_type": "markdown",
   "id": "f21ef028",
   "metadata": {},
   "source": [
    "<h3>Medium-Range Peak Flow Arrival Time Forecast</h3>"
   ]
  },
  {
   "cell_type": "code",
   "execution_count": 71,
   "id": "021d7191",
   "metadata": {},
   "outputs": [
    {
     "name": "stdout",
     "output_type": "stream",
     "text": [
      "This result object does not return rows. It has been closed automatically.\n",
      "This result object does not return rows. It has been closed automatically.\n",
      "This result object does not return rows. It has been closed automatically.\n",
      "This result object does not return rows. It has been closed automatically.\n"
     ]
    }
   ],
   "source": [
    "service = 'mrf_peak_flow_arrival_time'\n",
    "configuration = 'medium_range_mem1'\n",
    "postprocess_max_flows = None\n",
    "postprocess_service = 'mrf_peak_flow_arrival_time'\n",
    "postprocess_summary = None\n",
    "summary = 'Medium-Range Peak Flow Arrival Time Forecast'\n",
    "description = 'Depicts expected peak flow arrival times derived from the operational National Water Model (NWM) medium-range forecast. Shown are reaches that are expected to have flow at or above the high water threshold over the next 3 and 10 days.. Reaches are colored by the time at which they are expected to be at their maximum flow within the forecast period. High water flows were derived using a 40-year retrospective analysis of the NWM (v2.1). Updated every 6 hours.'\n",
    "tags = 'medium range forecast, peak flow, arrival time, national water model, nwm, conus'\n",
    "credits = 'National Water Model, NOAA/NWS National Water Center'\n",
    "egis_server = 'server'\n",
    "egis_folder = 'nwm'\n",
    "fim_service = False\n",
    "feature_service = False\n",
    "run = False\n",
    "fim_configs = None\n",
    "public_service = False\n",
    "max_flow_method = \"pipeline\"\n",
    "\n",
    "update_service_metadata(service, configuration, summary, description, tags, credits, egis_server, egis_folder, max_flows_sql_name=postprocess_max_flows, service_sql_name=postprocess_service, summary_sql_name=postprocess_summary, fim_service=fim_service, feature_service=feature_service, run=run, fim_configs=fim_configs, public_service=public_service, max_flow_method=max_flow_method)\n",
    "\n",
    "flow_id = '1'\n",
    "step = 'ingest'\n",
    "file_format = 'common/data/model/com/nwm/prod/nwm.{{datetime:%Y%m%d}}/medium_range_mem1/nwm.t{{datetime:%H}}z.medium_range.channel_rt_1.f{{range:3,243,3,%03d}}.conus.nc'\n",
    "source_table = None\n",
    "target_table = 'ingest.nwm_channel_rt_mrf_mem1'\n",
    "target_keys = '(feature_id, streamflow)'\n",
    "file_step = None\n",
    "file_window = None\n",
    "\n",
    "update_service_data_flows(service, flow_id, step, source_table, target_table, target_keys, file_step=file_step, file_window=file_window, file_format=file_format)"
   ]
  },
  {
   "cell_type": "markdown",
   "id": "71976b90",
   "metadata": {},
   "source": [
    "<h3>Medium-Range GFS Peak Flow Arrival Time Forecast</h3>"
   ]
  },
  {
   "cell_type": "code",
   "execution_count": 72,
   "id": "881ebeb8",
   "metadata": {},
   "outputs": [
    {
     "name": "stdout",
     "output_type": "stream",
     "text": [
      "This result object does not return rows. It has been closed automatically.\n",
      "This result object does not return rows. It has been closed automatically.\n",
      "This result object does not return rows. It has been closed automatically.\n",
      "This result object does not return rows. It has been closed automatically.\n",
      "This result object does not return rows. It has been closed automatically.\n",
      "This result object does not return rows. It has been closed automatically.\n"
     ]
    }
   ],
   "source": [
    "service = 'mrf_gfs_peak_flow_arrival_time_para'\n",
    "configuration = 'medium_range_gfs_para'\n",
    "postprocess_max_flows = ['mrf_gfs_max_flows_para']\n",
    "postprocess_service = 'mrf_gfs_peak_flow_arrival_time_para'\n",
    "postprocess_summary = None\n",
    "summary = 'Medium-Range GFS Peak Flow Arrival Time Forecast'\n",
    "description = 'Depicts expected peak flow arrival times derived from the operational National Water Model (NWM) medium-range forecast. Shown are reaches that are expected to have flow at or above the high water threshold over the next 3 and 10 days.. Reaches are colored by the time at which they are expected to be at their maximum flow within the forecast period. High water flows were derived using a 40-year retrospective analysis of the NWM (v2.1). Updated every 6 hours.'\n",
    "tags = 'medium range forecast, peak flow, arrival time, national water model, nwm, conus, gfs'\n",
    "credits = 'National Water Model, NOAA/NWS National Water Center'\n",
    "egis_server = 'server'\n",
    "egis_folder = 'nwm'\n",
    "fim_service = False\n",
    "feature_service = False\n",
    "run = True\n",
    "fim_configs = None\n",
    "public_service = False\n",
    "max_flow_method = \"pipeline\"\n",
    "\n",
    "update_service_metadata(service, configuration, summary, description, tags, credits, egis_server, egis_folder, max_flows_sql_name=postprocess_max_flows, service_sql_name=postprocess_service, summary_sql_name=postprocess_summary, fim_service=fim_service, feature_service=feature_service, run=run, fim_configs=fim_configs, public_service=public_service, max_flow_method=max_flow_method)\n",
    "\n",
    "flow_id = '1'\n",
    "step = 'ingest'\n",
    "file_format = \"common/data/model/com/nwm/para/nwm.{{datetime:%Y%m%d}}/medium_range_mem1/nwm.t{{datetime:%H}}z.medium_range.channel_rt_1.f{{range:3,241,3,%03d}}.conus.nc\"\n",
    "source_table = None\n",
    "target_table = 'ingest.nwm_channel_rt_mrf_gfs_para'\n",
    "target_keys = '(feature_id, streamflow)'\n",
    "file_step = None\n",
    "file_window = None\n",
    "\n",
    "update_service_data_flows(service, flow_id, step, source_table, target_table, target_keys, file_step=file_step, file_window=file_window, file_format=file_format)\n",
    "\n",
    "flow_id = '2'\n",
    "step = 'max_flows'\n",
    "file_format = None\n",
    "source_table = 'ingest.nwm_channel_rt_mrf_gfs_para'\n",
    "target_table = 'cache.max_flows_mrf_gfs_para'\n",
    "target_keys = '(feature_id, streamflow)'\n",
    "file_step = None\n",
    "file_window = None\n",
    "\n",
    "update_service_data_flows(service, flow_id, step, source_table, target_table, target_keys, file_step=file_step, file_window=file_window, file_format=file_format)"
   ]
  },
  {
   "cell_type": "markdown",
   "id": "5f5bbf81",
   "metadata": {},
   "source": [
    "<h3>Medium-Range NBM Peak Flow Arrival Time Forecast</h3>"
   ]
  },
  {
   "cell_type": "code",
   "execution_count": 73,
   "id": "f145cae9",
   "metadata": {},
   "outputs": [
    {
     "name": "stdout",
     "output_type": "stream",
     "text": [
      "This result object does not return rows. It has been closed automatically.\n",
      "This result object does not return rows. It has been closed automatically.\n",
      "This result object does not return rows. It has been closed automatically.\n",
      "This result object does not return rows. It has been closed automatically.\n",
      "This result object does not return rows. It has been closed automatically.\n",
      "This result object does not return rows. It has been closed automatically.\n"
     ]
    }
   ],
   "source": [
    "service = 'mrf_nbm_peak_flow_arrival_time_para'\n",
    "configuration = 'medium_range_nbm_para'\n",
    "postprocess_max_flows = ['mrf_nbm_max_flows_para']\n",
    "postprocess_service = 'mrf_nbm_peak_flow_arrival_time_para'\n",
    "postprocess_summary = None\n",
    "summary = 'Medium-Range NBM Peak Flow Arrival Time Forecast'\n",
    "description = 'Depicts expected peak flow arrival times derived from the operational National Water Model (NWM) medium-range forecast. Shown are reaches that are expected to have flow at or above the high water threshold over the next 3 and 10 days.. Reaches are colored by the time at which they are expected to be at their maximum flow within the forecast period. High water flows were derived using a 40-year retrospective analysis of the NWM (v2.1). Updated every 6 hours.'\n",
    "tags = 'medium range forecast, peak flow, arrival time, national water model, nwm, conus, nbm'\n",
    "credits = 'National Water Model, NOAA/NWS National Water Center'\n",
    "egis_server = 'server'\n",
    "egis_folder = 'nwm'\n",
    "fim_service = False\n",
    "feature_service = False\n",
    "run = True\n",
    "fim_configs = None\n",
    "public_service = False\n",
    "max_flow_method = \"pipeline\"\n",
    "\n",
    "update_service_metadata(service, configuration, summary, description, tags, credits, egis_server, egis_folder, max_flows_sql_name=postprocess_max_flows, service_sql_name=postprocess_service, summary_sql_name=postprocess_summary, fim_service=fim_service, feature_service=feature_service, run=run, fim_configs=fim_configs, public_service=public_service, max_flow_method=max_flow_method)\n",
    "\n",
    "flow_id = '1'\n",
    "step = 'ingest'\n",
    "file_format = \"common/data/model/com/nwm/para/nwm.{{datetime:%Y%m%d}}/medium_range_blend/nwm.t{{datetime:%H}}z.medium_range_blend.channel_rt.f{{range:3,241,3,%03d}}.conus.nc\"\n",
    "source_table = None\n",
    "target_table = 'ingest.nwm_channel_rt_mrf_nbm_para'\n",
    "target_keys = '(feature_id, streamflow)'\n",
    "file_step = None\n",
    "file_window = None\n",
    "\n",
    "update_service_data_flows(service, flow_id, step, source_table, target_table, target_keys, file_step=file_step, file_window=file_window, file_format=file_format)\n",
    "\n",
    "flow_id = '2'\n",
    "step = 'max_flows'\n",
    "file_format = None\n",
    "source_table = 'ingest.nwm_channel_rt_mrf_nbm_para'\n",
    "target_table = 'cache.max_flows_mrf_nbm_para'\n",
    "target_keys = '(feature_id, streamflow)'\n",
    "file_step = None\n",
    "file_window = None\n",
    "\n",
    "update_service_data_flows(service, flow_id, step, source_table, target_table, target_keys, file_step=file_step, file_window=file_window, file_format=file_format)"
   ]
  },
  {
   "cell_type": "markdown",
   "id": "e5b9bd01",
   "metadata": {},
   "source": [
    "<h3>Medium-Range Rapid Onset Flooding Forecast</h3>"
   ]
  },
  {
   "cell_type": "code",
   "execution_count": 74,
   "id": "202872c3",
   "metadata": {},
   "outputs": [
    {
     "name": "stdout",
     "output_type": "stream",
     "text": [
      "This result object does not return rows. It has been closed automatically.\n",
      "This result object does not return rows. It has been closed automatically.\n",
      "This result object does not return rows. It has been closed automatically.\n",
      "This result object does not return rows. It has been closed automatically.\n"
     ]
    }
   ],
   "source": [
    "service = 'mrf_rapid_onset_flooding'\n",
    "configuration = 'medium_range_mem1'\n",
    "postprocess_max_flows = None\n",
    "postprocess_service = 'mrf_rapid_onset_flooding'\n",
    "postprocess_summary = ['{\"hucs\":[\"mrf_rapid_onset_flooding_hucs\"]}']\n",
    "summary = 'Medium-Range Rapid Onset Flooding Forecast'\n",
    "description = 'Depicts forecast rapid onset flooding using the medium-range configuration of the National Water Model (NWM) over the contiguous U.S. Shown are reaches (stream order 4 and below) with a forecast flow increase of 100% or greater within 3 hours, and which are expected to be at or above the high water threshold within 6 hours of that increase (all calculated in 3 hour increments). Also shown are USGS HUC08 polygons symbolized by the percentage of NWM waterway length (within each HUC08) that is expected to meet the previously mentioned criteria. High water thresholds (regionally varied) were derived using the 40-year NWM v2.1 reanalysis simulation. Updated every 6 hours.'\n",
    "tags = 'medium, range, forecast, streamflow, rapid, onset, flood, national, water, model, nwm'\n",
    "credits = 'National Water Model, NOAA/NWS National Water Center'\n",
    "egis_server = 'server'\n",
    "egis_folder = 'nwm'\n",
    "fim_service = False\n",
    "feature_service = False\n",
    "run = False\n",
    "fim_configs = None\n",
    "public_service = True\n",
    "max_flow_method = \"pipeline\"\n",
    "\n",
    "update_service_metadata(service, configuration, summary, description, tags, credits, egis_server, egis_folder, max_flows_sql_name=postprocess_max_flows, service_sql_name=postprocess_service, summary_sql_name=postprocess_summary, fim_service=fim_service, feature_service=feature_service, run=run, fim_configs=fim_configs, public_service=public_service, max_flow_method=max_flow_method)\n",
    "\n",
    "flow_id = '1'\n",
    "step = 'ingest'\n",
    "file_format = 'common/data/model/com/nwm/para/nwm.{{datetime:%Y%m%d}}/medium_range_mem1/nwm.t{{datetime:%H}}z.medium_range.channel_rt_1.f{{range:3,243,3,%03d}}.conus.nc'\n",
    "source_table = None\n",
    "target_table = 'ingest.nwm_channel_rt_mrf_mem1'\n",
    "target_keys = '(feature_id, streamflow)'\n",
    "file_step = None\n",
    "file_window = None\n",
    "\n",
    "update_service_data_flows(service, flow_id, step, source_table, target_table, target_keys, file_step=file_step, file_window=file_window, file_format=file_format)"
   ]
  },
  {
   "cell_type": "markdown",
   "id": "092672bb",
   "metadata": {},
   "source": [
    "<h3>Medium-Range GFS Rapid Onset Flooding Forecast</h3>"
   ]
  },
  {
   "cell_type": "code",
   "execution_count": 75,
   "id": "7e17695d",
   "metadata": {},
   "outputs": [
    {
     "name": "stdout",
     "output_type": "stream",
     "text": [
      "This result object does not return rows. It has been closed automatically.\n",
      "This result object does not return rows. It has been closed automatically.\n",
      "This result object does not return rows. It has been closed automatically.\n",
      "This result object does not return rows. It has been closed automatically.\n",
      "This result object does not return rows. It has been closed automatically.\n",
      "This result object does not return rows. It has been closed automatically.\n"
     ]
    }
   ],
   "source": [
    "service = 'mrf_gfs_rapid_onset_flooding_para'\n",
    "configuration = 'medium_range_gfs_para'\n",
    "postprocess_max_flows = ['mrf_gfs_max_flows_para']\n",
    "postprocess_service = 'mrf_gfs_rapid_onset_flooding_para'\n",
    "postprocess_summary = ['{\"hucs\":[\"mrf_gfs_rapid_onset_flooding_hucs_para\"]}']\n",
    "summary = 'Medium-Range GFS Rapid Onset Flooding Forecast'\n",
    "description = 'Depicts forecast rapid onset flooding using the medium-range configuration of the National Water Model (NWM) over the contiguous U.S. Shown are reaches (stream order 4 and below) with a forecast flow increase of 100% or greater within 3 hours, and which are expected to be at or above the high water threshold within 6 hours of that increase (all calculated in 3 hour increments). Also shown are USGS HUC08 polygons symbolized by the percentage of NWM waterway length (within each HUC08) that is expected to meet the previously mentioned criteria. High water thresholds (regionally varied) were derived using the 40-year NWM v2.1 reanalysis simulation. Updated every 6 hours.'\n",
    "tags = 'medium, range, forecast, streamflow, rapid, onset, flood, national, water, model, nwm, gfs'\n",
    "credits = 'National Water Model, NOAA/NWS National Water Center'\n",
    "egis_server = 'server'\n",
    "egis_folder = 'nwm'\n",
    "fim_service = False\n",
    "feature_service = False\n",
    "run = True\n",
    "fim_configs = None\n",
    "public_service = True\n",
    "max_flow_method = \"pipeline\"\n",
    "\n",
    "update_service_metadata(service, configuration, summary, description, tags, credits, egis_server, egis_folder, max_flows_sql_name=postprocess_max_flows, service_sql_name=postprocess_service, summary_sql_name=postprocess_summary, fim_service=fim_service, feature_service=feature_service, run=run, fim_configs=fim_configs, public_service=public_service, max_flow_method=max_flow_method)\n",
    "\n",
    "flow_id = '1'\n",
    "step = 'ingest'\n",
    "file_format = \"common/data/model/com/nwm/para/nwm.{{datetime:%Y%m%d}}/medium_range_mem1/nwm.t{{datetime:%H}}z.medium_range.channel_rt_1.f{{range:3,241,3,%03d}}.conus.nc\"\n",
    "source_table = None\n",
    "target_table = 'ingest.nwm_channel_rt_mrf_gfs_para'\n",
    "target_keys = '(feature_id, streamflow)'\n",
    "file_step = None\n",
    "file_window = None\n",
    "\n",
    "update_service_data_flows(service, flow_id, step, source_table, target_table, target_keys, file_step=file_step, file_window=file_window, file_format=file_format)\n",
    "\n",
    "flow_id = '2'\n",
    "step = 'max_flows'\n",
    "file_format = None\n",
    "source_table = 'ingest.nwm_channel_rt_mrf_gfs_para'\n",
    "target_table = 'cache.max_flows_mrf_gfs_para'\n",
    "target_keys = '(feature_id, streamflow)'\n",
    "file_step = None\n",
    "file_window = None\n",
    "\n",
    "update_service_data_flows(service, flow_id, step, source_table, target_table, target_keys, file_step=file_step, file_window=file_window, file_format=file_format)"
   ]
  },
  {
   "cell_type": "markdown",
   "id": "fbc1d366",
   "metadata": {},
   "source": [
    "<h3>Medium-Range NBM Rapid Onset Flooding Forecast</h3>"
   ]
  },
  {
   "cell_type": "code",
   "execution_count": 76,
   "id": "02acc379",
   "metadata": {},
   "outputs": [
    {
     "name": "stdout",
     "output_type": "stream",
     "text": [
      "This result object does not return rows. It has been closed automatically.\n",
      "This result object does not return rows. It has been closed automatically.\n",
      "This result object does not return rows. It has been closed automatically.\n",
      "This result object does not return rows. It has been closed automatically.\n",
      "This result object does not return rows. It has been closed automatically.\n",
      "This result object does not return rows. It has been closed automatically.\n"
     ]
    }
   ],
   "source": [
    "service = 'mrf_nbm_rapid_onset_flooding_para'\n",
    "configuration = 'medium_range_nbm_para'\n",
    "postprocess_max_flows = ['mrf_nbm_max_flows_para']\n",
    "postprocess_service = 'mrf_nbm_rapid_onset_flooding_para'\n",
    "postprocess_summary = ['{\"hucs\":[\"mrf_nbm_rapid_onset_flooding_hucs_para\"]}']\n",
    "summary = 'Medium-Range GFS Rapid Onset Flooding Forecast'\n",
    "description = 'Depicts forecast rapid onset flooding using the medium-range configuration of the National Water Model (NWM) over the contiguous U.S. Shown are reaches (stream order 4 and below) with a forecast flow increase of 100% or greater within 3 hours, and which are expected to be at or above the high water threshold within 6 hours of that increase (all calculated in 3 hour increments). Also shown are USGS HUC08 polygons symbolized by the percentage of NWM waterway length (within each HUC08) that is expected to meet the previously mentioned criteria. High water thresholds (regionally varied) were derived using the 40-year NWM v2.1 reanalysis simulation. Updated every 6 hours.'\n",
    "tags = 'medium, range, forecast, streamflow, rapid, onset, flood, national, water, model, nwm, nbm'\n",
    "credits = 'National Water Model, NOAA/NWS National Water Center'\n",
    "egis_server = 'server'\n",
    "egis_folder = 'nwm'\n",
    "fim_service = False\n",
    "feature_service = False\n",
    "run = True\n",
    "fim_configs = None\n",
    "public_service = True\n",
    "max_flow_method = \"pipeline\"\n",
    "\n",
    "update_service_metadata(service, configuration, summary, description, tags, credits, egis_server, egis_folder, max_flows_sql_name=postprocess_max_flows, service_sql_name=postprocess_service, summary_sql_name=postprocess_summary, fim_service=fim_service, feature_service=feature_service, run=run, fim_configs=fim_configs, public_service=public_service, max_flow_method=max_flow_method)\n",
    "\n",
    "flow_id = '1'\n",
    "step = 'ingest'\n",
    "file_format = \"common/data/model/com/nwm/para/nwm.{{datetime:%Y%m%d}}/medium_range_blend/nwm.t{{datetime:%H}}z.medium_range_blend.channel_rt.f{{range:3,241,3,%03d}}.conus.nc\"\n",
    "source_table = None\n",
    "target_table = 'ingest.nwm_channel_rt_mrf_nbm_para'\n",
    "target_keys = '(feature_id, streamflow)'\n",
    "file_step = None\n",
    "file_window = None\n",
    "\n",
    "update_service_data_flows(service, flow_id, step, source_table, target_table, target_keys, file_step=file_step, file_window=file_window, file_format=file_format)\n",
    "\n",
    "flow_id = '2'\n",
    "step = 'max_flows'\n",
    "file_format = None\n",
    "source_table = 'ingest.nwm_channel_rt_mrf_nbm_para'\n",
    "target_table = 'cache.max_flows_mrf_nbm_para'\n",
    "target_keys = '(feature_id, streamflow)'\n",
    "file_step = None\n",
    "file_window = None\n",
    "\n",
    "update_service_data_flows(service, flow_id, step, source_table, target_table, target_keys, file_step=file_step, file_window=file_window, file_format=file_format)"
   ]
  },
  {
   "cell_type": "markdown",
   "id": "44f23f58",
   "metadata": {},
   "source": [
    "<h3>Medium-Range Rapid Onset Flooding Probability Forecast</h3>"
   ]
  },
  {
   "cell_type": "code",
   "execution_count": 77,
   "id": "382062ae",
   "metadata": {},
   "outputs": [
    {
     "name": "stdout",
     "output_type": "stream",
     "text": [
      "This result object does not return rows. It has been closed automatically.\n",
      "This result object does not return rows. It has been closed automatically.\n",
      "This result object does not return rows. It has been closed automatically.\n",
      "This result object does not return rows. It has been closed automatically.\n",
      "This result object does not return rows. It has been closed automatically.\n",
      "This result object does not return rows. It has been closed automatically.\n",
      "This result object does not return rows. It has been closed automatically.\n",
      "This result object does not return rows. It has been closed automatically.\n",
      "This result object does not return rows. It has been closed automatically.\n",
      "This result object does not return rows. It has been closed automatically.\n",
      "This result object does not return rows. It has been closed automatically.\n",
      "This result object does not return rows. It has been closed automatically.\n",
      "This result object does not return rows. It has been closed automatically.\n",
      "This result object does not return rows. It has been closed automatically.\n",
      "This result object does not return rows. It has been closed automatically.\n",
      "This result object does not return rows. It has been closed automatically.\n"
     ]
    }
   ],
   "source": [
    "service = 'mrf_rapid_onset_flooding_probability'\n",
    "configuration = 'medium_range_mem1'\n",
    "postprocess_max_flows = None\n",
    "postprocess_service = None\n",
    "postprocess_summary = None\n",
    "summary = 'Medium-Range Rapid Onset Flooding Probability Forecast'\n",
    "description = 'Depicts the probability of forecast rapid onset flooding over the next 10 days using ensembles from the medium-range configuration of the National Water Model (NWM) over the contiguous U.S. Shown are reaches that are expected to have flow at or above high water thresholds on Day 1, Day 2, Day 3, Days 4-5, and Days 1-5 using the 7 ensemble members of the medium-range forecast. Reaches are colored by the probability that they will meet or exceed rapid onset conditions on Day 1, Day 2, Day 3, Days 4-5, and Days 1-5. Probabilities are computed as the % agreement across the 7 ensemble members, equally weighted. Hotspots show average 1-5 day rapid onset flooding probability, weighted by reach length, for USGS HUC8 basins with greater than 10% of NWM feature length meeting rapid onset criteria in the next 5 days. High water thresholds (regionally varied) were derived using the 40-year NWM v2.1 reanalysis simulation. Updated every 6 hours.'\n",
    "tags = 'medium,range,forecast,streamflow,rapid,onset,flood,probability,national,water,model,nwm'\n",
    "credits = 'National Water Model, NOAA/NWS National Water Center'\n",
    "egis_server = 'server'\n",
    "egis_folder = 'nwm'\n",
    "fim_service = False\n",
    "feature_service = True\n",
    "run = False\n",
    "fim_configs = None\n",
    "public_service = True\n",
    "max_flow_method = \"pipeline\"\n",
    "\n",
    "update_service_metadata(service, configuration, summary, description, tags, credits, egis_server, egis_folder, max_flows_sql_name=postprocess_max_flows, service_sql_name=postprocess_service, summary_sql_name=postprocess_summary, fim_service=fim_service, feature_service=feature_service, run=run, fim_configs=fim_configs, public_service=public_service, max_flow_method=max_flow_method)\n",
    "\n",
    "flow_id = '1'\n",
    "step = 'ingest'\n",
    "file_format = \"common/data/model/com/nwm/para/nwm.{{datetime:%Y%m%d}}/medium_range_mem1/nwm.t{{datetime:%H}}z.medium_range.channel_rt_1.f{{range:3,121,3,%03d}}.conus.nc\"\n",
    "source_table = None\n",
    "target_table = 'ingest.nwm_channel_rt_mrf_mem1'\n",
    "target_keys = '(feature_id, streamflow)'\n",
    "file_step = None\n",
    "file_window = None\n",
    "\n",
    "update_service_data_flows(service, flow_id, step, source_table, target_table, target_keys, file_step=file_step, file_window=file_window, file_format=file_format)\n",
    "\n",
    "flow_id = '2'\n",
    "step = 'ingest'\n",
    "file_format = \"common/data/model/com/nwm/para/nwm.{{datetime:%Y%m%d}}/medium_range_mem2/nwm.t{{datetime:%H}}z.medium_range.channel_rt_2.f{{range:3,121,3,%03d}}.conus.nc\"\n",
    "source_table = None\n",
    "target_table = 'ingest.nwm_channel_rt_mrf_mem2'\n",
    "target_keys = '(feature_id, streamflow)'\n",
    "file_step = None\n",
    "file_window = None\n",
    "\n",
    "update_service_data_flows(service, flow_id, step, source_table, target_table, target_keys, file_step=file_step, file_window=file_window, file_format=file_format)\n",
    "\n",
    "flow_id = '3'\n",
    "step = 'ingest'\n",
    "file_format = \"common/data/model/com/nwm/para/nwm.{{datetime:%Y%m%d}}/medium_range_mem3/nwm.t{{datetime:%H}}z.medium_range.channel_rt_3.f{{range:3,121,3,%03d}}.conus.nc\"\n",
    "source_table = None\n",
    "target_table = 'ingest.nwm_channel_rt_mrf_mem3'\n",
    "target_keys = '(feature_id, streamflow)'\n",
    "file_step = None\n",
    "file_window = None\n",
    "\n",
    "update_service_data_flows(service, flow_id, step, source_table, target_table, target_keys, file_step=file_step, file_window=file_window, file_format=file_format)\n",
    "\n",
    "flow_id = '4'\n",
    "step = 'ingest'\n",
    "file_format = \"common/data/model/com/nwm/para/nwm.{{datetime:%Y%m%d}}/medium_range_mem4/nwm.t{{datetime:%H}}z.medium_range.channel_rt_4.f{{range:3,121,3,%03d}}.conus.nc\"\n",
    "source_table = None\n",
    "target_table = 'ingest.nwm_channel_rt_mrf_mem4'\n",
    "target_keys = '(feature_id, streamflow)'\n",
    "file_step = None\n",
    "file_window = None\n",
    "\n",
    "update_service_data_flows(service, flow_id, step, source_table, target_table, target_keys, file_step=file_step, file_window=file_window, file_format=file_format)\n",
    "\n",
    "flow_id = '5'\n",
    "step = 'ingest'\n",
    "file_format = \"common/data/model/com/nwm/para/nwm.{{datetime:%Y%m%d}}/medium_range_mem5/nwm.t{{datetime:%H}}z.medium_range.channel_rt_5.f{{range:3,121,3,%03d}}.conus.nc\"\n",
    "source_table = None\n",
    "target_table = 'ingest.nwm_channel_rt_mrf_mem5'\n",
    "target_keys = '(feature_id, streamflow)'\n",
    "file_step = None\n",
    "file_window = None\n",
    "\n",
    "update_service_data_flows(service, flow_id, step, source_table, target_table, target_keys, file_step=file_step, file_window=file_window, file_format=file_format)\n",
    "\n",
    "flow_id = '6'\n",
    "step = 'ingest'\n",
    "file_format = \"common/data/model/com/nwm/para/nwm.{{datetime:%Y%m%d}}/medium_range_mem6/nwm.t{{datetime:%H}}z.medium_range.channel_rt_6.f{{range:3,121,3,%03d}}.conus.nc\"\n",
    "source_table = None\n",
    "target_table = 'ingest.nwm_channel_rt_mrf_mem6'\n",
    "target_keys = '(feature_id, streamflow)'\n",
    "file_step = None\n",
    "file_window = None\n",
    "\n",
    "update_service_data_flows(service, flow_id, step, source_table, target_table, target_keys, file_step=file_step, file_window=file_window, file_format=file_format)\n",
    "\n",
    "flow_id = '7'\n",
    "step = 'ingest'\n",
    "file_format = \"common/data/model/com/nwm/para/nwm.{{datetime:%Y%m%d}}/medium_range_mem7/nwm.t{{datetime:%H}}z.medium_range.channel_rt_7.f{{range:3,121,3,%03d}}.conus.nc\"\n",
    "source_table = None\n",
    "target_table = 'ingest.nwm_channel_rt_mrf_mem7'\n",
    "target_keys = '(feature_id, streamflow)'\n",
    "file_step = None\n",
    "file_window = None\n",
    "\n",
    "update_service_data_flows(service, flow_id, step, source_table, target_table, target_keys, file_step=file_step, file_window=file_window, file_format=file_format)"
   ]
  },
  {
   "cell_type": "markdown",
   "id": "d124989b",
   "metadata": {},
   "source": [
    "<h3>Medium-Range GFS Rapid Onset Flooding Probability Forecast</h3>"
   ]
  },
  {
   "cell_type": "code",
   "execution_count": 78,
   "id": "19da89c8",
   "metadata": {},
   "outputs": [
    {
     "name": "stdout",
     "output_type": "stream",
     "text": [
      "This result object does not return rows. It has been closed automatically.\n",
      "This result object does not return rows. It has been closed automatically.\n",
      "This result object does not return rows. It has been closed automatically.\n",
      "This result object does not return rows. It has been closed automatically.\n",
      "This result object does not return rows. It has been closed automatically.\n",
      "This result object does not return rows. It has been closed automatically.\n",
      "This result object does not return rows. It has been closed automatically.\n",
      "This result object does not return rows. It has been closed automatically.\n",
      "This result object does not return rows. It has been closed automatically.\n",
      "This result object does not return rows. It has been closed automatically.\n",
      "This result object does not return rows. It has been closed automatically.\n",
      "This result object does not return rows. It has been closed automatically.\n",
      "This result object does not return rows. It has been closed automatically.\n",
      "This result object does not return rows. It has been closed automatically.\n"
     ]
    }
   ],
   "source": [
    "service = 'mrf_gfs_rapid_onset_flooding_probability'\n",
    "configuration = 'medium_range_gfs'\n",
    "postprocess_max_flows = None\n",
    "postprocess_service = None\n",
    "postprocess_summary = None\n",
    "summary = 'Medium-Range GFS Rapid Onset Flooding Probability Forecast'\n",
    "description = 'Depicts the probability of forecast rapid onset flooding over the next 10 days using ensembles from the medium-range configuration of the National Water Model (NWM) over the contiguous U.S. Shown are reaches that are expected to have flow at or above high water thresholds on Day 1, Day 2, Day 3, Days 4-5, and Days 1-5 using the 7 ensemble members of the medium-range forecast. Reaches are colored by the probability that they will meet or exceed rapid onset conditions on Day 1, Day 2, Day 3, Days 4-5, and Days 1-5. Probabilities are computed as the % agreement across the 7 ensemble members, equally weighted. Hotspots show average 1-5 day rapid onset flooding probability, weighted by reach length, for USGS HUC8 basins with greater than 10% of NWM feature length meeting rapid onset criteria in the next 5 days. High water thresholds (regionally varied) were derived using the 40-year NWM v2.1 reanalysis simulation. Updated every 6 hours.'\n",
    "tags = 'medium,range,forecast,streamflow,rapid,onset,flood,probability,national,water,model,nwm,gfs'\n",
    "credits = 'National Water Model, NOAA/NWS National Water Center'\n",
    "egis_server = 'server'\n",
    "egis_folder = 'nwm'\n",
    "fim_service = False\n",
    "feature_service = True\n",
    "run = False\n",
    "fim_configs = None\n",
    "public_service = True\n",
    "max_flow_method = \"pipeline\"\n",
    "\n",
    "update_service_metadata(service, configuration, summary, description, tags, credits, egis_server, egis_folder, max_flows_sql_name=postprocess_max_flows, service_sql_name=postprocess_service, summary_sql_name=postprocess_summary, fim_service=fim_service, feature_service=feature_service, run=run, fim_configs=fim_configs, public_service=public_service, max_flow_method=max_flow_method)\n",
    "\n",
    "flow_id = '1'\n",
    "step = 'ingest'\n",
    "file_format = \"common/data/model/com/nwm/prod/nwm.{{datetime:%Y%m%d}}/medium_range_mem1/nwm.t{{datetime:%H}}z.medium_range.channel_rt_1.f{{range:3,121,3,%03d}}.conus.nc\"\n",
    "source_table = None\n",
    "target_table = 'ingest.nwm_channel_rt_mrf_gfs_mem1'\n",
    "target_keys = '(feature_id, streamflow)'\n",
    "file_step = None\n",
    "file_window = None\n",
    "\n",
    "update_service_data_flows(service, flow_id, step, source_table, target_table, target_keys, file_step=file_step, file_window=file_window, file_format=file_format)\n",
    "\n",
    "flow_id = '2'\n",
    "step = 'ingest'\n",
    "file_format = \"common/data/model/com/nwm/prod/nwm.{{datetime:%Y%m%d}}/medium_range_mem2/nwm.t{{datetime:%H}}z.medium_range.channel_rt_2.f{{range:3,121,3,%03d}}.conus.nc\"\n",
    "source_table = None\n",
    "target_table = 'ingest.nwm_channel_rt_mrf_gfs_mem_prod'\n",
    "target_keys = '(feature_id, streamflow)'\n",
    "file_step = None\n",
    "file_window = None\n",
    "\n",
    "update_service_data_flows(service, flow_id, step, source_table, target_table, target_keys, file_step=file_step, file_window=file_window, file_format=file_format)\n",
    "\n",
    "flow_id = '3'\n",
    "step = 'ingest'\n",
    "file_format = \"common/data/model/com/nwm/prod/nwm.{{datetime:%Y%m%d}}/medium_range_mem3/nwm.t{{datetime:%H}}z.medium_range.channel_rt_3.f{{range:3,121,3,%03d}}.conus.nc\"\n",
    "source_table = None\n",
    "target_table = 'ingest.nwm_channel_rt_mrf_gfs_mem3'\n",
    "target_keys = '(feature_id, streamflow)'\n",
    "file_step = None\n",
    "file_window = None\n",
    "\n",
    "update_service_data_flows(service, flow_id, step, source_table, target_table, target_keys, file_step=file_step, file_window=file_window, file_format=file_format)\n",
    "\n",
    "flow_id = '4'\n",
    "step = 'ingest'\n",
    "file_format = \"common/data/model/com/nwm/prod/nwm.{{datetime:%Y%m%d}}/medium_range_mem4/nwm.t{{datetime:%H}}z.medium_range.channel_rt_4.f{{range:3,121,3,%03d}}.conus.nc\"\n",
    "source_table = None\n",
    "target_table = 'ingest.nwm_channel_rt_mrf_gfs_mem4'\n",
    "target_keys = '(feature_id, streamflow)'\n",
    "file_step = None\n",
    "file_window = None\n",
    "\n",
    "update_service_data_flows(service, flow_id, step, source_table, target_table, target_keys, file_step=file_step, file_window=file_window, file_format=file_format)\n",
    "\n",
    "flow_id = '5'\n",
    "step = 'ingest'\n",
    "file_format = \"common/data/model/com/nwm/prod/nwm.{{datetime:%Y%m%d}}/medium_range_mem5/nwm.t{{datetime:%H}}z.medium_range.channel_rt_5.f{{range:3,121,3,%03d}}.conus.nc\"\n",
    "source_table = None\n",
    "target_table = 'ingest.nwm_channel_rt_mrf_gfs_mem5'\n",
    "target_keys = '(feature_id, streamflow)'\n",
    "file_step = None\n",
    "file_window = None\n",
    "\n",
    "update_service_data_flows(service, flow_id, step, source_table, target_table, target_keys, file_step=file_step, file_window=file_window, file_format=file_format)\n",
    "\n",
    "flow_id = '6'\n",
    "step = 'ingest'\n",
    "file_format = \"common/data/model/com/nwm/prod/nwm.{{datetime:%Y%m%d}}/medium_range_mem6/nwm.t{{datetime:%H}}z.medium_range.channel_rt_6.f{{range:3,121,3,%03d}}.conus.nc\"\n",
    "source_table = None\n",
    "target_table = 'ingest.nwm_channel_rt_mrf_gfs_mem6'\n",
    "target_keys = '(feature_id, streamflow)'\n",
    "file_step = None\n",
    "file_window = None\n",
    "\n",
    "update_service_data_flows(service, flow_id, step, source_table, target_table, target_keys, file_step=file_step, file_window=file_window, file_format=file_format)"
   ]
  },
  {
   "cell_type": "markdown",
   "id": "00001a5c",
   "metadata": {},
   "source": [
    "<h3>Medium-Range GFS Rapid Onset Flooding Probability Forecast - Para</h3>"
   ]
  },
  {
   "cell_type": "code",
   "execution_count": 79,
   "id": "0dfcf499",
   "metadata": {},
   "outputs": [
    {
     "name": "stdout",
     "output_type": "stream",
     "text": [
      "This result object does not return rows. It has been closed automatically.\n",
      "This result object does not return rows. It has been closed automatically.\n",
      "This result object does not return rows. It has been closed automatically.\n",
      "This result object does not return rows. It has been closed automatically.\n",
      "This result object does not return rows. It has been closed automatically.\n",
      "This result object does not return rows. It has been closed automatically.\n",
      "This result object does not return rows. It has been closed automatically.\n",
      "This result object does not return rows. It has been closed automatically.\n",
      "This result object does not return rows. It has been closed automatically.\n",
      "This result object does not return rows. It has been closed automatically.\n",
      "This result object does not return rows. It has been closed automatically.\n",
      "This result object does not return rows. It has been closed automatically.\n",
      "This result object does not return rows. It has been closed automatically.\n",
      "This result object does not return rows. It has been closed automatically.\n"
     ]
    }
   ],
   "source": [
    "service = 'mrf_gfs_rapid_onset_flooding_probability_para'\n",
    "configuration = 'medium_range_gfs_para'\n",
    "postprocess_max_flows = None\n",
    "postprocess_service = None\n",
    "postprocess_summary = None\n",
    "summary = 'Medium-Range GFS Rapid Onset Flooding Probability Forecast'\n",
    "description = 'Depicts the probability of forecast rapid onset flooding over the next 10 days using ensembles from the medium-range configuration of the National Water Model (NWM) over the contiguous U.S. Shown are reaches that are expected to have flow at or above high water thresholds on Day 1, Day 2, Day 3, Days 4-5, and Days 1-5 using the 7 ensemble members of the medium-range forecast. Reaches are colored by the probability that they will meet or exceed rapid onset conditions on Day 1, Day 2, Day 3, Days 4-5, and Days 1-5. Probabilities are computed as the % agreement across the 7 ensemble members, equally weighted. Hotspots show average 1-5 day rapid onset flooding probability, weighted by reach length, for USGS HUC8 basins with greater than 10% of NWM feature length meeting rapid onset criteria in the next 5 days. High water thresholds (regionally varied) were derived using the 40-year NWM v2.1 reanalysis simulation. Updated every 6 hours.'\n",
    "tags = 'medium,range,forecast,streamflow,rapid,onset,flood,probability,national,water,model,nwm,gfs'\n",
    "credits = 'National Water Model, NOAA/NWS National Water Center'\n",
    "egis_server = 'server'\n",
    "egis_folder = 'para'\n",
    "fim_service = False\n",
    "feature_service = True\n",
    "run = False\n",
    "fim_configs = None\n",
    "public_service = True\n",
    "max_flow_method = \"pipeline\"\n",
    "\n",
    "update_service_metadata(service, configuration, summary, description, tags, credits, egis_server, egis_folder, max_flows_sql_name=postprocess_max_flows, service_sql_name=postprocess_service, summary_sql_name=postprocess_summary, fim_service=fim_service, feature_service=feature_service, run=run, fim_configs=fim_configs, public_service=public_service, max_flow_method=max_flow_method)\n",
    "\n",
    "flow_id = '1'\n",
    "step = 'ingest'\n",
    "file_format = \"common/data/model/com/nwm/para/nwm.{{datetime:%Y%m%d}}/medium_range_mem1/nwm.t{{datetime:%H}}z.medium_range.channel_rt_1.f{{range:3,121,3,%03d}}.conus.nc\"\n",
    "source_table = None\n",
    "target_table = 'ingest.nwm_channel_rt_mrf_gfs_mem1_para'\n",
    "target_keys = '(feature_id, streamflow)'\n",
    "file_step = None\n",
    "file_window = None\n",
    "\n",
    "update_service_data_flows(service, flow_id, step, source_table, target_table, target_keys, file_step=file_step, file_window=file_window, file_format=file_format)\n",
    "\n",
    "flow_id = '2'\n",
    "step = 'ingest'\n",
    "file_format = \"common/data/model/com/nwm/para/nwm.{{datetime:%Y%m%d}}/medium_range_mem2/nwm.t{{datetime:%H}}z.medium_range.channel_rt_2.f{{range:3,121,3,%03d}}.conus.nc\"\n",
    "source_table = None\n",
    "target_table = 'ingest.nwm_channel_rt_mrf_gfs_mem2_para'\n",
    "target_keys = '(feature_id, streamflow)'\n",
    "file_step = None\n",
    "file_window = None\n",
    "\n",
    "update_service_data_flows(service, flow_id, step, source_table, target_table, target_keys, file_step=file_step, file_window=file_window, file_format=file_format)\n",
    "\n",
    "flow_id = '3'\n",
    "step = 'ingest'\n",
    "file_format = \"common/data/model/com/nwm/para/nwm.{{datetime:%Y%m%d}}/medium_range_mem3/nwm.t{{datetime:%H}}z.medium_range.channel_rt_3.f{{range:3,121,3,%03d}}.conus.nc\"\n",
    "source_table = None\n",
    "target_table = 'ingest.nwm_channel_rt_mrf_gfs_mem3_para'\n",
    "target_keys = '(feature_id, streamflow)'\n",
    "file_step = None\n",
    "file_window = None\n",
    "\n",
    "update_service_data_flows(service, flow_id, step, source_table, target_table, target_keys, file_step=file_step, file_window=file_window, file_format=file_format)\n",
    "\n",
    "flow_id = '4'\n",
    "step = 'ingest'\n",
    "file_format = \"common/data/model/com/nwm/para/nwm.{{datetime:%Y%m%d}}/medium_range_mem4/nwm.t{{datetime:%H}}z.medium_range.channel_rt_4.f{{range:3,121,3,%03d}}.conus.nc\"\n",
    "source_table = None\n",
    "target_table = 'ingest.nwm_channel_rt_mrf_gfs_mem4_para'\n",
    "target_keys = '(feature_id, streamflow)'\n",
    "file_step = None\n",
    "file_window = None\n",
    "\n",
    "update_service_data_flows(service, flow_id, step, source_table, target_table, target_keys, file_step=file_step, file_window=file_window, file_format=file_format)\n",
    "\n",
    "flow_id = '5'\n",
    "step = 'ingest'\n",
    "file_format = \"common/data/model/com/nwm/para/nwm.{{datetime:%Y%m%d}}/medium_range_mem5/nwm.t{{datetime:%H}}z.medium_range.channel_rt_5.f{{range:3,121,3,%03d}}.conus.nc\"\n",
    "source_table = None\n",
    "target_table = 'ingest.nwm_channel_rt_mrf_gfs_mem5_para'\n",
    "target_keys = '(feature_id, streamflow)'\n",
    "file_step = None\n",
    "file_window = None\n",
    "\n",
    "update_service_data_flows(service, flow_id, step, source_table, target_table, target_keys, file_step=file_step, file_window=file_window, file_format=file_format)\n",
    "\n",
    "flow_id = '6'\n",
    "step = 'ingest'\n",
    "file_format = \"common/data/model/com/nwm/para/nwm.{{datetime:%Y%m%d}}/medium_range_mem6/nwm.t{{datetime:%H}}z.medium_range.channel_rt_6.f{{range:3,121,3,%03d}}.conus.nc\"\n",
    "source_table = None\n",
    "target_table = 'ingest.nwm_channel_rt_mrf_gfs_mem6_para'\n",
    "target_keys = '(feature_id, streamflow)'\n",
    "file_step = None\n",
    "file_window = None\n",
    "\n",
    "update_service_data_flows(service, flow_id, step, source_table, target_table, target_keys, file_step=file_step, file_window=file_window, file_format=file_format)"
   ]
  },
  {
   "cell_type": "markdown",
   "id": "c1c120f8",
   "metadata": {},
   "source": [
    "<h3>RFC 5-Day Maximum Streamflow</h3>"
   ]
  },
  {
   "cell_type": "code",
   "execution_count": 80,
   "id": "062bc0b6",
   "metadata": {},
   "outputs": [
    {
     "name": "stdout",
     "output_type": "stream",
     "text": [
      "This result object does not return rows. It has been closed automatically.\n",
      "This result object does not return rows. It has been closed automatically.\n",
      "This result object does not return rows. It has been closed automatically.\n",
      "This result object does not return rows. It has been closed automatically.\n"
     ]
    }
   ],
   "source": [
    "service = 'rfc_5day_max_downstream_streamflow'\n",
    "configuration = 'replace_route'\n",
    "postprocess_max_flows = None\n",
    "postprocess_service = 'rfc_5day_max_downstream_streamflow'\n",
    "postprocess_summary = ['{\"rfc_points\":[\"rfc_5day_max_downstream_streamflow_rfc_points\"]}']\n",
    "summary = 'RFC 5-Day Maximum Streamflow'\n",
    "description = 'Depicts maximum forecast streamflow over the next 5 days derived from the official River Forecast Center (RFC) forecast routed downstream through the National Water Model (NWM) stream network. Maximum streamflows are available downstream of RFC forecast points whose forecast reaches action status or greater. Updated hourly.'\n",
    "tags = 'streamflow, replace and route, rfc'\n",
    "credits = 'NOAA/NWS National Water Center'\n",
    "egis_server = 'server'\n",
    "egis_folder = 'rfc'\n",
    "fim_service = False\n",
    "feature_service = True\n",
    "run = True\n",
    "fim_configs = None\n",
    "public_service = True\n",
    "max_flow_method = \"pipeline\"\n",
    "\n",
    "update_service_metadata(service, configuration, summary, description, tags, credits, egis_server, egis_folder, max_flows_sql_name=postprocess_max_flows, service_sql_name=postprocess_service, summary_sql_name=postprocess_summary, fim_service=fim_service, feature_service=feature_service, run=run, fim_configs=fim_configs, public_service=public_service, max_flow_method=max_flow_method)\n",
    "\n",
    "flow_id = '1'\n",
    "step = 'ingest'\n",
    "file_format = 'max_flows/replace_route/{{datetime:%Y%m%d}}/rnr_{{datetime:%H}}_max_flows.csv'\n",
    "source_table = None\n",
    "target_table = 'ingest.rnr_max_flows'\n",
    "target_keys = '(feature_id)'\n",
    "file_step = None\n",
    "file_window = None\n",
    "\n",
    "update_service_data_flows(service, flow_id, step, source_table, target_table, target_keys, file_step=file_step, file_window=file_window, file_format=file_format)"
   ]
  },
  {
   "cell_type": "markdown",
   "id": "4dc82b22",
   "metadata": {},
   "source": [
    "<h3>RFC Maximum Stage Forecast</h3>"
   ]
  },
  {
   "cell_type": "code",
   "execution_count": 81,
   "id": "0c18031b",
   "metadata": {},
   "outputs": [
    {
     "name": "stdout",
     "output_type": "stream",
     "text": [
      "This result object does not return rows. It has been closed automatically.\n",
      "This result object does not return rows. It has been closed automatically.\n",
      "This result object does not return rows. It has been closed automatically.\n",
      "This result object does not return rows. It has been closed automatically.\n",
      "This result object does not return rows. It has been closed automatically.\n",
      "This result object does not return rows. It has been closed automatically.\n"
     ]
    }
   ],
   "source": [
    "service = 'rfc_max_stage'\n",
    "configuration = 'ahps'\n",
    "postprocess_max_flows = None\n",
    "postprocess_service = 'rfc_max_stage'\n",
    "postprocess_summary = None\n",
    "summary = 'RFC Maximum Stage Forecast'\n",
    "description = 'Depicts Advanced Hydrologic Prediction Service (AHPS) River Forecast Center (RFC) forecast points with forecasts at or above action stage. Circles represent forecast points where stages are changing by less than +/- 5% over the entire forecast period. Upward-pointing triangles represent forecast points where a greater than 5% increase in stage is expected sometime during the forecast. If stage increases greater than 5% are not expected, downward-pointing triangles represent forecast points where a greater than 5% decrease in stage is expected sometime during the forecast. Forecast points are colored by their maximum forecast flood category. Updated every 5 minutes.'\n",
    "tags = 'rfc,ahps,forecast,maximum,stage'\n",
    "credits = 'NOAA/NWS National Water Center'\n",
    "egis_server = 'server'\n",
    "egis_folder = 'rfc'\n",
    "fim_service = False\n",
    "feature_service = True\n",
    "run = True\n",
    "fim_configs = None\n",
    "public_service = True\n",
    "max_flow_method = \"pipeline\"\n",
    "\n",
    "update_service_metadata(service, configuration, summary, description, tags, credits, egis_server, egis_folder, max_flows_sql_name=postprocess_max_flows, service_sql_name=postprocess_service, summary_sql_name=postprocess_summary, fim_service=fim_service, feature_service=feature_service, run=run, fim_configs=fim_configs, public_service=public_service, max_flow_method=max_flow_method)\n",
    "\n",
    "flow_id = '1'\n",
    "step = 'ingest'\n",
    "file_format = 'max_stage/ahps/{{datetime:%Y%m%d}}/{{datetime:%H_%M}}_ahps_forecasts.csv'\n",
    "source_table = None\n",
    "target_table = 'ingest.ahps_forecasts'\n",
    "target_keys = '(nws_lid)'\n",
    "file_step = None\n",
    "file_window = None\n",
    "\n",
    "update_service_data_flows(service, flow_id, step, source_table, target_table, target_keys, file_step=file_step, file_window=file_window, file_format=file_format)\n",
    "\n",
    "flow_id = '2'\n",
    "step = 'ingest'\n",
    "file_format = 'max_stage/ahps/{{datetime:%Y%m%d}}/{{datetime:%H_%M}}_ahps_metadata.csv'\n",
    "source_table = None\n",
    "target_table = 'ingest.ahps_metadata'\n",
    "target_keys = '(nws_lid)'\n",
    "file_step = None\n",
    "file_window = None\n",
    "\n",
    "update_service_data_flows(service, flow_id, step, source_table, target_table, target_keys, file_step=file_step, file_window=file_window, file_format=file_format)"
   ]
  },
  {
   "cell_type": "markdown",
   "id": "efa16a93",
   "metadata": {},
   "source": [
    "<h3>Short-Range High Water Arrival Time Forecast</h3>"
   ]
  },
  {
   "cell_type": "code",
   "execution_count": 82,
   "id": "e4a2300c",
   "metadata": {},
   "outputs": [
    {
     "name": "stdout",
     "output_type": "stream",
     "text": [
      "This result object does not return rows. It has been closed automatically.\n",
      "This result object does not return rows. It has been closed automatically.\n",
      "This result object does not return rows. It has been closed automatically.\n",
      "This result object does not return rows. It has been closed automatically.\n"
     ]
    }
   ],
   "source": [
    "service = 'srf_high_water_arrival_time'\n",
    "configuration = 'short_range'\n",
    "postprocess_max_flows = None\n",
    "postprocess_service = 'srf_high_water_arrival_time'\n",
    "postprocess_summary = None\n",
    "summary = 'Short-Range High Water Arrival Time Forecast'\n",
    "description = 'Depicts the forecast arrival time of high water over the next 18 hours. This service is derived from the short-range configuration of the National Water Model (NWM) over the contiguous U.S. Shown are reaches that are expected to have flow at or above the high water threshold over the next 18 hours. Reaches are colored by the time at which they are forecast to reach high water. High water thresholds (regionally varied) were derived using the 40-year NWM v2.1 reanalysis simulation. Updated hourly.'\n",
    "tags = 'short range forecast, high water, arrival time, national water model, nwm'\n",
    "credits = 'National Water Model, NOAA/NWS National Water Center'\n",
    "egis_server = 'server'\n",
    "egis_folder = 'nwm'\n",
    "fim_service = False\n",
    "feature_service = False\n",
    "run = False\n",
    "fim_configs = None\n",
    "public_service = True\n",
    "max_flow_method = \"pipeline\"\n",
    "\n",
    "update_service_metadata(service, configuration, summary, description, tags, credits, egis_server, egis_folder, max_flows_sql_name=postprocess_max_flows, service_sql_name=postprocess_service, summary_sql_name=postprocess_summary, fim_service=fim_service, feature_service=feature_service, run=run, fim_configs=fim_configs, public_service=public_service, max_flow_method=max_flow_method)\n",
    "\n",
    "flow_id = '1'\n",
    "step = 'ingest'\n",
    "file_format = \"common/data/model/com/nwm/prod/nwm.{{datetime:%Y%m%d}}/short_range/nwm.t{{datetime:%H}}z.short_range.channel_rt.f{{range:1,19,1,%03d}}.conus.nc\"\n",
    "source_table = None\n",
    "target_table = 'ingest.nwm_channel_rt_srf'\n",
    "target_keys = '(feature_id, streamflow)'\n",
    "file_step = None\n",
    "file_window = None\n",
    "\n",
    "update_service_data_flows(service, flow_id, step, source_table, target_table, target_keys, file_step=file_step, file_window=file_window, file_format=file_format)"
   ]
  },
  {
   "cell_type": "markdown",
   "id": "b42c990b",
   "metadata": {},
   "source": [
    "<h3>Short-Range High Water Arrival Time Forecast - Para</h3>"
   ]
  },
  {
   "cell_type": "code",
   "execution_count": 83,
   "id": "f8056c55",
   "metadata": {},
   "outputs": [
    {
     "name": "stdout",
     "output_type": "stream",
     "text": [
      "This result object does not return rows. It has been closed automatically.\n",
      "This result object does not return rows. It has been closed automatically.\n",
      "This result object does not return rows. It has been closed automatically.\n",
      "This result object does not return rows. It has been closed automatically.\n"
     ]
    }
   ],
   "source": [
    "service = 'srf_high_water_arrival_time_para'\n",
    "configuration = 'short_range_para'\n",
    "postprocess_max_flows = None\n",
    "postprocess_service = 'srf_high_water_arrival_time_para'\n",
    "postprocess_summary = None\n",
    "summary = 'Short-Range High Water Arrival Time Forecast'\n",
    "description = 'Depicts the forecast arrival time of high water over the next 18 hours. This service is derived from the short-range configuration of the National Water Model (NWM) over the contiguous U.S. Shown are reaches that are expected to have flow at or above the high water threshold over the next 18 hours. Reaches are colored by the time at which they are forecast to reach high water. High water thresholds (regionally varied) were derived using the 40-year NWM v2.1 reanalysis simulation. Updated hourly.'\n",
    "tags = 'short range forecast, high water, arrival time, national water model, nwm'\n",
    "credits = 'National Water Model, NOAA/NWS National Water Center'\n",
    "egis_server = 'server'\n",
    "egis_folder = 'nwm'\n",
    "fim_service = False\n",
    "feature_service = False\n",
    "run = True\n",
    "fim_configs = None\n",
    "public_service = True\n",
    "max_flow_method = \"pipeline\"\n",
    "\n",
    "update_service_metadata(service, configuration, summary, description, tags, credits, egis_server, egis_folder, max_flows_sql_name=postprocess_max_flows, service_sql_name=postprocess_service, summary_sql_name=postprocess_summary, fim_service=fim_service, feature_service=feature_service, run=run, fim_configs=fim_configs, public_service=public_service, max_flow_method=max_flow_method)\n",
    "\n",
    "flow_id = '1'\n",
    "step = 'ingest'\n",
    "file_format = \"common/data/model/com/nwm/para/nwm.{{datetime:%Y%m%d}}/short_range/nwm.t{{datetime:%H}}z.short_range.channel_rt.f{{range:1,19,1,%03d}}.conus.nc\"\n",
    "source_table = None\n",
    "target_table = 'ingest.nwm_channel_rt_srf_para'\n",
    "target_keys = '(feature_id, streamflow)'\n",
    "file_step = None\n",
    "file_window = None\n",
    "\n",
    "update_service_data_flows(service, flow_id, step, source_table, target_table, target_keys, file_step=file_step, file_window=file_window, file_format=file_format)"
   ]
  },
  {
   "cell_type": "markdown",
   "id": "1aff4046",
   "metadata": {},
   "source": [
    "<h3>Short-Range High Water Arrival Time Forecast - Hawaii</h3>"
   ]
  },
  {
   "cell_type": "code",
   "execution_count": 84,
   "id": "e0733847",
   "metadata": {},
   "outputs": [
    {
     "name": "stdout",
     "output_type": "stream",
     "text": [
      "This result object does not return rows. It has been closed automatically.\n",
      "This result object does not return rows. It has been closed automatically.\n",
      "This result object does not return rows. It has been closed automatically.\n",
      "This result object does not return rows. It has been closed automatically.\n"
     ]
    }
   ],
   "source": [
    "service = 'srf_high_water_arrival_time_hi'\n",
    "configuration = 'short_range_hawaii'\n",
    "postprocess_max_flows = None\n",
    "postprocess_service = 'srf_high_water_arrival_time_hi'\n",
    "postprocess_summary = None\n",
    "summary = 'Short-Range High Water Arrival Time Forecast - Hawaii'\n",
    "description = 'Depicts the forecast arrival time of high water over the next 48 hours. This service is derived from the short-range configuration of the National Water Model (NWM) over Hawaii. Shown are reaches that are expected to have flow at or above the high water threshold over the next 48 hours. Reaches are colored by the time at which they are forecast to reach high water. High water flows were derived from USGS regression equations found at https://pubs.usgs.gov/sir/2010/5035/sir2010-5035_text.pdf. Updated every 12 hours.'\n",
    "tags = 'short range forecast, high water, arrival time, national water model, nwm, hawaii'\n",
    "credits = 'National Water Model, NOAA/NWS National Water Center'\n",
    "egis_server = 'server'\n",
    "egis_folder = 'nwm'\n",
    "fim_service = False\n",
    "feature_service = False\n",
    "run = False\n",
    "fim_configs = None\n",
    "public_service = True\n",
    "max_flow_method = \"pipeline\"\n",
    "\n",
    "update_service_metadata(service, configuration, summary, description, tags, credits, egis_server, egis_folder, max_flows_sql_name=postprocess_max_flows, service_sql_name=postprocess_service, summary_sql_name=postprocess_summary, fim_service=fim_service, feature_service=feature_service, run=run, fim_configs=fim_configs, public_service=public_service, max_flow_method=max_flow_method)\n",
    "\n",
    "flow_id = '1'\n",
    "step = 'ingest'\n",
    "file_format = \"common/data/model/com/nwm/prod/nwm.{{datetime:%Y%m%d}}/short_range_hawaii/nwm.t{{datetime:%H}}z.short_range.channel_rt.f{{range:100,4900,100,%05d}}.hawaii.nc\"\n",
    "source_table = None\n",
    "target_table = 'ingest.nwm_channel_rt_srf_hi'\n",
    "target_keys = '(feature_id, streamflow)'\n",
    "file_step = None\n",
    "file_window = None\n",
    "\n",
    "update_service_data_flows(service, flow_id, step, source_table, target_table, target_keys, file_step=file_step, file_window=file_window, file_format=file_format)"
   ]
  },
  {
   "cell_type": "markdown",
   "id": "c780a7df",
   "metadata": {},
   "source": [
    "<h3>Short-Range High Water Arrival Time Forecast - Hawaii - Para</h3>"
   ]
  },
  {
   "cell_type": "code",
   "execution_count": 85,
   "id": "73586b34",
   "metadata": {},
   "outputs": [
    {
     "name": "stdout",
     "output_type": "stream",
     "text": [
      "This result object does not return rows. It has been closed automatically.\n",
      "This result object does not return rows. It has been closed automatically.\n",
      "This result object does not return rows. It has been closed automatically.\n",
      "This result object does not return rows. It has been closed automatically.\n"
     ]
    }
   ],
   "source": [
    "service = 'srf_high_water_arrival_time_hi_para'\n",
    "configuration = 'short_range_hawaii_para'\n",
    "postprocess_max_flows = None\n",
    "postprocess_service = 'srf_high_water_arrival_time_hi_para'\n",
    "postprocess_summary = None\n",
    "summary = 'Short-Range High Water Arrival Time Forecast - Hawaii'\n",
    "description = 'Depicts the forecast arrival time of high water over the next 48 hours. This service is derived from the short-range configuration of the National Water Model (NWM) over Hawaii. Shown are reaches that are expected to have flow at or above the high water threshold over the next 48 hours. Reaches are colored by the time at which they are forecast to reach high water. High water flows were derived from USGS regression equations found at https://pubs.usgs.gov/sir/2010/5035/sir2010-5035_text.pdf. Updated every 12 hours.'\n",
    "tags = 'short range forecast, high water, arrival time, national water model, nwm, hawaii'\n",
    "credits = 'National Water Model, NOAA/NWS National Water Center'\n",
    "egis_server = 'server'\n",
    "egis_folder = 'nwm'\n",
    "fim_service = False\n",
    "feature_service = False\n",
    "run = True\n",
    "fim_configs = None\n",
    "public_service = True\n",
    "max_flow_method = \"pipeline\"\n",
    "\n",
    "update_service_metadata(service, configuration, summary, description, tags, credits, egis_server, egis_folder, max_flows_sql_name=postprocess_max_flows, service_sql_name=postprocess_service, summary_sql_name=postprocess_summary, fim_service=fim_service, feature_service=feature_service, run=run, fim_configs=fim_configs, public_service=public_service, max_flow_method=max_flow_method)\n",
    "\n",
    "flow_id = '1'\n",
    "step = 'ingest'\n",
    "file_format = \"common/data/model/com/nwm/para/nwm.{{datetime:%Y%m%d}}/short_range_hawaii/nwm.t{{datetime:%H}}z.short_range.channel_rt.f{{range:100,4900,100,%05d}}.hawaii.nc\"\n",
    "source_table = None\n",
    "target_table = 'ingest.nwm_channel_rt_srf_hi_para'\n",
    "target_keys = '(feature_id, streamflow)'\n",
    "file_step = None\n",
    "file_window = None\n",
    "\n",
    "update_service_data_flows(service, flow_id, step, source_table, target_table, target_keys, file_step=file_step, file_window=file_window, file_format=file_format)"
   ]
  },
  {
   "cell_type": "markdown",
   "id": "3c906ea4",
   "metadata": {},
   "source": [
    "<h3>Short-Range High Water Arrival Time - Puerto Rico/Virgin Islands</h3>"
   ]
  },
  {
   "cell_type": "code",
   "execution_count": 86,
   "id": "6a29073d",
   "metadata": {},
   "outputs": [
    {
     "name": "stdout",
     "output_type": "stream",
     "text": [
      "This result object does not return rows. It has been closed automatically.\n",
      "This result object does not return rows. It has been closed automatically.\n",
      "This result object does not return rows. It has been closed automatically.\n",
      "This result object does not return rows. It has been closed automatically.\n"
     ]
    }
   ],
   "source": [
    "service = 'srf_high_water_arrival_time_prvi'\n",
    "configuration = 'short_range_puertorico'\n",
    "postprocess_max_flows = None\n",
    "postprocess_service = 'srf_high_water_arrival_time_prvi'\n",
    "postprocess_summary = None\n",
    "summary = 'Short-Range High Water Arrival Time - Puerto Rico/Virgin Islands'\n",
    "description = 'Depicts the forecast arrival time of high water over the next 48 hours. This service is derived from the short-range configuration of the National Water Model (NWM) over Puerto Rico and the U.S. Virgin Islands. Shown are reaches that are expected to have flow at or above the high water threshold over the next 48 hours. Reaches are colored by the time at which they are forecast to reach high water. High water flows were derived from USGS regression equations found at https://pubs.usgs.gov/wri/wri994142/pdf/wri99-4142.pdf. Updated every 12 hours.'\n",
    "tags = 'short range forecast, high water, arrival time, national water model, nwm, puerto rico, virgin islands'\n",
    "credits = 'National Water Model, NOAA/NWS National Water Center'\n",
    "egis_server = 'server'\n",
    "egis_folder = 'nwm'\n",
    "fim_service = False\n",
    "feature_service = False\n",
    "run = False\n",
    "fim_configs = None\n",
    "public_service = True\n",
    "max_flow_method = \"pipeline\"\n",
    "\n",
    "update_service_metadata(service, configuration, summary, description, tags, credits, egis_server, egis_folder, max_flows_sql_name=postprocess_max_flows, service_sql_name=postprocess_service, summary_sql_name=postprocess_summary, fim_service=fim_service, feature_service=feature_service, run=run, fim_configs=fim_configs, public_service=public_service, max_flow_method=max_flow_method)\n",
    "\n",
    "flow_id = '1'\n",
    "step = 'ingest'\n",
    "file_format = \"common/data/model/com/nwm/prod/nwm.{{datetime:%Y%m%d}}/short_range_puertorico/nwm.t{{datetime:%H}}z.short_range.channel_rt.f{{range:1,49,1,%03d}}.puertorico.nc\"\n",
    "source_table = None\n",
    "target_table = 'ingest.nwm_channel_rt_srf_prvi'\n",
    "target_keys = '(feature_id, streamflow)'\n",
    "file_step = None\n",
    "file_window = None\n",
    "\n",
    "update_service_data_flows(service, flow_id, step, source_table, target_table, target_keys, file_step=file_step, file_window=file_window, file_format=file_format)"
   ]
  },
  {
   "cell_type": "markdown",
   "id": "eb476824",
   "metadata": {},
   "source": [
    "<h3>Short-Range High Water Arrival Time - Puerto Rico/Virgin Islands - Para</h3>"
   ]
  },
  {
   "cell_type": "code",
   "execution_count": 87,
   "id": "59b99e3b",
   "metadata": {},
   "outputs": [
    {
     "name": "stdout",
     "output_type": "stream",
     "text": [
      "This result object does not return rows. It has been closed automatically.\n",
      "This result object does not return rows. It has been closed automatically.\n",
      "This result object does not return rows. It has been closed automatically.\n",
      "This result object does not return rows. It has been closed automatically.\n"
     ]
    }
   ],
   "source": [
    "service = 'srf_high_water_arrival_time_prvi_para'\n",
    "configuration = 'short_range_puertorico_para'\n",
    "postprocess_max_flows = None\n",
    "postprocess_service = 'srf_high_water_arrival_time_prvi_para'\n",
    "postprocess_summary = None\n",
    "summary = 'Short-Range High Water Arrival Time - Puerto Rico/Virgin Islands'\n",
    "description = 'Depicts the forecast arrival time of high water over the next 48 hours. This service is derived from the short-range configuration of the National Water Model (NWM) over Puerto Rico and the U.S. Virgin Islands. Shown are reaches that are expected to have flow at or above the high water threshold over the next 48 hours. Reaches are colored by the time at which they are forecast to reach high water. High water flows were derived from USGS regression equations found at https://pubs.usgs.gov/wri/wri994142/pdf/wri99-4142.pdf. Updated every 12 hours.'\n",
    "tags = 'short range forecast, high water, arrival time, national water model, nwm, puerto rico, virgin islands'\n",
    "credits = 'National Water Model, NOAA/NWS National Water Center'\n",
    "egis_server = 'server'\n",
    "egis_folder = 'nwm'\n",
    "fim_service = False\n",
    "feature_service = False\n",
    "run = True\n",
    "fim_configs = None\n",
    "public_service = True\n",
    "max_flow_method = \"pipeline\"\n",
    "\n",
    "update_service_metadata(service, configuration, summary, description, tags, credits, egis_server, egis_folder, max_flows_sql_name=postprocess_max_flows, service_sql_name=postprocess_service, summary_sql_name=postprocess_summary, fim_service=fim_service, feature_service=feature_service, run=run, fim_configs=fim_configs, public_service=public_service, max_flow_method=max_flow_method)\n",
    "\n",
    "flow_id = '1'\n",
    "step = 'ingest'\n",
    "file_format = \"common/data/model/com/nwm/para/nwm.{{datetime:%Y%m%d}}/short_range_puertorico/nwm.t{{datetime:%H}}z.short_range.channel_rt.f{{range:1,49,1,%03d}}.puertorico.nc\"\n",
    "source_table = None\n",
    "target_table = 'ingest.nwm_channel_rt_srf_prvi_para'\n",
    "target_keys = '(feature_id, streamflow)'\n",
    "file_step = None\n",
    "file_window = None\n",
    "\n",
    "update_service_data_flows(service, flow_id, step, source_table, target_table, target_keys, file_step=file_step, file_window=file_window, file_format=file_format)"
   ]
  },
  {
   "cell_type": "markdown",
   "id": "763a3665",
   "metadata": {},
   "source": [
    "<h3>Short-Range Peak Flow Arrival Time Forecast</h3>"
   ]
  },
  {
   "cell_type": "code",
   "execution_count": 88,
   "id": "434117de",
   "metadata": {},
   "outputs": [
    {
     "name": "stdout",
     "output_type": "stream",
     "text": [
      "This result object does not return rows. It has been closed automatically.\n",
      "This result object does not return rows. It has been closed automatically.\n",
      "This result object does not return rows. It has been closed automatically.\n",
      "This result object does not return rows. It has been closed automatically.\n"
     ]
    }
   ],
   "source": [
    "service = 'srf_peak_flow_arrival_time'\n",
    "configuration = 'short_range'\n",
    "postprocess_max_flows = None\n",
    "postprocess_service = 'srf_peak_flow_arrival_time'\n",
    "postprocess_summary = None\n",
    "summary = 'Short-Range Peak Flow Arrival Time Forecast'\n",
    "description = 'Depicts expected peak flow arrival times derived from the operational National Water Model (NWM) short-range forecast. Shown are reaches that are expected to have flow at or above the high water threshold over the next 18 hours. Reaches are colored by the time at which they are expected to be at their maximum flow within the forecast period. High water flows were derived using a 40-year retrospective analysis of the NWM (v2.1). Updated hourly.'\n",
    "tags = 'short range forecast, peak flow, arrival time, national water model, nwm, conus'\n",
    "credits = 'National Water Model, NOAA/NWS National Water Center'\n",
    "egis_server = 'server'\n",
    "egis_folder = 'nwm'\n",
    "fim_service = False\n",
    "feature_service = False\n",
    "run = False\n",
    "fim_configs = None\n",
    "public_service = False\n",
    "max_flow_method = \"pipeline\"\n",
    "\n",
    "update_service_metadata(service, configuration, summary, description, tags, credits, egis_server, egis_folder, max_flows_sql_name=postprocess_max_flows, service_sql_name=postprocess_service, summary_sql_name=postprocess_summary, fim_service=fim_service, feature_service=feature_service, run=run, fim_configs=fim_configs, public_service=public_service, max_flow_method=max_flow_method)\n",
    "\n",
    "flow_id = '1'\n",
    "step = 'ingest'\n",
    "file_format = \"common/data/model/com/nwm/prod/nwm.{{datetime:%Y%m%d}}/short_range/nwm.t{{datetime:%H}}z.short_range.channel_rt.f{{range:1,19,1,%03d}}.conus.nc\"\n",
    "source_table = None\n",
    "target_table = 'ingest.nwm_channel_rt_srf'\n",
    "target_keys = '(feature_id, streamflow)'\n",
    "file_step = None\n",
    "file_window = None\n",
    "\n",
    "update_service_data_flows(service, flow_id, step, source_table, target_table, target_keys, file_step=file_step, file_window=file_window, file_format=file_format)"
   ]
  },
  {
   "cell_type": "markdown",
   "id": "05fc2fef",
   "metadata": {},
   "source": [
    "<h3>Short-Range Peak Flow Arrival Time Forecast - Para</h3>"
   ]
  },
  {
   "cell_type": "code",
   "execution_count": 89,
   "id": "b7a9e7a1",
   "metadata": {},
   "outputs": [
    {
     "name": "stdout",
     "output_type": "stream",
     "text": [
      "This result object does not return rows. It has been closed automatically.\n",
      "This result object does not return rows. It has been closed automatically.\n",
      "This result object does not return rows. It has been closed automatically.\n",
      "This result object does not return rows. It has been closed automatically.\n"
     ]
    }
   ],
   "source": [
    "service = 'srf_peak_flow_arrival_time_para'\n",
    "configuration = 'short_range_para'\n",
    "postprocess_max_flows = None\n",
    "postprocess_service = 'srf_peak_flow_arrival_time_para'\n",
    "postprocess_summary = None\n",
    "summary = 'Short-Range Peak Flow Arrival Time Forecast'\n",
    "description = 'Depicts expected peak flow arrival times derived from the operational National Water Model (NWM) short-range forecast. Shown are reaches that are expected to have flow at or above the high water threshold over the next 18 hours. Reaches are colored by the time at which they are expected to be at their maximum flow within the forecast period. High water flows were derived using a 40-year retrospective analysis of the NWM (v2.1). Updated hourly.'\n",
    "tags = 'short range forecast, peak flow, arrival time, national water model, nwm, conus'\n",
    "credits = 'National Water Model, NOAA/NWS National Water Center'\n",
    "egis_server = 'server'\n",
    "egis_folder = 'nwm'\n",
    "fim_service = False\n",
    "feature_service = False\n",
    "run = True\n",
    "fim_configs = None\n",
    "public_service = False\n",
    "max_flow_method = \"pipeline\"\n",
    "\n",
    "update_service_metadata(service, configuration, summary, description, tags, credits, egis_server, egis_folder, max_flows_sql_name=postprocess_max_flows, service_sql_name=postprocess_service, summary_sql_name=postprocess_summary, fim_service=fim_service, feature_service=feature_service, run=run, fim_configs=fim_configs, public_service=public_service, max_flow_method=max_flow_method)\n",
    "\n",
    "flow_id = '1'\n",
    "step = 'ingest'\n",
    "file_format = \"common/data/model/com/nwm/para/nwm.{{datetime:%Y%m%d}}/short_range/nwm.t{{datetime:%H}}z.short_range.channel_rt.f{{range:1,19,1,%03d}}.conus.nc\"\n",
    "source_table = None\n",
    "target_table = 'ingest.nwm_channel_rt_srf_para'\n",
    "target_keys = '(feature_id, streamflow)'\n",
    "file_step = None\n",
    "file_window = None\n",
    "\n",
    "update_service_data_flows(service, flow_id, step, source_table, target_table, target_keys, file_step=file_step, file_window=file_window, file_format=file_format)"
   ]
  },
  {
   "cell_type": "markdown",
   "id": "8333c392",
   "metadata": {},
   "source": [
    "<h3>Short-Range Peak Flow Arrival Time Forecast - Hawaii</h3>"
   ]
  },
  {
   "cell_type": "code",
   "execution_count": 90,
   "id": "32171e2a",
   "metadata": {},
   "outputs": [
    {
     "name": "stdout",
     "output_type": "stream",
     "text": [
      "This result object does not return rows. It has been closed automatically.\n",
      "This result object does not return rows. It has been closed automatically.\n",
      "This result object does not return rows. It has been closed automatically.\n",
      "This result object does not return rows. It has been closed automatically.\n"
     ]
    }
   ],
   "source": [
    "service = 'srf_peak_flow_arrival_time_hi'\n",
    "configuration = 'short_range_hawaii'\n",
    "postprocess_max_flows = None\n",
    "postprocess_service = 'srf_peak_flow_arrival_time_hi'\n",
    "postprocess_summary = None\n",
    "summary = 'Short-Range Peak Flow Arrival Time Forecast - Hawaii'\n",
    "description = 'Depicts expected peak flow arrival times derived from the operational National Water Model (NWM) short-range forecast for the state of Hawaii. Shown are reaches that are expected to have flow at or above high water threshold flow over the next 48 hours. Reaches are colored by the time at which they are expected to be at their maximum flow within the forecast period. High water threshold flows and annual exceedance probabilities were derived from USGS regression equations found at https://pubs.usgs.gov/sir/2010/5035/sir2010-5035_text.pdf. Updated every 12 hours.'\n",
    "tags = 'short range forecast, peak flow, arrival time, national water model, nwm, hawaii'\n",
    "credits = 'National Water Model, NOAA/NWS National Water Center'\n",
    "egis_server = 'server'\n",
    "egis_folder = 'nwm'\n",
    "fim_service = False\n",
    "feature_service = False\n",
    "run = False\n",
    "fim_configs = None\n",
    "public_service = False\n",
    "max_flow_method = \"pipeline\"\n",
    "\n",
    "update_service_metadata(service, configuration, summary, description, tags, credits, egis_server, egis_folder, max_flows_sql_name=postprocess_max_flows, service_sql_name=postprocess_service, summary_sql_name=postprocess_summary, fim_service=fim_service, feature_service=feature_service, run=run, fim_configs=fim_configs, public_service=public_service, max_flow_method=max_flow_method)\n",
    "\n",
    "flow_id = '1'\n",
    "step = 'ingest'\n",
    "file_format = \"common/data/model/com/nwm/prod/nwm.{{datetime:%Y%m%d}}/short_range_hawaii/nwm.t{{datetime:%H}}z.short_range.channel_rt.f{{range:100,4900,100,%05d}}.hawaii.nc\"\n",
    "source_table = None\n",
    "target_table = 'ingest.nwm_channel_rt_srf_hi'\n",
    "target_keys = '(feature_id, streamflow)'\n",
    "file_step = None\n",
    "file_window = None\n",
    "\n",
    "update_service_data_flows(service, flow_id, step, source_table, target_table, target_keys, file_step=file_step, file_window=file_window, file_format=file_format)"
   ]
  },
  {
   "cell_type": "markdown",
   "id": "ec74d0fa",
   "metadata": {},
   "source": [
    "<h3>Short-Range Peak Flow Arrival Time Forecast - Hawaii - Para</h3>"
   ]
  },
  {
   "cell_type": "code",
   "execution_count": 91,
   "id": "f86edd0c",
   "metadata": {},
   "outputs": [
    {
     "name": "stdout",
     "output_type": "stream",
     "text": [
      "This result object does not return rows. It has been closed automatically.\n",
      "This result object does not return rows. It has been closed automatically.\n",
      "This result object does not return rows. It has been closed automatically.\n",
      "This result object does not return rows. It has been closed automatically.\n"
     ]
    }
   ],
   "source": [
    "service = 'srf_peak_flow_arrival_time_hi_para'\n",
    "configuration = 'short_range_hawaii_para'\n",
    "postprocess_max_flows = None\n",
    "postprocess_service = 'srf_peak_flow_arrival_time_hi_para'\n",
    "postprocess_summary = None\n",
    "summary = 'Short-Range Peak Flow Arrival Time Forecast - Hawaii'\n",
    "description = 'Depicts expected peak flow arrival times derived from the operational National Water Model (NWM) short-range forecast for the state of Hawaii. Shown are reaches that are expected to have flow at or above high water threshold flow over the next 48 hours. Reaches are colored by the time at which they are expected to be at their maximum flow within the forecast period. High water threshold flows and annual exceedance probabilities were derived from USGS regression equations found at https://pubs.usgs.gov/sir/2010/5035/sir2010-5035_text.pdf. Updated every 12 hours.'\n",
    "tags = 'short range forecast, peak flow, arrival time, national water model, nwm, hawaii'\n",
    "credits = 'National Water Model, NOAA/NWS National Water Center'\n",
    "egis_server = 'server'\n",
    "egis_folder = 'nwm'\n",
    "fim_service = False\n",
    "feature_service = False\n",
    "run = True\n",
    "fim_configs = None\n",
    "public_service = False\n",
    "max_flow_method = \"pipeline\"\n",
    "\n",
    "update_service_metadata(service, configuration, summary, description, tags, credits, egis_server, egis_folder, max_flows_sql_name=postprocess_max_flows, service_sql_name=postprocess_service, summary_sql_name=postprocess_summary, fim_service=fim_service, feature_service=feature_service, run=run, fim_configs=fim_configs, public_service=public_service, max_flow_method=max_flow_method)\n",
    "\n",
    "flow_id = '1'\n",
    "step = 'ingest'\n",
    "file_format = \"common/data/model/com/nwm/para/nwm.{{datetime:%Y%m%d}}/short_range_hawaii/nwm.t{{datetime:%H}}z.short_range.channel_rt.f{{range:100,4900,100,%05d}}.hawaii.nc\"\n",
    "source_table = None\n",
    "target_table = 'ingest.nwm_channel_rt_srf_hi_para'\n",
    "target_keys = '(feature_id, streamflow)'\n",
    "file_step = None\n",
    "file_window = None\n",
    "\n",
    "update_service_data_flows(service, flow_id, step, source_table, target_table, target_keys, file_step=file_step, file_window=file_window, file_format=file_format)"
   ]
  },
  {
   "cell_type": "markdown",
   "id": "cf39b560",
   "metadata": {},
   "source": [
    "<h3>Short-Range Peak Flow Arrival Time - Puerto Rico/Virgin Islands</h3>"
   ]
  },
  {
   "cell_type": "code",
   "execution_count": 92,
   "id": "9d0bc668",
   "metadata": {},
   "outputs": [
    {
     "name": "stdout",
     "output_type": "stream",
     "text": [
      "This result object does not return rows. It has been closed automatically.\n",
      "This result object does not return rows. It has been closed automatically.\n",
      "This result object does not return rows. It has been closed automatically.\n",
      "This result object does not return rows. It has been closed automatically.\n"
     ]
    }
   ],
   "source": [
    "service = 'srf_peak_flow_arrival_time_prvi'\n",
    "configuration = 'short_range_puertorico'\n",
    "postprocess_max_flows = None\n",
    "postprocess_service = 'srf_peak_flow_arrival_time_prvi'\n",
    "postprocess_summary = None\n",
    "summary = 'Short-Range Peak Flow Arrival Time - Puerto Rico/Virgin Islands'\n",
    "description = 'Depicts expected peak flow arrival times derived from the operational National Water Model (NWM) short-range forecast for Puerto Rico and the U.S. Virgin Islands. Shown are reaches that are expected to have flow at or above high water threshold flow over the next 48 hours. Reaches are colored by the time at which they are expected to be at their maximum flow within the forecast period. High water threshold flows and annual exceedance probabilities were derived from USGS regression equations found at https://pubs.usgs.gov/wri/wri994142/pdf/wri99-4142.pdf. Updated every 12 hours.'\n",
    "tags = 'short range forecast, peak flow, arrival time, national water model, nwm, prvi'\n",
    "credits = 'National Water Model, NOAA/NWS National Water Center'\n",
    "egis_server = 'server'\n",
    "egis_folder = 'nwm'\n",
    "fim_service = False\n",
    "feature_service = False\n",
    "run = False\n",
    "fim_configs = None\n",
    "public_service = False\n",
    "max_flow_method = \"pipeline\"\n",
    "\n",
    "update_service_metadata(service, configuration, summary, description, tags, credits, egis_server, egis_folder, max_flows_sql_name=postprocess_max_flows, service_sql_name=postprocess_service, summary_sql_name=postprocess_summary, fim_service=fim_service, feature_service=feature_service, run=run, fim_configs=fim_configs, public_service=public_service, max_flow_method=max_flow_method)\n",
    "\n",
    "flow_id = '1'\n",
    "step = 'ingest'\n",
    "file_format = \"common/data/model/com/nwm/prod/nwm.{{datetime:%Y%m%d}}/short_range_puertorico/nwm.t{{datetime:%H}}z.short_range.channel_rt.f{{range:1,49,1,%03d}}.puertorico.nc\"\n",
    "source_table = None\n",
    "target_table = 'ingest.nwm_channel_rt_srf_prvi'\n",
    "target_keys = '(feature_id, streamflow)'\n",
    "file_step = None\n",
    "file_window = None\n",
    "\n",
    "update_service_data_flows(service, flow_id, step, source_table, target_table, target_keys, file_step=file_step, file_window=file_window, file_format=file_format)"
   ]
  },
  {
   "cell_type": "markdown",
   "id": "bea08172",
   "metadata": {},
   "source": [
    "<h3>Short-Range Peak Flow Arrival Time - Puerto Rico/Virgin Islands - Para</h3>"
   ]
  },
  {
   "cell_type": "code",
   "execution_count": 93,
   "id": "a163cf6f",
   "metadata": {},
   "outputs": [
    {
     "name": "stdout",
     "output_type": "stream",
     "text": [
      "This result object does not return rows. It has been closed automatically.\n",
      "This result object does not return rows. It has been closed automatically.\n",
      "This result object does not return rows. It has been closed automatically.\n",
      "This result object does not return rows. It has been closed automatically.\n"
     ]
    }
   ],
   "source": [
    "service = 'srf_peak_flow_arrival_time_prvi_para'\n",
    "configuration = 'short_range_puertorico_para'\n",
    "postprocess_max_flows = None\n",
    "postprocess_service = 'srf_peak_flow_arrival_time_prvi_para'\n",
    "postprocess_summary = None\n",
    "summary = 'Short-Range Peak Flow Arrival Time - Puerto Rico/Virgin Islands'\n",
    "description = 'Depicts expected peak flow arrival times derived from the operational National Water Model (NWM) short-range forecast for Puerto Rico and the U.S. Virgin Islands. Shown are reaches that are expected to have flow at or above high water threshold flow over the next 48 hours. Reaches are colored by the time at which they are expected to be at their maximum flow within the forecast period. High water threshold flows and annual exceedance probabilities were derived from USGS regression equations found at https://pubs.usgs.gov/wri/wri994142/pdf/wri99-4142.pdf. Updated every 12 hours.'\n",
    "tags = 'short range forecast, peak flow, arrival time, national water model, nwm, prvi'\n",
    "credits = 'National Water Model, NOAA/NWS National Water Center'\n",
    "egis_server = 'server'\n",
    "egis_folder = 'nwm'\n",
    "fim_service = False\n",
    "feature_service = False\n",
    "run = True\n",
    "fim_configs = None\n",
    "public_service = False\n",
    "max_flow_method = \"pipeline\"\n",
    "\n",
    "update_service_metadata(service, configuration, summary, description, tags, credits, egis_server, egis_folder, max_flows_sql_name=postprocess_max_flows, service_sql_name=postprocess_service, summary_sql_name=postprocess_summary, fim_service=fim_service, feature_service=feature_service, run=run, fim_configs=fim_configs, public_service=public_service, max_flow_method=max_flow_method)\n",
    "\n",
    "flow_id = '1'\n",
    "step = 'ingest'\n",
    "file_format = \"common/data/model/com/nwm/para/nwm.{{datetime:%Y%m%d}}/short_range_puertorico/nwm.t{{datetime:%H}}z.short_range.channel_rt.f{{range:1,49,1,%03d}}.puertorico.nc\"\n",
    "source_table = None\n",
    "target_table = 'ingest.nwm_channel_rt_srf_prvi_para'\n",
    "target_keys = '(feature_id, streamflow)'\n",
    "file_step = None\n",
    "file_window = None\n",
    "\n",
    "update_service_data_flows(service, flow_id, step, source_table, target_table, target_keys, file_step=file_step, file_window=file_window, file_format=file_format)"
   ]
  },
  {
   "cell_type": "markdown",
   "id": "c51c801f",
   "metadata": {},
   "source": [
    "<h3>Short-Range High Water Probability Forecast</h3>"
   ]
  },
  {
   "cell_type": "code",
   "execution_count": 94,
   "id": "05afed42",
   "metadata": {},
   "outputs": [
    {
     "name": "stdout",
     "output_type": "stream",
     "text": [
      "This result object does not return rows. It has been closed automatically.\n",
      "This result object does not return rows. It has been closed automatically.\n",
      "This result object does not return rows. It has been closed automatically.\n",
      "This result object does not return rows. It has been closed automatically.\n",
      "This result object does not return rows. It has been closed automatically.\n",
      "This result object does not return rows. It has been closed automatically.\n",
      "This result object does not return rows. It has been closed automatically.\n",
      "This result object does not return rows. It has been closed automatically.\n",
      "This result object does not return rows. It has been closed automatically.\n",
      "This result object does not return rows. It has been closed automatically.\n",
      "This result object does not return rows. It has been closed automatically.\n",
      "This result object does not return rows. It has been closed automatically.\n",
      "This result object does not return rows. It has been closed automatically.\n",
      "This result object does not return rows. It has been closed automatically.\n",
      "This result object does not return rows. It has been closed automatically.\n",
      "This result object does not return rows. It has been closed automatically.\n"
     ]
    }
   ],
   "source": [
    "service = 'srf_high_water_probability'\n",
    "configuration = 'short_range'\n",
    "postprocess_max_flows = None\n",
    "postprocess_service = None\n",
    "postprocess_summary = None\n",
    "summary = 'Short-Range High Water Probability Forecast'\n",
    "description = 'Depicts the probability of forecast high water over the next 12 hours using a time-lagged ensemble from the short-range forecast of the National Water Model (NWM) over the contiguous U.S. Shown are reaches that are forecast to have flow at or above high water within the next 12 hours of at least one of the last 7 forecasts. Reaches are colored by the probability that they will meet or exceed the high water threshold across the last 7 forecasts. Probabilities are derived by counting the number of forecasts that meet the high water condition within the next 12 hours, equally weighted. Also shown are USGS HUC10 polygons for basins with greater than 50% of NWM features with flow expected to be at or above high water over the next 12 hours, symbolized by the average probability. High water thresholds (regionally varied) were derived using the 40-year NWM v2.1 reanalysis simulation. Updated hourly.'\n",
    "tags = 'short,range,forecast,high,water,national,water,model,nwm,probability'\n",
    "credits = 'National Water Model, NOAA/NWS National Water Center'\n",
    "egis_server = 'server'\n",
    "egis_folder = 'nwm'\n",
    "fim_service = False\n",
    "feature_service = False\n",
    "run = False\n",
    "fim_configs = None\n",
    "public_service = True\n",
    "max_flow_method = \"pipeline\"\n",
    "\n",
    "update_service_metadata(service, configuration, summary, description, tags, credits, egis_server, egis_folder, max_flows_sql_name=postprocess_max_flows, service_sql_name=postprocess_service, summary_sql_name=postprocess_summary, fim_service=fim_service, feature_service=feature_service, run=run, fim_configs=fim_configs, public_service=public_service, max_flow_method=max_flow_method)\n",
    "\n",
    "flow_id = '1'\n",
    "step = 'ingest'\n",
    "file_format = \"common/data/model/com/nwm/prod/nwm.{{datetime:%Y%m%d}}/short_range/nwm.t{{datetime:%H}}z.short_range.channel_rt.f{{range:1,19,1,%03d}}.conus.nc\"\n",
    "source_table = None\n",
    "target_table = 'ingest.nwm_channel_rt_srf'\n",
    "target_keys = '(feature_id, streamflow)'\n",
    "file_step = None\n",
    "file_window = None\n",
    "\n",
    "update_service_data_flows(service, flow_id, step, source_table, target_table, target_keys, file_step=file_step, file_window=file_window, file_format=file_format)\n",
    "\n",
    "flow_id = '2'\n",
    "step = 'ingest'\n",
    "file_format = \"common/data/model/com/nwm/prod/nwm.{{datetime:reftime-1H, %Y%m%d}}/short_range/nwm.t{{datetime:reftime-1H, %H}}z.short_range.channel_rt.f{{range:1,19,1,%03d}}.conus.nc\"\n",
    "source_table = None\n",
    "target_table = 'ingest.nwm_channel_rt_srf_past_1h'\n",
    "target_keys = '(feature_id, streamflow)'\n",
    "file_step = None\n",
    "file_window = None\n",
    "\n",
    "update_service_data_flows(service, flow_id, step, source_table, target_table, target_keys, file_step=file_step, file_window=file_window, file_format=file_format)\n",
    "\n",
    "flow_id = '3'\n",
    "step = 'ingest'\n",
    "file_format = \"common/data/model/com/nwm/prod/nwm.{{datetime:reftime-2H, %Y%m%d}}/short_range/nwm.t{{datetime:reftime-2H, %H}}z.short_range.channel_rt.f{{range:1,19,1,%03d}}.conus.nc\"\n",
    "source_table = None\n",
    "target_table = 'ingest.nwm_channel_rt_srf_past_2h'\n",
    "target_keys = '(feature_id, streamflow)'\n",
    "file_step = None\n",
    "file_window = None\n",
    "\n",
    "update_service_data_flows(service, flow_id, step, source_table, target_table, target_keys, file_step=file_step, file_window=file_window, file_format=file_format)\n",
    "\n",
    "flow_id = '4'\n",
    "step = 'ingest'\n",
    "file_format = \"common/data/model/com/nwm/prod/nwm.{{datetime:reftime-3H, %Y%m%d}}/short_range/nwm.t{{datetime:reftime-3H, %H}}z.short_range.channel_rt.f{{range:1,19,1,%03d}}.conus.nc\"\n",
    "source_table = None\n",
    "target_table = 'ingest.nwm_channel_rt_srf_past_3h'\n",
    "target_keys = '(feature_id, streamflow)'\n",
    "file_step = None\n",
    "file_window = None\n",
    "\n",
    "update_service_data_flows(service, flow_id, step, source_table, target_table, target_keys, file_step=file_step, file_window=file_window, file_format=file_format)\n",
    "\n",
    "flow_id = '5'\n",
    "step = 'ingest'\n",
    "file_format = \"common/data/model/com/nwm/prod/nwm.{{datetime:reftime-4H, %Y%m%d}}/short_range/nwm.t{{datetime:reftime-4H, %H}}z.short_range.channel_rt.f{{range:1,19,1,%03d}}.conus.nc\"\n",
    "source_table = None\n",
    "target_table = 'ingest.nwm_channel_rt_srf_past_4h'\n",
    "target_keys = '(feature_id, streamflow)'\n",
    "file_step = None\n",
    "file_window = None\n",
    "\n",
    "update_service_data_flows(service, flow_id, step, source_table, target_table, target_keys, file_step=file_step, file_window=file_window, file_format=file_format)\n",
    "\n",
    "flow_id = '6'\n",
    "step = 'ingest'\n",
    "file_format = \"common/data/model/com/nwm/prod/nwm.{{datetime:reftime-5H, %Y%m%d}}/short_range/nwm.t{{datetime:reftime-5H, %H}}z.short_range.channel_rt.f{{range:1,19,1,%03d}}.conus.nc\"\n",
    "source_table = None\n",
    "target_table = 'ingest.nwm_channel_rt_srf_past_5h'\n",
    "target_keys = '(feature_id, streamflow)'\n",
    "file_step = None\n",
    "file_window = None\n",
    "\n",
    "update_service_data_flows(service, flow_id, step, source_table, target_table, target_keys, file_step=file_step, file_window=file_window, file_format=file_format)\n",
    "\n",
    "flow_id = '7'\n",
    "step = 'ingest'\n",
    "file_format = \"common/data/model/com/nwm/prod/nwm.{{datetime:reftime-6H, %Y%m%d}}/short_range/nwm.t{{datetime:reftime-6H, %H}}z.short_range.channel_rt.f{{range:1,19,1,%03d}}.conus.nc\"\n",
    "source_table = None\n",
    "target_table = 'ingest.nwm_channel_rt_srf_past_6h'\n",
    "target_keys = '(feature_id, streamflow)'\n",
    "file_step = None\n",
    "file_window = None\n",
    "\n",
    "update_service_data_flows(service, flow_id, step, source_table, target_table, target_keys, file_step=file_step, file_window=file_window, file_format=file_format)\n"
   ]
  },
  {
   "cell_type": "markdown",
   "id": "3e2e9c29",
   "metadata": {},
   "source": [
    "<h3>Short-Range High Water Probability Forecast - Para</h3>"
   ]
  },
  {
   "cell_type": "code",
   "execution_count": 95,
   "id": "68d43353",
   "metadata": {},
   "outputs": [
    {
     "name": "stdout",
     "output_type": "stream",
     "text": [
      "This result object does not return rows. It has been closed automatically.\n",
      "This result object does not return rows. It has been closed automatically.\n",
      "This result object does not return rows. It has been closed automatically.\n",
      "This result object does not return rows. It has been closed automatically.\n",
      "This result object does not return rows. It has been closed automatically.\n",
      "This result object does not return rows. It has been closed automatically.\n",
      "This result object does not return rows. It has been closed automatically.\n",
      "This result object does not return rows. It has been closed automatically.\n",
      "This result object does not return rows. It has been closed automatically.\n",
      "This result object does not return rows. It has been closed automatically.\n",
      "This result object does not return rows. It has been closed automatically.\n",
      "This result object does not return rows. It has been closed automatically.\n",
      "This result object does not return rows. It has been closed automatically.\n",
      "This result object does not return rows. It has been closed automatically.\n",
      "This result object does not return rows. It has been closed automatically.\n",
      "This result object does not return rows. It has been closed automatically.\n"
     ]
    }
   ],
   "source": [
    "service = 'srf_high_water_probability_para'\n",
    "configuration = 'short_range_para'\n",
    "postprocess_max_flows = None\n",
    "postprocess_service = None\n",
    "postprocess_summary = None\n",
    "summary = 'Short-Range High Water Probability Forecast'\n",
    "description = 'Depicts the probability of forecast high water over the next 12 hours using a time-lagged ensemble from the short-range forecast of the National Water Model (NWM) over the contiguous U.S. Shown are reaches that are forecast to have flow at or above high water within the next 12 hours of at least one of the last 7 forecasts. Reaches are colored by the probability that they will meet or exceed the high water threshold across the last 7 forecasts. Probabilities are derived by counting the number of forecasts that meet the high water condition within the next 12 hours, equally weighted. Also shown are USGS HUC10 polygons for basins with greater than 50% of NWM features with flow expected to be at or above high water over the next 12 hours, symbolized by the average probability. High water thresholds (regionally varied) were derived using the 40-year NWM v2.1 reanalysis simulation. Updated hourly.'\n",
    "tags = 'short,range,forecast,high,water,national,water,model,nwm,probability'\n",
    "credits = 'National Water Model, NOAA/NWS National Water Center'\n",
    "egis_server = 'server'\n",
    "egis_folder = 'para'\n",
    "fim_service = False\n",
    "feature_service = False\n",
    "run = False\n",
    "fim_configs = None\n",
    "public_service = True\n",
    "max_flow_method = \"pipeline\"\n",
    "\n",
    "update_service_metadata(service, configuration, summary, description, tags, credits, egis_server, egis_folder, max_flows_sql_name=postprocess_max_flows, service_sql_name=postprocess_service, summary_sql_name=postprocess_summary, fim_service=fim_service, feature_service=feature_service, run=run, fim_configs=fim_configs, public_service=public_service, max_flow_method=max_flow_method)\n",
    "\n",
    "flow_id = '1'\n",
    "step = 'ingest'\n",
    "file_format = \"common/data/model/com/nwm/para/nwm.{{datetime:%Y%m%d}}/short_range/nwm.t{{datetime:%H}}z.short_range.channel_rt.f{{range:1,19,1,%03d}}.conus.nc\"\n",
    "source_table = None\n",
    "target_table = 'ingest.nwm_channel_rt_srf_para'\n",
    "target_keys = '(feature_id, streamflow)'\n",
    "file_step = None\n",
    "file_window = None\n",
    "\n",
    "update_service_data_flows(service, flow_id, step, source_table, target_table, target_keys, file_step=file_step, file_window=file_window, file_format=file_format)\n",
    "\n",
    "flow_id = '2'\n",
    "step = 'ingest'\n",
    "file_format = \"common/data/model/com/nwm/para/nwm.{{datetime:reftime-1H, %Y%m%d}}/short_range/nwm.t{{datetime:reftime-1H, %H}}z.short_range.channel_rt.f{{range:1,19,1,%03d}}.conus.nc\"\n",
    "source_table = None\n",
    "target_table = 'ingest.nwm_channel_rt_srf_past_1h_para'\n",
    "target_keys = '(feature_id, streamflow)'\n",
    "file_step = None\n",
    "file_window = None\n",
    "\n",
    "update_service_data_flows(service, flow_id, step, source_table, target_table, target_keys, file_step=file_step, file_window=file_window, file_format=file_format)\n",
    "\n",
    "flow_id = '3'\n",
    "step = 'ingest'\n",
    "file_format = \"common/data/model/com/nwm/para/nwm.{{datetime:reftime-2H, %Y%m%d}}/short_range/nwm.t{{datetime:reftime-2H, %H}}z.short_range.channel_rt.f{{range:1,19,1,%03d}}.conus.nc\"\n",
    "source_table = None\n",
    "target_table = 'ingest.nwm_channel_rt_srf_past_2h_para'\n",
    "target_keys = '(feature_id, streamflow)'\n",
    "file_step = None\n",
    "file_window = None\n",
    "\n",
    "update_service_data_flows(service, flow_id, step, source_table, target_table, target_keys, file_step=file_step, file_window=file_window, file_format=file_format)\n",
    "\n",
    "flow_id = '4'\n",
    "step = 'ingest'\n",
    "file_format = \"common/data/model/com/nwm/para/nwm.{{datetime:reftime-3H, %Y%m%d}}/short_range/nwm.t{{datetime:reftime-3H, %H}}z.short_range.channel_rt.f{{range:1,19,1,%03d}}.conus.nc\"\n",
    "source_table = None\n",
    "target_table = 'ingest.nwm_channel_rt_srf_past_3h_para'\n",
    "target_keys = '(feature_id, streamflow)'\n",
    "file_step = None\n",
    "file_window = None\n",
    "\n",
    "update_service_data_flows(service, flow_id, step, source_table, target_table, target_keys, file_step=file_step, file_window=file_window, file_format=file_format)\n",
    "\n",
    "flow_id = '5'\n",
    "step = 'ingest'\n",
    "file_format = \"common/data/model/com/nwm/para/nwm.{{datetime:reftime-4H, %Y%m%d}}/short_range/nwm.t{{datetime:reftime-4H, %H}}z.short_range.channel_rt.f{{range:1,19,1,%03d}}.conus.nc\"\n",
    "source_table = None\n",
    "target_table = 'ingest.nwm_channel_rt_srf_past_4h_para'\n",
    "target_keys = '(feature_id, streamflow)'\n",
    "file_step = None\n",
    "file_window = None\n",
    "\n",
    "update_service_data_flows(service, flow_id, step, source_table, target_table, target_keys, file_step=file_step, file_window=file_window, file_format=file_format)\n",
    "\n",
    "flow_id = '6'\n",
    "step = 'ingest'\n",
    "file_format = \"common/data/model/com/nwm/para/nwm.{{datetime:reftime-5H, %Y%m%d}}/short_range/nwm.t{{datetime:reftime-5H, %H}}z.short_range.channel_rt.f{{range:1,19,1,%03d}}.conus.nc\"\n",
    "source_table = None\n",
    "target_table = 'ingest.nwm_channel_rt_srf_past_5h_para'\n",
    "target_keys = '(feature_id, streamflow)'\n",
    "file_step = None\n",
    "file_window = None\n",
    "\n",
    "update_service_data_flows(service, flow_id, step, source_table, target_table, target_keys, file_step=file_step, file_window=file_window, file_format=file_format)\n",
    "\n",
    "flow_id = '7'\n",
    "step = 'ingest'\n",
    "file_format = \"common/data/model/com/nwm/para/nwm.{{datetime:reftime-6H, %Y%m%d}}/short_range/nwm.t{{datetime:reftime-6H, %H}}z.short_range.channel_rt.f{{range:1,19,1,%03d}}.conus.nc\"\n",
    "source_table = None\n",
    "target_table = 'ingest.nwm_channel_rt_srf_past_6h_para'\n",
    "target_keys = '(feature_id, streamflow)'\n",
    "file_step = None\n",
    "file_window = None\n",
    "\n",
    "update_service_data_flows(service, flow_id, step, source_table, target_table, target_keys, file_step=file_step, file_window=file_window, file_format=file_format)"
   ]
  },
  {
   "cell_type": "markdown",
   "id": "4f926f9e",
   "metadata": {},
   "source": [
    "<h3>Short-Range Maximum High Flow Magnitude Forecast</h3>"
   ]
  },
  {
   "cell_type": "code",
   "execution_count": 96,
   "id": "e9476d0c",
   "metadata": {},
   "outputs": [
    {
     "name": "stdout",
     "output_type": "stream",
     "text": [
      "This result object does not return rows. It has been closed automatically.\n",
      "This result object does not return rows. It has been closed automatically.\n",
      "This result object does not return rows. It has been closed automatically.\n",
      "This result object does not return rows. It has been closed automatically.\n",
      "This result object does not return rows. It has been closed automatically.\n",
      "This result object does not return rows. It has been closed automatically.\n"
     ]
    }
   ],
   "source": [
    "service = 'srf_max_high_flow_magnitude'\n",
    "configuration = 'short_range'\n",
    "postprocess_max_flows = ['srf_max_flows']\n",
    "postprocess_service = 'srf_max_high_flow_magnitude'\n",
    "postprocess_summary = None\n",
    "summary = 'Short-Range Maximum High Flow Magnitude Forecast'\n",
    "description = 'Depicts the magnitude of the peak National Water Model (NWM) streamflow forecast over the next 18 hours where the NWM is signaling high water. This service is derived from the short-range configuration of the NWM over the contiguous U.S. Shown are reaches with peak flow at or above high water thresholds. Reaches are colored by the annual exceedance probability (AEP) of their forecast peak flow. High water thresholds (regionally varied) and AEPs were derived using the 40-year NWM v2.1 reanalysis simulation. Updated hourly.'\n",
    "tags = 'short range forecast, maximum, high flow, magnitude, national water model, nwm'\n",
    "credits = 'National Water Model, NOAA/NWS National Water Center'\n",
    "egis_server = 'server'\n",
    "egis_folder = 'nwm'\n",
    "fim_service = False\n",
    "feature_service = False\n",
    "run = False\n",
    "fim_configs = None\n",
    "public_service = True\n",
    "max_flow_method = \"pipeline\"\n",
    "\n",
    "update_service_metadata(service, configuration, summary, description, tags, credits, egis_server, egis_folder, max_flows_sql_name=postprocess_max_flows, service_sql_name=postprocess_service, summary_sql_name=postprocess_summary, fim_service=fim_service, feature_service=feature_service, run=run, fim_configs=fim_configs, public_service=public_service, max_flow_method=max_flow_method)\n",
    "\n",
    "flow_id = '1'\n",
    "step = 'ingest'\n",
    "file_format = \"common/data/model/com/nwm/prod/nwm.{{datetime:%Y%m%d}}/short_range/nwm.t{{datetime:%H}}z.short_range.channel_rt.f{{range:1,19,1,%03d}}.conus.nc\"\n",
    "source_table = None\n",
    "target_table = 'ingest.nwm_channel_rt_srf'\n",
    "target_keys = '(feature_id, streamflow)'\n",
    "file_step = None\n",
    "file_window = None\n",
    "\n",
    "update_service_data_flows(service, flow_id, step, source_table, target_table, target_keys, file_step=file_step, file_window=file_window, file_format=file_format)\n",
    "\n",
    "flow_id = '2'\n",
    "step = 'max_flows'\n",
    "file_format = None\n",
    "source_table = 'ingest.nwm_channel_rt_srf'\n",
    "target_table = 'cache.max_flows_srf'\n",
    "target_keys = '(feature_id, streamflow)'\n",
    "file_step = None\n",
    "file_window = None\n",
    "\n",
    "update_service_data_flows(service, flow_id, step, source_table, target_table, target_keys, file_step=file_step, file_window=file_window, file_format=file_format)"
   ]
  },
  {
   "cell_type": "markdown",
   "id": "351608c8",
   "metadata": {},
   "source": [
    "<h3>Short-Range Maximum High Flow Magnitude Forecast - Para</h3>"
   ]
  },
  {
   "cell_type": "code",
   "execution_count": 97,
   "id": "dbff6e99",
   "metadata": {},
   "outputs": [
    {
     "name": "stdout",
     "output_type": "stream",
     "text": [
      "This result object does not return rows. It has been closed automatically.\n",
      "This result object does not return rows. It has been closed automatically.\n",
      "This result object does not return rows. It has been closed automatically.\n",
      "This result object does not return rows. It has been closed automatically.\n",
      "This result object does not return rows. It has been closed automatically.\n",
      "This result object does not return rows. It has been closed automatically.\n"
     ]
    }
   ],
   "source": [
    "service = 'srf_max_high_flow_magnitude_para'\n",
    "configuration = 'short_range_para'\n",
    "postprocess_max_flows = ['srf_max_flows_para']\n",
    "postprocess_service = 'srf_max_high_flow_magnitude_para'\n",
    "postprocess_summary = None\n",
    "summary = 'Short-Range Maximum High Flow Magnitude Forecast'\n",
    "description = 'Depicts the magnitude of the peak National Water Model (NWM) streamflow forecast over the next 18 hours where the NWM is signaling high water. This service is derived from the short-range configuration of the NWM over the contiguous U.S. Shown are reaches with peak flow at or above high water thresholds. Reaches are colored by the annual exceedance probability (AEP) of their forecast peak flow. High water thresholds (regionally varied) and AEPs were derived using the 40-year NWM v2.1 reanalysis simulation. Updated hourly.'\n",
    "tags = 'short range forecast, maximum, high flow, magnitude, national water model, nwm'\n",
    "credits = 'National Water Model, NOAA/NWS National Water Center'\n",
    "egis_server = 'server'\n",
    "egis_folder = 'nwm'\n",
    "fim_service = False\n",
    "feature_service = False\n",
    "run = True\n",
    "fim_configs = None\n",
    "public_service = True\n",
    "max_flow_method = \"pipeline\"\n",
    "\n",
    "update_service_metadata(service, configuration, summary, description, tags, credits, egis_server, egis_folder, max_flows_sql_name=postprocess_max_flows, service_sql_name=postprocess_service, summary_sql_name=postprocess_summary, fim_service=fim_service, feature_service=feature_service, run=run, fim_configs=fim_configs, public_service=public_service, max_flow_method=max_flow_method)\n",
    "\n",
    "flow_id = '1'\n",
    "step = 'ingest'\n",
    "file_format = \"common/data/model/com/nwm/para/nwm.{{datetime:%Y%m%d}}/short_range/nwm.t{{datetime:%H}}z.short_range.channel_rt.f{{range:1,19,1,%03d}}.conus.nc\"\n",
    "source_table = None\n",
    "target_table = 'ingest.nwm_channel_rt_srf_para'\n",
    "target_keys = '(feature_id, streamflow)'\n",
    "file_step = None\n",
    "file_window = None\n",
    "\n",
    "update_service_data_flows(service, flow_id, step, source_table, target_table, target_keys, file_step=file_step, file_window=file_window, file_format=file_format)\n",
    "\n",
    "flow_id = '2'\n",
    "step = 'max_flows'\n",
    "file_format = None\n",
    "source_table = 'ingest.nwm_channel_rt_srf_para'\n",
    "target_table = 'cache.max_flows_srf_para'\n",
    "target_keys = '(feature_id, streamflow)'\n",
    "file_step = None\n",
    "file_window = None\n",
    "\n",
    "update_service_data_flows(service, flow_id, step, source_table, target_table, target_keys, file_step=file_step, file_window=file_window, file_format=file_format)"
   ]
  },
  {
   "cell_type": "markdown",
   "id": "4974dabd",
   "metadata": {},
   "source": [
    "<h3>Short-Range Maximum High Flow Magnitude Hawaii</h3>"
   ]
  },
  {
   "cell_type": "code",
   "execution_count": 98,
   "id": "4fc6abe4",
   "metadata": {},
   "outputs": [
    {
     "name": "stdout",
     "output_type": "stream",
     "text": [
      "This result object does not return rows. It has been closed automatically.\n",
      "This result object does not return rows. It has been closed automatically.\n",
      "This result object does not return rows. It has been closed automatically.\n",
      "This result object does not return rows. It has been closed automatically.\n",
      "This result object does not return rows. It has been closed automatically.\n",
      "This result object does not return rows. It has been closed automatically.\n"
     ]
    }
   ],
   "source": [
    "service = 'srf_max_high_flow_magnitude_hi'\n",
    "configuration = 'short_range_hawaii'\n",
    "postprocess_max_flows = ['srf_max_flows_hi']\n",
    "postprocess_service = 'srf_max_high_flow_magnitude_hi'\n",
    "postprocess_summary = None\n",
    "summary = 'Short-Range Maximum High Flow Magnitude Hawaii'\n",
    "description = 'Depicts the magnitude of the peak National Water Model (NWM) streamflow forecast over the next 48 hours where the NWM is signaling high water. This service is derived from the short-range configuration of the NWM over Hawaii. Shown are reaches with peak flow at or above high water thresholds. Reaches are colored by the annual exceedance probability (AEP) of their peak flow. High water thresholds and AEPs were derived from USGS regression equations found at https://pubs.usgs.gov/sir/2010/5035/sir2010-5035_text.pdf. Updated every 12 hours.'\n",
    "tags = 'high,flow,magnitude,national,water,model,nwm,hawaii,srf,hi'\n",
    "credits = 'National Water Model, NOAA/NWS National Water Center'\n",
    "egis_server = 'server'\n",
    "egis_folder = 'nwm'\n",
    "fim_service = False\n",
    "feature_service = False\n",
    "run = False\n",
    "fim_configs = None\n",
    "public_service = True\n",
    "max_flow_method = \"pipeline\"\n",
    "\n",
    "update_service_metadata(service, configuration, summary, description, tags, credits, egis_server, egis_folder, max_flows_sql_name=postprocess_max_flows, service_sql_name=postprocess_service, summary_sql_name=postprocess_summary, fim_service=fim_service, feature_service=feature_service, run=run, fim_configs=fim_configs, public_service=public_service, max_flow_method=max_flow_method)\n",
    "\n",
    "flow_id = '1'\n",
    "step = 'ingest'\n",
    "file_format = \"common/data/model/com/nwm/prod/nwm.{{datetime:%Y%m%d}}/short_range_hawaii/nwm.t{{datetime:%H}}z.short_range.channel_rt.f{{range:100,4900,100,%05d}}.hawaii.nc\"\n",
    "source_table = None\n",
    "target_table = 'ingest.nwm_channel_rt_srf_hi'\n",
    "target_keys = '(feature_id, streamflow)'\n",
    "file_step = None\n",
    "file_window = None\n",
    "\n",
    "update_service_data_flows(service, flow_id, step, source_table, target_table, target_keys, file_step=file_step, file_window=file_window, file_format=file_format)\n",
    "\n",
    "flow_id = '2'\n",
    "step = 'max_flows'\n",
    "file_format = None\n",
    "source_table = 'ingest.nwm_channel_rt_srf_hi'\n",
    "target_table = 'cache.max_flows_srf_hi'\n",
    "target_keys = '(feature_id, streamflow)'\n",
    "file_step = None\n",
    "file_window = None\n",
    "\n",
    "update_service_data_flows(service, flow_id, step, source_table, target_table, target_keys, file_step=file_step, file_window=file_window, file_format=file_format)"
   ]
  },
  {
   "cell_type": "markdown",
   "id": "5fbf1f1f",
   "metadata": {},
   "source": [
    "<h3>Short-Range Maximum High Flow Magnitude Hawaii - Para</h3>"
   ]
  },
  {
   "cell_type": "code",
   "execution_count": 99,
   "id": "b5379f07",
   "metadata": {},
   "outputs": [
    {
     "name": "stdout",
     "output_type": "stream",
     "text": [
      "This result object does not return rows. It has been closed automatically.\n",
      "This result object does not return rows. It has been closed automatically.\n",
      "This result object does not return rows. It has been closed automatically.\n",
      "This result object does not return rows. It has been closed automatically.\n",
      "This result object does not return rows. It has been closed automatically.\n",
      "This result object does not return rows. It has been closed automatically.\n"
     ]
    }
   ],
   "source": [
    "service = 'srf_max_high_flow_magnitude_hi_para'\n",
    "configuration = 'short_range_hawaii_para'\n",
    "postprocess_max_flows = ['srf_max_flows_hi_para']\n",
    "postprocess_service = 'srf_max_high_flow_magnitude_hi_para'\n",
    "postprocess_summary = None\n",
    "summary = 'Short-Range Maximum High Flow Magnitude Hawaii'\n",
    "description = 'Depicts the magnitude of the peak National Water Model (NWM) streamflow forecast over the next 48 hours where the NWM is signaling high water. This service is derived from the short-range configuration of the NWM over Hawaii. Shown are reaches with peak flow at or above high water thresholds. Reaches are colored by the annual exceedance probability (AEP) of their peak flow. High water thresholds and AEPs were derived from USGS regression equations found at https://pubs.usgs.gov/sir/2010/5035/sir2010-5035_text.pdf. Updated every 12 hours.'\n",
    "tags = 'high,flow,magnitude,national,water,model,nwm,hawaii,srf,hi'\n",
    "credits = 'National Water Model, NOAA/NWS National Water Center'\n",
    "egis_server = 'server'\n",
    "egis_folder = 'nwm'\n",
    "fim_service = False\n",
    "feature_service = False\n",
    "run = True\n",
    "fim_configs = None\n",
    "public_service = True\n",
    "max_flow_method = \"pipeline\"\n",
    "\n",
    "update_service_metadata(service, configuration, summary, description, tags, credits, egis_server, egis_folder, max_flows_sql_name=postprocess_max_flows, service_sql_name=postprocess_service, summary_sql_name=postprocess_summary, fim_service=fim_service, feature_service=feature_service, run=run, fim_configs=fim_configs, public_service=public_service, max_flow_method=max_flow_method)\n",
    "\n",
    "flow_id = '1'\n",
    "step = 'ingest'\n",
    "file_format = \"common/data/model/com/nwm/para/nwm.{{datetime:%Y%m%d}}/short_range_hawaii/nwm.t{{datetime:%H}}z.short_range.channel_rt.f{{range:100,4900,100,%05d}}.hawaii.nc\"\n",
    "source_table = None\n",
    "target_table = 'ingest.nwm_channel_rt_srf_hi_para'\n",
    "target_keys = '(feature_id, streamflow)'\n",
    "file_step = None\n",
    "file_window = None\n",
    "\n",
    "update_service_data_flows(service, flow_id, step, source_table, target_table, target_keys, file_step=file_step, file_window=file_window, file_format=file_format)\n",
    "\n",
    "flow_id = '2'\n",
    "step = 'max_flows'\n",
    "file_format = None\n",
    "source_table = 'ingest.nwm_channel_rt_srf_hi_para'\n",
    "target_table = 'cache.max_flows_srf_hi_para'\n",
    "target_keys = '(feature_id, streamflow)'\n",
    "file_step = None\n",
    "file_window = None\n",
    "\n",
    "update_service_data_flows(service, flow_id, step, source_table, target_table, target_keys, file_step=file_step, file_window=file_window, file_format=file_format)"
   ]
  },
  {
   "cell_type": "markdown",
   "id": "02da22c1",
   "metadata": {},
   "source": [
    "<h3>Short-Range Maximum High Flow Magnitude Puerto Rico/Virgin Islands</h3>"
   ]
  },
  {
   "cell_type": "code",
   "execution_count": 100,
   "id": "de35d35a",
   "metadata": {},
   "outputs": [
    {
     "name": "stdout",
     "output_type": "stream",
     "text": [
      "This result object does not return rows. It has been closed automatically.\n",
      "This result object does not return rows. It has been closed automatically.\n",
      "This result object does not return rows. It has been closed automatically.\n",
      "This result object does not return rows. It has been closed automatically.\n",
      "This result object does not return rows. It has been closed automatically.\n",
      "This result object does not return rows. It has been closed automatically.\n"
     ]
    }
   ],
   "source": [
    "service = 'srf_max_high_flow_magnitude_prvi'\n",
    "configuration = 'short_range_puertorico'\n",
    "postprocess_max_flows = ['srf_max_flows_prvi']\n",
    "postprocess_service = 'srf_max_high_flow_magnitude_prvi'\n",
    "postprocess_summary = None\n",
    "summary = 'Short-Range Maximum High Flow Magnitude Puerto Rico/Virgin Islands'\n",
    "description = 'Depicts the magnitude of the peak National Water Model (NWM) streamflow forecast over the next 48 hours where the NWM is signaling high water. This service is derived from the short-range configuration of the NWM over Puerto Rico and the U.S. Virgin Islands. Shown are reaches with peak flow at or above high water thresholds. Reaches are colored by the annual exceedance probability (AEP) of their peak flow. High water thresholds and AEPs were derived from USGS regression equations found at https://pubs.usgs.gov/wri/wri994142/pdf/wri99-4142.pdf. Updated every 12 hours.'\n",
    "tags = 'high flow, magnitude, national water model, nwm, puerto rico, virgin islands, srf'\n",
    "credits = 'National Water Model, NOAA/NWS National Water Center'\n",
    "egis_server = 'server'\n",
    "egis_folder = 'nwm'\n",
    "fim_service = False\n",
    "feature_service = False\n",
    "run = False\n",
    "fim_configs = None\n",
    "public_service = True\n",
    "max_flow_method = \"pipeline\"\n",
    "\n",
    "update_service_metadata(service, configuration, summary, description, tags, credits, egis_server, egis_folder, max_flows_sql_name=postprocess_max_flows, service_sql_name=postprocess_service, summary_sql_name=postprocess_summary, fim_service=fim_service, feature_service=feature_service, run=run, fim_configs=fim_configs, public_service=public_service, max_flow_method=max_flow_method)\n",
    "\n",
    "flow_id = '1'\n",
    "step = 'ingest'\n",
    "file_format = \"common/data/model/com/nwm/prod/nwm.{{datetime:%Y%m%d}}/short_range_puertorico/nwm.t{{datetime:%H}}z.short_range.channel_rt.f{{range:1,49,1,%03d}}.puertorico.nc\"\n",
    "source_table = None\n",
    "target_table = 'ingest.nwm_channel_rt_srf_prvi'\n",
    "target_keys = '(feature_id, streamflow)'\n",
    "file_step = None\n",
    "file_window = None\n",
    "\n",
    "update_service_data_flows(service, flow_id, step, source_table, target_table, target_keys, file_step=file_step, file_window=file_window, file_format=file_format)\n",
    "\n",
    "flow_id = '2'\n",
    "step = 'max_flows'\n",
    "file_format = None\n",
    "source_table = 'ingest.nwm_channel_rt_srf_prvi'\n",
    "target_table = 'cache.max_flows_srf_prvi'\n",
    "target_keys = '(feature_id, streamflow)'\n",
    "file_step = None\n",
    "file_window = None\n",
    "\n",
    "update_service_data_flows(service, flow_id, step, source_table, target_table, target_keys, file_step=file_step, file_window=file_window, file_format=file_format)"
   ]
  },
  {
   "cell_type": "markdown",
   "id": "91936f91",
   "metadata": {},
   "source": [
    "<h3>Short-Range Maximum High Flow Magnitude Puerto Rico/Virgin Islands - Para</h3>"
   ]
  },
  {
   "cell_type": "code",
   "execution_count": 101,
   "id": "359784c9",
   "metadata": {},
   "outputs": [
    {
     "name": "stdout",
     "output_type": "stream",
     "text": [
      "This result object does not return rows. It has been closed automatically.\n",
      "This result object does not return rows. It has been closed automatically.\n",
      "This result object does not return rows. It has been closed automatically.\n",
      "This result object does not return rows. It has been closed automatically.\n",
      "This result object does not return rows. It has been closed automatically.\n",
      "This result object does not return rows. It has been closed automatically.\n"
     ]
    }
   ],
   "source": [
    "service = 'srf_max_high_flow_magnitude_prvi_para'\n",
    "configuration = 'short_range_puertorico_para'\n",
    "postprocess_max_flows = ['srf_max_flows_prvi_para']\n",
    "postprocess_service = 'srf_max_high_flow_magnitude_prvi_para'\n",
    "postprocess_summary = None\n",
    "summary = 'Short-Range Maximum High Flow Magnitude Puerto Rico/Virgin Islands'\n",
    "description = 'Depicts the magnitude of the peak National Water Model (NWM) streamflow forecast over the next 48 hours where the NWM is signaling high water. This service is derived from the short-range configuration of the NWM over Puerto Rico and the U.S. Virgin Islands. Shown are reaches with peak flow at or above high water thresholds. Reaches are colored by the annual exceedance probability (AEP) of their peak flow. High water thresholds and AEPs were derived from USGS regression equations found at https://pubs.usgs.gov/wri/wri994142/pdf/wri99-4142.pdf. Updated every 12 hours.'\n",
    "tags = 'high flow, magnitude, national water model, nwm, puerto rico, virgin islands, srf'\n",
    "credits = 'National Water Model, NOAA/NWS National Water Center'\n",
    "egis_server = 'server'\n",
    "egis_folder = 'nwm'\n",
    "fim_service = False\n",
    "feature_service = False\n",
    "run = True\n",
    "fim_configs = None\n",
    "public_service = True\n",
    "max_flow_method = \"pipeline\"\n",
    "\n",
    "update_service_metadata(service, configuration, summary, description, tags, credits, egis_server, egis_folder, max_flows_sql_name=postprocess_max_flows, service_sql_name=postprocess_service, summary_sql_name=postprocess_summary, fim_service=fim_service, feature_service=feature_service, run=run, fim_configs=fim_configs, public_service=public_service, max_flow_method=max_flow_method)\n",
    "\n",
    "flow_id = '1'\n",
    "step = 'ingest'\n",
    "file_format = \"common/data/model/com/nwm/para/nwm.{{datetime:%Y%m%d}}/short_range_puertorico/nwm.t{{datetime:%H}}z.short_range.channel_rt.f{{range:1,49,1,%03d}}.puertorico.nc\"\n",
    "source_table = None\n",
    "target_table = 'ingest.nwm_channel_rt_srf_prvi_para'\n",
    "target_keys = '(feature_id, streamflow)'\n",
    "file_step = None\n",
    "file_window = None\n",
    "\n",
    "update_service_data_flows(service, flow_id, step, source_table, target_table, target_keys, file_step=file_step, file_window=file_window, file_format=file_format)\n",
    "\n",
    "flow_id = '2'\n",
    "step = 'max_flows'\n",
    "file_format = None\n",
    "source_table = 'ingest.nwm_channel_rt_srf_prvi_para'\n",
    "target_table = 'cache.max_flows_srf_prvi_para'\n",
    "target_keys = '(feature_id, streamflow)'\n",
    "file_step = None\n",
    "file_window = None\n",
    "\n",
    "update_service_data_flows(service, flow_id, step, source_table, target_table, target_keys, file_step=file_step, file_window=file_window, file_format=file_format)"
   ]
  },
  {
   "cell_type": "markdown",
   "id": "5363d6e1",
   "metadata": {},
   "source": [
    "<h3>Short-Range Rapid Onset Flooding</h3>"
   ]
  },
  {
   "cell_type": "code",
   "execution_count": 102,
   "id": "69c060d4",
   "metadata": {},
   "outputs": [
    {
     "name": "stdout",
     "output_type": "stream",
     "text": [
      "This result object does not return rows. It has been closed automatically.\n",
      "This result object does not return rows. It has been closed automatically.\n",
      "This result object does not return rows. It has been closed automatically.\n",
      "This result object does not return rows. It has been closed automatically.\n"
     ]
    }
   ],
   "source": [
    "service = 'srf_rapid_onset_flooding'\n",
    "configuration = 'short_range'\n",
    "postprocess_max_flows = None\n",
    "postprocess_service = 'srf_rapid_onset_flooding'\n",
    "postprocess_summary = ['{\"hucs\":[\"srf_rapid_onset_flooding_hucs\"]}']\n",
    "summary = 'Short-Range Rapid Onset Flooding'\n",
    "description = 'Depicts forecast rapid onset flooding using the short-range configuration of the National Water Model (NWM) over the contiguous U.S. Shown are reaches (stream order 4 and below) with a forecast flow increase of 100% or greater within an hour, and which are expected to be at or above the high water threshold within 6 hours of that increase. Also shown are USGS HUC10 polygons symbolized by the percentage of NWM waterway length (within each HUC10) that is expected to meet the previously mentioned criteria. High water thresholds (regionally varied) were derived using the 40-year NWM v2.1 reanalysis simulation. Updated every 12 hours.'\n",
    "tags = 'short, range, forecast, streamflow, rapid, onset, flood, national, water, model, nwm'\n",
    "credits = 'National Water Model, NOAA/NWS National Water Center'\n",
    "egis_server = 'server'\n",
    "egis_folder = 'nwm'\n",
    "fim_service = False\n",
    "feature_service = False\n",
    "run = False\n",
    "fim_configs = None\n",
    "public_service = True\n",
    "max_flow_method = \"pipeline\"\n",
    "\n",
    "update_service_metadata(service, configuration, summary, description, tags, credits, egis_server, egis_folder, max_flows_sql_name=postprocess_max_flows, service_sql_name=postprocess_service, summary_sql_name=postprocess_summary, fim_service=fim_service, feature_service=feature_service, run=run, fim_configs=fim_configs, public_service=public_service, max_flow_method=max_flow_method)\n",
    "\n",
    "flow_id = '1'\n",
    "step = 'ingest'\n",
    "file_format = \"common/data/model/com/nwm/prod/nwm.{{datetime:%Y%m%d}}/short_range/nwm.t{{datetime:%H}}z.short_range.channel_rt.f{{range:1,19,1,%03d}}.conus.nc\"\n",
    "source_table = None\n",
    "target_table = 'ingest.nwm_channel_rt_srf'\n",
    "target_keys = '(feature_id, streamflow)'\n",
    "file_step = None\n",
    "file_window = None\n",
    "\n",
    "update_service_data_flows(service, flow_id, step, source_table, target_table, target_keys, file_step=file_step, file_window=file_window, file_format=file_format)"
   ]
  },
  {
   "cell_type": "markdown",
   "id": "54a0fb71",
   "metadata": {},
   "source": [
    "<h3>Short-Range Rapid Onset Flooding - Para</h3>"
   ]
  },
  {
   "cell_type": "code",
   "execution_count": 103,
   "id": "9939a5e7",
   "metadata": {},
   "outputs": [
    {
     "name": "stdout",
     "output_type": "stream",
     "text": [
      "This result object does not return rows. It has been closed automatically.\n",
      "This result object does not return rows. It has been closed automatically.\n",
      "This result object does not return rows. It has been closed automatically.\n",
      "This result object does not return rows. It has been closed automatically.\n"
     ]
    }
   ],
   "source": [
    "service = 'srf_rapid_onset_flooding_para'\n",
    "configuration = 'short_range_para'\n",
    "postprocess_max_flows = None\n",
    "postprocess_service = 'srf_rapid_onset_flooding_para'\n",
    "postprocess_summary = ['{\"hucs\":[\"srf_rapid_onset_flooding_hucs_para\"]}']\n",
    "summary = 'Short-Range Rapid Onset Flooding'\n",
    "description = 'Depicts forecast rapid onset flooding using the short-range configuration of the National Water Model (NWM) over the contiguous U.S. Shown are reaches (stream order 4 and below) with a forecast flow increase of 100% or greater within an hour, and which are expected to be at or above the high water threshold within 6 hours of that increase. Also shown are USGS HUC10 polygons symbolized by the percentage of NWM waterway length (within each HUC10) that is expected to meet the previously mentioned criteria. High water thresholds (regionally varied) were derived using the 40-year NWM v2.1 reanalysis simulation. Updated every 12 hours.'\n",
    "tags = 'short, range, forecast, streamflow, rapid, onset, flood, national, water, model, nwm'\n",
    "credits = 'National Water Model, NOAA/NWS National Water Center'\n",
    "egis_server = 'server'\n",
    "egis_folder = 'nwm'\n",
    "fim_service = False\n",
    "feature_service = False\n",
    "run = True\n",
    "fim_configs = None\n",
    "public_service = True\n",
    "max_flow_method = \"pipeline\"\n",
    "\n",
    "update_service_metadata(service, configuration, summary, description, tags, credits, egis_server, egis_folder, max_flows_sql_name=postprocess_max_flows, service_sql_name=postprocess_service, summary_sql_name=postprocess_summary, fim_service=fim_service, feature_service=feature_service, run=run, fim_configs=fim_configs, public_service=public_service, max_flow_method=max_flow_method)\n",
    "\n",
    "flow_id = '1'\n",
    "step = 'ingest'\n",
    "file_format = \"common/data/model/com/nwm/para/nwm.{{datetime:%Y%m%d}}/short_range/nwm.t{{datetime:%H}}z.short_range.channel_rt.f{{range:1,19,1,%03d}}.conus.nc\"\n",
    "source_table = None\n",
    "target_table = 'ingest.nwm_channel_rt_srf_para'\n",
    "target_keys = '(feature_id, streamflow)'\n",
    "file_step = None\n",
    "file_window = None\n",
    "\n",
    "update_service_data_flows(service, flow_id, step, source_table, target_table, target_keys, file_step=file_step, file_window=file_window, file_format=file_format)"
   ]
  },
  {
   "cell_type": "markdown",
   "id": "a6c78ce5",
   "metadata": {},
   "source": [
    "<h3>Short-Range Rapid Onset Flooding Probability Forecast</h3>"
   ]
  },
  {
   "cell_type": "code",
   "execution_count": 104,
   "id": "229e8627",
   "metadata": {},
   "outputs": [
    {
     "name": "stdout",
     "output_type": "stream",
     "text": [
      "This result object does not return rows. It has been closed automatically.\n",
      "This result object does not return rows. It has been closed automatically.\n",
      "This result object does not return rows. It has been closed automatically.\n",
      "This result object does not return rows. It has been closed automatically.\n",
      "This result object does not return rows. It has been closed automatically.\n",
      "This result object does not return rows. It has been closed automatically.\n",
      "This result object does not return rows. It has been closed automatically.\n",
      "This result object does not return rows. It has been closed automatically.\n",
      "This result object does not return rows. It has been closed automatically.\n",
      "This result object does not return rows. It has been closed automatically.\n",
      "This result object does not return rows. It has been closed automatically.\n",
      "This result object does not return rows. It has been closed automatically.\n",
      "This result object does not return rows. It has been closed automatically.\n",
      "This result object does not return rows. It has been closed automatically.\n",
      "This result object does not return rows. It has been closed automatically.\n",
      "This result object does not return rows. It has been closed automatically.\n"
     ]
    }
   ],
   "source": [
    "service = 'srf_rapid_onset_flooding_probability'\n",
    "configuration = 'short_range'\n",
    "postprocess_max_flows = None\n",
    "postprocess_service = None\n",
    "postprocess_summary = None\n",
    "summary = 'Short-Range Rapid Onset Flooding Probability Forecast'\n",
    "description = 'Depicts the probability of forecast rapid onset flooding over the next 18 hours using a time-lagged ensemble from the short-range configuration of the National Water Model (NWM) over the contiguous U.S. Shown are reaches (stream order 4 and below) that are expected to meet rapid onset flooding criteria (flow increase of 100% or greater within one hour and high water threshold conditions within 6 hours) using the most recent 7 forecasts. Reaches are colored by the probability that they will meet or exceed rapid onset conditions within hours 1-6, 7-12, and 1-12. Probabilities are computed as the % agreement across the 7 ensemble members that a given reach will meet rapid onset criteria at some point during the time period of interest. Hotspots show the average 1-12 hour rapid onset flooding probability, weighted by reach length, for USGS HUC10 basins with greater than 10% of NWM feature length meeting rapid onset criteria in the next 12 hours. High water thresholds (regionally varied) were derived using the 40-year NWM v2.1 reanalysis simulation. Updated hourly.'\n",
    "tags = 'short,range,forecast,streamflow,rapid,onset,flood,probability,national,water,model,nwm'\n",
    "credits = 'National Water Model, NOAA/NWS National Water Center'\n",
    "egis_server = 'server'\n",
    "egis_folder = 'nwm'\n",
    "fim_service = False\n",
    "feature_service = True\n",
    "run = False\n",
    "fim_configs = None\n",
    "public_service = True\n",
    "max_flow_method = \"pipeline\"\n",
    "\n",
    "update_service_metadata(service, configuration, summary, description, tags, credits, egis_server, egis_folder, max_flows_sql_name=postprocess_max_flows, service_sql_name=postprocess_service, summary_sql_name=postprocess_summary, fim_service=fim_service, feature_service=feature_service, run=run, fim_configs=fim_configs, public_service=public_service, max_flow_method=max_flow_method)\n",
    "\n",
    "flow_id = '1'\n",
    "step = 'ingest'\n",
    "file_format = \"common/data/model/com/nwm/prod/nwm.{{datetime:%Y%m%d}}/short_range/nwm.t{{datetime:%H}}z.short_range.channel_rt.f{{range:1,19,1,%03d}}.conus.nc\"\n",
    "source_table = None\n",
    "target_table = 'ingest.nwm_channel_rt_srf_para'\n",
    "target_keys = '(feature_id, streamflow)'\n",
    "file_step = None\n",
    "file_window = None\n",
    "\n",
    "update_service_data_flows(service, flow_id, step, source_table, target_table, target_keys, file_step=file_step, file_window=file_window, file_format=file_format)\n",
    "\n",
    "flow_id = '2'\n",
    "step = 'ingest'\n",
    "file_format = \"common/data/model/com/nwm/prod/nwm.{{datetime:reftime-1H, %Y%m%d}}/short_range/nwm.t{{datetime:reftime-1H, %H}}z.short_range.channel_rt.f{{range:1,19,1,%03d}}.conus.nc\"\n",
    "source_table = None\n",
    "target_table = 'ingest.nwm_channel_rt_srf_past_1h'\n",
    "target_keys = '(feature_id, streamflow)'\n",
    "file_step = None\n",
    "file_window = None\n",
    "\n",
    "update_service_data_flows(service, flow_id, step, source_table, target_table, target_keys, file_step=file_step, file_window=file_window, file_format=file_format)\n",
    "\n",
    "flow_id = '3'\n",
    "step = 'ingest'\n",
    "file_format = \"common/data/model/com/nwm/prod/nwm.{{datetime:reftime-2H, %Y%m%d}}/short_range/nwm.t{{datetime:reftime-2H, %H}}z.short_range.channel_rt.f{{range:1,19,1,%03d}}.conus.nc\"\n",
    "source_table = None\n",
    "target_table = 'ingest.nwm_channel_rt_srf_past_2h'\n",
    "target_keys = '(feature_id, streamflow)'\n",
    "file_step = None\n",
    "file_window = None\n",
    "\n",
    "update_service_data_flows(service, flow_id, step, source_table, target_table, target_keys, file_step=file_step, file_window=file_window, file_format=file_format)\n",
    "\n",
    "flow_id = '4'\n",
    "step = 'ingest'\n",
    "file_format = \"common/data/model/com/nwm/prod/nwm.{{datetime:reftime-3H, %Y%m%d}}/short_range/nwm.t{{datetime:reftime-3H, %H}}z.short_range.channel_rt.f{{range:1,19,1,%03d}}.conus.nc\"\n",
    "source_table = None\n",
    "target_table = 'ingest.nwm_channel_rt_srf_past_3h'\n",
    "target_keys = '(feature_id, streamflow)'\n",
    "file_step = None\n",
    "file_window = None\n",
    "\n",
    "update_service_data_flows(service, flow_id, step, source_table, target_table, target_keys, file_step=file_step, file_window=file_window, file_format=file_format)\n",
    "\n",
    "flow_id = '5'\n",
    "step = 'ingest'\n",
    "file_format = \"common/data/model/com/nwm/prod/nwm.{{datetime:reftime-4H, %Y%m%d}}/short_range/nwm.t{{datetime:reftime-4H, %H}}z.short_range.channel_rt.f{{range:1,19,1,%03d}}.conus.nc\"\n",
    "source_table = None\n",
    "target_table = 'ingest.nwm_channel_rt_srf_past_4h'\n",
    "target_keys = '(feature_id, streamflow)'\n",
    "file_step = None\n",
    "file_window = None\n",
    "\n",
    "update_service_data_flows(service, flow_id, step, source_table, target_table, target_keys, file_step=file_step, file_window=file_window, file_format=file_format)\n",
    "\n",
    "flow_id = '6'\n",
    "step = 'ingest'\n",
    "file_format = \"common/data/model/com/nwm/prod/nwm.{{datetime:reftime-5H, %Y%m%d}}/short_range/nwm.t{{datetime:reftime-5H, %H}}z.short_range.channel_rt.f{{range:1,19,1,%03d}}.conus.nc\"\n",
    "source_table = None\n",
    "target_table = 'ingest.nwm_channel_rt_srf_past_5h'\n",
    "target_keys = '(feature_id, streamflow)'\n",
    "file_step = None\n",
    "file_window = None\n",
    "\n",
    "update_service_data_flows(service, flow_id, step, source_table, target_table, target_keys, file_step=file_step, file_window=file_window, file_format=file_format)\n",
    "\n",
    "flow_id = '7'\n",
    "step = 'ingest'\n",
    "file_format = \"common/data/model/com/nwm/prod/nwm.{{datetime:reftime-6H, %Y%m%d}}/short_range/nwm.t{{datetime:reftime-6H, %H}}z.short_range.channel_rt.f{{range:1,19,1,%03d}}.conus.nc\"\n",
    "source_table = None\n",
    "target_table = 'ingest.nwm_channel_rt_srf_past_6h'\n",
    "target_keys = '(feature_id, streamflow)'\n",
    "file_step = None\n",
    "file_window = None\n",
    "\n",
    "update_service_data_flows(service, flow_id, step, source_table, target_table, target_keys, file_step=file_step, file_window=file_window, file_format=file_format)"
   ]
  },
  {
   "cell_type": "markdown",
   "id": "c08bb31e",
   "metadata": {},
   "source": [
    "<h3>Short-Range Rapid Onset Flooding Probability Forecast - Para</h3>"
   ]
  },
  {
   "cell_type": "code",
   "execution_count": 105,
   "id": "ad978d51",
   "metadata": {},
   "outputs": [
    {
     "name": "stdout",
     "output_type": "stream",
     "text": [
      "This result object does not return rows. It has been closed automatically.\n",
      "This result object does not return rows. It has been closed automatically.\n",
      "This result object does not return rows. It has been closed automatically.\n",
      "This result object does not return rows. It has been closed automatically.\n",
      "This result object does not return rows. It has been closed automatically.\n",
      "This result object does not return rows. It has been closed automatically.\n",
      "This result object does not return rows. It has been closed automatically.\n",
      "This result object does not return rows. It has been closed automatically.\n",
      "This result object does not return rows. It has been closed automatically.\n",
      "This result object does not return rows. It has been closed automatically.\n",
      "This result object does not return rows. It has been closed automatically.\n",
      "This result object does not return rows. It has been closed automatically.\n",
      "This result object does not return rows. It has been closed automatically.\n",
      "This result object does not return rows. It has been closed automatically.\n",
      "This result object does not return rows. It has been closed automatically.\n",
      "This result object does not return rows. It has been closed automatically.\n"
     ]
    }
   ],
   "source": [
    "service = 'srf_rapid_onset_flooding_probability_para'\n",
    "configuration = 'short_range_para'\n",
    "postprocess_max_flows = None\n",
    "postprocess_service = None\n",
    "postprocess_summary = None\n",
    "summary = 'Short-Range Rapid Onset Flooding Probability Forecast'\n",
    "description = 'Depicts the probability of forecast rapid onset flooding over the next 18 hours using a time-lagged ensemble from the short-range configuration of the National Water Model (NWM) over the contiguous U.S. Shown are reaches (stream order 4 and below) that are expected to meet rapid onset flooding criteria (flow increase of 100% or greater within one hour and high water threshold conditions within 6 hours) using the most recent 7 forecasts. Reaches are colored by the probability that they will meet or exceed rapid onset conditions within hours 1-6, 7-12, and 1-12. Probabilities are computed as the % agreement across the 7 ensemble members that a given reach will meet rapid onset criteria at some point during the time period of interest. Hotspots show the average 1-12 hour rapid onset flooding probability, weighted by reach length, for USGS HUC10 basins with greater than 10% of NWM feature length meeting rapid onset criteria in the next 12 hours. High water thresholds (regionally varied) were derived using the 40-year NWM v2.1 reanalysis simulation. Updated hourly.'\n",
    "tags = 'short,range,forecast,streamflow,rapid,onset,flood,probability,national,water,model,nwm'\n",
    "credits = 'National Water Model, NOAA/NWS National Water Center'\n",
    "egis_server = 'server'\n",
    "egis_folder = 'para'\n",
    "fim_service = False\n",
    "feature_service = True\n",
    "run = False\n",
    "fim_configs = None\n",
    "public_service = True\n",
    "max_flow_method = \"pipeline\"\n",
    "\n",
    "update_service_metadata(service, configuration, summary, description, tags, credits, egis_server, egis_folder, max_flows_sql_name=postprocess_max_flows, service_sql_name=postprocess_service, summary_sql_name=postprocess_summary, fim_service=fim_service, feature_service=feature_service, run=run, fim_configs=fim_configs, public_service=public_service, max_flow_method=max_flow_method)\n",
    "\n",
    "flow_id = '1'\n",
    "step = 'ingest'\n",
    "file_format = \"common/data/model/com/nwm/para/nwm.{{datetime:%Y%m%d}}/short_range/nwm.t{{datetime:%H}}z.short_range.channel_rt.f{{range:1,19,1,%03d}}.conus.nc\"\n",
    "source_table = None\n",
    "target_table = 'ingest.nwm_channel_rt_srf_para'\n",
    "target_keys = '(feature_id, streamflow)'\n",
    "file_step = None\n",
    "file_window = None\n",
    "\n",
    "update_service_data_flows(service, flow_id, step, source_table, target_table, target_keys, file_step=file_step, file_window=file_window, file_format=file_format)\n",
    "\n",
    "flow_id = '2'\n",
    "step = 'ingest'\n",
    "file_format = \"common/data/model/com/nwm/para/nwm.{{datetime:reftime-1H, %Y%m%d}}/short_range/nwm.t{{datetime:reftime-1H, %H}}z.short_range.channel_rt.f{{range:1,19,1,%03d}}.conus.nc\"\n",
    "source_table = None\n",
    "target_table = 'ingest.nwm_channel_rt_srf_past_1h_para'\n",
    "target_keys = '(feature_id, streamflow)'\n",
    "file_step = None\n",
    "file_window = None\n",
    "\n",
    "update_service_data_flows(service, flow_id, step, source_table, target_table, target_keys, file_step=file_step, file_window=file_window, file_format=file_format)\n",
    "\n",
    "flow_id = '3'\n",
    "step = 'ingest'\n",
    "file_format = \"common/data/model/com/nwm/para/nwm.{{datetime:reftime-2H, %Y%m%d}}/short_range/nwm.t{{datetime:reftime-2H, %H}}z.short_range.channel_rt.f{{range:1,19,1,%03d}}.conus.nc\"\n",
    "source_table = None\n",
    "target_table = 'ingest.nwm_channel_rt_srf_past_2h_para'\n",
    "target_keys = '(feature_id, streamflow)'\n",
    "file_step = None\n",
    "file_window = None\n",
    "\n",
    "update_service_data_flows(service, flow_id, step, source_table, target_table, target_keys, file_step=file_step, file_window=file_window, file_format=file_format)\n",
    "\n",
    "flow_id = '4'\n",
    "step = 'ingest'\n",
    "file_format = \"common/data/model/com/nwm/para/nwm.{{datetime:reftime-3H, %Y%m%d}}/short_range/nwm.t{{datetime:reftime-3H, %H}}z.short_range.channel_rt.f{{range:1,19,1,%03d}}.conus.nc\"\n",
    "source_table = None\n",
    "target_table = 'ingest.nwm_channel_rt_srf_past_3h_para'\n",
    "target_keys = '(feature_id, streamflow)'\n",
    "file_step = None\n",
    "file_window = None\n",
    "\n",
    "update_service_data_flows(service, flow_id, step, source_table, target_table, target_keys, file_step=file_step, file_window=file_window, file_format=file_format)\n",
    "\n",
    "flow_id = '5'\n",
    "step = 'ingest'\n",
    "file_format = \"common/data/model/com/nwm/para/nwm.{{datetime:reftime-4H, %Y%m%d}}/short_range/nwm.t{{datetime:reftime-4H, %H}}z.short_range.channel_rt.f{{range:1,19,1,%03d}}.conus.nc\"\n",
    "source_table = None\n",
    "target_table = 'ingest.nwm_channel_rt_srf_past_4h_para'\n",
    "target_keys = '(feature_id, streamflow)'\n",
    "file_step = None\n",
    "file_window = None\n",
    "\n",
    "update_service_data_flows(service, flow_id, step, source_table, target_table, target_keys, file_step=file_step, file_window=file_window, file_format=file_format)\n",
    "\n",
    "flow_id = '6'\n",
    "step = 'ingest'\n",
    "file_format = \"common/data/model/com/nwm/para/nwm.{{datetime:reftime-5H, %Y%m%d}}/short_range/nwm.t{{datetime:reftime-5H, %H}}z.short_range.channel_rt.f{{range:1,19,1,%03d}}.conus.nc\"\n",
    "source_table = None\n",
    "target_table = 'ingest.nwm_channel_rt_srf_past_5h_para'\n",
    "target_keys = '(feature_id, streamflow)'\n",
    "file_step = None\n",
    "file_window = None\n",
    "\n",
    "update_service_data_flows(service, flow_id, step, source_table, target_table, target_keys, file_step=file_step, file_window=file_window, file_format=file_format)\n",
    "\n",
    "flow_id = '7'\n",
    "step = 'ingest'\n",
    "file_format = \"common/data/model/com/nwm/para/nwm.{{datetime:reftime-6H, %Y%m%d}}/short_range/nwm.t{{datetime:reftime-6H, %H}}z.short_range.channel_rt.f{{range:1,19,1,%03d}}.conus.nc\"\n",
    "source_table = None\n",
    "target_table = 'ingest.nwm_channel_rt_srf_past_6h_para'\n",
    "target_keys = '(feature_id, streamflow)'\n",
    "file_step = None\n",
    "file_window = None\n",
    "\n",
    "update_service_data_flows(service, flow_id, step, source_table, target_table, target_keys, file_step=file_step, file_window=file_window, file_format=file_format)"
   ]
  },
  {
   "cell_type": "markdown",
   "id": "d1ee6936",
   "metadata": {},
   "source": [
    "<h3>Short-Range Rate of Change</h3>"
   ]
  },
  {
   "cell_type": "code",
   "execution_count": 106,
   "id": "9cf5df77",
   "metadata": {},
   "outputs": [
    {
     "name": "stdout",
     "output_type": "stream",
     "text": [
      "This result object does not return rows. It has been closed automatically.\n",
      "This result object does not return rows. It has been closed automatically.\n",
      "This result object does not return rows. It has been closed automatically.\n",
      "This result object does not return rows. It has been closed automatically.\n"
     ]
    }
   ],
   "source": [
    "service = 'srf_rate_of_change'\n",
    "configuration = 'short_range'\n",
    "postprocess_max_flows = None\n",
    "postprocess_service = 'srf_rate_of_change'\n",
    "postprocess_summary = None\n",
    "summary = 'NWM 18-Hr Streamflow Rate of Change Forecast'\n",
    "description = 'Depicts expected change in discharge derived from the operational National Water Model (NWM) short-range forecast. Change is computed between the current streamflow and that expected over the next 18 hours at 3-hour intervals, and is only displayed for reaches that are expected to have flow at or above their high water threshold. High water thresholds (regionally varied) and AEPs were derived using the 40-year NWM v2.1 reanalysis simulation. Updated hourly.'\n",
    "tags = 'short,range,forecast,streamflow,rate,change,national,water,model,nwm'\n",
    "credits = 'National Water Model, NOAA/NWS National Water Center'\n",
    "egis_server = 'server'\n",
    "egis_folder = 'nwm'\n",
    "fim_service = False\n",
    "feature_service = False\n",
    "run = False\n",
    "fim_configs = None\n",
    "public_service = False\n",
    "max_flow_method = \"pipeline\"\n",
    "\n",
    "update_service_metadata(service, configuration, summary, description, tags, credits, egis_server, egis_folder, max_flows_sql_name=postprocess_max_flows, service_sql_name=postprocess_service, summary_sql_name=postprocess_summary, fim_service=fim_service, feature_service=feature_service, run=run, fim_configs=fim_configs, public_service=public_service, max_flow_method=max_flow_method)\n",
    "\n",
    "flow_id = '1'\n",
    "step = 'ingest'\n",
    "file_format = \"common/data/model/com/nwm/prod/nwm.{{datetime:%Y%m%d}}/short_range/nwm.t{{datetime:%H}}z.short_range.channel_rt.f{{range:1,19,1,%03d}}.conus.nc\"\n",
    "source_table = None\n",
    "target_table = 'ingest.nwm_channel_rt_srf'\n",
    "target_keys = '(feature_id, streamflow)'\n",
    "file_step = None\n",
    "file_window = None\n",
    "\n",
    "update_service_data_flows(service, flow_id, step, source_table, target_table, target_keys, file_step=file_step, file_window=file_window, file_format=file_format)"
   ]
  },
  {
   "cell_type": "markdown",
   "id": "4065d49f",
   "metadata": {},
   "source": [
    "<h3>Short-Range Rate of Change - Para</h3>"
   ]
  },
  {
   "cell_type": "code",
   "execution_count": 107,
   "id": "9bc5c0b1",
   "metadata": {},
   "outputs": [
    {
     "name": "stdout",
     "output_type": "stream",
     "text": [
      "This result object does not return rows. It has been closed automatically.\n",
      "This result object does not return rows. It has been closed automatically.\n",
      "This result object does not return rows. It has been closed automatically.\n",
      "This result object does not return rows. It has been closed automatically.\n"
     ]
    }
   ],
   "source": [
    "service = 'srf_rate_of_change_para'\n",
    "configuration = 'short_range_para'\n",
    "postprocess_max_flows = None\n",
    "postprocess_service = 'srf_rate_of_change_para'\n",
    "postprocess_summary = None\n",
    "summary = 'NWM 18-Hr Streamflow Rate of Change Forecast'\n",
    "description = 'Depicts expected change in discharge derived from the operational National Water Model (NWM) short-range forecast. Change is computed between the current streamflow and that expected over the next 18 hours at 3-hour intervals, and is only displayed for reaches that are expected to have flow at or above their high water threshold. High water thresholds (regionally varied) and AEPs were derived using the 40-year NWM v2.1 reanalysis simulation. Updated hourly.'\n",
    "tags = 'short,range,forecast,streamflow,rate,change,national,water,model,nwm'\n",
    "credits = 'National Water Model, NOAA/NWS National Water Center'\n",
    "egis_server = 'server'\n",
    "egis_folder = 'nwm'\n",
    "fim_service = False\n",
    "feature_service = False\n",
    "run = True\n",
    "fim_configs = None\n",
    "public_service = False\n",
    "max_flow_method = \"pipeline\"\n",
    "\n",
    "update_service_metadata(service, configuration, summary, description, tags, credits, egis_server, egis_folder, max_flows_sql_name=postprocess_max_flows, service_sql_name=postprocess_service, summary_sql_name=postprocess_summary, fim_service=fim_service, feature_service=feature_service, run=run, fim_configs=fim_configs, public_service=public_service, max_flow_method=max_flow_method)\n",
    "\n",
    "flow_id = '1'\n",
    "step = 'ingest'\n",
    "file_format = \"common/data/model/com/nwm/para/nwm.{{datetime:%Y%m%d}}/short_range/nwm.t{{datetime:%H}}z.short_range.channel_rt.f{{range:1,19,1,%03d}}.conus.nc\"\n",
    "source_table = None\n",
    "target_table = 'ingest.nwm_channel_rt_srf_para'\n",
    "target_keys = '(feature_id, streamflow)'\n",
    "file_step = None\n",
    "file_window = None\n",
    "\n",
    "update_service_data_flows(service, flow_id, step, source_table, target_table, target_keys, file_step=file_step, file_window=file_window, file_format=file_format)"
   ]
  },
  {
   "cell_type": "markdown",
   "id": "d504779e",
   "metadata": {},
   "source": [
    "<h2><b>Raster Services</b></h2>"
   ]
  },
  {
   "cell_type": "markdown",
   "id": "c1e7c499",
   "metadata": {},
   "source": [
    "<h3>Past 72-Hour Accumulated Precipitation</h3>"
   ]
  },
  {
   "cell_type": "code",
   "execution_count": 108,
   "id": "4202722f",
   "metadata": {},
   "outputs": [
    {
     "name": "stdout",
     "output_type": "stream",
     "text": [
      "This result object does not return rows. It has been closed automatically.\n",
      "This result object does not return rows. It has been closed automatically.\n",
      "This result object does not return rows. It has been closed automatically.\n",
      "This result object does not return rows. It has been closed automatically.\n"
     ]
    }
   ],
   "source": [
    "service = 'ana_72hr_accum_precip'\n",
    "configuration = 'forcing_analysis_assim'\n",
    "postprocess_max_flows = None\n",
    "postprocess_service = 'ana_72hr_accum_precip'\n",
    "postprocess_summary = None\n",
    "summary = 'MRMS Past 72-Hour Accumulated Precipitation'\n",
    "description = 'Depicts accumulated precipitation totals over the past 72 hours derived from the MRMS forcing for the operational National Water Model (NWM) analysis and assimilation. Updated hourly.'\n",
    "tags = 'mrms,accumulated,precipitation,national,water,model,nwm'\n",
    "credits = 'National Water Model, NOAA/NWS National Water Center'\n",
    "egis_server = 'image'\n",
    "egis_folder = 'nwm'\n",
    "fim_service = False\n",
    "feature_service = False\n",
    "run = False\n",
    "fim_configs = None\n",
    "public_service = False\n",
    "max_flow_method = \"pipeline\"\n",
    "\n",
    "update_service_metadata(service, configuration, summary, description, tags, credits, egis_server, egis_folder, max_flows_sql_name=postprocess_max_flows, service_sql_name=postprocess_service, summary_sql_name=postprocess_summary, fim_service=fim_service, feature_service=feature_service, run=run, fim_configs=fim_configs, public_service=public_service, max_flow_method=max_flow_method)\n",
    "\n",
    "flow_id = '1'\n",
    "step = 'ingest'\n",
    "file_format = 'common/data/model/com/nwm/prod/nwm.{{datetime:%Y%m%d}}/forcing_analysis_assim/nwm.t{{datetime:%H}}z.analysis_assim.forcing.tm00.conus.nc'\n",
    "source_table = None\n",
    "target_table = None\n",
    "target_keys = None\n",
    "file_step = '1H'\n",
    "file_window = 'P3D'\n",
    "\n",
    "update_service_data_flows(service, flow_id, step, source_table, target_table, target_keys, file_step=file_step, file_window=file_window, file_format=file_format)"
   ]
  },
  {
   "cell_type": "markdown",
   "id": "0660c592",
   "metadata": {},
   "source": [
    "<h3>Past 72-Hour Accumulated Precipitation - Para</h3>"
   ]
  },
  {
   "cell_type": "code",
   "execution_count": 109,
   "id": "eacbbe10",
   "metadata": {},
   "outputs": [
    {
     "name": "stdout",
     "output_type": "stream",
     "text": [
      "This result object does not return rows. It has been closed automatically.\n",
      "This result object does not return rows. It has been closed automatically.\n",
      "This result object does not return rows. It has been closed automatically.\n",
      "This result object does not return rows. It has been closed automatically.\n"
     ]
    }
   ],
   "source": [
    "service = 'ana_72hr_accum_precip_para'\n",
    "configuration = 'forcing_analysis_assim_para'\n",
    "postprocess_max_flows = None\n",
    "postprocess_service = 'ana_72hr_accum_precip_para'\n",
    "postprocess_summary = None\n",
    "summary = 'MRMS Past 72-Hour Accumulated Precipitation'\n",
    "description = 'Depicts accumulated precipitation totals over the past 72 hours derived from the MRMS forcing for the operational National Water Model (NWM) analysis and assimilation. Updated hourly.'\n",
    "tags = 'mrms,accumulated,precipitation,national,water,model,nwm'\n",
    "credits = 'National Water Model, NOAA/NWS National Water Center'\n",
    "egis_server = 'image'\n",
    "egis_folder = 'para'\n",
    "fim_service = False\n",
    "feature_service = False\n",
    "run = True\n",
    "fim_configs = None\n",
    "public_service = False\n",
    "max_flow_method = \"pipeline\"\n",
    "\n",
    "update_service_metadata(service, configuration, summary, description, tags, credits, egis_server, egis_folder, max_flows_sql_name=postprocess_max_flows, service_sql_name=postprocess_service, summary_sql_name=postprocess_summary, fim_service=fim_service, feature_service=feature_service, run=run, fim_configs=fim_configs, public_service=public_service, max_flow_method=max_flow_method)\n",
    "\n",
    "flow_id = '1'\n",
    "step = 'ingest'\n",
    "file_format = 'common/data/model/com/nwm/para/nwm.{{datetime:%Y%m%d}}/forcing_analysis_assim/nwm.t{{datetime:%H}}z.analysis_assim.forcing.tm00.conus.nc'\n",
    "source_table = None\n",
    "target_table = None\n",
    "target_keys = None\n",
    "file_step = '1H'\n",
    "file_window = 'P3D'\n",
    "\n",
    "update_service_data_flows(service, flow_id, step, source_table, target_table, target_keys, file_step=file_step, file_window=file_window, file_format=file_format)"
   ]
  },
  {
   "cell_type": "markdown",
   "id": "c13f4477",
   "metadata": {},
   "source": [
    "<h3>Past 72-Hour Accumulated Precipitation - Hawaii</h3>"
   ]
  },
  {
   "cell_type": "code",
   "execution_count": 110,
   "id": "39030db5",
   "metadata": {},
   "outputs": [
    {
     "name": "stdout",
     "output_type": "stream",
     "text": [
      "This result object does not return rows. It has been closed automatically.\n",
      "This result object does not return rows. It has been closed automatically.\n",
      "This result object does not return rows. It has been closed automatically.\n",
      "This result object does not return rows. It has been closed automatically.\n"
     ]
    }
   ],
   "source": [
    "service = 'ana_72hr_accum_precip_hi'\n",
    "configuration = 'forcing_analysis_assim_hawaii'\n",
    "postprocess_max_flows = None\n",
    "postprocess_service = 'ana_72hr_accum_precip_hi'\n",
    "postprocess_summary = None\n",
    "summary = 'NAM-NEST NWP Past 72-Hour Accumulated Precipitation - Hawaii'\n",
    "description = 'Depicts accumulated precipitation totals over the past 72 hours derived from the NAM-NEST NWP forcing for the operational National Water Model (NWM) analysis and assimilation for the state of Hawaii. Updated hourly.'\n",
    "tags = 'mrms,accumulated,precipitation,national,water,model,nwm,hawaii,hi'\n",
    "credits = 'National Water Model, NOAA/NWS National Water Center'\n",
    "egis_server = 'image'\n",
    "egis_folder = 'nwm'\n",
    "fim_service = False\n",
    "feature_service = False\n",
    "run = False\n",
    "fim_configs = None\n",
    "public_service = False\n",
    "max_flow_method = \"pipeline\"\n",
    "\n",
    "update_service_metadata(service, configuration, summary, description, tags, credits, egis_server, egis_folder, max_flows_sql_name=postprocess_max_flows, service_sql_name=postprocess_service, summary_sql_name=postprocess_summary, fim_service=fim_service, feature_service=feature_service, run=run, fim_configs=fim_configs, public_service=public_service, max_flow_method=max_flow_method)\n",
    "\n",
    "flow_id = '1'\n",
    "step = 'ingest'\n",
    "file_format = 'common/data/model/com/nwm/prod/nwm.{{datetime:%Y%m%d}}/forcing_analysis_assim_hawaii/nwm.t{{datetime:%H}}z.analysis_assim.forcing.tm00.hawaii.nc'\n",
    "source_table = None\n",
    "target_table = None\n",
    "target_keys = None\n",
    "file_step = '1H'\n",
    "file_window = 'P3D'\n",
    "\n",
    "update_service_data_flows(service, flow_id, step, source_table, target_table, target_keys, file_step=file_step, file_window=file_window, file_format=file_format)"
   ]
  },
  {
   "cell_type": "markdown",
   "id": "7b34dda9",
   "metadata": {},
   "source": [
    "<h3>Past 72-Hour Accumulated Precipitation - Hawaii - Para</h3>"
   ]
  },
  {
   "cell_type": "code",
   "execution_count": 111,
   "id": "86eaee19",
   "metadata": {},
   "outputs": [
    {
     "name": "stdout",
     "output_type": "stream",
     "text": [
      "This result object does not return rows. It has been closed automatically.\n",
      "This result object does not return rows. It has been closed automatically.\n",
      "This result object does not return rows. It has been closed automatically.\n",
      "This result object does not return rows. It has been closed automatically.\n"
     ]
    }
   ],
   "source": [
    "service = 'ana_72hr_accum_precip_hi_para'\n",
    "configuration = 'forcing_analysis_assim_hawaii_para'\n",
    "postprocess_max_flows = None\n",
    "postprocess_service = 'ana_72hr_accum_precip_hi_para'\n",
    "postprocess_summary = None\n",
    "summary = 'NAM-NEST NWP Past 72-Hour Accumulated Precipitation - Hawaii'\n",
    "description = 'Depicts accumulated precipitation totals over the past 72 hours derived from the NAM-NEST NWP forcing for the operational National Water Model (NWM) analysis and assimilation for the state of Hawaii. Updated hourly.'\n",
    "tags = 'mrms,accumulated,precipitation,national,water,model,nwm,hawaii,hi'\n",
    "credits = 'National Water Model, NOAA/NWS National Water Center'\n",
    "egis_server = 'image'\n",
    "egis_folder = 'para'\n",
    "fim_service = False\n",
    "feature_service = False\n",
    "run = True\n",
    "fim_configs = None\n",
    "public_service = False\n",
    "max_flow_method = \"pipeline\"\n",
    "\n",
    "update_service_metadata(service, configuration, summary, description, tags, credits, egis_server, egis_folder, max_flows_sql_name=postprocess_max_flows, service_sql_name=postprocess_service, summary_sql_name=postprocess_summary, fim_service=fim_service, feature_service=feature_service, run=run, fim_configs=fim_configs, public_service=public_service, max_flow_method=max_flow_method)\n",
    "\n",
    "flow_id = '1'\n",
    "step = 'ingest'\n",
    "file_format = 'common/data/model/com/nwm/para/nwm.{{datetime:%Y%m%d}}/forcing_analysis_assim_hawaii/nwm.t{{datetime:%H}}z.analysis_assim.forcing.tm00.hawaii.nc'\n",
    "source_table = None\n",
    "target_table = None\n",
    "target_keys = None\n",
    "file_step = '1H'\n",
    "file_window = 'P3D'\n",
    "\n",
    "update_service_data_flows(service, flow_id, step, source_table, target_table, target_keys, file_step=file_step, file_window=file_window, file_format=file_format)"
   ]
  },
  {
   "cell_type": "markdown",
   "id": "d66841cb",
   "metadata": {},
   "source": [
    "<h3>Past 72-Hour Accumulated Precipitation - PR/VI</h3>"
   ]
  },
  {
   "cell_type": "code",
   "execution_count": 112,
   "id": "0a946d3c",
   "metadata": {},
   "outputs": [
    {
     "name": "stdout",
     "output_type": "stream",
     "text": [
      "This result object does not return rows. It has been closed automatically.\n",
      "This result object does not return rows. It has been closed automatically.\n",
      "This result object does not return rows. It has been closed automatically.\n",
      "This result object does not return rows. It has been closed automatically.\n"
     ]
    }
   ],
   "source": [
    "service = 'ana_72hr_accum_precip_prvi'\n",
    "configuration = 'forcing_analysis_assim_puertorico'\n",
    "postprocess_max_flows = None\n",
    "postprocess_service = 'ana_72hr_accum_precip_prvi'\n",
    "postprocess_summary = None\n",
    "summary = 'NAM-NEST and HIRES WRF-ARW NWP Past 72-Hour Accumulated Precipitation - Puerto Rico and Virgin Islands'\n",
    "description = 'Depicts accumulated precipitation totals over the past 72 hours derived from the NAM-NEST and HIRES WRF-ARW NWP forcing for the operational National Water Model (NWM) analysis and assimilation for Puerto Rico and the U.S. Virgin Islands. Updated hourly.'\n",
    "tags = 'mrms,accumulated,precipitation,national,water,model,nwm,puerto,rico,virgin,islands,prvi'\n",
    "credits = 'National Water Model, NOAA/NWS National Water Center'\n",
    "egis_server = 'image'\n",
    "egis_folder = 'nwm'\n",
    "fim_service = False\n",
    "feature_service = False\n",
    "run = False\n",
    "fim_configs = None\n",
    "public_service = False\n",
    "max_flow_method = \"pipeline\"\n",
    "\n",
    "update_service_metadata(service, configuration, summary, description, tags, credits, egis_server, egis_folder, max_flows_sql_name=postprocess_max_flows, service_sql_name=postprocess_service, summary_sql_name=postprocess_summary, fim_service=fim_service, feature_service=feature_service, run=run, fim_configs=fim_configs, public_service=public_service, max_flow_method=max_flow_method)\n",
    "\n",
    "flow_id = '1'\n",
    "step = 'ingest'\n",
    "file_format = 'common/data/model/com/nwm/prod/nwm.{{datetime:%Y%m%d}}/forcing_analysis_assim_puertorico/nwm.t{{datetime:%H}}z.analysis_assim.forcing.tm00.puertorico.nc'\n",
    "source_table = None\n",
    "target_table = None\n",
    "target_keys = None\n",
    "file_step = '1H'\n",
    "file_window = 'P3D'\n",
    "\n",
    "update_service_data_flows(service, flow_id, step, source_table, target_table, target_keys, file_step=file_step, file_window=file_window, file_format=file_format)"
   ]
  },
  {
   "cell_type": "markdown",
   "id": "07243656",
   "metadata": {},
   "source": [
    "<h3>Past 72-Hour Accumulated Precipitation - PR/VI - Para</h3>"
   ]
  },
  {
   "cell_type": "code",
   "execution_count": 113,
   "id": "ac60d95b",
   "metadata": {},
   "outputs": [
    {
     "name": "stdout",
     "output_type": "stream",
     "text": [
      "This result object does not return rows. It has been closed automatically.\n",
      "This result object does not return rows. It has been closed automatically.\n",
      "This result object does not return rows. It has been closed automatically.\n",
      "This result object does not return rows. It has been closed automatically.\n"
     ]
    }
   ],
   "source": [
    "service = 'ana_72hr_accum_precip_prvi_para'\n",
    "configuration = 'forcing_analysis_assim_puertorico_para'\n",
    "postprocess_max_flows = None\n",
    "postprocess_service = 'ana_72hr_accum_precip_prvi_para'\n",
    "postprocess_summary = None\n",
    "summary = 'NAM-NEST and HIRES WRF-ARW NWP Past 72-Hour Accumulated Precipitation - Puerto Rico and Virgin Islands'\n",
    "description = 'Depicts accumulated precipitation totals over the past 72 hours derived from the NAM-NEST and HIRES WRF-ARW NWP forcing for the operational National Water Model (NWM) analysis and assimilation for Puerto Rico and the U.S. Virgin Islands. Updated hourly.'\n",
    "tags = 'mrms,accumulated,precipitation,national,water,model,nwm,puerto,rico,virgin,islands,prvi'\n",
    "credits = 'National Water Model, NOAA/NWS National Water Center'\n",
    "egis_server = 'image'\n",
    "egis_folder = 'para'\n",
    "fim_service = False\n",
    "feature_service = False\n",
    "run = True\n",
    "fim_configs = None\n",
    "public_service = False\n",
    "max_flow_method = \"pipeline\"\n",
    "\n",
    "update_service_metadata(service, configuration, summary, description, tags, credits, egis_server, egis_folder, max_flows_sql_name=postprocess_max_flows, service_sql_name=postprocess_service, summary_sql_name=postprocess_summary, fim_service=fim_service, feature_service=feature_service, run=run, fim_configs=fim_configs, public_service=public_service, max_flow_method=max_flow_method)\n",
    "\n",
    "flow_id = '1'\n",
    "step = 'ingest'\n",
    "file_format = 'common/data/model/com/nwm/para/nwm.{{datetime:%Y%m%d}}/forcing_analysis_assim_puertorico/nwm.t{{datetime:%H}}z.analysis_assim.forcing.tm00.puertorico.nc'\n",
    "source_table = None\n",
    "target_table = None\n",
    "target_keys = None\n",
    "file_step = '1H'\n",
    "file_window = 'P3D'\n",
    "\n",
    "update_service_data_flows(service, flow_id, step, source_table, target_table, target_keys, file_step=file_step, file_window=file_window, file_format=file_format)"
   ]
  },
  {
   "cell_type": "markdown",
   "id": "ff9001bd",
   "metadata": {},
   "source": [
    "<h3>Medium-Range Accumulated Precipitation</h3>"
   ]
  },
  {
   "cell_type": "code",
   "execution_count": 114,
   "id": "8babebed",
   "metadata": {},
   "outputs": [
    {
     "name": "stdout",
     "output_type": "stream",
     "text": [
      "This result object does not return rows. It has been closed automatically.\n",
      "This result object does not return rows. It has been closed automatically.\n",
      "This result object does not return rows. It has been closed automatically.\n",
      "This result object does not return rows. It has been closed automatically.\n"
     ]
    }
   ],
   "source": [
    "service = 'mrf_accum_precip'\n",
    "configuration = 'forcing_medium_range'\n",
    "postprocess_max_flows = None\n",
    "postprocess_service = 'mrf_accum_precip'\n",
    "postprocess_summary = None\n",
    "summary = 'Medium-Range Accumulated Precipitation Forecast'\n",
    "description = 'Depicts expected accumulated precipitation totals over the next 10 days derived from the GFS forcing for the operational National Water Model (NWM) medium-range forecast. Data for each interval can be seen by using a filter to select the name of the desired layer. Updated every 6 hours.'\n",
    "tags = 'streamflow,national,water,model,nwm'\n",
    "credits = 'National Water Model, NOAA/NWS National Water Center'\n",
    "egis_server = 'image'\n",
    "egis_folder = 'nwm'\n",
    "fim_service = False\n",
    "feature_service = False\n",
    "run = False\n",
    "fim_configs = None\n",
    "public_service = False\n",
    "max_flow_method = \"pipeline\"\n",
    "\n",
    "update_service_metadata(service, configuration, summary, description, tags, credits, egis_server, egis_folder, max_flows_sql_name=postprocess_max_flows, service_sql_name=postprocess_service, summary_sql_name=postprocess_summary, fim_service=fim_service, feature_service=feature_service, run=run, fim_configs=fim_configs, public_service=public_service, max_flow_method=max_flow_method)\n",
    "\n",
    "flow_id = '1'\n",
    "step = 'ingest'\n",
    "file_format = 'common/data/model/com/nwm/prod/nwm.{{datetime:%Y%m%d}}/forcing_medium_range/nwm.t{{datetime:%H}}z.medium_range.forcing.f{{range:1,241,1,%03d}}.conus.nc'\n",
    "source_table = None\n",
    "target_table = None\n",
    "target_keys = None\n",
    "file_step = None\n",
    "file_window = None\n",
    "\n",
    "update_service_data_flows(service, flow_id, step, source_table, target_table, target_keys, file_step=file_step, file_window=file_window, file_format=file_format)"
   ]
  },
  {
   "cell_type": "markdown",
   "id": "5cf8e445",
   "metadata": {},
   "source": [
    "<h3>Medium-Range GFS Accumulated Precipitation</h3>"
   ]
  },
  {
   "cell_type": "code",
   "execution_count": 115,
   "id": "fd00df2d",
   "metadata": {},
   "outputs": [
    {
     "name": "stdout",
     "output_type": "stream",
     "text": [
      "This result object does not return rows. It has been closed automatically.\n",
      "This result object does not return rows. It has been closed automatically.\n",
      "This result object does not return rows. It has been closed automatically.\n",
      "This result object does not return rows. It has been closed automatically.\n"
     ]
    }
   ],
   "source": [
    "service = 'mrf_gfs_accum_precip'\n",
    "configuration = 'forcing_medium_range'\n",
    "postprocess_max_flows = None\n",
    "postprocess_service = 'mrf_gfs_accum_precip'\n",
    "postprocess_summary = None\n",
    "summary = 'Medium-Range GFS Accumulated Precipitation Forecast'\n",
    "description = 'Depicts expected accumulated precipitation totals over the next 10 days derived from the GFS forcing for the operational National Water Model (NWM) medium-range forecast. Data for each interval can be seen by using a filter to select the name of the desired layer. Updated every 6 hours.'\n",
    "tags = 'streamflow,national,water,model,nwm,gfs'\n",
    "credits = 'National Water Model, NOAA/NWS National Water Center'\n",
    "egis_server = 'image'\n",
    "egis_folder = 'nwm'\n",
    "fim_service = False\n",
    "feature_service = False\n",
    "run = False\n",
    "fim_configs = None\n",
    "public_service = False\n",
    "max_flow_method = \"pipeline\"\n",
    "\n",
    "update_service_metadata(service, configuration, summary, description, tags, credits, egis_server, egis_folder, max_flows_sql_name=postprocess_max_flows, service_sql_name=postprocess_service, summary_sql_name=postprocess_summary, fim_service=fim_service, feature_service=feature_service, run=run, fim_configs=fim_configs, public_service=public_service, max_flow_method=max_flow_method)\n",
    "\n",
    "flow_id = '1'\n",
    "step = 'ingest'\n",
    "file_format = 'common/data/model/com/nwm/prod/nwm.{{datetime:%Y%m%d}}/forcing_medium_range/nwm.t{{datetime:%H}}z.medium_range.forcing.f{{range:1,241,1,%03d}}.conus.nc'\n",
    "source_table = None\n",
    "target_table = None\n",
    "target_keys = None\n",
    "file_step = None\n",
    "file_window = None\n",
    "\n",
    "update_service_data_flows(service, flow_id, step, source_table, target_table, target_keys, file_step=file_step, file_window=file_window, file_format=file_format)"
   ]
  },
  {
   "cell_type": "markdown",
   "id": "6e8024ec",
   "metadata": {},
   "source": [
    "<h3>Medium-Range GFS Accumulated Precipitation - Para</h3>"
   ]
  },
  {
   "cell_type": "code",
   "execution_count": 116,
   "id": "6fa9add3",
   "metadata": {},
   "outputs": [
    {
     "name": "stdout",
     "output_type": "stream",
     "text": [
      "This result object does not return rows. It has been closed automatically.\n",
      "This result object does not return rows. It has been closed automatically.\n",
      "This result object does not return rows. It has been closed automatically.\n",
      "This result object does not return rows. It has been closed automatically.\n"
     ]
    }
   ],
   "source": [
    "service = 'mrf_gfs_accum_precip_para'\n",
    "configuration = 'forcing_medium_range_gfs_para'\n",
    "postprocess_max_flows = None\n",
    "postprocess_service = 'mrf_gfs_accum_precip_para'\n",
    "postprocess_summary = None\n",
    "summary = 'Medium-Range GFS Accumulated Precipitation Forecast'\n",
    "description = 'Depicts expected accumulated precipitation totals over the next 10 days derived from the GFS forcing for the operational National Water Model (NWM) medium-range forecast. Data for each interval can be seen by using a filter to select the name of the desired layer. Updated every 6 hours.'\n",
    "tags = 'streamflow,national,water,model,nwm,gfs'\n",
    "credits = 'National Water Model, NOAA/NWS National Water Center'\n",
    "egis_server = 'image'\n",
    "egis_folder = 'para'\n",
    "fim_service = False\n",
    "feature_service = False\n",
    "run = True\n",
    "fim_configs = None\n",
    "public_service = False\n",
    "max_flow_method = \"pipeline\"\n",
    "\n",
    "update_service_metadata(service, configuration, summary, description, tags, credits, egis_server, egis_folder, max_flows_sql_name=postprocess_max_flows, service_sql_name=postprocess_service, summary_sql_name=postprocess_summary, fim_service=fim_service, feature_service=feature_service, run=run, fim_configs=fim_configs, public_service=public_service, max_flow_method=max_flow_method)\n",
    "\n",
    "flow_id = '1'\n",
    "step = 'ingest'\n",
    "file_format = 'common/data/model/com/nwm/para/nwm.{{datetime:%Y%m%d}}/forcing_medium_range/nwm.t{{datetime:%H}}z.medium_range.forcing.f{{range:1,241,1,%03d}}.conus.nc'\n",
    "source_table = None\n",
    "target_table = None\n",
    "target_keys = None\n",
    "file_step = None\n",
    "file_window = None\n",
    "\n",
    "update_service_data_flows(service, flow_id, step, source_table, target_table, target_keys, file_step=file_step, file_window=file_window, file_format=file_format)"
   ]
  },
  {
   "cell_type": "markdown",
   "id": "04621504",
   "metadata": {},
   "source": [
    "<h3>Medium-Range NBM Accumulated Precipitation</h3>"
   ]
  },
  {
   "cell_type": "code",
   "execution_count": 117,
   "id": "85dbcbcb",
   "metadata": {},
   "outputs": [
    {
     "name": "stdout",
     "output_type": "stream",
     "text": [
      "This result object does not return rows. It has been closed automatically.\n",
      "This result object does not return rows. It has been closed automatically.\n",
      "This result object does not return rows. It has been closed automatically.\n",
      "This result object does not return rows. It has been closed automatically.\n"
     ]
    }
   ],
   "source": [
    "service = 'mrf_nbm_accum_precip'\n",
    "configuration = 'forcing_medium_range_blend'\n",
    "postprocess_max_flows = None\n",
    "postprocess_service = 'mrf_nbm_accum_precip'\n",
    "postprocess_summary = None\n",
    "summary = 'Medium-Range NBM Accumulated Precipitation Forecast'\n",
    "description = 'Depicts expected accumulated precipitation totals over the next 10 days derived from the NBM forcing for the operational National Water Model (NWM) medium-range forecast. Data for each interval can be seen by using a filter to select the name of the desired layer. Updated every 6 hours.'\n",
    "tags = 'streamflow,national,water,model,nwm, nbm'\n",
    "credits = 'National Water Model, NOAA/NWS National Water Center'\n",
    "egis_server = 'image'\n",
    "egis_folder = 'nwm'\n",
    "fim_service = False\n",
    "feature_service = False\n",
    "run = False\n",
    "fim_configs = None\n",
    "public_service = False\n",
    "max_flow_method = \"pipeline\"\n",
    "\n",
    "update_service_metadata(service, configuration, summary, description, tags, credits, egis_server, egis_folder, max_flows_sql_name=postprocess_max_flows, service_sql_name=postprocess_service, summary_sql_name=postprocess_summary, fim_service=fim_service, feature_service=feature_service, run=run, fim_configs=fim_configs, public_service=public_service, max_flow_method=max_flow_method)\n",
    "\n",
    "flow_id = '1'\n",
    "step = 'ingest'\n",
    "file_format = 'common/data/model/com/nwm/prod/nwm.{{datetime:%Y%m%d}}/forcing_medium_range_blend/nwm.t{{datetime:%H}}z.medium_range_blend.forcing.f{{range:1,241,1,%03d}}.conus.nc'\n",
    "source_table = None\n",
    "target_table = None\n",
    "target_keys = None\n",
    "file_step = None\n",
    "file_window = None\n",
    "\n",
    "update_service_data_flows(service, flow_id, step, source_table, target_table, target_keys, file_step=file_step, file_window=file_window, file_format=file_format)"
   ]
  },
  {
   "cell_type": "markdown",
   "id": "514efb53",
   "metadata": {},
   "source": [
    "<h3>Medium-Range NBM Accumulated Precipitation - Para</h3>"
   ]
  },
  {
   "cell_type": "code",
   "execution_count": 118,
   "id": "bbfd76d3",
   "metadata": {},
   "outputs": [
    {
     "name": "stdout",
     "output_type": "stream",
     "text": [
      "This result object does not return rows. It has been closed automatically.\n",
      "This result object does not return rows. It has been closed automatically.\n",
      "This result object does not return rows. It has been closed automatically.\n",
      "This result object does not return rows. It has been closed automatically.\n"
     ]
    }
   ],
   "source": [
    "service = 'mrf_nbm_accum_precip_para'\n",
    "configuration = 'forcing_medium_range_nbm_para'\n",
    "postprocess_max_flows = None\n",
    "postprocess_service = 'mrf_nbm_accum_precip_para'\n",
    "postprocess_summary = None\n",
    "summary = 'Medium-Range NBM Accumulated Precipitation Forecast'\n",
    "description = 'Depicts expected accumulated precipitation totals over the next 10 days derived from the NBM forcing for the operational National Water Model (NWM) medium-range forecast. Data for each interval can be seen by using a filter to select the name of the desired layer. Updated every 6 hours.'\n",
    "tags = 'streamflow,national,water,model,nwm,nbm'\n",
    "credits = 'National Water Model, NOAA/NWS National Water Center'\n",
    "egis_server = 'image'\n",
    "egis_folder = 'para'\n",
    "fim_service = False\n",
    "feature_service = False\n",
    "run = True\n",
    "fim_configs = None\n",
    "public_service = False\n",
    "max_flow_method = \"pipeline\"\n",
    "\n",
    "update_service_metadata(service, configuration, summary, description, tags, credits, egis_server, egis_folder, max_flows_sql_name=postprocess_max_flows, service_sql_name=postprocess_service, summary_sql_name=postprocess_summary, fim_service=fim_service, feature_service=feature_service, run=run, fim_configs=fim_configs, public_service=public_service, max_flow_method=max_flow_method)\n",
    "\n",
    "flow_id = '1'\n",
    "step = 'ingest'\n",
    "file_format = 'common/data/model/com/nwm/para/nwm.{{datetime:%Y%m%d}}/forcing_medium_range_blend/nwm.t{{datetime:%H}}z.medium_range_blend.forcing.f{{range:1,241,1,%03d}}.conus.nc'\n",
    "source_table = None\n",
    "target_table = None\n",
    "target_keys = None\n",
    "file_step = None\n",
    "file_window = None\n",
    "\n",
    "update_service_data_flows(service, flow_id, step, source_table, target_table, target_keys, file_step=file_step, file_window=file_window, file_format=file_format)"
   ]
  },
  {
   "cell_type": "markdown",
   "id": "4dff8ed5",
   "metadata": {},
   "source": [
    "<h3>Short-Range Accumulated Precipitation</h3>"
   ]
  },
  {
   "cell_type": "code",
   "execution_count": 119,
   "id": "a8fbcff9",
   "metadata": {},
   "outputs": [
    {
     "name": "stdout",
     "output_type": "stream",
     "text": [
      "This result object does not return rows. It has been closed automatically.\n",
      "This result object does not return rows. It has been closed automatically.\n",
      "This result object does not return rows. It has been closed automatically.\n",
      "This result object does not return rows. It has been closed automatically.\n"
     ]
    }
   ],
   "source": [
    "service = 'srf_accum_precip'\n",
    "configuration = 'forcing_short_range'\n",
    "postprocess_max_flows = None\n",
    "postprocess_service = 'srf_accum_precip'\n",
    "postprocess_summary = None\n",
    "summary = 'Short-Range Accumulated Precipitation Forecast'\n",
    "description = 'Depicts expected accumulated precipitation totals over the next 18 hours derived from the HRRR forcing for the operational National Water Model (NWM) short-range forecast. Data for each interval can be seen by using a filter to select the name of the desired layer. Updated hourly.'\n",
    "tags = 'streamflow,national,water,model,nwm'\n",
    "credits = 'National Water Model, NOAA/NWS National Water Center'\n",
    "egis_server = 'image'\n",
    "egis_folder = 'nwm'\n",
    "fim_service = False\n",
    "feature_service = False\n",
    "run = False\n",
    "fim_configs = None\n",
    "public_service = False\n",
    "max_flow_method = \"pipeline\"\n",
    "\n",
    "update_service_metadata(service, configuration, summary, description, tags, credits, egis_server, egis_folder, max_flows_sql_name=postprocess_max_flows, service_sql_name=postprocess_service, summary_sql_name=postprocess_summary, fim_service=fim_service, feature_service=feature_service, run=run, fim_configs=fim_configs, public_service=public_service, max_flow_method=max_flow_method)\n",
    "\n",
    "flow_id = '1'\n",
    "step = 'ingest'\n",
    "file_format = 'common/data/model/com/nwm/prod/nwm.{{datetime:%Y%m%d}}/forcing_short_range/nwm.t{{datetime:%H}}z.short_range.forcing.f{{range:1,19,1,%03d}}.conus.nc'\n",
    "source_table = None\n",
    "target_table = None\n",
    "target_keys = None\n",
    "file_step = None\n",
    "file_window = None\n",
    "\n",
    "update_service_data_flows(service, flow_id, step, source_table, target_table, target_keys, file_step=file_step, file_window=file_window, file_format=file_format)"
   ]
  },
  {
   "cell_type": "markdown",
   "id": "0a6d212d",
   "metadata": {},
   "source": [
    "<h3>Short-Range Accumulated Precipitation - Para</h3>"
   ]
  },
  {
   "cell_type": "code",
   "execution_count": 120,
   "id": "182aeb63",
   "metadata": {},
   "outputs": [
    {
     "name": "stdout",
     "output_type": "stream",
     "text": [
      "This result object does not return rows. It has been closed automatically.\n",
      "This result object does not return rows. It has been closed automatically.\n",
      "This result object does not return rows. It has been closed automatically.\n",
      "This result object does not return rows. It has been closed automatically.\n"
     ]
    }
   ],
   "source": [
    "service = 'srf_accum_precip_para'\n",
    "configuration = 'forcing_short_range_para'\n",
    "postprocess_max_flows = None\n",
    "postprocess_service = 'srf_accum_precip_para'\n",
    "postprocess_summary = None\n",
    "summary = 'Short-Range Accumulated Precipitation Forecast'\n",
    "description = 'Depicts expected accumulated precipitation totals over the next 18 hours derived from the HRRR forcing for the operational National Water Model (NWM) short-range forecast. Data for each interval can be seen by using a filter to select the name of the desired layer. Updated hourly.'\n",
    "tags = 'streamflow,national,water,model,nwm'\n",
    "credits = 'National Water Model, NOAA/NWS National Water Center'\n",
    "egis_server = 'image'\n",
    "egis_folder = 'para'\n",
    "fim_service = False\n",
    "feature_service = False\n",
    "run = True\n",
    "fim_configs = None\n",
    "public_service = False\n",
    "max_flow_method = \"pipeline\"\n",
    "\n",
    "update_service_metadata(service, configuration, summary, description, tags, credits, egis_server, egis_folder, max_flows_sql_name=postprocess_max_flows, service_sql_name=postprocess_service, summary_sql_name=postprocess_summary, fim_service=fim_service, feature_service=feature_service, run=run, fim_configs=fim_configs, public_service=public_service, max_flow_method=max_flow_method)\n",
    "\n",
    "flow_id = '1'\n",
    "step = 'ingest'\n",
    "file_format = 'common/data/model/com/nwm/para/nwm.{{datetime:%Y%m%d}}/forcing_short_range/nwm.t{{datetime:%H}}z.short_range.forcing.f{{range:1,19,1,%03d}}.conus.nc'\n",
    "source_table = None\n",
    "target_table = None\n",
    "target_keys = None\n",
    "file_step = None\n",
    "file_window = None\n",
    "\n",
    "update_service_data_flows(service, flow_id, step, source_table, target_table, target_keys, file_step=file_step, file_window=file_window, file_format=file_format)"
   ]
  },
  {
   "cell_type": "markdown",
   "id": "85a55ce4",
   "metadata": {},
   "source": [
    "<h3>Short-Range Accumulated Precipitation Hawaii</h3>"
   ]
  },
  {
   "cell_type": "code",
   "execution_count": 121,
   "id": "b82a031c",
   "metadata": {},
   "outputs": [
    {
     "name": "stdout",
     "output_type": "stream",
     "text": [
      "This result object does not return rows. It has been closed automatically.\n",
      "This result object does not return rows. It has been closed automatically.\n",
      "This result object does not return rows. It has been closed automatically.\n",
      "This result object does not return rows. It has been closed automatically.\n"
     ]
    }
   ],
   "source": [
    "service = 'srf_accum_precip_hi'\n",
    "configuration = 'forcing_short_range_hawaii'\n",
    "postprocess_max_flows = None\n",
    "postprocess_service = 'srf_accum_precip_hi'\n",
    "postprocess_summary = None\n",
    "summary = 'Short-Range Accumulated Precipitation Forecast Hawaii'\n",
    "description = 'Depicts expected accumulated precipitation totals over the next 48 hours derived from the NAM-Nest with HIRESW WRF-ARW forcing for the operational National Water Model (NWM) short-range forecast for the state of Hawaii. Data for each interval can be seen by using a filter to select the name of the desired layer. Updated every 12 hours.'\n",
    "tags = 'streamflow,national,water,model,nwm'\n",
    "credits = 'National Water Model, NOAA/NWS National Water Center'\n",
    "egis_server = 'image'\n",
    "egis_folder = 'nwm'\n",
    "fim_service = False\n",
    "feature_service = False\n",
    "run = False\n",
    "fim_configs = None\n",
    "public_service = False\n",
    "max_flow_method = \"pipeline\"\n",
    "\n",
    "update_service_metadata(service, configuration, summary, description, tags, credits, egis_server, egis_folder, max_flows_sql_name=postprocess_max_flows, service_sql_name=postprocess_service, summary_sql_name=postprocess_summary, fim_service=fim_service, feature_service=feature_service, run=run, fim_configs=fim_configs, public_service=public_service, max_flow_method=max_flow_method)\n",
    "\n",
    "flow_id = '1'\n",
    "step = 'ingest'\n",
    "file_format = 'common/data/model/com/nwm/prod/nwm.{{datetime:%Y%m%d}}/forcing_short_range_hawaii/nwm.t{{datetime:%H}}z.short_range.forcing.f{{range:1,49,1,%03d}}.hawaii.nc'\n",
    "source_table = None\n",
    "target_table = None\n",
    "target_keys = None\n",
    "file_step = None\n",
    "file_window = None\n",
    "\n",
    "update_service_data_flows(service, flow_id, step, source_table, target_table, target_keys, file_step=file_step, file_window=file_window, file_format=file_format)"
   ]
  },
  {
   "cell_type": "markdown",
   "id": "1c9e2554",
   "metadata": {},
   "source": [
    "<h3>Short-Range Accumulated Precipitation Hawaii - Para</h3>"
   ]
  },
  {
   "cell_type": "code",
   "execution_count": 122,
   "id": "4b46e75f",
   "metadata": {},
   "outputs": [
    {
     "name": "stdout",
     "output_type": "stream",
     "text": [
      "This result object does not return rows. It has been closed automatically.\n",
      "This result object does not return rows. It has been closed automatically.\n",
      "This result object does not return rows. It has been closed automatically.\n",
      "This result object does not return rows. It has been closed automatically.\n"
     ]
    }
   ],
   "source": [
    "service = 'srf_accum_precip_hi_para'\n",
    "configuration = 'forcing_short_range_hawaii_para'\n",
    "postprocess_max_flows = None\n",
    "postprocess_service = 'srf_accum_precip_hi_para'\n",
    "postprocess_summary = None\n",
    "summary = 'Short-Range Accumulated Precipitation Forecast Hawaii'\n",
    "description = 'Depicts expected accumulated precipitation totals over the next 48 hours derived from the NAM-Nest with HIRESW WRF-ARW forcing for the operational National Water Model (NWM) short-range forecast for the state of Hawaii. Data for each interval can be seen by using a filter to select the name of the desired layer. Updated every 12 hours.'\n",
    "tags = 'streamflow,national,water,model,nwm'\n",
    "credits = 'National Water Model, NOAA/NWS National Water Center'\n",
    "egis_server = 'image'\n",
    "egis_folder = 'para'\n",
    "fim_service = False\n",
    "feature_service = False\n",
    "run = True\n",
    "fim_configs = None\n",
    "public_service = False\n",
    "max_flow_method = \"pipeline\"\n",
    "\n",
    "update_service_metadata(service, configuration, summary, description, tags, credits, egis_server, egis_folder, max_flows_sql_name=postprocess_max_flows, service_sql_name=postprocess_service, summary_sql_name=postprocess_summary, fim_service=fim_service, feature_service=feature_service, run=run, fim_configs=fim_configs, public_service=public_service, max_flow_method=max_flow_method)\n",
    "\n",
    "flow_id = '1'\n",
    "step = 'ingest'\n",
    "file_format = 'common/data/model/com/nwm/para/nwm.{{datetime:%Y%m%d}}/forcing_short_range_hawaii/nwm.t{{datetime:%H}}z.short_range.forcing.f{{range:1,49,1,%03d}}.hawaii.nc'\n",
    "source_table = None\n",
    "target_table = None\n",
    "target_keys = None\n",
    "file_step = None\n",
    "file_window = None\n",
    "\n",
    "update_service_data_flows(service, flow_id, step, source_table, target_table, target_keys, file_step=file_step, file_window=file_window, file_format=file_format)"
   ]
  },
  {
   "cell_type": "markdown",
   "id": "f6f13f8d",
   "metadata": {},
   "source": [
    "<h3>Short-Range Accumulated Precipitation Puerto Rico</h3>"
   ]
  },
  {
   "cell_type": "code",
   "execution_count": 123,
   "id": "3fd57415",
   "metadata": {},
   "outputs": [
    {
     "name": "stdout",
     "output_type": "stream",
     "text": [
      "This result object does not return rows. It has been closed automatically.\n",
      "This result object does not return rows. It has been closed automatically.\n",
      "This result object does not return rows. It has been closed automatically.\n",
      "This result object does not return rows. It has been closed automatically.\n"
     ]
    }
   ],
   "source": [
    "service = 'srf_accum_precip_prvi'\n",
    "configuration = 'forcing_short_range_puertorico'\n",
    "postprocess_max_flows = None\n",
    "postprocess_service = 'srf_accum_precip_prvi'\n",
    "postprocess_summary = None\n",
    "summary = 'Short-Range Accumulated Precipitation Forecast Puerto Rico and Virgin Islands'\n",
    "description = 'Depicts expected accumulated precipitation totals over the next 48 hours derived from the NAM-Nest with HIRESW WRF-ARW forcing for the operational National Water Model (NWM) short-range forecast for Puerto Rico and the U.S. Virgin Islands. Data for each interval can be seen by using a filter to select the name of the desired layer. Updated every 12 hours.'\n",
    "tags = 'streamflow,national,water,model,nwm'\n",
    "credits = 'National Water Model, NOAA/NWS National Water Center'\n",
    "egis_server = 'image'\n",
    "egis_folder = 'nwm'\n",
    "fim_service = False\n",
    "feature_service = False\n",
    "run = False\n",
    "fim_configs = None\n",
    "public_service = False\n",
    "max_flow_method = \"pipeline\"\n",
    "\n",
    "update_service_metadata(service, configuration, summary, description, tags, credits, egis_server, egis_folder, max_flows_sql_name=postprocess_max_flows, service_sql_name=postprocess_service, summary_sql_name=postprocess_summary, fim_service=fim_service, feature_service=feature_service, run=run, fim_configs=fim_configs, public_service=public_service, max_flow_method=max_flow_method)\n",
    "\n",
    "flow_id = '1'\n",
    "step = 'ingest'\n",
    "file_format = 'common/data/model/com/nwm/prod/nwm.{{datetime:%Y%m%d}}/forcing_short_range_puertorico/nwm.t{{datetime:%H}}z.short_range.forcing.f{{range:1,49,1,%03d}}.puertorico.nc'\n",
    "source_table = None\n",
    "target_table = None\n",
    "target_keys = None\n",
    "file_step = None\n",
    "file_window = None\n",
    "\n",
    "update_service_data_flows(service, flow_id, step, source_table, target_table, target_keys, file_step=file_step, file_window=file_window, file_format=file_format)"
   ]
  },
  {
   "cell_type": "markdown",
   "id": "68ea537d",
   "metadata": {},
   "source": [
    "<h3>Short-Range Accumulated Precipitation Puerto Rico - Para</h3>"
   ]
  },
  {
   "cell_type": "code",
   "execution_count": 124,
   "id": "e26568e4",
   "metadata": {},
   "outputs": [
    {
     "name": "stdout",
     "output_type": "stream",
     "text": [
      "This result object does not return rows. It has been closed automatically.\n",
      "This result object does not return rows. It has been closed automatically.\n",
      "This result object does not return rows. It has been closed automatically.\n",
      "This result object does not return rows. It has been closed automatically.\n"
     ]
    }
   ],
   "source": [
    "service = 'srf_accum_precip_prvi_para'\n",
    "configuration = 'forcing_short_range_puertorico_para'\n",
    "postprocess_max_flows = None\n",
    "postprocess_service = 'srf_accum_precip_prvi_para'\n",
    "postprocess_summary = None\n",
    "summary = 'Short-Range Accumulated Precipitation Forecast Puerto Rico and Virgin Islands'\n",
    "description = 'Depicts expected accumulated precipitation totals over the next 48 hours derived from the NAM-Nest with HIRESW WRF-ARW forcing for the operational National Water Model (NWM) short-range forecast for Puerto Rico and the U.S. Virgin Islands. Data for each interval can be seen by using a filter to select the name of the desired layer. Updated every 12 hours.'\n",
    "tags = 'streamflow,national,water,model,nwm'\n",
    "credits = 'National Water Model, NOAA/NWS National Water Center'\n",
    "egis_server = 'image'\n",
    "egis_folder = 'para'\n",
    "fim_service = False\n",
    "feature_service = False\n",
    "run = True\n",
    "fim_configs = None\n",
    "public_service = False\n",
    "max_flow_method = \"pipeline\"\n",
    "\n",
    "update_service_metadata(service, configuration, summary, description, tags, credits, egis_server, egis_folder, max_flows_sql_name=postprocess_max_flows, service_sql_name=postprocess_service, summary_sql_name=postprocess_summary, fim_service=fim_service, feature_service=feature_service, run=run, fim_configs=fim_configs, public_service=public_service, max_flow_method=max_flow_method)\n",
    "\n",
    "flow_id = '1'\n",
    "step = 'ingest'\n",
    "file_format = 'common/data/model/com/nwm/para/nwm.{{datetime:%Y%m%d}}/forcing_short_range_puertorico/nwm.t{{datetime:%H}}z.short_range.forcing.f{{range:1,49,1,%03d}}.puertorico.nc'\n",
    "source_table = None\n",
    "target_table = None\n",
    "target_keys = None\n",
    "file_step = None\n",
    "file_window = None\n",
    "\n",
    "update_service_data_flows(service, flow_id, step, source_table, target_table, target_keys, file_step=file_step, file_window=file_window, file_format=file_format)"
   ]
  },
  {
   "cell_type": "markdown",
   "id": "160401dc",
   "metadata": {},
   "source": [
    "<h2><b>Forecast FIM Services</b></h2>"
   ]
  },
  {
   "cell_type": "markdown",
   "id": "37112606",
   "metadata": {},
   "source": [
    "<h3>AnA Inundation</h3>"
   ]
  },
  {
   "cell_type": "code",
   "execution_count": 125,
   "id": "fd8129f2",
   "metadata": {},
   "outputs": [
    {
     "name": "stdout",
     "output_type": "stream",
     "text": [
      "This result object does not return rows. It has been closed automatically.\n",
      "This result object does not return rows. It has been closed automatically.\n",
      "This result object does not return rows. It has been closed automatically.\n",
      "This result object does not return rows. It has been closed automatically.\n",
      "This result object does not return rows. It has been closed automatically.\n",
      "This result object does not return rows. It has been closed automatically.\n",
      "This result object does not return rows. It has been closed automatically.\n",
      "This result object does not return rows. It has been closed automatically.\n"
     ]
    }
   ],
   "source": [
    "service = 'ana_inundation'\n",
    "configuration = 'analysis_assim'\n",
    "postprocess_max_flows = ['ana_max_flows']\n",
    "postprocess_service = 'ana_inundation'\n",
    "postprocess_summary = ['{\"src_skill\":[\"ana_inundation_src_skill\"]}',\n",
    "                       '{\"building_footprints_fimpact\":[\"ana_inundation_building_footprints\",\"ana_inundation_counties\",\"ana_inundation_hucs\"]}']\n",
    "summary = 'Analysis and Assimilation Inundation'\n",
    "description = \"\"\"\n",
    "Depicts the inundation extent of the National Water Model (NWM) streamflow forecast where the NWM is signaling high water. This service is derived from the analysis and assimilation configuration of the NWM over the contiguous U.S. Shown are reaches with flow at or above high water thresholds. High water thresholds (regionally varied) and AEPs were derived using the 40-year NWM v2.1 reanalysis simulation. Updated hourly.\n",
    "\n",
    "SRC Skill: Depicts USGS sites that have an official rating curve, symbolized by the \"skill\" of the synthetic rating curve compared to the official USGS rating curve. Each point is symbolized by the mean difference in Water Surface Elevation (WSE) between the two curves.\n",
    "\n",
    "Estimated Impacted Buildings: Depicts building footprints that intersect inundation extents. The source of the building data is the FEMA USA Structures dataset: https://gis-fema.hub.arcgis.com/pages/usa-structures (as of August, 2022). Occupancy type data is only available for AL, CA, FL, GA, LA, MS, NC, SC, TX, and VA at this time. Also shown are a relative density heatmap of potentially impacted buildings (based on extent), county, and HUC level summary layers.\n",
    "\"\"\"\n",
    "tags = 'national,water,model,nwm,hand,height,above,nearest,drainage,analysis,assimilation,ana'\n",
    "credits = 'National Water Model, NOAA/NWS National Water Center'\n",
    "egis_server = 'server'\n",
    "egis_folder = 'nwm'\n",
    "fim_service = True\n",
    "feature_service = True\n",
    "run = True\n",
    "fim_configs = ['ana_inundation']\n",
    "public_service = False\n",
    "max_flow_method = \"pipeline\"\n",
    "\n",
    "update_service_metadata(service, configuration, summary, description, tags, credits, egis_server, egis_folder, max_flows_sql_name=postprocess_max_flows, service_sql_name=postprocess_service, summary_sql_name=postprocess_summary, fim_service=fim_service, feature_service=feature_service, run=run, fim_configs=fim_configs, public_service=public_service, max_flow_method=max_flow_method)\n",
    "\n",
    "flow_id = '1'\n",
    "step = 'ingest'\n",
    "file_format = 'common/data/model/com/nwm/prod/nwm.{{datetime:%Y%m%d}}/analysis_assim/nwm.t{{datetime:%H}}z.analysis_assim.channel_rt.tm00.conus.nc'\n",
    "source_table = None\n",
    "target_table = 'ingest.nwm_channel_rt_ana'\n",
    "target_keys = '(feature_id, streamflow)'\n",
    "file_step = None\n",
    "file_window = None\n",
    "\n",
    "update_service_data_flows(service, flow_id, step, source_table, target_table, target_keys, file_step=file_step, file_window=file_window, file_format=file_format)\n",
    "\n",
    "flow_id = '2'\n",
    "step = 'max_flows'\n",
    "file_format = None\n",
    "source_table = 'ingest.nwm_channel_rt_ana'\n",
    "target_table = 'cache.max_flows_ana'\n",
    "target_keys = '(feature_id, streamflow)'\n",
    "file_step = None\n",
    "file_window = None\n",
    "\n",
    "update_service_data_flows(service, flow_id, step, source_table, target_table, target_keys, file_step=file_step, file_window=file_window, file_format=file_format)\n",
    "\n",
    "flow_id = '3'\n",
    "step = 'fim_prep'\n",
    "file_format = None\n",
    "source_table = 'cache.max_flows_ana'\n",
    "target_table = 'ingest.ana_inundation'\n",
    "target_keys = '(feature_id)'\n",
    "file_step = None\n",
    "file_window = None\n",
    "\n",
    "update_service_data_flows(service, flow_id, step, source_table, target_table, target_keys, file_step=file_step, file_window=file_window, file_format=file_format)"
   ]
  },
  {
   "cell_type": "markdown",
   "id": "a316901a",
   "metadata": {},
   "source": [
    "<h3>AnA Inundation Hawaii</h3>"
   ]
  },
  {
   "cell_type": "code",
   "execution_count": 126,
   "id": "e1085978",
   "metadata": {},
   "outputs": [
    {
     "name": "stdout",
     "output_type": "stream",
     "text": [
      "This result object does not return rows. It has been closed automatically.\n",
      "This result object does not return rows. It has been closed automatically.\n",
      "This result object does not return rows. It has been closed automatically.\n",
      "This result object does not return rows. It has been closed automatically.\n",
      "This result object does not return rows. It has been closed automatically.\n",
      "This result object does not return rows. It has been closed automatically.\n",
      "This result object does not return rows. It has been closed automatically.\n",
      "This result object does not return rows. It has been closed automatically.\n"
     ]
    }
   ],
   "source": [
    "service = 'ana_inundation_hi'\n",
    "configuration = 'analysis_assim_hawaii'\n",
    "postprocess_max_flows = ['ana_max_flows_hi']\n",
    "postprocess_service = 'ana_inundation_hi'\n",
    "postprocess_summary = ['{\"building_footprints_fimpact\": [\"ana_inundation_building_footprints_hi\",\"ana_inundation_counties_hi\"]}']\n",
    "summary = 'Analysis and Assimilation Inundation Hawaii'\n",
    "description = \"\"\"Depicts the inundation extent of the National Water Model (NWM) streamflow forecast where the NWM is signaling high water. This service is derived from the analysis and assimilation configuration of the NWM over Hawaii. Shown are reaches with flow at or above high water thresholds. High water thresholds and AEPs were derived from USGS regression equations found at https://pubs.usgs.gov/sir/2010/5035/sir2010-5035_text.pdf. Updated hourly.\n",
    "\n",
    "Estimated Impacted Buildings: Depicts building footprints that intersect inundation extents. The source of the building data is the FEMA USA Structures dataset: https://gis-fema.hub.arcgis.com/pages/usa-structures (as of August, 2022). Occupancy type data is only available for AL, CA, FL, GA, LA, MS, NC, SC, TX, and VA at this time. Also shown are a relative density heatmap of potentially impacted buildings (based on extent), and county level summary layers.\n",
    "\"\"\"\n",
    "tags = 'national,water,model,nwm,hand,height,above,nearest,drainage,analysis,assimilation,ana,hawaii,hi'\n",
    "credits = 'National Water Model, NOAA/NWS National Water Center'\n",
    "egis_server = 'server'\n",
    "egis_folder = 'nwm'\n",
    "fim_service = True\n",
    "feature_service = True\n",
    "run = True\n",
    "fim_configs = ['ana_inundation_hi']\n",
    "public_service = False\n",
    "max_flow_method = \"pipeline\"\n",
    "\n",
    "update_service_metadata(service, configuration, summary, description, tags, credits, egis_server, egis_folder, max_flows_sql_name=postprocess_max_flows, service_sql_name=postprocess_service, summary_sql_name=postprocess_summary, fim_service=fim_service, feature_service=feature_service, run=run, fim_configs=fim_configs, public_service=public_service, max_flow_method=max_flow_method)\n",
    "\n",
    "flow_id = '1'\n",
    "step = 'ingest'\n",
    "file_format = 'common/data/model/com/nwm/prod/nwm.{{datetime:%Y%m%d}}/analysis_assim_hawaii/nwm.t{{datetime:%H}}z.analysis_assim.channel_rt.tm0000.hawaii.nc'\n",
    "source_table = None\n",
    "target_table = 'ingest.nwm_channel_rt_ana_hi'\n",
    "target_keys = '(feature_id, streamflow)'\n",
    "file_step = None\n",
    "file_window = None\n",
    "\n",
    "update_service_data_flows(service, flow_id, step, source_table, target_table, target_keys, file_step=file_step, file_window=file_window, file_format=file_format)\n",
    "\n",
    "flow_id = '2'\n",
    "step = 'max_flows'\n",
    "file_format = None\n",
    "source_table = 'ingest.nwm_channel_rt_ana_hi'\n",
    "target_table = 'cache.max_flows_ana_hi'\n",
    "target_keys = '(feature_id, streamflow)'\n",
    "file_step = None\n",
    "file_window = None\n",
    "\n",
    "update_service_data_flows(service, flow_id, step, source_table, target_table, target_keys, file_step=file_step, file_window=file_window, file_format=file_format)\n",
    "\n",
    "flow_id = '3'\n",
    "step = 'fim_prep'\n",
    "file_format = None\n",
    "source_table = 'cache.max_flows_ana_hi'\n",
    "target_table = 'ingest.ana_inundation_hi'\n",
    "target_keys = '(feature_id)'\n",
    "file_step = None\n",
    "file_window = None\n",
    "\n",
    "update_service_data_flows(service, flow_id, step, source_table, target_table, target_keys, file_step=file_step, file_window=file_window, file_format=file_format)"
   ]
  },
  {
   "cell_type": "markdown",
   "id": "f04f6412",
   "metadata": {},
   "source": [
    "<h3>AnA Inundation Puerto Rico</h3>"
   ]
  },
  {
   "cell_type": "code",
   "execution_count": 127,
   "id": "17235e97",
   "metadata": {},
   "outputs": [
    {
     "name": "stdout",
     "output_type": "stream",
     "text": [
      "This result object does not return rows. It has been closed automatically.\n",
      "This result object does not return rows. It has been closed automatically.\n",
      "This result object does not return rows. It has been closed automatically.\n",
      "This result object does not return rows. It has been closed automatically.\n",
      "This result object does not return rows. It has been closed automatically.\n",
      "This result object does not return rows. It has been closed automatically.\n",
      "This result object does not return rows. It has been closed automatically.\n",
      "This result object does not return rows. It has been closed automatically.\n"
     ]
    }
   ],
   "source": [
    "service = 'ana_inundation_prvi'\n",
    "configuration = 'analysis_assim_puertorico'\n",
    "postprocess_max_flows = ['ana_max_flows_prvi']\n",
    "postprocess_service = 'ana_inundation_prvi'\n",
    "postprocess_summary = ['{\"building_footprints_fimpact\": [\"ana_inundation_building_footprints_prvi\",\"ana_inundation_counties_prvi\"]}']\n",
    "postprocesss_summary_tables = ['ana_inundation_prvi_building_footprints_fimpact']\n",
    "summary = 'Analysis and Assimilation Inundation Puerto Rico'\n",
    "description = \"\"\"Depicts the inundation extent of the National Water Model (NWM) streamflow forecast where the NWM is signaling high water. This service is derived from the analysis and assimilation configuration of the NWM over Puerto Rico and the U.S. Virgin Islands. Shown are reaches with flow at or above high water thresholds. High water thresholds and AEPs were derived from USGS regression equations found at https://pubs.usgs.gov/wri/wri994142/pdf/wri99-4142.pdf. Updated hourly.\n",
    "\n",
    "Estimated Impacted Buildings: Depicts building footprints that intersect inundation extents. The source of the building data is the FEMA USA Structures dataset: https://gis-fema.hub.arcgis.com/pages/usa-structures (as of August, 2022). Occupancy type data is only available for AL, CA, FL, GA, LA, MS, NC, SC, TX, and VA at this time. Also shown are a relative density heatmap of potentially impacted buildings (based on extent), and county level summary layers.\n",
    "\"\"\"\n",
    "tags = 'national,water,model,nwm,hand,height,above,nearest,drainage,analysis,assimilation,ana,puerto,rico,prvi'\n",
    "credits = 'National Water Model, NOAA/NWS National Water Center'\n",
    "egis_server = 'server'\n",
    "egis_folder = 'nwm'\n",
    "fim_service = True\n",
    "feature_service = True\n",
    "run = True\n",
    "fim_configs = ['ana_inundation_prvi']\n",
    "public_service = False\n",
    "max_flow_method = \"pipeline\"\n",
    "\n",
    "update_service_metadata(service, configuration, summary, description, tags, credits, egis_server, egis_folder, max_flows_sql_name=postprocess_max_flows, service_sql_name=postprocess_service, summary_sql_name=postprocess_summary, fim_service=fim_service, feature_service=feature_service, run=run, fim_configs=fim_configs, public_service=public_service, max_flow_method=max_flow_method)\n",
    "\n",
    "flow_id = '1'\n",
    "step = 'ingest'\n",
    "file_format = 'common/data/model/com/nwm/prod/nwm.{{datetime:%Y%m%d}}/analysis_assim_puertorico/nwm.t{{datetime:%H}}z.analysis_assim.channel_rt.tm00.puertorico.nc'\n",
    "source_table = None\n",
    "target_table = 'ingest.nwm_channel_rt_ana_prvi'\n",
    "target_keys = '(feature_id, streamflow)'\n",
    "file_step = None\n",
    "file_window = None\n",
    "\n",
    "update_service_data_flows(service, flow_id, step, source_table, target_table, target_keys, file_step=file_step, file_window=file_window, file_format=file_format)\n",
    "\n",
    "flow_id = '2'\n",
    "step = 'max_flows'\n",
    "file_format = None\n",
    "source_table = 'ingest.nwm_channel_rt_ana_prvi'\n",
    "target_table = 'cache.max_flows_ana_prvi'\n",
    "target_keys = '(feature_id, streamflow)'\n",
    "file_step = None\n",
    "file_window = None\n",
    "\n",
    "update_service_data_flows(service, flow_id, step, source_table, target_table, target_keys, file_step=file_step, file_window=file_window, file_format=file_format)\n",
    "\n",
    "flow_id = '3'\n",
    "step = 'fim_prep'\n",
    "file_format = None\n",
    "source_table = 'cache.max_flows_ana_prvi'\n",
    "target_table = 'ingest.ana_inundation_prvi'\n",
    "target_keys = '(feature_id)'\n",
    "file_step = None\n",
    "file_window = None\n",
    "\n",
    "update_service_data_flows(service, flow_id, step, source_table, target_table, target_keys, file_step=file_step, file_window=file_window, file_format=file_format)"
   ]
  },
  {
   "cell_type": "markdown",
   "id": "57ed42ec",
   "metadata": {},
   "source": [
    "<h3>AnA Past 14-Day Inundation</h3>"
   ]
  },
  {
   "cell_type": "code",
   "execution_count": 151,
   "id": "9c5fada2",
   "metadata": {},
   "outputs": [
    {
     "name": "stdout",
     "output_type": "stream",
     "text": [
      "This result object does not return rows. It has been closed automatically.\n",
      "This result object does not return rows. It has been closed automatically.\n",
      "This result object does not return rows. It has been closed automatically.\n",
      "This result object does not return rows. It has been closed automatically.\n",
      "This result object does not return rows. It has been closed automatically.\n",
      "This result object does not return rows. It has been closed automatically.\n",
      "This result object does not return rows. It has been closed automatically.\n",
      "This result object does not return rows. It has been closed automatically.\n",
      "This result object does not return rows. It has been closed automatically.\n",
      "This result object does not return rows. It has been closed automatically.\n"
     ]
    }
   ],
   "source": [
    "service = 'ana_past_14day_max_inundation'\n",
    "configuration = 'analysis_assim_14day'\n",
    "postprocess_max_flows = [\"ana_14day_max_flows\"]\n",
    "postprocess_service = \"ana_past_14day_max_inundation\"\n",
    "postprocess_summary =['{\"7day_src_skill\":[\"ana_past_14day_max_inundation_7day_src_skill\"]}',\n",
    "                      '{\"7day_building_footprints_fimpact\":[\"ana_past_14day_max_inundation_7day_building_footprints\",\"ana_past_14day_max_inundation_7day_counties\",\"ana_past_14day_max_inundation_7day_hucs\"]}',\n",
    "                      '{\"14day_src_skill\":[\"ana_past_14day_max_inundation_14day_src_skill\"]}',\n",
    "                      '{\"14day_building_footprints_fimpact\":[\"ana_past_14day_max_inundation_14day_building_footprints\",\"ana_past_14day_max_inundation_14day_counties\",\"ana_past_14day_max_inundation_14day_hucs\"]}']\n",
    "summary = 'Analysis and Assimilation Past 14 Day Inundation'\n",
    "description = \"\"\"Depicts the inundation extent of the peak NWM streamflow analysis over the past 14 days where the National Water Model (NWM) signaled high water. This service is derived from the analysis and assimilation configuration of the NWM over the contiguous U.S. Shown are reaches with flow at or above high water thresholds. High water thresholds (regionally varied) and AEPs were derived using the 40-year NWM v2.1 reanalysis simulation. Updated daily.\n",
    "\n",
    "SRC Skill: Depicts USGS sites that have an official rating curve, symbolized by the \"skill\" of the synthetic rating curve compared to the official USGS rating curve. Each point is symbolized by the mean difference in Water Surface Elevation (WSE) between the two curves.\n",
    "\n",
    "Estimated Impacted Buildings: Depicts building footprints that intersect inundation extents. The source of the building data is the FEMA USA Structures dataset: https://gis-fema.hub.arcgis.com/pages/usa-structures (as of August, 2022). Occupancy type data is only available for AL, CA, FL, GA, LA, MS, NC, SC, TX, and VA at this time. Also shown are a relative density heatmap of potentially impacted buildings (based on extent), county, and HUC level summary layers.\n",
    "\"\"\"\n",
    "tags = 'national,water,model,nwm,hand,height,above,nearest,drainage,analysis,assimilation,ana,14day'\n",
    "credits = 'National Water Model, NOAA/NWS National Water Center'\n",
    "egis_server = 'server'\n",
    "egis_folder = 'nwm'\n",
    "fim_service = True\n",
    "feature_service = True\n",
    "run = True\n",
    "fim_configs = ['ana_past_14day_max_inundation_7d', 'ana_past_14day_max_inundation_14d']\n",
    "public_service = False\n",
    "max_flow_method = \"pipeline\"\n",
    "\n",
    "update_service_metadata(service, configuration, summary, description, tags, credits, egis_server, egis_folder, max_flows_sql_name=postprocess_max_flows, service_sql_name=postprocess_service, summary_sql_name=postprocess_summary, fim_service=fim_service, feature_service=feature_service, run=run, fim_configs=fim_configs, public_service=public_service, max_flow_method=max_flow_method)\n",
    "\n",
    "flow_id = '1'\n",
    "step = 'ingest'\n",
    "file_format = 'max_flows/analysis_assim_14day/{{datetime:%Y%m%d}}/ana_14day_00_max_flows.nc'\n",
    "source_table = None\n",
    "target_table = 'ingest.nwm_channel_rt_ana_14day_max'\n",
    "target_keys = '(feature_id, streamflow)'\n",
    "file_step = None\n",
    "file_window = None\n",
    "\n",
    "update_service_data_flows(service, flow_id, step, source_table, target_table, target_keys, file_step=file_step, file_window=file_window, file_format=file_format)\n",
    "\n",
    "flow_id = '2'\n",
    "step = 'ingest'\n",
    "file_format = 'max_flows/analysis_assim_14day/{{datetime:%Y%m%d}}/ana_7day_00_max_flows.nc'\n",
    "source_table = None\n",
    "target_table = 'ingest.nwm_channel_rt_ana_7day_max'\n",
    "target_keys = '(feature_id, streamflow)'\n",
    "file_step = None\n",
    "file_window = None\n",
    "\n",
    "update_service_data_flows(service, flow_id, step, source_table, target_table, target_keys, file_step=file_step, file_window=file_window, file_format=file_format)\n",
    "\n",
    "flow_id = '3'\n",
    "step = 'fim_prep'\n",
    "file_format = None\n",
    "source_table = 'cache.max_flows_ana_14day'\n",
    "target_table = 'ingest.ana_past_14day_max_inundation_7d'\n",
    "target_keys = '(feature_id)'\n",
    "file_step = None\n",
    "file_window = None\n",
    "\n",
    "update_service_data_flows(service, flow_id, step, source_table, target_table, target_keys, file_step=file_step, file_window=file_window, file_format=file_format)\n",
    "\n",
    "flow_id = '4'\n",
    "step = 'fim_prep'\n",
    "file_format = None\n",
    "source_table = 'cache.max_flows_ana_14day'\n",
    "target_table = 'ingest.ana_past_14day_max_inundation_14d'\n",
    "target_keys = '(feature_id)'\n",
    "file_step = None\n",
    "file_window = None\n",
    "\n",
    "update_service_data_flows(service, flow_id, step, source_table, target_table, target_keys, file_step=file_step, file_window=file_window, file_format=file_format)"
   ]
  },
  {
   "cell_type": "markdown",
   "id": "2ed3eb5c",
   "metadata": {},
   "source": [
    "<h3>Medium-Range Inundation</h3>"
   ]
  },
  {
   "cell_type": "code",
   "execution_count": 129,
   "id": "9eb5d683",
   "metadata": {},
   "outputs": [
    {
     "name": "stdout",
     "output_type": "stream",
     "text": [
      "This result object does not return rows. It has been closed automatically.\n",
      "This result object does not return rows. It has been closed automatically.\n",
      "This result object does not return rows. It has been closed automatically.\n",
      "This result object does not return rows. It has been closed automatically.\n",
      "This result object does not return rows. It has been closed automatically.\n",
      "This result object does not return rows. It has been closed automatically.\n",
      "This result object does not return rows. It has been closed automatically.\n",
      "This result object does not return rows. It has been closed automatically.\n",
      "This result object does not return rows. It has been closed automatically.\n",
      "This result object does not return rows. It has been closed automatically.\n",
      "This result object does not return rows. It has been closed automatically.\n",
      "This result object does not return rows. It has been closed automatically.\n"
     ]
    }
   ],
   "source": [
    "service = 'mrf_max_inundation'\n",
    "configuration = 'medium_range_mem1'\n",
    "postprocess_max_flows = ['mrf_max_flows']\n",
    "postprocess_service = 'mrf_max_inundation'\n",
    "postprocess_summary = ['{\"3day_src_skill\":[\"mrf_max_inundation_3day_src_skill\"]}',\n",
    "                       '{\"3day_building_footprints_fimpact\":[\"mrf_max_inundation_3day_building_footprints\", \"mrf_max_inundation_3day_counties\", \"mrf_max_inundation_3day_hucs\"]}',\n",
    "                       '{\"5day_src_skill\":[\"mrf_max_inundation_5day_src_skill\"]}',\n",
    "                       '{\"5day_building_footprints_fimpact\":[\"mrf_max_inundation_5day_building_footprints\", \"mrf_max_inundation_5day_counties\", \"mrf_max_inundation_5day_hucs\"]}',\n",
    "                       '{\"10day_src_skill\":[\"mrf_max_inundation_10day_src_skill\"]}',\n",
    "                       '{\"10day_building_footprints_fimpact\":[\"mrf_max_inundation_10day_building_footprints\", \"mrf_max_inundation_10day_counties\", \"mrf_max_inundation_10day_hucs\"]}']\n",
    "summary = 'Medium-Range Inundation'\n",
    "description = \"\"\"Depicts the inundation extent of the peak National Water Model (NWM) streamflow forecast over the next 3, 5, and 10 days where the NWM is signaling high water. This service is derived from the medium-range configuration of the NWM over the contiguous U.S. Shown are reaches with peak flow at or above high water thresholds. High water thresholds (regionally varied) and AEPs were derived using the 40-year NWM v2.1 reanalysis simulation. Updated every 6 hours.\n",
    "\n",
    "SRC Skill: Depicts USGS sites that have an official rating curve, symbolized by the \"skill\" of the synthetic rating curve compared to the official USGS rating curve. Each point is symbolized by the mean difference in Water Surface Elevation (WSE) between the two curves.\n",
    "\n",
    "Estimated Impacted Buildings: Depicts building footprints that intersect inundation extents. The source of the building data is the FEMA USA Structures dataset: https://gis-fema.hub.arcgis.com/pages/usa-structures (as of August, 2022). Occupancy type data is only available for AL, CA, FL, GA, LA, MS, NC, SC, TX, and VA at this time. Also shown are a relative density heatmap of potentially impacted buildings (based on extent), county, and HUC level summary layers.\n",
    "\"\"\"\n",
    "tags = 'national,water,model,nwm,hand,height,above,nearest,drainage,medium,range,10day'\n",
    "credits = 'National Water Model, NOAA/NWS National Water Center'\n",
    "egis_server = 'server'\n",
    "egis_folder = 'nwm'\n",
    "fim_service = True\n",
    "feature_service = True\n",
    "run = True\n",
    "fim_configs = ['mrf_max_inundation_3day', 'mrf_max_inundation_5day', 'mrf_max_inundation_10day']\n",
    "public_service = False\n",
    "max_flow_method = \"pipeline\"\n",
    "\n",
    "update_service_metadata(service, configuration, summary, description, tags, credits, egis_server, egis_folder, max_flows_sql_name=postprocess_max_flows, service_sql_name=postprocess_service, summary_sql_name=postprocess_summary, fim_service=fim_service, feature_service=feature_service, run=run, fim_configs=fim_configs, public_service=public_service, max_flow_method=max_flow_method)\n",
    "\n",
    "flow_id = '1'\n",
    "step = 'ingest'\n",
    "file_format = 'common/data/model/com/nwm/prod/nwm.{{datetime:%Y%m%d}}/medium_range_mem1/nwm.t{{datetime:%H}}z.medium_range.channel_rt_1.f{{range:3,243,3,%03d}}.conus.nc'\n",
    "source_table = None\n",
    "target_table = 'ingest.nwm_channel_rt_mrf_mem1'\n",
    "target_keys = '(feature_id, streamflow)'\n",
    "file_step = None\n",
    "file_window = None\n",
    "\n",
    "update_service_data_flows(service, flow_id, step, source_table, target_table, target_keys, file_step=file_step, file_window=file_window, file_format=file_format)\n",
    "\n",
    "flow_id = '2'\n",
    "step = 'max_flows'\n",
    "file_format = None\n",
    "source_table = 'ingest.nwm_channel_rt_mrf_mem1'\n",
    "target_table = 'cache.max_flows_mrf'\n",
    "target_keys = '(feature_id, streamflow)'\n",
    "file_step = None\n",
    "file_window = None\n",
    "\n",
    "update_service_data_flows(service, flow_id, step, source_table, target_table, target_keys, file_step=file_step, file_window=file_window, file_format=file_format)\n",
    "\n",
    "flow_id = '3'\n",
    "step = 'fim_prep'\n",
    "file_format = None\n",
    "source_table = 'cache.max_flows_mrf'\n",
    "target_table = 'ingest.mrf_max_inundation_3day'\n",
    "target_keys = '(feature_id)'\n",
    "file_step = None\n",
    "file_window = None\n",
    "\n",
    "update_service_data_flows(service, flow_id, step, source_table, target_table, target_keys, file_step=file_step, file_window=file_window, file_format=file_format)\n",
    "\n",
    "flow_id = '4'\n",
    "step = 'fim_prep'\n",
    "file_format = None\n",
    "source_table = 'cache.max_flows_mrf'\n",
    "target_table = 'ingest.mrf_max_inundation_5day'\n",
    "target_keys = '(feature_id)'\n",
    "file_step = None\n",
    "file_window = None\n",
    "\n",
    "update_service_data_flows(service, flow_id, step, source_table, target_table, target_keys, file_step=file_step, file_window=file_window, file_format=file_format)\n",
    "\n",
    "flow_id = '5'\n",
    "step = 'fim_prep'\n",
    "file_format = None\n",
    "source_table = 'cache.max_flows_mrf'\n",
    "target_table = 'ingest.mrf_max_inundation_10day'\n",
    "target_keys = '(feature_id)'\n",
    "file_step = None\n",
    "file_window = None\n",
    "\n",
    "update_service_data_flows(service, flow_id, step, source_table, target_table, target_keys, file_step=file_step, file_window=file_window, file_format=file_format)"
   ]
  },
  {
   "cell_type": "markdown",
   "id": "af68149c",
   "metadata": {},
   "source": [
    "<h3>RFC 5-Day Maximum Inundation</h3>"
   ]
  },
  {
   "cell_type": "code",
   "execution_count": 130,
   "id": "a6472fd3",
   "metadata": {},
   "outputs": [
    {
     "name": "stdout",
     "output_type": "stream",
     "text": [
      "This result object does not return rows. It has been closed automatically.\n",
      "This result object does not return rows. It has been closed automatically.\n",
      "This result object does not return rows. It has been closed automatically.\n",
      "This result object does not return rows. It has been closed automatically.\n",
      "This result object does not return rows. It has been closed automatically.\n",
      "This result object does not return rows. It has been closed automatically.\n"
     ]
    }
   ],
   "source": [
    "service = 'rfc_5day_max_downstream_inundation'\n",
    "configuration = 'replace_route'\n",
    "postprocess_max_flows = None\n",
    "postprocess_service = 'rfc_5day_max_downstream_inundation'\n",
    "postprocess_summary = ['{\"src_skill\":[\"rfc_5day_max_downstream_inundation_src_skill\"]}',\n",
    "                       '{\"building_footprints_fimpact\":[\"rfc_5day_max_downstream_inundation_building_footprints\", \"rfc_5day_max_downstream_inundation_counties\", \"rfc_5day_max_downstream_inundation_hucs\"]}']\n",
    "summary = 'RFC 5-Day Maximum Inundation'\n",
    "description = \"\"\"Depicts maximum inundation extent over the next 5 days derived from the official River Forecast Center (RFC) forecast routed downstream through the National Water Model (NWM) stream network. Maximum streamflows are available downstream of RFC forecast points whose forecast reaches action status or greater. Updated hourly.\n",
    "\n",
    "SRC Skill: Depicts USGS sites that have an official rating curve, symbolized by the \"skill\" of the synthetic rating curve compared to the official USGS rating curve. Each point is symbolized by the mean difference in Water Surface Elevation (WSE) between the two curves.\n",
    "\n",
    "Estimated Impacted Buildings: Depicts building footprints that intersect inundation extents. The source of the building data is the FEMA USA Structures dataset: https://gis-fema.hub.arcgis.com/pages/usa-structures (as of August, 2022). Occupancy type data is only available for AL, CA, FL, GA, LA, MS, NC, SC, TX, and VA at this time. Also shown are a relative density heatmap of potentially impacted buildings (based on extent), county, and HUC level summary layers.\n",
    "\"\"\"\n",
    "tags = 'inundation, replace and route, rfc'\n",
    "credits = 'NOAA/NWS National Water Center'\n",
    "egis_server = 'server'\n",
    "egis_folder = 'rfc'\n",
    "fim_service = True\n",
    "feature_service = True\n",
    "run = True\n",
    "fim_configs = ['rfc_5day_max_downstream_inundation']\n",
    "public_service = False\n",
    "max_flow_method = \"pipeline\"\n",
    "\n",
    "update_service_metadata(service, configuration, summary, description, tags, credits, egis_server, egis_folder, max_flows_sql_name=postprocess_max_flows, service_sql_name=postprocess_service, summary_sql_name=postprocess_summary, fim_service=fim_service, feature_service=feature_service, run=run, fim_configs=fim_configs, public_service=public_service, max_flow_method=max_flow_method)\n",
    "\n",
    "flow_id = '1'\n",
    "step = 'ingest'\n",
    "file_format = 'max_flows/replace_route/{{datetime:%Y%m%d}}/rnr_{{datetime:%H}}_max_flows.csv'\n",
    "source_table = None\n",
    "target_table = 'ingest.rnr_max_flows'\n",
    "target_keys = '(feature_id)'\n",
    "file_step = None\n",
    "file_window = None\n",
    "\n",
    "update_service_data_flows(service, flow_id, step, source_table, target_table, target_keys, file_step=file_step, file_window=file_window, file_format=file_format)\n",
    "\n",
    "flow_id = '2'\n",
    "step = 'fim_prep'\n",
    "file_format = None\n",
    "source_table = 'ingest.rnr_max_flows'\n",
    "target_table = 'ingest.rfc_5day_max_downstream_inundation'\n",
    "target_keys = '(feature_id)'\n",
    "file_step = None\n",
    "file_window = None\n",
    "\n",
    "update_service_data_flows(service, flow_id, step, source_table, target_table, target_keys, file_step=file_step, file_window=file_window, file_format=file_format)"
   ]
  },
  {
   "cell_type": "markdown",
   "id": "38ae5581",
   "metadata": {},
   "source": [
    "<h3>Short-Range Inundation</h3>"
   ]
  },
  {
   "cell_type": "code",
   "execution_count": 131,
   "id": "511e620d",
   "metadata": {},
   "outputs": [
    {
     "name": "stdout",
     "output_type": "stream",
     "text": [
      "This result object does not return rows. It has been closed automatically.\n",
      "This result object does not return rows. It has been closed automatically.\n",
      "This result object does not return rows. It has been closed automatically.\n",
      "This result object does not return rows. It has been closed automatically.\n",
      "This result object does not return rows. It has been closed automatically.\n",
      "This result object does not return rows. It has been closed automatically.\n",
      "This result object does not return rows. It has been closed automatically.\n",
      "This result object does not return rows. It has been closed automatically.\n"
     ]
    }
   ],
   "source": [
    "service = 'srf_max_inundation'\n",
    "configuration = 'short_range'\n",
    "postprocess_max_flows = ['srf_max_flows']\n",
    "postprocess_service = 'srf_max_inundation'\n",
    "postprocess_summary = ['{\"src_skill\":[\"srf_max_inundation_src_skill\"]}',\n",
    "                       '{\"building_footprints_fimpact\":[\"srf_max_inundation_building_footprints\", \"srf_max_inundation_counties\", \"srf_max_inundation_hucs\"]}']\n",
    "summary = 'Short-Range Inundation'\n",
    "description = \"\"\"Depicts the inundation extent of the peak National Water Model (NWM) streamflow forecast over the next 18 hours where the NWM is signaling high water. This service is derived from the short-range configuration of the NWM over the contiguous U.S. Shown are reaches with peak flow at or above high water thresholds. High water thresholds (regionally varied) and AEPs were derived using the 40-year NWM v2.1 reanalysis simulation. Updated hourly.\n",
    "\n",
    "SRC Skill: Depicts USGS sites that have an official rating curve, symbolized by the \"skill\" of the synthetic rating curve compared to the official USGS rating curve. Each point is symbolized by the mean difference in Water Surface Elevation (WSE) between the two curves.\n",
    "\n",
    "Estimated Impacted Buildings: Depicts building footprints that intersect inundation extents. The source of the building data is the FEMA USA Structures dataset: https://gis-fema.hub.arcgis.com/pages/usa-structures (as of August, 2022). Occupancy type data is only available for AL, CA, FL, GA, LA, MS, NC, SC, TX, and VA at this time. Also shown are a relative density heatmap of potentially impacted buildings (based on extent), county, and HUC level summary layers.\n",
    "\"\"\"\n",
    "tags = 'national,water,model,nwm,hand,height,above,nearest,drainage,short,range,srf'\n",
    "credits = 'National Water Model, NOAA/NWS National Water Center'\n",
    "egis_server = 'server'\n",
    "egis_folder = 'nwm'\n",
    "fim_service = True\n",
    "feature_service = True\n",
    "run = True\n",
    "fim_configs = ['srf_max_inundation']\n",
    "public_service = False\n",
    "max_flow_method = \"pipeline\"\n",
    "\n",
    "update_service_metadata(service, configuration, summary, description, tags, credits, egis_server, egis_folder, max_flows_sql_name=postprocess_max_flows, service_sql_name=postprocess_service, summary_sql_name=postprocess_summary, fim_service=fim_service, feature_service=feature_service, run=run, fim_configs=fim_configs, public_service=public_service, max_flow_method=max_flow_method)\n",
    "\n",
    "flow_id = '1'\n",
    "step = 'ingest'\n",
    "file_format = \"common/data/model/com/nwm/prod/nwm.{{datetime:%Y%m%d}}/short_range/nwm.t{{datetime:%H}}z.short_range.channel_rt.f{{range:1,19,1,%03d}}.conus.nc\"\n",
    "source_table = None\n",
    "target_table = 'ingest.nwm_channel_rt_srf'\n",
    "target_keys = '(feature_id, streamflow)'\n",
    "file_step = None\n",
    "file_window = None\n",
    "\n",
    "update_service_data_flows(service, flow_id, step, source_table, target_table, target_keys, file_step=file_step, file_window=file_window, file_format=file_format)\n",
    "\n",
    "flow_id = '2'\n",
    "step = 'max_flows'\n",
    "file_format = None\n",
    "source_table = 'ingest.nwm_channel_rt_srf'\n",
    "target_table = 'cache.max_flows_srf'\n",
    "target_keys = '(feature_id, streamflow)'\n",
    "file_step = None\n",
    "file_window = None\n",
    "\n",
    "update_service_data_flows(service, flow_id, step, source_table, target_table, target_keys, file_step=file_step, file_window=file_window, file_format=file_format)\n",
    "\n",
    "flow_id = '3'\n",
    "step = 'fim_prep'\n",
    "file_format = None\n",
    "source_table = 'cache.max_flows_srf'\n",
    "target_table = 'ingest.srf_max_inundation'\n",
    "target_keys = '(feature_id)'\n",
    "file_step = None\n",
    "file_window = None\n",
    "\n",
    "update_service_data_flows(service, flow_id, step, source_table, target_table, target_keys, file_step=file_step, file_window=file_window, file_format=file_format)"
   ]
  },
  {
   "cell_type": "markdown",
   "id": "cee649c3",
   "metadata": {},
   "source": [
    "<h3>Short-Range Inundation Hawaii</h3>"
   ]
  },
  {
   "cell_type": "code",
   "execution_count": 132,
   "id": "5205000d",
   "metadata": {},
   "outputs": [
    {
     "name": "stdout",
     "output_type": "stream",
     "text": [
      "This result object does not return rows. It has been closed automatically.\n",
      "This result object does not return rows. It has been closed automatically.\n",
      "This result object does not return rows. It has been closed automatically.\n",
      "This result object does not return rows. It has been closed automatically.\n",
      "This result object does not return rows. It has been closed automatically.\n",
      "This result object does not return rows. It has been closed automatically.\n",
      "This result object does not return rows. It has been closed automatically.\n",
      "This result object does not return rows. It has been closed automatically.\n"
     ]
    }
   ],
   "source": [
    "service = 'srf_max_inundation_hi'\n",
    "configuration = 'short_range_hawaii'\n",
    "postprocess_max_flows = ['srf_max_flows_hi']\n",
    "postprocess_service = 'srf_max_inundation_hi'\n",
    "postprocess_summary = ['{\"building_footprints_fimpact\":[\"srf_max_inundation_building_footprints_hi\", \"srf_max_inundation_counties_hi\"]}']\n",
    "summary = 'Short-Range Inundation Hawaii'\n",
    "description = \"\"\"Depicts the inundation extent of the peak National Water Model (NWM) streamflow forecast over the next 48 hours where the NWM is signaling high water. This service is derived from the short-range configuration of the NWM over Hawaii. Shown are reaches with peak flow at or above high water thresholds. High water thresholds and AEPs were derived from USGS regression equations found at https://pubs.usgs.gov/sir/2010/5035/sir2010-5035_text.pdf. Updated every 12 hours.\n",
    "\n",
    "Estimated Impacted Buildings: Depicts building footprints that intersect inundation extents. The source of the building data is the FEMA USA Structures dataset: https://gis-fema.hub.arcgis.com/pages/usa-structures (as of August, 2022). Occupancy type data is only available for AL, CA, FL, GA, LA, MS, NC, SC, TX, and VA at this time. Also shown are a relative density heatmap of potentially impacted buildings (based on extent), and county level summary layers.\n",
    "\"\"\"\n",
    "tags = 'national,water,model,nwm,hand,height,above,nearest,drainage,short,range,srf,hawaii,hi'\n",
    "credits = 'National Water Model, NOAA/NWS National Water Center'\n",
    "egis_server = 'server'\n",
    "egis_folder = 'nwm'\n",
    "fim_service = True\n",
    "feature_service = True\n",
    "run = True\n",
    "fim_configs = ['srf_max_inundation_hi']\n",
    "public_service = False\n",
    "max_flow_method = \"pipeline\"\n",
    "\n",
    "update_service_metadata(service, configuration, summary, description, tags, credits, egis_server, egis_folder, max_flows_sql_name=postprocess_max_flows, service_sql_name=postprocess_service, summary_sql_name=postprocess_summary, fim_service=fim_service, feature_service=feature_service, run=run, fim_configs=fim_configs, public_service=public_service, max_flow_method=max_flow_method)\n",
    "\n",
    "flow_id = '1'\n",
    "step = 'ingest'\n",
    "file_format = \"common/data/model/com/nwm/prod/nwm.{{datetime:%Y%m%d}}/short_range_hawaii/nwm.t{{datetime:%H}}z.short_range.channel_rt.f{{range:100,4900,100,%05d}}.hawaii.nc\"\n",
    "source_table = None\n",
    "target_table = 'ingest.nwm_channel_rt_srf_hi'\n",
    "target_keys = '(feature_id, streamflow)'\n",
    "file_step = None\n",
    "file_window = None\n",
    "\n",
    "update_service_data_flows(service, flow_id, step, source_table, target_table, target_keys, file_step=file_step, file_window=file_window, file_format=file_format)\n",
    "\n",
    "flow_id = '2'\n",
    "step = 'max_flows'\n",
    "file_format = None\n",
    "source_table = 'ingest.nwm_channel_rt_srf_hi'\n",
    "target_table = 'cache.max_flows_srf_hi'\n",
    "target_keys = '(feature_id, streamflow)'\n",
    "file_step = None\n",
    "file_window = None\n",
    "\n",
    "update_service_data_flows(service, flow_id, step, source_table, target_table, target_keys, file_step=file_step, file_window=file_window, file_format=file_format)\n",
    "\n",
    "flow_id = '3'\n",
    "step = 'fim_prep'\n",
    "file_format = None\n",
    "source_table = 'cache.max_flows_srf_hi'\n",
    "target_table = 'ingest.srf_max_inundation_hi'\n",
    "target_keys = '(feature_id)'\n",
    "file_step = None\n",
    "file_window = None\n",
    "\n",
    "update_service_data_flows(service, flow_id, step, source_table, target_table, target_keys, file_step=file_step, file_window=file_window, file_format=file_format)"
   ]
  },
  {
   "cell_type": "markdown",
   "id": "e875128f",
   "metadata": {},
   "source": [
    "<h3>Short-Range Inundation Puerto Rico</h3>"
   ]
  },
  {
   "cell_type": "code",
   "execution_count": 133,
   "id": "96cb9bbb",
   "metadata": {},
   "outputs": [
    {
     "name": "stdout",
     "output_type": "stream",
     "text": [
      "This result object does not return rows. It has been closed automatically.\n",
      "This result object does not return rows. It has been closed automatically.\n",
      "This result object does not return rows. It has been closed automatically.\n",
      "This result object does not return rows. It has been closed automatically.\n",
      "This result object does not return rows. It has been closed automatically.\n",
      "This result object does not return rows. It has been closed automatically.\n",
      "This result object does not return rows. It has been closed automatically.\n",
      "This result object does not return rows. It has been closed automatically.\n"
     ]
    }
   ],
   "source": [
    "service = 'srf_max_inundation_prvi'\n",
    "configuration = 'short_range_puertorico'\n",
    "postprocess_max_flows = ['srf_max_flows_prvi']\n",
    "postprocess_service = 'srf_max_inundation_prvi'\n",
    "postprocess_summary = ['{\"building_footprints_fimpact\":[\"srf_max_inundation_building_footprints_prvi\", \"srf_max_inundation_counties_prvi\"]}']\n",
    "summary = 'Short-Range Inundation Puerto Rico'\n",
    "description = \"\"\"Depicts the inundation extent of the peak National Water Model (NWM) streamflow forecast over the next 48 hours where the NWM is signaling high water. This service is derived from the short-range configuration of the NWM over Puerto Rico and the U.S. Virgin Islands. Shown are reaches with peak flow at or above high water thresholds. High water thresholds and AEPs were derived from USGS regression equations found at https://pubs.usgs.gov/wri/wri994142/pdf/wri99-4142.pdf. Updated every 12 hours.\n",
    "\n",
    "Estimated Impacted Buildings: Depicts building footprints that intersect inundation extents. The source of the building data is the FEMA USA Structures dataset: https://gis-fema.hub.arcgis.com/pages/usa-structures (as of August, 2022). Occupancy type data is only available for AL, CA, FL, GA, LA, MS, NC, SC, TX, and VA at this time. Also shown are a relative density heatmap of potentially impacted buildings (based on extent), and county level summary layers.\n",
    "\"\"\"\n",
    "tags = 'national,water,model,nwm,hand,height,above,nearest,drainage,short,range,srf,puerto,rico,prvi'\n",
    "credits = 'National Water Model, NOAA/NWS National Water Center'\n",
    "egis_server = 'server'\n",
    "egis_folder = 'nwm'\n",
    "fim_service = True\n",
    "feature_service = True\n",
    "run = True\n",
    "fim_configs = ['srf_max_inundation_prvi']\n",
    "public_service = False\n",
    "max_flow_method = \"pipeline\"\n",
    "\n",
    "update_service_metadata(service, configuration, summary, description, tags, credits, egis_server, egis_folder, max_flows_sql_name=postprocess_max_flows, service_sql_name=postprocess_service, summary_sql_name=postprocess_summary, fim_service=fim_service, feature_service=feature_service, run=run, fim_configs=fim_configs, public_service=public_service)\n",
    "\n",
    "flow_id = '1'\n",
    "step = 'ingest'\n",
    "file_format = \"common/data/model/com/nwm/prod/nwm.{{datetime:%Y%m%d}}/short_range_puertorico/nwm.t{{datetime:%H}}z.short_range.channel_rt.f{{range:1,49,1,%03d}}.puertorico.nc\"\n",
    "source_table = None\n",
    "target_table = 'ingest.nwm_channel_rt_srf_prvi'\n",
    "target_keys = '(feature_id, streamflow)'\n",
    "file_step = None\n",
    "file_window = None\n",
    "\n",
    "update_service_data_flows(service, flow_id, step, source_table, target_table, target_keys, file_step=file_step, file_window=file_window, file_format=file_format)\n",
    "\n",
    "flow_id = '2'\n",
    "step = 'max_flows'\n",
    "file_format = None\n",
    "source_table = 'ingest.nwm_channel_rt_srf_prvi'\n",
    "target_table = 'cache.max_flows_srf_prvi'\n",
    "target_keys = '(feature_id, streamflow)'\n",
    "file_step = None\n",
    "file_window = None\n",
    "\n",
    "update_service_data_flows(service, flow_id, step, source_table, target_table, target_keys, file_step=file_step, file_window=file_window, file_format=file_format)\n",
    "\n",
    "flow_id = '3'\n",
    "step = 'fim_prep'\n",
    "file_format = None\n",
    "source_table = 'cache.max_flows_srf_prvi'\n",
    "target_table = 'ingest.srf_max_inundation_prvi'\n",
    "target_keys = '(feature_id)'\n",
    "file_step = None\n",
    "file_window = None\n",
    "\n",
    "update_service_data_flows(service, flow_id, step, source_table, target_table, target_keys, file_step=file_step, file_window=file_window, file_format=file_format)"
   ]
  },
  {
   "cell_type": "markdown",
   "id": "659101e9",
   "metadata": {},
   "source": [
    "<h2><b>QC FIM Services</b></h2>"
   ]
  },
  {
   "cell_type": "markdown",
   "id": "607bfae0",
   "metadata": {},
   "source": [
    "<h3>FIM Performance</h3>"
   ]
  },
  {
   "cell_type": "code",
   "execution_count": 134,
   "id": "017b24a1",
   "metadata": {},
   "outputs": [
    {
     "name": "stdout",
     "output_type": "stream",
     "text": [
      "This result object does not return rows. It has been closed automatically.\n",
      "This result object does not return rows. It has been closed automatically.\n"
     ]
    }
   ],
   "source": [
    "service = 'fim_performance'\n",
    "configuration = 'reference'\n",
    "postprocess_max_flows = None\n",
    "postprocess_service = None\n",
    "postprocess_summary = None\n",
    "summary = 'Height Above Nearest Drainage (HAND) Flood Inundation Mapping (FIM) Performance at HUC8s and AHPS locations.'\n",
    "description = 'Depicts the HAND FIM method skill metrics at HUC8s (polygons) and AHPS locations (points). Metrics are computed through static comparison of benchmark maps to HAND maps at specific flow magnitudes (e.g. 100yr, 500yr, Action, Minor, Moderate, Major). Metrics reported are Critical Success Index (CSI), True Positive Rate (TPR) also known as Probability of Detection (POD), False Alarm Ratio (FAR), and Probability Not Detected (PND). Polygons and sites are symbolized by CSI by default; however, the other metrics (TPR, FAR, and PND) are available in the attributes for each location. For a description of how metrics are computed, see https://github.com/NOAA-OWP/inundation-mapping/wiki/Evaluating-HAND-Performance. Benchmark sources for HUC8 vary between FEMA Base Level Engineering, Iowa Flood Center, and RAS2FIM while benchmark sources for AHPS locations vary between USGS and AHPS FIM based on data availability at each HUC8 or AHPS location. Also, flow magnitudes used vary depending on the benchmark sources. Each feature represents the HAND FIM method skill metrics of unique benchmark data source and flow magnitude. This is a static service; it does not provide estimates of FIM skills in real-time. This service only shows the HAND FIM method skill as compared to benchmark maps produced for scenarios of specific magnitudes.'\n",
    "tags = 'performance, skill, csi, flood, hand, fim, inundation, height, above, nearest, drainage, ahps, usgs'\n",
    "credits = 'National Water Model, NOAA/NWS National Water Center, Advanced Hydrologic Prediction Service, USGS, Iowa Flood Center, RAS2FIM'\n",
    "egis_server = 'server'\n",
    "egis_folder = 'fim_libs'\n",
    "fim_service = False\n",
    "feature_service = False\n",
    "run = False\n",
    "fim_configs = None\n",
    "public_service = False\n",
    "max_flow_method = \"pipeline\"\n",
    "\n",
    "update_service_metadata(service, configuration, summary, description, tags, credits, egis_server, egis_folder, max_flows_sql_name=postprocess_max_flows, service_sql_name=postprocess_service, summary_sql_name=postprocess_summary, fim_service=fim_service, feature_service=feature_service, run=run, fim_configs=fim_configs, public_service=public_service, max_flow_method=max_flow_method)\n"
   ]
  },
  {
   "cell_type": "markdown",
   "id": "2d4d486d",
   "metadata": {},
   "source": [
    "<h3>Flow Based CatFIM</h3>"
   ]
  },
  {
   "cell_type": "code",
   "execution_count": 135,
   "id": "0dd2d7b3",
   "metadata": {},
   "outputs": [
    {
     "name": "stdout",
     "output_type": "stream",
     "text": [
      "This result object does not return rows. It has been closed automatically.\n",
      "This result object does not return rows. It has been closed automatically.\n"
     ]
    }
   ],
   "source": [
    "service = 'flow_based_catfim'\n",
    "configuration = 'reference'\n",
    "postprocess_max_flows = None\n",
    "postprocess_service = None\n",
    "postprocess_summary = None\n",
    "summary = 'Depicts flood inundation extents derived from official NWS category thresholds and the Height Above Nearest Drainage (HAND) technique. Official threshold discharges are used.'\n",
    "description = 'Depicts flood inundation extents derived from official NWS category thresholds and the Height Above Nearest Drainage (HAND) technique. Official threshold discharges are used for Action, Minor, Moderate, Major, and Record. Not all threshold values are available for all sites. The threshold is the lowest value in the range of values for a flood category. For example, if \\\"Action\\\" begins at 915.3 CFS and ends at 1120.5 CFS, then 915.3 CFS will be the utilized discharge value in mapping. Flood inundation maps are colored according to their category. Mapping extends 5 miles upstream and downstream of AHPS gage locations for streams of consistent stream order. This is a static service and not a forecast service.'\n",
    "credits = 'National Water Model, NOAA/NWS National Water Center, Advanced Hydrologic Prediction Service, National River Layer Database'\n",
    "egis_server = 'server'\n",
    "egis_folder = 'fim_libs'\n",
    "fim_service = False\n",
    "feature_service = False\n",
    "run = False\n",
    "fim_configs = None\n",
    "public_service = False\n",
    "max_flow_method = \"pipeline\"\n",
    "\n",
    "update_service_metadata(service, configuration, summary, description, tags, credits, egis_server, egis_folder, max_flows_sql_name=postprocess_max_flows, service_sql_name=postprocess_service, summary_sql_name=postprocess_summary, fim_service=fim_service, feature_service=feature_service, run=run, fim_configs=fim_configs, public_service=public_service, max_flow_method=max_flow_method)\n"
   ]
  },
  {
   "cell_type": "markdown",
   "id": "39f5fe13",
   "metadata": {},
   "source": [
    "<h3>CONUS Full Resolution FIM Catchment Boundaries</h3>"
   ]
  },
  {
   "cell_type": "code",
   "execution_count": 136,
   "id": "cb4e3eeb",
   "metadata": {},
   "outputs": [
    {
     "name": "stdout",
     "output_type": "stream",
     "text": [
      "This result object does not return rows. It has been closed automatically.\n",
      "This result object does not return rows. It has been closed automatically.\n"
     ]
    }
   ],
   "source": [
    "service = 'full_resolution_fim_catchments'\n",
    "configuration = 'reference'\n",
    "postprocess_max_flows = None\n",
    "postprocess_service = None\n",
    "postprocess_summary = None\n",
    "summary = 'CONUS Full Resolution FIM Catchment Boundaries'\n",
    "description = 'Depicts the catchment boundaries for the full resolution FIM HAND dataset for CONUS'\n",
    "tags = 'fim, inundation, national water model, nwm, reference'\n",
    "credits = 'National Water Model, NOAA/NWS National Water Center'\n",
    "egis_server = 'server'\n",
    "egis_folder = 'reference'\n",
    "fim_service = False\n",
    "feature_service = False\n",
    "run = False\n",
    "fim_configs = None\n",
    "public_service = False\n",
    "max_flow_method = \"pipeline\"\n",
    "\n",
    "update_service_metadata(service, configuration, summary, description, tags, credits, egis_server, egis_folder, max_flows_sql_name=postprocess_max_flows, service_sql_name=postprocess_service, summary_sql_name=postprocess_summary, fim_service=fim_service, feature_service=feature_service, run=run, fim_configs=fim_configs, public_service=public_service, max_flow_method=max_flow_method)\n"
   ]
  },
  {
   "cell_type": "markdown",
   "id": "77c7cac6",
   "metadata": {},
   "source": [
    "<h3>Hawaii Full Resolution FIM Catchment Boundaries</h3>"
   ]
  },
  {
   "cell_type": "code",
   "execution_count": 137,
   "id": "2aeb8fa5",
   "metadata": {},
   "outputs": [
    {
     "name": "stdout",
     "output_type": "stream",
     "text": [
      "This result object does not return rows. It has been closed automatically.\n",
      "This result object does not return rows. It has been closed automatically.\n"
     ]
    }
   ],
   "source": [
    "service = 'full_resolution_fim_catchments_hi'\n",
    "configuration = 'reference'\n",
    "postprocess_max_flows = None\n",
    "postprocess_service = None\n",
    "postprocess_summary = None\n",
    "summary = 'Hawaii Full Resolution FIM Catchment Boundaries'\n",
    "description = 'Depicts the catchment boundaries for the full resolution FIM HAND dataset for Hawaii'\n",
    "tags = 'fim, inundation, national water model, nwm, reference, hawaii, hi'\n",
    "credits = 'National Water Model, NOAA/NWS National Water Center'\n",
    "egis_server = 'server'\n",
    "egis_folder = 'reference'\n",
    "fim_service = False\n",
    "feature_service = False\n",
    "run = False\n",
    "fim_configs = None\n",
    "public_service = False\n",
    "max_flow_method = \"pipeline\"\n",
    "\n",
    "update_service_metadata(service, configuration, summary, description, tags, credits, egis_server, egis_folder, max_flows_sql_name=postprocess_max_flows, service_sql_name=postprocess_service, summary_sql_name=postprocess_summary, fim_service=fim_service, feature_service=feature_service, run=run, fim_configs=fim_configs, public_service=public_service, max_flow_method=max_flow_method)\n"
   ]
  },
  {
   "cell_type": "markdown",
   "id": "5963396d",
   "metadata": {},
   "source": [
    "<h3>Puerto Rico Full Resolution FIM Catchment Boundaries</h3>"
   ]
  },
  {
   "cell_type": "code",
   "execution_count": 138,
   "id": "1bf346c7",
   "metadata": {},
   "outputs": [
    {
     "name": "stdout",
     "output_type": "stream",
     "text": [
      "This result object does not return rows. It has been closed automatically.\n",
      "This result object does not return rows. It has been closed automatically.\n"
     ]
    }
   ],
   "source": [
    "service = 'full_resolution_fim_catchments_prvi'\n",
    "configuration = 'reference'\n",
    "postprocess_max_flows = None\n",
    "postprocess_service = None\n",
    "postprocess_summary = None\n",
    "summary = 'Puerto Rico Full Resolution FIM Catchment Boundaries'\n",
    "description = 'Depicts the catchment boundaries for the full resolution FIM HAND dataset for Puerto Rico and Virgin Islands'\n",
    "tags = 'fim, inundation, national water model, nwm, reference, puertorico, prvi'\n",
    "credits = 'National Water Model, NOAA/NWS National Water Center'\n",
    "egis_server = 'server'\n",
    "egis_folder = 'reference'\n",
    "fim_service = False\n",
    "feature_service = False\n",
    "run = False\n",
    "fim_configs = None\n",
    "public_service = False\n",
    "max_flow_method = \"pipeline\"\n",
    "\n",
    "update_service_metadata(service, configuration, summary, description, tags, credits, egis_server, egis_folder, max_flows_sql_name=postprocess_max_flows, service_sql_name=postprocess_service, summary_sql_name=postprocess_summary, fim_service=fim_service, feature_service=feature_service, run=run, fim_configs=fim_configs, public_service=public_service, max_flow_method=max_flow_method)\n"
   ]
  },
  {
   "cell_type": "markdown",
   "id": "5bc6e024",
   "metadata": {},
   "source": [
    "<h3>CONUS Main Stem FIM Catchment Boundaries</h3>"
   ]
  },
  {
   "cell_type": "code",
   "execution_count": 139,
   "id": "834ec530",
   "metadata": {},
   "outputs": [
    {
     "name": "stdout",
     "output_type": "stream",
     "text": [
      "This result object does not return rows. It has been closed automatically.\n",
      "This result object does not return rows. It has been closed automatically.\n"
     ]
    }
   ],
   "source": [
    "service = 'main_stem_fim_catchments'\n",
    "configuration = 'reference'\n",
    "postprocess_max_flows = None\n",
    "postprocess_service = None\n",
    "postprocess_summary = None\n",
    "summary = 'CONUS Main Stem FIM Catchment Boundaries'\n",
    "description = 'Depicts the catchment boundaries for the main stem FIM HAND dataset for CONUS'\n",
    "tags = 'fim, inundation, national water model, nwm, reference'\n",
    "credits = 'National Water Model, NOAA/NWS National Water Center'\n",
    "egis_server = 'server'\n",
    "egis_folder = 'reference'\n",
    "fim_service = False\n",
    "feature_service = False\n",
    "run = False\n",
    "fim_configs = None\n",
    "public_service = False\n",
    "max_flow_method = \"pipeline\"\n",
    "\n",
    "update_service_metadata(service, configuration, summary, description, tags, credits, egis_server, egis_folder, max_flows_sql_name=postprocess_max_flows, service_sql_name=postprocess_service, summary_sql_name=postprocess_summary, fim_service=fim_service, feature_service=feature_service, run=run, fim_configs=fim_configs, public_service=public_service, max_flow_method=max_flow_method)\n"
   ]
  },
  {
   "cell_type": "markdown",
   "id": "c48f923a",
   "metadata": {},
   "source": [
    "<h3>Hawaii Main Stem FIM Catchment Boundaries</h3>"
   ]
  },
  {
   "cell_type": "code",
   "execution_count": 140,
   "id": "842390fa",
   "metadata": {},
   "outputs": [
    {
     "name": "stdout",
     "output_type": "stream",
     "text": [
      "This result object does not return rows. It has been closed automatically.\n",
      "This result object does not return rows. It has been closed automatically.\n"
     ]
    }
   ],
   "source": [
    "service = 'main_stem_fim_catchments_hi'\n",
    "configuration = 'reference'\n",
    "postprocess_max_flows = None\n",
    "postprocess_service = None\n",
    "postprocess_summary = None\n",
    "summary = 'Hawaii Main Stem FIM Catchment Boundaries'\n",
    "description = 'Depicts the catchment boundaries for the main stem FIM HAND dataset for Hawaii'\n",
    "tags = 'fim, inundation, national water model, nwm, reference, hawaii, hi'\n",
    "credits = 'National Water Model, NOAA/NWS National Water Center'\n",
    "egis_server = 'server'\n",
    "egis_folder = 'reference'\n",
    "fim_service = False\n",
    "feature_service = False\n",
    "run = False\n",
    "fim_configs = None\n",
    "public_service = False\n",
    "max_flow_method = \"pipeline\"\n",
    "\n",
    "update_service_metadata(service, configuration, summary, description, tags, credits, egis_server, egis_folder, max_flows_sql_name=postprocess_max_flows, service_sql_name=postprocess_service, summary_sql_name=postprocess_summary, fim_service=fim_service, feature_service=feature_service, run=run, fim_configs=fim_configs, public_service=public_service, max_flow_method=max_flow_method)\n"
   ]
  },
  {
   "cell_type": "markdown",
   "id": "7e1e2629",
   "metadata": {},
   "source": [
    "<h3>Puerto Rico Main Stem FIM Catchment Boundaries</h3>"
   ]
  },
  {
   "cell_type": "code",
   "execution_count": 141,
   "id": "330abcc1",
   "metadata": {},
   "outputs": [
    {
     "name": "stdout",
     "output_type": "stream",
     "text": [
      "This result object does not return rows. It has been closed automatically.\n",
      "This result object does not return rows. It has been closed automatically.\n"
     ]
    }
   ],
   "source": [
    "service = 'main_stem_fim_catchments_prvi'\n",
    "configuration = 'reference'\n",
    "postprocess_max_flows = None\n",
    "postprocess_service = None\n",
    "postprocess_summary = None\n",
    "summary = 'Puerto Rico Main Stem FIM Catchment Boundaries'\n",
    "description = 'Depicts the catchment boundaries for the main stem FIM HAND dataset for Puerto Rico and Virgin Islands'\n",
    "tags = 'fim, inundation, national water model, nwm, reference, puertorico, prvi'\n",
    "credits = 'National Water Model, NOAA/NWS National Water Center'\n",
    "egis_server = 'server'\n",
    "egis_folder = 'reference'\n",
    "fim_service = False\n",
    "feature_service = False\n",
    "run = False\n",
    "fim_configs = None\n",
    "public_service = False\n",
    "max_flow_method = \"pipeline\"\n",
    "\n",
    "update_service_metadata(service, configuration, summary, description, tags, credits, egis_server, egis_folder, max_flows_sql_name=postprocess_max_flows, service_sql_name=postprocess_service, summary_sql_name=postprocess_summary, fim_service=fim_service, feature_service=feature_service, run=run, fim_configs=fim_configs, public_service=public_service, max_flow_method=max_flow_method)\n"
   ]
  },
  {
   "cell_type": "markdown",
   "id": "64d02b44",
   "metadata": {},
   "source": [
    "<h3>NWM Annual Exceedance Probability FIM</h3>"
   ]
  },
  {
   "cell_type": "code",
   "execution_count": 142,
   "id": "1f945a22",
   "metadata": {},
   "outputs": [
    {
     "name": "stdout",
     "output_type": "stream",
     "text": [
      "This result object does not return rows. It has been closed automatically.\n",
      "This result object does not return rows. It has been closed automatically.\n"
     ]
    }
   ],
   "source": [
    "service = 'nwm_aep_fim'\n",
    "configuration = 'reference'\n",
    "postprocess_max_flows = None\n",
    "postprocess_service = None\n",
    "postprocess_summary = None\n",
    "summary = 'Depicts flood inundation extents derived from NWM high water threshold, annual exceedance probabilities and the Height Above Nearest Drainage (HAND) technique.'\n",
    "description = 'Depicts the inundation extent of the National Water Model (NWM) high water threshold and annual exceedance probabilities. High water thresholds (regionally varied) and AEPs were derived using the 40-year NWM v2.1 reanalysis simulation. This is a static service and not a forecast service.'\n",
    "tags = 'nws, flood, categorical, hand, fim, inundation, height, above, nearest, drainage, aep, recurrence'\n",
    "credits = 'National Water Model, NOAA/NWS National Water Center'\n",
    "egis_server = 'server'\n",
    "egis_folder = 'fim_libs'\n",
    "fim_service = True\n",
    "feature_service = False\n",
    "run = False\n",
    "fim_configs = ['rf_2_inundation', 'rf_5_inundation', 'rf_10_inundation', 'rf_25_inundation', 'rf_50_inundation', 'rf_high_water_inundation']\n",
    "public_service = False\n",
    "max_flow_method = \"pipeline\"\n",
    "\n",
    "update_service_metadata(service, configuration, summary, description, tags, credits, egis_server, egis_folder, max_flows_sql_name=postprocess_max_flows, service_sql_name=postprocess_service, summary_sql_name=postprocess_summary, fim_service=fim_service, feature_service=feature_service, run=run, fim_configs=fim_configs, public_service=public_service, max_flow_method=max_flow_method)\n"
   ]
  },
  {
   "cell_type": "markdown",
   "id": "d83b86e5",
   "metadata": {},
   "source": [
    "<h3>NWM Waterbodies</h3>"
   ]
  },
  {
   "cell_type": "code",
   "execution_count": 143,
   "id": "ecccd216",
   "metadata": {},
   "outputs": [
    {
     "name": "stdout",
     "output_type": "stream",
     "text": [
      "This result object does not return rows. It has been closed automatically.\n",
      "This result object does not return rows. It has been closed automatically.\n"
     ]
    }
   ],
   "source": [
    "service = 'nwm_waterbodies'\n",
    "configuration = 'reference'\n",
    "postprocess_max_flows = None\n",
    "postprocess_service = None\n",
    "postprocess_summary = None\n",
    "summary = 'NWM Waterbodies'\n",
    "description = 'Depicts the waterbodies for the National Water Model'\n",
    "tags = 'nws, fim, reference, waterbodies'\n",
    "credits = 'National Water Model, NOAA/NWS National Water Center'\n",
    "egis_server = 'server'\n",
    "egis_folder = 'reference'\n",
    "fim_service = False\n",
    "feature_service = False\n",
    "run = False\n",
    "fim_configs = None\n",
    "public_service = False\n",
    "max_flow_method = \"pipeline\"\n",
    "\n",
    "update_service_metadata(service, configuration, summary, description, tags, credits, egis_server, egis_folder, max_flows_sql_name=postprocess_max_flows, service_sql_name=postprocess_service, summary_sql_name=postprocess_summary, fim_service=fim_service, feature_service=feature_service, run=run, fim_configs=fim_configs, public_service=public_service)\n"
   ]
  },
  {
   "cell_type": "markdown",
   "id": "c5d7a979",
   "metadata": {},
   "source": [
    "<h3>Possible Coastal Omission for FIM</h3>"
   ]
  },
  {
   "cell_type": "code",
   "execution_count": 144,
   "id": "bdba4ada",
   "metadata": {},
   "outputs": [
    {
     "name": "stdout",
     "output_type": "stream",
     "text": [
      "This result object does not return rows. It has been closed automatically.\n",
      "This result object does not return rows. It has been closed automatically.\n"
     ]
    }
   ],
   "source": [
    "service = 'possible_coastal_omission'\n",
    "configuration = 'reference'\n",
    "postprocess_max_flows = None\n",
    "postprocess_service = None\n",
    "postprocess_summary = None\n",
    "summary = 'Coastal Regions where coastal flooding processes are not being considered in the visualization FIM output.'\n",
    "description = 'Depicts areas along the coast where coastal flooding processes are not being considered in the visualization FIM output.'\n",
    "tags = 'national water model, nwm, reference'\n",
    "credits = 'National Water Model, NOAA/NWS National Water Center'\n",
    "egis_server = 'server'\n",
    "egis_folder = 'reference'\n",
    "fim_service = False\n",
    "feature_service = False\n",
    "run = False\n",
    "fim_configs = None\n",
    "public_service = False\n",
    "max_flow_method = \"pipeline\"\n",
    "\n",
    "update_service_metadata(service, configuration, summary, description, tags, credits, egis_server, egis_folder, max_flows_sql_name=postprocess_max_flows, service_sql_name=postprocess_service, summary_sql_name=postprocess_summary, fim_service=fim_service, feature_service=feature_service, run=run, fim_configs=fim_configs, public_service=public_service, max_flow_method=max_flow_method)\n"
   ]
  },
  {
   "cell_type": "markdown",
   "id": "dafacfa4",
   "metadata": {},
   "source": [
    "<h3>SRC Skill</h3>"
   ]
  },
  {
   "cell_type": "code",
   "execution_count": 145,
   "id": "1cdf7d53",
   "metadata": {},
   "outputs": [
    {
     "name": "stdout",
     "output_type": "stream",
     "text": [
      "This result object does not return rows. It has been closed automatically.\n",
      "This result object does not return rows. It has been closed automatically.\n"
     ]
    }
   ],
   "source": [
    "service = 'src_skill'\n",
    "configuration = 'reference'\n",
    "postprocess_max_flows = None\n",
    "postprocess_service = None\n",
    "postprocess_summary = None\n",
    "summary = 'Depicts a statistical analysis of water surface elevation (ft) between the synthetic and USGS rating curves.'\n",
    "description = 'depicts the mean difference in water surface elevation (ft) of the synthetic and USGS rating curves. The service also includes the following additional statistical attributes: \"Mean Absolute Difference in Water Surface Elevation (ft)\", \"NMRSE\" and \"Bias (%)\".'\n",
    "tags = 'nws, flood, categorical, hand, fim, rating, curve'\n",
    "credits = 'National Water Model, NOAA/NWS National Water Center, Advanced Hydrologic Prediction Service'\n",
    "egis_server = 'server'\n",
    "egis_folder = 'fim_libs'\n",
    "fim_service = False\n",
    "feature_service = False\n",
    "run = False\n",
    "fim_configs = None\n",
    "public_service = False\n",
    "max_flow_method = \"pipeline\"\n",
    "\n",
    "update_service_metadata(service, configuration, summary, description, tags, credits, egis_server, egis_folder, max_flows_sql_name=postprocess_max_flows, service_sql_name=postprocess_service, summary_sql_name=postprocess_summary, fim_service=fim_service, feature_service=feature_service, run=run, fim_configs=fim_configs, public_service=public_service, max_flow_method=max_flow_method)\n"
   ]
  },
  {
   "cell_type": "markdown",
   "id": "a01787f8",
   "metadata": {},
   "source": [
    "<h3>Stage Based CatFIM</h3>"
   ]
  },
  {
   "cell_type": "code",
   "execution_count": 146,
   "id": "790fa4b9",
   "metadata": {},
   "outputs": [
    {
     "name": "stdout",
     "output_type": "stream",
     "text": [
      "This result object does not return rows. It has been closed automatically.\n",
      "This result object does not return rows. It has been closed automatically.\n"
     ]
    }
   ],
   "source": [
    "service = 'stage_based_catfim'\n",
    "configuration = 'reference'\n",
    "postprocess_max_flows = None\n",
    "postprocess_service = None\n",
    "postprocess_summary = None\n",
    "summary = 'Depicts flood inundation extents derived from official NWS category thresholds and the Height Above Nearest Drainage (HAND) technique. Official stage thresholds are used.'\n",
    "description = 'Depicts flood inundation extents derived from official NWS category thresholds and the Height Above Nearest Drainage (HAND) technique. Official stage thresholds (converted to water surface elevation) are used. Flood inundation maps are colored according to their category. Mapping extends 5 miles upstream and downstream of AHPS gage locations for streams of consistent stream order. Not all sites are mapped due to incomplete or unacceptable gage characteristics such as altitute accuracy, datum method, etc. (this information is available in the attributes table for the \"sites\" layer. This is a static service and not a forecast service.'\n",
    "tags = 'nws, flood, categorical, hand, fim, catfim, inundation, library, rfc, height, above, nearest, drainage, ahps, usgs'\n",
    "credits = 'National Water Model, NOAA/NWS National Water Center, Advanced Hydrologic Prediction Service, National River Layer Database'\n",
    "egis_server = 'server'\n",
    "egis_folder = 'fim_libs'\n",
    "fim_service = False\n",
    "feature_service = False\n",
    "run = False\n",
    "fim_configs = None\n",
    "public_service = False\n",
    "max_flow_method = \"pipeline\"\n",
    "\n",
    "update_service_metadata(service, configuration, summary, description, tags, credits, egis_server, egis_folder, max_flows_sql_name=postprocess_max_flows, service_sql_name=postprocess_service, summary_sql_name=postprocess_summary, fim_service=fim_service, feature_service=feature_service, run=run, fim_configs=fim_configs, public_service=public_service, max_flow_method=max_flow_method)\n"
   ]
  },
  {
   "cell_type": "markdown",
   "id": "6d286b4d",
   "metadata": {},
   "source": [
    "<h2><b>Reference Services</b></h2>"
   ]
  },
  {
   "cell_type": "markdown",
   "id": "0cc20a90",
   "metadata": {},
   "source": [
    "<h3>CONUS NWM Flowlines</h3>"
   ]
  },
  {
   "cell_type": "code",
   "execution_count": 147,
   "id": "58f0cc4f",
   "metadata": {},
   "outputs": [
    {
     "name": "stdout",
     "output_type": "stream",
     "text": [
      "This result object does not return rows. It has been closed automatically.\n",
      "This result object does not return rows. It has been closed automatically.\n"
     ]
    }
   ],
   "source": [
    "service = 'nwm_flowlines'\n",
    "configuration = 'reference'\n",
    "postprocess_max_flows = None\n",
    "postprocess_service = None\n",
    "postprocess_summary = None\n",
    "summary = 'NWM Flowlines for CONUS '\n",
    "description = 'Depicts the NWM flowlines within the contiguous U.S.'\n",
    "tags = 'national water model, nwm, reference, flowlines'\n",
    "credits = 'National Water Model, NOAA/NWS National Water Center'\n",
    "egis_server = 'server'\n",
    "egis_folder = 'reference'\n",
    "fim_service = False\n",
    "feature_service = True\n",
    "run = False\n",
    "fim_configs = None\n",
    "public_service = True\n",
    "max_flow_method = \"pipeline\"\n",
    "\n",
    "update_service_metadata(service, configuration, summary, description, tags, credits, egis_server, egis_folder, max_flows_sql_name=postprocess_max_flows, service_sql_name=postprocess_service, summary_sql_name=postprocess_summary, fim_service=fim_service, feature_service=feature_service, run=run, fim_configs=fim_configs, public_service=public_service, max_flow_method=max_flow_method)\n"
   ]
  },
  {
   "cell_type": "markdown",
   "id": "cd1b318e",
   "metadata": {},
   "source": [
    "<h3>Hawaii NWM Flowines</h3>"
   ]
  },
  {
   "cell_type": "code",
   "execution_count": 148,
   "id": "1a990416",
   "metadata": {},
   "outputs": [
    {
     "name": "stdout",
     "output_type": "stream",
     "text": [
      "This result object does not return rows. It has been closed automatically.\n",
      "This result object does not return rows. It has been closed automatically.\n"
     ]
    }
   ],
   "source": [
    "service = 'nwm_flowlines_hi'\n",
    "configuration = 'reference'\n",
    "postprocess_max_flows = None\n",
    "postprocess_service = None\n",
    "postprocess_summary = None\n",
    "summary = 'NWM Flowines for Hawaii '\n",
    "description = 'Depicts the NWM flowlines in Hawaii.'\n",
    "tags = 'national water model, nwm, reference, hawaii, hi'\n",
    "credits = 'National Water Model, NOAA/NWS National Water Center'\n",
    "egis_server = 'server'\n",
    "egis_folder = 'reference'\n",
    "fim_service = False\n",
    "feature_service = True\n",
    "run = False\n",
    "fim_configs = None\n",
    "public_service = True\n",
    "max_flow_method = \"pipeline\"\n",
    "\n",
    "update_service_metadata(service, configuration, summary, description, tags, credits, egis_server, egis_folder, max_flows_sql_name=postprocess_max_flows, service_sql_name=postprocess_service, summary_sql_name=postprocess_summary, fim_service=fim_service, feature_service=feature_service, run=run, fim_configs=fim_configs, public_service=public_service, max_flow_method=max_flow_method)\n"
   ]
  },
  {
   "cell_type": "markdown",
   "id": "c11752cd",
   "metadata": {},
   "source": [
    "<h3>Puerto Rico NWM Flowines</h3>"
   ]
  },
  {
   "cell_type": "code",
   "execution_count": 149,
   "id": "f70581f3",
   "metadata": {},
   "outputs": [
    {
     "name": "stdout",
     "output_type": "stream",
     "text": [
      "This result object does not return rows. It has been closed automatically.\n",
      "This result object does not return rows. It has been closed automatically.\n"
     ]
    }
   ],
   "source": [
    "service = 'nwm_flowlines_prvi'\n",
    "configuration = 'reference'\n",
    "postprocess_max_flows = None\n",
    "postprocess_service = None\n",
    "postprocess_summary = None\n",
    "summary = 'NWM Flowines for Puerto Rico and the U.S. Virgin Islands'\n",
    "description = 'Depicts the NWM flowlines in Puerto Rico and the U.S. Virgin Islands.'\n",
    "tags = 'national water model, nwm, reference, puerto rico, puertorico, prvi'\n",
    "credits = 'National Water Model, NOAA/NWS National Water Center'\n",
    "egis_server = 'server'\n",
    "egis_folder = 'reference'\n",
    "fim_service = False\n",
    "feature_service = True\n",
    "run = False\n",
    "fim_configs = None\n",
    "public_service = True\n",
    "max_flow_method = \"pipeline\"\n",
    "\n",
    "update_service_metadata(service, configuration, summary, description, tags, credits, egis_server, egis_folder, max_flows_sql_name=postprocess_max_flows, service_sql_name=postprocess_service, summary_sql_name=postprocess_summary, fim_service=fim_service, feature_service=feature_service, run=run, fim_configs=fim_configs, public_service=public_service, max_flow_method=max_flow_method)\n"
   ]
  },
  {
   "cell_type": "markdown",
   "id": "39eceb84",
   "metadata": {},
   "source": [
    "<h3>Publish Code</h3>"
   ]
  },
  {
   "cell_type": "code",
   "execution_count": 150,
   "id": "376fafff",
   "metadata": {},
   "outputs": [
    {
     "name": "stdout",
     "output_type": "stream",
     "text": [
      "Attempting to publish nwm_flowlines_prvi\n"
     ]
    },
    {
     "name": "stderr",
     "output_type": "stream",
     "text": [
      "/home/ec2-user/anaconda3/envs/python3/lib/python3.6/site-packages/boto3/compat.py:88: PythonDeprecationWarning: Boto3 will no longer support Python 3.6 starting May 30, 2022. To continue receiving service updates, bug fixes, and security updates please upgrade to Python 3.7 or later. More information can be found here: https://aws.amazon.com/blogs/developer/python-support-policy-updates-for-aws-sdks-and-tools/\n",
      "  warnings.warn(warning, PythonDeprecationWarning)\n"
     ]
    }
   ],
   "source": [
    "import json\n",
    "client = boto3.client(\"lambda\")\n",
    "\n",
    "Payload = {\n",
    "    \"args\": {\n",
    "        \"service\": {\n",
    "            \"service\": service,\n",
    "            \"egis_folder\": egis_folder,\n",
    "            \"summary\": summary,\n",
    "            \"description\": description,\n",
    "            \"tags\": tags,\n",
    "            \"credits\": credits,\n",
    "            \"egis_server\": egis_server\n",
    "        }\n",
    "    }\n",
    "}\n",
    "\n",
    "print(f\"Attempting to publish {service}\")\n",
    "response = client.invoke(\n",
    "    FunctionName='viz_publish_service_ti',\n",
    "    InvocationType='RequestResponse',\n",
    "    Payload=json.dumps(Payload),\n",
    ")"
   ]
  },
  {
   "cell_type": "code",
   "execution_count": null,
   "id": "9e5674ca",
   "metadata": {},
   "outputs": [],
   "source": []
  }
 ],
 "metadata": {
  "kernelspec": {
   "display_name": "conda_python3",
   "language": "python",
   "name": "conda_python3"
  },
  "language_info": {
   "codemirror_mode": {
    "name": "ipython",
    "version": 3
   },
   "file_extension": ".py",
   "mimetype": "text/x-python",
   "name": "python",
   "nbconvert_exporter": "python",
   "pygments_lexer": "ipython3",
   "version": "3.6.13"
  },
  "vscode": {
   "interpreter": {
    "hash": "d1c915aa0f428e3c8b8c357c588125d43baebc86408f07f891f72f8ad18b9adf"
   }
  }
 },
 "nbformat": 4,
 "nbformat_minor": 5
}
