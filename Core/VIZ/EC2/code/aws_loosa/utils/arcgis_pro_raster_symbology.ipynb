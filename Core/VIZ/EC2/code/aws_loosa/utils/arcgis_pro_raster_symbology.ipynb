{
 "cells": [
  {
   "cell_type": "code",
   "execution_count": 1,
   "metadata": {},
   "outputs": [],
   "source": [
    "import numpy as np\n",
    "import matplotlib as mpl\n",
    "import matplotlib.pyplot as plt\n",
    "from IPython.display import HTML # intégration notebook\n",
    "%matplotlib inline\n",
    "\n",
    "def show_colors(colors):\n",
    "    \"\"\"\n",
    "    Draw a square for each color contained in the colors list\n",
    "    given in argument.\n",
    "    \"\"\"\n",
    "    with plt.rc_context(plt.rcParamsDefault):\n",
    "        fig = plt.figure(figsize=(6, 1), frameon=False)\n",
    "        ax = fig.add_subplot(111)\n",
    "        for x, color in enumerate(colors):\n",
    "            ax.add_patch(\n",
    "                mpl.patches.Rectangle(\n",
    "                    (x, 0), 1, 1, facecolor=color\n",
    "                )\n",
    "            )\n",
    "        ax.set_xlim((0, len(colors)))\n",
    "        ax.set_ylim((0, 1))\n",
    "        ax.set_xticks([])\n",
    "        ax.set_yticks([])\n",
    "        ax.set_aspect(\"equal\")\n",
    "    \n",
    "    return fig"
   ]
  },
  {
   "cell_type": "code",
   "execution_count": 2,
   "metadata": {},
   "outputs": [
    {
     "name": "stdout",
     "output_type": "stream",
     "text": [
      "[0.1, 0.25, 0.5, 0.75, 1, 1.25, 1.5, 1.75, 2, 2.5, 3, 4, 5, 7, 10, 15, 20, 999999]\n",
      "['0.01 - 0.1\"', '0.1 - 0.25\"', '0.25 - 0.5\"', '0.5 - 0.75\"', '0.75 - 1\"', '1 - 1.25\"', '1.25 - 1.5\"', '1.5 - 1.75\"', '1.75 - 2\"', '2 - 2.5\"', '2.5 - 3\"', '3 - 4\"', '4 - 5\"', '5 - 7\"', '7 - 10\"', '10 - 15\"', '15 - 20\"', '> 20\"']\n"
     ]
    },
    {
     "data": {
      "text/plain": [
       "<Figure size 600x100 with 1 Axes>"
      ]
     },
     "execution_count": 2,
     "metadata": {},
     "output_type": "execute_result"
    }
   ],
   "source": [
    "symbology = [\n",
    "    [[255, 171, 187, 100], 999999, '> 20\"'],\n",
    "    [[255, 254, 3, 100], 20, '15 - 20\"'],\n",
    "    [[255, 213, 0, 100], 15, '10 - 15\"'],\n",
    "    [[204, 133, 0, 100], 10, '7 - 10\"'],\n",
    "    [[255, 124, 10, 100], 7, '5 - 7\"'],\n",
    "    [[240, 62, 4, 100], 5, '4 - 5\"'],\n",
    "    [[205, 0, 0, 100], 4, '3 - 4\"'],\n",
    "    [[139, 0, 0, 100], 3, '2.5 - 3\"'],\n",
    "    [[125, 0, 125, 100], 2.5, '2 - 2.5\"'],\n",
    "    [[125, 0, 125, 100], 2, '1.75 - 2\"'],\n",
    "    [[124, 94, 185, 100], 1.75, '1.5 - 1.75\"'],\n",
    "    [[0, 238, 238, 100], 1.5, '1.25 - 1.5\"'],\n",
    "    [[0, 161, 215, 100], 1.25, '1 - 1.25\"'],\n",
    "    [[27, 130, 230, 100], 1, '0.75 - 1\"'],\n",
    "    [[14, 70, 125, 100], .75, '0.5 - 0.75\"'],\n",
    "    [[0, 139, 0, 100], .5, '0.25 - 0.5\"'],\n",
    "    [[0, 185, 0, 100], .25, '0.1 - 0.25\"'],\n",
    "    [[127, 255, 0, 100], .1, '0.01 - 0.1\"']\n",
    "]\n",
    "symbology.reverse()\n",
    "\n",
    "rgb_scale = [class_break[0] for class_break in symbology]\n",
    "color_scale = ['#%02x%02x%02x' % tuple(class_break[:3]) for class_break in rgb_scale]\n",
    "bound_scale = [class_break[1] for class_break in symbology]\n",
    "labels = [class_break[2] for class_break in symbology]\n",
    "print(bound_scale)\n",
    "print(labels)\n",
    "show_colors(color_scale)"
   ]
  },
  {
   "cell_type": "code",
   "execution_count": 4,
   "metadata": {},
   "outputs": [
    {
     "name": "stdout",
     "output_type": "stream",
     "text": [
      "Updating the connectionProperties of each layer...\n",
      "past_1hour_accum_precipitation.mrf\n",
      "past_3hour_accum_precipitation.mrf\n",
      "past_6hour_accum_precipitation.mrf\n",
      "past_12hour_accum_precipitation.mrf\n",
      "past_24hour_accum_precipitation.mrf\n",
      "past_48hour_accum_precipitation.mrf\n",
      "past_72hour_accum_precipitation.mrf\n"
     ]
    }
   ],
   "source": [
    "import arcpy\n",
    "aprx = arcpy.mp.ArcGISProject(\"CURRENT\")\n",
    "\n",
    "pro_map = aprx.listMaps()[0]\n",
    "class_breaks = [{\n",
    "    \"type\" : \"CIMRasterClassBreak\",\n",
    "    \"upperBound\" : value,\n",
    "    \"label\" : label,\n",
    "    \"color\" : {\"type\" : \"CIMRGBColor\", \"values\" : color}\n",
    "} for color, value, label in symbology]\n",
    "\n",
    "colorizer = {\n",
    "        \"type\" : \"CIMRasterClassifyColorizer\",\n",
    "        \"resamplingType\" : \"NearestNeighbor\",\n",
    "        \"normalizationType\" : \"Nothing\",\n",
    "        \"classificationMethod\" : \"Manual\",\n",
    "        \"classBreaks\" : class_breaks,\n",
    "        \"colorRamp\" : {\n",
    "          \"type\" : \"CIMLinearContinuousColorRamp\",\n",
    "          \"colorSpace\" : {\n",
    "            \"type\" : \"CIMICCColorSpace\",\n",
    "            \"url\" : \"Default RGB\"\n",
    "          },\n",
    "          \"fromColor\" : {\n",
    "            \"type\" : \"CIMHSVColor\",\n",
    "            \"values\" : [\n",
    "              60,\n",
    "              100,\n",
    "              96,\n",
    "              100\n",
    "            ]\n",
    "          },\n",
    "          \"toColor\" : {\n",
    "            \"type\" : \"CIMHSVColor\",\n",
    "            \"values\" : [\n",
    "              0,\n",
    "              100,\n",
    "              96,\n",
    "              100\n",
    "            ]\n",
    "          }\n",
    "        },\n",
    "}\n",
    "\n",
    "print('Updating the connectionProperties of each layer...')\n",
    "for layer in pro_map.listLayers():\n",
    "    if not layer.connectionProperties:\n",
    "        continue\n",
    "    print(layer.name)\n",
    "    layerCIM = layer.getDefinition('V2')\n",
    "    \n",
    "    layerCIM.colorizer = colorizer\n",
    "\n",
    "    layer.setDefinition(layerCIM)\n",
    "    \n",
    "    if layer.isRasterLayer:\n",
    "        continue\n",
    "\n",
    "aprx.save()"
   ]
  },
  {
   "cell_type": "code",
   "execution_count": null,
   "metadata": {},
   "outputs": [],
   "source": []
  }
 ],
 "metadata": {
  "kernelspec": {
   "display_name": "ArcGISPro",
   "language": "Python",
   "name": "python3"
  },
  "language_info": {
   "file_extension": ".py",
   "name": "python",
   "version": "3"
  }
 },
 "nbformat": 4,
 "nbformat_minor": 4
}
